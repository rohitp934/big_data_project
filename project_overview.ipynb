{
 "cells": [
  {
   "cell_type": "markdown",
   "metadata": {},
   "source": [
    "# Understanding the data\n",
    "\n",
    "Let's start by understanding our objective and the data we have selected for this task.\n",
    "\n",
    "In essence, a machine learning model functions similarly to a mathematical funcion that takes specific inputs and produces predictions. Instead of coding complex rules manually, we train the model using numerous examples, allowing it to learn the patterns. During training, we provide it with correct answers, or labels, ƒor each input, which are crucial for its learning process. Each training instance comprises a pair consisting of inputs and their corresponding labels.\n",
    "\n",
    "For this project, we aim to develop a straightforward model for land cover classification, using the [Dynamic World](https://dynamicworld.app/) dataset. The DwLCDB is a collection of land cover maps that represent the Earth's surface at a 30m resolution. Each pixel in the map is assigned a specific land cover class, such as forest, water, or urban area. The dataset contains several features, such as the spectral bands of the pixels, the land cover class, and the quality of the classification. Land cover data is vital across various fields, including climate research, energy, water, management, agriculture, conservation, and more. The framework we develop for this model can be adapted for many other similar tasks."
   ]
  },
  {
   "cell_type": "markdown",
   "metadata": {},
   "source": [
    "# Earth Engine Basics\n",
    "\n",
    "[Google Earth Engine](https://earthengine.google.com/) is a cloud-based platform that allows users to access a vast amount of geospatial data and perform complex analyses. It provides a wide range of datasets, including satellite imagery, climate data, and land cover maps. Earth Engine also offers a JavaScript API that enables users to interact with the platform and perform various geospatial tasks. It amalgamates petabytes of geospatial data and offers a suite of functions for its processing and analysis. We'll be utilizing the Earth Engine Python client library for our tasks, although you can explore different methods of interfacing with Earth Engine by checking the [API Reference](https://developers.google.com/earth-engine/apidocs) page.\n",
    "\n",
    "Here are some fundamental concepts in Earth Engine:\n",
    "\n",
    "- Band: A band is essentially a matrix, containing pixel values. Each pixel within a band holds a single numeric value, which can be in various forms such as bytes, integers, or floats.\n",
    "- [Image](https://developers.google.com/earth-engine/guides/image_overview): Images in Earth Engine consist of one or more bands, each identified by a unique name.\n",
    "- [ImageCollection](https://developers.google.com/earth-engine/guides/ic_creating): This refers to a set of images, functioning similarly to a list, containing zero or more images.\n",
    "- [Geometry](https://developers.google.com/earth-engine/guides/geometries): This typically refers to geospatial data points, which can be a single point coordinate, a polygon, or a multi-polygon.\n",
    "- [Feature](https://developers.google.com/earth-engine/guides/features): A feature in Earth Engine includes a Geometry paired with a value.\n",
    "- [FeatureCollection](https://developers.google.com/earth-engine/guides/feature_collections): Similar to ImageCollection, this is a compilation of zero or more features, comparable to a list of features.\n",
    "- [Scale](https://developers.google.com/earth-engine/guides/scale): This term describes the pixel resolution of an image, which is measured in meters."
   ]
  },
  {
   "cell_type": "code",
   "execution_count": 14,
   "metadata": {},
   "outputs": [
    {
     "data": {
      "text/html": [
       "\n",
       "            <style>\n",
       "                .geemap-dark {\n",
       "                    --jp-widgets-color: white;\n",
       "                    --jp-widgets-label-color: white;\n",
       "                    --jp-ui-font-color1: white;\n",
       "                    --jp-layout-color2: #454545;\n",
       "                    background-color: #383838;\n",
       "                }\n",
       "\n",
       "                .geemap-dark .jupyter-button {\n",
       "                    --jp-layout-color3: #383838;\n",
       "                }\n",
       "\n",
       "                .geemap-colab {\n",
       "                    background-color: var(--colab-primary-surface-color, white);\n",
       "                }\n",
       "\n",
       "                .geemap-colab .jupyter-button {\n",
       "                    --jp-layout-color3: var(--colab-primary-surface-color, white);\n",
       "                }\n",
       "            </style>\n",
       "            "
      ],
      "text/plain": [
       "<IPython.core.display.HTML object>"
      ]
     },
     "metadata": {},
     "output_type": "display_data"
    }
   ],
   "source": [
    "from datetime import datetime, timedelta\n",
    "import folium\n",
    "import ee\n",
    "\n",
    "import io\n",
    "\n",
    "from google.api_core import exceptions, retry\n",
    "import google.auth\n",
    "import numpy as np\n",
    "from numpy.lib.recfunctions import structured_to_unstructured\n",
    "import requests\n",
    "import geemap"
   ]
  },
  {
   "cell_type": "markdown",
   "metadata": {},
   "source": [
    "# Google Cloud Resources\n",
    "\n",
    "Make sure you have followed these steps to configure your Google Cloud project:\n",
    "\n",
    "Enable the APIs: [Earth Engine](https://console.cloud.google.com/flows/enableapi?apiid=earthengine.googleapis.com)\n",
    "\n",
    "Register your [Compute Engine default service account](https://signup.earthengine.google.com/#!/service_accounts) on Earth Engine.\n",
    "\n",
    "\n",
    "Once you have everything ready, you can go ahead and fill in your Google Cloud resources in the following code cell. Make sure you run it!"
   ]
  },
  {
   "cell_type": "code",
   "execution_count": 15,
   "metadata": {},
   "outputs": [
    {
     "data": {
      "text/html": [
       "\n",
       "            <style>\n",
       "                .geemap-dark {\n",
       "                    --jp-widgets-color: white;\n",
       "                    --jp-widgets-label-color: white;\n",
       "                    --jp-ui-font-color1: white;\n",
       "                    --jp-layout-color2: #454545;\n",
       "                    background-color: #383838;\n",
       "                }\n",
       "\n",
       "                .geemap-dark .jupyter-button {\n",
       "                    --jp-layout-color3: #383838;\n",
       "                }\n",
       "\n",
       "                .geemap-colab {\n",
       "                    background-color: var(--colab-primary-surface-color, white);\n",
       "                }\n",
       "\n",
       "                .geemap-colab .jupyter-button {\n",
       "                    --jp-layout-color3: var(--colab-primary-surface-color, white);\n",
       "                }\n",
       "            </style>\n",
       "            "
      ],
      "text/plain": [
       "<IPython.core.display.HTML object>"
      ]
     },
     "metadata": {},
     "output_type": "display_data"
    }
   ],
   "source": [
    "PROJECT = \"bigdata-ahhcash\""
   ]
  },
  {
   "cell_type": "code",
   "execution_count": 16,
   "metadata": {},
   "outputs": [
    {
     "data": {
      "text/html": [
       "\n",
       "            <style>\n",
       "                .geemap-dark {\n",
       "                    --jp-widgets-color: white;\n",
       "                    --jp-widgets-label-color: white;\n",
       "                    --jp-ui-font-color1: white;\n",
       "                    --jp-layout-color2: #454545;\n",
       "                    background-color: #383838;\n",
       "                }\n",
       "\n",
       "                .geemap-dark .jupyter-button {\n",
       "                    --jp-layout-color3: #383838;\n",
       "                }\n",
       "\n",
       "                .geemap-colab {\n",
       "                    background-color: var(--colab-primary-surface-color, white);\n",
       "                }\n",
       "\n",
       "                .geemap-colab .jupyter-button {\n",
       "                    --jp-layout-color3: var(--colab-primary-surface-color, white);\n",
       "                }\n",
       "            </style>\n",
       "            "
      ],
      "text/plain": [
       "<IPython.core.display.HTML object>"
      ]
     },
     "metadata": {},
     "output_type": "display_data"
    }
   ],
   "source": [
    "# Use cli to authenticate\n",
    "# !earthengine authenticate\n",
    "\n",
    "# Or use the following code to authenticate\n",
    "def initialize_ee():\n",
    "  ee.Authenticate()\n",
    "  ee.Initialize(project=PROJECT, opt_url=\"https://earthengine-highvolume.googleapis.com\")\n",
    "\n",
    "initialize_ee()"
   ]
  },
  {
   "cell_type": "code",
   "execution_count": 17,
   "metadata": {},
   "outputs": [
    {
     "data": {
      "text/html": [
       "\n",
       "            <style>\n",
       "                .geemap-dark {\n",
       "                    --jp-widgets-color: white;\n",
       "                    --jp-widgets-label-color: white;\n",
       "                    --jp-ui-font-color1: white;\n",
       "                    --jp-layout-color2: #454545;\n",
       "                    background-color: #383838;\n",
       "                }\n",
       "\n",
       "                .geemap-dark .jupyter-button {\n",
       "                    --jp-layout-color3: #383838;\n",
       "                }\n",
       "\n",
       "                .geemap-colab {\n",
       "                    background-color: var(--colab-primary-surface-color, white);\n",
       "                }\n",
       "\n",
       "                .geemap-colab .jupyter-button {\n",
       "                    --jp-layout-color3: var(--colab-primary-surface-color, white);\n",
       "                }\n",
       "            </style>\n",
       "            "
      ],
      "text/plain": [
       "<IPython.core.display.HTML object>"
      ]
     },
     "metadata": {},
     "output_type": "display_data"
    }
   ],
   "source": [
    "WORLD_POLYGONS = [\n",
    "    # Americas\n",
    "    [(-33.0, -7.0), (-55.0, 53.0), (-166.0, 65.0), (-68.0, -56.0)],\n",
    "    # Africa, Asia, Europe\n",
    "    [\n",
    "        (74.0, 71.0),\n",
    "        (166.0, 55.0),\n",
    "        (115.0, -11.0),\n",
    "        (74.0, -4.0),\n",
    "        (20.0, -38.0),\n",
    "        (-29.0, 25.0),\n",
    "    ],\n",
    "    # Australia\n",
    "    [(170.0, -47.0), (179.0, -37.0), (167.0, -12.0), (128.0, 17.0), (106.0, -29.0)],\n",
    "]\n",
    "POLYGON = [(-140.0, 60.0), (-140.0, -60.0), (-10.0, -60.0), (-10.0, 60.0)]\n",
    "\n",
    "LANDSAT_DATASET = \"LANDSAT/LC08/C02/T1_L2\"\n",
    "LANDSAT_BANDS = [\"SR_B4\", \"SR_B3\", \"SR_B2\"]\n",
    "LANDSAT_VIS_PARAMS = {\"bands\": LANDSAT_BANDS, \"min\": 0, \"max\": 0.3}\n",
    "\n",
    "SENTINEL_DATASET = \"COPERNICUS/S2_HARMONIZED\"\n",
    "SENTINEL_BANDS = [\"B4\", \"B3\", \"B2\"]\n",
    "SENTINEL_VIS_PARAMS = {\"bands\": SENTINEL_BANDS, \"min\": 0, \"max\": 3000}\n",
    "\n",
    "DYNAMIC_WORLD_DATASET = \"GOOGLE/DYNAMICWORLD/V1\""
   ]
  },
  {
   "cell_type": "markdown",
   "metadata": {},
   "source": [
    "# Helper Functions"
   ]
  },
  {
   "cell_type": "code",
   "execution_count": 36,
   "metadata": {},
   "outputs": [
    {
     "data": {
      "text/html": [
       "\n",
       "            <style>\n",
       "                .geemap-dark {\n",
       "                    --jp-widgets-color: white;\n",
       "                    --jp-widgets-label-color: white;\n",
       "                    --jp-ui-font-color1: white;\n",
       "                    --jp-layout-color2: #454545;\n",
       "                    background-color: #383838;\n",
       "                }\n",
       "\n",
       "                .geemap-dark .jupyter-button {\n",
       "                    --jp-layout-color3: #383838;\n",
       "                }\n",
       "\n",
       "                .geemap-colab {\n",
       "                    background-color: var(--colab-primary-surface-color, white);\n",
       "                }\n",
       "\n",
       "                .geemap-colab .jupyter-button {\n",
       "                    --jp-layout-color3: var(--colab-primary-surface-color, white);\n",
       "                }\n",
       "            </style>\n",
       "            "
      ],
      "text/plain": [
       "<IPython.core.display.HTML object>"
      ]
     },
     "metadata": {},
     "output_type": "display_data"
    }
   ],
   "source": [
    "def mask_sentinel2_clouds(image: ee.Image) -> ee.Image:\n",
    "    \"\"\"Mask clouds in Sentinel-2 images.\"\"\"\n",
    "    CLOUD_BIT = 10\n",
    "    CIRRUS_CLOUD_BIT = 11\n",
    "    bit_mask = (1 << CLOUD_BIT) | (1 << CIRRUS_CLOUD_BIT)\n",
    "    mask = image.select(\"QA60\").bitwiseAnd(bit_mask).eq(0)\n",
    "    return image.updateMask(mask)\n",
    "\n",
    "def mask_landsat8_clouds(image: ee.Image) -> ee.Image:\n",
    "    \"\"\"Mask clouds in Landsat 8 images.\"\"\"\n",
    "    CLOUD_SHADOW_BIT = 3\n",
    "    CLOUD_BIT = 5\n",
    "    qa = image.select('QA_PIXEL')\n",
    "    cloud_mask = qa.bitwiseAnd(1 << CLOUD_SHADOW_BIT).eq(0) \\\n",
    "                   .And(qa.bitwiseAnd(1 << CLOUD_BIT).eq(0))\n",
    "    return image.updateMask(cloud_mask)\n",
    "\n",
    "def get_landsat_image(year: int, default_value: float = 0.0) -> ee.Image:\n",
    "    \"\"\"Get a Landsat image for the given year.\"\"\"\n",
    "    return (\n",
    "        ee.ImageCollection(LANDSAT_DATASET)\n",
    "        .filterDate(f\"{year}-1-1\", f\"{year}-12-31\")\n",
    "        .map(mask_landsat8_clouds)\n",
    "        .map(apply_scale_factors)\n",
    "        .median()\n",
    "        .unmask(default_value)\n",
    "        .float()\n",
    "    )\n",
    "\n",
    "def apply_scale_factors(image):\n",
    "    \"\"\"Apply scale factors to Landsat 8 bands.\"\"\"\n",
    "    optical_bands = image.select('SR_B.').multiply(0.0000275).add(-0.2)\n",
    "    thermal_bands = image.select('ST_B.*').multiply(0.00341802).add(149.0)\n",
    "    return image.addBands(optical_bands, None, True).addBands(\n",
    "        thermal_bands, None, True\n",
    "    )\n",
    "\n",
    "def get_sentinel_image(year: int, default_value: float = 1000.0) -> ee.Image:\n",
    "    \"\"\"Get an input image for the given year.\"\"\"\n",
    "    return (\n",
    "        ee.ImageCollection(\"COPERNICUS/S2_HARMONIZED\")\n",
    "        .filterDate(f\"{year}-1-1\", f\"{year}-12-31\")\n",
    "        .filter(ee.Filter.lt(\"CLOUDY_PIXEL_PERCENTAGE\", 20))\n",
    "        .map(mask_sentinel2_clouds)\n",
    "        .select(\"B.*\")\n",
    "        .median()\n",
    "        .unmask(default_value)\n",
    "        .float()\n",
    "    )"
   ]
  },
  {
   "cell_type": "markdown",
   "metadata": {},
   "source": [
    "# Satellite Imagery Dataset Comparison\n",
    "\n",
    "The Dynamic World Land Cover Database (DwLCDB) is a collection of land cover maps that represent the Earth's surface at a 30m resolution. The dataset contains land cover classes such as forest, water, urban area, and cropland. The DwLCDB is derived from satellite imagery, such as Sentinel-2 and Landsat 8, and is available through the Google Earth Engine platform. The dataset is useful for various remote sensing applications, including land cover classification, vegetation monitoring, and change detection.\n",
    "\n",
    "### Here's a comparison of the Sentinel-2 and Landsat 8 datasets:"
   ]
  },
  {
   "cell_type": "markdown",
   "metadata": {},
   "source": [
    "### <u>Sentinel-2</u>\n",
    "\n",
    "The Sentinel-2 is a part of the European Space Agency's Copernicus program. It comprises two satellites, Sentinel-2A and Sentinel-2B, which capture high-resolution multispectral imagery of the Earth's surface. The Sentinel-2 satellites have 13 spectral bands, ranging from visible to shortwave infrared. These bands are crucial for various remote sensing applications, including land cover classification, vegetation monitoring, and change detection. The Sentinel-2 data is freely available through the Copernicus Open Access Hub and the Google Earth Engine platform. \n",
    "\n",
    "Here's a satellite image overlooking New York City, captured by the Sentinel-2 satellites. For visualization, bands (B4, B3, B2) correspond to (Red, Green, Blue) respectively."
   ]
  },
  {
   "cell_type": "code",
   "execution_count": 19,
   "metadata": {},
   "outputs": [
    {
     "data": {
      "text/html": [
       "\n",
       "            <style>\n",
       "                .geemap-dark {\n",
       "                    --jp-widgets-color: white;\n",
       "                    --jp-widgets-label-color: white;\n",
       "                    --jp-ui-font-color1: white;\n",
       "                    --jp-layout-color2: #454545;\n",
       "                    background-color: #383838;\n",
       "                }\n",
       "\n",
       "                .geemap-dark .jupyter-button {\n",
       "                    --jp-layout-color3: #383838;\n",
       "                }\n",
       "\n",
       "                .geemap-colab {\n",
       "                    background-color: var(--colab-primary-surface-color, white);\n",
       "                }\n",
       "\n",
       "                .geemap-colab .jupyter-button {\n",
       "                    --jp-layout-color3: var(--colab-primary-surface-color, white);\n",
       "                }\n",
       "            </style>\n",
       "            "
      ],
      "text/plain": [
       "<IPython.core.display.HTML object>"
      ]
     },
     "metadata": {},
     "output_type": "display_data"
    },
    {
     "data": {
      "text/html": [
       "<div style=\"width:100%;\"><div style=\"position:relative;width:100%;height:0;padding-bottom:60%;\"><span style=\"color:#565656\">Make this Notebook Trusted to load map: File -> Trust Notebook</span><iframe srcdoc=\"&lt;!DOCTYPE html&gt;\n",
       "&lt;html&gt;\n",
       "&lt;head&gt;\n",
       "    \n",
       "    &lt;meta http-equiv=&quot;content-type&quot; content=&quot;text/html; charset=UTF-8&quot; /&gt;\n",
       "    \n",
       "        &lt;script&gt;\n",
       "            L_NO_TOUCH = false;\n",
       "            L_DISABLE_3D = false;\n",
       "        &lt;/script&gt;\n",
       "    \n",
       "    &lt;style&gt;html, body {width: 100%;height: 100%;margin: 0;padding: 0;}&lt;/style&gt;\n",
       "    &lt;style&gt;#map {position:absolute;top:0;bottom:0;right:0;left:0;}&lt;/style&gt;\n",
       "    &lt;script src=&quot;https://cdn.jsdelivr.net/npm/leaflet@1.9.3/dist/leaflet.js&quot;&gt;&lt;/script&gt;\n",
       "    &lt;script src=&quot;https://code.jquery.com/jquery-3.7.1.min.js&quot;&gt;&lt;/script&gt;\n",
       "    &lt;script src=&quot;https://cdn.jsdelivr.net/npm/bootstrap@5.2.2/dist/js/bootstrap.bundle.min.js&quot;&gt;&lt;/script&gt;\n",
       "    &lt;script src=&quot;https://cdnjs.cloudflare.com/ajax/libs/Leaflet.awesome-markers/2.0.2/leaflet.awesome-markers.js&quot;&gt;&lt;/script&gt;\n",
       "    &lt;link rel=&quot;stylesheet&quot; href=&quot;https://cdn.jsdelivr.net/npm/leaflet@1.9.3/dist/leaflet.css&quot;/&gt;\n",
       "    &lt;link rel=&quot;stylesheet&quot; href=&quot;https://cdn.jsdelivr.net/npm/bootstrap@5.2.2/dist/css/bootstrap.min.css&quot;/&gt;\n",
       "    &lt;link rel=&quot;stylesheet&quot; href=&quot;https://netdna.bootstrapcdn.com/bootstrap/3.0.0/css/bootstrap.min.css&quot;/&gt;\n",
       "    &lt;link rel=&quot;stylesheet&quot; href=&quot;https://cdn.jsdelivr.net/npm/@fortawesome/fontawesome-free@6.2.0/css/all.min.css&quot;/&gt;\n",
       "    &lt;link rel=&quot;stylesheet&quot; href=&quot;https://cdnjs.cloudflare.com/ajax/libs/Leaflet.awesome-markers/2.0.2/leaflet.awesome-markers.css&quot;/&gt;\n",
       "    &lt;link rel=&quot;stylesheet&quot; href=&quot;https://cdn.jsdelivr.net/gh/python-visualization/folium/folium/templates/leaflet.awesome.rotate.min.css&quot;/&gt;\n",
       "    \n",
       "            &lt;meta name=&quot;viewport&quot; content=&quot;width=device-width,\n",
       "                initial-scale=1.0, maximum-scale=1.0, user-scalable=no&quot; /&gt;\n",
       "            &lt;style&gt;\n",
       "                #map_d03830a4d3dd6350c8235c9ef1a86a4b {\n",
       "                    position: relative;\n",
       "                    width: 100.0%;\n",
       "                    height: 100.0%;\n",
       "                    left: 0.0%;\n",
       "                    top: 0.0%;\n",
       "                }\n",
       "                .leaflet-container { font-size: 1rem; }\n",
       "            &lt;/style&gt;\n",
       "        \n",
       "&lt;/head&gt;\n",
       "&lt;body&gt;\n",
       "    \n",
       "    \n",
       "            &lt;div class=&quot;folium-map&quot; id=&quot;map_d03830a4d3dd6350c8235c9ef1a86a4b&quot; &gt;&lt;/div&gt;\n",
       "        \n",
       "&lt;/body&gt;\n",
       "&lt;script&gt;\n",
       "    \n",
       "    \n",
       "            var map_d03830a4d3dd6350c8235c9ef1a86a4b = L.map(\n",
       "                &quot;map_d03830a4d3dd6350c8235c9ef1a86a4b&quot;,\n",
       "                {\n",
       "                    center: [40.785091, -73.968285],\n",
       "                    crs: L.CRS.EPSG3857,\n",
       "                    zoom: 9,\n",
       "                    zoomControl: true,\n",
       "                    preferCanvas: false,\n",
       "                    scrollWheelZoom: false,\n",
       "                    dragging: false,\n",
       "                }\n",
       "            );\n",
       "\n",
       "            \n",
       "\n",
       "        \n",
       "    \n",
       "            var tile_layer_69d071b0b04f28917cb15abd28f625bf = L.tileLayer(\n",
       "                &quot;https://earthengine-highvolume.googleapis.com/v1/projects/ee-anirudhananth/maps/6285115cfa91aa43059760d95366b1b0-fa8c39ee1fb64b695c75b1d183309408/tiles/{z}/{x}/{y}&quot;,\n",
       "                {&quot;attribution&quot;: &quot;Map Data \\u0026copy; \\u003ca href=\\&quot;https://earthengine.google.com/\\&quot;\\u003eGoogle Earth Engine\\u003c/a\\u003e&quot;, &quot;detectRetina&quot;: false, &quot;maxNativeZoom&quot;: 18, &quot;maxZoom&quot;: 18, &quot;minZoom&quot;: 0, &quot;noWrap&quot;: false, &quot;opacity&quot;: 1, &quot;subdomains&quot;: &quot;abc&quot;, &quot;tms&quot;: false}\n",
       "            );\n",
       "        \n",
       "    \n",
       "            tile_layer_69d071b0b04f28917cb15abd28f625bf.addTo(map_d03830a4d3dd6350c8235c9ef1a86a4b);\n",
       "        \n",
       "&lt;/script&gt;\n",
       "&lt;/html&gt;\" style=\"position:absolute;width:100%;height:100%;left:0;top:0;border:none !important;\" allowfullscreen webkitallowfullscreen mozallowfullscreen></iframe></div></div>"
      ],
      "text/plain": [
       "<folium.folium.Map at 0x14493fa00>"
      ]
     },
     "execution_count": 19,
     "metadata": {},
     "output_type": "execute_result"
    }
   ],
   "source": [
    "import folium\n",
    "\n",
    "image = get_sentinel_image(2021)\n",
    "folium.Map(\n",
    "    location=(40.785091, -73.968285),\n",
    "    zoom_start=9,\n",
    "    tiles=image.getMapId(SENTINEL_VIS_PARAMS)[\"tile_fetcher\"].url_format,\n",
    "    attr='Map Data &copy; <a href=\"https://earthengine.google.com/\">Google Earth Engine</a>',\n",
    "    scrollWheelZoom=False,\n",
    "    dragging=False\n",
    ")"
   ]
  },
  {
   "cell_type": "code",
   "execution_count": 20,
   "metadata": {},
   "outputs": [
    {
     "data": {
      "text/html": [
       "\n",
       "            <style>\n",
       "                .geemap-dark {\n",
       "                    --jp-widgets-color: white;\n",
       "                    --jp-widgets-label-color: white;\n",
       "                    --jp-ui-font-color1: white;\n",
       "                    --jp-layout-color2: #454545;\n",
       "                    background-color: #383838;\n",
       "                }\n",
       "\n",
       "                .geemap-dark .jupyter-button {\n",
       "                    --jp-layout-color3: #383838;\n",
       "                }\n",
       "\n",
       "                .geemap-colab {\n",
       "                    background-color: var(--colab-primary-surface-color, white);\n",
       "                }\n",
       "\n",
       "                .geemap-colab .jupyter-button {\n",
       "                    --jp-layout-color3: var(--colab-primary-surface-color, white);\n",
       "                }\n",
       "            </style>\n",
       "            "
      ],
      "text/plain": [
       "<IPython.core.display.HTML object>"
      ]
     },
     "metadata": {},
     "output_type": "display_data"
    },
    {
     "data": {
      "text/html": [
       "<div style=\"width:100%;\"><div style=\"position:relative;width:100%;height:0;padding-bottom:60%;\"><span style=\"color:#565656\">Make this Notebook Trusted to load map: File -> Trust Notebook</span><iframe srcdoc=\"&lt;!DOCTYPE html&gt;\n",
       "&lt;html&gt;\n",
       "&lt;head&gt;\n",
       "    \n",
       "    &lt;meta http-equiv=&quot;content-type&quot; content=&quot;text/html; charset=UTF-8&quot; /&gt;\n",
       "    \n",
       "        &lt;script&gt;\n",
       "            L_NO_TOUCH = false;\n",
       "            L_DISABLE_3D = false;\n",
       "        &lt;/script&gt;\n",
       "    \n",
       "    &lt;style&gt;html, body {width: 100%;height: 100%;margin: 0;padding: 0;}&lt;/style&gt;\n",
       "    &lt;style&gt;#map {position:absolute;top:0;bottom:0;right:0;left:0;}&lt;/style&gt;\n",
       "    &lt;script src=&quot;https://cdn.jsdelivr.net/npm/leaflet@1.9.3/dist/leaflet.js&quot;&gt;&lt;/script&gt;\n",
       "    &lt;script src=&quot;https://code.jquery.com/jquery-3.7.1.min.js&quot;&gt;&lt;/script&gt;\n",
       "    &lt;script src=&quot;https://cdn.jsdelivr.net/npm/bootstrap@5.2.2/dist/js/bootstrap.bundle.min.js&quot;&gt;&lt;/script&gt;\n",
       "    &lt;script src=&quot;https://cdnjs.cloudflare.com/ajax/libs/Leaflet.awesome-markers/2.0.2/leaflet.awesome-markers.js&quot;&gt;&lt;/script&gt;\n",
       "    &lt;link rel=&quot;stylesheet&quot; href=&quot;https://cdn.jsdelivr.net/npm/leaflet@1.9.3/dist/leaflet.css&quot;/&gt;\n",
       "    &lt;link rel=&quot;stylesheet&quot; href=&quot;https://cdn.jsdelivr.net/npm/bootstrap@5.2.2/dist/css/bootstrap.min.css&quot;/&gt;\n",
       "    &lt;link rel=&quot;stylesheet&quot; href=&quot;https://netdna.bootstrapcdn.com/bootstrap/3.0.0/css/bootstrap.min.css&quot;/&gt;\n",
       "    &lt;link rel=&quot;stylesheet&quot; href=&quot;https://cdn.jsdelivr.net/npm/@fortawesome/fontawesome-free@6.2.0/css/all.min.css&quot;/&gt;\n",
       "    &lt;link rel=&quot;stylesheet&quot; href=&quot;https://cdnjs.cloudflare.com/ajax/libs/Leaflet.awesome-markers/2.0.2/leaflet.awesome-markers.css&quot;/&gt;\n",
       "    &lt;link rel=&quot;stylesheet&quot; href=&quot;https://cdn.jsdelivr.net/gh/python-visualization/folium/folium/templates/leaflet.awesome.rotate.min.css&quot;/&gt;\n",
       "    \n",
       "            &lt;meta name=&quot;viewport&quot; content=&quot;width=device-width,\n",
       "                initial-scale=1.0, maximum-scale=1.0, user-scalable=no&quot; /&gt;\n",
       "            &lt;style&gt;\n",
       "                #map_19416751361c35f0154508dc01dd3e52 {\n",
       "                    position: relative;\n",
       "                    width: 100.0%;\n",
       "                    height: 100.0%;\n",
       "                    left: 0.0%;\n",
       "                    top: 0.0%;\n",
       "                }\n",
       "                .leaflet-container { font-size: 1rem; }\n",
       "            &lt;/style&gt;\n",
       "        \n",
       "&lt;/head&gt;\n",
       "&lt;body&gt;\n",
       "    \n",
       "    \n",
       "            &lt;div class=&quot;folium-map&quot; id=&quot;map_19416751361c35f0154508dc01dd3e52&quot; &gt;&lt;/div&gt;\n",
       "        \n",
       "&lt;/body&gt;\n",
       "&lt;script&gt;\n",
       "    \n",
       "    \n",
       "            var map_19416751361c35f0154508dc01dd3e52 = L.map(\n",
       "                &quot;map_19416751361c35f0154508dc01dd3e52&quot;,\n",
       "                {\n",
       "                    center: [40.785091, -73.968285],\n",
       "                    crs: L.CRS.EPSG3857,\n",
       "                    zoom: 12,\n",
       "                    zoomControl: true,\n",
       "                    preferCanvas: false,\n",
       "                    scrollWheelZoom: false,\n",
       "                    dragging: false,\n",
       "                }\n",
       "            );\n",
       "\n",
       "            \n",
       "\n",
       "        \n",
       "    \n",
       "            var tile_layer_53ad0b88feb15fd95bca4f89dcb59d64 = L.tileLayer(\n",
       "                &quot;https://earthengine-highvolume.googleapis.com/v1/projects/ee-anirudhananth/maps/6285115cfa91aa43059760d95366b1b0-305c0f13bd0bbd2d68c216620ca57b9b/tiles/{z}/{x}/{y}&quot;,\n",
       "                {&quot;attribution&quot;: &quot;Map Data \\u0026copy; \\u003ca href=\\&quot;https://earthengine.google.com/\\&quot;\\u003eGoogle Earth Engine\\u003c/a\\u003e&quot;, &quot;detectRetina&quot;: false, &quot;maxNativeZoom&quot;: 18, &quot;maxZoom&quot;: 18, &quot;minZoom&quot;: 0, &quot;noWrap&quot;: false, &quot;opacity&quot;: 1, &quot;subdomains&quot;: &quot;abc&quot;, &quot;tms&quot;: false}\n",
       "            );\n",
       "        \n",
       "    \n",
       "            tile_layer_53ad0b88feb15fd95bca4f89dcb59d64.addTo(map_19416751361c35f0154508dc01dd3e52);\n",
       "        \n",
       "&lt;/script&gt;\n",
       "&lt;/html&gt;\" style=\"position:absolute;width:100%;height:100%;left:0;top:0;border:none !important;\" allowfullscreen webkitallowfullscreen mozallowfullscreen></iframe></div></div>"
      ],
      "text/plain": [
       "<folium.folium.Map at 0x1466cafd0>"
      ]
     },
     "execution_count": 20,
     "metadata": {},
     "output_type": "execute_result"
    }
   ],
   "source": [
    "image = get_sentinel_image(2021)\n",
    "folium.Map(\n",
    "    location=(40.785091, -73.968285),\n",
    "    zoom_start=12,\n",
    "    tiles=image.getMapId(SENTINEL_VIS_PARAMS)[\"tile_fetcher\"].url_format,\n",
    "    attr='Map Data &copy; <a href=\"https://earthengine.google.com/\">Google Earth Engine</a>',\n",
    "    scrollWheelZoom=False,\n",
    "    dragging=False\n",
    ")"
   ]
  },
  {
   "cell_type": "markdown",
   "metadata": {},
   "source": [
    "### <u>Landsat 8</u>\n",
    "\n",
    "The Landsat 8 satellite is part of the Landsat program, a joint initiative between NASA and the US Geological Survey (USGS). Landsat 8 captures multispectral imagery of the Earth's surface, with a focus on monitoring land cover, vegetation, and environmental changes. The satellite has 11 spectral bands, ranging from visible to thermal infrared. These bands are essential for various remote sensing applications, including land cover classification, crop monitoring, and forest mapping. The Landsat 8 data is freely available through the USGS Earth Explorer platform and the Google Earth Engine platform.\n",
    "\n",
    "Here's a satellite image captured by the Landsat 8 satellite, overlooking New York City. The Landsat 8 satellite also captures other bands, such as the near-infrared and shortwave infrared, which are useful for extracting additional information about the land cover and vegetation."
   ]
  },
  {
   "cell_type": "code",
   "execution_count": 37,
   "metadata": {},
   "outputs": [
    {
     "data": {
      "text/html": [
       "\n",
       "            <style>\n",
       "                .geemap-dark {\n",
       "                    --jp-widgets-color: white;\n",
       "                    --jp-widgets-label-color: white;\n",
       "                    --jp-ui-font-color1: white;\n",
       "                    --jp-layout-color2: #454545;\n",
       "                    background-color: #383838;\n",
       "                }\n",
       "\n",
       "                .geemap-dark .jupyter-button {\n",
       "                    --jp-layout-color3: #383838;\n",
       "                }\n",
       "\n",
       "                .geemap-colab {\n",
       "                    background-color: var(--colab-primary-surface-color, white);\n",
       "                }\n",
       "\n",
       "                .geemap-colab .jupyter-button {\n",
       "                    --jp-layout-color3: var(--colab-primary-surface-color, white);\n",
       "                }\n",
       "            </style>\n",
       "            "
      ],
      "text/plain": [
       "<IPython.core.display.HTML object>"
      ]
     },
     "metadata": {},
     "output_type": "display_data"
    },
    {
     "data": {
      "application/vnd.jupyter.widget-view+json": {
       "model_id": "3fb524543c524667b1f01a27b55c0715",
       "version_major": 2,
       "version_minor": 0
      },
      "text/plain": [
       "Map(center=[40.785091, -73.968285], controls=(WidgetControl(options=['position', 'transparent_bg'], widget=Sea…"
      ]
     },
     "execution_count": 37,
     "metadata": {},
     "output_type": "execute_result"
    }
   ],
   "source": [
    "dataset = get_landsat_image(2021)\n",
    "m = geemap.Map()\n",
    "m.set_center(-73.968285, 40.785091, 9)\n",
    "m.scroll_wheel_zoom = False\n",
    "m.dragging = False\n",
    "m.add_layer(dataset, LANDSAT_VIS_PARAMS, 'Landsat 8 Satellite Image')\n",
    "m"
   ]
  },
  {
   "cell_type": "code",
   "execution_count": 28,
   "metadata": {},
   "outputs": [
    {
     "data": {
      "text/html": [
       "\n",
       "            <style>\n",
       "                .geemap-dark {\n",
       "                    --jp-widgets-color: white;\n",
       "                    --jp-widgets-label-color: white;\n",
       "                    --jp-ui-font-color1: white;\n",
       "                    --jp-layout-color2: #454545;\n",
       "                    background-color: #383838;\n",
       "                }\n",
       "\n",
       "                .geemap-dark .jupyter-button {\n",
       "                    --jp-layout-color3: #383838;\n",
       "                }\n",
       "\n",
       "                .geemap-colab {\n",
       "                    background-color: var(--colab-primary-surface-color, white);\n",
       "                }\n",
       "\n",
       "                .geemap-colab .jupyter-button {\n",
       "                    --jp-layout-color3: var(--colab-primary-surface-color, white);\n",
       "                }\n",
       "            </style>\n",
       "            "
      ],
      "text/plain": [
       "<IPython.core.display.HTML object>"
      ]
     },
     "metadata": {},
     "output_type": "display_data"
    },
    {
     "data": {
      "application/vnd.jupyter.widget-view+json": {
       "model_id": "2ff76680216d48c7ae3f34471be2630e",
       "version_major": 2,
       "version_minor": 0
      },
      "text/plain": [
       "Map(center=[40.785091, -73.968285], controls=(WidgetControl(options=['position', 'transparent_bg'], widget=Sea…"
      ]
     },
     "execution_count": 28,
     "metadata": {},
     "output_type": "execute_result"
    }
   ],
   "source": [
    "m = geemap.Map()\n",
    "m.set_center(-73.968285, 40.785091, 12)\n",
    "m.scroll_wheel_zoom = False\n",
    "m.dragging = False\n",
    "m.add_layer(dataset, LANDSAT_VIS_PARAMS, 'Landsat 8 Satellite Image')\n",
    "m"
   ]
  },
  {
   "cell_type": "markdown",
   "metadata": {},
   "source": [
    "# Choosing the Dataset\n",
    "\n",
    "We have decided to use the Landsat 8 dataset for our land cover classification task. Landsat 8 is a multispectral satellite that captures high-resolution imagery of the Earth's surface. The satellite has 11 spectral bands, ranging from visible to thermal infrared, which are essential for various remote sensing applications. The Landsat 8 data is freely available through the US Geological Survey (USGS) Earth Explorer platform and the Google Earth Engine platform.\n",
    "\n",
    "Here are some reasons why we chose the Landsat 8 dataset:\n",
    "\n",
    "1. **Spectral Bands**: Landsat 8 has 11 spectral bands, which provide a wide range of information about the Earth's surface. These bands are crucial for land cover classification, vegetation monitoring, and change detection.\n",
    "\n",
    "2. **Resolution**: Landsat 8 captures imagery at a 30m resolution, which is suitable for various remote sensing applications. The high resolution allows us to distinguish different land cover classes and features on the Earth's surface.\n",
    "\n",
    "3. **Availability**: Landsat 8 data is freely available through the USGS Earth Explorer platform and the Google Earth Engine platform. This accessibility makes it easier for researchers and scientists to access and use the data for their projects.\n",
    "\n",
    "4. **Historical Data**: Landsat 8 has been capturing imagery since 2013, providing a historical record of the Earth's surface. This historical data is valuable for monitoring changes in land cover, vegetation, and environmental conditions over time.\n",
    "\n",
    "5. **Validation**: Landsat 8 data has been extensively validated and used in various remote sensing applications. The accuracy and reliability of the data make it a suitable choice for land cover classification tasks.\n",
    "\n"
   ]
  },
  {
   "cell_type": "markdown",
   "metadata": {},
   "source": [
    "# Dynamic World Land Cover Database (DwLCDB)\n",
    "\n",
    "Based on the previous description of the Dynamic World dataset, we can infer that it is a valuable resource for land cover classification tasks. Given below is the land cover legend for the DwLCDB dataset:\n",
    "\n",
    "1. Water\n",
    "2. Urban area\n",
    "3. Cropland\n",
    "4. Grassland\n",
    "5. Shrubland\n",
    "6. Forest\n",
    "7. Bare ground\n",
    "8. Snow and ice\n",
    "\n",
    "We will display another image from the DwLCDB dataset to provide a visual representation of the land cover classes. This image will help us understand the different land cover types and their distribution across the Earth's surface. The image overlooks New York City and shows the land cover classes present in the area. The land cover legend will be displayed alongside the image to help us identify the different classes."
   ]
  },
  {
   "cell_type": "code",
   "execution_count": 23,
   "metadata": {},
   "outputs": [
    {
     "data": {
      "text/html": [
       "\n",
       "            <style>\n",
       "                .geemap-dark {\n",
       "                    --jp-widgets-color: white;\n",
       "                    --jp-widgets-label-color: white;\n",
       "                    --jp-ui-font-color1: white;\n",
       "                    --jp-layout-color2: #454545;\n",
       "                    background-color: #383838;\n",
       "                }\n",
       "\n",
       "                .geemap-dark .jupyter-button {\n",
       "                    --jp-layout-color3: #383838;\n",
       "                }\n",
       "\n",
       "                .geemap-colab {\n",
       "                    background-color: var(--colab-primary-surface-color, white);\n",
       "                }\n",
       "\n",
       "                .geemap-colab .jupyter-button {\n",
       "                    --jp-layout-color3: var(--colab-primary-surface-color, white);\n",
       "                }\n",
       "            </style>\n",
       "            "
      ],
      "text/plain": [
       "<IPython.core.display.HTML object>"
      ]
     },
     "metadata": {},
     "output_type": "display_data"
    },
    {
     "data": {
      "image/png": "[encoded data removed]",
      "text/plain": [
       "<Figure size 0x0 with 1 Axes>"
      ]
     },
     "metadata": {},
     "output_type": "display_data"
    }
   ],
   "source": [
    "import matplotlib.pyplot as plt\n",
    "import matplotlib.patches as mpatches\n",
    "%matplotlib inline\n",
    "\n",
    "# Define your classes and their corresponding colors\n",
    "CLASS_NAMES = [\n",
    "    'Water', 'Trees', 'Grass', 'Flooded vegetation',\n",
    "    'Crops', 'Shrub and scrub', 'Built-up areas', 'Bare ground', 'Snow and ice'\n",
    "]\n",
    "COLORS = [\n",
    "    '#419bdf', '#397d49', '#88b053', '#7a87c6',\n",
    "    '#e49635', '#dfc35a', '#c4281b', '#a59b8f', '#b39fe1'\n",
    "]\n",
    "\n",
    "# Create a list of patches for the legend\n",
    "patches = [mpatches.Patch(color=COLORS[i], label=CLASS_NAMES[i]) for i in range(len(CLASS_NAMES))]\n",
    "\n",
    "# Create the legend\n",
    "plt.figure(figsize=(0, 0))\n",
    "plt.legend(handles=patches, loc='center', title='Land Cover Types', fontsize='small', shadow=True, fancybox=True, facecolor='white', edgecolor='black', borderpad=1)\n",
    "plt.axis('off')  # Turn off the axis\n",
    "plt.show()\n"
   ]
  },
  {
   "cell_type": "markdown",
   "metadata": {},
   "source": [
    "# Helper function to display image"
   ]
  },
  {
   "cell_type": "code",
   "execution_count": 24,
   "metadata": {},
   "outputs": [
    {
     "data": {
      "text/html": [
       "\n",
       "            <style>\n",
       "                .geemap-dark {\n",
       "                    --jp-widgets-color: white;\n",
       "                    --jp-widgets-label-color: white;\n",
       "                    --jp-ui-font-color1: white;\n",
       "                    --jp-layout-color2: #454545;\n",
       "                    background-color: #383838;\n",
       "                }\n",
       "\n",
       "                .geemap-dark .jupyter-button {\n",
       "                    --jp-layout-color3: #383838;\n",
       "                }\n",
       "\n",
       "                .geemap-colab {\n",
       "                    background-color: var(--colab-primary-surface-color, white);\n",
       "                }\n",
       "\n",
       "                .geemap-colab .jupyter-button {\n",
       "                    --jp-layout-color3: var(--colab-primary-surface-color, white);\n",
       "                }\n",
       "            </style>\n",
       "            "
      ],
      "text/plain": [
       "<IPython.core.display.HTML object>"
      ]
     },
     "metadata": {},
     "output_type": "display_data"
    }
   ],
   "source": [
    "import ee\n",
    "import folium\n",
    "\n",
    "def get_dynamic_world_image(year: int) -> ee.Image:\n",
    "    \"\"\"Get the Dynamic World image for 2021.\"\"\"\n",
    "    image = ee.ImageCollection(DYNAMIC_WORLD_DATASET)\\\n",
    "                .filter(ee.Filter.date(f\"{year}-1-1\", f\"{year}-12-31\"))\\\n",
    "                .select('label')\\\n",
    "                .mode()\\\n",
    "                .rename('landcover')\n",
    "\n",
    "    return image.byte()\n",
    "\n",
    "# Generate a folium map\n",
    "def generate_dw_map(year: int, location, zoom_start=9, width=\"100%\", height=\"100%\") -> folium.Map:\n",
    "    \"\"\"Generate a Dynamic World map for the given year.\"\"\"\n",
    "    DYNAMIC_WORLD_VIS_PARAMS = {\n",
    "        'bands': ['landcover'],\n",
    "        'min': 0,\n",
    "        'max': 8,\n",
    "        'palette': [\n",
    "            '419BDF',    # Water\n",
    "            '397D49',    # Trees\n",
    "            '88B053',    # Grass\n",
    "            'E1C340',    # Flooded Vegetation\n",
    "            'DC9A26',    # Crops\n",
    "            'C44A22',    # Scrub/Shrub\n",
    "            'A16943',    # Built Area\n",
    "            'B39FE1',    # Bare Ground\n",
    "            '6F6F6F'     # Snow/Ice\n",
    "        ]\n",
    "    }\n",
    "    my_map = folium.Map(\n",
    "        location=location, \n",
    "        zoom_start=zoom_start, \n",
    "        width=width, \n",
    "        height=height, \n",
    "        scrollWheelZoom=False,\n",
    "        dragging=False\n",
    "    )\n",
    "\n",
    "    image = get_dynamic_world_image(year)\n",
    "\n",
    "    my_map.add_ee_layer(image, DYNAMIC_WORLD_VIS_PARAMS, 'Dynamic World')\n",
    "\n",
    "    return my_map\n",
    "\n",
    "def add_ee_layer(self, ee_image_object, vis_params, name):\n",
    "    \"\"\"Add a method for displaying Earth Engine image tiles on folium map.\"\"\"\n",
    "    map_id_dict = ee.Image(ee_image_object).getMapId(vis_params)\n",
    "    folium.raster_layers.TileLayer(\n",
    "        tiles=map_id_dict['tile_fetcher'].url_format,\n",
    "        attr='Map Data &copy; <a href=\"https://earthengine.google.com/\">Google Earth Engine</a>',\n",
    "        name=name,\n",
    "        overlay=True,\n",
    "        control=True\n",
    "    ).add_to(self)\n",
    "\n",
    "folium.Map.add_ee_layer = add_ee_layer"
   ]
  },
  {
   "cell_type": "markdown",
   "metadata": {},
   "source": [
    "# Dynamic World Land Cover Image\n",
    "\n",
    "The image below displays the land cover classes present in New York City, as captured by the Dynamic World Land Cover Database (DwLCDB). The image provides a visual representation of the different land cover types, such as water, urban area, cropland, grassland, shrubland, forest, bare ground, and snow and ice. The land cover legend is displayed alongside the image to help identify the different classes. The image highlights the diversity of land cover types in urban areas and the surrounding regions. \n",
    "\n",
    "Our model will be trained on similar images to classify the land cover classes accurately. The model will learn the patterns and features associated with each class, enabling it to make predictions on new images. The DwLCDB dataset is a valuable resource for land cover classification tasks, providing high-resolution land cover maps that cover the Earth's surface. The dataset is useful for various remote sensing applications, including vegetation monitoring, change detection, and environmental analysis."
   ]
  },
  {
   "cell_type": "code",
   "execution_count": 25,
   "metadata": {},
   "outputs": [
    {
     "data": {
      "text/html": [
       "\n",
       "            <style>\n",
       "                .geemap-dark {\n",
       "                    --jp-widgets-color: white;\n",
       "                    --jp-widgets-label-color: white;\n",
       "                    --jp-ui-font-color1: white;\n",
       "                    --jp-layout-color2: #454545;\n",
       "                    background-color: #383838;\n",
       "                }\n",
       "\n",
       "                .geemap-dark .jupyter-button {\n",
       "                    --jp-layout-color3: #383838;\n",
       "                }\n",
       "\n",
       "                .geemap-colab {\n",
       "                    background-color: var(--colab-primary-surface-color, white);\n",
       "                }\n",
       "\n",
       "                .geemap-colab .jupyter-button {\n",
       "                    --jp-layout-color3: var(--colab-primary-surface-color, white);\n",
       "                }\n",
       "            </style>\n",
       "            "
      ],
      "text/plain": [
       "<IPython.core.display.HTML object>"
      ]
     },
     "metadata": {},
     "output_type": "display_data"
    },
    {
     "data": {
      "text/html": [
       "<div style=\"width:100%;\"><div style=\"position:relative;width:100%;height:0;padding-bottom:60%;\"><span style=\"color:#565656\">Make this Notebook Trusted to load map: File -> Trust Notebook</span><iframe srcdoc=\"&lt;!DOCTYPE html&gt;\n",
       "&lt;html&gt;\n",
       "&lt;head&gt;\n",
       "    \n",
       "    &lt;meta http-equiv=&quot;content-type&quot; content=&quot;text/html; charset=UTF-8&quot; /&gt;\n",
       "    \n",
       "        &lt;script&gt;\n",
       "            L_NO_TOUCH = false;\n",
       "            L_DISABLE_3D = false;\n",
       "        &lt;/script&gt;\n",
       "    \n",
       "    &lt;style&gt;html, body {width: 100%;height: 100%;margin: 0;padding: 0;}&lt;/style&gt;\n",
       "    &lt;style&gt;#map {position:absolute;top:0;bottom:0;right:0;left:0;}&lt;/style&gt;\n",
       "    &lt;script src=&quot;https://cdn.jsdelivr.net/npm/leaflet@1.9.3/dist/leaflet.js&quot;&gt;&lt;/script&gt;\n",
       "    &lt;script src=&quot;https://code.jquery.com/jquery-3.7.1.min.js&quot;&gt;&lt;/script&gt;\n",
       "    &lt;script src=&quot;https://cdn.jsdelivr.net/npm/bootstrap@5.2.2/dist/js/bootstrap.bundle.min.js&quot;&gt;&lt;/script&gt;\n",
       "    &lt;script src=&quot;https://cdnjs.cloudflare.com/ajax/libs/Leaflet.awesome-markers/2.0.2/leaflet.awesome-markers.js&quot;&gt;&lt;/script&gt;\n",
       "    &lt;link rel=&quot;stylesheet&quot; href=&quot;https://cdn.jsdelivr.net/npm/leaflet@1.9.3/dist/leaflet.css&quot;/&gt;\n",
       "    &lt;link rel=&quot;stylesheet&quot; href=&quot;https://cdn.jsdelivr.net/npm/bootstrap@5.2.2/dist/css/bootstrap.min.css&quot;/&gt;\n",
       "    &lt;link rel=&quot;stylesheet&quot; href=&quot;https://netdna.bootstrapcdn.com/bootstrap/3.0.0/css/bootstrap.min.css&quot;/&gt;\n",
       "    &lt;link rel=&quot;stylesheet&quot; href=&quot;https://cdn.jsdelivr.net/npm/@fortawesome/fontawesome-free@6.2.0/css/all.min.css&quot;/&gt;\n",
       "    &lt;link rel=&quot;stylesheet&quot; href=&quot;https://cdnjs.cloudflare.com/ajax/libs/Leaflet.awesome-markers/2.0.2/leaflet.awesome-markers.css&quot;/&gt;\n",
       "    &lt;link rel=&quot;stylesheet&quot; href=&quot;https://cdn.jsdelivr.net/gh/python-visualization/folium/folium/templates/leaflet.awesome.rotate.min.css&quot;/&gt;\n",
       "    \n",
       "            &lt;meta name=&quot;viewport&quot; content=&quot;width=device-width,\n",
       "                initial-scale=1.0, maximum-scale=1.0, user-scalable=no&quot; /&gt;\n",
       "            &lt;style&gt;\n",
       "                #map_1cc80f75bfeda003c8546eb7615ff1c6 {\n",
       "                    position: relative;\n",
       "                    width: 100.0%;\n",
       "                    height: 100.0%;\n",
       "                    left: 0.0%;\n",
       "                    top: 0.0%;\n",
       "                }\n",
       "                .leaflet-container { font-size: 1rem; }\n",
       "            &lt;/style&gt;\n",
       "        \n",
       "&lt;/head&gt;\n",
       "&lt;body&gt;\n",
       "    \n",
       "    \n",
       "            &lt;div class=&quot;folium-map&quot; id=&quot;map_1cc80f75bfeda003c8546eb7615ff1c6&quot; &gt;&lt;/div&gt;\n",
       "        \n",
       "&lt;/body&gt;\n",
       "&lt;script&gt;\n",
       "    \n",
       "    \n",
       "            var map_1cc80f75bfeda003c8546eb7615ff1c6 = L.map(\n",
       "                &quot;map_1cc80f75bfeda003c8546eb7615ff1c6&quot;,\n",
       "                {\n",
       "                    center: [40.785091, -73.968285],\n",
       "                    crs: L.CRS.EPSG3857,\n",
       "                    zoom: 12,\n",
       "                    zoomControl: true,\n",
       "                    preferCanvas: false,\n",
       "                    scrollWheelZoom: false,\n",
       "                    dragging: false,\n",
       "                }\n",
       "            );\n",
       "\n",
       "            \n",
       "\n",
       "        \n",
       "    \n",
       "            var tile_layer_6df24c6912009047801c60eaa264f427 = L.tileLayer(\n",
       "                &quot;https://tile.openstreetmap.org/{z}/{x}/{y}.png&quot;,\n",
       "                {&quot;attribution&quot;: &quot;\\u0026copy; \\u003ca href=\\&quot;https://www.openstreetmap.org/copyright\\&quot;\\u003eOpenStreetMap\\u003c/a\\u003e contributors&quot;, &quot;detectRetina&quot;: false, &quot;maxNativeZoom&quot;: 19, &quot;maxZoom&quot;: 19, &quot;minZoom&quot;: 0, &quot;noWrap&quot;: false, &quot;opacity&quot;: 1, &quot;subdomains&quot;: &quot;abc&quot;, &quot;tms&quot;: false}\n",
       "            );\n",
       "        \n",
       "    \n",
       "            tile_layer_6df24c6912009047801c60eaa264f427.addTo(map_1cc80f75bfeda003c8546eb7615ff1c6);\n",
       "        \n",
       "    \n",
       "            var tile_layer_ef311faacde8b5005ba2522cabc277d4 = L.tileLayer(\n",
       "                &quot;https://earthengine-highvolume.googleapis.com/v1/projects/ee-anirudhananth/maps/eafda4ee549d46a8ede317637c9d9eac-6ea574762b50d708195171ab7cdd0767/tiles/{z}/{x}/{y}&quot;,\n",
       "                {&quot;attribution&quot;: &quot;Map Data \\u0026copy; \\u003ca href=\\&quot;https://earthengine.google.com/\\&quot;\\u003eGoogle Earth Engine\\u003c/a\\u003e&quot;, &quot;detectRetina&quot;: false, &quot;maxNativeZoom&quot;: 18, &quot;maxZoom&quot;: 18, &quot;minZoom&quot;: 0, &quot;noWrap&quot;: false, &quot;opacity&quot;: 1, &quot;subdomains&quot;: &quot;abc&quot;, &quot;tms&quot;: false}\n",
       "            );\n",
       "        \n",
       "    \n",
       "            tile_layer_ef311faacde8b5005ba2522cabc277d4.addTo(map_1cc80f75bfeda003c8546eb7615ff1c6);\n",
       "        \n",
       "    \n",
       "            var layer_control_de8183587472e6768ae6175d8b360c3d_layers = {\n",
       "                base_layers : {\n",
       "                    &quot;openstreetmap&quot; : tile_layer_6df24c6912009047801c60eaa264f427,\n",
       "                },\n",
       "                overlays :  {\n",
       "                    &quot;Dynamic World&quot; : tile_layer_ef311faacde8b5005ba2522cabc277d4,\n",
       "                },\n",
       "            };\n",
       "            let layer_control_de8183587472e6768ae6175d8b360c3d = L.control.layers(\n",
       "                layer_control_de8183587472e6768ae6175d8b360c3d_layers.base_layers,\n",
       "                layer_control_de8183587472e6768ae6175d8b360c3d_layers.overlays,\n",
       "                {&quot;autoZIndex&quot;: true, &quot;collapsed&quot;: true, &quot;position&quot;: &quot;topright&quot;}\n",
       "            ).addTo(map_1cc80f75bfeda003c8546eb7615ff1c6);\n",
       "\n",
       "        \n",
       "&lt;/script&gt;\n",
       "&lt;/html&gt;\" style=\"position:absolute;width:100%;height:100%;left:0;top:0;border:none !important;\" allowfullscreen webkitallowfullscreen mozallowfullscreen></iframe></div></div>"
      ],
      "text/plain": [
       "<folium.folium.Map at 0x146a0ad60>"
      ]
     },
     "execution_count": 25,
     "metadata": {},
     "output_type": "execute_result"
    }
   ],
   "source": [
    "my_map = generate_dw_map(2016, [40.785091, -73.968285], 12, '100%', '100%')\n",
    "my_map.add_child(folium.LayerControl())\n",
    "my_map"
   ]
  },
  {
   "cell_type": "code",
   "execution_count": 26,
   "metadata": {},
   "outputs": [
    {
     "data": {
      "text/html": [
       "\n",
       "            <style>\n",
       "                .geemap-dark {\n",
       "                    --jp-widgets-color: white;\n",
       "                    --jp-widgets-label-color: white;\n",
       "                    --jp-ui-font-color1: white;\n",
       "                    --jp-layout-color2: #454545;\n",
       "                    background-color: #383838;\n",
       "                }\n",
       "\n",
       "                .geemap-dark .jupyter-button {\n",
       "                    --jp-layout-color3: #383838;\n",
       "                }\n",
       "\n",
       "                .geemap-colab {\n",
       "                    background-color: var(--colab-primary-surface-color, white);\n",
       "                }\n",
       "\n",
       "                .geemap-colab .jupyter-button {\n",
       "                    --jp-layout-color3: var(--colab-primary-surface-color, white);\n",
       "                }\n",
       "            </style>\n",
       "            "
      ],
      "text/plain": [
       "<IPython.core.display.HTML object>"
      ]
     },
     "metadata": {},
     "output_type": "display_data"
    },
    {
     "data": {
      "text/html": [
       "<div style=\"width:100%;\"><div style=\"position:relative;width:100%;height:0;padding-bottom:60%;\"><span style=\"color:#565656\">Make this Notebook Trusted to load map: File -> Trust Notebook</span><iframe srcdoc=\"&lt;!DOCTYPE html&gt;\n",
       "&lt;html&gt;\n",
       "&lt;head&gt;\n",
       "    \n",
       "    &lt;meta http-equiv=&quot;content-type&quot; content=&quot;text/html; charset=UTF-8&quot; /&gt;\n",
       "    \n",
       "        &lt;script&gt;\n",
       "            L_NO_TOUCH = false;\n",
       "            L_DISABLE_3D = false;\n",
       "        &lt;/script&gt;\n",
       "    \n",
       "    &lt;style&gt;html, body {width: 100%;height: 100%;margin: 0;padding: 0;}&lt;/style&gt;\n",
       "    &lt;style&gt;#map {position:absolute;top:0;bottom:0;right:0;left:0;}&lt;/style&gt;\n",
       "    &lt;script src=&quot;https://cdn.jsdelivr.net/npm/leaflet@1.9.3/dist/leaflet.js&quot;&gt;&lt;/script&gt;\n",
       "    &lt;script src=&quot;https://code.jquery.com/jquery-3.7.1.min.js&quot;&gt;&lt;/script&gt;\n",
       "    &lt;script src=&quot;https://cdn.jsdelivr.net/npm/bootstrap@5.2.2/dist/js/bootstrap.bundle.min.js&quot;&gt;&lt;/script&gt;\n",
       "    &lt;script src=&quot;https://cdnjs.cloudflare.com/ajax/libs/Leaflet.awesome-markers/2.0.2/leaflet.awesome-markers.js&quot;&gt;&lt;/script&gt;\n",
       "    &lt;link rel=&quot;stylesheet&quot; href=&quot;https://cdn.jsdelivr.net/npm/leaflet@1.9.3/dist/leaflet.css&quot;/&gt;\n",
       "    &lt;link rel=&quot;stylesheet&quot; href=&quot;https://cdn.jsdelivr.net/npm/bootstrap@5.2.2/dist/css/bootstrap.min.css&quot;/&gt;\n",
       "    &lt;link rel=&quot;stylesheet&quot; href=&quot;https://netdna.bootstrapcdn.com/bootstrap/3.0.0/css/bootstrap.min.css&quot;/&gt;\n",
       "    &lt;link rel=&quot;stylesheet&quot; href=&quot;https://cdn.jsdelivr.net/npm/@fortawesome/fontawesome-free@6.2.0/css/all.min.css&quot;/&gt;\n",
       "    &lt;link rel=&quot;stylesheet&quot; href=&quot;https://cdnjs.cloudflare.com/ajax/libs/Leaflet.awesome-markers/2.0.2/leaflet.awesome-markers.css&quot;/&gt;\n",
       "    &lt;link rel=&quot;stylesheet&quot; href=&quot;https://cdn.jsdelivr.net/gh/python-visualization/folium/folium/templates/leaflet.awesome.rotate.min.css&quot;/&gt;\n",
       "    \n",
       "            &lt;meta name=&quot;viewport&quot; content=&quot;width=device-width,\n",
       "                initial-scale=1.0, maximum-scale=1.0, user-scalable=no&quot; /&gt;\n",
       "            &lt;style&gt;\n",
       "                #map_6e6c3d7387cf89e45decf9f6a345b3af {\n",
       "                    position: relative;\n",
       "                    width: 100.0%;\n",
       "                    height: 100.0%;\n",
       "                    left: 0.0%;\n",
       "                    top: 0.0%;\n",
       "                }\n",
       "                .leaflet-container { font-size: 1rem; }\n",
       "            &lt;/style&gt;\n",
       "        \n",
       "&lt;/head&gt;\n",
       "&lt;body&gt;\n",
       "    \n",
       "    \n",
       "            &lt;div class=&quot;folium-map&quot; id=&quot;map_6e6c3d7387cf89e45decf9f6a345b3af&quot; &gt;&lt;/div&gt;\n",
       "        \n",
       "&lt;/body&gt;\n",
       "&lt;script&gt;\n",
       "    \n",
       "    \n",
       "            var map_6e6c3d7387cf89e45decf9f6a345b3af = L.map(\n",
       "                &quot;map_6e6c3d7387cf89e45decf9f6a345b3af&quot;,\n",
       "                {\n",
       "                    center: [40.785091, -73.968285],\n",
       "                    crs: L.CRS.EPSG3857,\n",
       "                    zoom: 12,\n",
       "                    zoomControl: true,\n",
       "                    preferCanvas: false,\n",
       "                    scrollWheelZoom: false,\n",
       "                    dragging: false,\n",
       "                }\n",
       "            );\n",
       "\n",
       "            \n",
       "\n",
       "        \n",
       "    \n",
       "            var tile_layer_c3cc09f57328bac7e6a6754888d3141b = L.tileLayer(\n",
       "                &quot;https://tile.openstreetmap.org/{z}/{x}/{y}.png&quot;,\n",
       "                {&quot;attribution&quot;: &quot;\\u0026copy; \\u003ca href=\\&quot;https://www.openstreetmap.org/copyright\\&quot;\\u003eOpenStreetMap\\u003c/a\\u003e contributors&quot;, &quot;detectRetina&quot;: false, &quot;maxNativeZoom&quot;: 19, &quot;maxZoom&quot;: 19, &quot;minZoom&quot;: 0, &quot;noWrap&quot;: false, &quot;opacity&quot;: 1, &quot;subdomains&quot;: &quot;abc&quot;, &quot;tms&quot;: false}\n",
       "            );\n",
       "        \n",
       "    \n",
       "            tile_layer_c3cc09f57328bac7e6a6754888d3141b.addTo(map_6e6c3d7387cf89e45decf9f6a345b3af);\n",
       "        \n",
       "    \n",
       "            var tile_layer_7376e46e14ee5a638693379dda4c9bdb = L.tileLayer(\n",
       "                &quot;https://earthengine-highvolume.googleapis.com/v1/projects/ee-anirudhananth/maps/dc90dc2743271d748f5f3c61c49cb3fa-d2d15c6cd6775eaa1aa8056a8177c3f8/tiles/{z}/{x}/{y}&quot;,\n",
       "                {&quot;attribution&quot;: &quot;Map Data \\u0026copy; \\u003ca href=\\&quot;https://earthengine.google.com/\\&quot;\\u003eGoogle Earth Engine\\u003c/a\\u003e&quot;, &quot;detectRetina&quot;: false, &quot;maxNativeZoom&quot;: 18, &quot;maxZoom&quot;: 18, &quot;minZoom&quot;: 0, &quot;noWrap&quot;: false, &quot;opacity&quot;: 1, &quot;subdomains&quot;: &quot;abc&quot;, &quot;tms&quot;: false}\n",
       "            );\n",
       "        \n",
       "    \n",
       "            tile_layer_7376e46e14ee5a638693379dda4c9bdb.addTo(map_6e6c3d7387cf89e45decf9f6a345b3af);\n",
       "        \n",
       "    \n",
       "            var layer_control_a6d428fcd6da6a9300114f01a5d666b4_layers = {\n",
       "                base_layers : {\n",
       "                    &quot;openstreetmap&quot; : tile_layer_c3cc09f57328bac7e6a6754888d3141b,\n",
       "                },\n",
       "                overlays :  {\n",
       "                    &quot;Dynamic World&quot; : tile_layer_7376e46e14ee5a638693379dda4c9bdb,\n",
       "                },\n",
       "            };\n",
       "            let layer_control_a6d428fcd6da6a9300114f01a5d666b4 = L.control.layers(\n",
       "                layer_control_a6d428fcd6da6a9300114f01a5d666b4_layers.base_layers,\n",
       "                layer_control_a6d428fcd6da6a9300114f01a5d666b4_layers.overlays,\n",
       "                {&quot;autoZIndex&quot;: true, &quot;collapsed&quot;: true, &quot;position&quot;: &quot;topright&quot;}\n",
       "            ).addTo(map_6e6c3d7387cf89e45decf9f6a345b3af);\n",
       "\n",
       "        \n",
       "&lt;/script&gt;\n",
       "&lt;/html&gt;\" style=\"position:absolute;width:100%;height:100%;left:0;top:0;border:none !important;\" allowfullscreen webkitallowfullscreen mozallowfullscreen></iframe></div></div>"
      ],
      "text/plain": [
       "<folium.folium.Map at 0x14493f730>"
      ]
     },
     "execution_count": 26,
     "metadata": {},
     "output_type": "execute_result"
    }
   ],
   "source": [
    "my_map = generate_dw_map(2023, [40.785091, -73.968285], 12, '100%', '100%')\n",
    "my_map.add_child(folium.LayerControl())\n",
    "my_map"
   ]
  }
 ],
 "metadata": {
  "kernelspec": {
   "display_name": "big-data",
   "language": "python",
   "name": "python3"
  },
  "language_info": {
   "codemirror_mode": {
    "name": "ipython",
    "version": 3
   },
   "file_extension": ".py",
   "mimetype": "text/x-python",
   "name": "python",
   "nbconvert_exporter": "python",
   "pygments_lexer": "ipython3",
   "version": "3.11.5"
  }
 },
 "nbformat": 4,
 "nbformat_minor": 2
}
