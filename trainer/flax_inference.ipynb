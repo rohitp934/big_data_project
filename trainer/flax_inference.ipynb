{
 "cells": [
  {
   "cell_type": "code",
   "execution_count": 95,
   "metadata": {},
   "outputs": [],
   "source": [
    "from datetime import datetime\n",
    "from dateutil.relativedelta import relativedelta\n",
    "import ee\n",
    "import requests\n",
    "import numpy as np\n",
    "from numpy.lib.recfunctions import structured_to_unstructured\n",
    "import io\n",
    "import time\n",
    "from typing import Tuple"
   ]
  },
  {
   "cell_type": "code",
   "execution_count": 80,
   "metadata": {},
   "outputs": [],
   "source": [
    "PATCH_SIZE = 128"
   ]
  },
  {
   "cell_type": "code",
   "execution_count": 81,
   "metadata": {},
   "outputs": [],
   "source": [
    "project = \"bigdata-ahhcash\"\n",
    "def initialize_ee():\n",
    "  ee.Authenticate()\n",
    "  ee.Initialize(project=project, opt_url=\"https://earthengine-highvolume.googleapis.com\")"
   ]
  },
  {
   "cell_type": "code",
   "execution_count": 82,
   "metadata": {},
   "outputs": [],
   "source": [
    "initialize_ee()"
   ]
  },
  {
   "cell_type": "code",
   "execution_count": 110,
   "metadata": {},
   "outputs": [],
   "source": [
    "def get_landsat_image(date: datetime = datetime.now() - relativedelta(years=5)) -> ee.Image:\n",
    "    \"\"\"Gets a Landsat 8 image for the selected date.\"\"\"\n",
    "    start_date = ee.Date(date)\n",
    "    end_date = ee.Date(date).advance(6, 'month')\n",
    "    return (\n",
    "        ee.ImageCollection(\"LANDSAT/LC08/C02/T1_L2\")\n",
    "        .filterDate(start_date, end_date)\n",
    "        .mosaic()\n",
    "    )\n",
    "\n",
    "def get_landsat_ndvi(image: ee.Image) -> ee.Image:\n",
    "    \"\"\"Calculates NDVI from a Landsat 8 image.\"\"\"\n",
    "    return image.normalizedDifference([\"SR_B5\", \"SR_B4\"]).rename(\"NDVI\")"
   ]
  },
  {
   "cell_type": "code",
   "execution_count": 111,
   "metadata": {},
   "outputs": [],
   "source": [
    "def get_modis_ndvi(date: datetime) -> ee.Image:\n",
    "    \"\"\"Gets MODIS NDVI data for a given date.\"\"\"\n",
    "    start_date = ee.Date(date)\n",
    "    end_date = ee.Date(date).advance(1, 'month')\n",
    "    return (\n",
    "        ee.ImageCollection(\"MODIS/061/MOD13Q1\")\n",
    "        .filterDate(start_date, end_date)\n",
    "        .select(\"NDVI\")\n",
    "        .first()\n",
    "    )"
   ]
  },
  {
   "cell_type": "code",
   "execution_count": 112,
   "metadata": {},
   "outputs": [],
   "source": [
    "def get_landsat_lst(image: ee.Image) -> ee.Image:\n",
    "    \"\"\"\n",
    "    Calculates Land Surface Temperature from a Landsat 8 image.\n",
    "    This function is based on the formula in the following page https://developers.google.com/earth-engine/datasets/catalog/LANDSAT_LC08_C02_T1_L2\n",
    "    \"\"\"\n",
    "    return image.select(\"ST_B10\").multiply(0.00341802).add(149.0).rename(\"LST\")"
   ]
  },
  {
   "cell_type": "code",
   "execution_count": 114,
   "metadata": {},
   "outputs": [],
   "source": [
    "def get_inputs_image(date: datetime = datetime.now() - relativedelta(years=4)) -> ee.Image:\n",
    "    \"\"\"Gets an Earth Engine image with all the inputs for the model.\"\"\"\n",
    "    # Get MODIS NDVI\n",
    "    modis_ndvi = get_modis_ndvi(date)\n",
    "\n",
    "    # Get Landsat data\n",
    "    landsat_image = get_landsat_image(date)\n",
    "    landsat_ndvi = get_landsat_ndvi(landsat_image)\n",
    "    landsat_lst = get_landsat_lst(landsat_image)\n",
    "\n",
    "    combined_ndvi = ee.Image.cat([landsat_ndvi, modis_ndvi])\n",
    "\n",
    "    # Combine all input data\n",
    "    return ee.Image([combined_ndvi, landsat_lst])"
   ]
  },
  {
   "cell_type": "code",
   "execution_count": 115,
   "metadata": {},
   "outputs": [
    {
     "data": {
      "text/plain": [
       "{'type': 'Image',\n",
       " 'bands': [{'id': 'NDVI',\n",
       "   'data_type': {'type': 'PixelType',\n",
       "    'precision': 'float',\n",
       "    'min': -1,\n",
       "    'max': 1},\n",
       "   'crs': 'EPSG:4326',\n",
       "   'crs_transform': [1, 0, 0, 0, 1, 0]},\n",
       "  {'id': 'NDVI_1',\n",
       "   'data_type': {'type': 'PixelType',\n",
       "    'precision': 'int',\n",
       "    'min': -32768,\n",
       "    'max': 32767},\n",
       "   'dimensions': [172800, 72000],\n",
       "   'crs': 'SR-ORG:6974',\n",
       "   'crs_transform': [231.65635826395825,\n",
       "    0,\n",
       "    -20015109.354,\n",
       "    0,\n",
       "    -231.65635826395834,\n",
       "    10007554.677003]},\n",
       "  {'id': 'LST',\n",
       "   'data_type': {'type': 'PixelType',\n",
       "    'precision': 'double',\n",
       "    'min': 149,\n",
       "    'max': 372.9999407},\n",
       "   'crs': 'EPSG:4326',\n",
       "   'crs_transform': [1, 0, 0, 0, 1, 0]}]}"
      ]
     },
     "execution_count": 115,
     "metadata": {},
     "output_type": "execute_result"
    }
   ],
   "source": [
    "img = get_inputs_image()\n",
    "img.getInfo()"
   ]
  },
  {
   "cell_type": "code",
   "execution_count": 98,
   "metadata": {},
   "outputs": [],
   "source": [
    "def get_patch(\n",
    "    image: ee.Image, lonlat: Tuple[float, float], patch_size: int, scale: int\n",
    ") -> np.ndarray:\n",
    "    \"\"\"Fetches a patch of pixels from Earth Engine.\"\"\"\n",
    "    point = ee.Geometry.Point(lonlat)\n",
    "    url = image.getDownloadURL(\n",
    "        {\n",
    "            \"region\": point.buffer(scale * patch_size / 2, 1).bounds(1),\n",
    "            \"dimensions\": [patch_size, patch_size],\n",
    "            # \"scale\": SCALE,\n",
    "            \"format\": \"NPY\",\n",
    "        }\n",
    "    )\n",
    "\n",
    "    # Retry on \"Too Many Requests\" errors\n",
    "    response = requests.get(url)\n",
    "    if response.status_code == 429:\n",
    "        raise Exception(\"Too Many Requests\")\n",
    "\n",
    "    # Raise other exceptions\n",
    "    response.raise_for_status()\n",
    "    return np.load(io.BytesIO(response.content), allow_pickle=True)"
   ]
  },
  {
   "cell_type": "code",
   "execution_count": 118,
   "metadata": {},
   "outputs": [],
   "source": [
    "def get_inputs_patch(\n",
    "    date: datetime = datetime.now() - relativedelta(years = 1),\n",
    "    lonlat: tuple[float, float] = (-140.0, 60.0),\n",
    "    patch_size: int = 128,\n",
    ") -> np.ndarray:\n",
    "    \"\"\"Gets the inputs patch of pixels for the given point and date.\"\"\"\n",
    "    image = get_inputs_image(date)\n",
    "    patch = get_patch(image, lonlat, patch_size, 128)\n",
    "    return structured_to_unstructured(patch)"
   ]
  },
  {
   "cell_type": "code",
   "execution_count": 120,
   "metadata": {},
   "outputs": [
    {
     "data": {
      "text/plain": [
       "(128, 128, 3)"
      ]
     },
     "execution_count": 120,
     "metadata": {},
     "output_type": "execute_result"
    }
   ],
   "source": [
    "initialize_ee()\n",
    "ip = get_inputs_patch()\n",
    "ip.shape"
   ]
  },
  {
   "cell_type": "code",
   "execution_count": 108,
   "metadata": {},
   "outputs": [],
   "source": [
    "from __future__ import annotations\n",
    "\n",
    "import numpy as np\n",
    "from plotly.graph_objects import Image\n",
    "from plotly.subplots import make_subplots"
   ]
  },
  {
   "cell_type": "code",
   "execution_count": 18,
   "metadata": {},
   "outputs": [],
   "source": [
    "CLASSIFICATIONS = {\n",
    "    \"💧 Water\": \"419BDF\",\n",
    "    \"🌳 Trees\": \"397D49\",\n",
    "    \"🌾 Grass\": \"88B053\",\n",
    "    \"🌿 Flooded vegetation\": \"7A87C6\",\n",
    "    \"🚜 Crops\": \"E49635\",\n",
    "    \"🪴 Shrub and scrub\": \"DFC35A\",\n",
    "    \"🏗️ Built-up areas\": \"C4281B\",\n",
    "    \"🪨 Bare ground\": \"A59B8F\",\n",
    "    \"❄️ Snow and ice\": \"B39FE1\",\n",
    "}"
   ]
  },
  {
   "cell_type": "code",
   "execution_count": 19,
   "metadata": {},
   "outputs": [],
   "source": [
    "def render_rgb_images(\n",
    "    values: np.ndarray, min: float = 0.0, max: float = 1.0\n",
    ") -> np.ndarray:\n",
    "    \"\"\"Renders a numeric NumPy array with shape (width, height, rgb) as an image.\n",
    "\n",
    "    Args:\n",
    "        values: A float array with shape (width, height, rgb).\n",
    "        min: Minimum value in the values.\n",
    "        max: Maximum value in the values.\n",
    "\n",
    "    Returns: An uint8 array with shape (width, height, rgb).\n",
    "    \"\"\"\n",
    "    scaled_values = (values - min) / (max - min)\n",
    "    rgb_values = np.clip(scaled_values, 0, 1) * 255\n",
    "    return rgb_values.astype(np.uint8)"
   ]
  },
  {
   "cell_type": "code",
   "execution_count": 21,
   "metadata": {},
   "outputs": [],
   "source": [
    "def render_classifications(values: np.ndarray, palette: list[str]) -> np.ndarray:\n",
    "    \"\"\"Renders a classifications NumPy array with shape (width, height, 1) as an image.\n",
    "\n",
    "    Args:\n",
    "        values: An uint8 array with shape (width, height, 1).\n",
    "        palette: List of hex encoded colors.\n",
    "\n",
    "    Returns: An uint8 array with shape (width, height, rgb) with colors from the palette.\n",
    "    \"\"\"\n",
    "    # Create a color map from a hex color palette.\n",
    "    xs = np.linspace(0, len(palette), 256)\n",
    "    indices = np.arange(len(palette))\n",
    "\n",
    "    red = np.interp(xs, indices, [int(c[0:2], 16) for c in palette])\n",
    "    green = np.interp(xs, indices, [int(c[2:4], 16) for c in palette])\n",
    "    blue = np.interp(xs, indices, [int(c[4:6], 16) for c in palette])\n",
    "\n",
    "    color_map = np.array([red, green, blue]).astype(np.uint8).transpose()\n",
    "    color_indices = (values / len(palette) * 255).astype(np.uint8)\n",
    "    return np.take(color_map, color_indices, axis=0)"
   ]
  },
  {
   "cell_type": "code",
   "execution_count": 22,
   "metadata": {},
   "outputs": [],
   "source": [
    "def render_sentinel2(patch: np.ndarray, max: float = 3000) -> np.ndarray:\n",
    "    \"\"\"Renders a Sentinel 2 image.\"\"\"\n",
    "    red = patch[:, :, 3]  # B4\n",
    "    green = patch[:, :, 2]  # B3\n",
    "    blue = patch[:, :, 1]  # B2\n",
    "    rgb_patch = np.stack([red, green, blue], axis=-1)\n",
    "    return render_rgb_images(rgb_patch, 0, max)"
   ]
  },
  {
   "cell_type": "code",
   "execution_count": 23,
   "metadata": {},
   "outputs": [],
   "source": [
    "def render_landcover(patch: np.ndarray) -> np.ndarray:\n",
    "    \"\"\"Renders a land cover image.\"\"\"\n",
    "    palette = list(CLASSIFICATIONS.values())\n",
    "    return render_classifications(patch[:, :, 0], palette)"
   ]
  },
  {
   "cell_type": "code",
   "execution_count": 24,
   "metadata": {},
   "outputs": [],
   "source": [
    "def show_inputs(inputs: np.ndarray, max: float = 3000) -> None:\n",
    "    \"\"\"Shows the input data as an image.\"\"\"\n",
    "    fig = make_subplots(rows=1, cols=1, subplot_titles=(\"Sentinel 2\"))\n",
    "    fig.add_trace(Image(z=render_sentinel2(inputs, max)), row=1, col=1)\n",
    "    fig.show()"
   ]
  },
  {
   "cell_type": "code",
   "execution_count": 25,
   "metadata": {},
   "outputs": [],
   "source": [
    "def show_outputs(outputs: np.ndarray) -> None:\n",
    "    \"\"\"Shows the outputs/labels data as an image.\"\"\"\n",
    "    fig = make_subplots(rows=1, cols=1, subplot_titles=(\"Land cover\",))\n",
    "    fig.add_trace(Image(z=render_landcover(outputs)), row=1, col=1)\n",
    "    fig.show()"
   ]
  },
  {
   "cell_type": "code",
   "execution_count": 26,
   "metadata": {},
   "outputs": [],
   "source": [
    "def show_example(inputs: np.ndarray, labels: np.ndarray, max: float = 3000) -> None:\n",
    "    \"\"\"Shows an example of inputs and labels an image.\"\"\"\n",
    "    fig = make_subplots(rows=1, cols=2, subplot_titles=(\"Sentinel 2\", \"Land cover\"))\n",
    "    fig.add_trace(Image(z=render_sentinel2(inputs, max)), row=1, col=1)\n",
    "    fig.add_trace(Image(z=render_landcover(labels)), row=1, col=2)\n",
    "    fig.show()"
   ]
  },
  {
   "cell_type": "code",
   "execution_count": 27,
   "metadata": {},
   "outputs": [],
   "source": [
    "def show_legend() -> None:\n",
    "    \"\"\"Shows the legend of the land cover classifications.\"\"\"\n",
    "\n",
    "    def color_box(red: int, green: int, blue: int) -> str:\n",
    "        return f\"\\033[48;2;{red};{green};{blue}m\"\n",
    "\n",
    "    reset_color = \"\\u001b[0m\"\n",
    "    for name, color in CLASSIFICATIONS.items():\n",
    "        red = int(color[0:2], 16)\n",
    "        green = int(color[2:4], 16)\n",
    "        blue = int(color[4:6], 16)\n",
    "        print(f\"{color_box(red, green, blue)}   {reset_color} {name}\")"
   ]
  },
  {
   "cell_type": "code",
   "execution_count": 121,
   "metadata": {},
   "outputs": [
    {
     "ename": "IndexError",
     "evalue": "index 3 is out of bounds for axis 2 with size 3",
     "output_type": "error",
     "traceback": [
      "\u001b[0;31m---------------------------------------------------------------------------\u001b[0m",
      "\u001b[0;31mIndexError\u001b[0m                                Traceback (most recent call last)",
      "Cell \u001b[0;32mIn[121], line 1\u001b[0m\n\u001b[0;32m----> 1\u001b[0m \u001b[43mshow_inputs\u001b[49m\u001b[43m(\u001b[49m\u001b[43mip\u001b[49m\u001b[43m)\u001b[49m\n",
      "Cell \u001b[0;32mIn[24], line 4\u001b[0m, in \u001b[0;36mshow_inputs\u001b[0;34m(inputs, max)\u001b[0m\n\u001b[1;32m      2\u001b[0m \u001b[38;5;250m\u001b[39m\u001b[38;5;124;03m\"\"\"Shows the input data as an image.\"\"\"\u001b[39;00m\n\u001b[1;32m      3\u001b[0m fig \u001b[38;5;241m=\u001b[39m make_subplots(rows\u001b[38;5;241m=\u001b[39m\u001b[38;5;241m1\u001b[39m, cols\u001b[38;5;241m=\u001b[39m\u001b[38;5;241m1\u001b[39m, subplot_titles\u001b[38;5;241m=\u001b[39m(\u001b[38;5;124m\"\u001b[39m\u001b[38;5;124mSentinel 2\u001b[39m\u001b[38;5;124m\"\u001b[39m))\n\u001b[0;32m----> 4\u001b[0m fig\u001b[38;5;241m.\u001b[39madd_trace(Image(z\u001b[38;5;241m=\u001b[39m\u001b[43mrender_sentinel2\u001b[49m\u001b[43m(\u001b[49m\u001b[43minputs\u001b[49m\u001b[43m,\u001b[49m\u001b[43m \u001b[49m\u001b[38;5;28;43mmax\u001b[39;49m\u001b[43m)\u001b[49m), row\u001b[38;5;241m=\u001b[39m\u001b[38;5;241m1\u001b[39m, col\u001b[38;5;241m=\u001b[39m\u001b[38;5;241m1\u001b[39m)\n\u001b[1;32m      5\u001b[0m fig\u001b[38;5;241m.\u001b[39mshow()\n",
      "Cell \u001b[0;32mIn[22], line 3\u001b[0m, in \u001b[0;36mrender_sentinel2\u001b[0;34m(patch, max)\u001b[0m\n\u001b[1;32m      1\u001b[0m \u001b[38;5;28;01mdef\u001b[39;00m \u001b[38;5;21mrender_sentinel2\u001b[39m(patch: np\u001b[38;5;241m.\u001b[39mndarray, \u001b[38;5;28mmax\u001b[39m: \u001b[38;5;28mfloat\u001b[39m \u001b[38;5;241m=\u001b[39m \u001b[38;5;241m3000\u001b[39m) \u001b[38;5;241m-\u001b[39m\u001b[38;5;241m>\u001b[39m np\u001b[38;5;241m.\u001b[39mndarray:\n\u001b[1;32m      2\u001b[0m \u001b[38;5;250m    \u001b[39m\u001b[38;5;124;03m\"\"\"Renders a Sentinel 2 image.\"\"\"\u001b[39;00m\n\u001b[0;32m----> 3\u001b[0m     red \u001b[38;5;241m=\u001b[39m \u001b[43mpatch\u001b[49m\u001b[43m[\u001b[49m\u001b[43m:\u001b[49m\u001b[43m,\u001b[49m\u001b[43m \u001b[49m\u001b[43m:\u001b[49m\u001b[43m,\u001b[49m\u001b[43m \u001b[49m\u001b[38;5;241;43m3\u001b[39;49m\u001b[43m]\u001b[49m  \u001b[38;5;66;03m# B4\u001b[39;00m\n\u001b[1;32m      4\u001b[0m     green \u001b[38;5;241m=\u001b[39m patch[:, :, \u001b[38;5;241m2\u001b[39m]  \u001b[38;5;66;03m# B3\u001b[39;00m\n\u001b[1;32m      5\u001b[0m     blue \u001b[38;5;241m=\u001b[39m patch[:, :, \u001b[38;5;241m1\u001b[39m]  \u001b[38;5;66;03m# B2\u001b[39;00m\n",
      "\u001b[0;31mIndexError\u001b[0m: index 3 is out of bounds for axis 2 with size 3"
     ]
    }
   ],
   "source": [
    "show_inputs(ip)"
   ]
  },
  {
   "cell_type": "code",
   "execution_count": null,
   "metadata": {},
   "outputs": [],
   "source": []
  }
 ],
 "metadata": {
  "kernelspec": {
   "display_name": "modal",
   "language": "python",
   "name": "python3"
  },
  "language_info": {
   "codemirror_mode": {
    "name": "ipython",
    "version": 3
   },
   "file_extension": ".py",
   "mimetype": "text/x-python",
   "name": "python",
   "nbconvert_exporter": "python",
   "pygments_lexer": "ipython3",
   "version": "3.11.5"
  }
 },
 "nbformat": 4,
 "nbformat_minor": 2
}
