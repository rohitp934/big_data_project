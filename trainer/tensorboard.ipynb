{
 "cells": [
  {
   "cell_type": "code",
   "execution_count": 1,
   "metadata": {},
   "outputs": [],
   "source": [
    "import modal\n",
    "from modal import wsgi_app\n",
    "\n",
    "app = modal.App(\"tensorboard\")\n",
    "image = modal.Image.debian_slim(python_version=\"3.11\").pip_install(\n",
    "    \"tensorboard\",\n",
    "    \"pandas\",\n",
    "    \"numpy\",\n",
    "    \"Pillow\",\n",
    "    \"matplotlib\",\n",
    "    \"scikit-learn\",\n",
    ")\n",
    "\n",
    "vol = modal.Volume.from_name(\"climate-forecast\")"
   ]
  },
  {
   "cell_type": "code",
   "execution_count": 2,
   "metadata": {},
   "outputs": [],
   "source": [
    "@app.function(\n",
    "    image=image,\n",
    "    volumes={\"/vol\": vol},\n",
    "    timeout=(60 * 60 * 24),\n",
    ")\n",
    "@wsgi_app()\n",
    "def tensorboard_app():\n",
    "    import tensorboard\n",
    "\n",
    "    board = tensorboard.program.TensorBoard()\n",
    "    board.configure(logdir=\"/vol/flax/logs/\")\n",
    "    (data_provider, deprecated_multiplexer) = board._make_data_provider()\n",
    "    wsgi_app = tensorboard.backend.application.TensorBoardWSGIApp(\n",
    "        board.flags,\n",
    "        board.plugin_loaders,\n",
    "        data_provider,\n",
    "        board.assets_zip_provider,\n",
    "        deprecated_multiplexer,\n",
    "    )  # Note: prior to April 2024, \"app\" was called \"stub\"\n",
    "    return wsgi_app"
   ]
  },
  {
   "cell_type": "code",
   "execution_count": 3,
   "metadata": {},
   "outputs": [
    {
     "data": {
      "application/vnd.jupyter.widget-view+json": {
       "model_id": "ea2b1ef52fc744ba8163ebbe8fb7a3a2",
       "version_major": 2,
       "version_minor": 0
      },
      "text/plain": [
       "Output()"
      ]
     },
     "metadata": {},
     "output_type": "display_data"
    },
    {
     "data": {
      "text/html": [
       "<pre style=\"white-space:pre;overflow-x:auto;line-height:normal;font-family:Menlo,'DejaVu Sans Mono',consolas,'Courier New',monospace\"><span style=\"color: #008000; text-decoration-color: #008000\">✓</span> Initialized. <span style=\"color: #b2b2b2; text-decoration-color: #b2b2b2\">View run at </span><span style=\"color: #b2b2b2; text-decoration-color: #b2b2b2; text-decoration: underline\">https://modal.com/rohitp934/apps/ap-pwy9MLVi646W89pv0zhOPt</span>\n",
       "</pre>\n"
      ],
      "text/plain": [
       "\u001b[32m✓\u001b[0m Initialized. \u001b[38;5;249mView run at \u001b[0m\u001b[4;38;5;249mhttps://modal.com/rohitp934/apps/ap-pwy9MLVi646W89pv0zhOPt\u001b[0m\n"
      ]
     },
     "metadata": {},
     "output_type": "display_data"
    },
    {
     "data": {
      "text/html": [
       "<pre style=\"white-space:pre;overflow-x:auto;line-height:normal;font-family:Menlo,'DejaVu Sans Mono',consolas,'Courier New',monospace\"></pre>\n"
      ],
      "text/plain": []
     },
     "metadata": {},
     "output_type": "display_data"
    },
    {
     "data": {
      "application/vnd.jupyter.widget-view+json": {
       "model_id": "56b905e80c21452ba274814548710924",
       "version_major": 2,
       "version_minor": 0
      },
      "text/plain": [
       "Output()"
      ]
     },
     "metadata": {},
     "output_type": "display_data"
    },
    {
     "data": {
      "text/html": [
       "<pre style=\"white-space:pre;overflow-x:auto;line-height:normal;font-family:Menlo,'DejaVu Sans Mono',consolas,'Courier New',monospace\"></pre>\n"
      ],
      "text/plain": []
     },
     "metadata": {},
     "output_type": "display_data"
    },
    {
     "data": {
      "text/html": [
       "<pre style=\"white-space:pre;overflow-x:auto;line-height:normal;font-family:Menlo,'DejaVu Sans Mono',consolas,'Courier New',monospace\"><span style=\"color: #008000; text-decoration-color: #008000\">✓</span> Created objects.\n",
       "<span style=\"color: #808080; text-decoration-color: #808080\">└── </span>🔨 Created tensorboard_app =&gt; <span style=\"color: #800080; text-decoration-color: #800080; text-decoration: underline\">https://rohitp934--tensorboard-tensorboard-app-dev.modal.run</span>\n",
       "</pre>\n"
      ],
      "text/plain": [
       "\u001b[32m✓\u001b[0m Created objects.\n",
       "\u001b[38;5;244m└── \u001b[0m🔨 Created tensorboard_app => \u001b[4;35mhttps://rohitp934--tensorboard-tensorboard-app-dev.modal.run\u001b[0m\n"
      ]
     },
     "metadata": {},
     "output_type": "display_data"
    },
    {
     "data": {
      "application/vnd.jupyter.widget-view+json": {
       "model_id": "94a036740b8d48778d24c98280f6fef1",
       "version_major": 2,
       "version_minor": 0
      },
      "text/plain": [
       "Output()"
      ]
     },
     "metadata": {},
     "output_type": "display_data"
    },
    {
     "data": {
      "text/html": [
       "<pre style=\"white-space:pre;overflow-x:auto;line-height:normal;font-family:Menlo,'DejaVu Sans Mono',consolas,'Courier New',monospace\"><span style=\"color: #800000; text-decoration-color: #800000\">\n",
       "NOTE: Using experimental fast data loading logic. To disable, pass\n",
       "    \"--load_fast=false\" and report issues on GitHub. More details:\n",
       "    https://github.com/tensorflow/tensorboard/issues/4784\n",
       "\n",
       "</span></pre>\n"
      ],
      "text/plain": [
       "\u001b[31m\n",
       "NOTE: Using experimental fast data loading logic. To disable, pass\n",
       "    \"--load_fast=false\" and report issues on GitHub. More details:\n",
       "    https://github.com/tensorflow/tensorboard/issues/4784\n",
       "\n",
       "\u001b[0m"
      ]
     },
     "metadata": {},
     "output_type": "display_data"
    },
    {
     "data": {
      "text/html": [
       "<pre style=\"white-space:pre;overflow-x:auto;line-height:normal;font-family:Menlo,'DejaVu Sans Mono',consolas,'Courier New',monospace\"><span style=\"color: #808000; text-decoration-color: #808000\">    GET / -&gt; 200 OK  (duration: 5.59 s, execution: 585.1 ms)\n",
       "</span></pre>\n"
      ],
      "text/plain": [
       "\u001b[33m    GET / -> 200 OK  (duration: 5.59 s, execution: 585.1 ms)\n",
       "\u001b[0m"
      ]
     },
     "metadata": {},
     "output_type": "display_data"
    },
    {
     "data": {
      "text/html": [
       "<pre style=\"white-space:pre;overflow-x:auto;line-height:normal;font-family:Menlo,'DejaVu Sans Mono',consolas,'Courier New',monospace\"><span style=\"color: #808000; text-decoration-color: #808000\">    GET /index.js -&gt; 200 OK  (duration: 478.9 ms, execution: 345.4 ms)\n",
       "</span></pre>\n"
      ],
      "text/plain": [
       "\u001b[33m    GET /index.js -> 200 OK  (duration: 478.9 ms, execution: 345.4 ms)\n",
       "\u001b[0m"
      ]
     },
     "metadata": {},
     "output_type": "display_data"
    },
    {
     "data": {
      "text/html": [
       "<pre style=\"white-space:pre;overflow-x:auto;line-height:normal;font-family:Menlo,'DejaVu Sans Mono',consolas,'Courier New',monospace\"><span style=\"color: #808000; text-decoration-color: #808000\">    GET /font-roboto/oMMgfZMQthOryQo9n22dcuvvDin1pK8aKteLpeZ5c0A.woff2 -&gt; 200 OK  (duration: 649.3 ms, execution: 92.1 ms)\n",
       "</span></pre>\n"
      ],
      "text/plain": [
       "\u001b[33m    GET /font-roboto/oMMgfZMQthOryQo9n22dcuvvDin1pK8aKteLpeZ5c0A.woff2 -> 200 OK  (duration: 649.3 ms, execution: 92.1 ms)\n",
       "\u001b[0m"
      ]
     },
     "metadata": {},
     "output_type": "display_data"
    },
    {
     "data": {
      "text/html": [
       "<pre style=\"white-space:pre;overflow-x:auto;line-height:normal;font-family:Menlo,'DejaVu Sans Mono',consolas,'Courier New',monospace\"><span style=\"color: #808000; text-decoration-color: #808000\">    GET /icon_bundle.svg -&gt; 200 OK  (duration: 177.0 ms, execution: 94.1 ms)\n",
       "</span></pre>\n"
      ],
      "text/plain": [
       "\u001b[33m    GET /icon_bundle.svg -> 200 OK  (duration: 177.0 ms, execution: 94.1 ms)\n",
       "\u001b[0m"
      ]
     },
     "metadata": {},
     "output_type": "display_data"
    },
    {
     "data": {
      "text/html": [
       "<pre style=\"white-space:pre;overflow-x:auto;line-height:normal;font-family:Menlo,'DejaVu Sans Mono',consolas,'Courier New',monospace\"><span style=\"color: #808000; text-decoration-color: #808000\">    GET /font-roboto/RxZJdnzeo3R5zSexge8UUZBw1xU1rKptJj_0jans920.woff2 -&gt; 200 OK  (duration: 345.7 ms, execution: 89.1 ms)\n",
       "</span></pre>\n"
      ],
      "text/plain": [
       "\u001b[33m    GET /font-roboto/RxZJdnzeo3R5zSexge8UUZBw1xU1rKptJj_0jans920.woff2 -> 200 OK  (duration: 345.7 ms, execution: 89.1 ms)\n",
       "\u001b[0m"
      ]
     },
     "metadata": {},
     "output_type": "display_data"
    },
    {
     "data": {
      "text/html": [
       "<pre style=\"white-space:pre;overflow-x:auto;line-height:normal;font-family:Menlo,'DejaVu Sans Mono',consolas,'Courier New',monospace\"><span style=\"color: #808000; text-decoration-color: #808000\">    GET /data/plugins_listing -&gt; 200 OK  (duration: 430.3 ms, execution: 91.2 ms)\n",
       "</span></pre>\n"
      ],
      "text/plain": [
       "\u001b[33m    GET /data/plugins_listing -> 200 OK  (duration: 430.3 ms, execution: 91.2 ms)\n",
       "\u001b[0m"
      ]
     },
     "metadata": {},
     "output_type": "display_data"
    },
    {
     "data": {
      "text/html": [
       "<pre style=\"white-space:pre;overflow-x:auto;line-height:normal;font-family:Menlo,'DejaVu Sans Mono',consolas,'Courier New',monospace\"><span style=\"color: #808000; text-decoration-color: #808000\">    GET /data/runs -&gt; 200 OK  (duration: 1.06 s, execution: 92.6 ms)\n",
       "</span></pre>\n"
      ],
      "text/plain": [
       "\u001b[33m    GET /data/runs -> 200 OK  (duration: 1.06 s, execution: 92.6 ms)\n",
       "\u001b[0m"
      ]
     },
     "metadata": {},
     "output_type": "display_data"
    },
    {
     "data": {
      "text/html": [
       "<pre style=\"white-space:pre;overflow-x:auto;line-height:normal;font-family:Menlo,'DejaVu Sans Mono',consolas,'Courier New',monospace\"><span style=\"color: #800000; text-decoration-color: #800000\">Traceback (most recent call last):\n",
       "</span></pre>\n"
      ],
      "text/plain": [
       "\u001b[31mTraceback (most recent call last):\n",
       "\u001b[0m"
      ]
     },
     "metadata": {},
     "output_type": "display_data"
    },
    {
     "data": {
      "text/html": [
       "<pre style=\"white-space:pre;overflow-x:auto;line-height:normal;font-family:Menlo,'DejaVu Sans Mono',consolas,'Courier New',monospace\"><span style=\"color: #800000; text-decoration-color: #800000\">  File \"/pkg/modal/_container_io_manager.py\", line 488, in handle_input_exception\n",
       "    yield\n",
       "</span></pre>\n"
      ],
      "text/plain": [
       "\u001b[31m  File \"/pkg/modal/_container_io_manager.py\", line 488, in handle_input_exception\n",
       "    yield\n",
       "\u001b[0m"
      ]
     },
     "metadata": {},
     "output_type": "display_data"
    },
    {
     "data": {
      "text/html": [
       "<pre style=\"white-space:pre;overflow-x:auto;line-height:normal;font-family:Menlo,'DejaVu Sans Mono',consolas,'Courier New',monospace\"><span style=\"color: #800000; text-decoration-color: #800000\">  File \"/pkg/modal/_container_entrypoint.py\", line 244, in run_input\n",
       "    async for value in res:\n",
       "</span></pre>\n"
      ],
      "text/plain": [
       "\u001b[31m  File \"/pkg/modal/_container_entrypoint.py\", line 244, in run_input\n",
       "    async for value in res:\n",
       "\u001b[0m"
      ]
     },
     "metadata": {},
     "output_type": "display_data"
    },
    {
     "data": {
      "text/html": [
       "<pre style=\"white-space:pre;overflow-x:auto;line-height:normal;font-family:Menlo,'DejaVu Sans Mono',consolas,'Courier New',monospace\"><span style=\"color: #800000; text-decoration-color: #800000\">  File \"/pkg/modal/_asgi.py\", line 126, in fn\n",
       "    app_task.result()  # consume/raise exceptions if there are any!\n",
       "    ^^^^^^^^^^^^^^^^^\n",
       "</span></pre>\n"
      ],
      "text/plain": [
       "\u001b[31m  File \"/pkg/modal/_asgi.py\", line 126, in fn\n",
       "    app_task.result()  # consume/raise exceptions if there are any!\n",
       "    ^^^^^^^^^^^^^^^^^\n",
       "\u001b[0m"
      ]
     },
     "metadata": {},
     "output_type": "display_data"
    },
    {
     "data": {
      "text/html": [
       "<pre style=\"white-space:pre;overflow-x:auto;line-height:normal;font-family:Menlo,'DejaVu Sans Mono',consolas,'Courier New',monospace\"><span style=\"color: #800000; text-decoration-color: #800000\">  File \"/pkg/modal/_vendor/a2wsgi_wsgi.py\", line 562, in __call__\n",
       "    return await responder(scope, receive, send)\n",
       "           ^^^^^^^^^^^^^^^^^^^^^^^^^^^^^^^^^^^^^\n",
       "</span></pre>\n"
      ],
      "text/plain": [
       "\u001b[31m  File \"/pkg/modal/_vendor/a2wsgi_wsgi.py\", line 562, in __call__\n",
       "    return await responder(scope, receive, send)\n",
       "           ^^^^^^^^^^^^^^^^^^^^^^^^^^^^^^^^^^^^^\n",
       "\u001b[0m"
      ]
     },
     "metadata": {},
     "output_type": "display_data"
    },
    {
     "data": {
      "text/html": [
       "<pre style=\"white-space:pre;overflow-x:auto;line-height:normal;font-family:Menlo,'DejaVu Sans Mono',consolas,'Courier New',monospace\"><span style=\"color: #800000; text-decoration-color: #800000\">  File \"/pkg/modal/_vendor/a2wsgi_wsgi.py\", line 597, in __call__\n",
       "    await self.loop.run_in_executor(\n",
       "</span></pre>\n"
      ],
      "text/plain": [
       "\u001b[31m  File \"/pkg/modal/_vendor/a2wsgi_wsgi.py\", line 597, in __call__\n",
       "    await self.loop.run_in_executor(\n",
       "\u001b[0m"
      ]
     },
     "metadata": {},
     "output_type": "display_data"
    },
    {
     "data": {
      "text/html": [
       "<pre style=\"white-space:pre;overflow-x:auto;line-height:normal;font-family:Menlo,'DejaVu Sans Mono',consolas,'Courier New',monospace\"><span style=\"color: #800000; text-decoration-color: #800000\">  File \"/usr/local/lib/python3.11/concurrent/futures/thread.py\", line 58, in run\n",
       "    result = self.fn(*self.args, **self.kwargs)\n",
       "             ^^^^^^^^^^^^^^^^^^^^^^^^^^^^^^^^^^\n",
       "</span></pre>\n"
      ],
      "text/plain": [
       "\u001b[31m  File \"/usr/local/lib/python3.11/concurrent/futures/thread.py\", line 58, in run\n",
       "    result = self.fn(*self.args, **self.kwargs)\n",
       "             ^^^^^^^^^^^^^^^^^^^^^^^^^^^^^^^^^^\n",
       "\u001b[0m"
      ]
     },
     "metadata": {},
     "output_type": "display_data"
    },
    {
     "data": {
      "text/html": [
       "<pre style=\"white-space:pre;overflow-x:auto;line-height:normal;font-family:Menlo,'DejaVu Sans Mono',consolas,'Courier New',monospace\"><span style=\"color: #800000; text-decoration-color: #800000\">  File \"/pkg/modal/_vendor/a2wsgi_wsgi.py\", line 653, in wsgi\n",
       "    iterable = self.app(environ, start_response)\n",
       "               ^^^^^^^^^^^^^^^^^^^^^^^^^^^^^^^^^\n",
       "</span></pre>\n"
      ],
      "text/plain": [
       "\u001b[31m  File \"/pkg/modal/_vendor/a2wsgi_wsgi.py\", line 653, in wsgi\n",
       "    iterable = self.app(environ, start_response)\n",
       "               ^^^^^^^^^^^^^^^^^^^^^^^^^^^^^^^^^\n",
       "\u001b[0m"
      ]
     },
     "metadata": {},
     "output_type": "display_data"
    },
    {
     "data": {
      "text/html": [
       "<pre style=\"white-space:pre;overflow-x:auto;line-height:normal;font-family:Menlo,'DejaVu Sans Mono',consolas,'Courier New',monospace\"><span style=\"color: #800000; text-decoration-color: #800000\">  File \"/usr/local/lib/python3.11/site-packages/tensorboard/backend/application.py\", line 528, in __call__\n",
       "    return self._app(environ, start_response)\n",
       "           ^^^^^^^^^^^^^^^^^^^^^^^^^^^^^^^^^^\n",
       "</span></pre>\n"
      ],
      "text/plain": [
       "\u001b[31m  File \"/usr/local/lib/python3.11/site-packages/tensorboard/backend/application.py\", line 528, in __call__\n",
       "    return self._app(environ, start_response)\n",
       "           ^^^^^^^^^^^^^^^^^^^^^^^^^^^^^^^^^^\n",
       "\u001b[0m"
      ]
     },
     "metadata": {},
     "output_type": "display_data"
    },
    {
     "data": {
      "text/html": [
       "<pre style=\"white-space:pre;overflow-x:auto;line-height:normal;font-family:Menlo,'DejaVu Sans Mono',consolas,'Courier New',monospace\"><span style=\"color: #800000; text-decoration-color: #800000\">  File \"/usr/local/lib/python3.11/site-packages/tensorboard/backend/application.py\", line 569, in wrapper\n",
       "    return wsgi_app(environ, start_response)\n",
       "           ^^^^^^^^^^^^^^^^^^^^^^^^^^^^^^^^^\n",
       "</span></pre>\n"
      ],
      "text/plain": [
       "\u001b[31m  File \"/usr/local/lib/python3.11/site-packages/tensorboard/backend/application.py\", line 569, in wrapper\n",
       "    return wsgi_app(environ, start_response)\n",
       "           ^^^^^^^^^^^^^^^^^^^^^^^^^^^^^^^^^\n",
       "\u001b[0m"
      ]
     },
     "metadata": {},
     "output_type": "display_data"
    },
    {
     "data": {
      "text/html": [
       "<pre style=\"white-space:pre;overflow-x:auto;line-height:normal;font-family:Menlo,'DejaVu Sans Mono',consolas,'Courier New',monospace\"><span style=\"color: #800000; text-decoration-color: #800000\">  File \"/usr/local/lib/python3.11/site-packages/tensorboard/backend/security_validator.py\", line 91, in __call__\n",
       "    return self._application(environ, start_response_proxy)\n",
       "           ^^^^^^^^^^^^^^^^^^^^^^^^^^^^^^^^^^^^^^^^^^^^^^^^\n",
       "</span></pre>\n"
      ],
      "text/plain": [
       "\u001b[31m  File \"/usr/local/lib/python3.11/site-packages/tensorboard/backend/security_validator.py\", line 91, in __call__\n",
       "    return self._application(environ, start_response_proxy)\n",
       "           ^^^^^^^^^^^^^^^^^^^^^^^^^^^^^^^^^^^^^^^^^^^^^^^^\n",
       "\u001b[0m"
      ]
     },
     "metadata": {},
     "output_type": "display_data"
    },
    {
     "data": {
      "text/html": [
       "<pre style=\"white-space:pre;overflow-x:auto;line-height:normal;font-family:Menlo,'DejaVu Sans Mono',consolas,'Courier New',monospace\"><span style=\"color: #800000; text-decoration-color: #800000\">  File \"/usr/local/lib/python3.11/site-packages/tensorboard/backend/path_prefix.py\", line 68, in __call__\n",
       "    return self._application(environ, start_response)\n",
       "           ^^^^^^^^^^^^^^^^^^^^^^^^^^^^^^^^^^^^^^^^^^\n",
       "</span></pre>\n"
      ],
      "text/plain": [
       "\u001b[31m  File \"/usr/local/lib/python3.11/site-packages/tensorboard/backend/path_prefix.py\", line 68, in __call__\n",
       "    return self._application(environ, start_response)\n",
       "           ^^^^^^^^^^^^^^^^^^^^^^^^^^^^^^^^^^^^^^^^^^\n",
       "\u001b[0m"
      ]
     },
     "metadata": {},
     "output_type": "display_data"
    },
    {
     "data": {
      "text/html": [
       "<pre style=\"white-space:pre;overflow-x:auto;line-height:normal;font-family:Menlo,'DejaVu Sans Mono',consolas,'Courier New',monospace\"><span style=\"color: #800000; text-decoration-color: #800000\">  File \"/usr/local/lib/python3.11/site-packages/tensorboard/backend/experiment_id.py\", line 73, in __call__\n",
       "    return self._application(environ, start_response)\n",
       "           ^^^^^^^^^^^^^^^^^^^^^^^^^^^^^^^^^^^^^^^^^^\n",
       "</span></pre>\n"
      ],
      "text/plain": [
       "\u001b[31m  File \"/usr/local/lib/python3.11/site-packages/tensorboard/backend/experiment_id.py\", line 73, in __call__\n",
       "    return self._application(environ, start_response)\n",
       "           ^^^^^^^^^^^^^^^^^^^^^^^^^^^^^^^^^^^^^^^^^^\n",
       "\u001b[0m"
      ]
     },
     "metadata": {},
     "output_type": "display_data"
    },
    {
     "data": {
      "text/html": [
       "<pre style=\"white-space:pre;overflow-x:auto;line-height:normal;font-family:Menlo,'DejaVu Sans Mono',consolas,'Courier New',monospace\"><span style=\"color: #800000; text-decoration-color: #800000\">  File \"/usr/local/lib/python3.11/site-packages/tensorboard/backend/empty_path_redirect.py\", line 43, in __call__\n",
       "    return self._application(environ, start_response)\n",
       "           ^^^^^^^^^^^^^^^^^^^^^^^^^^^^^^^^^^^^^^^^^^\n",
       "</span></pre>\n"
      ],
      "text/plain": [
       "\u001b[31m  File \"/usr/local/lib/python3.11/site-packages/tensorboard/backend/empty_path_redirect.py\", line 43, in __call__\n",
       "    return self._application(environ, start_response)\n",
       "           ^^^^^^^^^^^^^^^^^^^^^^^^^^^^^^^^^^^^^^^^^^\n",
       "\u001b[0m"
      ]
     },
     "metadata": {},
     "output_type": "display_data"
    },
    {
     "data": {
      "text/html": [
       "<pre style=\"white-space:pre;overflow-x:auto;line-height:normal;font-family:Menlo,'DejaVu Sans Mono',consolas,'Courier New',monospace\"><span style=\"color: #800000; text-decoration-color: #800000\">  File \"/usr/local/lib/python3.11/site-packages/tensorboard/backend/client_feature_flags.py\", line 55, in __call__\n",
       "    return self._application(environ, start_response)\n",
       "           ^^^^^^^^^^^^^^^^^^^^^^^^^^^^^^^^^^^^^^^^^^\n",
       "</span></pre>\n"
      ],
      "text/plain": [
       "\u001b[31m  File \"/usr/local/lib/python3.11/site-packages/tensorboard/backend/client_feature_flags.py\", line 55, in __call__\n",
       "    return self._application(environ, start_response)\n",
       "           ^^^^^^^^^^^^^^^^^^^^^^^^^^^^^^^^^^^^^^^^^^\n",
       "\u001b[0m"
      ]
     },
     "metadata": {},
     "output_type": "display_data"
    },
    {
     "data": {
      "text/html": [
       "<pre style=\"white-space:pre;overflow-x:auto;line-height:normal;font-family:Menlo,'DejaVu Sans Mono',consolas,'Courier New',monospace\"><span style=\"color: #800000; text-decoration-color: #800000\">  File \"/usr/local/lib/python3.11/site-packages/tensorboard/backend/auth_context_middleware.py\", line 38, in __call__\n",
       "    return self._application(environ, start_response)\n",
       "           ^^^^^^^^^^^^^^^^^^^^^^^^^^^^^^^^^^^^^^^^^^\n",
       "</span></pre>\n"
      ],
      "text/plain": [
       "\u001b[31m  File \"/usr/local/lib/python3.11/site-packages/tensorboard/backend/auth_context_middleware.py\", line 38, in __call__\n",
       "    return self._application(environ, start_response)\n",
       "           ^^^^^^^^^^^^^^^^^^^^^^^^^^^^^^^^^^^^^^^^^^\n",
       "\u001b[0m"
      ]
     },
     "metadata": {},
     "output_type": "display_data"
    },
    {
     "data": {
      "text/html": [
       "<pre style=\"white-space:pre;overflow-x:auto;line-height:normal;font-family:Menlo,'DejaVu Sans Mono',consolas,'Courier New',monospace\"><span style=\"color: #800000; text-decoration-color: #800000\">  File \"/usr/local/lib/python3.11/site-packages/tensorboard/backend/application.py\", line 551, in _route_request\n",
       "    return self.exact_routes[clean_path](environ, start_response)\n",
       "           ^^^^^^^^^^^^^^^^^^^^^^^^^^^^^^^^^^^^^^^^^^^^^^^^^^^^^^\n",
       "</span></pre>\n"
      ],
      "text/plain": [
       "\u001b[31m  File \"/usr/local/lib/python3.11/site-packages/tensorboard/backend/application.py\", line 551, in _route_request\n",
       "    return self.exact_routes[clean_path](environ, start_response)\n",
       "           ^^^^^^^^^^^^^^^^^^^^^^^^^^^^^^^^^^^^^^^^^^^^^^^^^^^^^^\n",
       "\u001b[0m"
      ]
     },
     "metadata": {},
     "output_type": "display_data"
    },
    {
     "data": {
      "text/html": [
       "<pre style=\"white-space:pre;overflow-x:auto;line-height:normal;font-family:Menlo,'DejaVu Sans Mono',consolas,'Courier New',monospace\"><span style=\"color: #800000; text-decoration-color: #800000\">  File \"/usr/local/lib/python3.11/site-packages/werkzeug/wrappers/request.py\", line 189, in application\n",
       "    resp = f(*args[:-2] + (request,))\n",
       "           ^^^^^^^^^^^^^^^^^^^^^^^^^^\n",
       "</span></pre>\n"
      ],
      "text/plain": [
       "\u001b[31m  File \"/usr/local/lib/python3.11/site-packages/werkzeug/wrappers/request.py\", line 189, in application\n",
       "    resp = f(*args[:-2] + (request,))\n",
       "           ^^^^^^^^^^^^^^^^^^^^^^^^^^\n",
       "\u001b[0m"
      ]
     },
     "metadata": {},
     "output_type": "display_data"
    },
    {
     "data": {
      "text/html": [
       "<pre style=\"white-space:pre;overflow-x:auto;line-height:normal;font-family:Menlo,'DejaVu Sans Mono',consolas,'Courier New',monospace\"><span style=\"color: #800000; text-decoration-color: #800000\">  File \"/usr/local/lib/python3.11/site-packages/tensorboard/plugins/hparams/hparams_plugin.py\", line 121, in get_experiment_route\n",
       "    json_format.MessageToJson(\n",
       "</span></pre>\n"
      ],
      "text/plain": [
       "\u001b[31m  File \"/usr/local/lib/python3.11/site-packages/tensorboard/plugins/hparams/hparams_plugin.py\", line 121, in get_experiment_route\n",
       "    json_format.MessageToJson(\n",
       "\u001b[0m"
      ]
     },
     "metadata": {},
     "output_type": "display_data"
    },
    {
     "data": {
      "text/html": [
       "<pre style=\"white-space:pre;overflow-x:auto;line-height:normal;font-family:Menlo,'DejaVu Sans Mono',consolas,'Courier New',monospace\"><span style=\"color: #800000; text-decoration-color: #800000\">TypeError: MessageToJson() got an unexpected keyword argument 'including_default_value_fields'\n",
       "</span></pre>\n"
      ],
      "text/plain": [
       "\u001b[31mTypeError: MessageToJson() got an unexpected keyword argument 'including_default_value_fields'\n",
       "\u001b[0m"
      ]
     },
     "metadata": {},
     "output_type": "display_data"
    },
    {
     "data": {
      "text/html": [
       "<pre style=\"white-space:pre;overflow-x:auto;line-height:normal;font-family:Menlo,'DejaVu Sans Mono',consolas,'Courier New',monospace\"><span style=\"color: #808000; text-decoration-color: #808000\">    GET /data/environment -&gt; 200 OK  (duration: 1.29 s, execution: 90.4 ms)\n",
       "</span></pre>\n"
      ],
      "text/plain": [
       "\u001b[33m    GET /data/environment -> 200 OK  (duration: 1.29 s, execution: 90.4 ms)\n",
       "\u001b[0m"
      ]
     },
     "metadata": {},
     "output_type": "display_data"
    },
    {
     "data": {
      "text/html": [
       "<pre style=\"white-space:pre;overflow-x:auto;line-height:normal;font-family:Menlo,'DejaVu Sans Mono',consolas,'Courier New',monospace\"><span style=\"color: #800000; text-decoration-color: #800000\">ERROR:asyncio:Task was destroyed but it is pending!\n",
       "task: &lt;Task pending name='Task-173' coro=&lt;aio_generator_output_task() done, defined at /pkg/synchronicity/async_wrap.py:27&gt; wait_for=&lt;Future pending cb=[_chain_future.&lt;locals&gt;._call_check_cancel() at /usr/local/lib/python3.11/asyncio/futures.py:387, Task.task_wakeup()]&gt;&gt;\n",
       "</span></pre>\n"
      ],
      "text/plain": [
       "\u001b[31mERROR:asyncio:Task was destroyed but it is pending!\n",
       "task: <Task pending name='Task-173' coro=<aio_generator_output_task() done, defined at /pkg/synchronicity/async_wrap.py:27> wait_for=<Future pending cb=[_chain_future.<locals>._call_check_cancel() at /usr/local/lib/python3.11/asyncio/futures.py:387, Task.task_wakeup()]>>\n",
       "\u001b[0m"
      ]
     },
     "metadata": {},
     "output_type": "display_data"
    },
    {
     "data": {
      "text/html": [
       "<pre style=\"white-space:pre;overflow-x:auto;line-height:normal;font-family:Menlo,'DejaVu Sans Mono',consolas,'Courier New',monospace\"><span style=\"color: #800000; text-decoration-color: #800000\"></span></pre>\n"
      ],
      "text/plain": []
     },
     "metadata": {},
     "output_type": "display_data"
    },
    {
     "data": {
      "text/html": [
       "<pre style=\"white-space:pre;overflow-x:auto;line-height:normal;font-family:Menlo,'DejaVu Sans Mono',consolas,'Courier New',monospace\"><span style=\"color: #800000; text-decoration-color: #800000\"></span></pre>\n"
      ],
      "text/plain": []
     },
     "metadata": {},
     "output_type": "display_data"
    },
    {
     "data": {
      "text/html": [
       "<pre style=\"white-space:pre;overflow-x:auto;line-height:normal;font-family:Menlo,'DejaVu Sans Mono',consolas,'Courier New',monospace\"><span style=\"color: #800000; text-decoration-color: #800000\">Exception ignored in: &lt;coroutine object wrap_coro_exception.&lt;locals&gt;.coro_wrapped at 0x7f9c67eb34c0&gt;\n",
       "</span></pre>\n"
      ],
      "text/plain": [
       "\u001b[31mException ignored in: <coroutine object wrap_coro_exception.<locals>.coro_wrapped at 0x7f9c67eb34c0>\n",
       "\u001b[0m"
      ]
     },
     "metadata": {},
     "output_type": "display_data"
    },
    {
     "data": {
      "text/html": [
       "<pre style=\"white-space:pre;overflow-x:auto;line-height:normal;font-family:Menlo,'DejaVu Sans Mono',consolas,'Courier New',monospace\"><span style=\"color: #800000; text-decoration-color: #800000\">Traceback (most recent call last):\n",
       "</span></pre>\n"
      ],
      "text/plain": [
       "\u001b[31mTraceback (most recent call last):\n",
       "\u001b[0m"
      ]
     },
     "metadata": {},
     "output_type": "display_data"
    },
    {
     "data": {
      "text/html": [
       "<pre style=\"white-space:pre;overflow-x:auto;line-height:normal;font-family:Menlo,'DejaVu Sans Mono',consolas,'Courier New',monospace\"><span style=\"color: #800000; text-decoration-color: #800000\">  File \"/pkg/synchronicity/exceptions.py\", line 31, in coro_wrapped\n",
       "</span></pre>\n"
      ],
      "text/plain": [
       "\u001b[31m  File \"/pkg/synchronicity/exceptions.py\", line 31, in coro_wrapped\n",
       "\u001b[0m"
      ]
     },
     "metadata": {},
     "output_type": "display_data"
    },
    {
     "data": {
      "text/html": [
       "<pre style=\"white-space:pre;overflow-x:auto;line-height:normal;font-family:Menlo,'DejaVu Sans Mono',consolas,'Courier New',monospace\"><span style=\"color: #800000; text-decoration-color: #800000\"></span></pre>\n"
      ],
      "text/plain": []
     },
     "metadata": {},
     "output_type": "display_data"
    },
    {
     "data": {
      "text/html": [
       "<pre style=\"white-space:pre;overflow-x:auto;line-height:normal;font-family:Menlo,'DejaVu Sans Mono',consolas,'Courier New',monospace\"><span style=\"color: #800000; text-decoration-color: #800000\"></span></pre>\n"
      ],
      "text/plain": []
     },
     "metadata": {},
     "output_type": "display_data"
    },
    {
     "data": {
      "text/html": [
       "<pre style=\"white-space:pre;overflow-x:auto;line-height:normal;font-family:Menlo,'DejaVu Sans Mono',consolas,'Courier New',monospace\"><span style=\"color: #800000; text-decoration-color: #800000\">    raise UserCodeException(exc)\n",
       "</span></pre>\n"
      ],
      "text/plain": [
       "\u001b[31m    raise UserCodeException(exc)\n",
       "\u001b[0m"
      ]
     },
     "metadata": {},
     "output_type": "display_data"
    },
    {
     "data": {
      "text/html": [
       "<pre style=\"white-space:pre;overflow-x:auto;line-height:normal;font-family:Menlo,'DejaVu Sans Mono',consolas,'Courier New',monospace\"><span style=\"color: #800000; text-decoration-color: #800000\"></span></pre>\n"
      ],
      "text/plain": []
     },
     "metadata": {},
     "output_type": "display_data"
    },
    {
     "data": {
      "text/html": [
       "<pre style=\"white-space:pre;overflow-x:auto;line-height:normal;font-family:Menlo,'DejaVu Sans Mono',consolas,'Courier New',monospace\"><span style=\"color: #800000; text-decoration-color: #800000\"></span></pre>\n"
      ],
      "text/plain": []
     },
     "metadata": {},
     "output_type": "display_data"
    },
    {
     "data": {
      "text/html": [
       "<pre style=\"white-space:pre;overflow-x:auto;line-height:normal;font-family:Menlo,'DejaVu Sans Mono',consolas,'Courier New',monospace\"><span style=\"color: #800000; text-decoration-color: #800000\"></span></pre>\n"
      ],
      "text/plain": []
     },
     "metadata": {},
     "output_type": "display_data"
    },
    {
     "data": {
      "text/html": [
       "<pre style=\"white-space:pre;overflow-x:auto;line-height:normal;font-family:Menlo,'DejaVu Sans Mono',consolas,'Courier New',monospace\"><span style=\"color: #800000; text-decoration-color: #800000\"></span></pre>\n"
      ],
      "text/plain": []
     },
     "metadata": {},
     "output_type": "display_data"
    },
    {
     "data": {
      "text/html": [
       "<pre style=\"white-space:pre;overflow-x:auto;line-height:normal;font-family:Menlo,'DejaVu Sans Mono',consolas,'Courier New',monospace\"><span style=\"color: #800000; text-decoration-color: #800000\">synchronicity.exceptions.UserCodeException: \n",
       "</span></pre>\n"
      ],
      "text/plain": [
       "\u001b[31msynchronicity.exceptions.UserCodeException: \n",
       "\u001b[0m"
      ]
     },
     "metadata": {},
     "output_type": "display_data"
    },
    {
     "data": {
      "text/html": [
       "<pre style=\"white-space:pre;overflow-x:auto;line-height:normal;font-family:Menlo,'DejaVu Sans Mono',consolas,'Courier New',monospace\"><span style=\"color: #800000; text-decoration-color: #800000\">ERROR:asyncio:Task was destroyed but it is pending!\n",
       "task: &lt;Task pending name='Task-179' coro=&lt;Synchronizer._wrap_check_async_leakage.&lt;locals&gt;.coro_wrapped() done, defined at /pkg/synchronicity/synchronizer.py:214&gt; wait_for=&lt;Future cancelled&gt; cb=[_chain_future.&lt;locals&gt;._call_set_state() at /usr/local/lib/python3.11/asyncio/futures.py:394]&gt;\n",
       "</span></pre>\n"
      ],
      "text/plain": [
       "\u001b[31mERROR:asyncio:Task was destroyed but it is pending!\n",
       "task: <Task pending name='Task-179' coro=<Synchronizer._wrap_check_async_leakage.<locals>.coro_wrapped() done, defined at /pkg/synchronicity/synchronizer.py:214> wait_for=<Future cancelled> cb=[_chain_future.<locals>._call_set_state() at /usr/local/lib/python3.11/asyncio/futures.py:394]>\n",
       "\u001b[0m"
      ]
     },
     "metadata": {},
     "output_type": "display_data"
    },
    {
     "data": {
      "text/html": [
       "<pre style=\"white-space:pre;overflow-x:auto;line-height:normal;font-family:Menlo,'DejaVu Sans Mono',consolas,'Courier New',monospace\"><span style=\"color: #808000; text-decoration-color: #808000\">    GET /experiment/defaultExperimentId/data/runs -&gt; 200 OK  (duration: 1.48 s, execution: 95.2 ms)\n",
       "</span></pre>\n"
      ],
      "text/plain": [
       "\u001b[33m    GET /experiment/defaultExperimentId/data/runs -> 200 OK  (duration: 1.48 s, execution: 95.2 ms)\n",
       "\u001b[0m"
      ]
     },
     "metadata": {},
     "output_type": "display_data"
    },
    {
     "data": {
      "text/html": [
       "<pre style=\"white-space:pre;overflow-x:auto;line-height:normal;font-family:Menlo,'DejaVu Sans Mono',consolas,'Courier New',monospace\"><span style=\"color: #808000; text-decoration-color: #808000\">    GET /data/environment -&gt; 200 OK  (duration: 371.0 ms, execution: 97.1 ms)\n",
       "</span></pre>\n"
      ],
      "text/plain": [
       "\u001b[33m    GET /data/environment -> 200 OK  (duration: 371.0 ms, execution: 97.1 ms)\n",
       "\u001b[0m"
      ]
     },
     "metadata": {},
     "output_type": "display_data"
    },
    {
     "data": {
      "text/html": [
       "<pre style=\"white-space:pre;overflow-x:auto;line-height:normal;font-family:Menlo,'DejaVu Sans Mono',consolas,'Courier New',monospace\"><span style=\"color: #800000; text-decoration-color: #800000\">Traceback (most recent call last):\n",
       "</span></pre>\n"
      ],
      "text/plain": [
       "\u001b[31mTraceback (most recent call last):\n",
       "\u001b[0m"
      ]
     },
     "metadata": {},
     "output_type": "display_data"
    },
    {
     "data": {
      "text/html": [
       "<pre style=\"white-space:pre;overflow-x:auto;line-height:normal;font-family:Menlo,'DejaVu Sans Mono',consolas,'Courier New',monospace\"><span style=\"color: #800000; text-decoration-color: #800000\">  File \"/pkg/modal/_container_io_manager.py\", line 488, in handle_input_exception\n",
       "    yield\n",
       "</span></pre>\n"
      ],
      "text/plain": [
       "\u001b[31m  File \"/pkg/modal/_container_io_manager.py\", line 488, in handle_input_exception\n",
       "    yield\n",
       "\u001b[0m"
      ]
     },
     "metadata": {},
     "output_type": "display_data"
    },
    {
     "data": {
      "text/html": [
       "<pre style=\"white-space:pre;overflow-x:auto;line-height:normal;font-family:Menlo,'DejaVu Sans Mono',consolas,'Courier New',monospace\"><span style=\"color: #800000; text-decoration-color: #800000\">  File \"/pkg/modal/_container_entrypoint.py\", line 244, in run_input\n",
       "    async for value in res:\n",
       "</span></pre>\n"
      ],
      "text/plain": [
       "\u001b[31m  File \"/pkg/modal/_container_entrypoint.py\", line 244, in run_input\n",
       "    async for value in res:\n",
       "\u001b[0m"
      ]
     },
     "metadata": {},
     "output_type": "display_data"
    },
    {
     "data": {
      "text/html": [
       "<pre style=\"white-space:pre;overflow-x:auto;line-height:normal;font-family:Menlo,'DejaVu Sans Mono',consolas,'Courier New',monospace\"><span style=\"color: #800000; text-decoration-color: #800000\">  File \"/pkg/modal/_asgi.py\", line 126, in fn\n",
       "    app_task.result()  # consume/raise exceptions if there are any!\n",
       "    ^^^^^^^^^^^^^^^^^\n",
       "</span></pre>\n"
      ],
      "text/plain": [
       "\u001b[31m  File \"/pkg/modal/_asgi.py\", line 126, in fn\n",
       "    app_task.result()  # consume/raise exceptions if there are any!\n",
       "    ^^^^^^^^^^^^^^^^^\n",
       "\u001b[0m"
      ]
     },
     "metadata": {},
     "output_type": "display_data"
    },
    {
     "data": {
      "text/html": [
       "<pre style=\"white-space:pre;overflow-x:auto;line-height:normal;font-family:Menlo,'DejaVu Sans Mono',consolas,'Courier New',monospace\"><span style=\"color: #800000; text-decoration-color: #800000\">  File \"/pkg/modal/_vendor/a2wsgi_wsgi.py\", line 562, in __call__\n",
       "    return await responder(scope, receive, send)\n",
       "           ^^^^^^^^^^^^^^^^^^^^^^^^^^^^^^^^^^^^^\n",
       "</span></pre>\n"
      ],
      "text/plain": [
       "\u001b[31m  File \"/pkg/modal/_vendor/a2wsgi_wsgi.py\", line 562, in __call__\n",
       "    return await responder(scope, receive, send)\n",
       "           ^^^^^^^^^^^^^^^^^^^^^^^^^^^^^^^^^^^^^\n",
       "\u001b[0m"
      ]
     },
     "metadata": {},
     "output_type": "display_data"
    },
    {
     "data": {
      "text/html": [
       "<pre style=\"white-space:pre;overflow-x:auto;line-height:normal;font-family:Menlo,'DejaVu Sans Mono',consolas,'Courier New',monospace\"><span style=\"color: #800000; text-decoration-color: #800000\">  File \"/pkg/modal/_vendor/a2wsgi_wsgi.py\", line 597, in __call__\n",
       "    await self.loop.run_in_executor(\n",
       "</span></pre>\n"
      ],
      "text/plain": [
       "\u001b[31m  File \"/pkg/modal/_vendor/a2wsgi_wsgi.py\", line 597, in __call__\n",
       "    await self.loop.run_in_executor(\n",
       "\u001b[0m"
      ]
     },
     "metadata": {},
     "output_type": "display_data"
    },
    {
     "data": {
      "text/html": [
       "<pre style=\"white-space:pre;overflow-x:auto;line-height:normal;font-family:Menlo,'DejaVu Sans Mono',consolas,'Courier New',monospace\"><span style=\"color: #800000; text-decoration-color: #800000\">  File \"/usr/local/lib/python3.11/concurrent/futures/thread.py\", line 58, in run\n",
       "    result = self.fn(*self.args, **self.kwargs)\n",
       "             ^^^^^^^^^^^^^^^^^^^^^^^^^^^^^^^^^^\n",
       "</span></pre>\n"
      ],
      "text/plain": [
       "\u001b[31m  File \"/usr/local/lib/python3.11/concurrent/futures/thread.py\", line 58, in run\n",
       "    result = self.fn(*self.args, **self.kwargs)\n",
       "             ^^^^^^^^^^^^^^^^^^^^^^^^^^^^^^^^^^\n",
       "\u001b[0m"
      ]
     },
     "metadata": {},
     "output_type": "display_data"
    },
    {
     "data": {
      "text/html": [
       "<pre style=\"white-space:pre;overflow-x:auto;line-height:normal;font-family:Menlo,'DejaVu Sans Mono',consolas,'Courier New',monospace\"><span style=\"color: #800000; text-decoration-color: #800000\">  File \"/pkg/modal/_vendor/a2wsgi_wsgi.py\", line 653, in wsgi\n",
       "    iterable = self.app(environ, start_response)\n",
       "               ^^^^^^^^^^^^^^^^^^^^^^^^^^^^^^^^^\n",
       "</span></pre>\n"
      ],
      "text/plain": [
       "\u001b[31m  File \"/pkg/modal/_vendor/a2wsgi_wsgi.py\", line 653, in wsgi\n",
       "    iterable = self.app(environ, start_response)\n",
       "               ^^^^^^^^^^^^^^^^^^^^^^^^^^^^^^^^^\n",
       "\u001b[0m"
      ]
     },
     "metadata": {},
     "output_type": "display_data"
    },
    {
     "data": {
      "text/html": [
       "<pre style=\"white-space:pre;overflow-x:auto;line-height:normal;font-family:Menlo,'DejaVu Sans Mono',consolas,'Courier New',monospace\"><span style=\"color: #800000; text-decoration-color: #800000\">  File \"/usr/local/lib/python3.11/site-packages/tensorboard/backend/application.py\", line 528, in __call__\n",
       "    return self._app(environ, start_response)\n",
       "           ^^^^^^^^^^^^^^^^^^^^^^^^^^^^^^^^^^\n",
       "</span></pre>\n"
      ],
      "text/plain": [
       "\u001b[31m  File \"/usr/local/lib/python3.11/site-packages/tensorboard/backend/application.py\", line 528, in __call__\n",
       "    return self._app(environ, start_response)\n",
       "           ^^^^^^^^^^^^^^^^^^^^^^^^^^^^^^^^^^\n",
       "\u001b[0m"
      ]
     },
     "metadata": {},
     "output_type": "display_data"
    },
    {
     "data": {
      "text/html": [
       "<pre style=\"white-space:pre;overflow-x:auto;line-height:normal;font-family:Menlo,'DejaVu Sans Mono',consolas,'Courier New',monospace\"><span style=\"color: #800000; text-decoration-color: #800000\">  File \"/usr/local/lib/python3.11/site-packages/tensorboard/backend/application.py\", line 569, in wrapper\n",
       "    return wsgi_app(environ, start_response)\n",
       "           ^^^^^^^^^^^^^^^^^^^^^^^^^^^^^^^^^\n",
       "</span></pre>\n"
      ],
      "text/plain": [
       "\u001b[31m  File \"/usr/local/lib/python3.11/site-packages/tensorboard/backend/application.py\", line 569, in wrapper\n",
       "    return wsgi_app(environ, start_response)\n",
       "           ^^^^^^^^^^^^^^^^^^^^^^^^^^^^^^^^^\n",
       "\u001b[0m"
      ]
     },
     "metadata": {},
     "output_type": "display_data"
    },
    {
     "data": {
      "text/html": [
       "<pre style=\"white-space:pre;overflow-x:auto;line-height:normal;font-family:Menlo,'DejaVu Sans Mono',consolas,'Courier New',monospace\"><span style=\"color: #800000; text-decoration-color: #800000\">  File \"/usr/local/lib/python3.11/site-packages/tensorboard/backend/security_validator.py\", line 91, in __call__\n",
       "    return self._application(environ, start_response_proxy)\n",
       "           ^^^^^^^^^^^^^^^^^^^^^^^^^^^^^^^^^^^^^^^^^^^^^^^^\n",
       "</span></pre>\n"
      ],
      "text/plain": [
       "\u001b[31m  File \"/usr/local/lib/python3.11/site-packages/tensorboard/backend/security_validator.py\", line 91, in __call__\n",
       "    return self._application(environ, start_response_proxy)\n",
       "           ^^^^^^^^^^^^^^^^^^^^^^^^^^^^^^^^^^^^^^^^^^^^^^^^\n",
       "\u001b[0m"
      ]
     },
     "metadata": {},
     "output_type": "display_data"
    },
    {
     "data": {
      "text/html": [
       "<pre style=\"white-space:pre;overflow-x:auto;line-height:normal;font-family:Menlo,'DejaVu Sans Mono',consolas,'Courier New',monospace\"><span style=\"color: #800000; text-decoration-color: #800000\">  File \"/usr/local/lib/python3.11/site-packages/tensorboard/backend/path_prefix.py\", line 68, in __call__\n",
       "    return self._application(environ, start_response)\n",
       "           ^^^^^^^^^^^^^^^^^^^^^^^^^^^^^^^^^^^^^^^^^^\n",
       "</span></pre>\n"
      ],
      "text/plain": [
       "\u001b[31m  File \"/usr/local/lib/python3.11/site-packages/tensorboard/backend/path_prefix.py\", line 68, in __call__\n",
       "    return self._application(environ, start_response)\n",
       "           ^^^^^^^^^^^^^^^^^^^^^^^^^^^^^^^^^^^^^^^^^^\n",
       "\u001b[0m"
      ]
     },
     "metadata": {},
     "output_type": "display_data"
    },
    {
     "data": {
      "text/html": [
       "<pre style=\"white-space:pre;overflow-x:auto;line-height:normal;font-family:Menlo,'DejaVu Sans Mono',consolas,'Courier New',monospace\"><span style=\"color: #800000; text-decoration-color: #800000\">  File \"/usr/local/lib/python3.11/site-packages/tensorboard/backend/experiment_id.py\", line 73, in __call__\n",
       "    return self._application(environ, start_response)\n",
       "           ^^^^^^^^^^^^^^^^^^^^^^^^^^^^^^^^^^^^^^^^^^\n",
       "</span></pre>\n"
      ],
      "text/plain": [
       "\u001b[31m  File \"/usr/local/lib/python3.11/site-packages/tensorboard/backend/experiment_id.py\", line 73, in __call__\n",
       "    return self._application(environ, start_response)\n",
       "           ^^^^^^^^^^^^^^^^^^^^^^^^^^^^^^^^^^^^^^^^^^\n",
       "\u001b[0m"
      ]
     },
     "metadata": {},
     "output_type": "display_data"
    },
    {
     "data": {
      "text/html": [
       "<pre style=\"white-space:pre;overflow-x:auto;line-height:normal;font-family:Menlo,'DejaVu Sans Mono',consolas,'Courier New',monospace\"><span style=\"color: #800000; text-decoration-color: #800000\">  File \"/usr/local/lib/python3.11/site-packages/tensorboard/backend/empty_path_redirect.py\", line 43, in __call__\n",
       "    return self._application(environ, start_response)\n",
       "           ^^^^^^^^^^^^^^^^^^^^^^^^^^^^^^^^^^^^^^^^^^\n",
       "</span></pre>\n"
      ],
      "text/plain": [
       "\u001b[31m  File \"/usr/local/lib/python3.11/site-packages/tensorboard/backend/empty_path_redirect.py\", line 43, in __call__\n",
       "    return self._application(environ, start_response)\n",
       "           ^^^^^^^^^^^^^^^^^^^^^^^^^^^^^^^^^^^^^^^^^^\n",
       "\u001b[0m"
      ]
     },
     "metadata": {},
     "output_type": "display_data"
    },
    {
     "data": {
      "text/html": [
       "<pre style=\"white-space:pre;overflow-x:auto;line-height:normal;font-family:Menlo,'DejaVu Sans Mono',consolas,'Courier New',monospace\"><span style=\"color: #800000; text-decoration-color: #800000\">  File \"/usr/local/lib/python3.11/site-packages/tensorboard/backend/client_feature_flags.py\", line 55, in __call__\n",
       "    return self._application(environ, start_response)\n",
       "           ^^^^^^^^^^^^^^^^^^^^^^^^^^^^^^^^^^^^^^^^^^\n",
       "</span></pre>\n"
      ],
      "text/plain": [
       "\u001b[31m  File \"/usr/local/lib/python3.11/site-packages/tensorboard/backend/client_feature_flags.py\", line 55, in __call__\n",
       "    return self._application(environ, start_response)\n",
       "           ^^^^^^^^^^^^^^^^^^^^^^^^^^^^^^^^^^^^^^^^^^\n",
       "\u001b[0m"
      ]
     },
     "metadata": {},
     "output_type": "display_data"
    },
    {
     "data": {
      "text/html": [
       "<pre style=\"white-space:pre;overflow-x:auto;line-height:normal;font-family:Menlo,'DejaVu Sans Mono',consolas,'Courier New',monospace\"><span style=\"color: #800000; text-decoration-color: #800000\">  File \"/usr/local/lib/python3.11/site-packages/tensorboard/backend/auth_context_middleware.py\", line 38, in __call__\n",
       "    return self._application(environ, start_response)\n",
       "           ^^^^^^^^^^^^^^^^^^^^^^^^^^^^^^^^^^^^^^^^^^\n",
       "</span></pre>\n"
      ],
      "text/plain": [
       "\u001b[31m  File \"/usr/local/lib/python3.11/site-packages/tensorboard/backend/auth_context_middleware.py\", line 38, in __call__\n",
       "    return self._application(environ, start_response)\n",
       "           ^^^^^^^^^^^^^^^^^^^^^^^^^^^^^^^^^^^^^^^^^^\n",
       "\u001b[0m"
      ]
     },
     "metadata": {},
     "output_type": "display_data"
    },
    {
     "data": {
      "text/html": [
       "<pre style=\"white-space:pre;overflow-x:auto;line-height:normal;font-family:Menlo,'DejaVu Sans Mono',consolas,'Courier New',monospace\"><span style=\"color: #800000; text-decoration-color: #800000\">  File \"/usr/local/lib/python3.11/site-packages/tensorboard/backend/application.py\", line 551, in _route_request\n",
       "    return self.exact_routes[clean_path](environ, start_response)\n",
       "           ^^^^^^^^^^^^^^^^^^^^^^^^^^^^^^^^^^^^^^^^^^^^^^^^^^^^^^\n",
       "</span></pre>\n"
      ],
      "text/plain": [
       "\u001b[31m  File \"/usr/local/lib/python3.11/site-packages/tensorboard/backend/application.py\", line 551, in _route_request\n",
       "    return self.exact_routes[clean_path](environ, start_response)\n",
       "           ^^^^^^^^^^^^^^^^^^^^^^^^^^^^^^^^^^^^^^^^^^^^^^^^^^^^^^\n",
       "\u001b[0m"
      ]
     },
     "metadata": {},
     "output_type": "display_data"
    },
    {
     "data": {
      "text/html": [
       "<pre style=\"white-space:pre;overflow-x:auto;line-height:normal;font-family:Menlo,'DejaVu Sans Mono',consolas,'Courier New',monospace\"><span style=\"color: #800000; text-decoration-color: #800000\">  File \"/usr/local/lib/python3.11/site-packages/werkzeug/wrappers/request.py\", line 189, in application\n",
       "    resp = f(*args[:-2] + (request,))\n",
       "           ^^^^^^^^^^^^^^^^^^^^^^^^^^\n",
       "</span></pre>\n"
      ],
      "text/plain": [
       "\u001b[31m  File \"/usr/local/lib/python3.11/site-packages/werkzeug/wrappers/request.py\", line 189, in application\n",
       "    resp = f(*args[:-2] + (request,))\n",
       "           ^^^^^^^^^^^^^^^^^^^^^^^^^^\n",
       "\u001b[0m"
      ]
     },
     "metadata": {},
     "output_type": "display_data"
    },
    {
     "data": {
      "text/html": [
       "<pre style=\"white-space:pre;overflow-x:auto;line-height:normal;font-family:Menlo,'DejaVu Sans Mono',consolas,'Courier New',monospace\"><span style=\"color: #800000; text-decoration-color: #800000\">  File \"/usr/local/lib/python3.11/site-packages/tensorboard/plugins/hparams/hparams_plugin.py\", line 121, in get_experiment_route\n",
       "    json_format.MessageToJson(\n",
       "</span></pre>\n"
      ],
      "text/plain": [
       "\u001b[31m  File \"/usr/local/lib/python3.11/site-packages/tensorboard/plugins/hparams/hparams_plugin.py\", line 121, in get_experiment_route\n",
       "    json_format.MessageToJson(\n",
       "\u001b[0m"
      ]
     },
     "metadata": {},
     "output_type": "display_data"
    },
    {
     "data": {
      "text/html": [
       "<pre style=\"white-space:pre;overflow-x:auto;line-height:normal;font-family:Menlo,'DejaVu Sans Mono',consolas,'Courier New',monospace\"><span style=\"color: #800000; text-decoration-color: #800000\">TypeError: MessageToJson() got an unexpected keyword argument 'including_default_value_fields'\n",
       "</span></pre>\n"
      ],
      "text/plain": [
       "\u001b[31mTypeError: MessageToJson() got an unexpected keyword argument 'including_default_value_fields'\n",
       "\u001b[0m"
      ]
     },
     "metadata": {},
     "output_type": "display_data"
    },
    {
     "data": {
      "text/html": [
       "<pre style=\"white-space:pre;overflow-x:auto;line-height:normal;font-family:Menlo,'DejaVu Sans Mono',consolas,'Courier New',monospace\"><span style=\"color: #808000; text-decoration-color: #808000\">    GET /font-roboto/d-6IYplOFocCacKzxwXSOJBw1xU1rKptJj_0jans920.woff2 -&gt; 200 OK  (duration: 364.9 ms, execution: 91.8 ms)\n",
       "</span></pre>\n"
      ],
      "text/plain": [
       "\u001b[33m    GET /font-roboto/d-6IYplOFocCacKzxwXSOJBw1xU1rKptJj_0jans920.woff2 -> 200 OK  (duration: 364.9 ms, execution: 91.8 ms)\n",
       "\u001b[0m"
      ]
     },
     "metadata": {},
     "output_type": "display_data"
    },
    {
     "data": {
      "text/html": [
       "<pre style=\"white-space:pre;overflow-x:auto;line-height:normal;font-family:Menlo,'DejaVu Sans Mono',consolas,'Courier New',monospace\"><span style=\"color: #800000; text-decoration-color: #800000\">Traceback (most recent call last):\n",
       "</span></pre>\n"
      ],
      "text/plain": [
       "\u001b[31mTraceback (most recent call last):\n",
       "\u001b[0m"
      ]
     },
     "metadata": {},
     "output_type": "display_data"
    },
    {
     "data": {
      "text/html": [
       "<pre style=\"white-space:pre;overflow-x:auto;line-height:normal;font-family:Menlo,'DejaVu Sans Mono',consolas,'Courier New',monospace\"><span style=\"color: #800000; text-decoration-color: #800000\">  File \"/pkg/modal/_container_io_manager.py\", line 488, in handle_input_exception\n",
       "    yield\n",
       "</span></pre>\n"
      ],
      "text/plain": [
       "\u001b[31m  File \"/pkg/modal/_container_io_manager.py\", line 488, in handle_input_exception\n",
       "    yield\n",
       "\u001b[0m"
      ]
     },
     "metadata": {},
     "output_type": "display_data"
    },
    {
     "data": {
      "text/html": [
       "<pre style=\"white-space:pre;overflow-x:auto;line-height:normal;font-family:Menlo,'DejaVu Sans Mono',consolas,'Courier New',monospace\"><span style=\"color: #800000; text-decoration-color: #800000\">  File \"/pkg/modal/_container_entrypoint.py\", line 244, in run_input\n",
       "    async for value in res:\n",
       "</span></pre>\n"
      ],
      "text/plain": [
       "\u001b[31m  File \"/pkg/modal/_container_entrypoint.py\", line 244, in run_input\n",
       "    async for value in res:\n",
       "\u001b[0m"
      ]
     },
     "metadata": {},
     "output_type": "display_data"
    },
    {
     "data": {
      "text/html": [
       "<pre style=\"white-space:pre;overflow-x:auto;line-height:normal;font-family:Menlo,'DejaVu Sans Mono',consolas,'Courier New',monospace\"><span style=\"color: #800000; text-decoration-color: #800000\">  File \"/pkg/modal/_asgi.py\", line 126, in fn\n",
       "    app_task.result()  # consume/raise exceptions if there are any!\n",
       "    ^^^^^^^^^^^^^^^^^\n",
       "</span></pre>\n"
      ],
      "text/plain": [
       "\u001b[31m  File \"/pkg/modal/_asgi.py\", line 126, in fn\n",
       "    app_task.result()  # consume/raise exceptions if there are any!\n",
       "    ^^^^^^^^^^^^^^^^^\n",
       "\u001b[0m"
      ]
     },
     "metadata": {},
     "output_type": "display_data"
    },
    {
     "data": {
      "text/html": [
       "<pre style=\"white-space:pre;overflow-x:auto;line-height:normal;font-family:Menlo,'DejaVu Sans Mono',consolas,'Courier New',monospace\"><span style=\"color: #800000; text-decoration-color: #800000\">  File \"/pkg/modal/_vendor/a2wsgi_wsgi.py\", line 562, in __call__\n",
       "    return await responder(scope, receive, send)\n",
       "           ^^^^^^^^^^^^^^^^^^^^^^^^^^^^^^^^^^^^^\n",
       "</span></pre>\n"
      ],
      "text/plain": [
       "\u001b[31m  File \"/pkg/modal/_vendor/a2wsgi_wsgi.py\", line 562, in __call__\n",
       "    return await responder(scope, receive, send)\n",
       "           ^^^^^^^^^^^^^^^^^^^^^^^^^^^^^^^^^^^^^\n",
       "\u001b[0m"
      ]
     },
     "metadata": {},
     "output_type": "display_data"
    },
    {
     "data": {
      "text/html": [
       "<pre style=\"white-space:pre;overflow-x:auto;line-height:normal;font-family:Menlo,'DejaVu Sans Mono',consolas,'Courier New',monospace\"><span style=\"color: #800000; text-decoration-color: #800000\">  File \"/pkg/modal/_vendor/a2wsgi_wsgi.py\", line 597, in __call__\n",
       "    await self.loop.run_in_executor(\n",
       "</span></pre>\n"
      ],
      "text/plain": [
       "\u001b[31m  File \"/pkg/modal/_vendor/a2wsgi_wsgi.py\", line 597, in __call__\n",
       "    await self.loop.run_in_executor(\n",
       "\u001b[0m"
      ]
     },
     "metadata": {},
     "output_type": "display_data"
    },
    {
     "data": {
      "text/html": [
       "<pre style=\"white-space:pre;overflow-x:auto;line-height:normal;font-family:Menlo,'DejaVu Sans Mono',consolas,'Courier New',monospace\"><span style=\"color: #800000; text-decoration-color: #800000\">  File \"/usr/local/lib/python3.11/concurrent/futures/thread.py\", line 58, in run\n",
       "    result = self.fn(*self.args, **self.kwargs)\n",
       "             ^^^^^^^^^^^^^^^^^^^^^^^^^^^^^^^^^^\n",
       "</span></pre>\n"
      ],
      "text/plain": [
       "\u001b[31m  File \"/usr/local/lib/python3.11/concurrent/futures/thread.py\", line 58, in run\n",
       "    result = self.fn(*self.args, **self.kwargs)\n",
       "             ^^^^^^^^^^^^^^^^^^^^^^^^^^^^^^^^^^\n",
       "\u001b[0m"
      ]
     },
     "metadata": {},
     "output_type": "display_data"
    },
    {
     "data": {
      "text/html": [
       "<pre style=\"white-space:pre;overflow-x:auto;line-height:normal;font-family:Menlo,'DejaVu Sans Mono',consolas,'Courier New',monospace\"><span style=\"color: #800000; text-decoration-color: #800000\">  File \"/pkg/modal/_vendor/a2wsgi_wsgi.py\", line 653, in wsgi\n",
       "    iterable = self.app(environ, start_response)\n",
       "               ^^^^^^^^^^^^^^^^^^^^^^^^^^^^^^^^^\n",
       "</span></pre>\n"
      ],
      "text/plain": [
       "\u001b[31m  File \"/pkg/modal/_vendor/a2wsgi_wsgi.py\", line 653, in wsgi\n",
       "    iterable = self.app(environ, start_response)\n",
       "               ^^^^^^^^^^^^^^^^^^^^^^^^^^^^^^^^^\n",
       "\u001b[0m"
      ]
     },
     "metadata": {},
     "output_type": "display_data"
    },
    {
     "data": {
      "text/html": [
       "<pre style=\"white-space:pre;overflow-x:auto;line-height:normal;font-family:Menlo,'DejaVu Sans Mono',consolas,'Courier New',monospace\"><span style=\"color: #800000; text-decoration-color: #800000\">  File \"/usr/local/lib/python3.11/site-packages/tensorboard/backend/application.py\", line 528, in __call__\n",
       "    return self._app(environ, start_response)\n",
       "           ^^^^^^^^^^^^^^^^^^^^^^^^^^^^^^^^^^\n",
       "</span></pre>\n"
      ],
      "text/plain": [
       "\u001b[31m  File \"/usr/local/lib/python3.11/site-packages/tensorboard/backend/application.py\", line 528, in __call__\n",
       "    return self._app(environ, start_response)\n",
       "           ^^^^^^^^^^^^^^^^^^^^^^^^^^^^^^^^^^\n",
       "\u001b[0m"
      ]
     },
     "metadata": {},
     "output_type": "display_data"
    },
    {
     "data": {
      "text/html": [
       "<pre style=\"white-space:pre;overflow-x:auto;line-height:normal;font-family:Menlo,'DejaVu Sans Mono',consolas,'Courier New',monospace\"><span style=\"color: #800000; text-decoration-color: #800000\">  File \"/usr/local/lib/python3.11/site-packages/tensorboard/backend/application.py\", line 569, in wrapper\n",
       "    return wsgi_app(environ, start_response)\n",
       "           ^^^^^^^^^^^^^^^^^^^^^^^^^^^^^^^^^\n",
       "</span></pre>\n"
      ],
      "text/plain": [
       "\u001b[31m  File \"/usr/local/lib/python3.11/site-packages/tensorboard/backend/application.py\", line 569, in wrapper\n",
       "    return wsgi_app(environ, start_response)\n",
       "           ^^^^^^^^^^^^^^^^^^^^^^^^^^^^^^^^^\n",
       "\u001b[0m"
      ]
     },
     "metadata": {},
     "output_type": "display_data"
    },
    {
     "data": {
      "text/html": [
       "<pre style=\"white-space:pre;overflow-x:auto;line-height:normal;font-family:Menlo,'DejaVu Sans Mono',consolas,'Courier New',monospace\"><span style=\"color: #800000; text-decoration-color: #800000\">  File \"/usr/local/lib/python3.11/site-packages/tensorboard/backend/security_validator.py\", line 91, in __call__\n",
       "    return self._application(environ, start_response_proxy)\n",
       "           ^^^^^^^^^^^^^^^^^^^^^^^^^^^^^^^^^^^^^^^^^^^^^^^^\n",
       "</span></pre>\n"
      ],
      "text/plain": [
       "\u001b[31m  File \"/usr/local/lib/python3.11/site-packages/tensorboard/backend/security_validator.py\", line 91, in __call__\n",
       "    return self._application(environ, start_response_proxy)\n",
       "           ^^^^^^^^^^^^^^^^^^^^^^^^^^^^^^^^^^^^^^^^^^^^^^^^\n",
       "\u001b[0m"
      ]
     },
     "metadata": {},
     "output_type": "display_data"
    },
    {
     "data": {
      "text/html": [
       "<pre style=\"white-space:pre;overflow-x:auto;line-height:normal;font-family:Menlo,'DejaVu Sans Mono',consolas,'Courier New',monospace\"><span style=\"color: #800000; text-decoration-color: #800000\">  File \"/usr/local/lib/python3.11/site-packages/tensorboard/backend/path_prefix.py\", line 68, in __call__\n",
       "    return self._application(environ, start_response)\n",
       "           ^^^^^^^^^^^^^^^^^^^^^^^^^^^^^^^^^^^^^^^^^^\n",
       "</span></pre>\n"
      ],
      "text/plain": [
       "\u001b[31m  File \"/usr/local/lib/python3.11/site-packages/tensorboard/backend/path_prefix.py\", line 68, in __call__\n",
       "    return self._application(environ, start_response)\n",
       "           ^^^^^^^^^^^^^^^^^^^^^^^^^^^^^^^^^^^^^^^^^^\n",
       "\u001b[0m"
      ]
     },
     "metadata": {},
     "output_type": "display_data"
    },
    {
     "data": {
      "text/html": [
       "<pre style=\"white-space:pre;overflow-x:auto;line-height:normal;font-family:Menlo,'DejaVu Sans Mono',consolas,'Courier New',monospace\"><span style=\"color: #800000; text-decoration-color: #800000\">  File \"/usr/local/lib/python3.11/site-packages/tensorboard/backend/experiment_id.py\", line 73, in __call__\n",
       "    return self._application(environ, start_response)\n",
       "           ^^^^^^^^^^^^^^^^^^^^^^^^^^^^^^^^^^^^^^^^^^\n",
       "</span></pre>\n"
      ],
      "text/plain": [
       "\u001b[31m  File \"/usr/local/lib/python3.11/site-packages/tensorboard/backend/experiment_id.py\", line 73, in __call__\n",
       "    return self._application(environ, start_response)\n",
       "           ^^^^^^^^^^^^^^^^^^^^^^^^^^^^^^^^^^^^^^^^^^\n",
       "\u001b[0m"
      ]
     },
     "metadata": {},
     "output_type": "display_data"
    },
    {
     "data": {
      "text/html": [
       "<pre style=\"white-space:pre;overflow-x:auto;line-height:normal;font-family:Menlo,'DejaVu Sans Mono',consolas,'Courier New',monospace\"><span style=\"color: #800000; text-decoration-color: #800000\">  File \"/usr/local/lib/python3.11/site-packages/tensorboard/backend/empty_path_redirect.py\", line 43, in __call__\n",
       "    return self._application(environ, start_response)\n",
       "           ^^^^^^^^^^^^^^^^^^^^^^^^^^^^^^^^^^^^^^^^^^\n",
       "</span></pre>\n"
      ],
      "text/plain": [
       "\u001b[31m  File \"/usr/local/lib/python3.11/site-packages/tensorboard/backend/empty_path_redirect.py\", line 43, in __call__\n",
       "    return self._application(environ, start_response)\n",
       "           ^^^^^^^^^^^^^^^^^^^^^^^^^^^^^^^^^^^^^^^^^^\n",
       "\u001b[0m"
      ]
     },
     "metadata": {},
     "output_type": "display_data"
    },
    {
     "data": {
      "text/html": [
       "<pre style=\"white-space:pre;overflow-x:auto;line-height:normal;font-family:Menlo,'DejaVu Sans Mono',consolas,'Courier New',monospace\"><span style=\"color: #800000; text-decoration-color: #800000\">  File \"/usr/local/lib/python3.11/site-packages/tensorboard/backend/client_feature_flags.py\", line 55, in __call__\n",
       "    return self._application(environ, start_response)\n",
       "           ^^^^^^^^^^^^^^^^^^^^^^^^^^^^^^^^^^^^^^^^^^\n",
       "</span></pre>\n"
      ],
      "text/plain": [
       "\u001b[31m  File \"/usr/local/lib/python3.11/site-packages/tensorboard/backend/client_feature_flags.py\", line 55, in __call__\n",
       "    return self._application(environ, start_response)\n",
       "           ^^^^^^^^^^^^^^^^^^^^^^^^^^^^^^^^^^^^^^^^^^\n",
       "\u001b[0m"
      ]
     },
     "metadata": {},
     "output_type": "display_data"
    },
    {
     "data": {
      "text/html": [
       "<pre style=\"white-space:pre;overflow-x:auto;line-height:normal;font-family:Menlo,'DejaVu Sans Mono',consolas,'Courier New',monospace\"><span style=\"color: #800000; text-decoration-color: #800000\">  File \"/usr/local/lib/python3.11/site-packages/tensorboard/backend/auth_context_middleware.py\", line 38, in __call__\n",
       "    return self._application(environ, start_response)\n",
       "           ^^^^^^^^^^^^^^^^^^^^^^^^^^^^^^^^^^^^^^^^^^\n",
       "</span></pre>\n"
      ],
      "text/plain": [
       "\u001b[31m  File \"/usr/local/lib/python3.11/site-packages/tensorboard/backend/auth_context_middleware.py\", line 38, in __call__\n",
       "    return self._application(environ, start_response)\n",
       "           ^^^^^^^^^^^^^^^^^^^^^^^^^^^^^^^^^^^^^^^^^^\n",
       "\u001b[0m"
      ]
     },
     "metadata": {},
     "output_type": "display_data"
    },
    {
     "data": {
      "text/html": [
       "<pre style=\"white-space:pre;overflow-x:auto;line-height:normal;font-family:Menlo,'DejaVu Sans Mono',consolas,'Courier New',monospace\"><span style=\"color: #800000; text-decoration-color: #800000\">  File \"/usr/local/lib/python3.11/site-packages/tensorboard/backend/application.py\", line 551, in _route_request\n",
       "    return self.exact_routes[clean_path](environ, start_response)\n",
       "           ^^^^^^^^^^^^^^^^^^^^^^^^^^^^^^^^^^^^^^^^^^^^^^^^^^^^^^\n",
       "</span></pre>\n"
      ],
      "text/plain": [
       "\u001b[31m  File \"/usr/local/lib/python3.11/site-packages/tensorboard/backend/application.py\", line 551, in _route_request\n",
       "    return self.exact_routes[clean_path](environ, start_response)\n",
       "           ^^^^^^^^^^^^^^^^^^^^^^^^^^^^^^^^^^^^^^^^^^^^^^^^^^^^^^\n",
       "\u001b[0m"
      ]
     },
     "metadata": {},
     "output_type": "display_data"
    },
    {
     "data": {
      "text/html": [
       "<pre style=\"white-space:pre;overflow-x:auto;line-height:normal;font-family:Menlo,'DejaVu Sans Mono',consolas,'Courier New',monospace\"><span style=\"color: #800000; text-decoration-color: #800000\">  File \"/usr/local/lib/python3.11/site-packages/werkzeug/wrappers/request.py\", line 189, in application\n",
       "    resp = f(*args[:-2] + (request,))\n",
       "           ^^^^^^^^^^^^^^^^^^^^^^^^^^\n",
       "</span></pre>\n"
      ],
      "text/plain": [
       "\u001b[31m  File \"/usr/local/lib/python3.11/site-packages/werkzeug/wrappers/request.py\", line 189, in application\n",
       "    resp = f(*args[:-2] + (request,))\n",
       "           ^^^^^^^^^^^^^^^^^^^^^^^^^^\n",
       "\u001b[0m"
      ]
     },
     "metadata": {},
     "output_type": "display_data"
    },
    {
     "data": {
      "text/html": [
       "<pre style=\"white-space:pre;overflow-x:auto;line-height:normal;font-family:Menlo,'DejaVu Sans Mono',consolas,'Courier New',monospace\"><span style=\"color: #800000; text-decoration-color: #800000\">  File \"/usr/local/lib/python3.11/site-packages/tensorboard/plugins/hparams/hparams_plugin.py\", line 121, in get_experiment_route\n",
       "    json_format.MessageToJson(\n",
       "</span></pre>\n"
      ],
      "text/plain": [
       "\u001b[31m  File \"/usr/local/lib/python3.11/site-packages/tensorboard/plugins/hparams/hparams_plugin.py\", line 121, in get_experiment_route\n",
       "    json_format.MessageToJson(\n",
       "\u001b[0m"
      ]
     },
     "metadata": {},
     "output_type": "display_data"
    },
    {
     "data": {
      "text/html": [
       "<pre style=\"white-space:pre;overflow-x:auto;line-height:normal;font-family:Menlo,'DejaVu Sans Mono',consolas,'Courier New',monospace\"><span style=\"color: #800000; text-decoration-color: #800000\">TypeError: MessageToJson() got an unexpected keyword argument 'including_default_value_fields'\n",
       "</span></pre>\n"
      ],
      "text/plain": [
       "\u001b[31mTypeError: MessageToJson() got an unexpected keyword argument 'including_default_value_fields'\n",
       "\u001b[0m"
      ]
     },
     "metadata": {},
     "output_type": "display_data"
    },
    {
     "data": {
      "text/html": [
       "<pre style=\"white-space:pre;overflow-x:auto;line-height:normal;font-family:Menlo,'DejaVu Sans Mono',consolas,'Courier New',monospace\"><span style=\"color: #800000; text-decoration-color: #800000\">ERROR:asyncio:Task was destroyed but it is pending!\n",
       "task: &lt;Task pending name='Task-254' coro=&lt;aio_generator_output_task() done, defined at /pkg/synchronicity/async_wrap.py:27&gt; wait_for=&lt;Future pending cb=[_chain_future.&lt;locals&gt;._call_check_cancel() at /usr/local/lib/python3.11/asyncio/futures.py:387, Task.task_wakeup()]&gt;&gt;\n",
       "</span></pre>\n"
      ],
      "text/plain": [
       "\u001b[31mERROR:asyncio:Task was destroyed but it is pending!\n",
       "task: <Task pending name='Task-254' coro=<aio_generator_output_task() done, defined at /pkg/synchronicity/async_wrap.py:27> wait_for=<Future pending cb=[_chain_future.<locals>._call_check_cancel() at /usr/local/lib/python3.11/asyncio/futures.py:387, Task.task_wakeup()]>>\n",
       "\u001b[0m"
      ]
     },
     "metadata": {},
     "output_type": "display_data"
    },
    {
     "data": {
      "text/html": [
       "<pre style=\"white-space:pre;overflow-x:auto;line-height:normal;font-family:Menlo,'DejaVu Sans Mono',consolas,'Courier New',monospace\"><span style=\"color: #800000; text-decoration-color: #800000\"></span></pre>\n"
      ],
      "text/plain": []
     },
     "metadata": {},
     "output_type": "display_data"
    },
    {
     "data": {
      "text/html": [
       "<pre style=\"white-space:pre;overflow-x:auto;line-height:normal;font-family:Menlo,'DejaVu Sans Mono',consolas,'Courier New',monospace\"><span style=\"color: #800000; text-decoration-color: #800000\"></span></pre>\n"
      ],
      "text/plain": []
     },
     "metadata": {},
     "output_type": "display_data"
    },
    {
     "data": {
      "text/html": [
       "<pre style=\"white-space:pre;overflow-x:auto;line-height:normal;font-family:Menlo,'DejaVu Sans Mono',consolas,'Courier New',monospace\"><span style=\"color: #800000; text-decoration-color: #800000\">Exception ignored in: &lt;coroutine object wrap_coro_exception.&lt;locals&gt;.coro_wrapped at 0x7f9c67eb2b20&gt;\n",
       "</span></pre>\n"
      ],
      "text/plain": [
       "\u001b[31mException ignored in: <coroutine object wrap_coro_exception.<locals>.coro_wrapped at 0x7f9c67eb2b20>\n",
       "\u001b[0m"
      ]
     },
     "metadata": {},
     "output_type": "display_data"
    },
    {
     "data": {
      "text/html": [
       "<pre style=\"white-space:pre;overflow-x:auto;line-height:normal;font-family:Menlo,'DejaVu Sans Mono',consolas,'Courier New',monospace\"><span style=\"color: #800000; text-decoration-color: #800000\">Traceback (most recent call last):\n",
       "</span></pre>\n"
      ],
      "text/plain": [
       "\u001b[31mTraceback (most recent call last):\n",
       "\u001b[0m"
      ]
     },
     "metadata": {},
     "output_type": "display_data"
    },
    {
     "data": {
      "text/html": [
       "<pre style=\"white-space:pre;overflow-x:auto;line-height:normal;font-family:Menlo,'DejaVu Sans Mono',consolas,'Courier New',monospace\"><span style=\"color: #800000; text-decoration-color: #800000\">  File \"/pkg/synchronicity/exceptions.py\", line 31, in coro_wrapped\n",
       "</span></pre>\n"
      ],
      "text/plain": [
       "\u001b[31m  File \"/pkg/synchronicity/exceptions.py\", line 31, in coro_wrapped\n",
       "\u001b[0m"
      ]
     },
     "metadata": {},
     "output_type": "display_data"
    },
    {
     "data": {
      "text/html": [
       "<pre style=\"white-space:pre;overflow-x:auto;line-height:normal;font-family:Menlo,'DejaVu Sans Mono',consolas,'Courier New',monospace\"><span style=\"color: #800000; text-decoration-color: #800000\"></span></pre>\n"
      ],
      "text/plain": []
     },
     "metadata": {},
     "output_type": "display_data"
    },
    {
     "data": {
      "text/html": [
       "<pre style=\"white-space:pre;overflow-x:auto;line-height:normal;font-family:Menlo,'DejaVu Sans Mono',consolas,'Courier New',monospace\"><span style=\"color: #800000; text-decoration-color: #800000\"></span></pre>\n"
      ],
      "text/plain": []
     },
     "metadata": {},
     "output_type": "display_data"
    },
    {
     "data": {
      "text/html": [
       "<pre style=\"white-space:pre;overflow-x:auto;line-height:normal;font-family:Menlo,'DejaVu Sans Mono',consolas,'Courier New',monospace\"><span style=\"color: #800000; text-decoration-color: #800000\">    raise UserCodeException(exc)\n",
       "</span></pre>\n"
      ],
      "text/plain": [
       "\u001b[31m    raise UserCodeException(exc)\n",
       "\u001b[0m"
      ]
     },
     "metadata": {},
     "output_type": "display_data"
    },
    {
     "data": {
      "text/html": [
       "<pre style=\"white-space:pre;overflow-x:auto;line-height:normal;font-family:Menlo,'DejaVu Sans Mono',consolas,'Courier New',monospace\"><span style=\"color: #800000; text-decoration-color: #800000\"></span></pre>\n"
      ],
      "text/plain": []
     },
     "metadata": {},
     "output_type": "display_data"
    },
    {
     "data": {
      "text/html": [
       "<pre style=\"white-space:pre;overflow-x:auto;line-height:normal;font-family:Menlo,'DejaVu Sans Mono',consolas,'Courier New',monospace\"><span style=\"color: #800000; text-decoration-color: #800000\"></span></pre>\n"
      ],
      "text/plain": []
     },
     "metadata": {},
     "output_type": "display_data"
    },
    {
     "data": {
      "text/html": [
       "<pre style=\"white-space:pre;overflow-x:auto;line-height:normal;font-family:Menlo,'DejaVu Sans Mono',consolas,'Courier New',monospace\"><span style=\"color: #800000; text-decoration-color: #800000\"></span></pre>\n"
      ],
      "text/plain": []
     },
     "metadata": {},
     "output_type": "display_data"
    },
    {
     "data": {
      "text/html": [
       "<pre style=\"white-space:pre;overflow-x:auto;line-height:normal;font-family:Menlo,'DejaVu Sans Mono',consolas,'Courier New',monospace\"><span style=\"color: #800000; text-decoration-color: #800000\"></span></pre>\n"
      ],
      "text/plain": []
     },
     "metadata": {},
     "output_type": "display_data"
    },
    {
     "data": {
      "text/html": [
       "<pre style=\"white-space:pre;overflow-x:auto;line-height:normal;font-family:Menlo,'DejaVu Sans Mono',consolas,'Courier New',monospace\"><span style=\"color: #800000; text-decoration-color: #800000\">synchronicity.exceptions.UserCodeException: \n",
       "</span></pre>\n"
      ],
      "text/plain": [
       "\u001b[31msynchronicity.exceptions.UserCodeException: \n",
       "\u001b[0m"
      ]
     },
     "metadata": {},
     "output_type": "display_data"
    },
    {
     "data": {
      "text/html": [
       "<pre style=\"white-space:pre;overflow-x:auto;line-height:normal;font-family:Menlo,'DejaVu Sans Mono',consolas,'Courier New',monospace\"><span style=\"color: #800000; text-decoration-color: #800000\">ERROR:asyncio:Task was destroyed but it is pending!\n",
       "task: &lt;Task pending name='Task-260' coro=&lt;Synchronizer._wrap_check_async_leakage.&lt;locals&gt;.coro_wrapped() done, defined at /pkg/synchronicity/synchronizer.py:214&gt; wait_for=&lt;Future cancelled&gt; cb=[_chain_future.&lt;locals&gt;._call_set_state() at /usr/local/lib/python3.11/asyncio/futures.py:394]&gt;\n",
       "</span></pre>\n"
      ],
      "text/plain": [
       "\u001b[31mERROR:asyncio:Task was destroyed but it is pending!\n",
       "task: <Task pending name='Task-260' coro=<Synchronizer._wrap_check_async_leakage.<locals>.coro_wrapped() done, defined at /pkg/synchronicity/synchronizer.py:214> wait_for=<Future cancelled> cb=[_chain_future.<locals>._call_set_state() at /usr/local/lib/python3.11/asyncio/futures.py:394]>\n",
       "\u001b[0m"
      ]
     },
     "metadata": {},
     "output_type": "display_data"
    },
    {
     "data": {
      "text/html": [
       "<pre style=\"white-space:pre;overflow-x:auto;line-height:normal;font-family:Menlo,'DejaVu Sans Mono',consolas,'Courier New',monospace\"><span style=\"color: #800000; text-decoration-color: #800000\">Traceback (most recent call last):\n",
       "</span></pre>\n"
      ],
      "text/plain": [
       "\u001b[31mTraceback (most recent call last):\n",
       "\u001b[0m"
      ]
     },
     "metadata": {},
     "output_type": "display_data"
    },
    {
     "data": {
      "text/html": [
       "<pre style=\"white-space:pre;overflow-x:auto;line-height:normal;font-family:Menlo,'DejaVu Sans Mono',consolas,'Courier New',monospace\"><span style=\"color: #800000; text-decoration-color: #800000\">  File \"/pkg/modal/_container_io_manager.py\", line 488, in handle_input_exception\n",
       "    yield\n",
       "</span></pre>\n"
      ],
      "text/plain": [
       "\u001b[31m  File \"/pkg/modal/_container_io_manager.py\", line 488, in handle_input_exception\n",
       "    yield\n",
       "\u001b[0m"
      ]
     },
     "metadata": {},
     "output_type": "display_data"
    },
    {
     "data": {
      "text/html": [
       "<pre style=\"white-space:pre;overflow-x:auto;line-height:normal;font-family:Menlo,'DejaVu Sans Mono',consolas,'Courier New',monospace\"><span style=\"color: #800000; text-decoration-color: #800000\">  File \"/pkg/modal/_container_entrypoint.py\", line 244, in run_input\n",
       "    async for value in res:\n",
       "</span></pre>\n"
      ],
      "text/plain": [
       "\u001b[31m  File \"/pkg/modal/_container_entrypoint.py\", line 244, in run_input\n",
       "    async for value in res:\n",
       "\u001b[0m"
      ]
     },
     "metadata": {},
     "output_type": "display_data"
    },
    {
     "data": {
      "text/html": [
       "<pre style=\"white-space:pre;overflow-x:auto;line-height:normal;font-family:Menlo,'DejaVu Sans Mono',consolas,'Courier New',monospace\"><span style=\"color: #800000; text-decoration-color: #800000\">  File \"/pkg/modal/_asgi.py\", line 126, in fn\n",
       "    app_task.result()  # consume/raise exceptions if there are any!\n",
       "    ^^^^^^^^^^^^^^^^^\n",
       "</span></pre>\n"
      ],
      "text/plain": [
       "\u001b[31m  File \"/pkg/modal/_asgi.py\", line 126, in fn\n",
       "    app_task.result()  # consume/raise exceptions if there are any!\n",
       "    ^^^^^^^^^^^^^^^^^\n",
       "\u001b[0m"
      ]
     },
     "metadata": {},
     "output_type": "display_data"
    },
    {
     "data": {
      "text/html": [
       "<pre style=\"white-space:pre;overflow-x:auto;line-height:normal;font-family:Menlo,'DejaVu Sans Mono',consolas,'Courier New',monospace\"><span style=\"color: #800000; text-decoration-color: #800000\">  File \"/pkg/modal/_vendor/a2wsgi_wsgi.py\", line 562, in __call__\n",
       "    return await responder(scope, receive, send)\n",
       "           ^^^^^^^^^^^^^^^^^^^^^^^^^^^^^^^^^^^^^\n",
       "</span></pre>\n"
      ],
      "text/plain": [
       "\u001b[31m  File \"/pkg/modal/_vendor/a2wsgi_wsgi.py\", line 562, in __call__\n",
       "    return await responder(scope, receive, send)\n",
       "           ^^^^^^^^^^^^^^^^^^^^^^^^^^^^^^^^^^^^^\n",
       "\u001b[0m"
      ]
     },
     "metadata": {},
     "output_type": "display_data"
    },
    {
     "data": {
      "text/html": [
       "<pre style=\"white-space:pre;overflow-x:auto;line-height:normal;font-family:Menlo,'DejaVu Sans Mono',consolas,'Courier New',monospace\"><span style=\"color: #800000; text-decoration-color: #800000\">  File \"/pkg/modal/_vendor/a2wsgi_wsgi.py\", line 597, in __call__\n",
       "    await self.loop.run_in_executor(\n",
       "</span></pre>\n"
      ],
      "text/plain": [
       "\u001b[31m  File \"/pkg/modal/_vendor/a2wsgi_wsgi.py\", line 597, in __call__\n",
       "    await self.loop.run_in_executor(\n",
       "\u001b[0m"
      ]
     },
     "metadata": {},
     "output_type": "display_data"
    },
    {
     "data": {
      "text/html": [
       "<pre style=\"white-space:pre;overflow-x:auto;line-height:normal;font-family:Menlo,'DejaVu Sans Mono',consolas,'Courier New',monospace\"><span style=\"color: #800000; text-decoration-color: #800000\">  File \"/usr/local/lib/python3.11/concurrent/futures/thread.py\", line 58, in run\n",
       "    result = self.fn(*self.args, **self.kwargs)\n",
       "             ^^^^^^^^^^^^^^^^^^^^^^^^^^^^^^^^^^\n",
       "</span></pre>\n"
      ],
      "text/plain": [
       "\u001b[31m  File \"/usr/local/lib/python3.11/concurrent/futures/thread.py\", line 58, in run\n",
       "    result = self.fn(*self.args, **self.kwargs)\n",
       "             ^^^^^^^^^^^^^^^^^^^^^^^^^^^^^^^^^^\n",
       "\u001b[0m"
      ]
     },
     "metadata": {},
     "output_type": "display_data"
    },
    {
     "data": {
      "text/html": [
       "<pre style=\"white-space:pre;overflow-x:auto;line-height:normal;font-family:Menlo,'DejaVu Sans Mono',consolas,'Courier New',monospace\"><span style=\"color: #800000; text-decoration-color: #800000\">  File \"/pkg/modal/_vendor/a2wsgi_wsgi.py\", line 653, in wsgi\n",
       "    iterable = self.app(environ, start_response)\n",
       "               ^^^^^^^^^^^^^^^^^^^^^^^^^^^^^^^^^\n",
       "</span></pre>\n"
      ],
      "text/plain": [
       "\u001b[31m  File \"/pkg/modal/_vendor/a2wsgi_wsgi.py\", line 653, in wsgi\n",
       "    iterable = self.app(environ, start_response)\n",
       "               ^^^^^^^^^^^^^^^^^^^^^^^^^^^^^^^^^\n",
       "\u001b[0m"
      ]
     },
     "metadata": {},
     "output_type": "display_data"
    },
    {
     "data": {
      "text/html": [
       "<pre style=\"white-space:pre;overflow-x:auto;line-height:normal;font-family:Menlo,'DejaVu Sans Mono',consolas,'Courier New',monospace\"><span style=\"color: #800000; text-decoration-color: #800000\">  File \"/usr/local/lib/python3.11/site-packages/tensorboard/backend/application.py\", line 528, in __call__\n",
       "    return self._app(environ, start_response)\n",
       "           ^^^^^^^^^^^^^^^^^^^^^^^^^^^^^^^^^^\n",
       "</span></pre>\n"
      ],
      "text/plain": [
       "\u001b[31m  File \"/usr/local/lib/python3.11/site-packages/tensorboard/backend/application.py\", line 528, in __call__\n",
       "    return self._app(environ, start_response)\n",
       "           ^^^^^^^^^^^^^^^^^^^^^^^^^^^^^^^^^^\n",
       "\u001b[0m"
      ]
     },
     "metadata": {},
     "output_type": "display_data"
    },
    {
     "data": {
      "text/html": [
       "<pre style=\"white-space:pre;overflow-x:auto;line-height:normal;font-family:Menlo,'DejaVu Sans Mono',consolas,'Courier New',monospace\"><span style=\"color: #800000; text-decoration-color: #800000\">  File \"/usr/local/lib/python3.11/site-packages/tensorboard/backend/application.py\", line 569, in wrapper\n",
       "    return wsgi_app(environ, start_response)\n",
       "           ^^^^^^^^^^^^^^^^^^^^^^^^^^^^^^^^^\n",
       "</span></pre>\n"
      ],
      "text/plain": [
       "\u001b[31m  File \"/usr/local/lib/python3.11/site-packages/tensorboard/backend/application.py\", line 569, in wrapper\n",
       "    return wsgi_app(environ, start_response)\n",
       "           ^^^^^^^^^^^^^^^^^^^^^^^^^^^^^^^^^\n",
       "\u001b[0m"
      ]
     },
     "metadata": {},
     "output_type": "display_data"
    },
    {
     "data": {
      "text/html": [
       "<pre style=\"white-space:pre;overflow-x:auto;line-height:normal;font-family:Menlo,'DejaVu Sans Mono',consolas,'Courier New',monospace\"><span style=\"color: #800000; text-decoration-color: #800000\">  File \"/usr/local/lib/python3.11/site-packages/tensorboard/backend/security_validator.py\", line 91, in __call__\n",
       "    return self._application(environ, start_response_proxy)\n",
       "           ^^^^^^^^^^^^^^^^^^^^^^^^^^^^^^^^^^^^^^^^^^^^^^^^\n",
       "</span></pre>\n"
      ],
      "text/plain": [
       "\u001b[31m  File \"/usr/local/lib/python3.11/site-packages/tensorboard/backend/security_validator.py\", line 91, in __call__\n",
       "    return self._application(environ, start_response_proxy)\n",
       "           ^^^^^^^^^^^^^^^^^^^^^^^^^^^^^^^^^^^^^^^^^^^^^^^^\n",
       "\u001b[0m"
      ]
     },
     "metadata": {},
     "output_type": "display_data"
    },
    {
     "data": {
      "text/html": [
       "<pre style=\"white-space:pre;overflow-x:auto;line-height:normal;font-family:Menlo,'DejaVu Sans Mono',consolas,'Courier New',monospace\"><span style=\"color: #800000; text-decoration-color: #800000\">  File \"/usr/local/lib/python3.11/site-packages/tensorboard/backend/path_prefix.py\", line 68, in __call__\n",
       "    return self._application(environ, start_response)\n",
       "           ^^^^^^^^^^^^^^^^^^^^^^^^^^^^^^^^^^^^^^^^^^\n",
       "</span></pre>\n"
      ],
      "text/plain": [
       "\u001b[31m  File \"/usr/local/lib/python3.11/site-packages/tensorboard/backend/path_prefix.py\", line 68, in __call__\n",
       "    return self._application(environ, start_response)\n",
       "           ^^^^^^^^^^^^^^^^^^^^^^^^^^^^^^^^^^^^^^^^^^\n",
       "\u001b[0m"
      ]
     },
     "metadata": {},
     "output_type": "display_data"
    },
    {
     "data": {
      "text/html": [
       "<pre style=\"white-space:pre;overflow-x:auto;line-height:normal;font-family:Menlo,'DejaVu Sans Mono',consolas,'Courier New',monospace\"><span style=\"color: #800000; text-decoration-color: #800000\">  File \"/usr/local/lib/python3.11/site-packages/tensorboard/backend/experiment_id.py\", line 73, in __call__\n",
       "    return self._application(environ, start_response)\n",
       "           ^^^^^^^^^^^^^^^^^^^^^^^^^^^^^^^^^^^^^^^^^^\n",
       "</span></pre>\n"
      ],
      "text/plain": [
       "\u001b[31m  File \"/usr/local/lib/python3.11/site-packages/tensorboard/backend/experiment_id.py\", line 73, in __call__\n",
       "    return self._application(environ, start_response)\n",
       "           ^^^^^^^^^^^^^^^^^^^^^^^^^^^^^^^^^^^^^^^^^^\n",
       "\u001b[0m"
      ]
     },
     "metadata": {},
     "output_type": "display_data"
    },
    {
     "data": {
      "text/html": [
       "<pre style=\"white-space:pre;overflow-x:auto;line-height:normal;font-family:Menlo,'DejaVu Sans Mono',consolas,'Courier New',monospace\"><span style=\"color: #800000; text-decoration-color: #800000\">  File \"/usr/local/lib/python3.11/site-packages/tensorboard/backend/empty_path_redirect.py\", line 43, in __call__\n",
       "    return self._application(environ, start_response)\n",
       "           ^^^^^^^^^^^^^^^^^^^^^^^^^^^^^^^^^^^^^^^^^^\n",
       "</span></pre>\n"
      ],
      "text/plain": [
       "\u001b[31m  File \"/usr/local/lib/python3.11/site-packages/tensorboard/backend/empty_path_redirect.py\", line 43, in __call__\n",
       "    return self._application(environ, start_response)\n",
       "           ^^^^^^^^^^^^^^^^^^^^^^^^^^^^^^^^^^^^^^^^^^\n",
       "\u001b[0m"
      ]
     },
     "metadata": {},
     "output_type": "display_data"
    },
    {
     "data": {
      "text/html": [
       "<pre style=\"white-space:pre;overflow-x:auto;line-height:normal;font-family:Menlo,'DejaVu Sans Mono',consolas,'Courier New',monospace\"><span style=\"color: #800000; text-decoration-color: #800000\">  File \"/usr/local/lib/python3.11/site-packages/tensorboard/backend/client_feature_flags.py\", line 55, in __call__\n",
       "    return self._application(environ, start_response)\n",
       "           ^^^^^^^^^^^^^^^^^^^^^^^^^^^^^^^^^^^^^^^^^^\n",
       "</span></pre>\n"
      ],
      "text/plain": [
       "\u001b[31m  File \"/usr/local/lib/python3.11/site-packages/tensorboard/backend/client_feature_flags.py\", line 55, in __call__\n",
       "    return self._application(environ, start_response)\n",
       "           ^^^^^^^^^^^^^^^^^^^^^^^^^^^^^^^^^^^^^^^^^^\n",
       "\u001b[0m"
      ]
     },
     "metadata": {},
     "output_type": "display_data"
    },
    {
     "data": {
      "text/html": [
       "<pre style=\"white-space:pre;overflow-x:auto;line-height:normal;font-family:Menlo,'DejaVu Sans Mono',consolas,'Courier New',monospace\"><span style=\"color: #800000; text-decoration-color: #800000\">  File \"/usr/local/lib/python3.11/site-packages/tensorboard/backend/auth_context_middleware.py\", line 38, in __call__\n",
       "    return self._application(environ, start_response)\n",
       "           ^^^^^^^^^^^^^^^^^^^^^^^^^^^^^^^^^^^^^^^^^^\n",
       "</span></pre>\n"
      ],
      "text/plain": [
       "\u001b[31m  File \"/usr/local/lib/python3.11/site-packages/tensorboard/backend/auth_context_middleware.py\", line 38, in __call__\n",
       "    return self._application(environ, start_response)\n",
       "           ^^^^^^^^^^^^^^^^^^^^^^^^^^^^^^^^^^^^^^^^^^\n",
       "\u001b[0m"
      ]
     },
     "metadata": {},
     "output_type": "display_data"
    },
    {
     "data": {
      "text/html": [
       "<pre style=\"white-space:pre;overflow-x:auto;line-height:normal;font-family:Menlo,'DejaVu Sans Mono',consolas,'Courier New',monospace\"><span style=\"color: #800000; text-decoration-color: #800000\">  File \"/usr/local/lib/python3.11/site-packages/tensorboard/backend/application.py\", line 551, in _route_request\n",
       "    return self.exact_routes[clean_path](environ, start_response)\n",
       "           ^^^^^^^^^^^^^^^^^^^^^^^^^^^^^^^^^^^^^^^^^^^^^^^^^^^^^^\n",
       "</span></pre>\n"
      ],
      "text/plain": [
       "\u001b[31m  File \"/usr/local/lib/python3.11/site-packages/tensorboard/backend/application.py\", line 551, in _route_request\n",
       "    return self.exact_routes[clean_path](environ, start_response)\n",
       "           ^^^^^^^^^^^^^^^^^^^^^^^^^^^^^^^^^^^^^^^^^^^^^^^^^^^^^^\n",
       "\u001b[0m"
      ]
     },
     "metadata": {},
     "output_type": "display_data"
    },
    {
     "data": {
      "text/html": [
       "<pre style=\"white-space:pre;overflow-x:auto;line-height:normal;font-family:Menlo,'DejaVu Sans Mono',consolas,'Courier New',monospace\"><span style=\"color: #800000; text-decoration-color: #800000\">  File \"/usr/local/lib/python3.11/site-packages/werkzeug/wrappers/request.py\", line 189, in application\n",
       "    resp = f(*args[:-2] + (request,))\n",
       "           ^^^^^^^^^^^^^^^^^^^^^^^^^^\n",
       "</span></pre>\n"
      ],
      "text/plain": [
       "\u001b[31m  File \"/usr/local/lib/python3.11/site-packages/werkzeug/wrappers/request.py\", line 189, in application\n",
       "    resp = f(*args[:-2] + (request,))\n",
       "           ^^^^^^^^^^^^^^^^^^^^^^^^^^\n",
       "\u001b[0m"
      ]
     },
     "metadata": {},
     "output_type": "display_data"
    },
    {
     "data": {
      "text/html": [
       "<pre style=\"white-space:pre;overflow-x:auto;line-height:normal;font-family:Menlo,'DejaVu Sans Mono',consolas,'Courier New',monospace\"><span style=\"color: #800000; text-decoration-color: #800000\">  File \"/usr/local/lib/python3.11/site-packages/tensorboard/plugins/hparams/hparams_plugin.py\", line 121, in get_experiment_route\n",
       "    json_format.MessageToJson(\n",
       "</span></pre>\n"
      ],
      "text/plain": [
       "\u001b[31m  File \"/usr/local/lib/python3.11/site-packages/tensorboard/plugins/hparams/hparams_plugin.py\", line 121, in get_experiment_route\n",
       "    json_format.MessageToJson(\n",
       "\u001b[0m"
      ]
     },
     "metadata": {},
     "output_type": "display_data"
    },
    {
     "data": {
      "text/html": [
       "<pre style=\"white-space:pre;overflow-x:auto;line-height:normal;font-family:Menlo,'DejaVu Sans Mono',consolas,'Courier New',monospace\"><span style=\"color: #800000; text-decoration-color: #800000\">TypeError: MessageToJson() got an unexpected keyword argument 'including_default_value_fields'\n",
       "</span></pre>\n"
      ],
      "text/plain": [
       "\u001b[31mTypeError: MessageToJson() got an unexpected keyword argument 'including_default_value_fields'\n",
       "\u001b[0m"
      ]
     },
     "metadata": {},
     "output_type": "display_data"
    },
    {
     "data": {
      "text/html": [
       "<pre style=\"white-space:pre;overflow-x:auto;line-height:normal;font-family:Menlo,'DejaVu Sans Mono',consolas,'Courier New',monospace\"><span style=\"color: #800000; text-decoration-color: #800000\">Traceback (most recent call last):\n",
       "</span></pre>\n"
      ],
      "text/plain": [
       "\u001b[31mTraceback (most recent call last):\n",
       "\u001b[0m"
      ]
     },
     "metadata": {},
     "output_type": "display_data"
    },
    {
     "data": {
      "text/html": [
       "<pre style=\"white-space:pre;overflow-x:auto;line-height:normal;font-family:Menlo,'DejaVu Sans Mono',consolas,'Courier New',monospace\"><span style=\"color: #800000; text-decoration-color: #800000\">\n",
       "NOTE: Using experimental fast data loading logic. To disable, pass\n",
       "    \"--load_fast=false\" and report issues on GitHub. More details:\n",
       "    https://github.com/tensorflow/tensorboard/issues/4784\n",
       "\n",
       "</span></pre>\n"
      ],
      "text/plain": [
       "\u001b[31m\n",
       "NOTE: Using experimental fast data loading logic. To disable, pass\n",
       "    \"--load_fast=false\" and report issues on GitHub. More details:\n",
       "    https://github.com/tensorflow/tensorboard/issues/4784\n",
       "\n",
       "\u001b[0m"
      ]
     },
     "metadata": {},
     "output_type": "display_data"
    },
    {
     "data": {
      "text/html": [
       "<pre style=\"white-space:pre;overflow-x:auto;line-height:normal;font-family:Menlo,'DejaVu Sans Mono',consolas,'Courier New',monospace\"><span style=\"color: #800000; text-decoration-color: #800000\">  File \"/pkg/modal/_container_io_manager.py\", line 488, in handle_input_exception\n",
       "    yield\n",
       "</span></pre>\n"
      ],
      "text/plain": [
       "\u001b[31m  File \"/pkg/modal/_container_io_manager.py\", line 488, in handle_input_exception\n",
       "    yield\n",
       "\u001b[0m"
      ]
     },
     "metadata": {},
     "output_type": "display_data"
    },
    {
     "data": {
      "text/html": [
       "<pre style=\"white-space:pre;overflow-x:auto;line-height:normal;font-family:Menlo,'DejaVu Sans Mono',consolas,'Courier New',monospace\"><span style=\"color: #800000; text-decoration-color: #800000\">  File \"/pkg/modal/_container_entrypoint.py\", line 244, in run_input\n",
       "    async for value in res:\n",
       "</span></pre>\n"
      ],
      "text/plain": [
       "\u001b[31m  File \"/pkg/modal/_container_entrypoint.py\", line 244, in run_input\n",
       "    async for value in res:\n",
       "\u001b[0m"
      ]
     },
     "metadata": {},
     "output_type": "display_data"
    },
    {
     "data": {
      "text/html": [
       "<pre style=\"white-space:pre;overflow-x:auto;line-height:normal;font-family:Menlo,'DejaVu Sans Mono',consolas,'Courier New',monospace\"><span style=\"color: #800000; text-decoration-color: #800000\">  File \"/pkg/modal/_asgi.py\", line 126, in fn\n",
       "    app_task.result()  # consume/raise exceptions if there are any!\n",
       "    ^^^^^^^^^^^^^^^^^\n",
       "</span></pre>\n"
      ],
      "text/plain": [
       "\u001b[31m  File \"/pkg/modal/_asgi.py\", line 126, in fn\n",
       "    app_task.result()  # consume/raise exceptions if there are any!\n",
       "    ^^^^^^^^^^^^^^^^^\n",
       "\u001b[0m"
      ]
     },
     "metadata": {},
     "output_type": "display_data"
    },
    {
     "data": {
      "text/html": [
       "<pre style=\"white-space:pre;overflow-x:auto;line-height:normal;font-family:Menlo,'DejaVu Sans Mono',consolas,'Courier New',monospace\"><span style=\"color: #800000; text-decoration-color: #800000\">  File \"/pkg/modal/_vendor/a2wsgi_wsgi.py\", line 562, in __call__\n",
       "    return await responder(scope, receive, send)\n",
       "           ^^^^^^^^^^^^^^^^^^^^^^^^^^^^^^^^^^^^^\n",
       "</span></pre>\n"
      ],
      "text/plain": [
       "\u001b[31m  File \"/pkg/modal/_vendor/a2wsgi_wsgi.py\", line 562, in __call__\n",
       "    return await responder(scope, receive, send)\n",
       "           ^^^^^^^^^^^^^^^^^^^^^^^^^^^^^^^^^^^^^\n",
       "\u001b[0m"
      ]
     },
     "metadata": {},
     "output_type": "display_data"
    },
    {
     "data": {
      "text/html": [
       "<pre style=\"white-space:pre;overflow-x:auto;line-height:normal;font-family:Menlo,'DejaVu Sans Mono',consolas,'Courier New',monospace\"><span style=\"color: #800000; text-decoration-color: #800000\">  File \"/pkg/modal/_vendor/a2wsgi_wsgi.py\", line 597, in __call__\n",
       "    await self.loop.run_in_executor(\n",
       "</span></pre>\n"
      ],
      "text/plain": [
       "\u001b[31m  File \"/pkg/modal/_vendor/a2wsgi_wsgi.py\", line 597, in __call__\n",
       "    await self.loop.run_in_executor(\n",
       "\u001b[0m"
      ]
     },
     "metadata": {},
     "output_type": "display_data"
    },
    {
     "data": {
      "text/html": [
       "<pre style=\"white-space:pre;overflow-x:auto;line-height:normal;font-family:Menlo,'DejaVu Sans Mono',consolas,'Courier New',monospace\"><span style=\"color: #800000; text-decoration-color: #800000\">  File \"/usr/local/lib/python3.11/concurrent/futures/thread.py\", line 58, in run\n",
       "    result = self.fn(*self.args, **self.kwargs)\n",
       "             ^^^^^^^^^^^^^^^^^^^^^^^^^^^^^^^^^^\n",
       "</span></pre>\n"
      ],
      "text/plain": [
       "\u001b[31m  File \"/usr/local/lib/python3.11/concurrent/futures/thread.py\", line 58, in run\n",
       "    result = self.fn(*self.args, **self.kwargs)\n",
       "             ^^^^^^^^^^^^^^^^^^^^^^^^^^^^^^^^^^\n",
       "\u001b[0m"
      ]
     },
     "metadata": {},
     "output_type": "display_data"
    },
    {
     "data": {
      "text/html": [
       "<pre style=\"white-space:pre;overflow-x:auto;line-height:normal;font-family:Menlo,'DejaVu Sans Mono',consolas,'Courier New',monospace\"><span style=\"color: #800000; text-decoration-color: #800000\">  File \"/pkg/modal/_vendor/a2wsgi_wsgi.py\", line 653, in wsgi\n",
       "    iterable = self.app(environ, start_response)\n",
       "               ^^^^^^^^^^^^^^^^^^^^^^^^^^^^^^^^^\n",
       "</span></pre>\n"
      ],
      "text/plain": [
       "\u001b[31m  File \"/pkg/modal/_vendor/a2wsgi_wsgi.py\", line 653, in wsgi\n",
       "    iterable = self.app(environ, start_response)\n",
       "               ^^^^^^^^^^^^^^^^^^^^^^^^^^^^^^^^^\n",
       "\u001b[0m"
      ]
     },
     "metadata": {},
     "output_type": "display_data"
    },
    {
     "data": {
      "text/html": [
       "<pre style=\"white-space:pre;overflow-x:auto;line-height:normal;font-family:Menlo,'DejaVu Sans Mono',consolas,'Courier New',monospace\"><span style=\"color: #800000; text-decoration-color: #800000\">  File \"/usr/local/lib/python3.11/site-packages/tensorboard/backend/application.py\", line 528, in __call__\n",
       "    return self._app(environ, start_response)\n",
       "           ^^^^^^^^^^^^^^^^^^^^^^^^^^^^^^^^^^\n",
       "</span></pre>\n"
      ],
      "text/plain": [
       "\u001b[31m  File \"/usr/local/lib/python3.11/site-packages/tensorboard/backend/application.py\", line 528, in __call__\n",
       "    return self._app(environ, start_response)\n",
       "           ^^^^^^^^^^^^^^^^^^^^^^^^^^^^^^^^^^\n",
       "\u001b[0m"
      ]
     },
     "metadata": {},
     "output_type": "display_data"
    },
    {
     "data": {
      "text/html": [
       "<pre style=\"white-space:pre;overflow-x:auto;line-height:normal;font-family:Menlo,'DejaVu Sans Mono',consolas,'Courier New',monospace\"><span style=\"color: #800000; text-decoration-color: #800000\">  File \"/usr/local/lib/python3.11/site-packages/tensorboard/backend/application.py\", line 569, in wrapper\n",
       "    return wsgi_app(environ, start_response)\n",
       "           ^^^^^^^^^^^^^^^^^^^^^^^^^^^^^^^^^\n",
       "</span></pre>\n"
      ],
      "text/plain": [
       "\u001b[31m  File \"/usr/local/lib/python3.11/site-packages/tensorboard/backend/application.py\", line 569, in wrapper\n",
       "    return wsgi_app(environ, start_response)\n",
       "           ^^^^^^^^^^^^^^^^^^^^^^^^^^^^^^^^^\n",
       "\u001b[0m"
      ]
     },
     "metadata": {},
     "output_type": "display_data"
    },
    {
     "data": {
      "text/html": [
       "<pre style=\"white-space:pre;overflow-x:auto;line-height:normal;font-family:Menlo,'DejaVu Sans Mono',consolas,'Courier New',monospace\"><span style=\"color: #800000; text-decoration-color: #800000\">  File \"/usr/local/lib/python3.11/site-packages/tensorboard/backend/security_validator.py\", line 91, in __call__\n",
       "    return self._application(environ, start_response_proxy)\n",
       "           ^^^^^^^^^^^^^^^^^^^^^^^^^^^^^^^^^^^^^^^^^^^^^^^^\n",
       "</span></pre>\n"
      ],
      "text/plain": [
       "\u001b[31m  File \"/usr/local/lib/python3.11/site-packages/tensorboard/backend/security_validator.py\", line 91, in __call__\n",
       "    return self._application(environ, start_response_proxy)\n",
       "           ^^^^^^^^^^^^^^^^^^^^^^^^^^^^^^^^^^^^^^^^^^^^^^^^\n",
       "\u001b[0m"
      ]
     },
     "metadata": {},
     "output_type": "display_data"
    },
    {
     "data": {
      "text/html": [
       "<pre style=\"white-space:pre;overflow-x:auto;line-height:normal;font-family:Menlo,'DejaVu Sans Mono',consolas,'Courier New',monospace\"><span style=\"color: #800000; text-decoration-color: #800000\">  File \"/usr/local/lib/python3.11/site-packages/tensorboard/backend/path_prefix.py\", line 68, in __call__\n",
       "    return self._application(environ, start_response)\n",
       "           ^^^^^^^^^^^^^^^^^^^^^^^^^^^^^^^^^^^^^^^^^^\n",
       "</span></pre>\n"
      ],
      "text/plain": [
       "\u001b[31m  File \"/usr/local/lib/python3.11/site-packages/tensorboard/backend/path_prefix.py\", line 68, in __call__\n",
       "    return self._application(environ, start_response)\n",
       "           ^^^^^^^^^^^^^^^^^^^^^^^^^^^^^^^^^^^^^^^^^^\n",
       "\u001b[0m"
      ]
     },
     "metadata": {},
     "output_type": "display_data"
    },
    {
     "data": {
      "text/html": [
       "<pre style=\"white-space:pre;overflow-x:auto;line-height:normal;font-family:Menlo,'DejaVu Sans Mono',consolas,'Courier New',monospace\"><span style=\"color: #800000; text-decoration-color: #800000\">  File \"/usr/local/lib/python3.11/site-packages/tensorboard/backend/experiment_id.py\", line 73, in __call__\n",
       "    return self._application(environ, start_response)\n",
       "           ^^^^^^^^^^^^^^^^^^^^^^^^^^^^^^^^^^^^^^^^^^\n",
       "</span></pre>\n"
      ],
      "text/plain": [
       "\u001b[31m  File \"/usr/local/lib/python3.11/site-packages/tensorboard/backend/experiment_id.py\", line 73, in __call__\n",
       "    return self._application(environ, start_response)\n",
       "           ^^^^^^^^^^^^^^^^^^^^^^^^^^^^^^^^^^^^^^^^^^\n",
       "\u001b[0m"
      ]
     },
     "metadata": {},
     "output_type": "display_data"
    },
    {
     "data": {
      "text/html": [
       "<pre style=\"white-space:pre;overflow-x:auto;line-height:normal;font-family:Menlo,'DejaVu Sans Mono',consolas,'Courier New',monospace\"><span style=\"color: #800000; text-decoration-color: #800000\">  File \"/usr/local/lib/python3.11/site-packages/tensorboard/backend/empty_path_redirect.py\", line 43, in __call__\n",
       "    return self._application(environ, start_response)\n",
       "           ^^^^^^^^^^^^^^^^^^^^^^^^^^^^^^^^^^^^^^^^^^\n",
       "</span></pre>\n"
      ],
      "text/plain": [
       "\u001b[31m  File \"/usr/local/lib/python3.11/site-packages/tensorboard/backend/empty_path_redirect.py\", line 43, in __call__\n",
       "    return self._application(environ, start_response)\n",
       "           ^^^^^^^^^^^^^^^^^^^^^^^^^^^^^^^^^^^^^^^^^^\n",
       "\u001b[0m"
      ]
     },
     "metadata": {},
     "output_type": "display_data"
    },
    {
     "data": {
      "text/html": [
       "<pre style=\"white-space:pre;overflow-x:auto;line-height:normal;font-family:Menlo,'DejaVu Sans Mono',consolas,'Courier New',monospace\"><span style=\"color: #800000; text-decoration-color: #800000\">  File \"/usr/local/lib/python3.11/site-packages/tensorboard/backend/client_feature_flags.py\", line 55, in __call__\n",
       "    return self._application(environ, start_response)\n",
       "           ^^^^^^^^^^^^^^^^^^^^^^^^^^^^^^^^^^^^^^^^^^\n",
       "</span></pre>\n"
      ],
      "text/plain": [
       "\u001b[31m  File \"/usr/local/lib/python3.11/site-packages/tensorboard/backend/client_feature_flags.py\", line 55, in __call__\n",
       "    return self._application(environ, start_response)\n",
       "           ^^^^^^^^^^^^^^^^^^^^^^^^^^^^^^^^^^^^^^^^^^\n",
       "\u001b[0m"
      ]
     },
     "metadata": {},
     "output_type": "display_data"
    },
    {
     "data": {
      "text/html": [
       "<pre style=\"white-space:pre;overflow-x:auto;line-height:normal;font-family:Menlo,'DejaVu Sans Mono',consolas,'Courier New',monospace\"><span style=\"color: #800000; text-decoration-color: #800000\">  File \"/usr/local/lib/python3.11/site-packages/tensorboard/backend/auth_context_middleware.py\", line 38, in __call__\n",
       "    return self._application(environ, start_response)\n",
       "           ^^^^^^^^^^^^^^^^^^^^^^^^^^^^^^^^^^^^^^^^^^\n",
       "</span></pre>\n"
      ],
      "text/plain": [
       "\u001b[31m  File \"/usr/local/lib/python3.11/site-packages/tensorboard/backend/auth_context_middleware.py\", line 38, in __call__\n",
       "    return self._application(environ, start_response)\n",
       "           ^^^^^^^^^^^^^^^^^^^^^^^^^^^^^^^^^^^^^^^^^^\n",
       "\u001b[0m"
      ]
     },
     "metadata": {},
     "output_type": "display_data"
    },
    {
     "data": {
      "text/html": [
       "<pre style=\"white-space:pre;overflow-x:auto;line-height:normal;font-family:Menlo,'DejaVu Sans Mono',consolas,'Courier New',monospace\"><span style=\"color: #800000; text-decoration-color: #800000\">  File \"/usr/local/lib/python3.11/site-packages/tensorboard/backend/application.py\", line 551, in _route_request\n",
       "    return self.exact_routes[clean_path](environ, start_response)\n",
       "           ^^^^^^^^^^^^^^^^^^^^^^^^^^^^^^^^^^^^^^^^^^^^^^^^^^^^^^\n",
       "</span></pre>\n"
      ],
      "text/plain": [
       "\u001b[31m  File \"/usr/local/lib/python3.11/site-packages/tensorboard/backend/application.py\", line 551, in _route_request\n",
       "    return self.exact_routes[clean_path](environ, start_response)\n",
       "           ^^^^^^^^^^^^^^^^^^^^^^^^^^^^^^^^^^^^^^^^^^^^^^^^^^^^^^\n",
       "\u001b[0m"
      ]
     },
     "metadata": {},
     "output_type": "display_data"
    },
    {
     "data": {
      "text/html": [
       "<pre style=\"white-space:pre;overflow-x:auto;line-height:normal;font-family:Menlo,'DejaVu Sans Mono',consolas,'Courier New',monospace\"><span style=\"color: #800000; text-decoration-color: #800000\">  File \"/usr/local/lib/python3.11/site-packages/werkzeug/wrappers/request.py\", line 189, in application\n",
       "    resp = f(*args[:-2] + (request,))\n",
       "           ^^^^^^^^^^^^^^^^^^^^^^^^^^\n",
       "</span></pre>\n"
      ],
      "text/plain": [
       "\u001b[31m  File \"/usr/local/lib/python3.11/site-packages/werkzeug/wrappers/request.py\", line 189, in application\n",
       "    resp = f(*args[:-2] + (request,))\n",
       "           ^^^^^^^^^^^^^^^^^^^^^^^^^^\n",
       "\u001b[0m"
      ]
     },
     "metadata": {},
     "output_type": "display_data"
    },
    {
     "data": {
      "text/html": [
       "<pre style=\"white-space:pre;overflow-x:auto;line-height:normal;font-family:Menlo,'DejaVu Sans Mono',consolas,'Courier New',monospace\"><span style=\"color: #800000; text-decoration-color: #800000\">  File \"/usr/local/lib/python3.11/site-packages/tensorboard/plugins/hparams/hparams_plugin.py\", line 121, in get_experiment_route\n",
       "    json_format.MessageToJson(\n",
       "</span></pre>\n"
      ],
      "text/plain": [
       "\u001b[31m  File \"/usr/local/lib/python3.11/site-packages/tensorboard/plugins/hparams/hparams_plugin.py\", line 121, in get_experiment_route\n",
       "    json_format.MessageToJson(\n",
       "\u001b[0m"
      ]
     },
     "metadata": {},
     "output_type": "display_data"
    },
    {
     "data": {
      "text/html": [
       "<pre style=\"white-space:pre;overflow-x:auto;line-height:normal;font-family:Menlo,'DejaVu Sans Mono',consolas,'Courier New',monospace\"><span style=\"color: #800000; text-decoration-color: #800000\">TypeError: MessageToJson() got an unexpected keyword argument 'including_default_value_fields'\n",
       "</span></pre>\n"
      ],
      "text/plain": [
       "\u001b[31mTypeError: MessageToJson() got an unexpected keyword argument 'including_default_value_fields'\n",
       "\u001b[0m"
      ]
     },
     "metadata": {},
     "output_type": "display_data"
    },
    {
     "data": {
      "text/html": [
       "<pre style=\"white-space:pre;overflow-x:auto;line-height:normal;font-family:Menlo,'DejaVu Sans Mono',consolas,'Courier New',monospace\"><span style=\"color: #800000; text-decoration-color: #800000\">\n",
       "NOTE: Using experimental fast data loading logic. To disable, pass\n",
       "    \"--load_fast=false\" and report issues on GitHub. More details:\n",
       "    https://github.com/tensorflow/tensorboard/issues/4784\n",
       "\n",
       "</span></pre>\n"
      ],
      "text/plain": [
       "\u001b[31m\n",
       "NOTE: Using experimental fast data loading logic. To disable, pass\n",
       "    \"--load_fast=false\" and report issues on GitHub. More details:\n",
       "    https://github.com/tensorflow/tensorboard/issues/4784\n",
       "\n",
       "\u001b[0m"
      ]
     },
     "metadata": {},
     "output_type": "display_data"
    },
    {
     "data": {
      "text/html": [
       "<pre style=\"white-space:pre;overflow-x:auto;line-height:normal;font-family:Menlo,'DejaVu Sans Mono',consolas,'Courier New',monospace\"><span style=\"color: #800000; text-decoration-color: #800000\">\n",
       "NOTE: Using experimental fast data loading logic. To disable, pass\n",
       "    \"--load_fast=false\" and report issues on GitHub. More details:\n",
       "    https://github.com/tensorflow/tensorboard/issues/4784\n",
       "\n",
       "</span></pre>\n"
      ],
      "text/plain": [
       "\u001b[31m\n",
       "NOTE: Using experimental fast data loading logic. To disable, pass\n",
       "    \"--load_fast=false\" and report issues on GitHub. More details:\n",
       "    https://github.com/tensorflow/tensorboard/issues/4784\n",
       "\n",
       "\u001b[0m"
      ]
     },
     "metadata": {},
     "output_type": "display_data"
    },
    {
     "data": {
      "text/html": [
       "<pre style=\"white-space:pre;overflow-x:auto;line-height:normal;font-family:Menlo,'DejaVu Sans Mono',consolas,'Courier New',monospace\"><span style=\"color: #800000; text-decoration-color: #800000\">\n",
       "NOTE: Using experimental fast data loading logic. To disable, pass\n",
       "    \"--load_fast=false\" and report issues on GitHub. More details:\n",
       "    https://github.com/tensorflow/tensorboard/issues/4784\n",
       "\n",
       "</span></pre>\n"
      ],
      "text/plain": [
       "\u001b[31m\n",
       "NOTE: Using experimental fast data loading logic. To disable, pass\n",
       "    \"--load_fast=false\" and report issues on GitHub. More details:\n",
       "    https://github.com/tensorflow/tensorboard/issues/4784\n",
       "\n",
       "\u001b[0m"
      ]
     },
     "metadata": {},
     "output_type": "display_data"
    },
    {
     "data": {
      "text/html": [
       "<pre style=\"white-space:pre;overflow-x:auto;line-height:normal;font-family:Menlo,'DejaVu Sans Mono',consolas,'Courier New',monospace\"><span style=\"color: #800000; text-decoration-color: #800000\">ERROR:asyncio:Task was destroyed but it is pending!\n",
       "task: &lt;Task pending name='Task-304' coro=&lt;aio_generator_output_task() done, defined at /pkg/synchronicity/async_wrap.py:27&gt; wait_for=&lt;Future pending cb=[_chain_future.&lt;locals&gt;._call_check_cancel() at /usr/local/lib/python3.11/asyncio/futures.py:387, Task.task_wakeup()]&gt;&gt;\n",
       "</span></pre>\n"
      ],
      "text/plain": [
       "\u001b[31mERROR:asyncio:Task was destroyed but it is pending!\n",
       "task: <Task pending name='Task-304' coro=<aio_generator_output_task() done, defined at /pkg/synchronicity/async_wrap.py:27> wait_for=<Future pending cb=[_chain_future.<locals>._call_check_cancel() at /usr/local/lib/python3.11/asyncio/futures.py:387, Task.task_wakeup()]>>\n",
       "\u001b[0m"
      ]
     },
     "metadata": {},
     "output_type": "display_data"
    },
    {
     "data": {
      "text/html": [
       "<pre style=\"white-space:pre;overflow-x:auto;line-height:normal;font-family:Menlo,'DejaVu Sans Mono',consolas,'Courier New',monospace\"><span style=\"color: #800000; text-decoration-color: #800000\"></span></pre>\n"
      ],
      "text/plain": []
     },
     "metadata": {},
     "output_type": "display_data"
    },
    {
     "data": {
      "text/html": [
       "<pre style=\"white-space:pre;overflow-x:auto;line-height:normal;font-family:Menlo,'DejaVu Sans Mono',consolas,'Courier New',monospace\"><span style=\"color: #800000; text-decoration-color: #800000\"></span></pre>\n"
      ],
      "text/plain": []
     },
     "metadata": {},
     "output_type": "display_data"
    },
    {
     "data": {
      "text/html": [
       "<pre style=\"white-space:pre;overflow-x:auto;line-height:normal;font-family:Menlo,'DejaVu Sans Mono',consolas,'Courier New',monospace\"><span style=\"color: #800000; text-decoration-color: #800000\">Exception ignored in: &lt;coroutine object wrap_coro_exception.&lt;locals&gt;.coro_wrapped at 0x7f9c67eb2c00&gt;\n",
       "</span></pre>\n"
      ],
      "text/plain": [
       "\u001b[31mException ignored in: <coroutine object wrap_coro_exception.<locals>.coro_wrapped at 0x7f9c67eb2c00>\n",
       "\u001b[0m"
      ]
     },
     "metadata": {},
     "output_type": "display_data"
    },
    {
     "data": {
      "text/html": [
       "<pre style=\"white-space:pre;overflow-x:auto;line-height:normal;font-family:Menlo,'DejaVu Sans Mono',consolas,'Courier New',monospace\"><span style=\"color: #800000; text-decoration-color: #800000\">Traceback (most recent call last):\n",
       "</span></pre>\n"
      ],
      "text/plain": [
       "\u001b[31mTraceback (most recent call last):\n",
       "\u001b[0m"
      ]
     },
     "metadata": {},
     "output_type": "display_data"
    },
    {
     "data": {
      "text/html": [
       "<pre style=\"white-space:pre;overflow-x:auto;line-height:normal;font-family:Menlo,'DejaVu Sans Mono',consolas,'Courier New',monospace\"><span style=\"color: #800000; text-decoration-color: #800000\">  File \"/pkg/synchronicity/exceptions.py\", line 31, in coro_wrapped\n",
       "</span></pre>\n"
      ],
      "text/plain": [
       "\u001b[31m  File \"/pkg/synchronicity/exceptions.py\", line 31, in coro_wrapped\n",
       "\u001b[0m"
      ]
     },
     "metadata": {},
     "output_type": "display_data"
    },
    {
     "data": {
      "text/html": [
       "<pre style=\"white-space:pre;overflow-x:auto;line-height:normal;font-family:Menlo,'DejaVu Sans Mono',consolas,'Courier New',monospace\"><span style=\"color: #800000; text-decoration-color: #800000\"></span></pre>\n"
      ],
      "text/plain": []
     },
     "metadata": {},
     "output_type": "display_data"
    },
    {
     "data": {
      "text/html": [
       "<pre style=\"white-space:pre;overflow-x:auto;line-height:normal;font-family:Menlo,'DejaVu Sans Mono',consolas,'Courier New',monospace\"><span style=\"color: #800000; text-decoration-color: #800000\"></span></pre>\n"
      ],
      "text/plain": []
     },
     "metadata": {},
     "output_type": "display_data"
    },
    {
     "data": {
      "text/html": [
       "<pre style=\"white-space:pre;overflow-x:auto;line-height:normal;font-family:Menlo,'DejaVu Sans Mono',consolas,'Courier New',monospace\"><span style=\"color: #800000; text-decoration-color: #800000\">    raise UserCodeException(exc)\n",
       "</span></pre>\n"
      ],
      "text/plain": [
       "\u001b[31m    raise UserCodeException(exc)\n",
       "\u001b[0m"
      ]
     },
     "metadata": {},
     "output_type": "display_data"
    },
    {
     "data": {
      "text/html": [
       "<pre style=\"white-space:pre;overflow-x:auto;line-height:normal;font-family:Menlo,'DejaVu Sans Mono',consolas,'Courier New',monospace\"><span style=\"color: #800000; text-decoration-color: #800000\"></span></pre>\n"
      ],
      "text/plain": []
     },
     "metadata": {},
     "output_type": "display_data"
    },
    {
     "data": {
      "text/html": [
       "<pre style=\"white-space:pre;overflow-x:auto;line-height:normal;font-family:Menlo,'DejaVu Sans Mono',consolas,'Courier New',monospace\"><span style=\"color: #800000; text-decoration-color: #800000\"></span></pre>\n"
      ],
      "text/plain": []
     },
     "metadata": {},
     "output_type": "display_data"
    },
    {
     "data": {
      "text/html": [
       "<pre style=\"white-space:pre;overflow-x:auto;line-height:normal;font-family:Menlo,'DejaVu Sans Mono',consolas,'Courier New',monospace\"><span style=\"color: #800000; text-decoration-color: #800000\"></span></pre>\n"
      ],
      "text/plain": []
     },
     "metadata": {},
     "output_type": "display_data"
    },
    {
     "data": {
      "text/html": [
       "<pre style=\"white-space:pre;overflow-x:auto;line-height:normal;font-family:Menlo,'DejaVu Sans Mono',consolas,'Courier New',monospace\"><span style=\"color: #800000; text-decoration-color: #800000\"></span></pre>\n"
      ],
      "text/plain": []
     },
     "metadata": {},
     "output_type": "display_data"
    },
    {
     "data": {
      "text/html": [
       "<pre style=\"white-space:pre;overflow-x:auto;line-height:normal;font-family:Menlo,'DejaVu Sans Mono',consolas,'Courier New',monospace\"><span style=\"color: #800000; text-decoration-color: #800000\">synchronicity.exceptions.UserCodeException: \n",
       "</span></pre>\n"
      ],
      "text/plain": [
       "\u001b[31msynchronicity.exceptions.UserCodeException: \n",
       "\u001b[0m"
      ]
     },
     "metadata": {},
     "output_type": "display_data"
    },
    {
     "data": {
      "text/html": [
       "<pre style=\"white-space:pre;overflow-x:auto;line-height:normal;font-family:Menlo,'DejaVu Sans Mono',consolas,'Courier New',monospace\"><span style=\"color: #800000; text-decoration-color: #800000\">ERROR:asyncio:Task was destroyed but it is pending!\n",
       "task: &lt;Task pending name='Task-318' coro=&lt;aio_generator_output_task() done, defined at /pkg/synchronicity/async_wrap.py:27&gt; wait_for=&lt;Future pending cb=[_chain_future.&lt;locals&gt;._call_check_cancel() at /usr/local/lib/python3.11/asyncio/futures.py:387, Task.task_wakeup()]&gt;&gt;\n",
       "</span></pre>\n"
      ],
      "text/plain": [
       "\u001b[31mERROR:asyncio:Task was destroyed but it is pending!\n",
       "task: <Task pending name='Task-318' coro=<aio_generator_output_task() done, defined at /pkg/synchronicity/async_wrap.py:27> wait_for=<Future pending cb=[_chain_future.<locals>._call_check_cancel() at /usr/local/lib/python3.11/asyncio/futures.py:387, Task.task_wakeup()]>>\n",
       "\u001b[0m"
      ]
     },
     "metadata": {},
     "output_type": "display_data"
    },
    {
     "data": {
      "text/html": [
       "<pre style=\"white-space:pre;overflow-x:auto;line-height:normal;font-family:Menlo,'DejaVu Sans Mono',consolas,'Courier New',monospace\"><span style=\"color: #800000; text-decoration-color: #800000\"></span></pre>\n"
      ],
      "text/plain": []
     },
     "metadata": {},
     "output_type": "display_data"
    },
    {
     "data": {
      "text/html": [
       "<pre style=\"white-space:pre;overflow-x:auto;line-height:normal;font-family:Menlo,'DejaVu Sans Mono',consolas,'Courier New',monospace\"><span style=\"color: #800000; text-decoration-color: #800000\"></span></pre>\n"
      ],
      "text/plain": []
     },
     "metadata": {},
     "output_type": "display_data"
    },
    {
     "data": {
      "text/html": [
       "<pre style=\"white-space:pre;overflow-x:auto;line-height:normal;font-family:Menlo,'DejaVu Sans Mono',consolas,'Courier New',monospace\"><span style=\"color: #800000; text-decoration-color: #800000\">Exception ignored in: &lt;coroutine object wrap_coro_exception.&lt;locals&gt;.coro_wrapped at 0x7f9c67eb2f80&gt;\n",
       "</span></pre>\n"
      ],
      "text/plain": [
       "\u001b[31mException ignored in: <coroutine object wrap_coro_exception.<locals>.coro_wrapped at 0x7f9c67eb2f80>\n",
       "\u001b[0m"
      ]
     },
     "metadata": {},
     "output_type": "display_data"
    },
    {
     "data": {
      "text/html": [
       "<pre style=\"white-space:pre;overflow-x:auto;line-height:normal;font-family:Menlo,'DejaVu Sans Mono',consolas,'Courier New',monospace\"><span style=\"color: #800000; text-decoration-color: #800000\">Traceback (most recent call last):\n",
       "</span></pre>\n"
      ],
      "text/plain": [
       "\u001b[31mTraceback (most recent call last):\n",
       "\u001b[0m"
      ]
     },
     "metadata": {},
     "output_type": "display_data"
    },
    {
     "data": {
      "text/html": [
       "<pre style=\"white-space:pre;overflow-x:auto;line-height:normal;font-family:Menlo,'DejaVu Sans Mono',consolas,'Courier New',monospace\"><span style=\"color: #800000; text-decoration-color: #800000\">  File \"/pkg/synchronicity/exceptions.py\", line 31, in coro_wrapped\n",
       "</span></pre>\n"
      ],
      "text/plain": [
       "\u001b[31m  File \"/pkg/synchronicity/exceptions.py\", line 31, in coro_wrapped\n",
       "\u001b[0m"
      ]
     },
     "metadata": {},
     "output_type": "display_data"
    },
    {
     "data": {
      "text/html": [
       "<pre style=\"white-space:pre;overflow-x:auto;line-height:normal;font-family:Menlo,'DejaVu Sans Mono',consolas,'Courier New',monospace\"><span style=\"color: #800000; text-decoration-color: #800000\"></span></pre>\n"
      ],
      "text/plain": []
     },
     "metadata": {},
     "output_type": "display_data"
    },
    {
     "data": {
      "text/html": [
       "<pre style=\"white-space:pre;overflow-x:auto;line-height:normal;font-family:Menlo,'DejaVu Sans Mono',consolas,'Courier New',monospace\"><span style=\"color: #800000; text-decoration-color: #800000\"></span></pre>\n"
      ],
      "text/plain": []
     },
     "metadata": {},
     "output_type": "display_data"
    },
    {
     "data": {
      "text/html": [
       "<pre style=\"white-space:pre;overflow-x:auto;line-height:normal;font-family:Menlo,'DejaVu Sans Mono',consolas,'Courier New',monospace\"><span style=\"color: #800000; text-decoration-color: #800000\">    raise UserCodeException(exc)\n",
       "</span></pre>\n"
      ],
      "text/plain": [
       "\u001b[31m    raise UserCodeException(exc)\n",
       "\u001b[0m"
      ]
     },
     "metadata": {},
     "output_type": "display_data"
    },
    {
     "data": {
      "text/html": [
       "<pre style=\"white-space:pre;overflow-x:auto;line-height:normal;font-family:Menlo,'DejaVu Sans Mono',consolas,'Courier New',monospace\"><span style=\"color: #800000; text-decoration-color: #800000\"></span></pre>\n"
      ],
      "text/plain": []
     },
     "metadata": {},
     "output_type": "display_data"
    },
    {
     "data": {
      "text/html": [
       "<pre style=\"white-space:pre;overflow-x:auto;line-height:normal;font-family:Menlo,'DejaVu Sans Mono',consolas,'Courier New',monospace\"><span style=\"color: #800000; text-decoration-color: #800000\"></span></pre>\n"
      ],
      "text/plain": []
     },
     "metadata": {},
     "output_type": "display_data"
    },
    {
     "data": {
      "text/html": [
       "<pre style=\"white-space:pre;overflow-x:auto;line-height:normal;font-family:Menlo,'DejaVu Sans Mono',consolas,'Courier New',monospace\"><span style=\"color: #800000; text-decoration-color: #800000\"></span></pre>\n"
      ],
      "text/plain": []
     },
     "metadata": {},
     "output_type": "display_data"
    },
    {
     "data": {
      "text/html": [
       "<pre style=\"white-space:pre;overflow-x:auto;line-height:normal;font-family:Menlo,'DejaVu Sans Mono',consolas,'Courier New',monospace\"><span style=\"color: #800000; text-decoration-color: #800000\"></span></pre>\n"
      ],
      "text/plain": []
     },
     "metadata": {},
     "output_type": "display_data"
    },
    {
     "data": {
      "text/html": [
       "<pre style=\"white-space:pre;overflow-x:auto;line-height:normal;font-family:Menlo,'DejaVu Sans Mono',consolas,'Courier New',monospace\"><span style=\"color: #800000; text-decoration-color: #800000\">synchronicity.exceptions.UserCodeException: \n",
       "</span></pre>\n"
      ],
      "text/plain": [
       "\u001b[31msynchronicity.exceptions.UserCodeException: \n",
       "\u001b[0m"
      ]
     },
     "metadata": {},
     "output_type": "display_data"
    },
    {
     "data": {
      "text/html": [
       "<pre style=\"white-space:pre;overflow-x:auto;line-height:normal;font-family:Menlo,'DejaVu Sans Mono',consolas,'Courier New',monospace\"><span style=\"color: #800000; text-decoration-color: #800000\">ERROR:asyncio:Task was destroyed but it is pending!\n",
       "task: &lt;Task pending name='Task-324' coro=&lt;Synchronizer._wrap_check_async_leakage.&lt;locals&gt;.coro_wrapped() done, defined at /pkg/synchronicity/synchronizer.py:214&gt; wait_for=&lt;Future cancelled&gt; cb=[_chain_future.&lt;locals&gt;._call_set_state() at /usr/local/lib/python3.11/asyncio/futures.py:394]&gt;\n",
       "</span></pre>\n"
      ],
      "text/plain": [
       "\u001b[31mERROR:asyncio:Task was destroyed but it is pending!\n",
       "task: <Task pending name='Task-324' coro=<Synchronizer._wrap_check_async_leakage.<locals>.coro_wrapped() done, defined at /pkg/synchronicity/synchronizer.py:214> wait_for=<Future cancelled> cb=[_chain_future.<locals>._call_set_state() at /usr/local/lib/python3.11/asyncio/futures.py:394]>\n",
       "\u001b[0m"
      ]
     },
     "metadata": {},
     "output_type": "display_data"
    },
    {
     "data": {
      "text/html": [
       "<pre style=\"white-space:pre;overflow-x:auto;line-height:normal;font-family:Menlo,'DejaVu Sans Mono',consolas,'Courier New',monospace\"><span style=\"color: #800000; text-decoration-color: #800000\">Traceback (most recent call last):\n",
       "</span></pre>\n"
      ],
      "text/plain": [
       "\u001b[31mTraceback (most recent call last):\n",
       "\u001b[0m"
      ]
     },
     "metadata": {},
     "output_type": "display_data"
    },
    {
     "data": {
      "text/html": [
       "<pre style=\"white-space:pre;overflow-x:auto;line-height:normal;font-family:Menlo,'DejaVu Sans Mono',consolas,'Courier New',monospace\"><span style=\"color: #800000; text-decoration-color: #800000\">  File \"/pkg/modal/_container_io_manager.py\", line 488, in handle_input_exception\n",
       "    yield\n",
       "</span></pre>\n"
      ],
      "text/plain": [
       "\u001b[31m  File \"/pkg/modal/_container_io_manager.py\", line 488, in handle_input_exception\n",
       "    yield\n",
       "\u001b[0m"
      ]
     },
     "metadata": {},
     "output_type": "display_data"
    },
    {
     "data": {
      "text/html": [
       "<pre style=\"white-space:pre;overflow-x:auto;line-height:normal;font-family:Menlo,'DejaVu Sans Mono',consolas,'Courier New',monospace\"><span style=\"color: #800000; text-decoration-color: #800000\">  File \"/pkg/modal/_container_entrypoint.py\", line 244, in run_input\n",
       "    async for value in res:\n",
       "</span></pre>\n"
      ],
      "text/plain": [
       "\u001b[31m  File \"/pkg/modal/_container_entrypoint.py\", line 244, in run_input\n",
       "    async for value in res:\n",
       "\u001b[0m"
      ]
     },
     "metadata": {},
     "output_type": "display_data"
    },
    {
     "data": {
      "text/html": [
       "<pre style=\"white-space:pre;overflow-x:auto;line-height:normal;font-family:Menlo,'DejaVu Sans Mono',consolas,'Courier New',monospace\"><span style=\"color: #800000; text-decoration-color: #800000\">  File \"/pkg/modal/_asgi.py\", line 126, in fn\n",
       "    app_task.result()  # consume/raise exceptions if there are any!\n",
       "    ^^^^^^^^^^^^^^^^^\n",
       "</span></pre>\n"
      ],
      "text/plain": [
       "\u001b[31m  File \"/pkg/modal/_asgi.py\", line 126, in fn\n",
       "    app_task.result()  # consume/raise exceptions if there are any!\n",
       "    ^^^^^^^^^^^^^^^^^\n",
       "\u001b[0m"
      ]
     },
     "metadata": {},
     "output_type": "display_data"
    },
    {
     "data": {
      "text/html": [
       "<pre style=\"white-space:pre;overflow-x:auto;line-height:normal;font-family:Menlo,'DejaVu Sans Mono',consolas,'Courier New',monospace\"><span style=\"color: #800000; text-decoration-color: #800000\">  File \"/pkg/modal/_vendor/a2wsgi_wsgi.py\", line 562, in __call__\n",
       "    return await responder(scope, receive, send)\n",
       "           ^^^^^^^^^^^^^^^^^^^^^^^^^^^^^^^^^^^^^\n",
       "</span></pre>\n"
      ],
      "text/plain": [
       "\u001b[31m  File \"/pkg/modal/_vendor/a2wsgi_wsgi.py\", line 562, in __call__\n",
       "    return await responder(scope, receive, send)\n",
       "           ^^^^^^^^^^^^^^^^^^^^^^^^^^^^^^^^^^^^^\n",
       "\u001b[0m"
      ]
     },
     "metadata": {},
     "output_type": "display_data"
    },
    {
     "data": {
      "text/html": [
       "<pre style=\"white-space:pre;overflow-x:auto;line-height:normal;font-family:Menlo,'DejaVu Sans Mono',consolas,'Courier New',monospace\"><span style=\"color: #800000; text-decoration-color: #800000\">  File \"/pkg/modal/_vendor/a2wsgi_wsgi.py\", line 597, in __call__\n",
       "    await self.loop.run_in_executor(\n",
       "</span></pre>\n"
      ],
      "text/plain": [
       "\u001b[31m  File \"/pkg/modal/_vendor/a2wsgi_wsgi.py\", line 597, in __call__\n",
       "    await self.loop.run_in_executor(\n",
       "\u001b[0m"
      ]
     },
     "metadata": {},
     "output_type": "display_data"
    },
    {
     "data": {
      "text/html": [
       "<pre style=\"white-space:pre;overflow-x:auto;line-height:normal;font-family:Menlo,'DejaVu Sans Mono',consolas,'Courier New',monospace\"><span style=\"color: #800000; text-decoration-color: #800000\">  File \"/usr/local/lib/python3.11/concurrent/futures/thread.py\", line 58, in run\n",
       "    result = self.fn(*self.args, **self.kwargs)\n",
       "             ^^^^^^^^^^^^^^^^^^^^^^^^^^^^^^^^^^\n",
       "</span></pre>\n"
      ],
      "text/plain": [
       "\u001b[31m  File \"/usr/local/lib/python3.11/concurrent/futures/thread.py\", line 58, in run\n",
       "    result = self.fn(*self.args, **self.kwargs)\n",
       "             ^^^^^^^^^^^^^^^^^^^^^^^^^^^^^^^^^^\n",
       "\u001b[0m"
      ]
     },
     "metadata": {},
     "output_type": "display_data"
    },
    {
     "data": {
      "text/html": [
       "<pre style=\"white-space:pre;overflow-x:auto;line-height:normal;font-family:Menlo,'DejaVu Sans Mono',consolas,'Courier New',monospace\"><span style=\"color: #800000; text-decoration-color: #800000\">  File \"/pkg/modal/_vendor/a2wsgi_wsgi.py\", line 653, in wsgi\n",
       "    iterable = self.app(environ, start_response)\n",
       "               ^^^^^^^^^^^^^^^^^^^^^^^^^^^^^^^^^\n",
       "</span></pre>\n"
      ],
      "text/plain": [
       "\u001b[31m  File \"/pkg/modal/_vendor/a2wsgi_wsgi.py\", line 653, in wsgi\n",
       "    iterable = self.app(environ, start_response)\n",
       "               ^^^^^^^^^^^^^^^^^^^^^^^^^^^^^^^^^\n",
       "\u001b[0m"
      ]
     },
     "metadata": {},
     "output_type": "display_data"
    },
    {
     "data": {
      "text/html": [
       "<pre style=\"white-space:pre;overflow-x:auto;line-height:normal;font-family:Menlo,'DejaVu Sans Mono',consolas,'Courier New',monospace\"><span style=\"color: #800000; text-decoration-color: #800000\">  File \"/usr/local/lib/python3.11/site-packages/tensorboard/backend/application.py\", line 528, in __call__\n",
       "    return self._app(environ, start_response)\n",
       "           ^^^^^^^^^^^^^^^^^^^^^^^^^^^^^^^^^^\n",
       "</span></pre>\n"
      ],
      "text/plain": [
       "\u001b[31m  File \"/usr/local/lib/python3.11/site-packages/tensorboard/backend/application.py\", line 528, in __call__\n",
       "    return self._app(environ, start_response)\n",
       "           ^^^^^^^^^^^^^^^^^^^^^^^^^^^^^^^^^^\n",
       "\u001b[0m"
      ]
     },
     "metadata": {},
     "output_type": "display_data"
    },
    {
     "data": {
      "text/html": [
       "<pre style=\"white-space:pre;overflow-x:auto;line-height:normal;font-family:Menlo,'DejaVu Sans Mono',consolas,'Courier New',monospace\"><span style=\"color: #800000; text-decoration-color: #800000\">  File \"/usr/local/lib/python3.11/site-packages/tensorboard/backend/application.py\", line 569, in wrapper\n",
       "    return wsgi_app(environ, start_response)\n",
       "           ^^^^^^^^^^^^^^^^^^^^^^^^^^^^^^^^^\n",
       "</span></pre>\n"
      ],
      "text/plain": [
       "\u001b[31m  File \"/usr/local/lib/python3.11/site-packages/tensorboard/backend/application.py\", line 569, in wrapper\n",
       "    return wsgi_app(environ, start_response)\n",
       "           ^^^^^^^^^^^^^^^^^^^^^^^^^^^^^^^^^\n",
       "\u001b[0m"
      ]
     },
     "metadata": {},
     "output_type": "display_data"
    },
    {
     "data": {
      "text/html": [
       "<pre style=\"white-space:pre;overflow-x:auto;line-height:normal;font-family:Menlo,'DejaVu Sans Mono',consolas,'Courier New',monospace\"><span style=\"color: #800000; text-decoration-color: #800000\">  File \"/usr/local/lib/python3.11/site-packages/tensorboard/backend/security_validator.py\", line 91, in __call__\n",
       "    return self._application(environ, start_response_proxy)\n",
       "           ^^^^^^^^^^^^^^^^^^^^^^^^^^^^^^^^^^^^^^^^^^^^^^^^\n",
       "</span></pre>\n"
      ],
      "text/plain": [
       "\u001b[31m  File \"/usr/local/lib/python3.11/site-packages/tensorboard/backend/security_validator.py\", line 91, in __call__\n",
       "    return self._application(environ, start_response_proxy)\n",
       "           ^^^^^^^^^^^^^^^^^^^^^^^^^^^^^^^^^^^^^^^^^^^^^^^^\n",
       "\u001b[0m"
      ]
     },
     "metadata": {},
     "output_type": "display_data"
    },
    {
     "data": {
      "text/html": [
       "<pre style=\"white-space:pre;overflow-x:auto;line-height:normal;font-family:Menlo,'DejaVu Sans Mono',consolas,'Courier New',monospace\"><span style=\"color: #800000; text-decoration-color: #800000\">  File \"/usr/local/lib/python3.11/site-packages/tensorboard/backend/path_prefix.py\", line 68, in __call__\n",
       "    return self._application(environ, start_response)\n",
       "           ^^^^^^^^^^^^^^^^^^^^^^^^^^^^^^^^^^^^^^^^^^\n",
       "</span></pre>\n"
      ],
      "text/plain": [
       "\u001b[31m  File \"/usr/local/lib/python3.11/site-packages/tensorboard/backend/path_prefix.py\", line 68, in __call__\n",
       "    return self._application(environ, start_response)\n",
       "           ^^^^^^^^^^^^^^^^^^^^^^^^^^^^^^^^^^^^^^^^^^\n",
       "\u001b[0m"
      ]
     },
     "metadata": {},
     "output_type": "display_data"
    },
    {
     "data": {
      "text/html": [
       "<pre style=\"white-space:pre;overflow-x:auto;line-height:normal;font-family:Menlo,'DejaVu Sans Mono',consolas,'Courier New',monospace\"><span style=\"color: #800000; text-decoration-color: #800000\">  File \"/usr/local/lib/python3.11/site-packages/tensorboard/backend/experiment_id.py\", line 73, in __call__\n",
       "    return self._application(environ, start_response)\n",
       "           ^^^^^^^^^^^^^^^^^^^^^^^^^^^^^^^^^^^^^^^^^^\n",
       "</span></pre>\n"
      ],
      "text/plain": [
       "\u001b[31m  File \"/usr/local/lib/python3.11/site-packages/tensorboard/backend/experiment_id.py\", line 73, in __call__\n",
       "    return self._application(environ, start_response)\n",
       "           ^^^^^^^^^^^^^^^^^^^^^^^^^^^^^^^^^^^^^^^^^^\n",
       "\u001b[0m"
      ]
     },
     "metadata": {},
     "output_type": "display_data"
    },
    {
     "data": {
      "text/html": [
       "<pre style=\"white-space:pre;overflow-x:auto;line-height:normal;font-family:Menlo,'DejaVu Sans Mono',consolas,'Courier New',monospace\"><span style=\"color: #800000; text-decoration-color: #800000\">  File \"/usr/local/lib/python3.11/site-packages/tensorboard/backend/empty_path_redirect.py\", line 43, in __call__\n",
       "    return self._application(environ, start_response)\n",
       "           ^^^^^^^^^^^^^^^^^^^^^^^^^^^^^^^^^^^^^^^^^^\n",
       "</span></pre>\n"
      ],
      "text/plain": [
       "\u001b[31m  File \"/usr/local/lib/python3.11/site-packages/tensorboard/backend/empty_path_redirect.py\", line 43, in __call__\n",
       "    return self._application(environ, start_response)\n",
       "           ^^^^^^^^^^^^^^^^^^^^^^^^^^^^^^^^^^^^^^^^^^\n",
       "\u001b[0m"
      ]
     },
     "metadata": {},
     "output_type": "display_data"
    },
    {
     "data": {
      "text/html": [
       "<pre style=\"white-space:pre;overflow-x:auto;line-height:normal;font-family:Menlo,'DejaVu Sans Mono',consolas,'Courier New',monospace\"><span style=\"color: #800000; text-decoration-color: #800000\">  File \"/usr/local/lib/python3.11/site-packages/tensorboard/backend/client_feature_flags.py\", line 55, in __call__\n",
       "    return self._application(environ, start_response)\n",
       "           ^^^^^^^^^^^^^^^^^^^^^^^^^^^^^^^^^^^^^^^^^^\n",
       "</span></pre>\n"
      ],
      "text/plain": [
       "\u001b[31m  File \"/usr/local/lib/python3.11/site-packages/tensorboard/backend/client_feature_flags.py\", line 55, in __call__\n",
       "    return self._application(environ, start_response)\n",
       "           ^^^^^^^^^^^^^^^^^^^^^^^^^^^^^^^^^^^^^^^^^^\n",
       "\u001b[0m"
      ]
     },
     "metadata": {},
     "output_type": "display_data"
    },
    {
     "data": {
      "text/html": [
       "<pre style=\"white-space:pre;overflow-x:auto;line-height:normal;font-family:Menlo,'DejaVu Sans Mono',consolas,'Courier New',monospace\"><span style=\"color: #800000; text-decoration-color: #800000\">  File \"/usr/local/lib/python3.11/site-packages/tensorboard/backend/auth_context_middleware.py\", line 38, in __call__\n",
       "    return self._application(environ, start_response)\n",
       "           ^^^^^^^^^^^^^^^^^^^^^^^^^^^^^^^^^^^^^^^^^^\n",
       "</span></pre>\n"
      ],
      "text/plain": [
       "\u001b[31m  File \"/usr/local/lib/python3.11/site-packages/tensorboard/backend/auth_context_middleware.py\", line 38, in __call__\n",
       "    return self._application(environ, start_response)\n",
       "           ^^^^^^^^^^^^^^^^^^^^^^^^^^^^^^^^^^^^^^^^^^\n",
       "\u001b[0m"
      ]
     },
     "metadata": {},
     "output_type": "display_data"
    },
    {
     "data": {
      "text/html": [
       "<pre style=\"white-space:pre;overflow-x:auto;line-height:normal;font-family:Menlo,'DejaVu Sans Mono',consolas,'Courier New',monospace\"><span style=\"color: #800000; text-decoration-color: #800000\">  File \"/usr/local/lib/python3.11/site-packages/tensorboard/backend/application.py\", line 551, in _route_request\n",
       "    return self.exact_routes[clean_path](environ, start_response)\n",
       "           ^^^^^^^^^^^^^^^^^^^^^^^^^^^^^^^^^^^^^^^^^^^^^^^^^^^^^^\n",
       "</span></pre>\n"
      ],
      "text/plain": [
       "\u001b[31m  File \"/usr/local/lib/python3.11/site-packages/tensorboard/backend/application.py\", line 551, in _route_request\n",
       "    return self.exact_routes[clean_path](environ, start_response)\n",
       "           ^^^^^^^^^^^^^^^^^^^^^^^^^^^^^^^^^^^^^^^^^^^^^^^^^^^^^^\n",
       "\u001b[0m"
      ]
     },
     "metadata": {},
     "output_type": "display_data"
    },
    {
     "data": {
      "text/html": [
       "<pre style=\"white-space:pre;overflow-x:auto;line-height:normal;font-family:Menlo,'DejaVu Sans Mono',consolas,'Courier New',monospace\"><span style=\"color: #800000; text-decoration-color: #800000\">  File \"/usr/local/lib/python3.11/site-packages/werkzeug/wrappers/request.py\", line 189, in application\n",
       "    resp = f(*args[:-2] + (request,))\n",
       "           ^^^^^^^^^^^^^^^^^^^^^^^^^^\n",
       "</span></pre>\n"
      ],
      "text/plain": [
       "\u001b[31m  File \"/usr/local/lib/python3.11/site-packages/werkzeug/wrappers/request.py\", line 189, in application\n",
       "    resp = f(*args[:-2] + (request,))\n",
       "           ^^^^^^^^^^^^^^^^^^^^^^^^^^\n",
       "\u001b[0m"
      ]
     },
     "metadata": {},
     "output_type": "display_data"
    },
    {
     "data": {
      "text/html": [
       "<pre style=\"white-space:pre;overflow-x:auto;line-height:normal;font-family:Menlo,'DejaVu Sans Mono',consolas,'Courier New',monospace\"><span style=\"color: #800000; text-decoration-color: #800000\">  File \"/usr/local/lib/python3.11/site-packages/tensorboard/plugins/hparams/hparams_plugin.py\", line 121, in get_experiment_route\n",
       "    json_format.MessageToJson(\n",
       "</span></pre>\n"
      ],
      "text/plain": [
       "\u001b[31m  File \"/usr/local/lib/python3.11/site-packages/tensorboard/plugins/hparams/hparams_plugin.py\", line 121, in get_experiment_route\n",
       "    json_format.MessageToJson(\n",
       "\u001b[0m"
      ]
     },
     "metadata": {},
     "output_type": "display_data"
    },
    {
     "data": {
      "text/html": [
       "<pre style=\"white-space:pre;overflow-x:auto;line-height:normal;font-family:Menlo,'DejaVu Sans Mono',consolas,'Courier New',monospace\"><span style=\"color: #800000; text-decoration-color: #800000\">TypeError: MessageToJson() got an unexpected keyword argument 'including_default_value_fields'\n",
       "</span></pre>\n"
      ],
      "text/plain": [
       "\u001b[31mTypeError: MessageToJson() got an unexpected keyword argument 'including_default_value_fields'\n",
       "\u001b[0m"
      ]
     },
     "metadata": {},
     "output_type": "display_data"
    },
    {
     "data": {
      "text/html": [
       "<pre style=\"white-space:pre;overflow-x:auto;line-height:normal;font-family:Menlo,'DejaVu Sans Mono',consolas,'Courier New',monospace\"><span style=\"color: #808000; text-decoration-color: #808000\">    GET /experiment/defaultExperimentId/data/runs -&gt; 200 OK  (duration: 112.8 ms, execution: 28.3 ms)\n",
       "</span></pre>\n"
      ],
      "text/plain": [
       "\u001b[33m    GET /experiment/defaultExperimentId/data/runs -> 200 OK  (duration: 112.8 ms, execution: 28.3 ms)\n",
       "\u001b[0m"
      ]
     },
     "metadata": {},
     "output_type": "display_data"
    },
    {
     "data": {
      "text/html": [
       "<pre style=\"white-space:pre;overflow-x:auto;line-height:normal;font-family:Menlo,'DejaVu Sans Mono',consolas,'Courier New',monospace\"><span style=\"color: #808000; text-decoration-color: #808000\">    GET /data/environment -&gt; 200 OK  (duration: 205.6 ms, execution: 27.6 ms)\n",
       "</span></pre>\n"
      ],
      "text/plain": [
       "\u001b[33m    GET /data/environment -> 200 OK  (duration: 205.6 ms, execution: 27.6 ms)\n",
       "\u001b[0m"
      ]
     },
     "metadata": {},
     "output_type": "display_data"
    },
    {
     "data": {
      "text/html": [
       "<pre style=\"white-space:pre;overflow-x:auto;line-height:normal;font-family:Menlo,'DejaVu Sans Mono',consolas,'Courier New',monospace\"><span style=\"color: #808000; text-decoration-color: #808000\">    GET /data/plugins_listing -&gt; 200 OK  (duration: 262.7 ms, execution: 53.0 ms)\n",
       "</span></pre>\n"
      ],
      "text/plain": [
       "\u001b[33m    GET /data/plugins_listing -> 200 OK  (duration: 262.7 ms, execution: 53.0 ms)\n",
       "\u001b[0m"
      ]
     },
     "metadata": {},
     "output_type": "display_data"
    },
    {
     "data": {
      "text/html": [
       "<pre style=\"white-space:pre;overflow-x:auto;line-height:normal;font-family:Menlo,'DejaVu Sans Mono',consolas,'Courier New',monospace\"><span style=\"color: #808000; text-decoration-color: #808000\">    GET /data/runs -&gt; 200 OK  (duration: 271.1 ms, execution: 90.1 ms)\n",
       "</span></pre>\n"
      ],
      "text/plain": [
       "\u001b[33m    GET /data/runs -> 200 OK  (duration: 271.1 ms, execution: 90.1 ms)\n",
       "\u001b[0m"
      ]
     },
     "metadata": {},
     "output_type": "display_data"
    },
    {
     "data": {
      "text/html": [
       "<pre style=\"white-space:pre;overflow-x:auto;line-height:normal;font-family:Menlo,'DejaVu Sans Mono',consolas,'Courier New',monospace\"><span style=\"color: #808000; text-decoration-color: #808000\">    GET /data/environment -&gt; 200 OK  (duration: 147.9 ms, execution: 28.0 ms)\n",
       "</span></pre>\n"
      ],
      "text/plain": [
       "\u001b[33m    GET /data/environment -> 200 OK  (duration: 147.9 ms, execution: 28.0 ms)\n",
       "\u001b[0m"
      ]
     },
     "metadata": {},
     "output_type": "display_data"
    },
    {
     "data": {
      "text/html": [
       "<pre style=\"white-space:pre;overflow-x:auto;line-height:normal;font-family:Menlo,'DejaVu Sans Mono',consolas,'Courier New',monospace\"><span style=\"color: #800000; text-decoration-color: #800000\">Traceback (most recent call last):\n",
       "</span></pre>\n"
      ],
      "text/plain": [
       "\u001b[31mTraceback (most recent call last):\n",
       "\u001b[0m"
      ]
     },
     "metadata": {},
     "output_type": "display_data"
    },
    {
     "data": {
      "text/html": [
       "<pre style=\"white-space:pre;overflow-x:auto;line-height:normal;font-family:Menlo,'DejaVu Sans Mono',consolas,'Courier New',monospace\"><span style=\"color: #800000; text-decoration-color: #800000\">  File \"/pkg/modal/_container_io_manager.py\", line 488, in handle_input_exception\n",
       "    yield\n",
       "</span></pre>\n"
      ],
      "text/plain": [
       "\u001b[31m  File \"/pkg/modal/_container_io_manager.py\", line 488, in handle_input_exception\n",
       "    yield\n",
       "\u001b[0m"
      ]
     },
     "metadata": {},
     "output_type": "display_data"
    },
    {
     "data": {
      "text/html": [
       "<pre style=\"white-space:pre;overflow-x:auto;line-height:normal;font-family:Menlo,'DejaVu Sans Mono',consolas,'Courier New',monospace\"><span style=\"color: #800000; text-decoration-color: #800000\">  File \"/pkg/modal/_container_entrypoint.py\", line 244, in run_input\n",
       "    async for value in res:\n",
       "</span></pre>\n"
      ],
      "text/plain": [
       "\u001b[31m  File \"/pkg/modal/_container_entrypoint.py\", line 244, in run_input\n",
       "    async for value in res:\n",
       "\u001b[0m"
      ]
     },
     "metadata": {},
     "output_type": "display_data"
    },
    {
     "data": {
      "text/html": [
       "<pre style=\"white-space:pre;overflow-x:auto;line-height:normal;font-family:Menlo,'DejaVu Sans Mono',consolas,'Courier New',monospace\"><span style=\"color: #800000; text-decoration-color: #800000\">  File \"/pkg/modal/_asgi.py\", line 126, in fn\n",
       "    app_task.result()  # consume/raise exceptions if there are any!\n",
       "    ^^^^^^^^^^^^^^^^^\n",
       "</span></pre>\n"
      ],
      "text/plain": [
       "\u001b[31m  File \"/pkg/modal/_asgi.py\", line 126, in fn\n",
       "    app_task.result()  # consume/raise exceptions if there are any!\n",
       "    ^^^^^^^^^^^^^^^^^\n",
       "\u001b[0m"
      ]
     },
     "metadata": {},
     "output_type": "display_data"
    },
    {
     "data": {
      "text/html": [
       "<pre style=\"white-space:pre;overflow-x:auto;line-height:normal;font-family:Menlo,'DejaVu Sans Mono',consolas,'Courier New',monospace\"><span style=\"color: #800000; text-decoration-color: #800000\">  File \"/pkg/modal/_vendor/a2wsgi_wsgi.py\", line 562, in __call__\n",
       "    return await responder(scope, receive, send)\n",
       "           ^^^^^^^^^^^^^^^^^^^^^^^^^^^^^^^^^^^^^\n",
       "</span></pre>\n"
      ],
      "text/plain": [
       "\u001b[31m  File \"/pkg/modal/_vendor/a2wsgi_wsgi.py\", line 562, in __call__\n",
       "    return await responder(scope, receive, send)\n",
       "           ^^^^^^^^^^^^^^^^^^^^^^^^^^^^^^^^^^^^^\n",
       "\u001b[0m"
      ]
     },
     "metadata": {},
     "output_type": "display_data"
    },
    {
     "data": {
      "text/html": [
       "<pre style=\"white-space:pre;overflow-x:auto;line-height:normal;font-family:Menlo,'DejaVu Sans Mono',consolas,'Courier New',monospace\"><span style=\"color: #800000; text-decoration-color: #800000\">  File \"/pkg/modal/_vendor/a2wsgi_wsgi.py\", line 597, in __call__\n",
       "    await self.loop.run_in_executor(\n",
       "</span></pre>\n"
      ],
      "text/plain": [
       "\u001b[31m  File \"/pkg/modal/_vendor/a2wsgi_wsgi.py\", line 597, in __call__\n",
       "    await self.loop.run_in_executor(\n",
       "\u001b[0m"
      ]
     },
     "metadata": {},
     "output_type": "display_data"
    },
    {
     "data": {
      "text/html": [
       "<pre style=\"white-space:pre;overflow-x:auto;line-height:normal;font-family:Menlo,'DejaVu Sans Mono',consolas,'Courier New',monospace\"><span style=\"color: #800000; text-decoration-color: #800000\">  File \"/usr/local/lib/python3.11/concurrent/futures/thread.py\", line 58, in run\n",
       "    result = self.fn(*self.args, **self.kwargs)\n",
       "             ^^^^^^^^^^^^^^^^^^^^^^^^^^^^^^^^^^\n",
       "</span></pre>\n"
      ],
      "text/plain": [
       "\u001b[31m  File \"/usr/local/lib/python3.11/concurrent/futures/thread.py\", line 58, in run\n",
       "    result = self.fn(*self.args, **self.kwargs)\n",
       "             ^^^^^^^^^^^^^^^^^^^^^^^^^^^^^^^^^^\n",
       "\u001b[0m"
      ]
     },
     "metadata": {},
     "output_type": "display_data"
    },
    {
     "data": {
      "text/html": [
       "<pre style=\"white-space:pre;overflow-x:auto;line-height:normal;font-family:Menlo,'DejaVu Sans Mono',consolas,'Courier New',monospace\"><span style=\"color: #800000; text-decoration-color: #800000\">  File \"/pkg/modal/_vendor/a2wsgi_wsgi.py\", line 653, in wsgi\n",
       "    iterable = self.app(environ, start_response)\n",
       "               ^^^^^^^^^^^^^^^^^^^^^^^^^^^^^^^^^\n",
       "</span></pre>\n"
      ],
      "text/plain": [
       "\u001b[31m  File \"/pkg/modal/_vendor/a2wsgi_wsgi.py\", line 653, in wsgi\n",
       "    iterable = self.app(environ, start_response)\n",
       "               ^^^^^^^^^^^^^^^^^^^^^^^^^^^^^^^^^\n",
       "\u001b[0m"
      ]
     },
     "metadata": {},
     "output_type": "display_data"
    },
    {
     "data": {
      "text/html": [
       "<pre style=\"white-space:pre;overflow-x:auto;line-height:normal;font-family:Menlo,'DejaVu Sans Mono',consolas,'Courier New',monospace\"><span style=\"color: #800000; text-decoration-color: #800000\">  File \"/usr/local/lib/python3.11/site-packages/tensorboard/backend/application.py\", line 528, in __call__\n",
       "    return self._app(environ, start_response)\n",
       "           ^^^^^^^^^^^^^^^^^^^^^^^^^^^^^^^^^^\n",
       "</span></pre>\n"
      ],
      "text/plain": [
       "\u001b[31m  File \"/usr/local/lib/python3.11/site-packages/tensorboard/backend/application.py\", line 528, in __call__\n",
       "    return self._app(environ, start_response)\n",
       "           ^^^^^^^^^^^^^^^^^^^^^^^^^^^^^^^^^^\n",
       "\u001b[0m"
      ]
     },
     "metadata": {},
     "output_type": "display_data"
    },
    {
     "data": {
      "text/html": [
       "<pre style=\"white-space:pre;overflow-x:auto;line-height:normal;font-family:Menlo,'DejaVu Sans Mono',consolas,'Courier New',monospace\"><span style=\"color: #800000; text-decoration-color: #800000\">  File \"/usr/local/lib/python3.11/site-packages/tensorboard/backend/application.py\", line 569, in wrapper\n",
       "    return wsgi_app(environ, start_response)\n",
       "           ^^^^^^^^^^^^^^^^^^^^^^^^^^^^^^^^^\n",
       "</span></pre>\n"
      ],
      "text/plain": [
       "\u001b[31m  File \"/usr/local/lib/python3.11/site-packages/tensorboard/backend/application.py\", line 569, in wrapper\n",
       "    return wsgi_app(environ, start_response)\n",
       "           ^^^^^^^^^^^^^^^^^^^^^^^^^^^^^^^^^\n",
       "\u001b[0m"
      ]
     },
     "metadata": {},
     "output_type": "display_data"
    },
    {
     "data": {
      "text/html": [
       "<pre style=\"white-space:pre;overflow-x:auto;line-height:normal;font-family:Menlo,'DejaVu Sans Mono',consolas,'Courier New',monospace\"><span style=\"color: #800000; text-decoration-color: #800000\">  File \"/usr/local/lib/python3.11/site-packages/tensorboard/backend/security_validator.py\", line 91, in __call__\n",
       "    return self._application(environ, start_response_proxy)\n",
       "           ^^^^^^^^^^^^^^^^^^^^^^^^^^^^^^^^^^^^^^^^^^^^^^^^\n",
       "</span></pre>\n"
      ],
      "text/plain": [
       "\u001b[31m  File \"/usr/local/lib/python3.11/site-packages/tensorboard/backend/security_validator.py\", line 91, in __call__\n",
       "    return self._application(environ, start_response_proxy)\n",
       "           ^^^^^^^^^^^^^^^^^^^^^^^^^^^^^^^^^^^^^^^^^^^^^^^^\n",
       "\u001b[0m"
      ]
     },
     "metadata": {},
     "output_type": "display_data"
    },
    {
     "data": {
      "text/html": [
       "<pre style=\"white-space:pre;overflow-x:auto;line-height:normal;font-family:Menlo,'DejaVu Sans Mono',consolas,'Courier New',monospace\"><span style=\"color: #800000; text-decoration-color: #800000\">  File \"/usr/local/lib/python3.11/site-packages/tensorboard/backend/path_prefix.py\", line 68, in __call__\n",
       "    return self._application(environ, start_response)\n",
       "           ^^^^^^^^^^^^^^^^^^^^^^^^^^^^^^^^^^^^^^^^^^\n",
       "</span></pre>\n"
      ],
      "text/plain": [
       "\u001b[31m  File \"/usr/local/lib/python3.11/site-packages/tensorboard/backend/path_prefix.py\", line 68, in __call__\n",
       "    return self._application(environ, start_response)\n",
       "           ^^^^^^^^^^^^^^^^^^^^^^^^^^^^^^^^^^^^^^^^^^\n",
       "\u001b[0m"
      ]
     },
     "metadata": {},
     "output_type": "display_data"
    },
    {
     "data": {
      "text/html": [
       "<pre style=\"white-space:pre;overflow-x:auto;line-height:normal;font-family:Menlo,'DejaVu Sans Mono',consolas,'Courier New',monospace\"><span style=\"color: #800000; text-decoration-color: #800000\">  File \"/usr/local/lib/python3.11/site-packages/tensorboard/backend/experiment_id.py\", line 73, in __call__\n",
       "    return self._application(environ, start_response)\n",
       "           ^^^^^^^^^^^^^^^^^^^^^^^^^^^^^^^^^^^^^^^^^^\n",
       "</span></pre>\n"
      ],
      "text/plain": [
       "\u001b[31m  File \"/usr/local/lib/python3.11/site-packages/tensorboard/backend/experiment_id.py\", line 73, in __call__\n",
       "    return self._application(environ, start_response)\n",
       "           ^^^^^^^^^^^^^^^^^^^^^^^^^^^^^^^^^^^^^^^^^^\n",
       "\u001b[0m"
      ]
     },
     "metadata": {},
     "output_type": "display_data"
    },
    {
     "data": {
      "text/html": [
       "<pre style=\"white-space:pre;overflow-x:auto;line-height:normal;font-family:Menlo,'DejaVu Sans Mono',consolas,'Courier New',monospace\"><span style=\"color: #800000; text-decoration-color: #800000\">  File \"/usr/local/lib/python3.11/site-packages/tensorboard/backend/empty_path_redirect.py\", line 43, in __call__\n",
       "    return self._application(environ, start_response)\n",
       "           ^^^^^^^^^^^^^^^^^^^^^^^^^^^^^^^^^^^^^^^^^^\n",
       "</span></pre>\n"
      ],
      "text/plain": [
       "\u001b[31m  File \"/usr/local/lib/python3.11/site-packages/tensorboard/backend/empty_path_redirect.py\", line 43, in __call__\n",
       "    return self._application(environ, start_response)\n",
       "           ^^^^^^^^^^^^^^^^^^^^^^^^^^^^^^^^^^^^^^^^^^\n",
       "\u001b[0m"
      ]
     },
     "metadata": {},
     "output_type": "display_data"
    },
    {
     "data": {
      "text/html": [
       "<pre style=\"white-space:pre;overflow-x:auto;line-height:normal;font-family:Menlo,'DejaVu Sans Mono',consolas,'Courier New',monospace\"><span style=\"color: #800000; text-decoration-color: #800000\">  File \"/usr/local/lib/python3.11/site-packages/tensorboard/backend/client_feature_flags.py\", line 55, in __call__\n",
       "    return self._application(environ, start_response)\n",
       "           ^^^^^^^^^^^^^^^^^^^^^^^^^^^^^^^^^^^^^^^^^^\n",
       "</span></pre>\n"
      ],
      "text/plain": [
       "\u001b[31m  File \"/usr/local/lib/python3.11/site-packages/tensorboard/backend/client_feature_flags.py\", line 55, in __call__\n",
       "    return self._application(environ, start_response)\n",
       "           ^^^^^^^^^^^^^^^^^^^^^^^^^^^^^^^^^^^^^^^^^^\n",
       "\u001b[0m"
      ]
     },
     "metadata": {},
     "output_type": "display_data"
    },
    {
     "data": {
      "text/html": [
       "<pre style=\"white-space:pre;overflow-x:auto;line-height:normal;font-family:Menlo,'DejaVu Sans Mono',consolas,'Courier New',monospace\"><span style=\"color: #800000; text-decoration-color: #800000\">  File \"/usr/local/lib/python3.11/site-packages/tensorboard/backend/auth_context_middleware.py\", line 38, in __call__\n",
       "    return self._application(environ, start_response)\n",
       "           ^^^^^^^^^^^^^^^^^^^^^^^^^^^^^^^^^^^^^^^^^^\n",
       "</span></pre>\n"
      ],
      "text/plain": [
       "\u001b[31m  File \"/usr/local/lib/python3.11/site-packages/tensorboard/backend/auth_context_middleware.py\", line 38, in __call__\n",
       "    return self._application(environ, start_response)\n",
       "           ^^^^^^^^^^^^^^^^^^^^^^^^^^^^^^^^^^^^^^^^^^\n",
       "\u001b[0m"
      ]
     },
     "metadata": {},
     "output_type": "display_data"
    },
    {
     "data": {
      "text/html": [
       "<pre style=\"white-space:pre;overflow-x:auto;line-height:normal;font-family:Menlo,'DejaVu Sans Mono',consolas,'Courier New',monospace\"><span style=\"color: #800000; text-decoration-color: #800000\">  File \"/usr/local/lib/python3.11/site-packages/tensorboard/backend/application.py\", line 551, in _route_request\n",
       "    return self.exact_routes[clean_path](environ, start_response)\n",
       "           ^^^^^^^^^^^^^^^^^^^^^^^^^^^^^^^^^^^^^^^^^^^^^^^^^^^^^^\n",
       "</span></pre>\n"
      ],
      "text/plain": [
       "\u001b[31m  File \"/usr/local/lib/python3.11/site-packages/tensorboard/backend/application.py\", line 551, in _route_request\n",
       "    return self.exact_routes[clean_path](environ, start_response)\n",
       "           ^^^^^^^^^^^^^^^^^^^^^^^^^^^^^^^^^^^^^^^^^^^^^^^^^^^^^^\n",
       "\u001b[0m"
      ]
     },
     "metadata": {},
     "output_type": "display_data"
    },
    {
     "data": {
      "text/html": [
       "<pre style=\"white-space:pre;overflow-x:auto;line-height:normal;font-family:Menlo,'DejaVu Sans Mono',consolas,'Courier New',monospace\"><span style=\"color: #800000; text-decoration-color: #800000\">  File \"/usr/local/lib/python3.11/site-packages/werkzeug/wrappers/request.py\", line 189, in application\n",
       "    resp = f(*args[:-2] + (request,))\n",
       "           ^^^^^^^^^^^^^^^^^^^^^^^^^^\n",
       "</span></pre>\n"
      ],
      "text/plain": [
       "\u001b[31m  File \"/usr/local/lib/python3.11/site-packages/werkzeug/wrappers/request.py\", line 189, in application\n",
       "    resp = f(*args[:-2] + (request,))\n",
       "           ^^^^^^^^^^^^^^^^^^^^^^^^^^\n",
       "\u001b[0m"
      ]
     },
     "metadata": {},
     "output_type": "display_data"
    },
    {
     "data": {
      "text/html": [
       "<pre style=\"white-space:pre;overflow-x:auto;line-height:normal;font-family:Menlo,'DejaVu Sans Mono',consolas,'Courier New',monospace\"><span style=\"color: #800000; text-decoration-color: #800000\">  File \"/usr/local/lib/python3.11/site-packages/tensorboard/plugins/hparams/hparams_plugin.py\", line 121, in get_experiment_route\n",
       "    json_format.MessageToJson(\n",
       "</span></pre>\n"
      ],
      "text/plain": [
       "\u001b[31m  File \"/usr/local/lib/python3.11/site-packages/tensorboard/plugins/hparams/hparams_plugin.py\", line 121, in get_experiment_route\n",
       "    json_format.MessageToJson(\n",
       "\u001b[0m"
      ]
     },
     "metadata": {},
     "output_type": "display_data"
    },
    {
     "data": {
      "text/html": [
       "<pre style=\"white-space:pre;overflow-x:auto;line-height:normal;font-family:Menlo,'DejaVu Sans Mono',consolas,'Courier New',monospace\"><span style=\"color: #800000; text-decoration-color: #800000\">TypeError: MessageToJson() got an unexpected keyword argument 'including_default_value_fields'\n",
       "</span></pre>\n"
      ],
      "text/plain": [
       "\u001b[31mTypeError: MessageToJson() got an unexpected keyword argument 'including_default_value_fields'\n",
       "\u001b[0m"
      ]
     },
     "metadata": {},
     "output_type": "display_data"
    },
    {
     "data": {
      "text/html": [
       "<pre style=\"white-space:pre;overflow-x:auto;line-height:normal;font-family:Menlo,'DejaVu Sans Mono',consolas,'Courier New',monospace\"><span style=\"color: #800000; text-decoration-color: #800000\">ERROR:asyncio:Task was destroyed but it is pending!\n",
       "task: &lt;Task pending name='Task-103' coro=&lt;aio_generator_output_task() done, defined at /pkg/synchronicity/async_wrap.py:27&gt; wait_for=&lt;Future pending cb=[_chain_future.&lt;locals&gt;._call_check_cancel() at /usr/local/lib/python3.11/asyncio/futures.py:387, Task.task_wakeup()]&gt;&gt;\n",
       "</span></pre>\n"
      ],
      "text/plain": [
       "\u001b[31mERROR:asyncio:Task was destroyed but it is pending!\n",
       "task: <Task pending name='Task-103' coro=<aio_generator_output_task() done, defined at /pkg/synchronicity/async_wrap.py:27> wait_for=<Future pending cb=[_chain_future.<locals>._call_check_cancel() at /usr/local/lib/python3.11/asyncio/futures.py:387, Task.task_wakeup()]>>\n",
       "\u001b[0m"
      ]
     },
     "metadata": {},
     "output_type": "display_data"
    },
    {
     "data": {
      "text/html": [
       "<pre style=\"white-space:pre;overflow-x:auto;line-height:normal;font-family:Menlo,'DejaVu Sans Mono',consolas,'Courier New',monospace\"><span style=\"color: #800000; text-decoration-color: #800000\"></span></pre>\n"
      ],
      "text/plain": []
     },
     "metadata": {},
     "output_type": "display_data"
    },
    {
     "data": {
      "text/html": [
       "<pre style=\"white-space:pre;overflow-x:auto;line-height:normal;font-family:Menlo,'DejaVu Sans Mono',consolas,'Courier New',monospace\"><span style=\"color: #800000; text-decoration-color: #800000\"></span></pre>\n"
      ],
      "text/plain": []
     },
     "metadata": {},
     "output_type": "display_data"
    },
    {
     "data": {
      "text/html": [
       "<pre style=\"white-space:pre;overflow-x:auto;line-height:normal;font-family:Menlo,'DejaVu Sans Mono',consolas,'Courier New',monospace\"><span style=\"color: #800000; text-decoration-color: #800000\">Exception ignored in: &lt;coroutine object wrap_coro_exception.&lt;locals&gt;.coro_wrapped at 0x7f1b508b6960&gt;\n",
       "</span></pre>\n"
      ],
      "text/plain": [
       "\u001b[31mException ignored in: <coroutine object wrap_coro_exception.<locals>.coro_wrapped at 0x7f1b508b6960>\n",
       "\u001b[0m"
      ]
     },
     "metadata": {},
     "output_type": "display_data"
    },
    {
     "data": {
      "text/html": [
       "<pre style=\"white-space:pre;overflow-x:auto;line-height:normal;font-family:Menlo,'DejaVu Sans Mono',consolas,'Courier New',monospace\"><span style=\"color: #800000; text-decoration-color: #800000\">Traceback (most recent call last):\n",
       "</span></pre>\n"
      ],
      "text/plain": [
       "\u001b[31mTraceback (most recent call last):\n",
       "\u001b[0m"
      ]
     },
     "metadata": {},
     "output_type": "display_data"
    },
    {
     "data": {
      "text/html": [
       "<pre style=\"white-space:pre;overflow-x:auto;line-height:normal;font-family:Menlo,'DejaVu Sans Mono',consolas,'Courier New',monospace\"><span style=\"color: #800000; text-decoration-color: #800000\">  File \"/pkg/synchronicity/exceptions.py\", line 31, in coro_wrapped\n",
       "</span></pre>\n"
      ],
      "text/plain": [
       "\u001b[31m  File \"/pkg/synchronicity/exceptions.py\", line 31, in coro_wrapped\n",
       "\u001b[0m"
      ]
     },
     "metadata": {},
     "output_type": "display_data"
    },
    {
     "data": {
      "text/html": [
       "<pre style=\"white-space:pre;overflow-x:auto;line-height:normal;font-family:Menlo,'DejaVu Sans Mono',consolas,'Courier New',monospace\"><span style=\"color: #800000; text-decoration-color: #800000\"></span></pre>\n"
      ],
      "text/plain": []
     },
     "metadata": {},
     "output_type": "display_data"
    },
    {
     "data": {
      "text/html": [
       "<pre style=\"white-space:pre;overflow-x:auto;line-height:normal;font-family:Menlo,'DejaVu Sans Mono',consolas,'Courier New',monospace\"><span style=\"color: #800000; text-decoration-color: #800000\"></span></pre>\n"
      ],
      "text/plain": []
     },
     "metadata": {},
     "output_type": "display_data"
    },
    {
     "data": {
      "text/html": [
       "<pre style=\"white-space:pre;overflow-x:auto;line-height:normal;font-family:Menlo,'DejaVu Sans Mono',consolas,'Courier New',monospace\"><span style=\"color: #800000; text-decoration-color: #800000\">    raise UserCodeException(exc)\n",
       "</span></pre>\n"
      ],
      "text/plain": [
       "\u001b[31m    raise UserCodeException(exc)\n",
       "\u001b[0m"
      ]
     },
     "metadata": {},
     "output_type": "display_data"
    },
    {
     "data": {
      "text/html": [
       "<pre style=\"white-space:pre;overflow-x:auto;line-height:normal;font-family:Menlo,'DejaVu Sans Mono',consolas,'Courier New',monospace\"><span style=\"color: #800000; text-decoration-color: #800000\"></span></pre>\n"
      ],
      "text/plain": []
     },
     "metadata": {},
     "output_type": "display_data"
    },
    {
     "data": {
      "text/html": [
       "<pre style=\"white-space:pre;overflow-x:auto;line-height:normal;font-family:Menlo,'DejaVu Sans Mono',consolas,'Courier New',monospace\"><span style=\"color: #800000; text-decoration-color: #800000\"></span></pre>\n"
      ],
      "text/plain": []
     },
     "metadata": {},
     "output_type": "display_data"
    },
    {
     "data": {
      "text/html": [
       "<pre style=\"white-space:pre;overflow-x:auto;line-height:normal;font-family:Menlo,'DejaVu Sans Mono',consolas,'Courier New',monospace\"><span style=\"color: #800000; text-decoration-color: #800000\"></span></pre>\n"
      ],
      "text/plain": []
     },
     "metadata": {},
     "output_type": "display_data"
    },
    {
     "data": {
      "text/html": [
       "<pre style=\"white-space:pre;overflow-x:auto;line-height:normal;font-family:Menlo,'DejaVu Sans Mono',consolas,'Courier New',monospace\"><span style=\"color: #800000; text-decoration-color: #800000\"></span></pre>\n"
      ],
      "text/plain": []
     },
     "metadata": {},
     "output_type": "display_data"
    },
    {
     "data": {
      "text/html": [
       "<pre style=\"white-space:pre;overflow-x:auto;line-height:normal;font-family:Menlo,'DejaVu Sans Mono',consolas,'Courier New',monospace\"><span style=\"color: #800000; text-decoration-color: #800000\">synchronicity.exceptions.UserCodeException: \n",
       "</span></pre>\n"
      ],
      "text/plain": [
       "\u001b[31msynchronicity.exceptions.UserCodeException: \n",
       "\u001b[0m"
      ]
     },
     "metadata": {},
     "output_type": "display_data"
    },
    {
     "data": {
      "text/html": [
       "<pre style=\"white-space:pre;overflow-x:auto;line-height:normal;font-family:Menlo,'DejaVu Sans Mono',consolas,'Courier New',monospace\"><span style=\"color: #808000; text-decoration-color: #808000\">    GET /data/runs -&gt; 200 OK  (duration: 155.4 ms, execution: 34.1 ms)\n",
       "</span></pre>\n"
      ],
      "text/plain": [
       "\u001b[33m    GET /data/runs -> 200 OK  (duration: 155.4 ms, execution: 34.1 ms)\n",
       "\u001b[0m"
      ]
     },
     "metadata": {},
     "output_type": "display_data"
    },
    {
     "data": {
      "text/html": [
       "<pre style=\"white-space:pre;overflow-x:auto;line-height:normal;font-family:Menlo,'DejaVu Sans Mono',consolas,'Courier New',monospace\"><span style=\"color: #808000; text-decoration-color: #808000\">    GET /data/environment -&gt; 200 OK  (duration: 260.3 ms)\n",
       "</span></pre>\n"
      ],
      "text/plain": [
       "\u001b[33m    GET /data/environment -> 200 OK  (duration: 260.3 ms)\n",
       "\u001b[0m"
      ]
     },
     "metadata": {},
     "output_type": "display_data"
    },
    {
     "data": {
      "text/html": [
       "<pre style=\"white-space:pre;overflow-x:auto;line-height:normal;font-family:Menlo,'DejaVu Sans Mono',consolas,'Courier New',monospace\"><span style=\"color: #808000; text-decoration-color: #808000\">    GET /experiment/defaultExperimentId/data/runs -&gt; 200 OK  (duration: 352.7 ms)\n",
       "</span></pre>\n"
      ],
      "text/plain": [
       "\u001b[33m    GET /experiment/defaultExperimentId/data/runs -> 200 OK  (duration: 352.7 ms)\n",
       "\u001b[0m"
      ]
     },
     "metadata": {},
     "output_type": "display_data"
    },
    {
     "data": {
      "text/html": [
       "<pre style=\"white-space:pre;overflow-x:auto;line-height:normal;font-family:Menlo,'DejaVu Sans Mono',consolas,'Courier New',monospace\"><span style=\"color: #808000; text-decoration-color: #808000\">    GET /data/environment -&gt; 200 OK  (duration: 151.4 ms, execution: 33.9 ms)\n",
       "</span></pre>\n"
      ],
      "text/plain": [
       "\u001b[33m    GET /data/environment -> 200 OK  (duration: 151.4 ms, execution: 33.9 ms)\n",
       "\u001b[0m"
      ]
     },
     "metadata": {},
     "output_type": "display_data"
    },
    {
     "data": {
      "text/html": [
       "<pre style=\"white-space:pre;overflow-x:auto;line-height:normal;font-family:Menlo,'DejaVu Sans Mono',consolas,'Courier New',monospace\"><span style=\"color: #808000; text-decoration-color: #808000\">    GET /data/plugins_listing -&gt; 200 OK  (duration: 596.9 ms, execution: 106.2 ms)\n",
       "</span></pre>\n"
      ],
      "text/plain": [
       "\u001b[33m    GET /data/plugins_listing -> 200 OK  (duration: 596.9 ms, execution: 106.2 ms)\n",
       "\u001b[0m"
      ]
     },
     "metadata": {},
     "output_type": "display_data"
    },
    {
     "data": {
      "text/html": [
       "<pre style=\"white-space:pre;overflow-x:auto;line-height:normal;font-family:Menlo,'DejaVu Sans Mono',consolas,'Courier New',monospace\"><span style=\"color: #800000; text-decoration-color: #800000\">\n",
       "NOTE: Using experimental fast data loading logic. To disable, pass\n",
       "    \"--load_fast=false\" and report issues on GitHub. More details:\n",
       "    https://github.com/tensorflow/tensorboard/issues/4784\n",
       "\n",
       "</span></pre>\n"
      ],
      "text/plain": [
       "\u001b[31m\n",
       "NOTE: Using experimental fast data loading logic. To disable, pass\n",
       "    \"--load_fast=false\" and report issues on GitHub. More details:\n",
       "    https://github.com/tensorflow/tensorboard/issues/4784\n",
       "\n",
       "\u001b[0m"
      ]
     },
     "metadata": {},
     "output_type": "display_data"
    },
    {
     "data": {
      "text/html": [
       "<pre style=\"white-space:pre;overflow-x:auto;line-height:normal;font-family:Menlo,'DejaVu Sans Mono',consolas,'Courier New',monospace\"><span style=\"color: #800000; text-decoration-color: #800000\">Traceback (most recent call last):\n",
       "</span></pre>\n"
      ],
      "text/plain": [
       "\u001b[31mTraceback (most recent call last):\n",
       "\u001b[0m"
      ]
     },
     "metadata": {},
     "output_type": "display_data"
    },
    {
     "data": {
      "text/html": [
       "<pre style=\"white-space:pre;overflow-x:auto;line-height:normal;font-family:Menlo,'DejaVu Sans Mono',consolas,'Courier New',monospace\"><span style=\"color: #800000; text-decoration-color: #800000\">  File \"/pkg/modal/_container_io_manager.py\", line 488, in handle_input_exception\n",
       "    yield\n",
       "</span></pre>\n"
      ],
      "text/plain": [
       "\u001b[31m  File \"/pkg/modal/_container_io_manager.py\", line 488, in handle_input_exception\n",
       "    yield\n",
       "\u001b[0m"
      ]
     },
     "metadata": {},
     "output_type": "display_data"
    },
    {
     "data": {
      "text/html": [
       "<pre style=\"white-space:pre;overflow-x:auto;line-height:normal;font-family:Menlo,'DejaVu Sans Mono',consolas,'Courier New',monospace\"><span style=\"color: #800000; text-decoration-color: #800000\">  File \"/pkg/modal/_container_entrypoint.py\", line 244, in run_input\n",
       "    async for value in res:\n",
       "</span></pre>\n"
      ],
      "text/plain": [
       "\u001b[31m  File \"/pkg/modal/_container_entrypoint.py\", line 244, in run_input\n",
       "    async for value in res:\n",
       "\u001b[0m"
      ]
     },
     "metadata": {},
     "output_type": "display_data"
    },
    {
     "data": {
      "text/html": [
       "<pre style=\"white-space:pre;overflow-x:auto;line-height:normal;font-family:Menlo,'DejaVu Sans Mono',consolas,'Courier New',monospace\"><span style=\"color: #800000; text-decoration-color: #800000\">  File \"/pkg/modal/_asgi.py\", line 126, in fn\n",
       "    app_task.result()  # consume/raise exceptions if there are any!\n",
       "    ^^^^^^^^^^^^^^^^^\n",
       "</span></pre>\n"
      ],
      "text/plain": [
       "\u001b[31m  File \"/pkg/modal/_asgi.py\", line 126, in fn\n",
       "    app_task.result()  # consume/raise exceptions if there are any!\n",
       "    ^^^^^^^^^^^^^^^^^\n",
       "\u001b[0m"
      ]
     },
     "metadata": {},
     "output_type": "display_data"
    },
    {
     "data": {
      "text/html": [
       "<pre style=\"white-space:pre;overflow-x:auto;line-height:normal;font-family:Menlo,'DejaVu Sans Mono',consolas,'Courier New',monospace\"><span style=\"color: #800000; text-decoration-color: #800000\">  File \"/pkg/modal/_vendor/a2wsgi_wsgi.py\", line 562, in __call__\n",
       "    return await responder(scope, receive, send)\n",
       "           ^^^^^^^^^^^^^^^^^^^^^^^^^^^^^^^^^^^^^\n",
       "</span></pre>\n"
      ],
      "text/plain": [
       "\u001b[31m  File \"/pkg/modal/_vendor/a2wsgi_wsgi.py\", line 562, in __call__\n",
       "    return await responder(scope, receive, send)\n",
       "           ^^^^^^^^^^^^^^^^^^^^^^^^^^^^^^^^^^^^^\n",
       "\u001b[0m"
      ]
     },
     "metadata": {},
     "output_type": "display_data"
    },
    {
     "data": {
      "text/html": [
       "<pre style=\"white-space:pre;overflow-x:auto;line-height:normal;font-family:Menlo,'DejaVu Sans Mono',consolas,'Courier New',monospace\"><span style=\"color: #800000; text-decoration-color: #800000\">  File \"/pkg/modal/_vendor/a2wsgi_wsgi.py\", line 597, in __call__\n",
       "    await self.loop.run_in_executor(\n",
       "</span></pre>\n"
      ],
      "text/plain": [
       "\u001b[31m  File \"/pkg/modal/_vendor/a2wsgi_wsgi.py\", line 597, in __call__\n",
       "    await self.loop.run_in_executor(\n",
       "\u001b[0m"
      ]
     },
     "metadata": {},
     "output_type": "display_data"
    },
    {
     "data": {
      "text/html": [
       "<pre style=\"white-space:pre;overflow-x:auto;line-height:normal;font-family:Menlo,'DejaVu Sans Mono',consolas,'Courier New',monospace\"><span style=\"color: #800000; text-decoration-color: #800000\">  File \"/usr/local/lib/python3.11/concurrent/futures/thread.py\", line 58, in run\n",
       "    result = self.fn(*self.args, **self.kwargs)\n",
       "             ^^^^^^^^^^^^^^^^^^^^^^^^^^^^^^^^^^\n",
       "</span></pre>\n"
      ],
      "text/plain": [
       "\u001b[31m  File \"/usr/local/lib/python3.11/concurrent/futures/thread.py\", line 58, in run\n",
       "    result = self.fn(*self.args, **self.kwargs)\n",
       "             ^^^^^^^^^^^^^^^^^^^^^^^^^^^^^^^^^^\n",
       "\u001b[0m"
      ]
     },
     "metadata": {},
     "output_type": "display_data"
    },
    {
     "data": {
      "text/html": [
       "<pre style=\"white-space:pre;overflow-x:auto;line-height:normal;font-family:Menlo,'DejaVu Sans Mono',consolas,'Courier New',monospace\"><span style=\"color: #800000; text-decoration-color: #800000\">  File \"/pkg/modal/_vendor/a2wsgi_wsgi.py\", line 653, in wsgi\n",
       "    iterable = self.app(environ, start_response)\n",
       "               ^^^^^^^^^^^^^^^^^^^^^^^^^^^^^^^^^\n",
       "</span></pre>\n"
      ],
      "text/plain": [
       "\u001b[31m  File \"/pkg/modal/_vendor/a2wsgi_wsgi.py\", line 653, in wsgi\n",
       "    iterable = self.app(environ, start_response)\n",
       "               ^^^^^^^^^^^^^^^^^^^^^^^^^^^^^^^^^\n",
       "\u001b[0m"
      ]
     },
     "metadata": {},
     "output_type": "display_data"
    },
    {
     "data": {
      "text/html": [
       "<pre style=\"white-space:pre;overflow-x:auto;line-height:normal;font-family:Menlo,'DejaVu Sans Mono',consolas,'Courier New',monospace\"><span style=\"color: #800000; text-decoration-color: #800000\">  File \"/usr/local/lib/python3.11/site-packages/tensorboard/backend/application.py\", line 528, in __call__\n",
       "    return self._app(environ, start_response)\n",
       "           ^^^^^^^^^^^^^^^^^^^^^^^^^^^^^^^^^^\n",
       "</span></pre>\n"
      ],
      "text/plain": [
       "\u001b[31m  File \"/usr/local/lib/python3.11/site-packages/tensorboard/backend/application.py\", line 528, in __call__\n",
       "    return self._app(environ, start_response)\n",
       "           ^^^^^^^^^^^^^^^^^^^^^^^^^^^^^^^^^^\n",
       "\u001b[0m"
      ]
     },
     "metadata": {},
     "output_type": "display_data"
    },
    {
     "data": {
      "text/html": [
       "<pre style=\"white-space:pre;overflow-x:auto;line-height:normal;font-family:Menlo,'DejaVu Sans Mono',consolas,'Courier New',monospace\"><span style=\"color: #800000; text-decoration-color: #800000\">  File \"/usr/local/lib/python3.11/site-packages/tensorboard/backend/application.py\", line 569, in wrapper\n",
       "    return wsgi_app(environ, start_response)\n",
       "           ^^^^^^^^^^^^^^^^^^^^^^^^^^^^^^^^^\n",
       "</span></pre>\n"
      ],
      "text/plain": [
       "\u001b[31m  File \"/usr/local/lib/python3.11/site-packages/tensorboard/backend/application.py\", line 569, in wrapper\n",
       "    return wsgi_app(environ, start_response)\n",
       "           ^^^^^^^^^^^^^^^^^^^^^^^^^^^^^^^^^\n",
       "\u001b[0m"
      ]
     },
     "metadata": {},
     "output_type": "display_data"
    },
    {
     "data": {
      "text/html": [
       "<pre style=\"white-space:pre;overflow-x:auto;line-height:normal;font-family:Menlo,'DejaVu Sans Mono',consolas,'Courier New',monospace\"><span style=\"color: #800000; text-decoration-color: #800000\">  File \"/usr/local/lib/python3.11/site-packages/tensorboard/backend/security_validator.py\", line 91, in __call__\n",
       "    return self._application(environ, start_response_proxy)\n",
       "           ^^^^^^^^^^^^^^^^^^^^^^^^^^^^^^^^^^^^^^^^^^^^^^^^\n",
       "</span></pre>\n"
      ],
      "text/plain": [
       "\u001b[31m  File \"/usr/local/lib/python3.11/site-packages/tensorboard/backend/security_validator.py\", line 91, in __call__\n",
       "    return self._application(environ, start_response_proxy)\n",
       "           ^^^^^^^^^^^^^^^^^^^^^^^^^^^^^^^^^^^^^^^^^^^^^^^^\n",
       "\u001b[0m"
      ]
     },
     "metadata": {},
     "output_type": "display_data"
    },
    {
     "data": {
      "text/html": [
       "<pre style=\"white-space:pre;overflow-x:auto;line-height:normal;font-family:Menlo,'DejaVu Sans Mono',consolas,'Courier New',monospace\"><span style=\"color: #800000; text-decoration-color: #800000\">  File \"/usr/local/lib/python3.11/site-packages/tensorboard/backend/path_prefix.py\", line 68, in __call__\n",
       "    return self._application(environ, start_response)\n",
       "           ^^^^^^^^^^^^^^^^^^^^^^^^^^^^^^^^^^^^^^^^^^\n",
       "</span></pre>\n"
      ],
      "text/plain": [
       "\u001b[31m  File \"/usr/local/lib/python3.11/site-packages/tensorboard/backend/path_prefix.py\", line 68, in __call__\n",
       "    return self._application(environ, start_response)\n",
       "           ^^^^^^^^^^^^^^^^^^^^^^^^^^^^^^^^^^^^^^^^^^\n",
       "\u001b[0m"
      ]
     },
     "metadata": {},
     "output_type": "display_data"
    },
    {
     "data": {
      "text/html": [
       "<pre style=\"white-space:pre;overflow-x:auto;line-height:normal;font-family:Menlo,'DejaVu Sans Mono',consolas,'Courier New',monospace\"><span style=\"color: #800000; text-decoration-color: #800000\">  File \"/usr/local/lib/python3.11/site-packages/tensorboard/backend/experiment_id.py\", line 73, in __call__\n",
       "    return self._application(environ, start_response)\n",
       "           ^^^^^^^^^^^^^^^^^^^^^^^^^^^^^^^^^^^^^^^^^^\n",
       "</span></pre>\n"
      ],
      "text/plain": [
       "\u001b[31m  File \"/usr/local/lib/python3.11/site-packages/tensorboard/backend/experiment_id.py\", line 73, in __call__\n",
       "    return self._application(environ, start_response)\n",
       "           ^^^^^^^^^^^^^^^^^^^^^^^^^^^^^^^^^^^^^^^^^^\n",
       "\u001b[0m"
      ]
     },
     "metadata": {},
     "output_type": "display_data"
    },
    {
     "data": {
      "text/html": [
       "<pre style=\"white-space:pre;overflow-x:auto;line-height:normal;font-family:Menlo,'DejaVu Sans Mono',consolas,'Courier New',monospace\"><span style=\"color: #800000; text-decoration-color: #800000\">  File \"/usr/local/lib/python3.11/site-packages/tensorboard/backend/empty_path_redirect.py\", line 43, in __call__\n",
       "    return self._application(environ, start_response)\n",
       "           ^^^^^^^^^^^^^^^^^^^^^^^^^^^^^^^^^^^^^^^^^^\n",
       "</span></pre>\n"
      ],
      "text/plain": [
       "\u001b[31m  File \"/usr/local/lib/python3.11/site-packages/tensorboard/backend/empty_path_redirect.py\", line 43, in __call__\n",
       "    return self._application(environ, start_response)\n",
       "           ^^^^^^^^^^^^^^^^^^^^^^^^^^^^^^^^^^^^^^^^^^\n",
       "\u001b[0m"
      ]
     },
     "metadata": {},
     "output_type": "display_data"
    },
    {
     "data": {
      "text/html": [
       "<pre style=\"white-space:pre;overflow-x:auto;line-height:normal;font-family:Menlo,'DejaVu Sans Mono',consolas,'Courier New',monospace\"><span style=\"color: #800000; text-decoration-color: #800000\">  File \"/usr/local/lib/python3.11/site-packages/tensorboard/backend/client_feature_flags.py\", line 55, in __call__\n",
       "    return self._application(environ, start_response)\n",
       "           ^^^^^^^^^^^^^^^^^^^^^^^^^^^^^^^^^^^^^^^^^^\n",
       "</span></pre>\n"
      ],
      "text/plain": [
       "\u001b[31m  File \"/usr/local/lib/python3.11/site-packages/tensorboard/backend/client_feature_flags.py\", line 55, in __call__\n",
       "    return self._application(environ, start_response)\n",
       "           ^^^^^^^^^^^^^^^^^^^^^^^^^^^^^^^^^^^^^^^^^^\n",
       "\u001b[0m"
      ]
     },
     "metadata": {},
     "output_type": "display_data"
    },
    {
     "data": {
      "text/html": [
       "<pre style=\"white-space:pre;overflow-x:auto;line-height:normal;font-family:Menlo,'DejaVu Sans Mono',consolas,'Courier New',monospace\"><span style=\"color: #800000; text-decoration-color: #800000\">  File \"/usr/local/lib/python3.11/site-packages/tensorboard/backend/auth_context_middleware.py\", line 38, in __call__\n",
       "    return self._application(environ, start_response)\n",
       "           ^^^^^^^^^^^^^^^^^^^^^^^^^^^^^^^^^^^^^^^^^^\n",
       "</span></pre>\n"
      ],
      "text/plain": [
       "\u001b[31m  File \"/usr/local/lib/python3.11/site-packages/tensorboard/backend/auth_context_middleware.py\", line 38, in __call__\n",
       "    return self._application(environ, start_response)\n",
       "           ^^^^^^^^^^^^^^^^^^^^^^^^^^^^^^^^^^^^^^^^^^\n",
       "\u001b[0m"
      ]
     },
     "metadata": {},
     "output_type": "display_data"
    },
    {
     "data": {
      "text/html": [
       "<pre style=\"white-space:pre;overflow-x:auto;line-height:normal;font-family:Menlo,'DejaVu Sans Mono',consolas,'Courier New',monospace\"><span style=\"color: #800000; text-decoration-color: #800000\">  File \"/usr/local/lib/python3.11/site-packages/tensorboard/backend/application.py\", line 551, in _route_request\n",
       "    return self.exact_routes[clean_path](environ, start_response)\n",
       "           ^^^^^^^^^^^^^^^^^^^^^^^^^^^^^^^^^^^^^^^^^^^^^^^^^^^^^^\n",
       "</span></pre>\n"
      ],
      "text/plain": [
       "\u001b[31m  File \"/usr/local/lib/python3.11/site-packages/tensorboard/backend/application.py\", line 551, in _route_request\n",
       "    return self.exact_routes[clean_path](environ, start_response)\n",
       "           ^^^^^^^^^^^^^^^^^^^^^^^^^^^^^^^^^^^^^^^^^^^^^^^^^^^^^^\n",
       "\u001b[0m"
      ]
     },
     "metadata": {},
     "output_type": "display_data"
    },
    {
     "data": {
      "text/html": [
       "<pre style=\"white-space:pre;overflow-x:auto;line-height:normal;font-family:Menlo,'DejaVu Sans Mono',consolas,'Courier New',monospace\"><span style=\"color: #800000; text-decoration-color: #800000\">  File \"/usr/local/lib/python3.11/site-packages/werkzeug/wrappers/request.py\", line 189, in application\n",
       "    resp = f(*args[:-2] + (request,))\n",
       "           ^^^^^^^^^^^^^^^^^^^^^^^^^^\n",
       "</span></pre>\n"
      ],
      "text/plain": [
       "\u001b[31m  File \"/usr/local/lib/python3.11/site-packages/werkzeug/wrappers/request.py\", line 189, in application\n",
       "    resp = f(*args[:-2] + (request,))\n",
       "           ^^^^^^^^^^^^^^^^^^^^^^^^^^\n",
       "\u001b[0m"
      ]
     },
     "metadata": {},
     "output_type": "display_data"
    },
    {
     "data": {
      "text/html": [
       "<pre style=\"white-space:pre;overflow-x:auto;line-height:normal;font-family:Menlo,'DejaVu Sans Mono',consolas,'Courier New',monospace\"><span style=\"color: #800000; text-decoration-color: #800000\">  File \"/usr/local/lib/python3.11/site-packages/tensorboard/plugins/hparams/hparams_plugin.py\", line 121, in get_experiment_route\n",
       "    json_format.MessageToJson(\n",
       "</span></pre>\n"
      ],
      "text/plain": [
       "\u001b[31m  File \"/usr/local/lib/python3.11/site-packages/tensorboard/plugins/hparams/hparams_plugin.py\", line 121, in get_experiment_route\n",
       "    json_format.MessageToJson(\n",
       "\u001b[0m"
      ]
     },
     "metadata": {},
     "output_type": "display_data"
    },
    {
     "data": {
      "text/html": [
       "<pre style=\"white-space:pre;overflow-x:auto;line-height:normal;font-family:Menlo,'DejaVu Sans Mono',consolas,'Courier New',monospace\"><span style=\"color: #800000; text-decoration-color: #800000\">TypeError: MessageToJson() got an unexpected keyword argument 'including_default_value_fields'\n",
       "</span></pre>\n"
      ],
      "text/plain": [
       "\u001b[31mTypeError: MessageToJson() got an unexpected keyword argument 'including_default_value_fields'\n",
       "\u001b[0m"
      ]
     },
     "metadata": {},
     "output_type": "display_data"
    },
    {
     "data": {
      "text/html": [
       "<pre style=\"white-space:pre;overflow-x:auto;line-height:normal;font-family:Menlo,'DejaVu Sans Mono',consolas,'Courier New',monospace\"><span style=\"color: #808000; text-decoration-color: #808000\">    GET /data/plugin/scalars/tags -&gt; 200 OK  (duration: 283.9 ms, execution: 26.8 ms)\n",
       "</span></pre>\n"
      ],
      "text/plain": [
       "\u001b[33m    GET /data/plugin/scalars/tags -> 200 OK  (duration: 283.9 ms, execution: 26.8 ms)\n",
       "\u001b[0m"
      ]
     },
     "metadata": {},
     "output_type": "display_data"
    },
    {
     "data": {
      "text/html": [
       "<pre style=\"white-space:pre;overflow-x:auto;line-height:normal;font-family:Menlo,'DejaVu Sans Mono',consolas,'Courier New',monospace\"><span style=\"color: #800000; text-decoration-color: #800000\">\n",
       "NOTE: Using experimental fast data loading logic. To disable, pass\n",
       "    \"--load_fast=false\" and report issues on GitHub. More details:\n",
       "    https://github.com/tensorflow/tensorboard/issues/4784\n",
       "\n",
       "</span></pre>\n"
      ],
      "text/plain": [
       "\u001b[31m\n",
       "NOTE: Using experimental fast data loading logic. To disable, pass\n",
       "    \"--load_fast=false\" and report issues on GitHub. More details:\n",
       "    https://github.com/tensorflow/tensorboard/issues/4784\n",
       "\n",
       "\u001b[0m"
      ]
     },
     "metadata": {},
     "output_type": "display_data"
    },
    {
     "data": {
      "text/html": [
       "<pre style=\"white-space:pre;overflow-x:auto;line-height:normal;font-family:Menlo,'DejaVu Sans Mono',consolas,'Courier New',monospace\"><span style=\"color: #808000; text-decoration-color: #808000\">    GET / -&gt; 200 OK  (duration: 219.0 ms, execution: 121.7 ms)\n",
       "</span></pre>\n"
      ],
      "text/plain": [
       "\u001b[33m    GET / -> 200 OK  (duration: 219.0 ms, execution: 121.7 ms)\n",
       "\u001b[0m"
      ]
     },
     "metadata": {},
     "output_type": "display_data"
    },
    {
     "data": {
      "text/html": [
       "<pre style=\"white-space:pre;overflow-x:auto;line-height:normal;font-family:Menlo,'DejaVu Sans Mono',consolas,'Courier New',monospace\"><span style=\"color: #800000; text-decoration-color: #800000\">Traceback (most recent call last):\n",
       "</span></pre>\n"
      ],
      "text/plain": [
       "\u001b[31mTraceback (most recent call last):\n",
       "\u001b[0m"
      ]
     },
     "metadata": {},
     "output_type": "display_data"
    },
    {
     "data": {
      "text/html": [
       "<pre style=\"white-space:pre;overflow-x:auto;line-height:normal;font-family:Menlo,'DejaVu Sans Mono',consolas,'Courier New',monospace\"><span style=\"color: #800000; text-decoration-color: #800000\">ERROR:asyncio:Task was destroyed but it is pending!\n",
       "task: &lt;Task pending name='Task-162' coro=&lt;aio_generator_output_task() done, defined at /pkg/synchronicity/async_wrap.py:27&gt; wait_for=&lt;Future pending cb=[_chain_future.&lt;locals&gt;._call_check_cancel() at /usr/local/lib/python3.11/asyncio/futures.py:387, Task.task_wakeup()]&gt;&gt;\n",
       "</span></pre>\n"
      ],
      "text/plain": [
       "\u001b[31mERROR:asyncio:Task was destroyed but it is pending!\n",
       "task: <Task pending name='Task-162' coro=<aio_generator_output_task() done, defined at /pkg/synchronicity/async_wrap.py:27> wait_for=<Future pending cb=[_chain_future.<locals>._call_check_cancel() at /usr/local/lib/python3.11/asyncio/futures.py:387, Task.task_wakeup()]>>\n",
       "\u001b[0m"
      ]
     },
     "metadata": {},
     "output_type": "display_data"
    },
    {
     "data": {
      "text/html": [
       "<pre style=\"white-space:pre;overflow-x:auto;line-height:normal;font-family:Menlo,'DejaVu Sans Mono',consolas,'Courier New',monospace\"><span style=\"color: #800000; text-decoration-color: #800000\">  File \"/pkg/modal/_container_io_manager.py\", line 488, in handle_input_exception\n",
       "    yield\n",
       "</span></pre>\n"
      ],
      "text/plain": [
       "\u001b[31m  File \"/pkg/modal/_container_io_manager.py\", line 488, in handle_input_exception\n",
       "    yield\n",
       "\u001b[0m"
      ]
     },
     "metadata": {},
     "output_type": "display_data"
    },
    {
     "data": {
      "text/html": [
       "<pre style=\"white-space:pre;overflow-x:auto;line-height:normal;font-family:Menlo,'DejaVu Sans Mono',consolas,'Courier New',monospace\"><span style=\"color: #800000; text-decoration-color: #800000\">  File \"/pkg/modal/_container_entrypoint.py\", line 244, in run_input\n",
       "    async for value in res:\n",
       "</span></pre>\n"
      ],
      "text/plain": [
       "\u001b[31m  File \"/pkg/modal/_container_entrypoint.py\", line 244, in run_input\n",
       "    async for value in res:\n",
       "\u001b[0m"
      ]
     },
     "metadata": {},
     "output_type": "display_data"
    },
    {
     "data": {
      "text/html": [
       "<pre style=\"white-space:pre;overflow-x:auto;line-height:normal;font-family:Menlo,'DejaVu Sans Mono',consolas,'Courier New',monospace\"><span style=\"color: #800000; text-decoration-color: #800000\">  File \"/pkg/modal/_asgi.py\", line 126, in fn\n",
       "    app_task.result()  # consume/raise exceptions if there are any!\n",
       "    ^^^^^^^^^^^^^^^^^\n",
       "</span></pre>\n"
      ],
      "text/plain": [
       "\u001b[31m  File \"/pkg/modal/_asgi.py\", line 126, in fn\n",
       "    app_task.result()  # consume/raise exceptions if there are any!\n",
       "    ^^^^^^^^^^^^^^^^^\n",
       "\u001b[0m"
      ]
     },
     "metadata": {},
     "output_type": "display_data"
    },
    {
     "data": {
      "text/html": [
       "<pre style=\"white-space:pre;overflow-x:auto;line-height:normal;font-family:Menlo,'DejaVu Sans Mono',consolas,'Courier New',monospace\"><span style=\"color: #800000; text-decoration-color: #800000\">  File \"/pkg/modal/_vendor/a2wsgi_wsgi.py\", line 562, in __call__\n",
       "    return await responder(scope, receive, send)\n",
       "           ^^^^^^^^^^^^^^^^^^^^^^^^^^^^^^^^^^^^^\n",
       "</span></pre>\n"
      ],
      "text/plain": [
       "\u001b[31m  File \"/pkg/modal/_vendor/a2wsgi_wsgi.py\", line 562, in __call__\n",
       "    return await responder(scope, receive, send)\n",
       "           ^^^^^^^^^^^^^^^^^^^^^^^^^^^^^^^^^^^^^\n",
       "\u001b[0m"
      ]
     },
     "metadata": {},
     "output_type": "display_data"
    },
    {
     "data": {
      "text/html": [
       "<pre style=\"white-space:pre;overflow-x:auto;line-height:normal;font-family:Menlo,'DejaVu Sans Mono',consolas,'Courier New',monospace\"><span style=\"color: #800000; text-decoration-color: #800000\">  File \"/pkg/modal/_vendor/a2wsgi_wsgi.py\", line 597, in __call__\n",
       "    await self.loop.run_in_executor(\n",
       "</span></pre>\n"
      ],
      "text/plain": [
       "\u001b[31m  File \"/pkg/modal/_vendor/a2wsgi_wsgi.py\", line 597, in __call__\n",
       "    await self.loop.run_in_executor(\n",
       "\u001b[0m"
      ]
     },
     "metadata": {},
     "output_type": "display_data"
    },
    {
     "data": {
      "text/html": [
       "<pre style=\"white-space:pre;overflow-x:auto;line-height:normal;font-family:Menlo,'DejaVu Sans Mono',consolas,'Courier New',monospace\"><span style=\"color: #800000; text-decoration-color: #800000\">  File \"/usr/local/lib/python3.11/concurrent/futures/thread.py\", line 58, in run\n",
       "    result = self.fn(*self.args, **self.kwargs)\n",
       "             ^^^^^^^^^^^^^^^^^^^^^^^^^^^^^^^^^^\n",
       "</span></pre>\n"
      ],
      "text/plain": [
       "\u001b[31m  File \"/usr/local/lib/python3.11/concurrent/futures/thread.py\", line 58, in run\n",
       "    result = self.fn(*self.args, **self.kwargs)\n",
       "             ^^^^^^^^^^^^^^^^^^^^^^^^^^^^^^^^^^\n",
       "\u001b[0m"
      ]
     },
     "metadata": {},
     "output_type": "display_data"
    },
    {
     "data": {
      "text/html": [
       "<pre style=\"white-space:pre;overflow-x:auto;line-height:normal;font-family:Menlo,'DejaVu Sans Mono',consolas,'Courier New',monospace\"><span style=\"color: #800000; text-decoration-color: #800000\">  File \"/pkg/modal/_vendor/a2wsgi_wsgi.py\", line 653, in wsgi\n",
       "    iterable = self.app(environ, start_response)\n",
       "               ^^^^^^^^^^^^^^^^^^^^^^^^^^^^^^^^^\n",
       "</span></pre>\n"
      ],
      "text/plain": [
       "\u001b[31m  File \"/pkg/modal/_vendor/a2wsgi_wsgi.py\", line 653, in wsgi\n",
       "    iterable = self.app(environ, start_response)\n",
       "               ^^^^^^^^^^^^^^^^^^^^^^^^^^^^^^^^^\n",
       "\u001b[0m"
      ]
     },
     "metadata": {},
     "output_type": "display_data"
    },
    {
     "data": {
      "text/html": [
       "<pre style=\"white-space:pre;overflow-x:auto;line-height:normal;font-family:Menlo,'DejaVu Sans Mono',consolas,'Courier New',monospace\"><span style=\"color: #800000; text-decoration-color: #800000\">  File \"/usr/local/lib/python3.11/site-packages/tensorboard/backend/application.py\", line 528, in __call__\n",
       "    return self._app(environ, start_response)\n",
       "           ^^^^^^^^^^^^^^^^^^^^^^^^^^^^^^^^^^\n",
       "</span></pre>\n"
      ],
      "text/plain": [
       "\u001b[31m  File \"/usr/local/lib/python3.11/site-packages/tensorboard/backend/application.py\", line 528, in __call__\n",
       "    return self._app(environ, start_response)\n",
       "           ^^^^^^^^^^^^^^^^^^^^^^^^^^^^^^^^^^\n",
       "\u001b[0m"
      ]
     },
     "metadata": {},
     "output_type": "display_data"
    },
    {
     "data": {
      "text/html": [
       "<pre style=\"white-space:pre;overflow-x:auto;line-height:normal;font-family:Menlo,'DejaVu Sans Mono',consolas,'Courier New',monospace\"><span style=\"color: #800000; text-decoration-color: #800000\">  File \"/usr/local/lib/python3.11/site-packages/tensorboard/backend/application.py\", line 569, in wrapper\n",
       "    return wsgi_app(environ, start_response)\n",
       "           ^^^^^^^^^^^^^^^^^^^^^^^^^^^^^^^^^\n",
       "</span></pre>\n"
      ],
      "text/plain": [
       "\u001b[31m  File \"/usr/local/lib/python3.11/site-packages/tensorboard/backend/application.py\", line 569, in wrapper\n",
       "    return wsgi_app(environ, start_response)\n",
       "           ^^^^^^^^^^^^^^^^^^^^^^^^^^^^^^^^^\n",
       "\u001b[0m"
      ]
     },
     "metadata": {},
     "output_type": "display_data"
    },
    {
     "data": {
      "text/html": [
       "<pre style=\"white-space:pre;overflow-x:auto;line-height:normal;font-family:Menlo,'DejaVu Sans Mono',consolas,'Courier New',monospace\"><span style=\"color: #800000; text-decoration-color: #800000\">  File \"/usr/local/lib/python3.11/site-packages/tensorboard/backend/security_validator.py\", line 91, in __call__\n",
       "    return self._application(environ, start_response_proxy)\n",
       "           ^^^^^^^^^^^^^^^^^^^^^^^^^^^^^^^^^^^^^^^^^^^^^^^^\n",
       "</span></pre>\n"
      ],
      "text/plain": [
       "\u001b[31m  File \"/usr/local/lib/python3.11/site-packages/tensorboard/backend/security_validator.py\", line 91, in __call__\n",
       "    return self._application(environ, start_response_proxy)\n",
       "           ^^^^^^^^^^^^^^^^^^^^^^^^^^^^^^^^^^^^^^^^^^^^^^^^\n",
       "\u001b[0m"
      ]
     },
     "metadata": {},
     "output_type": "display_data"
    },
    {
     "data": {
      "text/html": [
       "<pre style=\"white-space:pre;overflow-x:auto;line-height:normal;font-family:Menlo,'DejaVu Sans Mono',consolas,'Courier New',monospace\"><span style=\"color: #800000; text-decoration-color: #800000\">  File \"/usr/local/lib/python3.11/site-packages/tensorboard/backend/path_prefix.py\", line 68, in __call__\n",
       "    return self._application(environ, start_response)\n",
       "           ^^^^^^^^^^^^^^^^^^^^^^^^^^^^^^^^^^^^^^^^^^\n",
       "</span></pre>\n"
      ],
      "text/plain": [
       "\u001b[31m  File \"/usr/local/lib/python3.11/site-packages/tensorboard/backend/path_prefix.py\", line 68, in __call__\n",
       "    return self._application(environ, start_response)\n",
       "           ^^^^^^^^^^^^^^^^^^^^^^^^^^^^^^^^^^^^^^^^^^\n",
       "\u001b[0m"
      ]
     },
     "metadata": {},
     "output_type": "display_data"
    },
    {
     "data": {
      "text/html": [
       "<pre style=\"white-space:pre;overflow-x:auto;line-height:normal;font-family:Menlo,'DejaVu Sans Mono',consolas,'Courier New',monospace\"><span style=\"color: #800000; text-decoration-color: #800000\">  File \"/usr/local/lib/python3.11/site-packages/tensorboard/backend/experiment_id.py\", line 73, in __call__\n",
       "    return self._application(environ, start_response)\n",
       "           ^^^^^^^^^^^^^^^^^^^^^^^^^^^^^^^^^^^^^^^^^^\n",
       "</span></pre>\n"
      ],
      "text/plain": [
       "\u001b[31m  File \"/usr/local/lib/python3.11/site-packages/tensorboard/backend/experiment_id.py\", line 73, in __call__\n",
       "    return self._application(environ, start_response)\n",
       "           ^^^^^^^^^^^^^^^^^^^^^^^^^^^^^^^^^^^^^^^^^^\n",
       "\u001b[0m"
      ]
     },
     "metadata": {},
     "output_type": "display_data"
    },
    {
     "data": {
      "text/html": [
       "<pre style=\"white-space:pre;overflow-x:auto;line-height:normal;font-family:Menlo,'DejaVu Sans Mono',consolas,'Courier New',monospace\"><span style=\"color: #800000; text-decoration-color: #800000\">  File \"/usr/local/lib/python3.11/site-packages/tensorboard/backend/empty_path_redirect.py\", line 43, in __call__\n",
       "    return self._application(environ, start_response)\n",
       "           ^^^^^^^^^^^^^^^^^^^^^^^^^^^^^^^^^^^^^^^^^^\n",
       "</span></pre>\n"
      ],
      "text/plain": [
       "\u001b[31m  File \"/usr/local/lib/python3.11/site-packages/tensorboard/backend/empty_path_redirect.py\", line 43, in __call__\n",
       "    return self._application(environ, start_response)\n",
       "           ^^^^^^^^^^^^^^^^^^^^^^^^^^^^^^^^^^^^^^^^^^\n",
       "\u001b[0m"
      ]
     },
     "metadata": {},
     "output_type": "display_data"
    },
    {
     "data": {
      "text/html": [
       "<pre style=\"white-space:pre;overflow-x:auto;line-height:normal;font-family:Menlo,'DejaVu Sans Mono',consolas,'Courier New',monospace\"><span style=\"color: #800000; text-decoration-color: #800000\">  File \"/usr/local/lib/python3.11/site-packages/tensorboard/backend/client_feature_flags.py\", line 55, in __call__\n",
       "    return self._application(environ, start_response)\n",
       "           ^^^^^^^^^^^^^^^^^^^^^^^^^^^^^^^^^^^^^^^^^^\n",
       "</span></pre>\n"
      ],
      "text/plain": [
       "\u001b[31m  File \"/usr/local/lib/python3.11/site-packages/tensorboard/backend/client_feature_flags.py\", line 55, in __call__\n",
       "    return self._application(environ, start_response)\n",
       "           ^^^^^^^^^^^^^^^^^^^^^^^^^^^^^^^^^^^^^^^^^^\n",
       "\u001b[0m"
      ]
     },
     "metadata": {},
     "output_type": "display_data"
    },
    {
     "data": {
      "text/html": [
       "<pre style=\"white-space:pre;overflow-x:auto;line-height:normal;font-family:Menlo,'DejaVu Sans Mono',consolas,'Courier New',monospace\"><span style=\"color: #800000; text-decoration-color: #800000\">  File \"/usr/local/lib/python3.11/site-packages/tensorboard/backend/auth_context_middleware.py\", line 38, in __call__\n",
       "    return self._application(environ, start_response)\n",
       "           ^^^^^^^^^^^^^^^^^^^^^^^^^^^^^^^^^^^^^^^^^^\n",
       "</span></pre>\n"
      ],
      "text/plain": [
       "\u001b[31m  File \"/usr/local/lib/python3.11/site-packages/tensorboard/backend/auth_context_middleware.py\", line 38, in __call__\n",
       "    return self._application(environ, start_response)\n",
       "           ^^^^^^^^^^^^^^^^^^^^^^^^^^^^^^^^^^^^^^^^^^\n",
       "\u001b[0m"
      ]
     },
     "metadata": {},
     "output_type": "display_data"
    },
    {
     "data": {
      "text/html": [
       "<pre style=\"white-space:pre;overflow-x:auto;line-height:normal;font-family:Menlo,'DejaVu Sans Mono',consolas,'Courier New',monospace\"><span style=\"color: #800000; text-decoration-color: #800000\">  File \"/usr/local/lib/python3.11/site-packages/tensorboard/backend/application.py\", line 551, in _route_request\n",
       "    return self.exact_routes[clean_path](environ, start_response)\n",
       "           ^^^^^^^^^^^^^^^^^^^^^^^^^^^^^^^^^^^^^^^^^^^^^^^^^^^^^^\n",
       "</span></pre>\n"
      ],
      "text/plain": [
       "\u001b[31m  File \"/usr/local/lib/python3.11/site-packages/tensorboard/backend/application.py\", line 551, in _route_request\n",
       "    return self.exact_routes[clean_path](environ, start_response)\n",
       "           ^^^^^^^^^^^^^^^^^^^^^^^^^^^^^^^^^^^^^^^^^^^^^^^^^^^^^^\n",
       "\u001b[0m"
      ]
     },
     "metadata": {},
     "output_type": "display_data"
    },
    {
     "data": {
      "text/html": [
       "<pre style=\"white-space:pre;overflow-x:auto;line-height:normal;font-family:Menlo,'DejaVu Sans Mono',consolas,'Courier New',monospace\"><span style=\"color: #800000; text-decoration-color: #800000\">  File \"/usr/local/lib/python3.11/site-packages/werkzeug/wrappers/request.py\", line 189, in application\n",
       "    resp = f(*args[:-2] + (request,))\n",
       "           ^^^^^^^^^^^^^^^^^^^^^^^^^^\n",
       "</span></pre>\n"
      ],
      "text/plain": [
       "\u001b[31m  File \"/usr/local/lib/python3.11/site-packages/werkzeug/wrappers/request.py\", line 189, in application\n",
       "    resp = f(*args[:-2] + (request,))\n",
       "           ^^^^^^^^^^^^^^^^^^^^^^^^^^\n",
       "\u001b[0m"
      ]
     },
     "metadata": {},
     "output_type": "display_data"
    },
    {
     "data": {
      "text/html": [
       "<pre style=\"white-space:pre;overflow-x:auto;line-height:normal;font-family:Menlo,'DejaVu Sans Mono',consolas,'Courier New',monospace\"><span style=\"color: #800000; text-decoration-color: #800000\">  File \"/usr/local/lib/python3.11/site-packages/tensorboard/plugins/hparams/hparams_plugin.py\", line 121, in get_experiment_route\n",
       "    json_format.MessageToJson(\n",
       "</span></pre>\n"
      ],
      "text/plain": [
       "\u001b[31m  File \"/usr/local/lib/python3.11/site-packages/tensorboard/plugins/hparams/hparams_plugin.py\", line 121, in get_experiment_route\n",
       "    json_format.MessageToJson(\n",
       "\u001b[0m"
      ]
     },
     "metadata": {},
     "output_type": "display_data"
    },
    {
     "data": {
      "text/html": [
       "<pre style=\"white-space:pre;overflow-x:auto;line-height:normal;font-family:Menlo,'DejaVu Sans Mono',consolas,'Courier New',monospace\"><span style=\"color: #800000; text-decoration-color: #800000\">TypeError: MessageToJson() got an unexpected keyword argument 'including_default_value_fields'\n",
       "</span></pre>\n"
      ],
      "text/plain": [
       "\u001b[31mTypeError: MessageToJson() got an unexpected keyword argument 'including_default_value_fields'\n",
       "\u001b[0m"
      ]
     },
     "metadata": {},
     "output_type": "display_data"
    },
    {
     "data": {
      "text/html": [
       "<pre style=\"white-space:pre;overflow-x:auto;line-height:normal;font-family:Menlo,'DejaVu Sans Mono',consolas,'Courier New',monospace\"><span style=\"color: #800000; text-decoration-color: #800000\"></span></pre>\n"
      ],
      "text/plain": []
     },
     "metadata": {},
     "output_type": "display_data"
    },
    {
     "data": {
      "text/html": [
       "<pre style=\"white-space:pre;overflow-x:auto;line-height:normal;font-family:Menlo,'DejaVu Sans Mono',consolas,'Courier New',monospace\"><span style=\"color: #800000; text-decoration-color: #800000\"></span></pre>\n"
      ],
      "text/plain": []
     },
     "metadata": {},
     "output_type": "display_data"
    },
    {
     "data": {
      "text/html": [
       "<pre style=\"white-space:pre;overflow-x:auto;line-height:normal;font-family:Menlo,'DejaVu Sans Mono',consolas,'Courier New',monospace\"><span style=\"color: #800000; text-decoration-color: #800000\">Exception ignored in: &lt;coroutine object wrap_coro_exception.&lt;locals&gt;.coro_wrapped at 0x7f1b508b6260&gt;\n",
       "</span></pre>\n"
      ],
      "text/plain": [
       "\u001b[31mException ignored in: <coroutine object wrap_coro_exception.<locals>.coro_wrapped at 0x7f1b508b6260>\n",
       "\u001b[0m"
      ]
     },
     "metadata": {},
     "output_type": "display_data"
    },
    {
     "data": {
      "text/html": [
       "<pre style=\"white-space:pre;overflow-x:auto;line-height:normal;font-family:Menlo,'DejaVu Sans Mono',consolas,'Courier New',monospace\"><span style=\"color: #800000; text-decoration-color: #800000\">Traceback (most recent call last):\n",
       "</span></pre>\n"
      ],
      "text/plain": [
       "\u001b[31mTraceback (most recent call last):\n",
       "\u001b[0m"
      ]
     },
     "metadata": {},
     "output_type": "display_data"
    },
    {
     "data": {
      "text/html": [
       "<pre style=\"white-space:pre;overflow-x:auto;line-height:normal;font-family:Menlo,'DejaVu Sans Mono',consolas,'Courier New',monospace\"><span style=\"color: #800000; text-decoration-color: #800000\">  File \"/pkg/synchronicity/exceptions.py\", line 31, in coro_wrapped\n",
       "</span></pre>\n"
      ],
      "text/plain": [
       "\u001b[31m  File \"/pkg/synchronicity/exceptions.py\", line 31, in coro_wrapped\n",
       "\u001b[0m"
      ]
     },
     "metadata": {},
     "output_type": "display_data"
    },
    {
     "data": {
      "text/html": [
       "<pre style=\"white-space:pre;overflow-x:auto;line-height:normal;font-family:Menlo,'DejaVu Sans Mono',consolas,'Courier New',monospace\"><span style=\"color: #800000; text-decoration-color: #800000\"></span></pre>\n"
      ],
      "text/plain": []
     },
     "metadata": {},
     "output_type": "display_data"
    },
    {
     "data": {
      "text/html": [
       "<pre style=\"white-space:pre;overflow-x:auto;line-height:normal;font-family:Menlo,'DejaVu Sans Mono',consolas,'Courier New',monospace\"><span style=\"color: #800000; text-decoration-color: #800000\"></span></pre>\n"
      ],
      "text/plain": []
     },
     "metadata": {},
     "output_type": "display_data"
    },
    {
     "data": {
      "text/html": [
       "<pre style=\"white-space:pre;overflow-x:auto;line-height:normal;font-family:Menlo,'DejaVu Sans Mono',consolas,'Courier New',monospace\"><span style=\"color: #800000; text-decoration-color: #800000\">    raise UserCodeException(exc)\n",
       "</span></pre>\n"
      ],
      "text/plain": [
       "\u001b[31m    raise UserCodeException(exc)\n",
       "\u001b[0m"
      ]
     },
     "metadata": {},
     "output_type": "display_data"
    },
    {
     "data": {
      "text/html": [
       "<pre style=\"white-space:pre;overflow-x:auto;line-height:normal;font-family:Menlo,'DejaVu Sans Mono',consolas,'Courier New',monospace\"><span style=\"color: #800000; text-decoration-color: #800000\"></span></pre>\n"
      ],
      "text/plain": []
     },
     "metadata": {},
     "output_type": "display_data"
    },
    {
     "data": {
      "text/html": [
       "<pre style=\"white-space:pre;overflow-x:auto;line-height:normal;font-family:Menlo,'DejaVu Sans Mono',consolas,'Courier New',monospace\"><span style=\"color: #800000; text-decoration-color: #800000\"></span></pre>\n"
      ],
      "text/plain": []
     },
     "metadata": {},
     "output_type": "display_data"
    },
    {
     "data": {
      "text/html": [
       "<pre style=\"white-space:pre;overflow-x:auto;line-height:normal;font-family:Menlo,'DejaVu Sans Mono',consolas,'Courier New',monospace\"><span style=\"color: #800000; text-decoration-color: #800000\"></span></pre>\n"
      ],
      "text/plain": []
     },
     "metadata": {},
     "output_type": "display_data"
    },
    {
     "data": {
      "text/html": [
       "<pre style=\"white-space:pre;overflow-x:auto;line-height:normal;font-family:Menlo,'DejaVu Sans Mono',consolas,'Courier New',monospace\"><span style=\"color: #800000; text-decoration-color: #800000\"></span></pre>\n"
      ],
      "text/plain": []
     },
     "metadata": {},
     "output_type": "display_data"
    },
    {
     "data": {
      "text/html": [
       "<pre style=\"white-space:pre;overflow-x:auto;line-height:normal;font-family:Menlo,'DejaVu Sans Mono',consolas,'Courier New',monospace\"><span style=\"color: #800000; text-decoration-color: #800000\">synchronicity.exceptions.UserCodeException: \n",
       "</span></pre>\n"
      ],
      "text/plain": [
       "\u001b[31msynchronicity.exceptions.UserCodeException: \n",
       "\u001b[0m"
      ]
     },
     "metadata": {},
     "output_type": "display_data"
    },
    {
     "data": {
      "text/html": [
       "<pre style=\"white-space:pre;overflow-x:auto;line-height:normal;font-family:Menlo,'DejaVu Sans Mono',consolas,'Courier New',monospace\"><span style=\"color: #808000; text-decoration-color: #808000\">    GET /font-roboto/oMMgfZMQthOryQo9n22dcuvvDin1pK8aKteLpeZ5c0A.woff2 -&gt; 200 OK  (duration: 187.2 ms, execution: 91.5 ms)\n",
       "</span></pre>\n"
      ],
      "text/plain": [
       "\u001b[33m    GET /font-roboto/oMMgfZMQthOryQo9n22dcuvvDin1pK8aKteLpeZ5c0A.woff2 -> 200 OK  (duration: 187.2 ms, execution: 91.5 ms)\n",
       "\u001b[0m"
      ]
     },
     "metadata": {},
     "output_type": "display_data"
    },
    {
     "data": {
      "text/html": [
       "<pre style=\"white-space:pre;overflow-x:auto;line-height:normal;font-family:Menlo,'DejaVu Sans Mono',consolas,'Courier New',monospace\"><span style=\"color: #808000; text-decoration-color: #808000\">    GET /icon_bundle.svg -&gt; 200 OK  (duration: 255.0 ms, execution: 145.5 ms)\n",
       "</span></pre>\n"
      ],
      "text/plain": [
       "\u001b[33m    GET /icon_bundle.svg -> 200 OK  (duration: 255.0 ms, execution: 145.5 ms)\n",
       "\u001b[0m"
      ]
     },
     "metadata": {},
     "output_type": "display_data"
    },
    {
     "data": {
      "text/html": [
       "<pre style=\"white-space:pre;overflow-x:auto;line-height:normal;font-family:Menlo,'DejaVu Sans Mono',consolas,'Courier New',monospace\"><span style=\"color: #808000; text-decoration-color: #808000\">    GET /data/plugins_listing -&gt; 200 OK  (duration: 168.5 ms, execution: 50.3 ms)\n",
       "</span></pre>\n"
      ],
      "text/plain": [
       "\u001b[33m    GET /data/plugins_listing -> 200 OK  (duration: 168.5 ms, execution: 50.3 ms)\n",
       "\u001b[0m"
      ]
     },
     "metadata": {},
     "output_type": "display_data"
    },
    {
     "data": {
      "text/html": [
       "<pre style=\"white-space:pre;overflow-x:auto;line-height:normal;font-family:Menlo,'DejaVu Sans Mono',consolas,'Courier New',monospace\"><span style=\"color: #808000; text-decoration-color: #808000\">    GET /data/environment -&gt; 200 OK  (duration: 179.1 ms, execution: 12.0 ms)\n",
       "</span></pre>\n"
      ],
      "text/plain": [
       "\u001b[33m    GET /data/environment -> 200 OK  (duration: 179.1 ms, execution: 12.0 ms)\n",
       "\u001b[0m"
      ]
     },
     "metadata": {},
     "output_type": "display_data"
    },
    {
     "data": {
      "text/html": [
       "<pre style=\"white-space:pre;overflow-x:auto;line-height:normal;font-family:Menlo,'DejaVu Sans Mono',consolas,'Courier New',monospace\"><span style=\"color: #808000; text-decoration-color: #808000\">    GET /data/runs -&gt; 200 OK  (duration: 194.4 ms, execution: 28.6 ms)\n",
       "</span></pre>\n"
      ],
      "text/plain": [
       "\u001b[33m    GET /data/runs -> 200 OK  (duration: 194.4 ms, execution: 28.6 ms)\n",
       "\u001b[0m"
      ]
     },
     "metadata": {},
     "output_type": "display_data"
    },
    {
     "data": {
      "text/html": [
       "<pre style=\"white-space:pre;overflow-x:auto;line-height:normal;font-family:Menlo,'DejaVu Sans Mono',consolas,'Courier New',monospace\"><span style=\"color: #808000; text-decoration-color: #808000\">    GET /experiment/defaultExperimentId/data/runs -&gt; 200 OK  (duration: 197.4 ms, execution: 18.4 ms)\n",
       "</span></pre>\n"
      ],
      "text/plain": [
       "\u001b[33m    GET /experiment/defaultExperimentId/data/runs -> 200 OK  (duration: 197.4 ms, execution: 18.4 ms)\n",
       "\u001b[0m"
      ]
     },
     "metadata": {},
     "output_type": "display_data"
    },
    {
     "data": {
      "text/html": [
       "<pre style=\"white-space:pre;overflow-x:auto;line-height:normal;font-family:Menlo,'DejaVu Sans Mono',consolas,'Courier New',monospace\"><span style=\"color: #808000; text-decoration-color: #808000\">    GET /font-roboto/RxZJdnzeo3R5zSexge8UUZBw1xU1rKptJj_0jans920.woff2 -&gt; 200 OK  (duration: 492.3 ms, execution: 90.2 ms)\n",
       "</span></pre>\n"
      ],
      "text/plain": [
       "\u001b[33m    GET /font-roboto/RxZJdnzeo3R5zSexge8UUZBw1xU1rKptJj_0jans920.woff2 -> 200 OK  (duration: 492.3 ms, execution: 90.2 ms)\n",
       "\u001b[0m"
      ]
     },
     "metadata": {},
     "output_type": "display_data"
    },
    {
     "data": {
      "text/html": [
       "<pre style=\"white-space:pre;overflow-x:auto;line-height:normal;font-family:Menlo,'DejaVu Sans Mono',consolas,'Courier New',monospace\"><span style=\"color: #808000; text-decoration-color: #808000\">    GET /data/environment -&gt; 200 OK  (duration: 153.8 ms, execution: 93.0 ms)\n",
       "</span></pre>\n"
      ],
      "text/plain": [
       "\u001b[33m    GET /data/environment -> 200 OK  (duration: 153.8 ms, execution: 93.0 ms)\n",
       "\u001b[0m"
      ]
     },
     "metadata": {},
     "output_type": "display_data"
    },
    {
     "data": {
      "text/html": [
       "<pre style=\"white-space:pre;overflow-x:auto;line-height:normal;font-family:Menlo,'DejaVu Sans Mono',consolas,'Courier New',monospace\"><span style=\"color: #808000; text-decoration-color: #808000\">    GET /data/plugin/scalars/tags -&gt; 200 OK  (duration: 127.5 ms, execution: 12.8 ms)\n",
       "</span></pre>\n"
      ],
      "text/plain": [
       "\u001b[33m    GET /data/plugin/scalars/tags -> 200 OK  (duration: 127.5 ms, execution: 12.8 ms)\n",
       "\u001b[0m"
      ]
     },
     "metadata": {},
     "output_type": "display_data"
    },
    {
     "data": {
      "text/html": [
       "<pre style=\"white-space:pre;overflow-x:auto;line-height:normal;font-family:Menlo,'DejaVu Sans Mono',consolas,'Courier New',monospace\"><span style=\"color: #808000; text-decoration-color: #808000\">    GET /font-roboto/d-6IYplOFocCacKzxwXSOJBw1xU1rKptJj_0jans920.woff2 -&gt; 200 OK  (duration: 207.1 ms, execution: 72.9 ms)\n",
       "</span></pre>\n"
      ],
      "text/plain": [
       "\u001b[33m    GET /font-roboto/d-6IYplOFocCacKzxwXSOJBw1xU1rKptJj_0jans920.woff2 -> 200 OK  (duration: 207.1 ms, execution: 72.9 ms)\n",
       "\u001b[0m"
      ]
     },
     "metadata": {},
     "output_type": "display_data"
    },
    {
     "data": {
      "text/html": [
       "<pre style=\"white-space:pre;overflow-x:auto;line-height:normal;font-family:Menlo,'DejaVu Sans Mono',consolas,'Courier New',monospace\"><span style=\"color: #800000; text-decoration-color: #800000\">\n",
       "NOTE: Using experimental fast data loading logic. To disable, pass\n",
       "    \"--load_fast=false\" and report issues on GitHub. More details:\n",
       "    https://github.com/tensorflow/tensorboard/issues/4784\n",
       "\n",
       "</span></pre>\n"
      ],
      "text/plain": [
       "\u001b[31m\n",
       "NOTE: Using experimental fast data loading logic. To disable, pass\n",
       "    \"--load_fast=false\" and report issues on GitHub. More details:\n",
       "    https://github.com/tensorflow/tensorboard/issues/4784\n",
       "\n",
       "\u001b[0m"
      ]
     },
     "metadata": {},
     "output_type": "display_data"
    },
    {
     "data": {
      "text/html": [
       "<pre style=\"white-space:pre;overflow-x:auto;line-height:normal;font-family:Menlo,'DejaVu Sans Mono',consolas,'Courier New',monospace\"><span style=\"color: #800000; text-decoration-color: #800000\">Traceback (most recent call last):\n",
       "</span></pre>\n"
      ],
      "text/plain": [
       "\u001b[31mTraceback (most recent call last):\n",
       "\u001b[0m"
      ]
     },
     "metadata": {},
     "output_type": "display_data"
    },
    {
     "data": {
      "text/html": [
       "<pre style=\"white-space:pre;overflow-x:auto;line-height:normal;font-family:Menlo,'DejaVu Sans Mono',consolas,'Courier New',monospace\"><span style=\"color: #800000; text-decoration-color: #800000\">  File \"/pkg/modal/_container_io_manager.py\", line 488, in handle_input_exception\n",
       "    yield\n",
       "</span></pre>\n"
      ],
      "text/plain": [
       "\u001b[31m  File \"/pkg/modal/_container_io_manager.py\", line 488, in handle_input_exception\n",
       "    yield\n",
       "\u001b[0m"
      ]
     },
     "metadata": {},
     "output_type": "display_data"
    },
    {
     "data": {
      "text/html": [
       "<pre style=\"white-space:pre;overflow-x:auto;line-height:normal;font-family:Menlo,'DejaVu Sans Mono',consolas,'Courier New',monospace\"><span style=\"color: #800000; text-decoration-color: #800000\">  File \"/pkg/modal/_container_entrypoint.py\", line 244, in run_input\n",
       "    async for value in res:\n",
       "</span></pre>\n"
      ],
      "text/plain": [
       "\u001b[31m  File \"/pkg/modal/_container_entrypoint.py\", line 244, in run_input\n",
       "    async for value in res:\n",
       "\u001b[0m"
      ]
     },
     "metadata": {},
     "output_type": "display_data"
    },
    {
     "data": {
      "text/html": [
       "<pre style=\"white-space:pre;overflow-x:auto;line-height:normal;font-family:Menlo,'DejaVu Sans Mono',consolas,'Courier New',monospace\"><span style=\"color: #800000; text-decoration-color: #800000\">  File \"/pkg/modal/_asgi.py\", line 126, in fn\n",
       "    app_task.result()  # consume/raise exceptions if there are any!\n",
       "    ^^^^^^^^^^^^^^^^^\n",
       "</span></pre>\n"
      ],
      "text/plain": [
       "\u001b[31m  File \"/pkg/modal/_asgi.py\", line 126, in fn\n",
       "    app_task.result()  # consume/raise exceptions if there are any!\n",
       "    ^^^^^^^^^^^^^^^^^\n",
       "\u001b[0m"
      ]
     },
     "metadata": {},
     "output_type": "display_data"
    },
    {
     "data": {
      "text/html": [
       "<pre style=\"white-space:pre;overflow-x:auto;line-height:normal;font-family:Menlo,'DejaVu Sans Mono',consolas,'Courier New',monospace\"><span style=\"color: #800000; text-decoration-color: #800000\">  File \"/pkg/modal/_vendor/a2wsgi_wsgi.py\", line 562, in __call__\n",
       "    return await responder(scope, receive, send)\n",
       "           ^^^^^^^^^^^^^^^^^^^^^^^^^^^^^^^^^^^^^\n",
       "</span></pre>\n"
      ],
      "text/plain": [
       "\u001b[31m  File \"/pkg/modal/_vendor/a2wsgi_wsgi.py\", line 562, in __call__\n",
       "    return await responder(scope, receive, send)\n",
       "           ^^^^^^^^^^^^^^^^^^^^^^^^^^^^^^^^^^^^^\n",
       "\u001b[0m"
      ]
     },
     "metadata": {},
     "output_type": "display_data"
    },
    {
     "data": {
      "text/html": [
       "<pre style=\"white-space:pre;overflow-x:auto;line-height:normal;font-family:Menlo,'DejaVu Sans Mono',consolas,'Courier New',monospace\"><span style=\"color: #800000; text-decoration-color: #800000\">  File \"/pkg/modal/_vendor/a2wsgi_wsgi.py\", line 597, in __call__\n",
       "    await self.loop.run_in_executor(\n",
       "</span></pre>\n"
      ],
      "text/plain": [
       "\u001b[31m  File \"/pkg/modal/_vendor/a2wsgi_wsgi.py\", line 597, in __call__\n",
       "    await self.loop.run_in_executor(\n",
       "\u001b[0m"
      ]
     },
     "metadata": {},
     "output_type": "display_data"
    },
    {
     "data": {
      "text/html": [
       "<pre style=\"white-space:pre;overflow-x:auto;line-height:normal;font-family:Menlo,'DejaVu Sans Mono',consolas,'Courier New',monospace\"><span style=\"color: #800000; text-decoration-color: #800000\">  File \"/usr/local/lib/python3.11/concurrent/futures/thread.py\", line 58, in run\n",
       "    result = self.fn(*self.args, **self.kwargs)\n",
       "             ^^^^^^^^^^^^^^^^^^^^^^^^^^^^^^^^^^\n",
       "</span></pre>\n"
      ],
      "text/plain": [
       "\u001b[31m  File \"/usr/local/lib/python3.11/concurrent/futures/thread.py\", line 58, in run\n",
       "    result = self.fn(*self.args, **self.kwargs)\n",
       "             ^^^^^^^^^^^^^^^^^^^^^^^^^^^^^^^^^^\n",
       "\u001b[0m"
      ]
     },
     "metadata": {},
     "output_type": "display_data"
    },
    {
     "data": {
      "text/html": [
       "<pre style=\"white-space:pre;overflow-x:auto;line-height:normal;font-family:Menlo,'DejaVu Sans Mono',consolas,'Courier New',monospace\"><span style=\"color: #800000; text-decoration-color: #800000\">  File \"/pkg/modal/_vendor/a2wsgi_wsgi.py\", line 653, in wsgi\n",
       "    iterable = self.app(environ, start_response)\n",
       "               ^^^^^^^^^^^^^^^^^^^^^^^^^^^^^^^^^\n",
       "</span></pre>\n"
      ],
      "text/plain": [
       "\u001b[31m  File \"/pkg/modal/_vendor/a2wsgi_wsgi.py\", line 653, in wsgi\n",
       "    iterable = self.app(environ, start_response)\n",
       "               ^^^^^^^^^^^^^^^^^^^^^^^^^^^^^^^^^\n",
       "\u001b[0m"
      ]
     },
     "metadata": {},
     "output_type": "display_data"
    },
    {
     "data": {
      "text/html": [
       "<pre style=\"white-space:pre;overflow-x:auto;line-height:normal;font-family:Menlo,'DejaVu Sans Mono',consolas,'Courier New',monospace\"><span style=\"color: #800000; text-decoration-color: #800000\">  File \"/usr/local/lib/python3.11/site-packages/tensorboard/backend/application.py\", line 528, in __call__\n",
       "    return self._app(environ, start_response)\n",
       "           ^^^^^^^^^^^^^^^^^^^^^^^^^^^^^^^^^^\n",
       "</span></pre>\n"
      ],
      "text/plain": [
       "\u001b[31m  File \"/usr/local/lib/python3.11/site-packages/tensorboard/backend/application.py\", line 528, in __call__\n",
       "    return self._app(environ, start_response)\n",
       "           ^^^^^^^^^^^^^^^^^^^^^^^^^^^^^^^^^^\n",
       "\u001b[0m"
      ]
     },
     "metadata": {},
     "output_type": "display_data"
    },
    {
     "data": {
      "text/html": [
       "<pre style=\"white-space:pre;overflow-x:auto;line-height:normal;font-family:Menlo,'DejaVu Sans Mono',consolas,'Courier New',monospace\"><span style=\"color: #800000; text-decoration-color: #800000\">  File \"/usr/local/lib/python3.11/site-packages/tensorboard/backend/application.py\", line 569, in wrapper\n",
       "    return wsgi_app(environ, start_response)\n",
       "           ^^^^^^^^^^^^^^^^^^^^^^^^^^^^^^^^^\n",
       "</span></pre>\n"
      ],
      "text/plain": [
       "\u001b[31m  File \"/usr/local/lib/python3.11/site-packages/tensorboard/backend/application.py\", line 569, in wrapper\n",
       "    return wsgi_app(environ, start_response)\n",
       "           ^^^^^^^^^^^^^^^^^^^^^^^^^^^^^^^^^\n",
       "\u001b[0m"
      ]
     },
     "metadata": {},
     "output_type": "display_data"
    },
    {
     "data": {
      "text/html": [
       "<pre style=\"white-space:pre;overflow-x:auto;line-height:normal;font-family:Menlo,'DejaVu Sans Mono',consolas,'Courier New',monospace\"><span style=\"color: #800000; text-decoration-color: #800000\">  File \"/usr/local/lib/python3.11/site-packages/tensorboard/backend/security_validator.py\", line 91, in __call__\n",
       "    return self._application(environ, start_response_proxy)\n",
       "           ^^^^^^^^^^^^^^^^^^^^^^^^^^^^^^^^^^^^^^^^^^^^^^^^\n",
       "</span></pre>\n"
      ],
      "text/plain": [
       "\u001b[31m  File \"/usr/local/lib/python3.11/site-packages/tensorboard/backend/security_validator.py\", line 91, in __call__\n",
       "    return self._application(environ, start_response_proxy)\n",
       "           ^^^^^^^^^^^^^^^^^^^^^^^^^^^^^^^^^^^^^^^^^^^^^^^^\n",
       "\u001b[0m"
      ]
     },
     "metadata": {},
     "output_type": "display_data"
    },
    {
     "data": {
      "text/html": [
       "<pre style=\"white-space:pre;overflow-x:auto;line-height:normal;font-family:Menlo,'DejaVu Sans Mono',consolas,'Courier New',monospace\"><span style=\"color: #800000; text-decoration-color: #800000\">  File \"/usr/local/lib/python3.11/site-packages/tensorboard/backend/path_prefix.py\", line 68, in __call__\n",
       "    return self._application(environ, start_response)\n",
       "           ^^^^^^^^^^^^^^^^^^^^^^^^^^^^^^^^^^^^^^^^^^\n",
       "</span></pre>\n"
      ],
      "text/plain": [
       "\u001b[31m  File \"/usr/local/lib/python3.11/site-packages/tensorboard/backend/path_prefix.py\", line 68, in __call__\n",
       "    return self._application(environ, start_response)\n",
       "           ^^^^^^^^^^^^^^^^^^^^^^^^^^^^^^^^^^^^^^^^^^\n",
       "\u001b[0m"
      ]
     },
     "metadata": {},
     "output_type": "display_data"
    },
    {
     "data": {
      "text/html": [
       "<pre style=\"white-space:pre;overflow-x:auto;line-height:normal;font-family:Menlo,'DejaVu Sans Mono',consolas,'Courier New',monospace\"><span style=\"color: #800000; text-decoration-color: #800000\">  File \"/usr/local/lib/python3.11/site-packages/tensorboard/backend/experiment_id.py\", line 73, in __call__\n",
       "    return self._application(environ, start_response)\n",
       "           ^^^^^^^^^^^^^^^^^^^^^^^^^^^^^^^^^^^^^^^^^^\n",
       "</span></pre>\n"
      ],
      "text/plain": [
       "\u001b[31m  File \"/usr/local/lib/python3.11/site-packages/tensorboard/backend/experiment_id.py\", line 73, in __call__\n",
       "    return self._application(environ, start_response)\n",
       "           ^^^^^^^^^^^^^^^^^^^^^^^^^^^^^^^^^^^^^^^^^^\n",
       "\u001b[0m"
      ]
     },
     "metadata": {},
     "output_type": "display_data"
    },
    {
     "data": {
      "text/html": [
       "<pre style=\"white-space:pre;overflow-x:auto;line-height:normal;font-family:Menlo,'DejaVu Sans Mono',consolas,'Courier New',monospace\"><span style=\"color: #800000; text-decoration-color: #800000\">  File \"/usr/local/lib/python3.11/site-packages/tensorboard/backend/empty_path_redirect.py\", line 43, in __call__\n",
       "    return self._application(environ, start_response)\n",
       "           ^^^^^^^^^^^^^^^^^^^^^^^^^^^^^^^^^^^^^^^^^^\n",
       "</span></pre>\n"
      ],
      "text/plain": [
       "\u001b[31m  File \"/usr/local/lib/python3.11/site-packages/tensorboard/backend/empty_path_redirect.py\", line 43, in __call__\n",
       "    return self._application(environ, start_response)\n",
       "           ^^^^^^^^^^^^^^^^^^^^^^^^^^^^^^^^^^^^^^^^^^\n",
       "\u001b[0m"
      ]
     },
     "metadata": {},
     "output_type": "display_data"
    },
    {
     "data": {
      "text/html": [
       "<pre style=\"white-space:pre;overflow-x:auto;line-height:normal;font-family:Menlo,'DejaVu Sans Mono',consolas,'Courier New',monospace\"><span style=\"color: #800000; text-decoration-color: #800000\">  File \"/usr/local/lib/python3.11/site-packages/tensorboard/backend/client_feature_flags.py\", line 55, in __call__\n",
       "    return self._application(environ, start_response)\n",
       "           ^^^^^^^^^^^^^^^^^^^^^^^^^^^^^^^^^^^^^^^^^^\n",
       "</span></pre>\n"
      ],
      "text/plain": [
       "\u001b[31m  File \"/usr/local/lib/python3.11/site-packages/tensorboard/backend/client_feature_flags.py\", line 55, in __call__\n",
       "    return self._application(environ, start_response)\n",
       "           ^^^^^^^^^^^^^^^^^^^^^^^^^^^^^^^^^^^^^^^^^^\n",
       "\u001b[0m"
      ]
     },
     "metadata": {},
     "output_type": "display_data"
    },
    {
     "data": {
      "text/html": [
       "<pre style=\"white-space:pre;overflow-x:auto;line-height:normal;font-family:Menlo,'DejaVu Sans Mono',consolas,'Courier New',monospace\"><span style=\"color: #800000; text-decoration-color: #800000\">  File \"/usr/local/lib/python3.11/site-packages/tensorboard/backend/auth_context_middleware.py\", line 38, in __call__\n",
       "    return self._application(environ, start_response)\n",
       "           ^^^^^^^^^^^^^^^^^^^^^^^^^^^^^^^^^^^^^^^^^^\n",
       "</span></pre>\n"
      ],
      "text/plain": [
       "\u001b[31m  File \"/usr/local/lib/python3.11/site-packages/tensorboard/backend/auth_context_middleware.py\", line 38, in __call__\n",
       "    return self._application(environ, start_response)\n",
       "           ^^^^^^^^^^^^^^^^^^^^^^^^^^^^^^^^^^^^^^^^^^\n",
       "\u001b[0m"
      ]
     },
     "metadata": {},
     "output_type": "display_data"
    },
    {
     "data": {
      "text/html": [
       "<pre style=\"white-space:pre;overflow-x:auto;line-height:normal;font-family:Menlo,'DejaVu Sans Mono',consolas,'Courier New',monospace\"><span style=\"color: #800000; text-decoration-color: #800000\">  File \"/usr/local/lib/python3.11/site-packages/tensorboard/backend/application.py\", line 551, in _route_request\n",
       "    return self.exact_routes[clean_path](environ, start_response)\n",
       "           ^^^^^^^^^^^^^^^^^^^^^^^^^^^^^^^^^^^^^^^^^^^^^^^^^^^^^^\n",
       "</span></pre>\n"
      ],
      "text/plain": [
       "\u001b[31m  File \"/usr/local/lib/python3.11/site-packages/tensorboard/backend/application.py\", line 551, in _route_request\n",
       "    return self.exact_routes[clean_path](environ, start_response)\n",
       "           ^^^^^^^^^^^^^^^^^^^^^^^^^^^^^^^^^^^^^^^^^^^^^^^^^^^^^^\n",
       "\u001b[0m"
      ]
     },
     "metadata": {},
     "output_type": "display_data"
    },
    {
     "data": {
      "text/html": [
       "<pre style=\"white-space:pre;overflow-x:auto;line-height:normal;font-family:Menlo,'DejaVu Sans Mono',consolas,'Courier New',monospace\"><span style=\"color: #800000; text-decoration-color: #800000\">  File \"/usr/local/lib/python3.11/site-packages/werkzeug/wrappers/request.py\", line 189, in application\n",
       "    resp = f(*args[:-2] + (request,))\n",
       "           ^^^^^^^^^^^^^^^^^^^^^^^^^^\n",
       "</span></pre>\n"
      ],
      "text/plain": [
       "\u001b[31m  File \"/usr/local/lib/python3.11/site-packages/werkzeug/wrappers/request.py\", line 189, in application\n",
       "    resp = f(*args[:-2] + (request,))\n",
       "           ^^^^^^^^^^^^^^^^^^^^^^^^^^\n",
       "\u001b[0m"
      ]
     },
     "metadata": {},
     "output_type": "display_data"
    },
    {
     "data": {
      "text/html": [
       "<pre style=\"white-space:pre;overflow-x:auto;line-height:normal;font-family:Menlo,'DejaVu Sans Mono',consolas,'Courier New',monospace\"><span style=\"color: #800000; text-decoration-color: #800000\">  File \"/usr/local/lib/python3.11/site-packages/tensorboard/plugins/hparams/hparams_plugin.py\", line 121, in get_experiment_route\n",
       "    json_format.MessageToJson(\n",
       "</span></pre>\n"
      ],
      "text/plain": [
       "\u001b[31m  File \"/usr/local/lib/python3.11/site-packages/tensorboard/plugins/hparams/hparams_plugin.py\", line 121, in get_experiment_route\n",
       "    json_format.MessageToJson(\n",
       "\u001b[0m"
      ]
     },
     "metadata": {},
     "output_type": "display_data"
    },
    {
     "data": {
      "text/html": [
       "<pre style=\"white-space:pre;overflow-x:auto;line-height:normal;font-family:Menlo,'DejaVu Sans Mono',consolas,'Courier New',monospace\"><span style=\"color: #800000; text-decoration-color: #800000\">TypeError: MessageToJson() got an unexpected keyword argument 'including_default_value_fields'\n",
       "</span></pre>\n"
      ],
      "text/plain": [
       "\u001b[31mTypeError: MessageToJson() got an unexpected keyword argument 'including_default_value_fields'\n",
       "\u001b[0m"
      ]
     },
     "metadata": {},
     "output_type": "display_data"
    },
    {
     "data": {
      "text/html": [
       "<pre style=\"white-space:pre;overflow-x:auto;line-height:normal;font-family:Menlo,'DejaVu Sans Mono',consolas,'Courier New',monospace\"><span style=\"color: #808000; text-decoration-color: #808000\">    GET /experiment/defaultExperimentId/data/runs -&gt; 200 OK  (duration: 91.1 ms, execution: 14.2 ms)\n",
       "</span></pre>\n"
      ],
      "text/plain": [
       "\u001b[33m    GET /experiment/defaultExperimentId/data/runs -> 200 OK  (duration: 91.1 ms, execution: 14.2 ms)\n",
       "\u001b[0m"
      ]
     },
     "metadata": {},
     "output_type": "display_data"
    },
    {
     "data": {
      "text/html": [
       "<pre style=\"white-space:pre;overflow-x:auto;line-height:normal;font-family:Menlo,'DejaVu Sans Mono',consolas,'Courier New',monospace\"><span style=\"color: #808000; text-decoration-color: #808000\">    GET /data/plugins_listing -&gt; 200 OK  (duration: 112.2 ms, execution: 28.9 ms)\n",
       "</span></pre>\n"
      ],
      "text/plain": [
       "\u001b[33m    GET /data/plugins_listing -> 200 OK  (duration: 112.2 ms, execution: 28.9 ms)\n",
       "\u001b[0m"
      ]
     },
     "metadata": {},
     "output_type": "display_data"
    },
    {
     "data": {
      "text/html": [
       "<pre style=\"white-space:pre;overflow-x:auto;line-height:normal;font-family:Menlo,'DejaVu Sans Mono',consolas,'Courier New',monospace\"><span style=\"color: #808000; text-decoration-color: #808000\">    GET /data/environment -&gt; 200 OK  (duration: 194.6 ms, execution: 93.2 ms)\n",
       "</span></pre>\n"
      ],
      "text/plain": [
       "\u001b[33m    GET /data/environment -> 200 OK  (duration: 194.6 ms, execution: 93.2 ms)\n",
       "\u001b[0m"
      ]
     },
     "metadata": {},
     "output_type": "display_data"
    },
    {
     "data": {
      "text/html": [
       "<pre style=\"white-space:pre;overflow-x:auto;line-height:normal;font-family:Menlo,'DejaVu Sans Mono',consolas,'Courier New',monospace\"><span style=\"color: #808000; text-decoration-color: #808000\">    GET /data/runs -&gt; 200 OK  (duration: 284.2 ms, execution: 88.7 ms)\n",
       "</span></pre>\n"
      ],
      "text/plain": [
       "\u001b[33m    GET /data/runs -> 200 OK  (duration: 284.2 ms, execution: 88.7 ms)\n",
       "\u001b[0m"
      ]
     },
     "metadata": {},
     "output_type": "display_data"
    },
    {
     "data": {
      "text/html": [
       "<pre style=\"white-space:pre;overflow-x:auto;line-height:normal;font-family:Menlo,'DejaVu Sans Mono',consolas,'Courier New',monospace\"><span style=\"color: #808000; text-decoration-color: #808000\">    GET /data/environment -&gt; 200 OK  (duration: 203.0 ms, execution: 82.9 ms)\n",
       "</span></pre>\n"
      ],
      "text/plain": [
       "\u001b[33m    GET /data/environment -> 200 OK  (duration: 203.0 ms, execution: 82.9 ms)\n",
       "\u001b[0m"
      ]
     },
     "metadata": {},
     "output_type": "display_data"
    },
    {
     "data": {
      "text/html": [
       "<pre style=\"white-space:pre;overflow-x:auto;line-height:normal;font-family:Menlo,'DejaVu Sans Mono',consolas,'Courier New',monospace\"><span style=\"color: #808000; text-decoration-color: #808000\">    GET /data/plugin/scalars/tags -&gt; 200 OK  (duration: 125.0 ms, execution: 12.3 ms)\n",
       "</span></pre>\n"
      ],
      "text/plain": [
       "\u001b[33m    GET /data/plugin/scalars/tags -> 200 OK  (duration: 125.0 ms, execution: 12.3 ms)\n",
       "\u001b[0m"
      ]
     },
     "metadata": {},
     "output_type": "display_data"
    },
    {
     "data": {
      "text/html": [
       "<pre style=\"white-space:pre;overflow-x:auto;line-height:normal;font-family:Menlo,'DejaVu Sans Mono',consolas,'Courier New',monospace\"><span style=\"color: #800000; text-decoration-color: #800000\">Traceback (most recent call last):\n",
       "</span></pre>\n"
      ],
      "text/plain": [
       "\u001b[31mTraceback (most recent call last):\n",
       "\u001b[0m"
      ]
     },
     "metadata": {},
     "output_type": "display_data"
    },
    {
     "data": {
      "text/html": [
       "<pre style=\"white-space:pre;overflow-x:auto;line-height:normal;font-family:Menlo,'DejaVu Sans Mono',consolas,'Courier New',monospace\"><span style=\"color: #800000; text-decoration-color: #800000\">  File \"/pkg/modal/_container_io_manager.py\", line 488, in handle_input_exception\n",
       "    yield\n",
       "</span></pre>\n"
      ],
      "text/plain": [
       "\u001b[31m  File \"/pkg/modal/_container_io_manager.py\", line 488, in handle_input_exception\n",
       "    yield\n",
       "\u001b[0m"
      ]
     },
     "metadata": {},
     "output_type": "display_data"
    },
    {
     "data": {
      "text/html": [
       "<pre style=\"white-space:pre;overflow-x:auto;line-height:normal;font-family:Menlo,'DejaVu Sans Mono',consolas,'Courier New',monospace\"><span style=\"color: #800000; text-decoration-color: #800000\">  File \"/pkg/modal/_container_entrypoint.py\", line 244, in run_input\n",
       "    async for value in res:\n",
       "</span></pre>\n"
      ],
      "text/plain": [
       "\u001b[31m  File \"/pkg/modal/_container_entrypoint.py\", line 244, in run_input\n",
       "    async for value in res:\n",
       "\u001b[0m"
      ]
     },
     "metadata": {},
     "output_type": "display_data"
    },
    {
     "data": {
      "text/html": [
       "<pre style=\"white-space:pre;overflow-x:auto;line-height:normal;font-family:Menlo,'DejaVu Sans Mono',consolas,'Courier New',monospace\"><span style=\"color: #800000; text-decoration-color: #800000\">  File \"/pkg/modal/_asgi.py\", line 126, in fn\n",
       "    app_task.result()  # consume/raise exceptions if there are any!\n",
       "    ^^^^^^^^^^^^^^^^^\n",
       "</span></pre>\n"
      ],
      "text/plain": [
       "\u001b[31m  File \"/pkg/modal/_asgi.py\", line 126, in fn\n",
       "    app_task.result()  # consume/raise exceptions if there are any!\n",
       "    ^^^^^^^^^^^^^^^^^\n",
       "\u001b[0m"
      ]
     },
     "metadata": {},
     "output_type": "display_data"
    },
    {
     "data": {
      "text/html": [
       "<pre style=\"white-space:pre;overflow-x:auto;line-height:normal;font-family:Menlo,'DejaVu Sans Mono',consolas,'Courier New',monospace\"><span style=\"color: #800000; text-decoration-color: #800000\">  File \"/pkg/modal/_vendor/a2wsgi_wsgi.py\", line 562, in __call__\n",
       "    return await responder(scope, receive, send)\n",
       "           ^^^^^^^^^^^^^^^^^^^^^^^^^^^^^^^^^^^^^\n",
       "</span></pre>\n"
      ],
      "text/plain": [
       "\u001b[31m  File \"/pkg/modal/_vendor/a2wsgi_wsgi.py\", line 562, in __call__\n",
       "    return await responder(scope, receive, send)\n",
       "           ^^^^^^^^^^^^^^^^^^^^^^^^^^^^^^^^^^^^^\n",
       "\u001b[0m"
      ]
     },
     "metadata": {},
     "output_type": "display_data"
    },
    {
     "data": {
      "text/html": [
       "<pre style=\"white-space:pre;overflow-x:auto;line-height:normal;font-family:Menlo,'DejaVu Sans Mono',consolas,'Courier New',monospace\"><span style=\"color: #800000; text-decoration-color: #800000\">  File \"/pkg/modal/_vendor/a2wsgi_wsgi.py\", line 597, in __call__\n",
       "    await self.loop.run_in_executor(\n",
       "</span></pre>\n"
      ],
      "text/plain": [
       "\u001b[31m  File \"/pkg/modal/_vendor/a2wsgi_wsgi.py\", line 597, in __call__\n",
       "    await self.loop.run_in_executor(\n",
       "\u001b[0m"
      ]
     },
     "metadata": {},
     "output_type": "display_data"
    },
    {
     "data": {
      "text/html": [
       "<pre style=\"white-space:pre;overflow-x:auto;line-height:normal;font-family:Menlo,'DejaVu Sans Mono',consolas,'Courier New',monospace\"><span style=\"color: #800000; text-decoration-color: #800000\">  File \"/usr/local/lib/python3.11/concurrent/futures/thread.py\", line 58, in run\n",
       "    result = self.fn(*self.args, **self.kwargs)\n",
       "             ^^^^^^^^^^^^^^^^^^^^^^^^^^^^^^^^^^\n",
       "</span></pre>\n"
      ],
      "text/plain": [
       "\u001b[31m  File \"/usr/local/lib/python3.11/concurrent/futures/thread.py\", line 58, in run\n",
       "    result = self.fn(*self.args, **self.kwargs)\n",
       "             ^^^^^^^^^^^^^^^^^^^^^^^^^^^^^^^^^^\n",
       "\u001b[0m"
      ]
     },
     "metadata": {},
     "output_type": "display_data"
    },
    {
     "data": {
      "text/html": [
       "<pre style=\"white-space:pre;overflow-x:auto;line-height:normal;font-family:Menlo,'DejaVu Sans Mono',consolas,'Courier New',monospace\"><span style=\"color: #800000; text-decoration-color: #800000\">  File \"/pkg/modal/_vendor/a2wsgi_wsgi.py\", line 653, in wsgi\n",
       "    iterable = self.app(environ, start_response)\n",
       "               ^^^^^^^^^^^^^^^^^^^^^^^^^^^^^^^^^\n",
       "</span></pre>\n"
      ],
      "text/plain": [
       "\u001b[31m  File \"/pkg/modal/_vendor/a2wsgi_wsgi.py\", line 653, in wsgi\n",
       "    iterable = self.app(environ, start_response)\n",
       "               ^^^^^^^^^^^^^^^^^^^^^^^^^^^^^^^^^\n",
       "\u001b[0m"
      ]
     },
     "metadata": {},
     "output_type": "display_data"
    },
    {
     "data": {
      "text/html": [
       "<pre style=\"white-space:pre;overflow-x:auto;line-height:normal;font-family:Menlo,'DejaVu Sans Mono',consolas,'Courier New',monospace\"><span style=\"color: #800000; text-decoration-color: #800000\">  File \"/usr/local/lib/python3.11/site-packages/tensorboard/backend/application.py\", line 528, in __call__\n",
       "    return self._app(environ, start_response)\n",
       "           ^^^^^^^^^^^^^^^^^^^^^^^^^^^^^^^^^^\n",
       "</span></pre>\n"
      ],
      "text/plain": [
       "\u001b[31m  File \"/usr/local/lib/python3.11/site-packages/tensorboard/backend/application.py\", line 528, in __call__\n",
       "    return self._app(environ, start_response)\n",
       "           ^^^^^^^^^^^^^^^^^^^^^^^^^^^^^^^^^^\n",
       "\u001b[0m"
      ]
     },
     "metadata": {},
     "output_type": "display_data"
    },
    {
     "data": {
      "text/html": [
       "<pre style=\"white-space:pre;overflow-x:auto;line-height:normal;font-family:Menlo,'DejaVu Sans Mono',consolas,'Courier New',monospace\"><span style=\"color: #800000; text-decoration-color: #800000\">  File \"/usr/local/lib/python3.11/site-packages/tensorboard/backend/application.py\", line 569, in wrapper\n",
       "    return wsgi_app(environ, start_response)\n",
       "           ^^^^^^^^^^^^^^^^^^^^^^^^^^^^^^^^^\n",
       "</span></pre>\n"
      ],
      "text/plain": [
       "\u001b[31m  File \"/usr/local/lib/python3.11/site-packages/tensorboard/backend/application.py\", line 569, in wrapper\n",
       "    return wsgi_app(environ, start_response)\n",
       "           ^^^^^^^^^^^^^^^^^^^^^^^^^^^^^^^^^\n",
       "\u001b[0m"
      ]
     },
     "metadata": {},
     "output_type": "display_data"
    },
    {
     "data": {
      "text/html": [
       "<pre style=\"white-space:pre;overflow-x:auto;line-height:normal;font-family:Menlo,'DejaVu Sans Mono',consolas,'Courier New',monospace\"><span style=\"color: #800000; text-decoration-color: #800000\">  File \"/usr/local/lib/python3.11/site-packages/tensorboard/backend/security_validator.py\", line 91, in __call__\n",
       "    return self._application(environ, start_response_proxy)\n",
       "           ^^^^^^^^^^^^^^^^^^^^^^^^^^^^^^^^^^^^^^^^^^^^^^^^\n",
       "</span></pre>\n"
      ],
      "text/plain": [
       "\u001b[31m  File \"/usr/local/lib/python3.11/site-packages/tensorboard/backend/security_validator.py\", line 91, in __call__\n",
       "    return self._application(environ, start_response_proxy)\n",
       "           ^^^^^^^^^^^^^^^^^^^^^^^^^^^^^^^^^^^^^^^^^^^^^^^^\n",
       "\u001b[0m"
      ]
     },
     "metadata": {},
     "output_type": "display_data"
    },
    {
     "data": {
      "text/html": [
       "<pre style=\"white-space:pre;overflow-x:auto;line-height:normal;font-family:Menlo,'DejaVu Sans Mono',consolas,'Courier New',monospace\"><span style=\"color: #800000; text-decoration-color: #800000\">  File \"/usr/local/lib/python3.11/site-packages/tensorboard/backend/path_prefix.py\", line 68, in __call__\n",
       "    return self._application(environ, start_response)\n",
       "           ^^^^^^^^^^^^^^^^^^^^^^^^^^^^^^^^^^^^^^^^^^\n",
       "</span></pre>\n"
      ],
      "text/plain": [
       "\u001b[31m  File \"/usr/local/lib/python3.11/site-packages/tensorboard/backend/path_prefix.py\", line 68, in __call__\n",
       "    return self._application(environ, start_response)\n",
       "           ^^^^^^^^^^^^^^^^^^^^^^^^^^^^^^^^^^^^^^^^^^\n",
       "\u001b[0m"
      ]
     },
     "metadata": {},
     "output_type": "display_data"
    },
    {
     "data": {
      "text/html": [
       "<pre style=\"white-space:pre;overflow-x:auto;line-height:normal;font-family:Menlo,'DejaVu Sans Mono',consolas,'Courier New',monospace\"><span style=\"color: #800000; text-decoration-color: #800000\">  File \"/usr/local/lib/python3.11/site-packages/tensorboard/backend/experiment_id.py\", line 73, in __call__\n",
       "    return self._application(environ, start_response)\n",
       "           ^^^^^^^^^^^^^^^^^^^^^^^^^^^^^^^^^^^^^^^^^^\n",
       "</span></pre>\n"
      ],
      "text/plain": [
       "\u001b[31m  File \"/usr/local/lib/python3.11/site-packages/tensorboard/backend/experiment_id.py\", line 73, in __call__\n",
       "    return self._application(environ, start_response)\n",
       "           ^^^^^^^^^^^^^^^^^^^^^^^^^^^^^^^^^^^^^^^^^^\n",
       "\u001b[0m"
      ]
     },
     "metadata": {},
     "output_type": "display_data"
    },
    {
     "data": {
      "text/html": [
       "<pre style=\"white-space:pre;overflow-x:auto;line-height:normal;font-family:Menlo,'DejaVu Sans Mono',consolas,'Courier New',monospace\"><span style=\"color: #800000; text-decoration-color: #800000\">  File \"/usr/local/lib/python3.11/site-packages/tensorboard/backend/empty_path_redirect.py\", line 43, in __call__\n",
       "    return self._application(environ, start_response)\n",
       "           ^^^^^^^^^^^^^^^^^^^^^^^^^^^^^^^^^^^^^^^^^^\n",
       "</span></pre>\n"
      ],
      "text/plain": [
       "\u001b[31m  File \"/usr/local/lib/python3.11/site-packages/tensorboard/backend/empty_path_redirect.py\", line 43, in __call__\n",
       "    return self._application(environ, start_response)\n",
       "           ^^^^^^^^^^^^^^^^^^^^^^^^^^^^^^^^^^^^^^^^^^\n",
       "\u001b[0m"
      ]
     },
     "metadata": {},
     "output_type": "display_data"
    },
    {
     "data": {
      "text/html": [
       "<pre style=\"white-space:pre;overflow-x:auto;line-height:normal;font-family:Menlo,'DejaVu Sans Mono',consolas,'Courier New',monospace\"><span style=\"color: #800000; text-decoration-color: #800000\">  File \"/usr/local/lib/python3.11/site-packages/tensorboard/backend/client_feature_flags.py\", line 55, in __call__\n",
       "    return self._application(environ, start_response)\n",
       "           ^^^^^^^^^^^^^^^^^^^^^^^^^^^^^^^^^^^^^^^^^^\n",
       "</span></pre>\n"
      ],
      "text/plain": [
       "\u001b[31m  File \"/usr/local/lib/python3.11/site-packages/tensorboard/backend/client_feature_flags.py\", line 55, in __call__\n",
       "    return self._application(environ, start_response)\n",
       "           ^^^^^^^^^^^^^^^^^^^^^^^^^^^^^^^^^^^^^^^^^^\n",
       "\u001b[0m"
      ]
     },
     "metadata": {},
     "output_type": "display_data"
    },
    {
     "data": {
      "text/html": [
       "<pre style=\"white-space:pre;overflow-x:auto;line-height:normal;font-family:Menlo,'DejaVu Sans Mono',consolas,'Courier New',monospace\"><span style=\"color: #800000; text-decoration-color: #800000\">  File \"/usr/local/lib/python3.11/site-packages/tensorboard/backend/auth_context_middleware.py\", line 38, in __call__\n",
       "    return self._application(environ, start_response)\n",
       "           ^^^^^^^^^^^^^^^^^^^^^^^^^^^^^^^^^^^^^^^^^^\n",
       "</span></pre>\n"
      ],
      "text/plain": [
       "\u001b[31m  File \"/usr/local/lib/python3.11/site-packages/tensorboard/backend/auth_context_middleware.py\", line 38, in __call__\n",
       "    return self._application(environ, start_response)\n",
       "           ^^^^^^^^^^^^^^^^^^^^^^^^^^^^^^^^^^^^^^^^^^\n",
       "\u001b[0m"
      ]
     },
     "metadata": {},
     "output_type": "display_data"
    },
    {
     "data": {
      "text/html": [
       "<pre style=\"white-space:pre;overflow-x:auto;line-height:normal;font-family:Menlo,'DejaVu Sans Mono',consolas,'Courier New',monospace\"><span style=\"color: #800000; text-decoration-color: #800000\">  File \"/usr/local/lib/python3.11/site-packages/tensorboard/backend/application.py\", line 551, in _route_request\n",
       "    return self.exact_routes[clean_path](environ, start_response)\n",
       "           ^^^^^^^^^^^^^^^^^^^^^^^^^^^^^^^^^^^^^^^^^^^^^^^^^^^^^^\n",
       "</span></pre>\n"
      ],
      "text/plain": [
       "\u001b[31m  File \"/usr/local/lib/python3.11/site-packages/tensorboard/backend/application.py\", line 551, in _route_request\n",
       "    return self.exact_routes[clean_path](environ, start_response)\n",
       "           ^^^^^^^^^^^^^^^^^^^^^^^^^^^^^^^^^^^^^^^^^^^^^^^^^^^^^^\n",
       "\u001b[0m"
      ]
     },
     "metadata": {},
     "output_type": "display_data"
    },
    {
     "data": {
      "text/html": [
       "<pre style=\"white-space:pre;overflow-x:auto;line-height:normal;font-family:Menlo,'DejaVu Sans Mono',consolas,'Courier New',monospace\"><span style=\"color: #800000; text-decoration-color: #800000\">  File \"/usr/local/lib/python3.11/site-packages/werkzeug/wrappers/request.py\", line 189, in application\n",
       "    resp = f(*args[:-2] + (request,))\n",
       "           ^^^^^^^^^^^^^^^^^^^^^^^^^^\n",
       "</span></pre>\n"
      ],
      "text/plain": [
       "\u001b[31m  File \"/usr/local/lib/python3.11/site-packages/werkzeug/wrappers/request.py\", line 189, in application\n",
       "    resp = f(*args[:-2] + (request,))\n",
       "           ^^^^^^^^^^^^^^^^^^^^^^^^^^\n",
       "\u001b[0m"
      ]
     },
     "metadata": {},
     "output_type": "display_data"
    },
    {
     "data": {
      "text/html": [
       "<pre style=\"white-space:pre;overflow-x:auto;line-height:normal;font-family:Menlo,'DejaVu Sans Mono',consolas,'Courier New',monospace\"><span style=\"color: #800000; text-decoration-color: #800000\">  File \"/usr/local/lib/python3.11/site-packages/tensorboard/plugins/hparams/hparams_plugin.py\", line 121, in get_experiment_route\n",
       "    json_format.MessageToJson(\n",
       "</span></pre>\n"
      ],
      "text/plain": [
       "\u001b[31m  File \"/usr/local/lib/python3.11/site-packages/tensorboard/plugins/hparams/hparams_plugin.py\", line 121, in get_experiment_route\n",
       "    json_format.MessageToJson(\n",
       "\u001b[0m"
      ]
     },
     "metadata": {},
     "output_type": "display_data"
    },
    {
     "data": {
      "text/html": [
       "<pre style=\"white-space:pre;overflow-x:auto;line-height:normal;font-family:Menlo,'DejaVu Sans Mono',consolas,'Courier New',monospace\"><span style=\"color: #800000; text-decoration-color: #800000\">TypeError: MessageToJson() got an unexpected keyword argument 'including_default_value_fields'\n",
       "</span></pre>\n"
      ],
      "text/plain": [
       "\u001b[31mTypeError: MessageToJson() got an unexpected keyword argument 'including_default_value_fields'\n",
       "\u001b[0m"
      ]
     },
     "metadata": {},
     "output_type": "display_data"
    },
    {
     "data": {
      "text/html": [
       "<pre style=\"white-space:pre;overflow-x:auto;line-height:normal;font-family:Menlo,'DejaVu Sans Mono',consolas,'Courier New',monospace\"><span style=\"color: #800000; text-decoration-color: #800000\">ERROR:asyncio:Task was destroyed but it is pending!\n",
       "task: &lt;Task pending name='Task-59' coro=&lt;aio_generator_output_task() done, defined at /pkg/synchronicity/async_wrap.py:27&gt; wait_for=&lt;Future pending cb=[_chain_future.&lt;locals&gt;._call_check_cancel() at /usr/local/lib/python3.11/asyncio/futures.py:387, Task.task_wakeup()]&gt;&gt;\n",
       "</span></pre>\n"
      ],
      "text/plain": [
       "\u001b[31mERROR:asyncio:Task was destroyed but it is pending!\n",
       "task: <Task pending name='Task-59' coro=<aio_generator_output_task() done, defined at /pkg/synchronicity/async_wrap.py:27> wait_for=<Future pending cb=[_chain_future.<locals>._call_check_cancel() at /usr/local/lib/python3.11/asyncio/futures.py:387, Task.task_wakeup()]>>\n",
       "\u001b[0m"
      ]
     },
     "metadata": {},
     "output_type": "display_data"
    },
    {
     "data": {
      "text/html": [
       "<pre style=\"white-space:pre;overflow-x:auto;line-height:normal;font-family:Menlo,'DejaVu Sans Mono',consolas,'Courier New',monospace\"><span style=\"color: #800000; text-decoration-color: #800000\"></span></pre>\n"
      ],
      "text/plain": []
     },
     "metadata": {},
     "output_type": "display_data"
    },
    {
     "data": {
      "text/html": [
       "<pre style=\"white-space:pre;overflow-x:auto;line-height:normal;font-family:Menlo,'DejaVu Sans Mono',consolas,'Courier New',monospace\"><span style=\"color: #800000; text-decoration-color: #800000\"></span></pre>\n"
      ],
      "text/plain": []
     },
     "metadata": {},
     "output_type": "display_data"
    },
    {
     "data": {
      "text/html": [
       "<pre style=\"white-space:pre;overflow-x:auto;line-height:normal;font-family:Menlo,'DejaVu Sans Mono',consolas,'Courier New',monospace\"><span style=\"color: #800000; text-decoration-color: #800000\">Exception ignored in: &lt;coroutine object wrap_coro_exception.&lt;locals&gt;.coro_wrapped at 0x7fa6eda9a0a0&gt;\n",
       "</span></pre>\n"
      ],
      "text/plain": [
       "\u001b[31mException ignored in: <coroutine object wrap_coro_exception.<locals>.coro_wrapped at 0x7fa6eda9a0a0>\n",
       "\u001b[0m"
      ]
     },
     "metadata": {},
     "output_type": "display_data"
    },
    {
     "data": {
      "text/html": [
       "<pre style=\"white-space:pre;overflow-x:auto;line-height:normal;font-family:Menlo,'DejaVu Sans Mono',consolas,'Courier New',monospace\"><span style=\"color: #800000; text-decoration-color: #800000\">Traceback (most recent call last):\n",
       "</span></pre>\n"
      ],
      "text/plain": [
       "\u001b[31mTraceback (most recent call last):\n",
       "\u001b[0m"
      ]
     },
     "metadata": {},
     "output_type": "display_data"
    },
    {
     "data": {
      "text/html": [
       "<pre style=\"white-space:pre;overflow-x:auto;line-height:normal;font-family:Menlo,'DejaVu Sans Mono',consolas,'Courier New',monospace\"><span style=\"color: #800000; text-decoration-color: #800000\">  File \"/pkg/synchronicity/exceptions.py\", line 31, in coro_wrapped\n",
       "</span></pre>\n"
      ],
      "text/plain": [
       "\u001b[31m  File \"/pkg/synchronicity/exceptions.py\", line 31, in coro_wrapped\n",
       "\u001b[0m"
      ]
     },
     "metadata": {},
     "output_type": "display_data"
    },
    {
     "data": {
      "text/html": [
       "<pre style=\"white-space:pre;overflow-x:auto;line-height:normal;font-family:Menlo,'DejaVu Sans Mono',consolas,'Courier New',monospace\"><span style=\"color: #800000; text-decoration-color: #800000\"></span></pre>\n"
      ],
      "text/plain": []
     },
     "metadata": {},
     "output_type": "display_data"
    },
    {
     "data": {
      "text/html": [
       "<pre style=\"white-space:pre;overflow-x:auto;line-height:normal;font-family:Menlo,'DejaVu Sans Mono',consolas,'Courier New',monospace\"><span style=\"color: #800000; text-decoration-color: #800000\"></span></pre>\n"
      ],
      "text/plain": []
     },
     "metadata": {},
     "output_type": "display_data"
    },
    {
     "data": {
      "text/html": [
       "<pre style=\"white-space:pre;overflow-x:auto;line-height:normal;font-family:Menlo,'DejaVu Sans Mono',consolas,'Courier New',monospace\"><span style=\"color: #800000; text-decoration-color: #800000\">    raise UserCodeException(exc)\n",
       "</span></pre>\n"
      ],
      "text/plain": [
       "\u001b[31m    raise UserCodeException(exc)\n",
       "\u001b[0m"
      ]
     },
     "metadata": {},
     "output_type": "display_data"
    },
    {
     "data": {
      "text/html": [
       "<pre style=\"white-space:pre;overflow-x:auto;line-height:normal;font-family:Menlo,'DejaVu Sans Mono',consolas,'Courier New',monospace\"><span style=\"color: #800000; text-decoration-color: #800000\"></span></pre>\n"
      ],
      "text/plain": []
     },
     "metadata": {},
     "output_type": "display_data"
    },
    {
     "data": {
      "text/html": [
       "<pre style=\"white-space:pre;overflow-x:auto;line-height:normal;font-family:Menlo,'DejaVu Sans Mono',consolas,'Courier New',monospace\"><span style=\"color: #800000; text-decoration-color: #800000\"></span></pre>\n"
      ],
      "text/plain": []
     },
     "metadata": {},
     "output_type": "display_data"
    },
    {
     "data": {
      "text/html": [
       "<pre style=\"white-space:pre;overflow-x:auto;line-height:normal;font-family:Menlo,'DejaVu Sans Mono',consolas,'Courier New',monospace\"><span style=\"color: #800000; text-decoration-color: #800000\"></span></pre>\n"
      ],
      "text/plain": []
     },
     "metadata": {},
     "output_type": "display_data"
    },
    {
     "data": {
      "text/html": [
       "<pre style=\"white-space:pre;overflow-x:auto;line-height:normal;font-family:Menlo,'DejaVu Sans Mono',consolas,'Courier New',monospace\"><span style=\"color: #800000; text-decoration-color: #800000\"></span></pre>\n"
      ],
      "text/plain": []
     },
     "metadata": {},
     "output_type": "display_data"
    },
    {
     "data": {
      "text/html": [
       "<pre style=\"white-space:pre;overflow-x:auto;line-height:normal;font-family:Menlo,'DejaVu Sans Mono',consolas,'Courier New',monospace\"><span style=\"color: #800000; text-decoration-color: #800000\">synchronicity.exceptions.UserCodeException: \n",
       "</span></pre>\n"
      ],
      "text/plain": [
       "\u001b[31msynchronicity.exceptions.UserCodeException: \n",
       "\u001b[0m"
      ]
     },
     "metadata": {},
     "output_type": "display_data"
    },
    {
     "data": {
      "text/html": [
       "<pre style=\"white-space:pre;overflow-x:auto;line-height:normal;font-family:Menlo,'DejaVu Sans Mono',consolas,'Courier New',monospace\"><span style=\"color: #800000; text-decoration-color: #800000\">ERROR:asyncio:Task was destroyed but it is pending!\n",
       "task: &lt;Task pending name='Task-65' coro=&lt;Synchronizer._wrap_check_async_leakage.&lt;locals&gt;.coro_wrapped() done, defined at /pkg/synchronicity/synchronizer.py:214&gt; wait_for=&lt;Future cancelled&gt; cb=[_chain_future.&lt;locals&gt;._call_set_state() at /usr/local/lib/python3.11/asyncio/futures.py:394]&gt;\n",
       "</span></pre>\n"
      ],
      "text/plain": [
       "\u001b[31mERROR:asyncio:Task was destroyed but it is pending!\n",
       "task: <Task pending name='Task-65' coro=<Synchronizer._wrap_check_async_leakage.<locals>.coro_wrapped() done, defined at /pkg/synchronicity/synchronizer.py:214> wait_for=<Future cancelled> cb=[_chain_future.<locals>._call_set_state() at /usr/local/lib/python3.11/asyncio/futures.py:394]>\n",
       "\u001b[0m"
      ]
     },
     "metadata": {},
     "output_type": "display_data"
    },
    {
     "data": {
      "text/html": [
       "<pre style=\"white-space:pre;overflow-x:auto;line-height:normal;font-family:Menlo,'DejaVu Sans Mono',consolas,'Courier New',monospace\"><span style=\"color: #808000; text-decoration-color: #808000\">    GET /experiment/defaultExperimentId/data/runs -&gt; 200 OK  (duration: 167.3 ms, execution: 13.2 ms)\n",
       "</span></pre>\n"
      ],
      "text/plain": [
       "\u001b[33m    GET /experiment/defaultExperimentId/data/runs -> 200 OK  (duration: 167.3 ms, execution: 13.2 ms)\n",
       "\u001b[0m"
      ]
     },
     "metadata": {},
     "output_type": "display_data"
    },
    {
     "data": {
      "text/html": [
       "<pre style=\"white-space:pre;overflow-x:auto;line-height:normal;font-family:Menlo,'DejaVu Sans Mono',consolas,'Courier New',monospace\"><span style=\"color: #808000; text-decoration-color: #808000\">    GET /data/environment -&gt; 200 OK  (duration: 188.5 ms, execution: 91.0 ms)\n",
       "</span></pre>\n"
      ],
      "text/plain": [
       "\u001b[33m    GET /data/environment -> 200 OK  (duration: 188.5 ms, execution: 91.0 ms)\n",
       "\u001b[0m"
      ]
     },
     "metadata": {},
     "output_type": "display_data"
    },
    {
     "data": {
      "text/html": [
       "<pre style=\"white-space:pre;overflow-x:auto;line-height:normal;font-family:Menlo,'DejaVu Sans Mono',consolas,'Courier New',monospace\"><span style=\"color: #808000; text-decoration-color: #808000\">    GET /data/runs -&gt; 200 OK  (duration: 263.6 ms, execution: 78.8 ms)\n",
       "</span></pre>\n"
      ],
      "text/plain": [
       "\u001b[33m    GET /data/runs -> 200 OK  (duration: 263.6 ms, execution: 78.8 ms)\n",
       "\u001b[0m"
      ]
     },
     "metadata": {},
     "output_type": "display_data"
    },
    {
     "data": {
      "text/html": [
       "<pre style=\"white-space:pre;overflow-x:auto;line-height:normal;font-family:Menlo,'DejaVu Sans Mono',consolas,'Courier New',monospace\"><span style=\"color: #808000; text-decoration-color: #808000\">    GET /data/plugins_listing -&gt; 200 OK  (duration: 280.9 ms, execution: 90.3 ms)\n",
       "</span></pre>\n"
      ],
      "text/plain": [
       "\u001b[33m    GET /data/plugins_listing -> 200 OK  (duration: 280.9 ms, execution: 90.3 ms)\n",
       "\u001b[0m"
      ]
     },
     "metadata": {},
     "output_type": "display_data"
    },
    {
     "data": {
      "text/html": [
       "<pre style=\"white-space:pre;overflow-x:auto;line-height:normal;font-family:Menlo,'DejaVu Sans Mono',consolas,'Courier New',monospace\"><span style=\"color: #808000; text-decoration-color: #808000\">    GET /data/environment -&gt; 200 OK  (duration: 161.6 ms, execution: 28.3 ms)\n",
       "</span></pre>\n"
      ],
      "text/plain": [
       "\u001b[33m    GET /data/environment -> 200 OK  (duration: 161.6 ms, execution: 28.3 ms)\n",
       "\u001b[0m"
      ]
     },
     "metadata": {},
     "output_type": "display_data"
    },
    {
     "data": {
      "text/html": [
       "<pre style=\"white-space:pre;overflow-x:auto;line-height:normal;font-family:Menlo,'DejaVu Sans Mono',consolas,'Courier New',monospace\"><span style=\"color: #808000; text-decoration-color: #808000\">    GET /data/plugin/scalars/tags -&gt; 200 OK  (duration: 114.4 ms, execution: 15.4 ms)\n",
       "</span></pre>\n"
      ],
      "text/plain": [
       "\u001b[33m    GET /data/plugin/scalars/tags -> 200 OK  (duration: 114.4 ms, execution: 15.4 ms)\n",
       "\u001b[0m"
      ]
     },
     "metadata": {},
     "output_type": "display_data"
    },
    {
     "data": {
      "text/html": [
       "<pre style=\"white-space:pre;overflow-x:auto;line-height:normal;font-family:Menlo,'DejaVu Sans Mono',consolas,'Courier New',monospace\"><span style=\"color: #800000; text-decoration-color: #800000\">Traceback (most recent call last):\n",
       "</span></pre>\n"
      ],
      "text/plain": [
       "\u001b[31mTraceback (most recent call last):\n",
       "\u001b[0m"
      ]
     },
     "metadata": {},
     "output_type": "display_data"
    },
    {
     "data": {
      "text/html": [
       "<pre style=\"white-space:pre;overflow-x:auto;line-height:normal;font-family:Menlo,'DejaVu Sans Mono',consolas,'Courier New',monospace\"><span style=\"color: #800000; text-decoration-color: #800000\">  File \"/pkg/modal/_container_io_manager.py\", line 488, in handle_input_exception\n",
       "    yield\n",
       "</span></pre>\n"
      ],
      "text/plain": [
       "\u001b[31m  File \"/pkg/modal/_container_io_manager.py\", line 488, in handle_input_exception\n",
       "    yield\n",
       "\u001b[0m"
      ]
     },
     "metadata": {},
     "output_type": "display_data"
    },
    {
     "data": {
      "text/html": [
       "<pre style=\"white-space:pre;overflow-x:auto;line-height:normal;font-family:Menlo,'DejaVu Sans Mono',consolas,'Courier New',monospace\"><span style=\"color: #800000; text-decoration-color: #800000\">  File \"/pkg/modal/_container_entrypoint.py\", line 244, in run_input\n",
       "    async for value in res:\n",
       "</span></pre>\n"
      ],
      "text/plain": [
       "\u001b[31m  File \"/pkg/modal/_container_entrypoint.py\", line 244, in run_input\n",
       "    async for value in res:\n",
       "\u001b[0m"
      ]
     },
     "metadata": {},
     "output_type": "display_data"
    },
    {
     "data": {
      "text/html": [
       "<pre style=\"white-space:pre;overflow-x:auto;line-height:normal;font-family:Menlo,'DejaVu Sans Mono',consolas,'Courier New',monospace\"><span style=\"color: #800000; text-decoration-color: #800000\">  File \"/pkg/modal/_asgi.py\", line 126, in fn\n",
       "    app_task.result()  # consume/raise exceptions if there are any!\n",
       "    ^^^^^^^^^^^^^^^^^\n",
       "</span></pre>\n"
      ],
      "text/plain": [
       "\u001b[31m  File \"/pkg/modal/_asgi.py\", line 126, in fn\n",
       "    app_task.result()  # consume/raise exceptions if there are any!\n",
       "    ^^^^^^^^^^^^^^^^^\n",
       "\u001b[0m"
      ]
     },
     "metadata": {},
     "output_type": "display_data"
    },
    {
     "data": {
      "text/html": [
       "<pre style=\"white-space:pre;overflow-x:auto;line-height:normal;font-family:Menlo,'DejaVu Sans Mono',consolas,'Courier New',monospace\"><span style=\"color: #800000; text-decoration-color: #800000\">  File \"/pkg/modal/_vendor/a2wsgi_wsgi.py\", line 562, in __call__\n",
       "    return await responder(scope, receive, send)\n",
       "           ^^^^^^^^^^^^^^^^^^^^^^^^^^^^^^^^^^^^^\n",
       "</span></pre>\n"
      ],
      "text/plain": [
       "\u001b[31m  File \"/pkg/modal/_vendor/a2wsgi_wsgi.py\", line 562, in __call__\n",
       "    return await responder(scope, receive, send)\n",
       "           ^^^^^^^^^^^^^^^^^^^^^^^^^^^^^^^^^^^^^\n",
       "\u001b[0m"
      ]
     },
     "metadata": {},
     "output_type": "display_data"
    },
    {
     "data": {
      "text/html": [
       "<pre style=\"white-space:pre;overflow-x:auto;line-height:normal;font-family:Menlo,'DejaVu Sans Mono',consolas,'Courier New',monospace\"><span style=\"color: #800000; text-decoration-color: #800000\">  File \"/pkg/modal/_vendor/a2wsgi_wsgi.py\", line 597, in __call__\n",
       "    await self.loop.run_in_executor(\n",
       "</span></pre>\n"
      ],
      "text/plain": [
       "\u001b[31m  File \"/pkg/modal/_vendor/a2wsgi_wsgi.py\", line 597, in __call__\n",
       "    await self.loop.run_in_executor(\n",
       "\u001b[0m"
      ]
     },
     "metadata": {},
     "output_type": "display_data"
    },
    {
     "data": {
      "text/html": [
       "<pre style=\"white-space:pre;overflow-x:auto;line-height:normal;font-family:Menlo,'DejaVu Sans Mono',consolas,'Courier New',monospace\"><span style=\"color: #800000; text-decoration-color: #800000\">  File \"/usr/local/lib/python3.11/concurrent/futures/thread.py\", line 58, in run\n",
       "    result = self.fn(*self.args, **self.kwargs)\n",
       "             ^^^^^^^^^^^^^^^^^^^^^^^^^^^^^^^^^^\n",
       "</span></pre>\n"
      ],
      "text/plain": [
       "\u001b[31m  File \"/usr/local/lib/python3.11/concurrent/futures/thread.py\", line 58, in run\n",
       "    result = self.fn(*self.args, **self.kwargs)\n",
       "             ^^^^^^^^^^^^^^^^^^^^^^^^^^^^^^^^^^\n",
       "\u001b[0m"
      ]
     },
     "metadata": {},
     "output_type": "display_data"
    },
    {
     "data": {
      "text/html": [
       "<pre style=\"white-space:pre;overflow-x:auto;line-height:normal;font-family:Menlo,'DejaVu Sans Mono',consolas,'Courier New',monospace\"><span style=\"color: #800000; text-decoration-color: #800000\">  File \"/pkg/modal/_vendor/a2wsgi_wsgi.py\", line 653, in wsgi\n",
       "    iterable = self.app(environ, start_response)\n",
       "               ^^^^^^^^^^^^^^^^^^^^^^^^^^^^^^^^^\n",
       "</span></pre>\n"
      ],
      "text/plain": [
       "\u001b[31m  File \"/pkg/modal/_vendor/a2wsgi_wsgi.py\", line 653, in wsgi\n",
       "    iterable = self.app(environ, start_response)\n",
       "               ^^^^^^^^^^^^^^^^^^^^^^^^^^^^^^^^^\n",
       "\u001b[0m"
      ]
     },
     "metadata": {},
     "output_type": "display_data"
    },
    {
     "data": {
      "text/html": [
       "<pre style=\"white-space:pre;overflow-x:auto;line-height:normal;font-family:Menlo,'DejaVu Sans Mono',consolas,'Courier New',monospace\"><span style=\"color: #800000; text-decoration-color: #800000\">  File \"/usr/local/lib/python3.11/site-packages/tensorboard/backend/application.py\", line 528, in __call__\n",
       "    return self._app(environ, start_response)\n",
       "           ^^^^^^^^^^^^^^^^^^^^^^^^^^^^^^^^^^\n",
       "</span></pre>\n"
      ],
      "text/plain": [
       "\u001b[31m  File \"/usr/local/lib/python3.11/site-packages/tensorboard/backend/application.py\", line 528, in __call__\n",
       "    return self._app(environ, start_response)\n",
       "           ^^^^^^^^^^^^^^^^^^^^^^^^^^^^^^^^^^\n",
       "\u001b[0m"
      ]
     },
     "metadata": {},
     "output_type": "display_data"
    },
    {
     "data": {
      "text/html": [
       "<pre style=\"white-space:pre;overflow-x:auto;line-height:normal;font-family:Menlo,'DejaVu Sans Mono',consolas,'Courier New',monospace\"><span style=\"color: #800000; text-decoration-color: #800000\">  File \"/usr/local/lib/python3.11/site-packages/tensorboard/backend/application.py\", line 569, in wrapper\n",
       "    return wsgi_app(environ, start_response)\n",
       "           ^^^^^^^^^^^^^^^^^^^^^^^^^^^^^^^^^\n",
       "</span></pre>\n"
      ],
      "text/plain": [
       "\u001b[31m  File \"/usr/local/lib/python3.11/site-packages/tensorboard/backend/application.py\", line 569, in wrapper\n",
       "    return wsgi_app(environ, start_response)\n",
       "           ^^^^^^^^^^^^^^^^^^^^^^^^^^^^^^^^^\n",
       "\u001b[0m"
      ]
     },
     "metadata": {},
     "output_type": "display_data"
    },
    {
     "data": {
      "text/html": [
       "<pre style=\"white-space:pre;overflow-x:auto;line-height:normal;font-family:Menlo,'DejaVu Sans Mono',consolas,'Courier New',monospace\"><span style=\"color: #800000; text-decoration-color: #800000\">  File \"/usr/local/lib/python3.11/site-packages/tensorboard/backend/security_validator.py\", line 91, in __call__\n",
       "    return self._application(environ, start_response_proxy)\n",
       "           ^^^^^^^^^^^^^^^^^^^^^^^^^^^^^^^^^^^^^^^^^^^^^^^^\n",
       "</span></pre>\n"
      ],
      "text/plain": [
       "\u001b[31m  File \"/usr/local/lib/python3.11/site-packages/tensorboard/backend/security_validator.py\", line 91, in __call__\n",
       "    return self._application(environ, start_response_proxy)\n",
       "           ^^^^^^^^^^^^^^^^^^^^^^^^^^^^^^^^^^^^^^^^^^^^^^^^\n",
       "\u001b[0m"
      ]
     },
     "metadata": {},
     "output_type": "display_data"
    },
    {
     "data": {
      "text/html": [
       "<pre style=\"white-space:pre;overflow-x:auto;line-height:normal;font-family:Menlo,'DejaVu Sans Mono',consolas,'Courier New',monospace\"><span style=\"color: #800000; text-decoration-color: #800000\">  File \"/usr/local/lib/python3.11/site-packages/tensorboard/backend/path_prefix.py\", line 68, in __call__\n",
       "    return self._application(environ, start_response)\n",
       "           ^^^^^^^^^^^^^^^^^^^^^^^^^^^^^^^^^^^^^^^^^^\n",
       "</span></pre>\n"
      ],
      "text/plain": [
       "\u001b[31m  File \"/usr/local/lib/python3.11/site-packages/tensorboard/backend/path_prefix.py\", line 68, in __call__\n",
       "    return self._application(environ, start_response)\n",
       "           ^^^^^^^^^^^^^^^^^^^^^^^^^^^^^^^^^^^^^^^^^^\n",
       "\u001b[0m"
      ]
     },
     "metadata": {},
     "output_type": "display_data"
    },
    {
     "data": {
      "text/html": [
       "<pre style=\"white-space:pre;overflow-x:auto;line-height:normal;font-family:Menlo,'DejaVu Sans Mono',consolas,'Courier New',monospace\"><span style=\"color: #800000; text-decoration-color: #800000\">  File \"/usr/local/lib/python3.11/site-packages/tensorboard/backend/experiment_id.py\", line 73, in __call__\n",
       "    return self._application(environ, start_response)\n",
       "           ^^^^^^^^^^^^^^^^^^^^^^^^^^^^^^^^^^^^^^^^^^\n",
       "</span></pre>\n"
      ],
      "text/plain": [
       "\u001b[31m  File \"/usr/local/lib/python3.11/site-packages/tensorboard/backend/experiment_id.py\", line 73, in __call__\n",
       "    return self._application(environ, start_response)\n",
       "           ^^^^^^^^^^^^^^^^^^^^^^^^^^^^^^^^^^^^^^^^^^\n",
       "\u001b[0m"
      ]
     },
     "metadata": {},
     "output_type": "display_data"
    },
    {
     "data": {
      "text/html": [
       "<pre style=\"white-space:pre;overflow-x:auto;line-height:normal;font-family:Menlo,'DejaVu Sans Mono',consolas,'Courier New',monospace\"><span style=\"color: #800000; text-decoration-color: #800000\">  File \"/usr/local/lib/python3.11/site-packages/tensorboard/backend/empty_path_redirect.py\", line 43, in __call__\n",
       "    return self._application(environ, start_response)\n",
       "           ^^^^^^^^^^^^^^^^^^^^^^^^^^^^^^^^^^^^^^^^^^\n",
       "</span></pre>\n"
      ],
      "text/plain": [
       "\u001b[31m  File \"/usr/local/lib/python3.11/site-packages/tensorboard/backend/empty_path_redirect.py\", line 43, in __call__\n",
       "    return self._application(environ, start_response)\n",
       "           ^^^^^^^^^^^^^^^^^^^^^^^^^^^^^^^^^^^^^^^^^^\n",
       "\u001b[0m"
      ]
     },
     "metadata": {},
     "output_type": "display_data"
    },
    {
     "data": {
      "text/html": [
       "<pre style=\"white-space:pre;overflow-x:auto;line-height:normal;font-family:Menlo,'DejaVu Sans Mono',consolas,'Courier New',monospace\"><span style=\"color: #800000; text-decoration-color: #800000\">  File \"/usr/local/lib/python3.11/site-packages/tensorboard/backend/client_feature_flags.py\", line 55, in __call__\n",
       "    return self._application(environ, start_response)\n",
       "           ^^^^^^^^^^^^^^^^^^^^^^^^^^^^^^^^^^^^^^^^^^\n",
       "</span></pre>\n"
      ],
      "text/plain": [
       "\u001b[31m  File \"/usr/local/lib/python3.11/site-packages/tensorboard/backend/client_feature_flags.py\", line 55, in __call__\n",
       "    return self._application(environ, start_response)\n",
       "           ^^^^^^^^^^^^^^^^^^^^^^^^^^^^^^^^^^^^^^^^^^\n",
       "\u001b[0m"
      ]
     },
     "metadata": {},
     "output_type": "display_data"
    },
    {
     "data": {
      "text/html": [
       "<pre style=\"white-space:pre;overflow-x:auto;line-height:normal;font-family:Menlo,'DejaVu Sans Mono',consolas,'Courier New',monospace\"><span style=\"color: #800000; text-decoration-color: #800000\">  File \"/usr/local/lib/python3.11/site-packages/tensorboard/backend/auth_context_middleware.py\", line 38, in __call__\n",
       "    return self._application(environ, start_response)\n",
       "           ^^^^^^^^^^^^^^^^^^^^^^^^^^^^^^^^^^^^^^^^^^\n",
       "</span></pre>\n"
      ],
      "text/plain": [
       "\u001b[31m  File \"/usr/local/lib/python3.11/site-packages/tensorboard/backend/auth_context_middleware.py\", line 38, in __call__\n",
       "    return self._application(environ, start_response)\n",
       "           ^^^^^^^^^^^^^^^^^^^^^^^^^^^^^^^^^^^^^^^^^^\n",
       "\u001b[0m"
      ]
     },
     "metadata": {},
     "output_type": "display_data"
    },
    {
     "data": {
      "text/html": [
       "<pre style=\"white-space:pre;overflow-x:auto;line-height:normal;font-family:Menlo,'DejaVu Sans Mono',consolas,'Courier New',monospace\"><span style=\"color: #800000; text-decoration-color: #800000\">  File \"/usr/local/lib/python3.11/site-packages/tensorboard/backend/application.py\", line 551, in _route_request\n",
       "    return self.exact_routes[clean_path](environ, start_response)\n",
       "           ^^^^^^^^^^^^^^^^^^^^^^^^^^^^^^^^^^^^^^^^^^^^^^^^^^^^^^\n",
       "</span></pre>\n"
      ],
      "text/plain": [
       "\u001b[31m  File \"/usr/local/lib/python3.11/site-packages/tensorboard/backend/application.py\", line 551, in _route_request\n",
       "    return self.exact_routes[clean_path](environ, start_response)\n",
       "           ^^^^^^^^^^^^^^^^^^^^^^^^^^^^^^^^^^^^^^^^^^^^^^^^^^^^^^\n",
       "\u001b[0m"
      ]
     },
     "metadata": {},
     "output_type": "display_data"
    },
    {
     "data": {
      "text/html": [
       "<pre style=\"white-space:pre;overflow-x:auto;line-height:normal;font-family:Menlo,'DejaVu Sans Mono',consolas,'Courier New',monospace\"><span style=\"color: #800000; text-decoration-color: #800000\">  File \"/usr/local/lib/python3.11/site-packages/werkzeug/wrappers/request.py\", line 189, in application\n",
       "    resp = f(*args[:-2] + (request,))\n",
       "           ^^^^^^^^^^^^^^^^^^^^^^^^^^\n",
       "</span></pre>\n"
      ],
      "text/plain": [
       "\u001b[31m  File \"/usr/local/lib/python3.11/site-packages/werkzeug/wrappers/request.py\", line 189, in application\n",
       "    resp = f(*args[:-2] + (request,))\n",
       "           ^^^^^^^^^^^^^^^^^^^^^^^^^^\n",
       "\u001b[0m"
      ]
     },
     "metadata": {},
     "output_type": "display_data"
    },
    {
     "data": {
      "text/html": [
       "<pre style=\"white-space:pre;overflow-x:auto;line-height:normal;font-family:Menlo,'DejaVu Sans Mono',consolas,'Courier New',monospace\"><span style=\"color: #800000; text-decoration-color: #800000\">  File \"/usr/local/lib/python3.11/site-packages/tensorboard/plugins/hparams/hparams_plugin.py\", line 121, in get_experiment_route\n",
       "    json_format.MessageToJson(\n",
       "</span></pre>\n"
      ],
      "text/plain": [
       "\u001b[31m  File \"/usr/local/lib/python3.11/site-packages/tensorboard/plugins/hparams/hparams_plugin.py\", line 121, in get_experiment_route\n",
       "    json_format.MessageToJson(\n",
       "\u001b[0m"
      ]
     },
     "metadata": {},
     "output_type": "display_data"
    },
    {
     "data": {
      "text/html": [
       "<pre style=\"white-space:pre;overflow-x:auto;line-height:normal;font-family:Menlo,'DejaVu Sans Mono',consolas,'Courier New',monospace\"><span style=\"color: #800000; text-decoration-color: #800000\">TypeError: MessageToJson() got an unexpected keyword argument 'including_default_value_fields'\n",
       "</span></pre>\n"
      ],
      "text/plain": [
       "\u001b[31mTypeError: MessageToJson() got an unexpected keyword argument 'including_default_value_fields'\n",
       "\u001b[0m"
      ]
     },
     "metadata": {},
     "output_type": "display_data"
    },
    {
     "data": {
      "text/html": [
       "<pre style=\"white-space:pre;overflow-x:auto;line-height:normal;font-family:Menlo,'DejaVu Sans Mono',consolas,'Courier New',monospace\"><span style=\"color: #808000; text-decoration-color: #808000\">    GET /data/plugins_listing -&gt; 200 OK  (duration: 190.8 ms, execution: 90.9 ms)\n",
       "</span></pre>\n"
      ],
      "text/plain": [
       "\u001b[33m    GET /data/plugins_listing -> 200 OK  (duration: 190.8 ms, execution: 90.9 ms)\n",
       "\u001b[0m"
      ]
     },
     "metadata": {},
     "output_type": "display_data"
    },
    {
     "data": {
      "text/html": [
       "<pre style=\"white-space:pre;overflow-x:auto;line-height:normal;font-family:Menlo,'DejaVu Sans Mono',consolas,'Courier New',monospace\"><span style=\"color: #808000; text-decoration-color: #808000\">    GET /experiment/defaultExperimentId/data/runs -&gt; 200 OK  (duration: 237.3 ms, execution: 74.2 ms)\n",
       "</span></pre>\n"
      ],
      "text/plain": [
       "\u001b[33m    GET /experiment/defaultExperimentId/data/runs -> 200 OK  (duration: 237.3 ms, execution: 74.2 ms)\n",
       "\u001b[0m"
      ]
     },
     "metadata": {},
     "output_type": "display_data"
    },
    {
     "data": {
      "text/html": [
       "<pre style=\"white-space:pre;overflow-x:auto;line-height:normal;font-family:Menlo,'DejaVu Sans Mono',consolas,'Courier New',monospace\"><span style=\"color: #808000; text-decoration-color: #808000\">    GET /data/environment -&gt; 200 OK  (duration: 266.9 ms, execution: 88.5 ms)\n",
       "</span></pre>\n"
      ],
      "text/plain": [
       "\u001b[33m    GET /data/environment -> 200 OK  (duration: 266.9 ms, execution: 88.5 ms)\n",
       "\u001b[0m"
      ]
     },
     "metadata": {},
     "output_type": "display_data"
    },
    {
     "data": {
      "text/html": [
       "<pre style=\"white-space:pre;overflow-x:auto;line-height:normal;font-family:Menlo,'DejaVu Sans Mono',consolas,'Courier New',monospace\"><span style=\"color: #808000; text-decoration-color: #808000\">    GET /data/runs -&gt; 200 OK  (duration: 275.9 ms, execution: 152.5 ms)\n",
       "</span></pre>\n"
      ],
      "text/plain": [
       "\u001b[33m    GET /data/runs -> 200 OK  (duration: 275.9 ms, execution: 152.5 ms)\n",
       "\u001b[0m"
      ]
     },
     "metadata": {},
     "output_type": "display_data"
    },
    {
     "data": {
      "text/html": [
       "<pre style=\"white-space:pre;overflow-x:auto;line-height:normal;font-family:Menlo,'DejaVu Sans Mono',consolas,'Courier New',monospace\"><span style=\"color: #808000; text-decoration-color: #808000\">    GET /data/environment -&gt; 200 OK  (duration: 116.3 ms, execution: 14.2 ms)\n",
       "</span></pre>\n"
      ],
      "text/plain": [
       "\u001b[33m    GET /data/environment -> 200 OK  (duration: 116.3 ms, execution: 14.2 ms)\n",
       "\u001b[0m"
      ]
     },
     "metadata": {},
     "output_type": "display_data"
    },
    {
     "data": {
      "text/html": [
       "<pre style=\"white-space:pre;overflow-x:auto;line-height:normal;font-family:Menlo,'DejaVu Sans Mono',consolas,'Courier New',monospace\"><span style=\"color: #808000; text-decoration-color: #808000\">    GET /data/plugin/scalars/tags -&gt; 200 OK  (duration: 178.6 ms, execution: 74.0 ms)\n",
       "</span></pre>\n"
      ],
      "text/plain": [
       "\u001b[33m    GET /data/plugin/scalars/tags -> 200 OK  (duration: 178.6 ms, execution: 74.0 ms)\n",
       "\u001b[0m"
      ]
     },
     "metadata": {},
     "output_type": "display_data"
    },
    {
     "data": {
      "text/html": [
       "<pre style=\"white-space:pre;overflow-x:auto;line-height:normal;font-family:Menlo,'DejaVu Sans Mono',consolas,'Courier New',monospace\">Terminating app\n",
       "</pre>\n"
      ],
      "text/plain": [
       "Terminating app\n"
      ]
     },
     "metadata": {},
     "output_type": "display_data"
    },
    {
     "data": {
      "text/html": [
       "<pre style=\"white-space:pre;overflow-x:auto;line-height:normal;font-family:Menlo,'DejaVu Sans Mono',consolas,'Courier New',monospace\"></pre>\n"
      ],
      "text/plain": []
     },
     "metadata": {},
     "output_type": "display_data"
    },
    {
     "data": {
      "text/html": [
       "<pre style=\"white-space:pre;overflow-x:auto;line-height:normal;font-family:Menlo,'DejaVu Sans Mono',consolas,'Courier New',monospace\"><span style=\"color: #808000; text-decoration-color: #808000\">Stopping app - local entrypoint completed.\n",
       "</span></pre>\n"
      ],
      "text/plain": [
       "\u001b[33mStopping app - local entrypoint completed.\n",
       "\u001b[0m"
      ]
     },
     "metadata": {},
     "output_type": "display_data"
    },
    {
     "data": {
      "text/html": [
       "<pre style=\"white-space:pre;overflow-x:auto;line-height:normal;font-family:Menlo,'DejaVu Sans Mono',consolas,'Courier New',monospace\"><span style=\"color: #800000; text-decoration-color: #800000\">[MainThread] 2024-05-04T15:36:38+0000 Detected 1 background thread(s) [WSGI_0] still running after container exit. This will prevent runner shutdown for up to 30 seconds.\n",
       "WARNING:modal-client:Detected 1 background thread(s) [WSGI_0] still running after container exit. This will prevent runner shutdown for up to 30 seconds.\n",
       "</span></pre>\n"
      ],
      "text/plain": [
       "\u001b[31m[MainThread] 2024-05-04T15:36:38+0000 Detected 1 background thread(s) [WSGI_0] still running after container exit. This will prevent runner shutdown for up to 30 seconds.\n",
       "WARNING:modal-client:Detected 1 background thread(s) [WSGI_0] still running after container exit. This will prevent runner shutdown for up to 30 seconds.\n",
       "\u001b[0m"
      ]
     },
     "metadata": {},
     "output_type": "display_data"
    },
    {
     "data": {
      "text/html": [
       "<pre style=\"white-space:pre;overflow-x:auto;line-height:normal;font-family:Menlo,'DejaVu Sans Mono',consolas,'Courier New',monospace\"><span style=\"color: #800000; text-decoration-color: #800000\">ERROR:concurrent.futures:exception calling callback for &lt;Future at 0x7f9c6753b450 state=cancelled&gt;\n",
       "Traceback (most recent call last):\n",
       "  File \"/usr/local/lib/python3.11/concurrent/futures/_base.py\", line 340, in _invoke_callbacks\n",
       "    callback(self)\n",
       "  File \"/usr/local/lib/python3.11/asyncio/futures.py\", line 401, in _call_set_state\n",
       "    dest_loop.call_soon_threadsafe(_set_state, destination, source)\n",
       "  File \"/usr/local/lib/python3.11/asyncio/base_events.py\", line 803, in call_soon_threadsafe\n",
       "    self._check_closed()\n",
       "  File \"/usr/local/lib/python3.11/asyncio/base_events.py\", line 519, in _check_closed\n",
       "    raise RuntimeError('Event loop is closed')\n",
       "RuntimeError: Event loop is closed\n",
       "</span></pre>\n"
      ],
      "text/plain": [
       "\u001b[31mERROR:concurrent.futures:exception calling callback for <Future at 0x7f9c6753b450 state=cancelled>\n",
       "Traceback (most recent call last):\n",
       "  File \"/usr/local/lib/python3.11/concurrent/futures/_base.py\", line 340, in _invoke_callbacks\n",
       "    callback(self)\n",
       "  File \"/usr/local/lib/python3.11/asyncio/futures.py\", line 401, in _call_set_state\n",
       "    dest_loop.call_soon_threadsafe(_set_state, destination, source)\n",
       "  File \"/usr/local/lib/python3.11/asyncio/base_events.py\", line 803, in call_soon_threadsafe\n",
       "    self._check_closed()\n",
       "  File \"/usr/local/lib/python3.11/asyncio/base_events.py\", line 519, in _check_closed\n",
       "    raise RuntimeError('Event loop is closed')\n",
       "RuntimeError: Event loop is closed\n",
       "\u001b[0m"
      ]
     },
     "metadata": {},
     "output_type": "display_data"
    },
    {
     "data": {
      "text/html": [
       "<pre style=\"white-space:pre;overflow-x:auto;line-height:normal;font-family:Menlo,'DejaVu Sans Mono',consolas,'Courier New',monospace\"><span style=\"color: #800000; text-decoration-color: #800000\">ERROR:concurrent.futures:exception calling callback for &lt;Future at 0x7f9c675338d0 state=cancelled&gt;\n",
       "Traceback (most recent call last):\n",
       "  File \"/usr/local/lib/python3.11/concurrent/futures/_base.py\", line 340, in _invoke_callbacks\n",
       "    callback(self)\n",
       "  File \"/usr/local/lib/python3.11/asyncio/futures.py\", line 401, in _call_set_state\n",
       "    dest_loop.call_soon_threadsafe(_set_state, destination, source)\n",
       "  File \"/usr/local/lib/python3.11/asyncio/base_events.py\", line 803, in call_soon_threadsafe\n",
       "    self._check_closed()\n",
       "  File \"/usr/local/lib/python3.11/asyncio/base_events.py\", line 519, in _check_closed\n",
       "    raise RuntimeError('Event loop is closed')\n",
       "RuntimeError: Event loop is closed\n",
       "</span></pre>\n"
      ],
      "text/plain": [
       "\u001b[31mERROR:concurrent.futures:exception calling callback for <Future at 0x7f9c675338d0 state=cancelled>\n",
       "Traceback (most recent call last):\n",
       "  File \"/usr/local/lib/python3.11/concurrent/futures/_base.py\", line 340, in _invoke_callbacks\n",
       "    callback(self)\n",
       "  File \"/usr/local/lib/python3.11/asyncio/futures.py\", line 401, in _call_set_state\n",
       "    dest_loop.call_soon_threadsafe(_set_state, destination, source)\n",
       "  File \"/usr/local/lib/python3.11/asyncio/base_events.py\", line 803, in call_soon_threadsafe\n",
       "    self._check_closed()\n",
       "  File \"/usr/local/lib/python3.11/asyncio/base_events.py\", line 519, in _check_closed\n",
       "    raise RuntimeError('Event loop is closed')\n",
       "RuntimeError: Event loop is closed\n",
       "\u001b[0m"
      ]
     },
     "metadata": {},
     "output_type": "display_data"
    },
    {
     "data": {
      "text/html": [
       "<pre style=\"white-space:pre;overflow-x:auto;line-height:normal;font-family:Menlo,'DejaVu Sans Mono',consolas,'Courier New',monospace\"><span style=\"color: #800000; text-decoration-color: #800000\">ERROR:asyncio:Task was destroyed but it is pending!\n",
       "task: &lt;Task pending name='Task-290' coro=&lt;aio_generator_output_task() running at /pkg/synchronicity/async_wrap.py:30&gt; wait_for=&lt;Future pending cb=[_chain_future.&lt;locals&gt;._call_check_cancel() at /usr/local/lib/python3.11/asyncio/futures.py:387, Task.task_wakeup()]&gt;&gt;\n",
       "</span></pre>\n"
      ],
      "text/plain": [
       "\u001b[31mERROR:asyncio:Task was destroyed but it is pending!\n",
       "task: <Task pending name='Task-290' coro=<aio_generator_output_task() running at /pkg/synchronicity/async_wrap.py:30> wait_for=<Future pending cb=[_chain_future.<locals>._call_check_cancel() at /usr/local/lib/python3.11/asyncio/futures.py:387, Task.task_wakeup()]>>\n",
       "\u001b[0m"
      ]
     },
     "metadata": {},
     "output_type": "display_data"
    },
    {
     "data": {
      "text/html": [
       "<pre style=\"white-space:pre;overflow-x:auto;line-height:normal;font-family:Menlo,'DejaVu Sans Mono',consolas,'Courier New',monospace\"><span style=\"color: #800000; text-decoration-color: #800000\">ERROR:asyncio:Task was destroyed but it is pending!\n",
       "task: &lt;Task pending name='Task-332' coro=&lt;aio_generator_output_task() running at /pkg/synchronicity/async_wrap.py:30&gt; wait_for=&lt;Future pending cb=[_chain_future.&lt;locals&gt;._call_check_cancel() at /usr/local/lib/python3.11/asyncio/futures.py:387, Task.task_wakeup()]&gt;&gt;\n",
       "</span></pre>\n"
      ],
      "text/plain": [
       "\u001b[31mERROR:asyncio:Task was destroyed but it is pending!\n",
       "task: <Task pending name='Task-332' coro=<aio_generator_output_task() running at /pkg/synchronicity/async_wrap.py:30> wait_for=<Future pending cb=[_chain_future.<locals>._call_check_cancel() at /usr/local/lib/python3.11/asyncio/futures.py:387, Task.task_wakeup()]>>\n",
       "\u001b[0m"
      ]
     },
     "metadata": {},
     "output_type": "display_data"
    },
    {
     "data": {
      "text/html": [
       "<pre style=\"white-space:pre;overflow-x:auto;line-height:normal;font-family:Menlo,'DejaVu Sans Mono',consolas,'Courier New',monospace\"><span style=\"color: #800000; text-decoration-color: #800000\">[MainThread] 2024-05-04T15:36:38+0000 Detected 1 background thread(s) [WSGI_0] still running after container exit. This will prevent runner shutdown for up to 30 seconds.\n",
       "</span></pre>\n"
      ],
      "text/plain": [
       "\u001b[31m[MainThread] 2024-05-04T15:36:38+0000 Detected 1 background thread(s) [WSGI_0] still running after container exit. This will prevent runner shutdown for up to 30 seconds.\n",
       "\u001b[0m"
      ]
     },
     "metadata": {},
     "output_type": "display_data"
    },
    {
     "data": {
      "text/html": [
       "<pre style=\"white-space:pre;overflow-x:auto;line-height:normal;font-family:Menlo,'DejaVu Sans Mono',consolas,'Courier New',monospace\"><span style=\"color: #800000; text-decoration-color: #800000\">[MainThread] 2024-05-04T15:36:38+0000 Detected 1 background thread(s) [WSGI_0] still running after container exit. This will prevent runner shutdown for up to 30 seconds.\n",
       "</span></pre>\n"
      ],
      "text/plain": [
       "\u001b[31m[MainThread] 2024-05-04T15:36:38+0000 Detected 1 background thread(s) [WSGI_0] still running after container exit. This will prevent runner shutdown for up to 30 seconds.\n",
       "\u001b[0m"
      ]
     },
     "metadata": {},
     "output_type": "display_data"
    },
    {
     "data": {
      "text/html": [
       "<pre style=\"white-space:pre;overflow-x:auto;line-height:normal;font-family:Menlo,'DejaVu Sans Mono',consolas,'Courier New',monospace\"><span style=\"color: #800000; text-decoration-color: #800000\">WARNING:modal-client:Detected 1 background thread(s) [WSGI_0] still running after container exit. This will prevent runner shutdown for up to 30 seconds.\n",
       "</span></pre>\n"
      ],
      "text/plain": [
       "\u001b[31mWARNING:modal-client:Detected 1 background thread(s) [WSGI_0] still running after container exit. This will prevent runner shutdown for up to 30 seconds.\n",
       "\u001b[0m"
      ]
     },
     "metadata": {},
     "output_type": "display_data"
    },
    {
     "data": {
      "text/html": [
       "<pre style=\"white-space:pre;overflow-x:auto;line-height:normal;font-family:Menlo,'DejaVu Sans Mono',consolas,'Courier New',monospace\"><span style=\"color: #800000; text-decoration-color: #800000\">ERROR:concurrent.futures:exception calling callback for &lt;Future at 0x7f8448236cd0 state=cancelled&gt;\n",
       "Traceback (most recent call last):\n",
       "  File \"/usr/local/lib/python3.11/concurrent/futures/_base.py\", line 340, in _invoke_callbacks\n",
       "    callback(self)\n",
       "  File \"/usr/local/lib/python3.11/asyncio/futures.py\", line 401, in _call_set_state\n",
       "    dest_loop.call_soon_threadsafe(_set_state, destination, source)\n",
       "  File \"/usr/local/lib/python3.11/asyncio/base_events.py\", line 803, in call_soon_threadsafe\n",
       "    self._check_closed()\n",
       "  File \"/usr/local/lib/python3.11/asyncio/base_events.py\", line 519, in _check_closed\n",
       "    raise RuntimeError('Event loop is closed')\n",
       "RuntimeError: Event loop is closed\n",
       "</span></pre>\n"
      ],
      "text/plain": [
       "\u001b[31mERROR:concurrent.futures:exception calling callback for <Future at 0x7f8448236cd0 state=cancelled>\n",
       "Traceback (most recent call last):\n",
       "  File \"/usr/local/lib/python3.11/concurrent/futures/_base.py\", line 340, in _invoke_callbacks\n",
       "    callback(self)\n",
       "  File \"/usr/local/lib/python3.11/asyncio/futures.py\", line 401, in _call_set_state\n",
       "    dest_loop.call_soon_threadsafe(_set_state, destination, source)\n",
       "  File \"/usr/local/lib/python3.11/asyncio/base_events.py\", line 803, in call_soon_threadsafe\n",
       "    self._check_closed()\n",
       "  File \"/usr/local/lib/python3.11/asyncio/base_events.py\", line 519, in _check_closed\n",
       "    raise RuntimeError('Event loop is closed')\n",
       "RuntimeError: Event loop is closed\n",
       "\u001b[0m"
      ]
     },
     "metadata": {},
     "output_type": "display_data"
    },
    {
     "data": {
      "text/html": [
       "<pre style=\"white-space:pre;overflow-x:auto;line-height:normal;font-family:Menlo,'DejaVu Sans Mono',consolas,'Courier New',monospace\"><span style=\"color: #800000; text-decoration-color: #800000\">WARNING:modal-client:Detected 1 background thread(s) [WSGI_0] still running after container exit. This will prevent runner shutdown for up to 30 seconds.\n",
       "</span></pre>\n"
      ],
      "text/plain": [
       "\u001b[31mWARNING:modal-client:Detected 1 background thread(s) [WSGI_0] still running after container exit. This will prevent runner shutdown for up to 30 seconds.\n",
       "\u001b[0m"
      ]
     },
     "metadata": {},
     "output_type": "display_data"
    },
    {
     "data": {
      "text/html": [
       "<pre style=\"white-space:pre;overflow-x:auto;line-height:normal;font-family:Menlo,'DejaVu Sans Mono',consolas,'Courier New',monospace\"><span style=\"color: #800000; text-decoration-color: #800000\">ERROR:concurrent.futures:exception calling callback for &lt;Future at 0x7f1b508e59d0 state=cancelled&gt;\n",
       "Traceback (most recent call last):\n",
       "  File \"/usr/local/lib/python3.11/concurrent/futures/_base.py\", line 340, in _invoke_callbacks\n",
       "    callback(self)\n",
       "  File \"/usr/local/lib/python3.11/asyncio/futures.py\", line 401, in _call_set_state\n",
       "    dest_loop.call_soon_threadsafe(_set_state, destination, source)\n",
       "  File \"/usr/local/lib/python3.11/asyncio/base_events.py\", line 803, in call_soon_threadsafe\n",
       "    self._check_closed()\n",
       "  File \"/usr/local/lib/python3.11/asyncio/base_events.py\", line 519, in _check_closed\n",
       "    raise RuntimeError('Event loop is closed')\n",
       "RuntimeError: Event loop is closed\n",
       "</span></pre>\n"
      ],
      "text/plain": [
       "\u001b[31mERROR:concurrent.futures:exception calling callback for <Future at 0x7f1b508e59d0 state=cancelled>\n",
       "Traceback (most recent call last):\n",
       "  File \"/usr/local/lib/python3.11/concurrent/futures/_base.py\", line 340, in _invoke_callbacks\n",
       "    callback(self)\n",
       "  File \"/usr/local/lib/python3.11/asyncio/futures.py\", line 401, in _call_set_state\n",
       "    dest_loop.call_soon_threadsafe(_set_state, destination, source)\n",
       "  File \"/usr/local/lib/python3.11/asyncio/base_events.py\", line 803, in call_soon_threadsafe\n",
       "    self._check_closed()\n",
       "  File \"/usr/local/lib/python3.11/asyncio/base_events.py\", line 519, in _check_closed\n",
       "    raise RuntimeError('Event loop is closed')\n",
       "RuntimeError: Event loop is closed\n",
       "\u001b[0m"
      ]
     },
     "metadata": {},
     "output_type": "display_data"
    },
    {
     "data": {
      "text/html": [
       "<pre style=\"white-space:pre;overflow-x:auto;line-height:normal;font-family:Menlo,'DejaVu Sans Mono',consolas,'Courier New',monospace\"><span style=\"color: #800000; text-decoration-color: #800000\">ERROR:asyncio:Task was destroyed but it is pending!\n",
       "task: &lt;Task pending name='Task-14' coro=&lt;aio_generator_output_task() running at /pkg/synchronicity/async_wrap.py:30&gt; wait_for=&lt;Future pending cb=[_chain_future.&lt;locals&gt;._call_check_cancel() at /usr/local/lib/python3.11/asyncio/futures.py:387, Task.task_wakeup()]&gt;&gt;\n",
       "</span></pre>\n"
      ],
      "text/plain": [
       "\u001b[31mERROR:asyncio:Task was destroyed but it is pending!\n",
       "task: <Task pending name='Task-14' coro=<aio_generator_output_task() running at /pkg/synchronicity/async_wrap.py:30> wait_for=<Future pending cb=[_chain_future.<locals>._call_check_cancel() at /usr/local/lib/python3.11/asyncio/futures.py:387, Task.task_wakeup()]>>\n",
       "\u001b[0m"
      ]
     },
     "metadata": {},
     "output_type": "display_data"
    },
    {
     "data": {
      "text/html": [
       "<pre style=\"white-space:pre;overflow-x:auto;line-height:normal;font-family:Menlo,'DejaVu Sans Mono',consolas,'Courier New',monospace\"><span style=\"color: #800000; text-decoration-color: #800000\">ERROR:asyncio:Task was destroyed but it is pending!\n",
       "task: &lt;Task pending name='Task-289' coro=&lt;aio_generator_output_task() done, defined at /pkg/synchronicity/async_wrap.py:27&gt; wait_for=&lt;Future pending cb=[_chain_future.&lt;locals&gt;._call_check_cancel() at /usr/local/lib/python3.11/asyncio/futures.py:387, Task.task_wakeup()]&gt;&gt;\n",
       "</span></pre>\n"
      ],
      "text/plain": [
       "\u001b[31mERROR:asyncio:Task was destroyed but it is pending!\n",
       "task: <Task pending name='Task-289' coro=<aio_generator_output_task() done, defined at /pkg/synchronicity/async_wrap.py:27> wait_for=<Future pending cb=[_chain_future.<locals>._call_check_cancel() at /usr/local/lib/python3.11/asyncio/futures.py:387, Task.task_wakeup()]>>\n",
       "\u001b[0m"
      ]
     },
     "metadata": {},
     "output_type": "display_data"
    },
    {
     "data": {
      "text/html": [
       "<pre style=\"white-space:pre;overflow-x:auto;line-height:normal;font-family:Menlo,'DejaVu Sans Mono',consolas,'Courier New',monospace\"><span style=\"color: #800000; text-decoration-color: #800000\">[MainThread] 2024-05-04T15:36:38+0000 Detected 1 background thread(s) [WSGI_0] still running after container exit. This will prevent runner shutdown for up to 30 seconds.\n",
       "</span></pre>\n"
      ],
      "text/plain": [
       "\u001b[31m[MainThread] 2024-05-04T15:36:38+0000 Detected 1 background thread(s) [WSGI_0] still running after container exit. This will prevent runner shutdown for up to 30 seconds.\n",
       "\u001b[0m"
      ]
     },
     "metadata": {},
     "output_type": "display_data"
    },
    {
     "data": {
      "text/html": [
       "<pre style=\"white-space:pre;overflow-x:auto;line-height:normal;font-family:Menlo,'DejaVu Sans Mono',consolas,'Courier New',monospace\"><span style=\"color: #800000; text-decoration-color: #800000\">WARNING:modal-client:Detected 1 background thread(s) [WSGI_0] still running after container exit. This will prevent runner shutdown for up to 30 seconds.\n",
       "</span></pre>\n"
      ],
      "text/plain": [
       "\u001b[31mWARNING:modal-client:Detected 1 background thread(s) [WSGI_0] still running after container exit. This will prevent runner shutdown for up to 30 seconds.\n",
       "\u001b[0m"
      ]
     },
     "metadata": {},
     "output_type": "display_data"
    },
    {
     "data": {
      "text/html": [
       "<pre style=\"white-space:pre;overflow-x:auto;line-height:normal;font-family:Menlo,'DejaVu Sans Mono',consolas,'Courier New',monospace\"><span style=\"color: #800000; text-decoration-color: #800000\">ERROR:concurrent.futures:exception calling callback for &lt;Future at 0x7fa6eff50e50 state=cancelled&gt;\n",
       "Traceback (most recent call last):\n",
       "  File \"/usr/local/lib/python3.11/concurrent/futures/_base.py\", line 340, in _invoke_callbacks\n",
       "    callback(self)\n",
       "  File \"/usr/local/lib/python3.11/asyncio/futures.py\", line 401, in _call_set_state\n",
       "    dest_loop.call_soon_threadsafe(_set_state, destination, source)\n",
       "  File \"/usr/local/lib/python3.11/asyncio/base_events.py\", line 803, in call_soon_threadsafe\n",
       "    self._check_closed()\n",
       "  File \"/usr/local/lib/python3.11/asyncio/base_events.py\", line 519, in _check_closed\n",
       "    raise RuntimeError('Event loop is closed')\n",
       "RuntimeError: Event loop is closed\n",
       "</span></pre>\n"
      ],
      "text/plain": [
       "\u001b[31mERROR:concurrent.futures:exception calling callback for <Future at 0x7fa6eff50e50 state=cancelled>\n",
       "Traceback (most recent call last):\n",
       "  File \"/usr/local/lib/python3.11/concurrent/futures/_base.py\", line 340, in _invoke_callbacks\n",
       "    callback(self)\n",
       "  File \"/usr/local/lib/python3.11/asyncio/futures.py\", line 401, in _call_set_state\n",
       "    dest_loop.call_soon_threadsafe(_set_state, destination, source)\n",
       "  File \"/usr/local/lib/python3.11/asyncio/base_events.py\", line 803, in call_soon_threadsafe\n",
       "    self._check_closed()\n",
       "  File \"/usr/local/lib/python3.11/asyncio/base_events.py\", line 519, in _check_closed\n",
       "    raise RuntimeError('Event loop is closed')\n",
       "RuntimeError: Event loop is closed\n",
       "\u001b[0m"
      ]
     },
     "metadata": {},
     "output_type": "display_data"
    },
    {
     "data": {
      "text/html": [
       "<pre style=\"white-space:pre;overflow-x:auto;line-height:normal;font-family:Menlo,'DejaVu Sans Mono',consolas,'Courier New',monospace\"><span style=\"color: #800000; text-decoration-color: #800000\">ERROR:asyncio:Task was destroyed but it is pending!\n",
       "task: &lt;Task pending name='Task-94' coro=&lt;aio_generator_output_task() done, defined at /pkg/synchronicity/async_wrap.py:27&gt; wait_for=&lt;Future pending cb=[_chain_future.&lt;locals&gt;._call_check_cancel() at /usr/local/lib/python3.11/asyncio/futures.py:387, Task.task_wakeup()]&gt;&gt;\n",
       "</span></pre>\n"
      ],
      "text/plain": [
       "\u001b[31mERROR:asyncio:Task was destroyed but it is pending!\n",
       "task: <Task pending name='Task-94' coro=<aio_generator_output_task() done, defined at /pkg/synchronicity/async_wrap.py:27> wait_for=<Future pending cb=[_chain_future.<locals>._call_check_cancel() at /usr/local/lib/python3.11/asyncio/futures.py:387, Task.task_wakeup()]>>\n",
       "\u001b[0m"
      ]
     },
     "metadata": {},
     "output_type": "display_data"
    },
    {
     "data": {
      "text/html": [
       "<pre style=\"white-space:pre;overflow-x:auto;line-height:normal;font-family:Menlo,'DejaVu Sans Mono',consolas,'Courier New',monospace\"><span style=\"color: #008000; text-decoration-color: #008000\">✓</span> App completed. <span style=\"color: #b2b2b2; text-decoration-color: #b2b2b2\">View run at </span><span style=\"color: #b2b2b2; text-decoration-color: #b2b2b2; text-decoration: underline\">https://modal.com/rohitp934/apps/ap-pwy9MLVi646W89pv0zhOPt</span>\n",
       "</pre>\n"
      ],
      "text/plain": [
       "\u001b[32m✓\u001b[0m App completed. \u001b[38;5;249mView run at \u001b[0m\u001b[4;38;5;249mhttps://modal.com/rohitp934/apps/ap-pwy9MLVi646W89pv0zhOPt\u001b[0m\n"
      ]
     },
     "metadata": {},
     "output_type": "display_data"
    }
   ],
   "source": [
    "with app.run():\n",
    "  import time\n",
    "  tensorboard_app.local()\n",
    "  try:\n",
    "      while True:\n",
    "          time.sleep(1)\n",
    "  except KeyboardInterrupt:\n",
    "      print(\"Terminating app\")"
   ]
  },
  {
   "cell_type": "code",
   "execution_count": null,
   "metadata": {},
   "outputs": [],
   "source": []
  }
 ],
 "metadata": {
  "kernelspec": {
   "display_name": "tf.venv",
   "language": "python",
   "name": "python3"
  },
  "language_info": {
   "codemirror_mode": {
    "name": "ipython",
    "version": 3
   },
   "file_extension": ".py",
   "mimetype": "text/x-python",
   "name": "python",
   "nbconvert_exporter": "python",
   "pygments_lexer": "ipython3",
   "version": "3.11.7"
  }
 },
 "nbformat": 4,
 "nbformat_minor": 2
}
