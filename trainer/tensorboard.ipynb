{
 "cells": [
  {
   "cell_type": "code",
   "execution_count": 1,
   "metadata": {},
   "outputs": [],
   "source": [
    "import modal\n",
    "from modal import wsgi_app\n",
    "\n",
    "app = modal.App(\"tensorboard\")\n",
    "image = modal.Image.debian_slim(python_version=\"3.11\").pip_install(\n",
    "    \"tensorboard\",\n",
    "    \"pandas\",\n",
    "    \"numpy\",\n",
    "    \"Pillow\",\n",
    "    \"matplotlib\",\n",
    "    \"scikit-learn\",\n",
    ")\n",
    "\n",
    "vol = modal.Volume.from_name(\"climate-forecast\")"
   ]
  },
  {
   "cell_type": "code",
   "execution_count": 2,
   "metadata": {},
   "outputs": [],
   "source": [
    "@app.function(\n",
    "    image=image,\n",
    "    volumes={\"/vol\": vol},\n",
    "    timeout=(60 * 60 * 24),\n",
    ")\n",
    "@wsgi_app()\n",
    "def tensorboard_app():\n",
    "    import tensorboard\n",
    "\n",
    "    board = tensorboard.program.TensorBoard()\n",
    "    board.configure(logdir=\"/vol/flax/logs/\")\n",
    "    (data_provider, deprecated_multiplexer) = board._make_data_provider()\n",
    "    wsgi_app = tensorboard.backend.application.TensorBoardWSGIApp(\n",
    "        board.flags,\n",
    "        board.plugin_loaders,\n",
    "        data_provider,\n",
    "        board.assets_zip_provider,\n",
    "        deprecated_multiplexer,\n",
    "    )  # Note: prior to April 2024, \"app\" was called \"stub\"\n",
    "    return wsgi_app"
   ]
  },
  {
   "cell_type": "code",
   "execution_count": null,
   "metadata": {},
   "outputs": [],
   "source": [
    "with app.run():\n",
    "  import time\n",
    "  tensorboard_app.local()\n",
    "  try:\n",
    "      while True:\n",
    "          time.sleep(1)\n",
    "  except KeyboardInterrupt:\n",
    "      print(\"Terminating app\")"
   ]
  },
  {
   "cell_type": "code",
   "execution_count": null,
   "metadata": {},
   "outputs": [],
   "source": []
  }
 ],
 "metadata": {
  "kernelspec": {
   "display_name": "tf.venv",
   "language": "python",
   "name": "python3"
  },
  "language_info": {
   "codemirror_mode": {
    "name": "ipython",
    "version": 3
   },
   "file_extension": ".py",
   "mimetype": "text/x-python",
   "name": "python",
   "nbconvert_exporter": "python",
   "pygments_lexer": "ipython3",
   "version": "3.11.7"
  }
 },
 "nbformat": 4,
 "nbformat_minor": 2
}
