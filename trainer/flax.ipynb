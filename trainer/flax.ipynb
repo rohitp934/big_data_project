{
 "cells": [
  {
   "cell_type": "code",
   "execution_count": 1,
   "metadata": {},
   "outputs": [
    {
     "name": "stderr",
     "output_type": "stream",
     "text": [
      "WARNING:absl:Type handler registry overriding type \"<class 'float'>\" collision on scalar\n",
      "WARNING:absl:Type handler registry overriding type \"<class 'bytes'>\" collision on scalar\n",
      "WARNING:absl:Type handler registry overriding type \"<class 'numpy.number'>\" collision on scalar\n"
     ]
    }
   ],
   "source": [
    "import os\n",
    "from glob import glob\n",
    "from typing import Tuple\n",
    "\n",
    "import flax.linen as nn\n",
    "import jax\n",
    "import jax.numpy as jnp\n",
    "import ml_collections\n",
    "import numpy as np\n",
    "import optax\n",
    "import orbax.checkpoint as ocp\n",
    "import tensorflow as tf\n",
    "from flax.metrics import tensorboard\n",
    "# from flax.core import FrozenDict\n",
    "from flax.training import orbax_utils, train_state\n",
    "from modal import App, Image, Volume, gpu\n",
    "from tqdm import tqdm"
   ]
  },
  {
   "cell_type": "code",
   "execution_count": 2,
   "metadata": {},
   "outputs": [],
   "source": [
    "# Config\n",
    "NUM_CLASSES = 9\n",
    "NUM_INPUTS = 3\n",
    "KERNEL_SIZE = 5\n",
    "\n",
    "tf.config.experimental.set_visible_devices([], \"GPU\")\n",
    "\n",
    "app = App(\"flax-climate-forecast\")\n",
    "volume = Volume.from_name(\"climate-forecast\")\n",
    "img = Image.debian_slim().pip_install(\n",
    "    \"flax\",\n",
    "    \"numpy\",\n",
    "    \"tensorflow[and-cuda]\",\n",
    "    \"tensorboard\",\n",
    "    \"tqdm\",\n",
    "    \"ml-collections\",\n",
    "    \"tensorrt\",\n",
    ")\n",
    "\n",
    "img = img.run_commands(\n",
    "    [\n",
    "        # \"apt-get update\",\n",
    "        # \"apt-get install -y wget\",\n",
    "        # \"wget https://developer.download.nvidia.com/compute/cuda/repos/ubuntu2204/x86_64/cuda-keyring_1.1-1_all.deb\",\n",
    "        # \"dpkg -i cuda-keyring_1.1-1_all.deb\",\n",
    "        # \"apt-get update\",\n",
    "        # \"apt-get -y install cuda-toolkit-12-3\",\n",
    "        \"pip install -U 'jax[cuda12_pip]' -f 'https://storage.googleapis.com/jax-releases/jax_cuda_releases.html'\",\n",
    "        \"python -m site\",\n",
    "        \"pip list | grep nvidia\",\n",
    "        \"export PATH=/usr/local/cuda-12/bin:$PATH\",\n",
    "        \"export LD_LIBRARY_PATH=/usr/local/cuda-12/lib64:/usr/local/lib/python3.11/site-packages/tensorrt_libs/:$LD_LIBRARY_PATH:\"\n",
    "    ]\n",
    ")"
   ]
  },
  {
   "cell_type": "code",
   "execution_count": 3,
   "metadata": {},
   "outputs": [],
   "source": [
    "def read_example(serialized: bytes) -> Tuple[jax.Array, jax.Array]:\n",
    "    \"\"\"Parses and reads a training example from bytes.\n",
    "\n",
    "    Args:\n",
    "        serialized: Serialized example bytes.\n",
    "\n",
    "    Returns: An (inputs, labels) pair of arrays.\n",
    "    \"\"\"\n",
    "    npz = np.load(serialized)\n",
    "    inputs = npz['inputs']\n",
    "    labels = npz['labels']\n",
    "    # inputs = inputs.astype(jnp.float16)\n",
    "    # labels = labels.astype(jnp.uint8)\n",
    "\n",
    "    # Classifications are measured against one-hot encoded vectors.\n",
    "    # one_hot_labels = jax.nn.one_hot(labels[:, :, :, 0], NUM_CLASSES)\n",
    "    return (inputs, labels)"
   ]
  },
  {
   "cell_type": "code",
   "execution_count": 4,
   "metadata": {},
   "outputs": [],
   "source": [
    "def read_dataset(\n",
    "    data_path: str, train_test_ratio: float\n",
    ") -> Tuple[Tuple[jax.Array, jax.Array], Tuple[jax.Array, jax.Array]]:\n",
    "    files = glob(os.path.join(data_path, \"*.npz\"))\n",
    "    # files = files[:5]\n",
    "    # Load data from npz files\n",
    "    inputs_list = []\n",
    "    labels_list = []\n",
    "    for file in files:\n",
    "        with open(file, \"rb\") as f:\n",
    "            inputs, labels = read_example(f)\n",
    "            inputs_list.append(inputs)\n",
    "            labels_list.append(labels)\n",
    "\n",
    "    # Concatenate data\n",
    "    inputs = np.concatenate(inputs_list, axis=0)\n",
    "    labels = np.concatenate(labels_list, axis=0)\n",
    "    print(f\"Inputs: {inputs.shape}, Labels: {labels.shape}\")\n",
    "    print(f\"Dataset created with {(inputs.shape[0])} examples\")\n",
    "    \n",
    "    # Normalize data\n",
    "    # inputs = jax.nn.standardize(inputs)\n",
    "\n",
    "    train_size = int(inputs.shape[0] * train_test_ratio)\n",
    "    train_inputs, test_inputs = inputs[:train_size], inputs[train_size:]\n",
    "    train_labels, test_labels = labels[:train_size], labels[train_size:]\n",
    "\n",
    "    print(f\"Training data: {train_inputs.shape}, Labels: {train_labels.shape}\")\n",
    "    print(f\"Testing data: {test_inputs.shape}, Labels: {test_labels.shape}\")\n",
    "\n",
    "    return (train_inputs, train_labels), (test_inputs, test_labels)"
   ]
  },
  {
   "cell_type": "code",
   "execution_count": 5,
   "metadata": {},
   "outputs": [],
   "source": [
    "# _ = read_dataset(\"../data/climate_change/\", 0.9)"
   ]
  },
  {
   "cell_type": "code",
   "execution_count": 6,
   "metadata": {},
   "outputs": [],
   "source": [
    "# Define the Fully Convolutional Network.\n",
    "class CNN(nn.Module):\n",
    "    @nn.compact\n",
    "    def __call__(self, x):\n",
    "        x = nn.Conv(features=32, kernel_size=(KERNEL_SIZE, KERNEL_SIZE))(x)\n",
    "        x = nn.relu(x)\n",
    "        x = nn.avg_pool(x, window_shape=(2, 2), strides=(2, 2))\n",
    "        x = nn.ConvTranspose(features=16, kernel_size=(KERNEL_SIZE, KERNEL_SIZE))(x)\n",
    "        x = nn.relu(x)\n",
    "        x = nn.avg_pool(x, window_shape=(2, 2), strides=(2, 2))\n",
    "        x = x.reshape((x.shape[0], -1))  # Flatten\n",
    "        x = nn.Dense(features=256)(x)\n",
    "        x = nn.relu(x)\n",
    "        x = nn.Dense(features=NUM_CLASSES)(x)\n",
    "        # x = nn.softmax(x)\n",
    "        return x"
   ]
  },
  {
   "cell_type": "code",
   "execution_count": 7,
   "metadata": {},
   "outputs": [],
   "source": [
    "@jax.jit\n",
    "def apply_model(state, images, labels):\n",
    "    \"\"\"Computes gradients, loss and accuracy for a single batch.\"\"\"\n",
    "    def loss_fn(params):\n",
    "        logits = state.apply_fn({\"params\": params}, images)\n",
    "        one_hot = jax.nn.one_hot(labels, NUM_CLASSES)\n",
    "        loss = jnp.mean(optax.softmax_cross_entropy(logits=logits, labels=one_hot))\n",
    "        return loss, logits\n",
    "\n",
    "    grad_fn = jax.value_and_grad(loss_fn, has_aux=True)\n",
    "    (loss, logits), grads = grad_fn(state.params)\n",
    "    accuracy = jnp.mean(jnp.argmax(logits, -1) == labels)\n",
    "    return grads, loss, accuracy"
   ]
  },
  {
   "cell_type": "code",
   "execution_count": 8,
   "metadata": {},
   "outputs": [],
   "source": [
    "@jax.jit\n",
    "def update_model(state, grads):\n",
    "    return state.apply_gradients(grads=grads)"
   ]
  },
  {
   "cell_type": "code",
   "execution_count": 9,
   "metadata": {},
   "outputs": [],
   "source": [
    "def train_epoch(state, train_ds, batch_size, rng):\n",
    "    \"\"\"Train for a single epoch.\"\"\"\n",
    "    train_ds_size = len(train_ds[0])\n",
    "    steps_per_epoch = train_ds_size // batch_size\n",
    "\n",
    "    perms = jax.random.permutation(rng, len(train_ds[0]))\n",
    "    perms = perms[: steps_per_epoch * batch_size]  # skip incomplete batch\n",
    "    perms = perms.reshape((steps_per_epoch, batch_size))\n",
    "\n",
    "    epoch_loss = []\n",
    "    epoch_accuracy = []\n",
    "\n",
    "    for perm in perms:\n",
    "        batch_images = jnp.array(train_ds[0][perm, ...], dtype=jnp.float32)\n",
    "        batch_images = jax.nn.standardize(batch_images)\n",
    "\n",
    "        batch_labels = jnp.array(train_ds[1][perm, ...], dtype=jnp.uint8)\n",
    "        # batch_labels = jax.nn.one_hot(batch_labels[:, :, :, 0], NUM_CLASSES)\n",
    "        \n",
    "        grads, loss, accuracy = apply_model(state, batch_images, batch_labels)\n",
    "        state = update_model(state, grads)\n",
    "        epoch_loss.append(loss)\n",
    "        epoch_accuracy.append(accuracy)\n",
    "    train_loss = np.mean(epoch_loss)\n",
    "    train_accuracy = np.mean(epoch_accuracy)\n",
    "    return state, train_loss, train_accuracy"
   ]
  },
  {
   "cell_type": "code",
   "execution_count": 10,
   "metadata": {},
   "outputs": [],
   "source": [
    "def create_train_state(rng, config):\n",
    "    \"\"\"Creates initial `TrainState`.\"\"\"\n",
    "    model = CNN()\n",
    "    params = model.init(rng, jnp.ones([1, 128, 128, NUM_INPUTS]))[\"params\"]\n",
    "    tx = optax.adam(config.learning_rate)\n",
    "    return train_state.TrainState.create(apply_fn=model.apply, params=params, tx=tx)\n",
    "\n",
    "\n",
    "@app.function(\n",
    "    image=img,\n",
    "    timeout=60 * 60 * 24,\n",
    "    volumes={\"/vol\": volume},\n",
    "    gpu=gpu.A10G(count=1),\n",
    "    _allow_background_volume_commits=True,\n",
    ")\n",
    "def train_and_evaluate(\n",
    "    config: ml_collections.ConfigDict, data_dir: str, work_dir: str, ckpt_dir: str\n",
    ") -> train_state.TrainState:\n",
    "    \"\"\"Execute model training and evaluation loop.\n",
    "\n",
    "    Args:\n",
    "      config: Hyperparameter configuration for training and evaluation.\n",
    "      work_dir: Directory where the tensorboard summaries are written to.\n",
    "\n",
    "    Returns:\n",
    "      The train state (which includes the `.params`).\n",
    "    \"\"\"\n",
    "    import os\n",
    "    import shutil\n",
    "\n",
    "    # logging.get_absl_handler().python_handler.stream = sys.stdout\n",
    "    os.makedirs(work_dir, exist_ok=True)\n",
    "    os.makedirs(data_dir, exist_ok=True)\n",
    "\n",
    "    shutil.rmtree(ckpt_dir, ignore_errors=True)\n",
    "\n",
    "    ckpt_options = ocp.CheckpointManagerOptions(\n",
    "        max_to_keep=3,\n",
    "    )\n",
    "    ckpt_manager = ocp.CheckpointManager(\n",
    "        ocp.test_utils.erase_and_create_empty(ckpt_dir),\n",
    "        options=ckpt_options,\n",
    "    )\n",
    "\n",
    "    print(f\"JAX process: {jax.process_index()} / {jax.process_count()}\")\n",
    "    print(f\"JAX local devices: {jax.local_devices()}\")\n",
    "    train_ds, test_ds = read_dataset(data_dir, config.train_test_split)\n",
    "    rng = jax.random.key(0)\n",
    "\n",
    "    summary_writer = tensorboard.SummaryWriter(work_dir)\n",
    "    summary_writer.hparams(dict(config))\n",
    "\n",
    "    rng, init_rng = jax.random.split(rng)\n",
    "    state = create_train_state(init_rng, config)\n",
    "\n",
    "    test_images = jnp.array(test_ds[0], dtype=jnp.float32)\n",
    "    test_images = jax.nn.standardize(test_images)\n",
    "\n",
    "    test_labels = jnp.array(test_ds[1], dtype=jnp.uint8)\n",
    "\n",
    "    for epoch in tqdm(range(config.num_epochs)):\n",
    "        rng, input_rng = jax.random.split(rng)\n",
    "        state, train_loss, train_accuracy = train_epoch(\n",
    "            state, train_ds, config.batch_size, input_rng\n",
    "        )\n",
    "\n",
    "        \n",
    "        _, test_loss, test_accuracy = apply_model(state, test_images, test_labels)\n",
    "\n",
    "        print(\n",
    "            f\"epoch:{epoch}, train_loss: {train_loss}, train_accuracy: {train_accuracy * 100}, test_loss: {test_loss}, test_accuracy: {test_accuracy * 100}\"\n",
    "        )\n",
    "        summary_writer.scalar(\"train_loss\", train_loss, epoch)\n",
    "        summary_writer.scalar(\"train_accuracy\", train_accuracy, epoch)\n",
    "        summary_writer.scalar(\"test_loss\", test_loss, epoch)\n",
    "        summary_writer.scalar(\"test_accuracy\", test_accuracy, epoch)\n",
    "\n",
    "        ckpt = {\"model\": state}\n",
    "        # save_args = orbax_utils.save_args_from_target(ckpt)\n",
    "        ckpt_manager.save(epoch, args=ocp.args.StandardSave(ckpt))\n",
    "        ckpt_manager.wait_until_finished()\n",
    "\n",
    "    summary_writer.flush()\n",
    "    return state"
   ]
  },
  {
   "cell_type": "code",
   "execution_count": 14,
   "metadata": {},
   "outputs": [],
   "source": [
    "config = ml_collections.ConfigDict()\n",
    "\n",
    "config.learning_rate = 0.0002\n",
    "config.batch_size = 32\n",
    "config.num_epochs = 100\n",
    "config.train_test_split = 0.9"
   ]
  },
  {
   "cell_type": "code",
   "execution_count": 12,
   "metadata": {},
   "outputs": [],
   "source": [
    "# ckpt_dir = os.path.abspath(\"../models/flax/checkpoints\")\n",
    "# train_and_evaluate(\n",
    "#     config,\n",
    "#     \"../data/climate_change\",\n",
    "#     \"../models/flax/logs\",\n",
    "#     ckpt_dir,\n",
    "# )"
   ]
  },
  {
   "cell_type": "code",
   "execution_count": 15,
   "metadata": {},
   "outputs": [
    {
     "data": {
      "application/vnd.jupyter.widget-view+json": {
       "model_id": "e7404d3ec05a4a51888d1fbffa12b2b0",
       "version_major": 2,
       "version_minor": 0
      },
      "text/plain": [
       "Output()"
      ]
     },
     "metadata": {},
     "output_type": "display_data"
    },
    {
     "data": {
      "text/html": [
       "<pre style=\"white-space:pre;overflow-x:auto;line-height:normal;font-family:Menlo,'DejaVu Sans Mono',consolas,'Courier New',monospace\"><span style=\"color: #008000; text-decoration-color: #008000\">✓</span> Initialized. <span style=\"color: #b2b2b2; text-decoration-color: #b2b2b2\">View run at </span><span style=\"color: #b2b2b2; text-decoration-color: #b2b2b2; text-decoration: underline\">https://modal.com/rohitp934/apps/ap-iIDv1ylrykhzBrdjuU7bnC</span>\n",
       "</pre>\n"
      ],
      "text/plain": [
       "\u001b[32m✓\u001b[0m Initialized. \u001b[38;5;249mView run at \u001b[0m\u001b[4;38;5;249mhttps://modal.com/rohitp934/apps/ap-iIDv1ylrykhzBrdjuU7bnC\u001b[0m\n"
      ]
     },
     "metadata": {},
     "output_type": "display_data"
    },
    {
     "data": {
      "text/html": [
       "<pre style=\"white-space:pre;overflow-x:auto;line-height:normal;font-family:Menlo,'DejaVu Sans Mono',consolas,'Courier New',monospace\"></pre>\n"
      ],
      "text/plain": []
     },
     "metadata": {},
     "output_type": "display_data"
    },
    {
     "data": {
      "application/vnd.jupyter.widget-view+json": {
       "model_id": "11984e687a8845efbd18ac6dbd2f6f99",
       "version_major": 2,
       "version_minor": 0
      },
      "text/plain": [
       "Output()"
      ]
     },
     "metadata": {},
     "output_type": "display_data"
    },
    {
     "data": {
      "text/html": [
       "<pre style=\"white-space:pre;overflow-x:auto;line-height:normal;font-family:Menlo,'DejaVu Sans Mono',consolas,'Courier New',monospace\"></pre>\n"
      ],
      "text/plain": []
     },
     "metadata": {},
     "output_type": "display_data"
    },
    {
     "data": {
      "text/html": [
       "<pre style=\"white-space:pre;overflow-x:auto;line-height:normal;font-family:Menlo,'DejaVu Sans Mono',consolas,'Courier New',monospace\"><span style=\"color: #008000; text-decoration-color: #008000\">✓</span> Created objects.\n",
       "<span style=\"color: #808080; text-decoration-color: #808080\">└── </span>🔨 Created train_and_evaluate.\n",
       "</pre>\n"
      ],
      "text/plain": [
       "\u001b[32m✓\u001b[0m Created objects.\n",
       "\u001b[38;5;244m└── \u001b[0m🔨 Created train_and_evaluate.\n"
      ]
     },
     "metadata": {},
     "output_type": "display_data"
    },
    {
     "data": {
      "application/vnd.jupyter.widget-view+json": {
       "model_id": "59b54782e7534f4f82dba64970cb5653",
       "version_major": 2,
       "version_minor": 0
      },
      "text/plain": [
       "Output()"
      ]
     },
     "metadata": {},
     "output_type": "display_data"
    },
    {
     "data": {
      "text/html": [
       "<pre style=\"white-space:pre;overflow-x:auto;line-height:normal;font-family:Menlo,'DejaVu Sans Mono',consolas,'Courier New',monospace\"><span style=\"color: #800000; text-decoration-color: #800000\">WARNING:absl:Type handler registry overriding type \"&lt;class 'float'&gt;\" collision on scalar\n",
       "</span></pre>\n"
      ],
      "text/plain": [
       "\u001b[31mWARNING:absl:Type handler registry overriding type \"<class 'float'>\" collision on scalar\n",
       "\u001b[0m"
      ]
     },
     "metadata": {},
     "output_type": "display_data"
    },
    {
     "data": {
      "text/html": [
       "<pre style=\"white-space:pre;overflow-x:auto;line-height:normal;font-family:Menlo,'DejaVu Sans Mono',consolas,'Courier New',monospace\"><span style=\"color: #800000; text-decoration-color: #800000\">WARNING:absl:Type handler registry overriding type \"&lt;class 'bytes'&gt;\" collision on scalar\n",
       "</span></pre>\n"
      ],
      "text/plain": [
       "\u001b[31mWARNING:absl:Type handler registry overriding type \"<class 'bytes'>\" collision on scalar\n",
       "\u001b[0m"
      ]
     },
     "metadata": {},
     "output_type": "display_data"
    },
    {
     "data": {
      "text/html": [
       "<pre style=\"white-space:pre;overflow-x:auto;line-height:normal;font-family:Menlo,'DejaVu Sans Mono',consolas,'Courier New',monospace\"><span style=\"color: #800000; text-decoration-color: #800000\">WARNING:absl:Type handler registry overriding type \"&lt;class 'numpy.number'&gt;\" collision on scalar\n",
       "</span></pre>\n"
      ],
      "text/plain": [
       "\u001b[31mWARNING:absl:Type handler registry overriding type \"<class 'numpy.number'>\" collision on scalar\n",
       "\u001b[0m"
      ]
     },
     "metadata": {},
     "output_type": "display_data"
    },
    {
     "data": {
      "text/html": [
       "<pre style=\"white-space:pre;overflow-x:auto;line-height:normal;font-family:Menlo,'DejaVu Sans Mono',consolas,'Courier New',monospace\"><span style=\"color: #800000; text-decoration-color: #800000\">2024-05-04 15:09:24.608624: W tensorflow/compiler/tf2tensorrt/utils/py_utils.cc:38] TF-TRT Warning: Could not find TensorRT\n",
       "</span></pre>\n"
      ],
      "text/plain": [
       "\u001b[31m2024-05-04 15:09:24.608624: W tensorflow/compiler/tf2tensorrt/utils/py_utils.cc:38] TF-TRT Warning: Could not find TensorRT\n",
       "\u001b[0m"
      ]
     },
     "metadata": {},
     "output_type": "display_data"
    },
    {
     "data": {
      "text/html": [
       "<pre style=\"white-space:pre;overflow-x:auto;line-height:normal;font-family:Menlo,'DejaVu Sans Mono',consolas,'Courier New',monospace\"><span style=\"color: #800000; text-decoration-color: #800000\">2024-05-04 15:09:27.155307: W external/xla/xla/service/gpu/nvptx_compiler.cc:718] The NVIDIA driver's CUDA version is 12.2 which is older than the ptxas CUDA version (12.3.107). Because the driver is older than the ptxas version, XLA is disabling parallel compilation, which may slow down compilation. You should update your NVIDIA driver or use the NVIDIA-provided CUDA forward compatibility packages.\n",
       "</span></pre>\n"
      ],
      "text/plain": [
       "\u001b[31m2024-05-04 15:09:27.155307: W external/xla/xla/service/gpu/nvptx_compiler.cc:718] The NVIDIA driver's CUDA version is 12.2 which is older than the ptxas CUDA version (12.3.107). Because the driver is older than the ptxas version, XLA is disabling parallel compilation, which may slow down compilation. You should update your NVIDIA driver or use the NVIDIA-provided CUDA forward compatibility packages.\n",
       "\u001b[0m"
      ]
     },
     "metadata": {},
     "output_type": "display_data"
    },
    {
     "data": {
      "text/html": [
       "<pre style=\"white-space:pre;overflow-x:auto;line-height:normal;font-family:Menlo,'DejaVu Sans Mono',consolas,'Courier New',monospace\"><span style=\"color: #000080; text-decoration-color: #000080\"></span></pre>\n"
      ],
      "text/plain": []
     },
     "metadata": {},
     "output_type": "display_data"
    },
    {
     "data": {
      "text/html": [
       "<pre style=\"white-space:pre;overflow-x:auto;line-height:normal;font-family:Menlo,'DejaVu Sans Mono',consolas,'Courier New',monospace\"><span style=\"color: #000080; text-decoration-color: #000080\">JAX process: 0 / 1\n",
       "JAX local devices: [cuda(id=0)]\n",
       "</span></pre>\n"
      ],
      "text/plain": [
       "\u001b[34mJAX process: 0 / 1\n",
       "JAX local devices: [cuda(id=0)]\n",
       "\u001b[0m"
      ]
     },
     "metadata": {},
     "output_type": "display_data"
    },
    {
     "data": {
      "text/html": [
       "<pre style=\"white-space:pre;overflow-x:auto;line-height:normal;font-family:Menlo,'DejaVu Sans Mono',consolas,'Courier New',monospace\"><span style=\"color: #000080; text-decoration-color: #000080\"></span></pre>\n"
      ],
      "text/plain": []
     },
     "metadata": {},
     "output_type": "display_data"
    },
    {
     "data": {
      "text/html": [
       "<pre style=\"white-space:pre;overflow-x:auto;line-height:normal;font-family:Menlo,'DejaVu Sans Mono',consolas,'Courier New',monospace\"><span style=\"color: #000080; text-decoration-color: #000080\">Inputs: (15036, 128, 128, 3), Labels: (15036, 128, 128, 1)\n",
       "Dataset created with 15036 examples\n",
       "</span></pre>\n"
      ],
      "text/plain": [
       "\u001b[34mInputs: (15036, 128, 128, 3), Labels: (15036, 128, 128, 1)\n",
       "Dataset created with 15036 examples\n",
       "\u001b[0m"
      ]
     },
     "metadata": {},
     "output_type": "display_data"
    },
    {
     "data": {
      "text/html": [
       "<pre style=\"white-space:pre;overflow-x:auto;line-height:normal;font-family:Menlo,'DejaVu Sans Mono',consolas,'Courier New',monospace\"><span style=\"color: #000080; text-decoration-color: #000080\"></span></pre>\n"
      ],
      "text/plain": []
     },
     "metadata": {},
     "output_type": "display_data"
    },
    {
     "data": {
      "text/html": [
       "<pre style=\"white-space:pre;overflow-x:auto;line-height:normal;font-family:Menlo,'DejaVu Sans Mono',consolas,'Courier New',monospace\"><span style=\"color: #000080; text-decoration-color: #000080\">Training data: (13532, 128, 128, 3), Labels: (13532, 128, 128, 1)\n",
       "</span></pre>\n"
      ],
      "text/plain": [
       "\u001b[34mTraining data: (13532, 128, 128, 3), Labels: (13532, 128, 128, 1)\n",
       "\u001b[0m"
      ]
     },
     "metadata": {},
     "output_type": "display_data"
    },
    {
     "data": {
      "text/html": [
       "<pre style=\"white-space:pre;overflow-x:auto;line-height:normal;font-family:Menlo,'DejaVu Sans Mono',consolas,'Courier New',monospace\"><span style=\"color: #000080; text-decoration-color: #000080\">Testing data: (1504, 128, 128, 3), Labels: (1504, 128, 128, 1)\n",
       "</span></pre>\n"
      ],
      "text/plain": [
       "\u001b[34mTesting data: (1504, 128, 128, 3), Labels: (1504, 128, 128, 1)\n",
       "\u001b[0m"
      ]
     },
     "metadata": {},
     "output_type": "display_data"
    },
    {
     "data": {
      "text/html": [
       "<pre style=\"white-space:pre;overflow-x:auto;line-height:normal;font-family:Menlo,'DejaVu Sans Mono',consolas,'Courier New',monospace\"><span style=\"color: #800000; text-decoration-color: #800000\">\n",
       "</span></pre>\n"
      ],
      "text/plain": [
       "\u001b[31m\n",
       "\u001b[0m"
      ]
     },
     "metadata": {},
     "output_type": "display_data"
    },
    {
     "data": {
      "text/html": [
       "<pre style=\"white-space:pre;overflow-x:auto;line-height:normal;font-family:Menlo,'DejaVu Sans Mono',consolas,'Courier New',monospace\"><span style=\"color: #800000; text-decoration-color: #800000\">\u001b[1A  0%|          | 0/100 [00:00&lt;?, ?it/s]2024-05-04 15:11:41.948230: E external/xla/xla/service/slow_operation_alarm.cc:65] Trying algorithm eng0{} for conv (f32[16,32,5,5]{3,2,1,0}, u8[0]{0}) custom-call(f32[1504,32,64,64]{3,2,1,0}, f32[1504,16,64,64]{3,2,1,0}), window={size=5x5 pad=2_2x2_2}, dim_labels=bf01_oi01-&gt;bf01, custom_call_target=\"__cudnn$convBackwardFilter\", backend_config={\"operation_queue_id\":\"0\",\"wait_on_operation_queues\":[],\"cudnn_conv_backend_config\":{\"conv_result_scale\":1,\"activation_mode\":\"kNone\",\"side_input_scale\":0,\"leakyrelu_alpha\":0},\"force_earliest_schedule\":false} is taking a while...\n",
       "</span></pre>\n"
      ],
      "text/plain": [
       "\u001b[31m\u001b[1A  0%|          | 0/100 [00:00<?, ?it/s]2024-05-04 15:11:41.948230: E external/xla/xla/service/slow_operation_alarm.cc:65] Trying algorithm eng0{} for conv (f32[16,32,5,5]{3,2,1,0}, u8[0]{0}) custom-call(f32[1504,32,64,64]{3,2,1,0}, f32[1504,16,64,64]{3,2,1,0}), window={size=5x5 pad=2_2x2_2}, dim_labels=bf01_oi01->bf01, custom_call_target=\"__cudnn$convBackwardFilter\", backend_config={\"operation_queue_id\":\"0\",\"wait_on_operation_queues\":[],\"cudnn_conv_backend_config\":{\"conv_result_scale\":1,\"activation_mode\":\"kNone\",\"side_input_scale\":0,\"leakyrelu_alpha\":0},\"force_earliest_schedule\":false} is taking a while...\n",
       "\u001b[0m"
      ]
     },
     "metadata": {},
     "output_type": "display_data"
    },
    {
     "data": {
      "text/html": [
       "<pre style=\"white-space:pre;overflow-x:auto;line-height:normal;font-family:Menlo,'DejaVu Sans Mono',consolas,'Courier New',monospace\"><span style=\"color: #800000; text-decoration-color: #800000\">2024-05-04 15:11:42.586450: E external/xla/xla/service/slow_operation_alarm.cc:133] The operation took 1.638312085s\n",
       "Trying algorithm eng0{} for conv (f32[16,32,5,5]{3,2,1,0}, u8[0]{0}) custom-call(f32[1504,32,64,64]{3,2,1,0}, f32[1504,16,64,64]{3,2,1,0}), window={size=5x5 pad=2_2x2_2}, dim_labels=bf01_oi01-&gt;bf01, custom_call_target=\"__cudnn$convBackwardFilter\", backend_config={\"operation_queue_id\":\"0\",\"wait_on_operation_queues\":[],\"cudnn_conv_backend_config\":{\"conv_result_scale\":1,\"activation_mode\":\"kNone\",\"side_input_scale\":0,\"leakyrelu_alpha\":0},\"force_earliest_schedule\":false} is taking a while...\n",
       "</span></pre>\n"
      ],
      "text/plain": [
       "\u001b[31m2024-05-04 15:11:42.586450: E external/xla/xla/service/slow_operation_alarm.cc:133] The operation took 1.638312085s\n",
       "Trying algorithm eng0{} for conv (f32[16,32,5,5]{3,2,1,0}, u8[0]{0}) custom-call(f32[1504,32,64,64]{3,2,1,0}, f32[1504,16,64,64]{3,2,1,0}), window={size=5x5 pad=2_2x2_2}, dim_labels=bf01_oi01->bf01, custom_call_target=\"__cudnn$convBackwardFilter\", backend_config={\"operation_queue_id\":\"0\",\"wait_on_operation_queues\":[],\"cudnn_conv_backend_config\":{\"conv_result_scale\":1,\"activation_mode\":\"kNone\",\"side_input_scale\":0,\"leakyrelu_alpha\":0},\"force_earliest_schedule\":false} is taking a while...\n",
       "\u001b[0m"
      ]
     },
     "metadata": {},
     "output_type": "display_data"
    },
    {
     "data": {
      "text/html": [
       "<pre style=\"white-space:pre;overflow-x:auto;line-height:normal;font-family:Menlo,'DejaVu Sans Mono',consolas,'Courier New',monospace\"><span style=\"color: #800000; text-decoration-color: #800000\">2024-05-04 15:11:49.566038: E external/xla/xla/service/slow_operation_alarm.cc:65] Trying algorithm eng0{} for conv (f32[32,3,5,5]{3,2,1,0}, u8[0]{0}) custom-call(f32[1504,3,128,128]{3,2,1,0}, f32[1504,32,128,128]{3,2,1,0}), window={size=5x5 pad=2_2x2_2}, dim_labels=bf01_oi01-&gt;bf01, custom_call_target=\"__cudnn$convBackwardFilter\", backend_config={\"operation_queue_id\":\"0\",\"wait_on_operation_queues\":[],\"cudnn_conv_backend_config\":{\"conv_result_scale\":1,\"activation_mode\":\"kNone\",\"side_input_scale\":0,\"leakyrelu_alpha\":0},\"force_earliest_schedule\":false} is taking a while...\n",
       "</span></pre>\n"
      ],
      "text/plain": [
       "\u001b[31m2024-05-04 15:11:49.566038: E external/xla/xla/service/slow_operation_alarm.cc:65] Trying algorithm eng0{} for conv (f32[32,3,5,5]{3,2,1,0}, u8[0]{0}) custom-call(f32[1504,3,128,128]{3,2,1,0}, f32[1504,32,128,128]{3,2,1,0}), window={size=5x5 pad=2_2x2_2}, dim_labels=bf01_oi01->bf01, custom_call_target=\"__cudnn$convBackwardFilter\", backend_config={\"operation_queue_id\":\"0\",\"wait_on_operation_queues\":[],\"cudnn_conv_backend_config\":{\"conv_result_scale\":1,\"activation_mode\":\"kNone\",\"side_input_scale\":0,\"leakyrelu_alpha\":0},\"force_earliest_schedule\":false} is taking a while...\n",
       "\u001b[0m"
      ]
     },
     "metadata": {},
     "output_type": "display_data"
    },
    {
     "data": {
      "text/html": [
       "<pre style=\"white-space:pre;overflow-x:auto;line-height:normal;font-family:Menlo,'DejaVu Sans Mono',consolas,'Courier New',monospace\"><span style=\"color: #800000; text-decoration-color: #800000\">2024-05-04 15:11:49.638667: E external/xla/xla/service/slow_operation_alarm.cc:133] The operation took 1.073333325s\n",
       "Trying algorithm eng0{} for conv (f32[32,3,5,5]{3,2,1,0}, u8[0]{0}) custom-call(f32[1504,3,128,128]{3,2,1,0}, f32[1504,32,128,128]{3,2,1,0}), window={size=5x5 pad=2_2x2_2}, dim_labels=bf01_oi01-&gt;bf01, custom_call_target=\"__cudnn$convBackwardFilter\", backend_config={\"operation_queue_id\":\"0\",\"wait_on_operation_queues\":[],\"cudnn_conv_backend_config\":{\"conv_result_scale\":1,\"activation_mode\":\"kNone\",\"side_input_scale\":0,\"leakyrelu_alpha\":0},\"force_earliest_schedule\":false} is taking a while...\n",
       "</span></pre>\n"
      ],
      "text/plain": [
       "\u001b[31m2024-05-04 15:11:49.638667: E external/xla/xla/service/slow_operation_alarm.cc:133] The operation took 1.073333325s\n",
       "Trying algorithm eng0{} for conv (f32[32,3,5,5]{3,2,1,0}, u8[0]{0}) custom-call(f32[1504,3,128,128]{3,2,1,0}, f32[1504,32,128,128]{3,2,1,0}), window={size=5x5 pad=2_2x2_2}, dim_labels=bf01_oi01->bf01, custom_call_target=\"__cudnn$convBackwardFilter\", backend_config={\"operation_queue_id\":\"0\",\"wait_on_operation_queues\":[],\"cudnn_conv_backend_config\":{\"conv_result_scale\":1,\"activation_mode\":\"kNone\",\"side_input_scale\":0,\"leakyrelu_alpha\":0},\"force_earliest_schedule\":false} is taking a while...\n",
       "\u001b[0m"
      ]
     },
     "metadata": {},
     "output_type": "display_data"
    },
    {
     "data": {
      "text/html": [
       "<pre style=\"white-space:pre;overflow-x:auto;line-height:normal;font-family:Menlo,'DejaVu Sans Mono',consolas,'Courier New',monospace\"><span style=\"color: #800000; text-decoration-color: #800000\">2024-05-04 15:11:51.525063: E external/xla/xla/service/slow_operation_alarm.cc:65] Trying algorithm eng57{k2=5,k13=1,k14=2,k18=1,k23=0} for conv (f32[32,3,5,5]{3,2,1,0}, u8[0]{0}) custom-call(f32[1504,3,128,128]{3,2,1,0}, f32[1504,32,128,128]{3,2,1,0}), window={size=5x5 pad=2_2x2_2}, dim_labels=bf01_oi01-&gt;bf01, custom_call_target=\"__cudnn$convBackwardFilter\", backend_config={\"operation_queue_id\":\"0\",\"wait_on_operation_queues\":[],\"cudnn_conv_backend_config\":{\"conv_result_scale\":1,\"activation_mode\":\"kNone\",\"side_input_scale\":0,\"leakyrelu_alpha\":0},\"force_earliest_schedule\":false} is taking a while...\n",
       "</span></pre>\n"
      ],
      "text/plain": [
       "\u001b[31m2024-05-04 15:11:51.525063: E external/xla/xla/service/slow_operation_alarm.cc:65] Trying algorithm eng57{k2=5,k13=1,k14=2,k18=1,k23=0} for conv (f32[32,3,5,5]{3,2,1,0}, u8[0]{0}) custom-call(f32[1504,3,128,128]{3,2,1,0}, f32[1504,32,128,128]{3,2,1,0}), window={size=5x5 pad=2_2x2_2}, dim_labels=bf01_oi01->bf01, custom_call_target=\"__cudnn$convBackwardFilter\", backend_config={\"operation_queue_id\":\"0\",\"wait_on_operation_queues\":[],\"cudnn_conv_backend_config\":{\"conv_result_scale\":1,\"activation_mode\":\"kNone\",\"side_input_scale\":0,\"leakyrelu_alpha\":0},\"force_earliest_schedule\":false} is taking a while...\n",
       "\u001b[0m"
      ]
     },
     "metadata": {},
     "output_type": "display_data"
    },
    {
     "data": {
      "text/html": [
       "<pre style=\"white-space:pre;overflow-x:auto;line-height:normal;font-family:Menlo,'DejaVu Sans Mono',consolas,'Courier New',monospace\"><span style=\"color: #800000; text-decoration-color: #800000\">2024-05-04 15:11:51.894979: E external/xla/xla/service/gpu/buffer_comparator.cc:151] Difference at 0: 6.01961e+06, expected 4.55092e+06\n",
       "</span></pre>\n"
      ],
      "text/plain": [
       "\u001b[31m2024-05-04 15:11:51.894979: E external/xla/xla/service/gpu/buffer_comparator.cc:151] Difference at 0: 6.01961e+06, expected 4.55092e+06\n",
       "\u001b[0m"
      ]
     },
     "metadata": {},
     "output_type": "display_data"
    },
    {
     "data": {
      "text/html": [
       "<pre style=\"white-space:pre;overflow-x:auto;line-height:normal;font-family:Menlo,'DejaVu Sans Mono',consolas,'Courier New',monospace\"><span style=\"color: #800000; text-decoration-color: #800000\">2024-05-04 15:11:51.895302: E external/xla/xla/service/gpu/buffer_comparator.cc:151] Difference at 1: 6.06622e+06, expected 4.57391e+06\n",
       "</span></pre>\n"
      ],
      "text/plain": [
       "\u001b[31m2024-05-04 15:11:51.895302: E external/xla/xla/service/gpu/buffer_comparator.cc:151] Difference at 1: 6.06622e+06, expected 4.57391e+06\n",
       "\u001b[0m"
      ]
     },
     "metadata": {},
     "output_type": "display_data"
    },
    {
     "data": {
      "text/html": [
       "<pre style=\"white-space:pre;overflow-x:auto;line-height:normal;font-family:Menlo,'DejaVu Sans Mono',consolas,'Courier New',monospace\"><span style=\"color: #800000; text-decoration-color: #800000\">2024-05-04 15:11:51.895471: E external/xla/xla/service/gpu/buffer_comparator.cc:151] Difference at 2: 6.11386e+06, expected 4.59822e+06\n",
       "</span></pre>\n"
      ],
      "text/plain": [
       "\u001b[31m2024-05-04 15:11:51.895471: E external/xla/xla/service/gpu/buffer_comparator.cc:151] Difference at 2: 6.11386e+06, expected 4.59822e+06\n",
       "\u001b[0m"
      ]
     },
     "metadata": {},
     "output_type": "display_data"
    },
    {
     "data": {
      "text/html": [
       "<pre style=\"white-space:pre;overflow-x:auto;line-height:normal;font-family:Menlo,'DejaVu Sans Mono',consolas,'Courier New',monospace\"><span style=\"color: #800000; text-decoration-color: #800000\">2024-05-04 15:11:51.895589: E external/xla/xla/service/gpu/buffer_comparator.cc:151] Difference at 3: 6.06724e+06, expected 4.57504e+06\n",
       "</span></pre>\n"
      ],
      "text/plain": [
       "\u001b[31m2024-05-04 15:11:51.895589: E external/xla/xla/service/gpu/buffer_comparator.cc:151] Difference at 3: 6.06724e+06, expected 4.57504e+06\n",
       "\u001b[0m"
      ]
     },
     "metadata": {},
     "output_type": "display_data"
    },
    {
     "data": {
      "text/html": [
       "<pre style=\"white-space:pre;overflow-x:auto;line-height:normal;font-family:Menlo,'DejaVu Sans Mono',consolas,'Courier New',monospace\"><span style=\"color: #800000; text-decoration-color: #800000\">2024-05-04 15:11:51.895700: E external/xla/xla/service/gpu/buffer_comparator.cc:151] Difference at 4: 6.01909e+06, expected 4.55071e+06\n",
       "</span></pre>\n"
      ],
      "text/plain": [
       "\u001b[31m2024-05-04 15:11:51.895700: E external/xla/xla/service/gpu/buffer_comparator.cc:151] Difference at 4: 6.01909e+06, expected 4.55071e+06\n",
       "\u001b[0m"
      ]
     },
     "metadata": {},
     "output_type": "display_data"
    },
    {
     "data": {
      "text/html": [
       "<pre style=\"white-space:pre;overflow-x:auto;line-height:normal;font-family:Menlo,'DejaVu Sans Mono',consolas,'Courier New',monospace\"><span style=\"color: #800000; text-decoration-color: #800000\">2024-05-04 15:11:51.895811: E external/xla/xla/service/gpu/buffer_comparator.cc:151] Difference at 5: 6.06728e+06, expected 4.57381e+06\n",
       "</span></pre>\n"
      ],
      "text/plain": [
       "\u001b[31m2024-05-04 15:11:51.895811: E external/xla/xla/service/gpu/buffer_comparator.cc:151] Difference at 5: 6.06728e+06, expected 4.57381e+06\n",
       "\u001b[0m"
      ]
     },
     "metadata": {},
     "output_type": "display_data"
    },
    {
     "data": {
      "text/html": [
       "<pre style=\"white-space:pre;overflow-x:auto;line-height:normal;font-family:Menlo,'DejaVu Sans Mono',consolas,'Courier New',monospace\"><span style=\"color: #800000; text-decoration-color: #800000\">2024-05-04 15:11:51.895918: E external/xla/xla/service/gpu/buffer_comparator.cc:151] Difference at 6: 6.11497e+06, expected 4.59751e+06\n",
       "</span></pre>\n"
      ],
      "text/plain": [
       "\u001b[31m2024-05-04 15:11:51.895918: E external/xla/xla/service/gpu/buffer_comparator.cc:151] Difference at 6: 6.11497e+06, expected 4.59751e+06\n",
       "\u001b[0m"
      ]
     },
     "metadata": {},
     "output_type": "display_data"
    },
    {
     "data": {
      "text/html": [
       "<pre style=\"white-space:pre;overflow-x:auto;line-height:normal;font-family:Menlo,'DejaVu Sans Mono',consolas,'Courier New',monospace\"><span style=\"color: #800000; text-decoration-color: #800000\">2024-05-04 15:11:51.896019: E external/xla/xla/service/gpu/buffer_comparator.cc:151] Difference at 7: 6.16445e+06, expected 4.62251e+06\n",
       "</span></pre>\n"
      ],
      "text/plain": [
       "\u001b[31m2024-05-04 15:11:51.896019: E external/xla/xla/service/gpu/buffer_comparator.cc:151] Difference at 7: 6.16445e+06, expected 4.62251e+06\n",
       "\u001b[0m"
      ]
     },
     "metadata": {},
     "output_type": "display_data"
    },
    {
     "data": {
      "text/html": [
       "<pre style=\"white-space:pre;overflow-x:auto;line-height:normal;font-family:Menlo,'DejaVu Sans Mono',consolas,'Courier New',monospace\"><span style=\"color: #800000; text-decoration-color: #800000\">2024-05-04 15:11:51.896297: E external/xla/xla/service/gpu/buffer_comparator.cc:151] Difference at 8: 6.11657e+06, expected 4.5983e+06\n",
       "</span></pre>\n"
      ],
      "text/plain": [
       "\u001b[31m2024-05-04 15:11:51.896297: E external/xla/xla/service/gpu/buffer_comparator.cc:151] Difference at 8: 6.11657e+06, expected 4.5983e+06\n",
       "\u001b[0m"
      ]
     },
     "metadata": {},
     "output_type": "display_data"
    },
    {
     "data": {
      "text/html": [
       "<pre style=\"white-space:pre;overflow-x:auto;line-height:normal;font-family:Menlo,'DejaVu Sans Mono',consolas,'Courier New',monospace\"><span style=\"color: #800000; text-decoration-color: #800000\">2024-05-04 15:11:51.896392: E external/xla/xla/service/gpu/buffer_comparator.cc:151] Difference at 9: 6.06724e+06, expected 4.5739e+06\n",
       "</span></pre>\n"
      ],
      "text/plain": [
       "\u001b[31m2024-05-04 15:11:51.896392: E external/xla/xla/service/gpu/buffer_comparator.cc:151] Difference at 9: 6.06724e+06, expected 4.5739e+06\n",
       "\u001b[0m"
      ]
     },
     "metadata": {},
     "output_type": "display_data"
    },
    {
     "data": {
      "text/html": [
       "<pre style=\"white-space:pre;overflow-x:auto;line-height:normal;font-family:Menlo,'DejaVu Sans Mono',consolas,'Courier New',monospace\"><span style=\"color: #800000; text-decoration-color: #800000\">2024-05-04 15:11:51.896506: E external/xla/xla/service/gpu/conv_algorithm_picker.cc:747] Results mismatch between different convolution algorithms. This is likely a bug/unexpected loss of precision in cudnn.\n",
       "(f32[32,3,5,5]{3,2,1,0}, u8[0]{0}) custom-call(f32[1504,3,128,128]{3,2,1,0}, f32[1504,32,128,128]{3,2,1,0}), window={size=5x5 pad=2_2x2_2}, dim_labels=bf01_oi01-&gt;bf01, custom_call_target=\"__cudnn$convBackwardFilter\", backend_config={\"operation_queue_id\":\"0\",\"wait_on_operation_queues\":[],\"cudnn_conv_backend_config\":{\"conv_result_scale\":1,\"activation_mode\":\"kNone\",\"side_input_scale\":0,\"leakyrelu_alpha\":0},\"force_earliest_schedule\":false} for eng21{k2=1,k4=3,k5=1,k6=0,k7=0} vs eng57{k2=5,k13=1,k14=2,k18=1,k23=0}\n",
       "</span></pre>\n"
      ],
      "text/plain": [
       "\u001b[31m2024-05-04 15:11:51.896506: E external/xla/xla/service/gpu/conv_algorithm_picker.cc:747] Results mismatch between different convolution algorithms. This is likely a bug/unexpected loss of precision in cudnn.\n",
       "(f32[32,3,5,5]{3,2,1,0}, u8[0]{0}) custom-call(f32[1504,3,128,128]{3,2,1,0}, f32[1504,32,128,128]{3,2,1,0}), window={size=5x5 pad=2_2x2_2}, dim_labels=bf01_oi01->bf01, custom_call_target=\"__cudnn$convBackwardFilter\", backend_config={\"operation_queue_id\":\"0\",\"wait_on_operation_queues\":[],\"cudnn_conv_backend_config\":{\"conv_result_scale\":1,\"activation_mode\":\"kNone\",\"side_input_scale\":0,\"leakyrelu_alpha\":0},\"force_earliest_schedule\":false} for eng21{k2=1,k4=3,k5=1,k6=0,k7=0} vs eng57{k2=5,k13=1,k14=2,k18=1,k23=0}\n",
       "\u001b[0m"
      ]
     },
     "metadata": {},
     "output_type": "display_data"
    },
    {
     "data": {
      "text/html": [
       "<pre style=\"white-space:pre;overflow-x:auto;line-height:normal;font-family:Menlo,'DejaVu Sans Mono',consolas,'Courier New',monospace\"><span style=\"color: #800000; text-decoration-color: #800000\">2024-05-04 15:11:51.896593: E external/xla/xla/service/gpu/conv_algorithm_picker.cc:307] Device: NVIDIA A10\n",
       "</span></pre>\n"
      ],
      "text/plain": [
       "\u001b[31m2024-05-04 15:11:51.896593: E external/xla/xla/service/gpu/conv_algorithm_picker.cc:307] Device: NVIDIA A10\n",
       "\u001b[0m"
      ]
     },
     "metadata": {},
     "output_type": "display_data"
    },
    {
     "data": {
      "text/html": [
       "<pre style=\"white-space:pre;overflow-x:auto;line-height:normal;font-family:Menlo,'DejaVu Sans Mono',consolas,'Courier New',monospace\"><span style=\"color: #800000; text-decoration-color: #800000\">2024-05-04 15:11:51.896706: E external/xla/xla/service/gpu/conv_algorithm_picker.cc:308] Platform: Compute Capability 8.6\n",
       "</span></pre>\n"
      ],
      "text/plain": [
       "\u001b[31m2024-05-04 15:11:51.896706: E external/xla/xla/service/gpu/conv_algorithm_picker.cc:308] Platform: Compute Capability 8.6\n",
       "\u001b[0m"
      ]
     },
     "metadata": {},
     "output_type": "display_data"
    },
    {
     "data": {
      "text/html": [
       "<pre style=\"white-space:pre;overflow-x:auto;line-height:normal;font-family:Menlo,'DejaVu Sans Mono',consolas,'Courier New',monospace\"><span style=\"color: #800000; text-decoration-color: #800000\">2024-05-04 15:11:51.896791: E external/xla/xla/service/gpu/conv_algorithm_picker.cc:309] Driver: 12020 (535.129.3)\n",
       "</span></pre>\n"
      ],
      "text/plain": [
       "\u001b[31m2024-05-04 15:11:51.896791: E external/xla/xla/service/gpu/conv_algorithm_picker.cc:309] Driver: 12020 (535.129.3)\n",
       "\u001b[0m"
      ]
     },
     "metadata": {},
     "output_type": "display_data"
    },
    {
     "data": {
      "text/html": [
       "<pre style=\"white-space:pre;overflow-x:auto;line-height:normal;font-family:Menlo,'DejaVu Sans Mono',consolas,'Courier New',monospace\"><span style=\"color: #800000; text-decoration-color: #800000\">2024-05-04 15:11:51.896879: E external/xla/xla/service/gpu/conv_algorithm_picker.cc:310] Runtime: &lt;undefined&gt;\n",
       "</span></pre>\n"
      ],
      "text/plain": [
       "\u001b[31m2024-05-04 15:11:51.896879: E external/xla/xla/service/gpu/conv_algorithm_picker.cc:310] Runtime: <undefined>\n",
       "\u001b[0m"
      ]
     },
     "metadata": {},
     "output_type": "display_data"
    },
    {
     "data": {
      "text/html": [
       "<pre style=\"white-space:pre;overflow-x:auto;line-height:normal;font-family:Menlo,'DejaVu Sans Mono',consolas,'Courier New',monospace\"><span style=\"color: #800000; text-decoration-color: #800000\">2024-05-04 15:11:51.896970: E external/xla/xla/service/gpu/conv_algorithm_picker.cc:317] cudnn version: 8.9.7\n",
       "</span></pre>\n"
      ],
      "text/plain": [
       "\u001b[31m2024-05-04 15:11:51.896970: E external/xla/xla/service/gpu/conv_algorithm_picker.cc:317] cudnn version: 8.9.7\n",
       "\u001b[0m"
      ]
     },
     "metadata": {},
     "output_type": "display_data"
    },
    {
     "data": {
      "text/html": [
       "<pre style=\"white-space:pre;overflow-x:auto;line-height:normal;font-family:Menlo,'DejaVu Sans Mono',consolas,'Courier New',monospace\"><span style=\"color: #800000; text-decoration-color: #800000\">2024-05-04 15:11:51.897067: E external/xla/xla/service/slow_operation_alarm.cc:133] The operation took 1.372202606s\n",
       "Trying algorithm eng57{k2=5,k13=1,k14=2,k18=1,k23=0} for conv (f32[32,3,5,5]{3,2,1,0}, u8[0]{0}) custom-call(f32[1504,3,128,128]{3,2,1,0}, f32[1504,32,128,128]{3,2,1,0}), window={size=5x5 pad=2_2x2_2}, dim_labels=bf01_oi01-&gt;bf01, custom_call_target=\"__cudnn$convBackwardFilter\", backend_config={\"operation_queue_id\":\"0\",\"wait_on_operation_queues\":[],\"cudnn_conv_backend_config\":{\"conv_result_scale\":1,\"activation_mode\":\"kNone\",\"side_input_scale\":0,\"leakyrelu_alpha\":0},\"force_earliest_schedule\":false} is taking a while...\n",
       "</span></pre>\n"
      ],
      "text/plain": [
       "\u001b[31m2024-05-04 15:11:51.897067: E external/xla/xla/service/slow_operation_alarm.cc:133] The operation took 1.372202606s\n",
       "Trying algorithm eng57{k2=5,k13=1,k14=2,k18=1,k23=0} for conv (f32[32,3,5,5]{3,2,1,0}, u8[0]{0}) custom-call(f32[1504,3,128,128]{3,2,1,0}, f32[1504,32,128,128]{3,2,1,0}), window={size=5x5 pad=2_2x2_2}, dim_labels=bf01_oi01->bf01, custom_call_target=\"__cudnn$convBackwardFilter\", backend_config={\"operation_queue_id\":\"0\",\"wait_on_operation_queues\":[],\"cudnn_conv_backend_config\":{\"conv_result_scale\":1,\"activation_mode\":\"kNone\",\"side_input_scale\":0,\"leakyrelu_alpha\":0},\"force_earliest_schedule\":false} is taking a while...\n",
       "\u001b[0m"
      ]
     },
     "metadata": {},
     "output_type": "display_data"
    },
    {
     "data": {
      "text/html": [
       "<pre style=\"white-space:pre;overflow-x:auto;line-height:normal;font-family:Menlo,'DejaVu Sans Mono',consolas,'Courier New',monospace\"><span style=\"color: #000080; text-decoration-color: #000080\"></span></pre>\n"
      ],
      "text/plain": []
     },
     "metadata": {},
     "output_type": "display_data"
    },
    {
     "data": {
      "text/html": [
       "<pre style=\"white-space:pre;overflow-x:auto;line-height:normal;font-family:Menlo,'DejaVu Sans Mono',consolas,'Courier New',monospace\"><span style=\"color: #000080; text-decoration-color: #000080\">epoch:0, train_loss: 1.805833339691162, train_accuracy: 34.20366644859314, test_loss: 1.8027949333190918, test_accuracy: 35.84792709350586\n",
       "</span></pre>\n"
      ],
      "text/plain": [
       "\u001b[34mepoch:0, train_loss: 1.805833339691162, train_accuracy: 34.20366644859314, test_loss: 1.8027949333190918, test_accuracy: 35.84792709350586\n",
       "\u001b[0m"
      ]
     },
     "metadata": {},
     "output_type": "display_data"
    },
    {
     "data": {
      "text/html": [
       "<pre style=\"white-space:pre;overflow-x:auto;line-height:normal;font-family:Menlo,'DejaVu Sans Mono',consolas,'Courier New',monospace\"><span style=\"color: #800000; text-decoration-color: #800000\">WARNING:absl:SaveArgs.aggregate is deprecated, please use custom TypeHandler (https://orbax.readthedocs.io/en/latest/custom_handlers.html#typehandler) or contact Orbax team to migrate before May 1st, 2024. If your Pytree has empty ([], {}, None) values then use PyTreeCheckpointHandler(..., write_tree_metadata=True, ...) or use StandardCheckpointHandler to avoid TypeHandler Registry error. Please note that PyTreeCheckpointHandler.write_tree_metadata default value is already set to True.\n",
       "</span></pre>\n"
      ],
      "text/plain": [
       "\u001b[31mWARNING:absl:SaveArgs.aggregate is deprecated, please use custom TypeHandler (https://orbax.readthedocs.io/en/latest/custom_handlers.html#typehandler) or contact Orbax team to migrate before May 1st, 2024. If your Pytree has empty ([], {}, None) values then use PyTreeCheckpointHandler(..., write_tree_metadata=True, ...) or use StandardCheckpointHandler to avoid TypeHandler Registry error. Please note that PyTreeCheckpointHandler.write_tree_metadata default value is already set to True.\n",
       "\u001b[0m"
      ]
     },
     "metadata": {},
     "output_type": "display_data"
    },
    {
     "data": {
      "text/html": [
       "<pre style=\"white-space:pre;overflow-x:auto;line-height:normal;font-family:Menlo,'DejaVu Sans Mono',consolas,'Courier New',monospace\"><span style=\"color: #800000; text-decoration-color: #800000\">\n",
       "</span></pre>\n"
      ],
      "text/plain": [
       "\u001b[31m\n",
       "\u001b[0m"
      ]
     },
     "metadata": {},
     "output_type": "display_data"
    },
    {
     "data": {
      "text/html": [
       "<pre style=\"white-space:pre;overflow-x:auto;line-height:normal;font-family:Menlo,'DejaVu Sans Mono',consolas,'Courier New',monospace\"><span style=\"color: #000080; text-decoration-color: #000080\">epoch:1, train_loss: 1.7993360757827759, train_accuracy: 34.5486044883728, test_loss: 1.8075889348983765, test_accuracy: 35.934104919433594\n",
       "</span></pre>\n"
      ],
      "text/plain": [
       "\u001b[34mepoch:1, train_loss: 1.7993360757827759, train_accuracy: 34.5486044883728, test_loss: 1.8075889348983765, test_accuracy: 35.934104919433594\n",
       "\u001b[0m"
      ]
     },
     "metadata": {},
     "output_type": "display_data"
    },
    {
     "data": {
      "text/html": [
       "<pre style=\"white-space:pre;overflow-x:auto;line-height:normal;font-family:Menlo,'DejaVu Sans Mono',consolas,'Courier New',monospace\"><span style=\"color: #800000; text-decoration-color: #800000\">\u001b[1A  1%|          | 1/100 [00:38&lt;1:04:09, 38.88s/it]\n",
       "</span></pre>\n"
      ],
      "text/plain": [
       "\u001b[31m\u001b[1A  1%|          | 1/100 [00:38<1:04:09, 38.88s/it]\n",
       "\u001b[0m"
      ]
     },
     "metadata": {},
     "output_type": "display_data"
    },
    {
     "data": {
      "text/html": [
       "<pre style=\"white-space:pre;overflow-x:auto;line-height:normal;font-family:Menlo,'DejaVu Sans Mono',consolas,'Courier New',monospace\"><span style=\"color: #000080; text-decoration-color: #000080\"></span></pre>\n"
      ],
      "text/plain": []
     },
     "metadata": {},
     "output_type": "display_data"
    },
    {
     "data": {
      "text/html": [
       "<pre style=\"white-space:pre;overflow-x:auto;line-height:normal;font-family:Menlo,'DejaVu Sans Mono',consolas,'Courier New',monospace\"><span style=\"color: #000080; text-decoration-color: #000080\">epoch:2, train_loss: 1.7974451780319214, train_accuracy: 34.55507457256317, test_loss: 1.7871383428573608, test_accuracy: 35.934104919433594\n",
       "</span></pre>\n"
      ],
      "text/plain": [
       "\u001b[34mepoch:2, train_loss: 1.7974451780319214, train_accuracy: 34.55507457256317, test_loss: 1.7871383428573608, test_accuracy: 35.934104919433594\n",
       "\u001b[0m"
      ]
     },
     "metadata": {},
     "output_type": "display_data"
    },
    {
     "data": {
      "text/html": [
       "<pre style=\"white-space:pre;overflow-x:auto;line-height:normal;font-family:Menlo,'DejaVu Sans Mono',consolas,'Courier New',monospace\"><span style=\"color: #800000; text-decoration-color: #800000\">\u001b[1A  2%|▏         | 2/100 [00:44&lt;32:00, 19.60s/it]  \n",
       "</span></pre>\n"
      ],
      "text/plain": [
       "\u001b[31m\u001b[1A  2%|▏         | 2/100 [00:44<32:00, 19.60s/it]  \n",
       "\u001b[0m"
      ]
     },
     "metadata": {},
     "output_type": "display_data"
    },
    {
     "data": {
      "text/html": [
       "<pre style=\"white-space:pre;overflow-x:auto;line-height:normal;font-family:Menlo,'DejaVu Sans Mono',consolas,'Courier New',monospace\"><span style=\"color: #000080; text-decoration-color: #000080\"></span></pre>\n"
      ],
      "text/plain": []
     },
     "metadata": {},
     "output_type": "display_data"
    },
    {
     "data": {
      "text/html": [
       "<pre style=\"white-space:pre;overflow-x:auto;line-height:normal;font-family:Menlo,'DejaVu Sans Mono',consolas,'Courier New',monospace\"><span style=\"color: #000080; text-decoration-color: #000080\">epoch:3, train_loss: 1.7973085641860962, train_accuracy: 34.57530736923218, test_loss: 1.7835369110107422, test_accuracy: 35.934104919433594\n",
       "</span></pre>\n"
      ],
      "text/plain": [
       "\u001b[34mepoch:3, train_loss: 1.7973085641860962, train_accuracy: 34.57530736923218, test_loss: 1.7835369110107422, test_accuracy: 35.934104919433594\n",
       "\u001b[0m"
      ]
     },
     "metadata": {},
     "output_type": "display_data"
    },
    {
     "data": {
      "text/html": [
       "<pre style=\"white-space:pre;overflow-x:auto;line-height:normal;font-family:Menlo,'DejaVu Sans Mono',consolas,'Courier New',monospace\"><span style=\"color: #800000; text-decoration-color: #800000\">\u001b[1A  3%|▎         | 3/100 [00:50&lt;21:39, 13.40s/it]\n",
       "</span></pre>\n"
      ],
      "text/plain": [
       "\u001b[31m\u001b[1A  3%|▎         | 3/100 [00:50<21:39, 13.40s/it]\n",
       "\u001b[0m"
      ]
     },
     "metadata": {},
     "output_type": "display_data"
    },
    {
     "data": {
      "text/html": [
       "<pre style=\"white-space:pre;overflow-x:auto;line-height:normal;font-family:Menlo,'DejaVu Sans Mono',consolas,'Courier New',monospace\"><span style=\"color: #000080; text-decoration-color: #000080\"></span></pre>\n"
      ],
      "text/plain": []
     },
     "metadata": {},
     "output_type": "display_data"
    },
    {
     "data": {
      "text/html": [
       "<pre style=\"white-space:pre;overflow-x:auto;line-height:normal;font-family:Menlo,'DejaVu Sans Mono',consolas,'Courier New',monospace\"><span style=\"color: #000080; text-decoration-color: #000080\">epoch:4, train_loss: 1.796620488166809, train_accuracy: 34.54781174659729, test_loss: 1.7839192152023315, test_accuracy: 35.934104919433594\n",
       "</span></pre>\n"
      ],
      "text/plain": [
       "\u001b[34mepoch:4, train_loss: 1.796620488166809, train_accuracy: 34.54781174659729, test_loss: 1.7839192152023315, test_accuracy: 35.934104919433594\n",
       "\u001b[0m"
      ]
     },
     "metadata": {},
     "output_type": "display_data"
    },
    {
     "data": {
      "text/html": [
       "<pre style=\"white-space:pre;overflow-x:auto;line-height:normal;font-family:Menlo,'DejaVu Sans Mono',consolas,'Courier New',monospace\"><span style=\"color: #800000; text-decoration-color: #800000\">\u001b[1A  4%|▍         | 4/100 [00:56&lt;16:41, 10.44s/it]\n",
       "</span></pre>\n"
      ],
      "text/plain": [
       "\u001b[31m\u001b[1A  4%|▍         | 4/100 [00:56<16:41, 10.44s/it]\n",
       "\u001b[0m"
      ]
     },
     "metadata": {},
     "output_type": "display_data"
    },
    {
     "data": {
      "text/html": [
       "<pre style=\"white-space:pre;overflow-x:auto;line-height:normal;font-family:Menlo,'DejaVu Sans Mono',consolas,'Courier New',monospace\"><span style=\"color: #000080; text-decoration-color: #000080\"></span></pre>\n"
      ],
      "text/plain": []
     },
     "metadata": {},
     "output_type": "display_data"
    },
    {
     "data": {
      "text/html": [
       "<pre style=\"white-space:pre;overflow-x:auto;line-height:normal;font-family:Menlo,'DejaVu Sans Mono',consolas,'Courier New',monospace\"><span style=\"color: #000080; text-decoration-color: #000080\">epoch:5, train_loss: 1.7959094047546387, train_accuracy: 34.5672070980072, test_loss: 1.7824817895889282, test_accuracy: 35.934104919433594\n",
       "</span></pre>\n"
      ],
      "text/plain": [
       "\u001b[34mepoch:5, train_loss: 1.7959094047546387, train_accuracy: 34.5672070980072, test_loss: 1.7824817895889282, test_accuracy: 35.934104919433594\n",
       "\u001b[0m"
      ]
     },
     "metadata": {},
     "output_type": "display_data"
    },
    {
     "data": {
      "text/html": [
       "<pre style=\"white-space:pre;overflow-x:auto;line-height:normal;font-family:Menlo,'DejaVu Sans Mono',consolas,'Courier New',monospace\"><span style=\"color: #800000; text-decoration-color: #800000\">\u001b[1A  5%|▌         | 5/100 [01:02&lt;13:53,  8.78s/it]\n",
       "</span></pre>\n"
      ],
      "text/plain": [
       "\u001b[31m\u001b[1A  5%|▌         | 5/100 [01:02<13:53,  8.78s/it]\n",
       "\u001b[0m"
      ]
     },
     "metadata": {},
     "output_type": "display_data"
    },
    {
     "data": {
      "text/html": [
       "<pre style=\"white-space:pre;overflow-x:auto;line-height:normal;font-family:Menlo,'DejaVu Sans Mono',consolas,'Courier New',monospace\"><span style=\"color: #000080; text-decoration-color: #000080\">epoch:6, train_loss: 1.795117735862732, train_accuracy: 34.58599150180817, test_loss: 1.7830945253372192, test_accuracy: 35.934104919433594\n",
       "</span></pre>\n"
      ],
      "text/plain": [
       "\u001b[34mepoch:6, train_loss: 1.795117735862732, train_accuracy: 34.58599150180817, test_loss: 1.7830945253372192, test_accuracy: 35.934104919433594\n",
       "\u001b[0m"
      ]
     },
     "metadata": {},
     "output_type": "display_data"
    },
    {
     "data": {
      "text/html": [
       "<pre style=\"white-space:pre;overflow-x:auto;line-height:normal;font-family:Menlo,'DejaVu Sans Mono',consolas,'Courier New',monospace\"><span style=\"color: #800000; text-decoration-color: #800000\">\u001b[1A  6%|▌         | 6/100 [01:08&lt;12:10,  7.77s/it]\n",
       "</span></pre>\n"
      ],
      "text/plain": [
       "\u001b[31m\u001b[1A  6%|▌         | 6/100 [01:08<12:10,  7.77s/it]\n",
       "\u001b[0m"
      ]
     },
     "metadata": {},
     "output_type": "display_data"
    },
    {
     "data": {
      "text/html": [
       "<pre style=\"white-space:pre;overflow-x:auto;line-height:normal;font-family:Menlo,'DejaVu Sans Mono',consolas,'Courier New',monospace\"><span style=\"color: #000080; text-decoration-color: #000080\"></span></pre>\n"
      ],
      "text/plain": []
     },
     "metadata": {},
     "output_type": "display_data"
    },
    {
     "data": {
      "text/html": [
       "<pre style=\"white-space:pre;overflow-x:auto;line-height:normal;font-family:Menlo,'DejaVu Sans Mono',consolas,'Courier New',monospace\"><span style=\"color: #000080; text-decoration-color: #000080\">epoch:7, train_loss: 1.7952200174331665, train_accuracy: 34.57106947898865, test_loss: 1.784859299659729, test_accuracy: 35.934104919433594\n",
       "</span></pre>\n"
      ],
      "text/plain": [
       "\u001b[34mepoch:7, train_loss: 1.7952200174331665, train_accuracy: 34.57106947898865, test_loss: 1.784859299659729, test_accuracy: 35.934104919433594\n",
       "\u001b[0m"
      ]
     },
     "metadata": {},
     "output_type": "display_data"
    },
    {
     "data": {
      "text/html": [
       "<pre style=\"white-space:pre;overflow-x:auto;line-height:normal;font-family:Menlo,'DejaVu Sans Mono',consolas,'Courier New',monospace\"><span style=\"color: #800000; text-decoration-color: #800000\">\u001b[1A  7%|▋         | 7/100 [01:14&lt;11:06,  7.17s/it]\n",
       "</span></pre>\n"
      ],
      "text/plain": [
       "\u001b[31m\u001b[1A  7%|▋         | 7/100 [01:14<11:06,  7.17s/it]\n",
       "\u001b[0m"
      ]
     },
     "metadata": {},
     "output_type": "display_data"
    },
    {
     "data": {
      "text/html": [
       "<pre style=\"white-space:pre;overflow-x:auto;line-height:normal;font-family:Menlo,'DejaVu Sans Mono',consolas,'Courier New',monospace\"><span style=\"color: #000080; text-decoration-color: #000080\"></span></pre>\n"
      ],
      "text/plain": []
     },
     "metadata": {},
     "output_type": "display_data"
    },
    {
     "data": {
      "text/html": [
       "<pre style=\"white-space:pre;overflow-x:auto;line-height:normal;font-family:Menlo,'DejaVu Sans Mono',consolas,'Courier New',monospace\"><span style=\"color: #000080; text-decoration-color: #000080\">epoch:8, train_loss: 1.7952663898468018, train_accuracy: 34.56387221813202, test_loss: 1.78368079662323, test_accuracy: 35.934104919433594\n",
       "</span></pre>\n"
      ],
      "text/plain": [
       "\u001b[34mepoch:8, train_loss: 1.7952663898468018, train_accuracy: 34.56387221813202, test_loss: 1.78368079662323, test_accuracy: 35.934104919433594\n",
       "\u001b[0m"
      ]
     },
     "metadata": {},
     "output_type": "display_data"
    },
    {
     "data": {
      "text/html": [
       "<pre style=\"white-space:pre;overflow-x:auto;line-height:normal;font-family:Menlo,'DejaVu Sans Mono',consolas,'Courier New',monospace\"><span style=\"color: #800000; text-decoration-color: #800000\">\u001b[1A  8%|▊         | 8/100 [01:20&lt;10:19,  6.73s/it]\n",
       "</span></pre>\n"
      ],
      "text/plain": [
       "\u001b[31m\u001b[1A  8%|▊         | 8/100 [01:20<10:19,  6.73s/it]\n",
       "\u001b[0m"
      ]
     },
     "metadata": {},
     "output_type": "display_data"
    },
    {
     "data": {
      "text/html": [
       "<pre style=\"white-space:pre;overflow-x:auto;line-height:normal;font-family:Menlo,'DejaVu Sans Mono',consolas,'Courier New',monospace\"><span style=\"color: #800000; text-decoration-color: #800000\">\u001b[1A  9%|▉         | 9/100 [01:26&lt;09:55,  6.54s/it]</span></pre>\n"
      ],
      "text/plain": [
       "\u001b[31m\u001b[1A  9%|▉         | 9/100 [01:26<09:55,  6.54s/it]\u001b[0m"
      ]
     },
     "metadata": {},
     "output_type": "display_data"
    },
    {
     "data": {
      "text/html": [
       "<pre style=\"white-space:pre;overflow-x:auto;line-height:normal;font-family:Menlo,'DejaVu Sans Mono',consolas,'Courier New',monospace\"><span style=\"color: #000080; text-decoration-color: #000080\"></span></pre>\n"
      ],
      "text/plain": []
     },
     "metadata": {},
     "output_type": "display_data"
    },
    {
     "data": {
      "text/html": [
       "<pre style=\"white-space:pre;overflow-x:auto;line-height:normal;font-family:Menlo,'DejaVu Sans Mono',consolas,'Courier New',monospace\"><span style=\"color: #000080; text-decoration-color: #000080\">epoch:9, train_loss: 1.7957795858383179, train_accuracy: 34.5499187707901, test_loss: 1.7853569984436035, test_accuracy: 35.934104919433594\n",
       "</span></pre>\n"
      ],
      "text/plain": [
       "\u001b[34mepoch:9, train_loss: 1.7957795858383179, train_accuracy: 34.5499187707901, test_loss: 1.7853569984436035, test_accuracy: 35.934104919433594\n",
       "\u001b[0m"
      ]
     },
     "metadata": {},
     "output_type": "display_data"
    },
    {
     "data": {
      "text/html": [
       "<pre style=\"white-space:pre;overflow-x:auto;line-height:normal;font-family:Menlo,'DejaVu Sans Mono',consolas,'Courier New',monospace\"><span style=\"color: #800000; text-decoration-color: #800000\">\n",
       "</span></pre>\n"
      ],
      "text/plain": [
       "\u001b[31m\n",
       "\u001b[0m"
      ]
     },
     "metadata": {},
     "output_type": "display_data"
    },
    {
     "data": {
      "text/html": [
       "<pre style=\"white-space:pre;overflow-x:auto;line-height:normal;font-family:Menlo,'DejaVu Sans Mono',consolas,'Courier New',monospace\"><span style=\"color: #000080; text-decoration-color: #000080\"></span></pre>\n"
      ],
      "text/plain": []
     },
     "metadata": {},
     "output_type": "display_data"
    },
    {
     "data": {
      "text/html": [
       "<pre style=\"white-space:pre;overflow-x:auto;line-height:normal;font-family:Menlo,'DejaVu Sans Mono',consolas,'Courier New',monospace\"><span style=\"color: #000080; text-decoration-color: #000080\">epoch:10, train_loss: 1.7950127124786377, train_accuracy: 34.54347252845764, test_loss: 1.7820943593978882, test_accuracy: 35.934104919433594\n",
       "</span></pre>\n"
      ],
      "text/plain": [
       "\u001b[34mepoch:10, train_loss: 1.7950127124786377, train_accuracy: 34.54347252845764, test_loss: 1.7820943593978882, test_accuracy: 35.934104919433594\n",
       "\u001b[0m"
      ]
     },
     "metadata": {},
     "output_type": "display_data"
    },
    {
     "data": {
      "text/html": [
       "<pre style=\"white-space:pre;overflow-x:auto;line-height:normal;font-family:Menlo,'DejaVu Sans Mono',consolas,'Courier New',monospace\"><span style=\"color: #800000; text-decoration-color: #800000\">\u001b[1A 10%|█         | 10/100 [01:32&lt;09:31,  6.35s/it]\n",
       "</span></pre>\n"
      ],
      "text/plain": [
       "\u001b[31m\u001b[1A 10%|█         | 10/100 [01:32<09:31,  6.35s/it]\n",
       "\u001b[0m"
      ]
     },
     "metadata": {},
     "output_type": "display_data"
    },
    {
     "data": {
      "text/html": [
       "<pre style=\"white-space:pre;overflow-x:auto;line-height:normal;font-family:Menlo,'DejaVu Sans Mono',consolas,'Courier New',monospace\"><span style=\"color: #000080; text-decoration-color: #000080\"></span></pre>\n"
      ],
      "text/plain": []
     },
     "metadata": {},
     "output_type": "display_data"
    },
    {
     "data": {
      "text/html": [
       "<pre style=\"white-space:pre;overflow-x:auto;line-height:normal;font-family:Menlo,'DejaVu Sans Mono',consolas,'Courier New',monospace\"><span style=\"color: #000080; text-decoration-color: #000080\">epoch:11, train_loss: 1.7949498891830444, train_accuracy: 34.544554352760315, test_loss: 1.7827751636505127, test_accuracy: 35.934104919433594\n",
       "</span></pre>\n"
      ],
      "text/plain": [
       "\u001b[34mepoch:11, train_loss: 1.7949498891830444, train_accuracy: 34.544554352760315, test_loss: 1.7827751636505127, test_accuracy: 35.934104919433594\n",
       "\u001b[0m"
      ]
     },
     "metadata": {},
     "output_type": "display_data"
    },
    {
     "data": {
      "text/html": [
       "<pre style=\"white-space:pre;overflow-x:auto;line-height:normal;font-family:Menlo,'DejaVu Sans Mono',consolas,'Courier New',monospace\"><span style=\"color: #800000; text-decoration-color: #800000\">\u001b[1A 11%|█         | 11/100 [01:38&lt;09:13,  6.22s/it]\n",
       "</span></pre>\n"
      ],
      "text/plain": [
       "\u001b[31m\u001b[1A 11%|█         | 11/100 [01:38<09:13,  6.22s/it]\n",
       "\u001b[0m"
      ]
     },
     "metadata": {},
     "output_type": "display_data"
    },
    {
     "data": {
      "text/html": [
       "<pre style=\"white-space:pre;overflow-x:auto;line-height:normal;font-family:Menlo,'DejaVu Sans Mono',consolas,'Courier New',monospace\"><span style=\"color: #000080; text-decoration-color: #000080\"></span></pre>\n"
      ],
      "text/plain": []
     },
     "metadata": {},
     "output_type": "display_data"
    },
    {
     "data": {
      "text/html": [
       "<pre style=\"white-space:pre;overflow-x:auto;line-height:normal;font-family:Menlo,'DejaVu Sans Mono',consolas,'Courier New',monospace\"><span style=\"color: #000080; text-decoration-color: #000080\">epoch:12, train_loss: 1.7950546741485596, train_accuracy: 34.56164598464966, test_loss: 1.782944917678833, test_accuracy: 35.934104919433594\n",
       "</span></pre>\n"
      ],
      "text/plain": [
       "\u001b[34mepoch:12, train_loss: 1.7950546741485596, train_accuracy: 34.56164598464966, test_loss: 1.782944917678833, test_accuracy: 35.934104919433594\n",
       "\u001b[0m"
      ]
     },
     "metadata": {},
     "output_type": "display_data"
    },
    {
     "data": {
      "text/html": [
       "<pre style=\"white-space:pre;overflow-x:auto;line-height:normal;font-family:Menlo,'DejaVu Sans Mono',consolas,'Courier New',monospace\"><span style=\"color: #800000; text-decoration-color: #800000\">\u001b[1A 12%|█▏        | 12/100 [01:44&lt;09:01,  6.16s/it]\n",
       "</span></pre>\n"
      ],
      "text/plain": [
       "\u001b[31m\u001b[1A 12%|█▏        | 12/100 [01:44<09:01,  6.16s/it]\n",
       "\u001b[0m"
      ]
     },
     "metadata": {},
     "output_type": "display_data"
    },
    {
     "data": {
      "text/html": [
       "<pre style=\"white-space:pre;overflow-x:auto;line-height:normal;font-family:Menlo,'DejaVu Sans Mono',consolas,'Courier New',monospace\"><span style=\"color: #000080; text-decoration-color: #000080\"></span></pre>\n"
      ],
      "text/plain": []
     },
     "metadata": {},
     "output_type": "display_data"
    },
    {
     "data": {
      "text/html": [
       "<pre style=\"white-space:pre;overflow-x:auto;line-height:normal;font-family:Menlo,'DejaVu Sans Mono',consolas,'Courier New',monospace\"><span style=\"color: #000080; text-decoration-color: #000080\">epoch:13, train_loss: 1.7950245141983032, train_accuracy: 34.54810380935669, test_loss: 1.7835206985473633, test_accuracy: 35.934104919433594\n",
       "</span></pre>\n"
      ],
      "text/plain": [
       "\u001b[34mepoch:13, train_loss: 1.7950245141983032, train_accuracy: 34.54810380935669, test_loss: 1.7835206985473633, test_accuracy: 35.934104919433594\n",
       "\u001b[0m"
      ]
     },
     "metadata": {},
     "output_type": "display_data"
    },
    {
     "data": {
      "text/html": [
       "<pre style=\"white-space:pre;overflow-x:auto;line-height:normal;font-family:Menlo,'DejaVu Sans Mono',consolas,'Courier New',monospace\"><span style=\"color: #800000; text-decoration-color: #800000\">\u001b[1A 13%|█▎        | 13/100 [01:50&lt;08:49,  6.08s/it]\n",
       "</span></pre>\n"
      ],
      "text/plain": [
       "\u001b[31m\u001b[1A 13%|█▎        | 13/100 [01:50<08:49,  6.08s/it]\n",
       "\u001b[0m"
      ]
     },
     "metadata": {},
     "output_type": "display_data"
    },
    {
     "data": {
      "text/html": [
       "<pre style=\"white-space:pre;overflow-x:auto;line-height:normal;font-family:Menlo,'DejaVu Sans Mono',consolas,'Courier New',monospace\"><span style=\"color: #000080; text-decoration-color: #000080\"></span></pre>\n"
      ],
      "text/plain": []
     },
     "metadata": {},
     "output_type": "display_data"
    },
    {
     "data": {
      "text/html": [
       "<pre style=\"white-space:pre;overflow-x:auto;line-height:normal;font-family:Menlo,'DejaVu Sans Mono',consolas,'Courier New',monospace\"><span style=\"color: #000080; text-decoration-color: #000080\">epoch:14, train_loss: 1.7948359251022339, train_accuracy: 34.5544308423996, test_loss: 1.7858422994613647, test_accuracy: 35.934104919433594\n",
       "</span></pre>\n"
      ],
      "text/plain": [
       "\u001b[34mepoch:14, train_loss: 1.7948359251022339, train_accuracy: 34.5544308423996, test_loss: 1.7858422994613647, test_accuracy: 35.934104919433594\n",
       "\u001b[0m"
      ]
     },
     "metadata": {},
     "output_type": "display_data"
    },
    {
     "data": {
      "text/html": [
       "<pre style=\"white-space:pre;overflow-x:auto;line-height:normal;font-family:Menlo,'DejaVu Sans Mono',consolas,'Courier New',monospace\"><span style=\"color: #800000; text-decoration-color: #800000\">\u001b[1A 14%|█▍        | 14/100 [01:56&lt;08:39,  6.04s/it]\n",
       "</span></pre>\n"
      ],
      "text/plain": [
       "\u001b[31m\u001b[1A 14%|█▍        | 14/100 [01:56<08:39,  6.04s/it]\n",
       "\u001b[0m"
      ]
     },
     "metadata": {},
     "output_type": "display_data"
    },
    {
     "data": {
      "text/html": [
       "<pre style=\"white-space:pre;overflow-x:auto;line-height:normal;font-family:Menlo,'DejaVu Sans Mono',consolas,'Courier New',monospace\"><span style=\"color: #000080; text-decoration-color: #000080\"></span></pre>\n"
      ],
      "text/plain": []
     },
     "metadata": {},
     "output_type": "display_data"
    },
    {
     "data": {
      "text/html": [
       "<pre style=\"white-space:pre;overflow-x:auto;line-height:normal;font-family:Menlo,'DejaVu Sans Mono',consolas,'Courier New',monospace\"><span style=\"color: #000080; text-decoration-color: #000080\">epoch:15, train_loss: 1.7947642803192139, train_accuracy: 34.57361161708832, test_loss: 1.7837592363357544, test_accuracy: 35.934104919433594\n",
       "</span></pre>\n"
      ],
      "text/plain": [
       "\u001b[34mepoch:15, train_loss: 1.7947642803192139, train_accuracy: 34.57361161708832, test_loss: 1.7837592363357544, test_accuracy: 35.934104919433594\n",
       "\u001b[0m"
      ]
     },
     "metadata": {},
     "output_type": "display_data"
    },
    {
     "data": {
      "text/html": [
       "<pre style=\"white-space:pre;overflow-x:auto;line-height:normal;font-family:Menlo,'DejaVu Sans Mono',consolas,'Courier New',monospace\"><span style=\"color: #800000; text-decoration-color: #800000\">\u001b[1A 15%|█▌        | 15/100 [02:02&lt;08:34,  6.06s/it]\n",
       "</span></pre>\n"
      ],
      "text/plain": [
       "\u001b[31m\u001b[1A 15%|█▌        | 15/100 [02:02<08:34,  6.06s/it]\n",
       "\u001b[0m"
      ]
     },
     "metadata": {},
     "output_type": "display_data"
    },
    {
     "data": {
      "text/html": [
       "<pre style=\"white-space:pre;overflow-x:auto;line-height:normal;font-family:Menlo,'DejaVu Sans Mono',consolas,'Courier New',monospace\"><span style=\"color: #000080; text-decoration-color: #000080\">epoch:16, train_loss: 1.7947264909744263, train_accuracy: 34.583693742752075, test_loss: 1.7828080654144287, test_accuracy: 35.934104919433594\n",
       "</span></pre>\n"
      ],
      "text/plain": [
       "\u001b[34mepoch:16, train_loss: 1.7947264909744263, train_accuracy: 34.583693742752075, test_loss: 1.7828080654144287, test_accuracy: 35.934104919433594\n",
       "\u001b[0m"
      ]
     },
     "metadata": {},
     "output_type": "display_data"
    },
    {
     "data": {
      "text/html": [
       "<pre style=\"white-space:pre;overflow-x:auto;line-height:normal;font-family:Menlo,'DejaVu Sans Mono',consolas,'Courier New',monospace\"><span style=\"color: #800000; text-decoration-color: #800000\">\u001b[1A 16%|█▌        | 16/100 [02:08&lt;08:27,  6.04s/it]\n",
       "</span></pre>\n"
      ],
      "text/plain": [
       "\u001b[31m\u001b[1A 16%|█▌        | 16/100 [02:08<08:27,  6.04s/it]\n",
       "\u001b[0m"
      ]
     },
     "metadata": {},
     "output_type": "display_data"
    },
    {
     "data": {
      "text/html": [
       "<pre style=\"white-space:pre;overflow-x:auto;line-height:normal;font-family:Menlo,'DejaVu Sans Mono',consolas,'Courier New',monospace\"><span style=\"color: #000080; text-decoration-color: #000080\"></span></pre>\n"
      ],
      "text/plain": []
     },
     "metadata": {},
     "output_type": "display_data"
    },
    {
     "data": {
      "text/html": [
       "<pre style=\"white-space:pre;overflow-x:auto;line-height:normal;font-family:Menlo,'DejaVu Sans Mono',consolas,'Courier New',monospace\"><span style=\"color: #000080; text-decoration-color: #000080\">epoch:17, train_loss: 1.7949613332748413, train_accuracy: 34.57303047180176, test_loss: 1.782637357711792, test_accuracy: 35.934104919433594\n",
       "</span></pre>\n"
      ],
      "text/plain": [
       "\u001b[34mepoch:17, train_loss: 1.7949613332748413, train_accuracy: 34.57303047180176, test_loss: 1.782637357711792, test_accuracy: 35.934104919433594\n",
       "\u001b[0m"
      ]
     },
     "metadata": {},
     "output_type": "display_data"
    },
    {
     "data": {
      "text/html": [
       "<pre style=\"white-space:pre;overflow-x:auto;line-height:normal;font-family:Menlo,'DejaVu Sans Mono',consolas,'Courier New',monospace\"><span style=\"color: #800000; text-decoration-color: #800000\">\u001b[1A 17%|█▋        | 17/100 [02:14&lt;08:20,  6.04s/it]\n",
       "</span></pre>\n"
      ],
      "text/plain": [
       "\u001b[31m\u001b[1A 17%|█▋        | 17/100 [02:14<08:20,  6.04s/it]\n",
       "\u001b[0m"
      ]
     },
     "metadata": {},
     "output_type": "display_data"
    },
    {
     "data": {
      "text/html": [
       "<pre style=\"white-space:pre;overflow-x:auto;line-height:normal;font-family:Menlo,'DejaVu Sans Mono',consolas,'Courier New',monospace\"><span style=\"color: #000080; text-decoration-color: #000080\"></span></pre>\n"
      ],
      "text/plain": []
     },
     "metadata": {},
     "output_type": "display_data"
    },
    {
     "data": {
      "text/html": [
       "<pre style=\"white-space:pre;overflow-x:auto;line-height:normal;font-family:Menlo,'DejaVu Sans Mono',consolas,'Courier New',monospace\"><span style=\"color: #000080; text-decoration-color: #000080\">epoch:18, train_loss: 1.7946383953094482, train_accuracy: 34.55740511417389, test_loss: 1.7839062213897705, test_accuracy: 35.934104919433594\n",
       "</span></pre>\n"
      ],
      "text/plain": [
       "\u001b[34mepoch:18, train_loss: 1.7946383953094482, train_accuracy: 34.55740511417389, test_loss: 1.7839062213897705, test_accuracy: 35.934104919433594\n",
       "\u001b[0m"
      ]
     },
     "metadata": {},
     "output_type": "display_data"
    },
    {
     "data": {
      "text/html": [
       "<pre style=\"white-space:pre;overflow-x:auto;line-height:normal;font-family:Menlo,'DejaVu Sans Mono',consolas,'Courier New',monospace\"><span style=\"color: #800000; text-decoration-color: #800000\">\u001b[1A 18%|█▊        | 18/100 [02:20&lt;08:14,  6.03s/it]</span></pre>\n"
      ],
      "text/plain": [
       "\u001b[31m\u001b[1A 18%|█▊        | 18/100 [02:20<08:14,  6.03s/it]\u001b[0m"
      ]
     },
     "metadata": {},
     "output_type": "display_data"
    },
    {
     "data": {
      "text/html": [
       "<pre style=\"white-space:pre;overflow-x:auto;line-height:normal;font-family:Menlo,'DejaVu Sans Mono',consolas,'Courier New',monospace\"><span style=\"color: #800000; text-decoration-color: #800000\">\n",
       "</span></pre>\n"
      ],
      "text/plain": [
       "\u001b[31m\n",
       "\u001b[0m"
      ]
     },
     "metadata": {},
     "output_type": "display_data"
    },
    {
     "data": {
      "text/html": [
       "<pre style=\"white-space:pre;overflow-x:auto;line-height:normal;font-family:Menlo,'DejaVu Sans Mono',consolas,'Courier New',monospace\"><span style=\"color: #000080; text-decoration-color: #000080\"></span></pre>\n"
      ],
      "text/plain": []
     },
     "metadata": {},
     "output_type": "display_data"
    },
    {
     "data": {
      "text/html": [
       "<pre style=\"white-space:pre;overflow-x:auto;line-height:normal;font-family:Menlo,'DejaVu Sans Mono',consolas,'Courier New',monospace\"><span style=\"color: #000080; text-decoration-color: #000080\">epoch:19, train_loss: 1.7940797805786133, train_accuracy: 34.59421396255493, test_loss: 1.785240650177002, test_accuracy: 35.934104919433594\n",
       "</span></pre>\n"
      ],
      "text/plain": [
       "\u001b[34mepoch:19, train_loss: 1.7940797805786133, train_accuracy: 34.59421396255493, test_loss: 1.785240650177002, test_accuracy: 35.934104919433594\n",
       "\u001b[0m"
      ]
     },
     "metadata": {},
     "output_type": "display_data"
    },
    {
     "data": {
      "text/html": [
       "<pre style=\"white-space:pre;overflow-x:auto;line-height:normal;font-family:Menlo,'DejaVu Sans Mono',consolas,'Courier New',monospace\"><span style=\"color: #000080; text-decoration-color: #000080\"></span></pre>\n"
      ],
      "text/plain": []
     },
     "metadata": {},
     "output_type": "display_data"
    },
    {
     "data": {
      "text/html": [
       "<pre style=\"white-space:pre;overflow-x:auto;line-height:normal;font-family:Menlo,'DejaVu Sans Mono',consolas,'Courier New',monospace\"><span style=\"color: #000080; text-decoration-color: #000080\">epoch:20, train_loss: 1.7945995330810547, train_accuracy: 34.563687443733215, test_loss: 1.7832564115524292, test_accuracy: 35.934104919433594\n",
       "</span></pre>\n"
      ],
      "text/plain": [
       "\u001b[34mepoch:20, train_loss: 1.7945995330810547, train_accuracy: 34.563687443733215, test_loss: 1.7832564115524292, test_accuracy: 35.934104919433594\n",
       "\u001b[0m"
      ]
     },
     "metadata": {},
     "output_type": "display_data"
    },
    {
     "data": {
      "text/html": [
       "<pre style=\"white-space:pre;overflow-x:auto;line-height:normal;font-family:Menlo,'DejaVu Sans Mono',consolas,'Courier New',monospace\"><span style=\"color: #800000; text-decoration-color: #800000\">\u001b[1A 20%|██        | 20/100 [02:32&lt;07:57,  5.96s/it]\n",
       "</span></pre>\n"
      ],
      "text/plain": [
       "\u001b[31m\u001b[1A 20%|██        | 20/100 [02:32<07:57,  5.96s/it]\n",
       "\u001b[0m"
      ]
     },
     "metadata": {},
     "output_type": "display_data"
    },
    {
     "data": {
      "text/html": [
       "<pre style=\"white-space:pre;overflow-x:auto;line-height:normal;font-family:Menlo,'DejaVu Sans Mono',consolas,'Courier New',monospace\"><span style=\"color: #000080; text-decoration-color: #000080\"></span></pre>\n"
      ],
      "text/plain": []
     },
     "metadata": {},
     "output_type": "display_data"
    },
    {
     "data": {
      "text/html": [
       "<pre style=\"white-space:pre;overflow-x:auto;line-height:normal;font-family:Menlo,'DejaVu Sans Mono',consolas,'Courier New',monospace\"><span style=\"color: #000080; text-decoration-color: #000080\">epoch:21, train_loss: 1.7949033975601196, train_accuracy: 34.568655490875244, test_loss: 1.7818387746810913, test_accuracy: 35.934104919433594\n",
       "</span></pre>\n"
      ],
      "text/plain": [
       "\u001b[34mepoch:21, train_loss: 1.7949033975601196, train_accuracy: 34.568655490875244, test_loss: 1.7818387746810913, test_accuracy: 35.934104919433594\n",
       "\u001b[0m"
      ]
     },
     "metadata": {},
     "output_type": "display_data"
    },
    {
     "data": {
      "text/html": [
       "<pre style=\"white-space:pre;overflow-x:auto;line-height:normal;font-family:Menlo,'DejaVu Sans Mono',consolas,'Courier New',monospace\"><span style=\"color: #800000; text-decoration-color: #800000\">\u001b[1A 21%|██        | 21/100 [02:38&lt;07:54,  6.01s/it]\n",
       "</span></pre>\n"
      ],
      "text/plain": [
       "\u001b[31m\u001b[1A 21%|██        | 21/100 [02:38<07:54,  6.01s/it]\n",
       "\u001b[0m"
      ]
     },
     "metadata": {},
     "output_type": "display_data"
    },
    {
     "data": {
      "text/html": [
       "<pre style=\"white-space:pre;overflow-x:auto;line-height:normal;font-family:Menlo,'DejaVu Sans Mono',consolas,'Courier New',monospace\"><span style=\"color: #000080; text-decoration-color: #000080\">epoch:22, train_loss: 1.7945443391799927, train_accuracy: 34.580010175704956, test_loss: 1.7822532653808594, test_accuracy: 35.934104919433594\n",
       "</span></pre>\n"
      ],
      "text/plain": [
       "\u001b[34mepoch:22, train_loss: 1.7945443391799927, train_accuracy: 34.580010175704956, test_loss: 1.7822532653808594, test_accuracy: 35.934104919433594\n",
       "\u001b[0m"
      ]
     },
     "metadata": {},
     "output_type": "display_data"
    },
    {
     "data": {
      "text/html": [
       "<pre style=\"white-space:pre;overflow-x:auto;line-height:normal;font-family:Menlo,'DejaVu Sans Mono',consolas,'Courier New',monospace\"><span style=\"color: #800000; text-decoration-color: #800000\">\u001b[1A 22%|██▏       | 22/100 [02:44&lt;07:46,  5.99s/it]\n",
       "</span></pre>\n"
      ],
      "text/plain": [
       "\u001b[31m\u001b[1A 22%|██▏       | 22/100 [02:44<07:46,  5.99s/it]\n",
       "\u001b[0m"
      ]
     },
     "metadata": {},
     "output_type": "display_data"
    },
    {
     "data": {
      "text/html": [
       "<pre style=\"white-space:pre;overflow-x:auto;line-height:normal;font-family:Menlo,'DejaVu Sans Mono',consolas,'Courier New',monospace\"><span style=\"color: #000080; text-decoration-color: #000080\"></span></pre>\n"
      ],
      "text/plain": []
     },
     "metadata": {},
     "output_type": "display_data"
    },
    {
     "data": {
      "text/html": [
       "<pre style=\"white-space:pre;overflow-x:auto;line-height:normal;font-family:Menlo,'DejaVu Sans Mono',consolas,'Courier New',monospace\"><span style=\"color: #000080; text-decoration-color: #000080\">epoch:23, train_loss: 1.794450044631958, train_accuracy: 34.56005156040192, test_loss: 1.7841874361038208, test_accuracy: 35.934104919433594\n",
       "</span></pre>\n"
      ],
      "text/plain": [
       "\u001b[34mepoch:23, train_loss: 1.794450044631958, train_accuracy: 34.56005156040192, test_loss: 1.7841874361038208, test_accuracy: 35.934104919433594\n",
       "\u001b[0m"
      ]
     },
     "metadata": {},
     "output_type": "display_data"
    },
    {
     "data": {
      "text/html": [
       "<pre style=\"white-space:pre;overflow-x:auto;line-height:normal;font-family:Menlo,'DejaVu Sans Mono',consolas,'Courier New',monospace\"><span style=\"color: #800000; text-decoration-color: #800000\">\u001b[1A 23%|██▎       | 23/100 [02:50&lt;07:43,  6.02s/it]\n",
       "</span></pre>\n"
      ],
      "text/plain": [
       "\u001b[31m\u001b[1A 23%|██▎       | 23/100 [02:50<07:43,  6.02s/it]\n",
       "\u001b[0m"
      ]
     },
     "metadata": {},
     "output_type": "display_data"
    },
    {
     "data": {
      "text/html": [
       "<pre style=\"white-space:pre;overflow-x:auto;line-height:normal;font-family:Menlo,'DejaVu Sans Mono',consolas,'Courier New',monospace\"><span style=\"color: #000080; text-decoration-color: #000080\">epoch:24, train_loss: 1.7947850227355957, train_accuracy: 34.55045521259308, test_loss: 1.7871997356414795, test_accuracy: 35.934104919433594\n",
       "</span></pre>\n"
      ],
      "text/plain": [
       "\u001b[34mepoch:24, train_loss: 1.7947850227355957, train_accuracy: 34.55045521259308, test_loss: 1.7871997356414795, test_accuracy: 35.934104919433594\n",
       "\u001b[0m"
      ]
     },
     "metadata": {},
     "output_type": "display_data"
    },
    {
     "data": {
      "text/html": [
       "<pre style=\"white-space:pre;overflow-x:auto;line-height:normal;font-family:Menlo,'DejaVu Sans Mono',consolas,'Courier New',monospace\"><span style=\"color: #800000; text-decoration-color: #800000\">\u001b[1A 24%|██▍       | 24/100 [02:56&lt;07:37,  6.02s/it]\n",
       "</span></pre>\n"
      ],
      "text/plain": [
       "\u001b[31m\u001b[1A 24%|██▍       | 24/100 [02:56<07:37,  6.02s/it]\n",
       "\u001b[0m"
      ]
     },
     "metadata": {},
     "output_type": "display_data"
    },
    {
     "data": {
      "text/html": [
       "<pre style=\"white-space:pre;overflow-x:auto;line-height:normal;font-family:Menlo,'DejaVu Sans Mono',consolas,'Courier New',monospace\"><span style=\"color: #000080; text-decoration-color: #000080\"></span></pre>\n"
      ],
      "text/plain": []
     },
     "metadata": {},
     "output_type": "display_data"
    },
    {
     "data": {
      "text/html": [
       "<pre style=\"white-space:pre;overflow-x:auto;line-height:normal;font-family:Menlo,'DejaVu Sans Mono',consolas,'Courier New',monospace\"><span style=\"color: #000080; text-decoration-color: #000080\">epoch:25, train_loss: 1.7943203449249268, train_accuracy: 34.55666899681091, test_loss: 1.781856656074524, test_accuracy: 35.934104919433594\n",
       "</span></pre>\n"
      ],
      "text/plain": [
       "\u001b[34mepoch:25, train_loss: 1.7943203449249268, train_accuracy: 34.55666899681091, test_loss: 1.781856656074524, test_accuracy: 35.934104919433594\n",
       "\u001b[0m"
      ]
     },
     "metadata": {},
     "output_type": "display_data"
    },
    {
     "data": {
      "text/html": [
       "<pre style=\"white-space:pre;overflow-x:auto;line-height:normal;font-family:Menlo,'DejaVu Sans Mono',consolas,'Courier New',monospace\"><span style=\"color: #800000; text-decoration-color: #800000\">\u001b[1A 25%|██▌       | 25/100 [03:02&lt;07:33,  6.05s/it]\n",
       "</span></pre>\n"
      ],
      "text/plain": [
       "\u001b[31m\u001b[1A 25%|██▌       | 25/100 [03:02<07:33,  6.05s/it]\n",
       "\u001b[0m"
      ]
     },
     "metadata": {},
     "output_type": "display_data"
    },
    {
     "data": {
      "text/html": [
       "<pre style=\"white-space:pre;overflow-x:auto;line-height:normal;font-family:Menlo,'DejaVu Sans Mono',consolas,'Courier New',monospace\"><span style=\"color: #000080; text-decoration-color: #000080\"></span></pre>\n"
      ],
      "text/plain": []
     },
     "metadata": {},
     "output_type": "display_data"
    },
    {
     "data": {
      "text/html": [
       "<pre style=\"white-space:pre;overflow-x:auto;line-height:normal;font-family:Menlo,'DejaVu Sans Mono',consolas,'Courier New',monospace\"><span style=\"color: #000080; text-decoration-color: #000080\">epoch:26, train_loss: 1.7948648929595947, train_accuracy: 34.54194962978363, test_loss: 1.781782865524292, test_accuracy: 35.934104919433594\n",
       "</span></pre>\n"
      ],
      "text/plain": [
       "\u001b[34mepoch:26, train_loss: 1.7948648929595947, train_accuracy: 34.54194962978363, test_loss: 1.781782865524292, test_accuracy: 35.934104919433594\n",
       "\u001b[0m"
      ]
     },
     "metadata": {},
     "output_type": "display_data"
    },
    {
     "data": {
      "text/html": [
       "<pre style=\"white-space:pre;overflow-x:auto;line-height:normal;font-family:Menlo,'DejaVu Sans Mono',consolas,'Courier New',monospace\"><span style=\"color: #800000; text-decoration-color: #800000\">\u001b[1A 26%|██▌       | 26/100 [03:08&lt;07:24,  6.01s/it]\n",
       "</span></pre>\n"
      ],
      "text/plain": [
       "\u001b[31m\u001b[1A 26%|██▌       | 26/100 [03:08<07:24,  6.01s/it]\n",
       "\u001b[0m"
      ]
     },
     "metadata": {},
     "output_type": "display_data"
    },
    {
     "data": {
      "text/html": [
       "<pre style=\"white-space:pre;overflow-x:auto;line-height:normal;font-family:Menlo,'DejaVu Sans Mono',consolas,'Courier New',monospace\"><span style=\"color: #000080; text-decoration-color: #000080\">epoch:27, train_loss: 1.7944968938827515, train_accuracy: 34.56355333328247, test_loss: 1.7840293645858765, test_accuracy: 35.934104919433594\n",
       "</span></pre>\n"
      ],
      "text/plain": [
       "\u001b[34mepoch:27, train_loss: 1.7944968938827515, train_accuracy: 34.56355333328247, test_loss: 1.7840293645858765, test_accuracy: 35.934104919433594\n",
       "\u001b[0m"
      ]
     },
     "metadata": {},
     "output_type": "display_data"
    },
    {
     "data": {
      "text/html": [
       "<pre style=\"white-space:pre;overflow-x:auto;line-height:normal;font-family:Menlo,'DejaVu Sans Mono',consolas,'Courier New',monospace\"><span style=\"color: #800000; text-decoration-color: #800000\">\u001b[1A 27%|██▋       | 27/100 [03:14&lt;07:16,  5.98s/it]\n",
       "</span></pre>\n"
      ],
      "text/plain": [
       "\u001b[31m\u001b[1A 27%|██▋       | 27/100 [03:14<07:16,  5.98s/it]\n",
       "\u001b[0m"
      ]
     },
     "metadata": {},
     "output_type": "display_data"
    },
    {
     "data": {
      "text/html": [
       "<pre style=\"white-space:pre;overflow-x:auto;line-height:normal;font-family:Menlo,'DejaVu Sans Mono',consolas,'Courier New',monospace\"><span style=\"color: #800000; text-decoration-color: #800000\">\u001b[1A 28%|██▊       | 28/100 [03:20&lt;07:09,  5.96s/it]</span></pre>\n"
      ],
      "text/plain": [
       "\u001b[31m\u001b[1A 28%|██▊       | 28/100 [03:20<07:09,  5.96s/it]\u001b[0m"
      ]
     },
     "metadata": {},
     "output_type": "display_data"
    },
    {
     "data": {
      "text/html": [
       "<pre style=\"white-space:pre;overflow-x:auto;line-height:normal;font-family:Menlo,'DejaVu Sans Mono',consolas,'Courier New',monospace\"><span style=\"color: #000080; text-decoration-color: #000080\">epoch:28, train_loss: 1.7944833040237427, train_accuracy: 34.55363214015961, test_loss: 1.7847312688827515, test_accuracy: 35.934104919433594\n",
       "</span></pre>\n"
      ],
      "text/plain": [
       "\u001b[34mepoch:28, train_loss: 1.7944833040237427, train_accuracy: 34.55363214015961, test_loss: 1.7847312688827515, test_accuracy: 35.934104919433594\n",
       "\u001b[0m"
      ]
     },
     "metadata": {},
     "output_type": "display_data"
    },
    {
     "data": {
      "text/html": [
       "<pre style=\"white-space:pre;overflow-x:auto;line-height:normal;font-family:Menlo,'DejaVu Sans Mono',consolas,'Courier New',monospace\"><span style=\"color: #800000; text-decoration-color: #800000\">\n",
       "</span></pre>\n"
      ],
      "text/plain": [
       "\u001b[31m\n",
       "\u001b[0m"
      ]
     },
     "metadata": {},
     "output_type": "display_data"
    },
    {
     "data": {
      "text/html": [
       "<pre style=\"white-space:pre;overflow-x:auto;line-height:normal;font-family:Menlo,'DejaVu Sans Mono',consolas,'Courier New',monospace\"><span style=\"color: #000080; text-decoration-color: #000080\"></span></pre>\n"
      ],
      "text/plain": []
     },
     "metadata": {},
     "output_type": "display_data"
    },
    {
     "data": {
      "text/html": [
       "<pre style=\"white-space:pre;overflow-x:auto;line-height:normal;font-family:Menlo,'DejaVu Sans Mono',consolas,'Courier New',monospace\"><span style=\"color: #000080; text-decoration-color: #000080\">epoch:29, train_loss: 1.7941256761550903, train_accuracy: 34.569358825683594, test_loss: 1.782396912574768, test_accuracy: 35.934104919433594\n",
       "</span></pre>\n"
      ],
      "text/plain": [
       "\u001b[34mepoch:29, train_loss: 1.7941256761550903, train_accuracy: 34.569358825683594, test_loss: 1.782396912574768, test_accuracy: 35.934104919433594\n",
       "\u001b[0m"
      ]
     },
     "metadata": {},
     "output_type": "display_data"
    },
    {
     "data": {
      "text/html": [
       "<pre style=\"white-space:pre;overflow-x:auto;line-height:normal;font-family:Menlo,'DejaVu Sans Mono',consolas,'Courier New',monospace\"><span style=\"color: #800000; text-decoration-color: #800000\">\u001b[1A 29%|██▉       | 29/100 [03:26&lt;07:04,  5.98s/it]\n",
       "</span></pre>\n"
      ],
      "text/plain": [
       "\u001b[31m\u001b[1A 29%|██▉       | 29/100 [03:26<07:04,  5.98s/it]\n",
       "\u001b[0m"
      ]
     },
     "metadata": {},
     "output_type": "display_data"
    },
    {
     "data": {
      "text/html": [
       "<pre style=\"white-space:pre;overflow-x:auto;line-height:normal;font-family:Menlo,'DejaVu Sans Mono',consolas,'Courier New',monospace\"><span style=\"color: #000080; text-decoration-color: #000080\"></span></pre>\n"
      ],
      "text/plain": []
     },
     "metadata": {},
     "output_type": "display_data"
    },
    {
     "data": {
      "text/html": [
       "<pre style=\"white-space:pre;overflow-x:auto;line-height:normal;font-family:Menlo,'DejaVu Sans Mono',consolas,'Courier New',monospace\"><span style=\"color: #000080; text-decoration-color: #000080\">epoch:30, train_loss: 1.7940936088562012, train_accuracy: 34.579065442085266, test_loss: 1.783957600593567, test_accuracy: 35.934104919433594\n",
       "</span></pre>\n"
      ],
      "text/plain": [
       "\u001b[34mepoch:30, train_loss: 1.7940936088562012, train_accuracy: 34.579065442085266, test_loss: 1.783957600593567, test_accuracy: 35.934104919433594\n",
       "\u001b[0m"
      ]
     },
     "metadata": {},
     "output_type": "display_data"
    },
    {
     "data": {
      "text/html": [
       "<pre style=\"white-space:pre;overflow-x:auto;line-height:normal;font-family:Menlo,'DejaVu Sans Mono',consolas,'Courier New',monospace\"><span style=\"color: #800000; text-decoration-color: #800000\">\u001b[1A 30%|███       | 30/100 [03:32&lt;06:57,  5.97s/it]\n",
       "</span></pre>\n"
      ],
      "text/plain": [
       "\u001b[31m\u001b[1A 30%|███       | 30/100 [03:32<06:57,  5.97s/it]\n",
       "\u001b[0m"
      ]
     },
     "metadata": {},
     "output_type": "display_data"
    },
    {
     "data": {
      "text/html": [
       "<pre style=\"white-space:pre;overflow-x:auto;line-height:normal;font-family:Menlo,'DejaVu Sans Mono',consolas,'Courier New',monospace\"><span style=\"color: #000080; text-decoration-color: #000080\"></span></pre>\n"
      ],
      "text/plain": []
     },
     "metadata": {},
     "output_type": "display_data"
    },
    {
     "data": {
      "text/html": [
       "<pre style=\"white-space:pre;overflow-x:auto;line-height:normal;font-family:Menlo,'DejaVu Sans Mono',consolas,'Courier New',monospace\"><span style=\"color: #000080; text-decoration-color: #000080\">epoch:31, train_loss: 1.7940495014190674, train_accuracy: 34.5835417509079, test_loss: 1.7827517986297607, test_accuracy: 35.934104919433594\n",
       "</span></pre>\n"
      ],
      "text/plain": [
       "\u001b[34mepoch:31, train_loss: 1.7940495014190674, train_accuracy: 34.5835417509079, test_loss: 1.7827517986297607, test_accuracy: 35.934104919433594\n",
       "\u001b[0m"
      ]
     },
     "metadata": {},
     "output_type": "display_data"
    },
    {
     "data": {
      "text/html": [
       "<pre style=\"white-space:pre;overflow-x:auto;line-height:normal;font-family:Menlo,'DejaVu Sans Mono',consolas,'Courier New',monospace\"><span style=\"color: #800000; text-decoration-color: #800000\">\u001b[1A 31%|███       | 31/100 [03:38&lt;06:54,  6.01s/it]\n",
       "</span></pre>\n"
      ],
      "text/plain": [
       "\u001b[31m\u001b[1A 31%|███       | 31/100 [03:38<06:54,  6.01s/it]\n",
       "\u001b[0m"
      ]
     },
     "metadata": {},
     "output_type": "display_data"
    },
    {
     "data": {
      "text/html": [
       "<pre style=\"white-space:pre;overflow-x:auto;line-height:normal;font-family:Menlo,'DejaVu Sans Mono',consolas,'Courier New',monospace\"><span style=\"color: #000080; text-decoration-color: #000080\"></span></pre>\n"
      ],
      "text/plain": []
     },
     "metadata": {},
     "output_type": "display_data"
    },
    {
     "data": {
      "text/html": [
       "<pre style=\"white-space:pre;overflow-x:auto;line-height:normal;font-family:Menlo,'DejaVu Sans Mono',consolas,'Courier New',monospace\"><span style=\"color: #000080; text-decoration-color: #000080\">epoch:32, train_loss: 1.7942357063293457, train_accuracy: 34.56723093986511, test_loss: 1.7818399667739868, test_accuracy: 35.934104919433594\n",
       "</span></pre>\n"
      ],
      "text/plain": [
       "\u001b[34mepoch:32, train_loss: 1.7942357063293457, train_accuracy: 34.56723093986511, test_loss: 1.7818399667739868, test_accuracy: 35.934104919433594\n",
       "\u001b[0m"
      ]
     },
     "metadata": {},
     "output_type": "display_data"
    },
    {
     "data": {
      "text/html": [
       "<pre style=\"white-space:pre;overflow-x:auto;line-height:normal;font-family:Menlo,'DejaVu Sans Mono',consolas,'Courier New',monospace\"><span style=\"color: #800000; text-decoration-color: #800000\">\u001b[1A 32%|███▏      | 32/100 [03:44&lt;06:48,  6.01s/it]\n",
       "</span></pre>\n"
      ],
      "text/plain": [
       "\u001b[31m\u001b[1A 32%|███▏      | 32/100 [03:44<06:48,  6.01s/it]\n",
       "\u001b[0m"
      ]
     },
     "metadata": {},
     "output_type": "display_data"
    },
    {
     "data": {
      "text/html": [
       "<pre style=\"white-space:pre;overflow-x:auto;line-height:normal;font-family:Menlo,'DejaVu Sans Mono',consolas,'Courier New',monospace\"><span style=\"color: #000080; text-decoration-color: #000080\"></span></pre>\n"
      ],
      "text/plain": []
     },
     "metadata": {},
     "output_type": "display_data"
    },
    {
     "data": {
      "text/html": [
       "<pre style=\"white-space:pre;overflow-x:auto;line-height:normal;font-family:Menlo,'DejaVu Sans Mono',consolas,'Courier New',monospace\"><span style=\"color: #000080; text-decoration-color: #000080\">epoch:33, train_loss: 1.794166922569275, train_accuracy: 34.577178955078125, test_loss: 1.7822935581207275, test_accuracy: 35.934104919433594\n",
       "</span></pre>\n"
      ],
      "text/plain": [
       "\u001b[34mepoch:33, train_loss: 1.794166922569275, train_accuracy: 34.577178955078125, test_loss: 1.7822935581207275, test_accuracy: 35.934104919433594\n",
       "\u001b[0m"
      ]
     },
     "metadata": {},
     "output_type": "display_data"
    },
    {
     "data": {
      "text/html": [
       "<pre style=\"white-space:pre;overflow-x:auto;line-height:normal;font-family:Menlo,'DejaVu Sans Mono',consolas,'Courier New',monospace\"><span style=\"color: #800000; text-decoration-color: #800000\">\u001b[1A 33%|███▎      | 33/100 [03:50&lt;06:42,  6.01s/it]\n",
       "</span></pre>\n"
      ],
      "text/plain": [
       "\u001b[31m\u001b[1A 33%|███▎      | 33/100 [03:50<06:42,  6.01s/it]\n",
       "\u001b[0m"
      ]
     },
     "metadata": {},
     "output_type": "display_data"
    },
    {
     "data": {
      "text/html": [
       "<pre style=\"white-space:pre;overflow-x:auto;line-height:normal;font-family:Menlo,'DejaVu Sans Mono',consolas,'Courier New',monospace\"><span style=\"color: #000080; text-decoration-color: #000080\">epoch:34, train_loss: 1.794103980064392, train_accuracy: 34.5666378736496, test_loss: 1.789009928703308, test_accuracy: 35.934104919433594\n",
       "</span></pre>\n"
      ],
      "text/plain": [
       "\u001b[34mepoch:34, train_loss: 1.794103980064392, train_accuracy: 34.5666378736496, test_loss: 1.789009928703308, test_accuracy: 35.934104919433594\n",
       "\u001b[0m"
      ]
     },
     "metadata": {},
     "output_type": "display_data"
    },
    {
     "data": {
      "text/html": [
       "<pre style=\"white-space:pre;overflow-x:auto;line-height:normal;font-family:Menlo,'DejaVu Sans Mono',consolas,'Courier New',monospace\"><span style=\"color: #800000; text-decoration-color: #800000\">\u001b[1A 34%|███▍      | 34/100 [03:56&lt;06:35,  5.99s/it]\n",
       "</span></pre>\n"
      ],
      "text/plain": [
       "\u001b[31m\u001b[1A 34%|███▍      | 34/100 [03:56<06:35,  5.99s/it]\n",
       "\u001b[0m"
      ]
     },
     "metadata": {},
     "output_type": "display_data"
    },
    {
     "data": {
      "text/html": [
       "<pre style=\"white-space:pre;overflow-x:auto;line-height:normal;font-family:Menlo,'DejaVu Sans Mono',consolas,'Courier New',monospace\"><span style=\"color: #000080; text-decoration-color: #000080\"></span></pre>\n"
      ],
      "text/plain": []
     },
     "metadata": {},
     "output_type": "display_data"
    },
    {
     "data": {
      "text/html": [
       "<pre style=\"white-space:pre;overflow-x:auto;line-height:normal;font-family:Menlo,'DejaVu Sans Mono',consolas,'Courier New',monospace\"><span style=\"color: #000080; text-decoration-color: #000080\">epoch:35, train_loss: 1.7945079803466797, train_accuracy: 34.56834554672241, test_loss: 1.783063530921936, test_accuracy: 35.934104919433594\n",
       "</span></pre>\n"
      ],
      "text/plain": [
       "\u001b[34mepoch:35, train_loss: 1.7945079803466797, train_accuracy: 34.56834554672241, test_loss: 1.783063530921936, test_accuracy: 35.934104919433594\n",
       "\u001b[0m"
      ]
     },
     "metadata": {},
     "output_type": "display_data"
    },
    {
     "data": {
      "text/html": [
       "<pre style=\"white-space:pre;overflow-x:auto;line-height:normal;font-family:Menlo,'DejaVu Sans Mono',consolas,'Courier New',monospace\"><span style=\"color: #800000; text-decoration-color: #800000\">\u001b[1A 35%|███▌      | 35/100 [04:02&lt;06:29,  6.00s/it]\n",
       "</span></pre>\n"
      ],
      "text/plain": [
       "\u001b[31m\u001b[1A 35%|███▌      | 35/100 [04:02<06:29,  6.00s/it]\n",
       "\u001b[0m"
      ]
     },
     "metadata": {},
     "output_type": "display_data"
    },
    {
     "data": {
      "text/html": [
       "<pre style=\"white-space:pre;overflow-x:auto;line-height:normal;font-family:Menlo,'DejaVu Sans Mono',consolas,'Courier New',monospace\"><span style=\"color: #000080; text-decoration-color: #000080\"></span></pre>\n"
      ],
      "text/plain": []
     },
     "metadata": {},
     "output_type": "display_data"
    },
    {
     "data": {
      "text/html": [
       "<pre style=\"white-space:pre;overflow-x:auto;line-height:normal;font-family:Menlo,'DejaVu Sans Mono',consolas,'Courier New',monospace\"><span style=\"color: #000080; text-decoration-color: #000080\">epoch:36, train_loss: 1.7943413257598877, train_accuracy: 34.55938100814819, test_loss: 1.7825015783309937, test_accuracy: 35.934104919433594\n",
       "</span></pre>\n"
      ],
      "text/plain": [
       "\u001b[34mepoch:36, train_loss: 1.7943413257598877, train_accuracy: 34.55938100814819, test_loss: 1.7825015783309937, test_accuracy: 35.934104919433594\n",
       "\u001b[0m"
      ]
     },
     "metadata": {},
     "output_type": "display_data"
    },
    {
     "data": {
      "text/html": [
       "<pre style=\"white-space:pre;overflow-x:auto;line-height:normal;font-family:Menlo,'DejaVu Sans Mono',consolas,'Courier New',monospace\"><span style=\"color: #800000; text-decoration-color: #800000\">\u001b[1A 36%|███▌      | 36/100 [04:08&lt;06:23,  6.00s/it]\n",
       "</span></pre>\n"
      ],
      "text/plain": [
       "\u001b[31m\u001b[1A 36%|███▌      | 36/100 [04:08<06:23,  6.00s/it]\n",
       "\u001b[0m"
      ]
     },
     "metadata": {},
     "output_type": "display_data"
    },
    {
     "data": {
      "text/html": [
       "<pre style=\"white-space:pre;overflow-x:auto;line-height:normal;font-family:Menlo,'DejaVu Sans Mono',consolas,'Courier New',monospace\"><span style=\"color: #800000; text-decoration-color: #800000\">\u001b[1A 37%|███▋      | 37/100 [04:14&lt;06:16,  5.97s/it]</span></pre>\n"
      ],
      "text/plain": [
       "\u001b[31m\u001b[1A 37%|███▋      | 37/100 [04:14<06:16,  5.97s/it]\u001b[0m"
      ]
     },
     "metadata": {},
     "output_type": "display_data"
    },
    {
     "data": {
      "text/html": [
       "<pre style=\"white-space:pre;overflow-x:auto;line-height:normal;font-family:Menlo,'DejaVu Sans Mono',consolas,'Courier New',monospace\"><span style=\"color: #000080; text-decoration-color: #000080\">epoch:37, train_loss: 1.79445481300354, train_accuracy: 34.555891156196594, test_loss: 1.7823388576507568, test_accuracy: 35.934104919433594\n",
       "</span></pre>\n"
      ],
      "text/plain": [
       "\u001b[34mepoch:37, train_loss: 1.79445481300354, train_accuracy: 34.555891156196594, test_loss: 1.7823388576507568, test_accuracy: 35.934104919433594\n",
       "\u001b[0m"
      ]
     },
     "metadata": {},
     "output_type": "display_data"
    },
    {
     "data": {
      "text/html": [
       "<pre style=\"white-space:pre;overflow-x:auto;line-height:normal;font-family:Menlo,'DejaVu Sans Mono',consolas,'Courier New',monospace\"><span style=\"color: #800000; text-decoration-color: #800000\">\n",
       "</span></pre>\n"
      ],
      "text/plain": [
       "\u001b[31m\n",
       "\u001b[0m"
      ]
     },
     "metadata": {},
     "output_type": "display_data"
    },
    {
     "data": {
      "text/html": [
       "<pre style=\"white-space:pre;overflow-x:auto;line-height:normal;font-family:Menlo,'DejaVu Sans Mono',consolas,'Courier New',monospace\"><span style=\"color: #000080; text-decoration-color: #000080\"></span></pre>\n"
      ],
      "text/plain": []
     },
     "metadata": {},
     "output_type": "display_data"
    },
    {
     "data": {
      "text/html": [
       "<pre style=\"white-space:pre;overflow-x:auto;line-height:normal;font-family:Menlo,'DejaVu Sans Mono',consolas,'Courier New',monospace\"><span style=\"color: #800000; text-decoration-color: #800000\">\u001b[1A 38%|███▊      | 38/100 [04:20&lt;06:11,  5.99s/it]\n",
       "</span></pre>\n"
      ],
      "text/plain": [
       "\u001b[31m\u001b[1A 38%|███▊      | 38/100 [04:20<06:11,  5.99s/it]\n",
       "\u001b[0m"
      ]
     },
     "metadata": {},
     "output_type": "display_data"
    },
    {
     "data": {
      "text/html": [
       "<pre style=\"white-space:pre;overflow-x:auto;line-height:normal;font-family:Menlo,'DejaVu Sans Mono',consolas,'Courier New',monospace\"><span style=\"color: #000080; text-decoration-color: #000080\"></span></pre>\n"
      ],
      "text/plain": []
     },
     "metadata": {},
     "output_type": "display_data"
    },
    {
     "data": {
      "text/html": [
       "<pre style=\"white-space:pre;overflow-x:auto;line-height:normal;font-family:Menlo,'DejaVu Sans Mono',consolas,'Courier New',monospace\"><span style=\"color: #000080; text-decoration-color: #000080\">epoch:39, train_loss: 1.794030785560608, train_accuracy: 34.561219811439514, test_loss: 1.7832965850830078, test_accuracy: 35.934104919433594\n",
       "</span></pre>\n"
      ],
      "text/plain": [
       "\u001b[34mepoch:39, train_loss: 1.794030785560608, train_accuracy: 34.561219811439514, test_loss: 1.7832965850830078, test_accuracy: 35.934104919433594\n",
       "\u001b[0m"
      ]
     },
     "metadata": {},
     "output_type": "display_data"
    },
    {
     "data": {
      "text/html": [
       "<pre style=\"white-space:pre;overflow-x:auto;line-height:normal;font-family:Menlo,'DejaVu Sans Mono',consolas,'Courier New',monospace\"><span style=\"color: #800000; text-decoration-color: #800000\">\u001b[1A 39%|███▉      | 39/100 [04:26&lt;06:04,  5.97s/it]\n",
       "</span></pre>\n"
      ],
      "text/plain": [
       "\u001b[31m\u001b[1A 39%|███▉      | 39/100 [04:26<06:04,  5.97s/it]\n",
       "\u001b[0m"
      ]
     },
     "metadata": {},
     "output_type": "display_data"
    },
    {
     "data": {
      "text/html": [
       "<pre style=\"white-space:pre;overflow-x:auto;line-height:normal;font-family:Menlo,'DejaVu Sans Mono',consolas,'Courier New',monospace\"><span style=\"color: #000080; text-decoration-color: #000080\"></span></pre>\n"
      ],
      "text/plain": []
     },
     "metadata": {},
     "output_type": "display_data"
    },
    {
     "data": {
      "text/html": [
       "<pre style=\"white-space:pre;overflow-x:auto;line-height:normal;font-family:Menlo,'DejaVu Sans Mono',consolas,'Courier New',monospace\"><span style=\"color: #000080; text-decoration-color: #000080\">epoch:40, train_loss: 1.7938495874404907, train_accuracy: 34.579840302467346, test_loss: 1.7819916009902954, test_accuracy: 35.934104919433594\n",
       "</span></pre>\n"
      ],
      "text/plain": [
       "\u001b[34mepoch:40, train_loss: 1.7938495874404907, train_accuracy: 34.579840302467346, test_loss: 1.7819916009902954, test_accuracy: 35.934104919433594\n",
       "\u001b[0m"
      ]
     },
     "metadata": {},
     "output_type": "display_data"
    },
    {
     "data": {
      "text/html": [
       "<pre style=\"white-space:pre;overflow-x:auto;line-height:normal;font-family:Menlo,'DejaVu Sans Mono',consolas,'Courier New',monospace\"><span style=\"color: #800000; text-decoration-color: #800000\">\u001b[1A 40%|████      | 40/100 [04:31&lt;05:57,  5.95s/it]\n",
       "</span></pre>\n"
      ],
      "text/plain": [
       "\u001b[31m\u001b[1A 40%|████      | 40/100 [04:31<05:57,  5.95s/it]\n",
       "\u001b[0m"
      ]
     },
     "metadata": {},
     "output_type": "display_data"
    },
    {
     "data": {
      "text/html": [
       "<pre style=\"white-space:pre;overflow-x:auto;line-height:normal;font-family:Menlo,'DejaVu Sans Mono',consolas,'Courier New',monospace\"><span style=\"color: #000080; text-decoration-color: #000080\">epoch:41, train_loss: 1.7939814329147339, train_accuracy: 34.56826210021973, test_loss: 1.7816994190216064, test_accuracy: 35.934104919433594\n",
       "</span></pre>\n"
      ],
      "text/plain": [
       "\u001b[34mepoch:41, train_loss: 1.7939814329147339, train_accuracy: 34.56826210021973, test_loss: 1.7816994190216064, test_accuracy: 35.934104919433594\n",
       "\u001b[0m"
      ]
     },
     "metadata": {},
     "output_type": "display_data"
    },
    {
     "data": {
      "text/html": [
       "<pre style=\"white-space:pre;overflow-x:auto;line-height:normal;font-family:Menlo,'DejaVu Sans Mono',consolas,'Courier New',monospace\"><span style=\"color: #800000; text-decoration-color: #800000\">\u001b[1A 41%|████      | 41/100 [04:38&lt;05:54,  6.00s/it]\n",
       "</span></pre>\n"
      ],
      "text/plain": [
       "\u001b[31m\u001b[1A 41%|████      | 41/100 [04:38<05:54,  6.00s/it]\n",
       "\u001b[0m"
      ]
     },
     "metadata": {},
     "output_type": "display_data"
    },
    {
     "data": {
      "text/html": [
       "<pre style=\"white-space:pre;overflow-x:auto;line-height:normal;font-family:Menlo,'DejaVu Sans Mono',consolas,'Courier New',monospace\"><span style=\"color: #000080; text-decoration-color: #000080\"></span></pre>\n"
      ],
      "text/plain": []
     },
     "metadata": {},
     "output_type": "display_data"
    },
    {
     "data": {
      "text/html": [
       "<pre style=\"white-space:pre;overflow-x:auto;line-height:normal;font-family:Menlo,'DejaVu Sans Mono',consolas,'Courier New',monospace\"><span style=\"color: #000080; text-decoration-color: #000080\">epoch:42, train_loss: 1.7939366102218628, train_accuracy: 34.571683406829834, test_loss: 1.7837892770767212, test_accuracy: 35.934104919433594\n",
       "</span></pre>\n"
      ],
      "text/plain": [
       "\u001b[34mepoch:42, train_loss: 1.7939366102218628, train_accuracy: 34.571683406829834, test_loss: 1.7837892770767212, test_accuracy: 35.934104919433594\n",
       "\u001b[0m"
      ]
     },
     "metadata": {},
     "output_type": "display_data"
    },
    {
     "data": {
      "text/html": [
       "<pre style=\"white-space:pre;overflow-x:auto;line-height:normal;font-family:Menlo,'DejaVu Sans Mono',consolas,'Courier New',monospace\"><span style=\"color: #800000; text-decoration-color: #800000\">\u001b[1A 42%|████▏     | 42/100 [04:44&lt;05:46,  5.98s/it]\n",
       "</span></pre>\n"
      ],
      "text/plain": [
       "\u001b[31m\u001b[1A 42%|████▏     | 42/100 [04:44<05:46,  5.98s/it]\n",
       "\u001b[0m"
      ]
     },
     "metadata": {},
     "output_type": "display_data"
    },
    {
     "data": {
      "text/html": [
       "<pre style=\"white-space:pre;overflow-x:auto;line-height:normal;font-family:Menlo,'DejaVu Sans Mono',consolas,'Courier New',monospace\"><span style=\"color: #000080; text-decoration-color: #000080\"></span></pre>\n"
      ],
      "text/plain": []
     },
     "metadata": {},
     "output_type": "display_data"
    },
    {
     "data": {
      "text/html": [
       "<pre style=\"white-space:pre;overflow-x:auto;line-height:normal;font-family:Menlo,'DejaVu Sans Mono',consolas,'Courier New',monospace\"><span style=\"color: #000080; text-decoration-color: #000080\">epoch:43, train_loss: 1.7941746711730957, train_accuracy: 34.55691337585449, test_loss: 1.7827659845352173, test_accuracy: 35.934104919433594\n",
       "</span></pre>\n"
      ],
      "text/plain": [
       "\u001b[34mepoch:43, train_loss: 1.7941746711730957, train_accuracy: 34.55691337585449, test_loss: 1.7827659845352173, test_accuracy: 35.934104919433594\n",
       "\u001b[0m"
      ]
     },
     "metadata": {},
     "output_type": "display_data"
    },
    {
     "data": {
      "text/html": [
       "<pre style=\"white-space:pre;overflow-x:auto;line-height:normal;font-family:Menlo,'DejaVu Sans Mono',consolas,'Courier New',monospace\"><span style=\"color: #800000; text-decoration-color: #800000\">\u001b[1A 43%|████▎     | 43/100 [04:50&lt;05:43,  6.02s/it]\n",
       "</span></pre>\n"
      ],
      "text/plain": [
       "\u001b[31m\u001b[1A 43%|████▎     | 43/100 [04:50<05:43,  6.02s/it]\n",
       "\u001b[0m"
      ]
     },
     "metadata": {},
     "output_type": "display_data"
    },
    {
     "data": {
      "text/html": [
       "<pre style=\"white-space:pre;overflow-x:auto;line-height:normal;font-family:Menlo,'DejaVu Sans Mono',consolas,'Courier New',monospace\"><span style=\"color: #000080; text-decoration-color: #000080\"></span></pre>\n"
      ],
      "text/plain": []
     },
     "metadata": {},
     "output_type": "display_data"
    },
    {
     "data": {
      "text/html": [
       "<pre style=\"white-space:pre;overflow-x:auto;line-height:normal;font-family:Menlo,'DejaVu Sans Mono',consolas,'Courier New',monospace\"><span style=\"color: #000080; text-decoration-color: #000080\">epoch:44, train_loss: 1.7945406436920166, train_accuracy: 34.54652726650238, test_loss: 1.7828872203826904, test_accuracy: 35.934104919433594\n",
       "</span></pre>\n"
      ],
      "text/plain": [
       "\u001b[34mepoch:44, train_loss: 1.7945406436920166, train_accuracy: 34.54652726650238, test_loss: 1.7828872203826904, test_accuracy: 35.934104919433594\n",
       "\u001b[0m"
      ]
     },
     "metadata": {},
     "output_type": "display_data"
    },
    {
     "data": {
      "text/html": [
       "<pre style=\"white-space:pre;overflow-x:auto;line-height:normal;font-family:Menlo,'DejaVu Sans Mono',consolas,'Courier New',monospace\"><span style=\"color: #800000; text-decoration-color: #800000\">\u001b[1A 44%|████▍     | 44/100 [04:56&lt;05:40,  6.08s/it]\n",
       "</span></pre>\n"
      ],
      "text/plain": [
       "\u001b[31m\u001b[1A 44%|████▍     | 44/100 [04:56<05:40,  6.08s/it]\n",
       "\u001b[0m"
      ]
     },
     "metadata": {},
     "output_type": "display_data"
    },
    {
     "data": {
      "text/html": [
       "<pre style=\"white-space:pre;overflow-x:auto;line-height:normal;font-family:Menlo,'DejaVu Sans Mono',consolas,'Courier New',monospace\"><span style=\"color: #000080; text-decoration-color: #000080\"></span></pre>\n"
      ],
      "text/plain": []
     },
     "metadata": {},
     "output_type": "display_data"
    },
    {
     "data": {
      "text/html": [
       "<pre style=\"white-space:pre;overflow-x:auto;line-height:normal;font-family:Menlo,'DejaVu Sans Mono',consolas,'Courier New',monospace\"><span style=\"color: #000080; text-decoration-color: #000080\">epoch:45, train_loss: 1.794386386871338, train_accuracy: 34.57731008529663, test_loss: 1.7817554473876953, test_accuracy: 35.934104919433594\n",
       "</span></pre>\n"
      ],
      "text/plain": [
       "\u001b[34mepoch:45, train_loss: 1.794386386871338, train_accuracy: 34.57731008529663, test_loss: 1.7817554473876953, test_accuracy: 35.934104919433594\n",
       "\u001b[0m"
      ]
     },
     "metadata": {},
     "output_type": "display_data"
    },
    {
     "data": {
      "text/html": [
       "<pre style=\"white-space:pre;overflow-x:auto;line-height:normal;font-family:Menlo,'DejaVu Sans Mono',consolas,'Courier New',monospace\"><span style=\"color: #800000; text-decoration-color: #800000\">\u001b[1A 45%|████▌     | 45/100 [05:02&lt;05:33,  6.06s/it]\n",
       "</span></pre>\n"
      ],
      "text/plain": [
       "\u001b[31m\u001b[1A 45%|████▌     | 45/100 [05:02<05:33,  6.06s/it]\n",
       "\u001b[0m"
      ]
     },
     "metadata": {},
     "output_type": "display_data"
    },
    {
     "data": {
      "text/html": [
       "<pre style=\"white-space:pre;overflow-x:auto;line-height:normal;font-family:Menlo,'DejaVu Sans Mono',consolas,'Courier New',monospace\"><span style=\"color: #800000; text-decoration-color: #800000\">\u001b[1A 46%|████▌     | 46/100 [05:08&lt;05:28,  6.08s/it]</span></pre>\n"
      ],
      "text/plain": [
       "\u001b[31m\u001b[1A 46%|████▌     | 46/100 [05:08<05:28,  6.08s/it]\u001b[0m"
      ]
     },
     "metadata": {},
     "output_type": "display_data"
    },
    {
     "data": {
      "text/html": [
       "<pre style=\"white-space:pre;overflow-x:auto;line-height:normal;font-family:Menlo,'DejaVu Sans Mono',consolas,'Courier New',monospace\"><span style=\"color: #000080; text-decoration-color: #000080\"></span></pre>\n"
      ],
      "text/plain": []
     },
     "metadata": {},
     "output_type": "display_data"
    },
    {
     "data": {
      "text/html": [
       "<pre style=\"white-space:pre;overflow-x:auto;line-height:normal;font-family:Menlo,'DejaVu Sans Mono',consolas,'Courier New',monospace\"><span style=\"color: #000080; text-decoration-color: #000080\">epoch:46, train_loss: 1.7939503192901611, train_accuracy: 34.579235315322876, test_loss: 1.7839617729187012, test_accuracy: 35.934104919433594\n",
       "</span></pre>\n"
      ],
      "text/plain": [
       "\u001b[34mepoch:46, train_loss: 1.7939503192901611, train_accuracy: 34.579235315322876, test_loss: 1.7839617729187012, test_accuracy: 35.934104919433594\n",
       "\u001b[0m"
      ]
     },
     "metadata": {},
     "output_type": "display_data"
    },
    {
     "data": {
      "text/html": [
       "<pre style=\"white-space:pre;overflow-x:auto;line-height:normal;font-family:Menlo,'DejaVu Sans Mono',consolas,'Courier New',monospace\"><span style=\"color: #800000; text-decoration-color: #800000\">\n",
       "</span></pre>\n"
      ],
      "text/plain": [
       "\u001b[31m\n",
       "\u001b[0m"
      ]
     },
     "metadata": {},
     "output_type": "display_data"
    },
    {
     "data": {
      "text/html": [
       "<pre style=\"white-space:pre;overflow-x:auto;line-height:normal;font-family:Menlo,'DejaVu Sans Mono',consolas,'Courier New',monospace\"><span style=\"color: #000080; text-decoration-color: #000080\"></span></pre>\n"
      ],
      "text/plain": []
     },
     "metadata": {},
     "output_type": "display_data"
    },
    {
     "data": {
      "text/html": [
       "<pre style=\"white-space:pre;overflow-x:auto;line-height:normal;font-family:Menlo,'DejaVu Sans Mono',consolas,'Courier New',monospace\"><span style=\"color: #000080; text-decoration-color: #000080\">epoch:47, train_loss: 1.794169545173645, train_accuracy: 34.55839455127716, test_loss: 1.7829853296279907, test_accuracy: 35.934104919433594\n",
       "</span></pre>\n"
      ],
      "text/plain": [
       "\u001b[34mepoch:47, train_loss: 1.794169545173645, train_accuracy: 34.55839455127716, test_loss: 1.7829853296279907, test_accuracy: 35.934104919433594\n",
       "\u001b[0m"
      ]
     },
     "metadata": {},
     "output_type": "display_data"
    },
    {
     "data": {
      "text/html": [
       "<pre style=\"white-space:pre;overflow-x:auto;line-height:normal;font-family:Menlo,'DejaVu Sans Mono',consolas,'Courier New',monospace\"><span style=\"color: #800000; text-decoration-color: #800000\">\u001b[1A 47%|████▋     | 47/100 [05:16&lt;05:46,  6.55s/it]\n",
       "</span></pre>\n"
      ],
      "text/plain": [
       "\u001b[31m\u001b[1A 47%|████▋     | 47/100 [05:16<05:46,  6.55s/it]\n",
       "\u001b[0m"
      ]
     },
     "metadata": {},
     "output_type": "display_data"
    },
    {
     "data": {
      "text/html": [
       "<pre style=\"white-space:pre;overflow-x:auto;line-height:normal;font-family:Menlo,'DejaVu Sans Mono',consolas,'Courier New',monospace\"><span style=\"color: #000080; text-decoration-color: #000080\"></span></pre>\n"
      ],
      "text/plain": []
     },
     "metadata": {},
     "output_type": "display_data"
    },
    {
     "data": {
      "text/html": [
       "<pre style=\"white-space:pre;overflow-x:auto;line-height:normal;font-family:Menlo,'DejaVu Sans Mono',consolas,'Courier New',monospace\"><span style=\"color: #000080; text-decoration-color: #000080\">epoch:48, train_loss: 1.794321894645691, train_accuracy: 34.567442536354065, test_loss: 1.7831053733825684, test_accuracy: 35.934104919433594\n",
       "</span></pre>\n"
      ],
      "text/plain": [
       "\u001b[34mepoch:48, train_loss: 1.794321894645691, train_accuracy: 34.567442536354065, test_loss: 1.7831053733825684, test_accuracy: 35.934104919433594\n",
       "\u001b[0m"
      ]
     },
     "metadata": {},
     "output_type": "display_data"
    },
    {
     "data": {
      "text/html": [
       "<pre style=\"white-space:pre;overflow-x:auto;line-height:normal;font-family:Menlo,'DejaVu Sans Mono',consolas,'Courier New',monospace\"><span style=\"color: #800000; text-decoration-color: #800000\">\u001b[1A 48%|████▊     | 48/100 [05:22&lt;05:41,  6.57s/it]\n",
       "</span></pre>\n"
      ],
      "text/plain": [
       "\u001b[31m\u001b[1A 48%|████▊     | 48/100 [05:22<05:41,  6.57s/it]\n",
       "\u001b[0m"
      ]
     },
     "metadata": {},
     "output_type": "display_data"
    },
    {
     "data": {
      "text/html": [
       "<pre style=\"white-space:pre;overflow-x:auto;line-height:normal;font-family:Menlo,'DejaVu Sans Mono',consolas,'Courier New',monospace\"><span style=\"color: #000080; text-decoration-color: #000080\"></span></pre>\n"
      ],
      "text/plain": []
     },
     "metadata": {},
     "output_type": "display_data"
    },
    {
     "data": {
      "text/html": [
       "<pre style=\"white-space:pre;overflow-x:auto;line-height:normal;font-family:Menlo,'DejaVu Sans Mono',consolas,'Courier New',monospace\"><span style=\"color: #000080; text-decoration-color: #000080\">epoch:49, train_loss: 1.7941561937332153, train_accuracy: 34.55490171909332, test_loss: 1.7819045782089233, test_accuracy: 35.934104919433594\n",
       "</span></pre>\n"
      ],
      "text/plain": [
       "\u001b[34mepoch:49, train_loss: 1.7941561937332153, train_accuracy: 34.55490171909332, test_loss: 1.7819045782089233, test_accuracy: 35.934104919433594\n",
       "\u001b[0m"
      ]
     },
     "metadata": {},
     "output_type": "display_data"
    },
    {
     "data": {
      "text/html": [
       "<pre style=\"white-space:pre;overflow-x:auto;line-height:normal;font-family:Menlo,'DejaVu Sans Mono',consolas,'Courier New',monospace\"><span style=\"color: #800000; text-decoration-color: #800000\">\u001b[1A 49%|████▉     | 49/100 [05:29&lt;05:31,  6.49s/it]\n",
       "</span></pre>\n"
      ],
      "text/plain": [
       "\u001b[31m\u001b[1A 49%|████▉     | 49/100 [05:29<05:31,  6.49s/it]\n",
       "\u001b[0m"
      ]
     },
     "metadata": {},
     "output_type": "display_data"
    },
    {
     "data": {
      "text/html": [
       "<pre style=\"white-space:pre;overflow-x:auto;line-height:normal;font-family:Menlo,'DejaVu Sans Mono',consolas,'Courier New',monospace\"><span style=\"color: #000080; text-decoration-color: #000080\">epoch:50, train_loss: 1.7937920093536377, train_accuracy: 34.5710813999176, test_loss: 1.782518744468689, test_accuracy: 35.934104919433594\n",
       "</span></pre>\n"
      ],
      "text/plain": [
       "\u001b[34mepoch:50, train_loss: 1.7937920093536377, train_accuracy: 34.5710813999176, test_loss: 1.782518744468689, test_accuracy: 35.934104919433594\n",
       "\u001b[0m"
      ]
     },
     "metadata": {},
     "output_type": "display_data"
    },
    {
     "data": {
      "text/html": [
       "<pre style=\"white-space:pre;overflow-x:auto;line-height:normal;font-family:Menlo,'DejaVu Sans Mono',consolas,'Courier New',monospace\"><span style=\"color: #800000; text-decoration-color: #800000\">\u001b[1A 50%|█████     | 50/100 [05:35&lt;05:17,  6.35s/it]\n",
       "</span></pre>\n"
      ],
      "text/plain": [
       "\u001b[31m\u001b[1A 50%|█████     | 50/100 [05:35<05:17,  6.35s/it]\n",
       "\u001b[0m"
      ]
     },
     "metadata": {},
     "output_type": "display_data"
    },
    {
     "data": {
      "text/html": [
       "<pre style=\"white-space:pre;overflow-x:auto;line-height:normal;font-family:Menlo,'DejaVu Sans Mono',consolas,'Courier New',monospace\"><span style=\"color: #000080; text-decoration-color: #000080\">epoch:51, train_loss: 1.7939664125442505, train_accuracy: 34.57750082015991, test_loss: 1.7820711135864258, test_accuracy: 35.934104919433594\n",
       "</span></pre>\n"
      ],
      "text/plain": [
       "\u001b[34mepoch:51, train_loss: 1.7939664125442505, train_accuracy: 34.57750082015991, test_loss: 1.7820711135864258, test_accuracy: 35.934104919433594\n",
       "\u001b[0m"
      ]
     },
     "metadata": {},
     "output_type": "display_data"
    },
    {
     "data": {
      "text/html": [
       "<pre style=\"white-space:pre;overflow-x:auto;line-height:normal;font-family:Menlo,'DejaVu Sans Mono',consolas,'Courier New',monospace\"><span style=\"color: #800000; text-decoration-color: #800000\">\u001b[1A 51%|█████     | 51/100 [05:41&lt;05:07,  6.28s/it]\n",
       "</span></pre>\n"
      ],
      "text/plain": [
       "\u001b[31m\u001b[1A 51%|█████     | 51/100 [05:41<05:07,  6.28s/it]\n",
       "\u001b[0m"
      ]
     },
     "metadata": {},
     "output_type": "display_data"
    },
    {
     "data": {
      "text/html": [
       "<pre style=\"white-space:pre;overflow-x:auto;line-height:normal;font-family:Menlo,'DejaVu Sans Mono',consolas,'Courier New',monospace\"><span style=\"color: #000080; text-decoration-color: #000080\"></span></pre>\n"
      ],
      "text/plain": []
     },
     "metadata": {},
     "output_type": "display_data"
    },
    {
     "data": {
      "text/html": [
       "<pre style=\"white-space:pre;overflow-x:auto;line-height:normal;font-family:Menlo,'DejaVu Sans Mono',consolas,'Courier New',monospace\"><span style=\"color: #000080; text-decoration-color: #000080\">epoch:52, train_loss: 1.793737769126892, train_accuracy: 34.592097997665405, test_loss: 1.7824878692626953, test_accuracy: 35.934104919433594\n",
       "</span></pre>\n"
      ],
      "text/plain": [
       "\u001b[34mepoch:52, train_loss: 1.793737769126892, train_accuracy: 34.592097997665405, test_loss: 1.7824878692626953, test_accuracy: 35.934104919433594\n",
       "\u001b[0m"
      ]
     },
     "metadata": {},
     "output_type": "display_data"
    },
    {
     "data": {
      "text/html": [
       "<pre style=\"white-space:pre;overflow-x:auto;line-height:normal;font-family:Menlo,'DejaVu Sans Mono',consolas,'Courier New',monospace\"><span style=\"color: #800000; text-decoration-color: #800000\">\u001b[1A 52%|█████▏    | 52/100 [05:48&lt;05:12,  6.50s/it]\n",
       "</span></pre>\n"
      ],
      "text/plain": [
       "\u001b[31m\u001b[1A 52%|█████▏    | 52/100 [05:48<05:12,  6.50s/it]\n",
       "\u001b[0m"
      ]
     },
     "metadata": {},
     "output_type": "display_data"
    },
    {
     "data": {
      "text/html": [
       "<pre style=\"white-space:pre;overflow-x:auto;line-height:normal;font-family:Menlo,'DejaVu Sans Mono',consolas,'Courier New',monospace\"><span style=\"color: #000080; text-decoration-color: #000080\">epoch:53, train_loss: 1.793987512588501, train_accuracy: 34.57680642604828, test_loss: 1.7827036380767822, test_accuracy: 35.934104919433594\n",
       "</span></pre>\n"
      ],
      "text/plain": [
       "\u001b[34mepoch:53, train_loss: 1.793987512588501, train_accuracy: 34.57680642604828, test_loss: 1.7827036380767822, test_accuracy: 35.934104919433594\n",
       "\u001b[0m"
      ]
     },
     "metadata": {},
     "output_type": "display_data"
    },
    {
     "data": {
      "text/html": [
       "<pre style=\"white-space:pre;overflow-x:auto;line-height:normal;font-family:Menlo,'DejaVu Sans Mono',consolas,'Courier New',monospace\"><span style=\"color: #800000; text-decoration-color: #800000\">\u001b[1A 53%|█████▎    | 53/100 [05:54&lt;05:08,  6.57s/it]\n",
       "</span></pre>\n"
      ],
      "text/plain": [
       "\u001b[31m\u001b[1A 53%|█████▎    | 53/100 [05:54<05:08,  6.57s/it]\n",
       "\u001b[0m"
      ]
     },
     "metadata": {},
     "output_type": "display_data"
    },
    {
     "data": {
      "text/html": [
       "<pre style=\"white-space:pre;overflow-x:auto;line-height:normal;font-family:Menlo,'DejaVu Sans Mono',consolas,'Courier New',monospace\"><span style=\"color: #800000; text-decoration-color: #800000\">\u001b[1A 54%|█████▍    | 54/100 [06:01&lt;04:55,  6.43s/it]</span></pre>\n"
      ],
      "text/plain": [
       "\u001b[31m\u001b[1A 54%|█████▍    | 54/100 [06:01<04:55,  6.43s/it]\u001b[0m"
      ]
     },
     "metadata": {},
     "output_type": "display_data"
    },
    {
     "data": {
      "text/html": [
       "<pre style=\"white-space:pre;overflow-x:auto;line-height:normal;font-family:Menlo,'DejaVu Sans Mono',consolas,'Courier New',monospace\"><span style=\"color: #000080; text-decoration-color: #000080\"></span></pre>\n"
      ],
      "text/plain": []
     },
     "metadata": {},
     "output_type": "display_data"
    },
    {
     "data": {
      "text/html": [
       "<pre style=\"white-space:pre;overflow-x:auto;line-height:normal;font-family:Menlo,'DejaVu Sans Mono',consolas,'Courier New',monospace\"><span style=\"color: #000080; text-decoration-color: #000080\">epoch:54, train_loss: 1.793556809425354, train_accuracy: 34.600406885147095, test_loss: 1.7822943925857544, test_accuracy: 35.934104919433594\n",
       "</span></pre>\n"
      ],
      "text/plain": [
       "\u001b[34mepoch:54, train_loss: 1.793556809425354, train_accuracy: 34.600406885147095, test_loss: 1.7822943925857544, test_accuracy: 35.934104919433594\n",
       "\u001b[0m"
      ]
     },
     "metadata": {},
     "output_type": "display_data"
    },
    {
     "data": {
      "text/html": [
       "<pre style=\"white-space:pre;overflow-x:auto;line-height:normal;font-family:Menlo,'DejaVu Sans Mono',consolas,'Courier New',monospace\"><span style=\"color: #800000; text-decoration-color: #800000\">\n",
       "</span></pre>\n"
      ],
      "text/plain": [
       "\u001b[31m\n",
       "\u001b[0m"
      ]
     },
     "metadata": {},
     "output_type": "display_data"
    },
    {
     "data": {
      "text/html": [
       "<pre style=\"white-space:pre;overflow-x:auto;line-height:normal;font-family:Menlo,'DejaVu Sans Mono',consolas,'Courier New',monospace\"><span style=\"color: #000080; text-decoration-color: #000080\"></span></pre>\n"
      ],
      "text/plain": []
     },
     "metadata": {},
     "output_type": "display_data"
    },
    {
     "data": {
      "text/html": [
       "<pre style=\"white-space:pre;overflow-x:auto;line-height:normal;font-family:Menlo,'DejaVu Sans Mono',consolas,'Courier New',monospace\"><span style=\"color: #000080; text-decoration-color: #000080\">epoch:55, train_loss: 1.7937694787979126, train_accuracy: 34.568098187446594, test_loss: 1.7819311618804932, test_accuracy: 35.934104919433594\n",
       "</span></pre>\n"
      ],
      "text/plain": [
       "\u001b[34mepoch:55, train_loss: 1.7937694787979126, train_accuracy: 34.568098187446594, test_loss: 1.7819311618804932, test_accuracy: 35.934104919433594\n",
       "\u001b[0m"
      ]
     },
     "metadata": {},
     "output_type": "display_data"
    },
    {
     "data": {
      "text/html": [
       "<pre style=\"white-space:pre;overflow-x:auto;line-height:normal;font-family:Menlo,'DejaVu Sans Mono',consolas,'Courier New',monospace\"><span style=\"color: #800000; text-decoration-color: #800000\">\u001b[1A 55%|█████▌    | 55/100 [06:07&lt;04:45,  6.34s/it]\n",
       "</span></pre>\n"
      ],
      "text/plain": [
       "\u001b[31m\u001b[1A 55%|█████▌    | 55/100 [06:07<04:45,  6.34s/it]\n",
       "\u001b[0m"
      ]
     },
     "metadata": {},
     "output_type": "display_data"
    },
    {
     "data": {
      "text/html": [
       "<pre style=\"white-space:pre;overflow-x:auto;line-height:normal;font-family:Menlo,'DejaVu Sans Mono',consolas,'Courier New',monospace\"><span style=\"color: #000080; text-decoration-color: #000080\">epoch:56, train_loss: 1.7939560413360596, train_accuracy: 34.57140326499939, test_loss: 1.782589077949524, test_accuracy: 35.934104919433594\n",
       "</span></pre>\n"
      ],
      "text/plain": [
       "\u001b[34mepoch:56, train_loss: 1.7939560413360596, train_accuracy: 34.57140326499939, test_loss: 1.782589077949524, test_accuracy: 35.934104919433594\n",
       "\u001b[0m"
      ]
     },
     "metadata": {},
     "output_type": "display_data"
    },
    {
     "data": {
      "text/html": [
       "<pre style=\"white-space:pre;overflow-x:auto;line-height:normal;font-family:Menlo,'DejaVu Sans Mono',consolas,'Courier New',monospace\"><span style=\"color: #800000; text-decoration-color: #800000\">\u001b[1A 56%|█████▌    | 56/100 [06:13&lt;04:35,  6.27s/it]\n",
       "</span></pre>\n"
      ],
      "text/plain": [
       "\u001b[31m\u001b[1A 56%|█████▌    | 56/100 [06:13<04:35,  6.27s/it]\n",
       "\u001b[0m"
      ]
     },
     "metadata": {},
     "output_type": "display_data"
    },
    {
     "data": {
      "text/html": [
       "<pre style=\"white-space:pre;overflow-x:auto;line-height:normal;font-family:Menlo,'DejaVu Sans Mono',consolas,'Courier New',monospace\"><span style=\"color: #000080; text-decoration-color: #000080\"></span></pre>\n"
      ],
      "text/plain": []
     },
     "metadata": {},
     "output_type": "display_data"
    },
    {
     "data": {
      "text/html": [
       "<pre style=\"white-space:pre;overflow-x:auto;line-height:normal;font-family:Menlo,'DejaVu Sans Mono',consolas,'Courier New',monospace\"><span style=\"color: #000080; text-decoration-color: #000080\">epoch:57, train_loss: 1.7937010526657104, train_accuracy: 34.568047523498535, test_loss: 1.7821046113967896, test_accuracy: 35.934104919433594\n",
       "</span></pre>\n"
      ],
      "text/plain": [
       "\u001b[34mepoch:57, train_loss: 1.7937010526657104, train_accuracy: 34.568047523498535, test_loss: 1.7821046113967896, test_accuracy: 35.934104919433594\n",
       "\u001b[0m"
      ]
     },
     "metadata": {},
     "output_type": "display_data"
    },
    {
     "data": {
      "text/html": [
       "<pre style=\"white-space:pre;overflow-x:auto;line-height:normal;font-family:Menlo,'DejaVu Sans Mono',consolas,'Courier New',monospace\"><span style=\"color: #800000; text-decoration-color: #800000\">\u001b[1A 57%|█████▋    | 57/100 [06:19&lt;04:27,  6.23s/it]\n",
       "</span></pre>\n"
      ],
      "text/plain": [
       "\u001b[31m\u001b[1A 57%|█████▋    | 57/100 [06:19<04:27,  6.23s/it]\n",
       "\u001b[0m"
      ]
     },
     "metadata": {},
     "output_type": "display_data"
    },
    {
     "data": {
      "text/html": [
       "<pre style=\"white-space:pre;overflow-x:auto;line-height:normal;font-family:Menlo,'DejaVu Sans Mono',consolas,'Courier New',monospace\"><span style=\"color: #000080; text-decoration-color: #000080\"></span></pre>\n"
      ],
      "text/plain": []
     },
     "metadata": {},
     "output_type": "display_data"
    },
    {
     "data": {
      "text/html": [
       "<pre style=\"white-space:pre;overflow-x:auto;line-height:normal;font-family:Menlo,'DejaVu Sans Mono',consolas,'Courier New',monospace\"><span style=\"color: #000080; text-decoration-color: #000080\">epoch:58, train_loss: 1.793884038925171, train_accuracy: 34.57024097442627, test_loss: 1.7819535732269287, test_accuracy: 35.934104919433594\n",
       "</span></pre>\n"
      ],
      "text/plain": [
       "\u001b[34mepoch:58, train_loss: 1.793884038925171, train_accuracy: 34.57024097442627, test_loss: 1.7819535732269287, test_accuracy: 35.934104919433594\n",
       "\u001b[0m"
      ]
     },
     "metadata": {},
     "output_type": "display_data"
    },
    {
     "data": {
      "text/html": [
       "<pre style=\"white-space:pre;overflow-x:auto;line-height:normal;font-family:Menlo,'DejaVu Sans Mono',consolas,'Courier New',monospace\"><span style=\"color: #800000; text-decoration-color: #800000\">\u001b[1A 58%|█████▊    | 58/100 [06:25&lt;04:17,  6.13s/it]\n",
       "</span></pre>\n"
      ],
      "text/plain": [
       "\u001b[31m\u001b[1A 58%|█████▊    | 58/100 [06:25<04:17,  6.13s/it]\n",
       "\u001b[0m"
      ]
     },
     "metadata": {},
     "output_type": "display_data"
    },
    {
     "data": {
      "text/html": [
       "<pre style=\"white-space:pre;overflow-x:auto;line-height:normal;font-family:Menlo,'DejaVu Sans Mono',consolas,'Courier New',monospace\"><span style=\"color: #000080; text-decoration-color: #000080\"></span></pre>\n"
      ],
      "text/plain": []
     },
     "metadata": {},
     "output_type": "display_data"
    },
    {
     "data": {
      "text/html": [
       "<pre style=\"white-space:pre;overflow-x:auto;line-height:normal;font-family:Menlo,'DejaVu Sans Mono',consolas,'Courier New',monospace\"><span style=\"color: #000080; text-decoration-color: #000080\">epoch:59, train_loss: 1.794102430343628, train_accuracy: 34.58787202835083, test_loss: 1.7830251455307007, test_accuracy: 35.934104919433594\n",
       "</span></pre>\n"
      ],
      "text/plain": [
       "\u001b[34mepoch:59, train_loss: 1.794102430343628, train_accuracy: 34.58787202835083, test_loss: 1.7830251455307007, test_accuracy: 35.934104919433594\n",
       "\u001b[0m"
      ]
     },
     "metadata": {},
     "output_type": "display_data"
    },
    {
     "data": {
      "text/html": [
       "<pre style=\"white-space:pre;overflow-x:auto;line-height:normal;font-family:Menlo,'DejaVu Sans Mono',consolas,'Courier New',monospace\"><span style=\"color: #800000; text-decoration-color: #800000\">\u001b[1A 59%|█████▉    | 59/100 [06:31&lt;04:10,  6.10s/it]\n",
       "</span></pre>\n"
      ],
      "text/plain": [
       "\u001b[31m\u001b[1A 59%|█████▉    | 59/100 [06:31<04:10,  6.10s/it]\n",
       "\u001b[0m"
      ]
     },
     "metadata": {},
     "output_type": "display_data"
    },
    {
     "data": {
      "text/html": [
       "<pre style=\"white-space:pre;overflow-x:auto;line-height:normal;font-family:Menlo,'DejaVu Sans Mono',consolas,'Courier New',monospace\"><span style=\"color: #000080; text-decoration-color: #000080\">epoch:60, train_loss: 1.7934859991073608, train_accuracy: 34.60169732570648, test_loss: 1.783995509147644, test_accuracy: 35.934104919433594\n",
       "</span></pre>\n"
      ],
      "text/plain": [
       "\u001b[34mepoch:60, train_loss: 1.7934859991073608, train_accuracy: 34.60169732570648, test_loss: 1.783995509147644, test_accuracy: 35.934104919433594\n",
       "\u001b[0m"
      ]
     },
     "metadata": {},
     "output_type": "display_data"
    },
    {
     "data": {
      "text/html": [
       "<pre style=\"white-space:pre;overflow-x:auto;line-height:normal;font-family:Menlo,'DejaVu Sans Mono',consolas,'Courier New',monospace\"><span style=\"color: #800000; text-decoration-color: #800000\">\u001b[1A 60%|██████    | 60/100 [06:37&lt;04:01,  6.04s/it]\n",
       "</span></pre>\n"
      ],
      "text/plain": [
       "\u001b[31m\u001b[1A 60%|██████    | 60/100 [06:37<04:01,  6.04s/it]\n",
       "\u001b[0m"
      ]
     },
     "metadata": {},
     "output_type": "display_data"
    },
    {
     "data": {
      "text/html": [
       "<pre style=\"white-space:pre;overflow-x:auto;line-height:normal;font-family:Menlo,'DejaVu Sans Mono',consolas,'Courier New',monospace\"><span style=\"color: #000080; text-decoration-color: #000080\"></span></pre>\n"
      ],
      "text/plain": []
     },
     "metadata": {},
     "output_type": "display_data"
    },
    {
     "data": {
      "text/html": [
       "<pre style=\"white-space:pre;overflow-x:auto;line-height:normal;font-family:Menlo,'DejaVu Sans Mono',consolas,'Courier New',monospace\"><span style=\"color: #000080; text-decoration-color: #000080\">epoch:61, train_loss: 1.7941182851791382, train_accuracy: 34.5573753118515, test_loss: 1.7843918800354004, test_accuracy: 35.934104919433594\n",
       "</span></pre>\n"
      ],
      "text/plain": [
       "\u001b[34mepoch:61, train_loss: 1.7941182851791382, train_accuracy: 34.5573753118515, test_loss: 1.7843918800354004, test_accuracy: 35.934104919433594\n",
       "\u001b[0m"
      ]
     },
     "metadata": {},
     "output_type": "display_data"
    },
    {
     "data": {
      "text/html": [
       "<pre style=\"white-space:pre;overflow-x:auto;line-height:normal;font-family:Menlo,'DejaVu Sans Mono',consolas,'Courier New',monospace\"><span style=\"color: #800000; text-decoration-color: #800000\">\u001b[1A 61%|██████    | 61/100 [06:43&lt;03:55,  6.04s/it]\n",
       "</span></pre>\n"
      ],
      "text/plain": [
       "\u001b[31m\u001b[1A 61%|██████    | 61/100 [06:43<03:55,  6.04s/it]\n",
       "\u001b[0m"
      ]
     },
     "metadata": {},
     "output_type": "display_data"
    },
    {
     "data": {
      "text/html": [
       "<pre style=\"white-space:pre;overflow-x:auto;line-height:normal;font-family:Menlo,'DejaVu Sans Mono',consolas,'Courier New',monospace\"><span style=\"color: #000080; text-decoration-color: #000080\"></span></pre>\n"
      ],
      "text/plain": []
     },
     "metadata": {},
     "output_type": "display_data"
    },
    {
     "data": {
      "text/html": [
       "<pre style=\"white-space:pre;overflow-x:auto;line-height:normal;font-family:Menlo,'DejaVu Sans Mono',consolas,'Courier New',monospace\"><span style=\"color: #000080; text-decoration-color: #000080\">epoch:62, train_loss: 1.7936466932296753, train_accuracy: 34.56599414348602, test_loss: 1.7826932668685913, test_accuracy: 35.934104919433594\n",
       "</span></pre>\n"
      ],
      "text/plain": [
       "\u001b[34mepoch:62, train_loss: 1.7936466932296753, train_accuracy: 34.56599414348602, test_loss: 1.7826932668685913, test_accuracy: 35.934104919433594\n",
       "\u001b[0m"
      ]
     },
     "metadata": {},
     "output_type": "display_data"
    },
    {
     "data": {
      "text/html": [
       "<pre style=\"white-space:pre;overflow-x:auto;line-height:normal;font-family:Menlo,'DejaVu Sans Mono',consolas,'Courier New',monospace\"><span style=\"color: #800000; text-decoration-color: #800000\">\u001b[1A 62%|██████▏   | 62/100 [06:49&lt;03:48,  6.00s/it]\n",
       "</span></pre>\n"
      ],
      "text/plain": [
       "\u001b[31m\u001b[1A 62%|██████▏   | 62/100 [06:49<03:48,  6.00s/it]\n",
       "\u001b[0m"
      ]
     },
     "metadata": {},
     "output_type": "display_data"
    },
    {
     "data": {
      "text/html": [
       "<pre style=\"white-space:pre;overflow-x:auto;line-height:normal;font-family:Menlo,'DejaVu Sans Mono',consolas,'Courier New',monospace\"><span style=\"color: #800000; text-decoration-color: #800000\">\u001b[1A 63%|██████▎   | 63/100 [06:57&lt;04:03,  6.58s/it]</span></pre>\n"
      ],
      "text/plain": [
       "\u001b[31m\u001b[1A 63%|██████▎   | 63/100 [06:57<04:03,  6.58s/it]\u001b[0m"
      ]
     },
     "metadata": {},
     "output_type": "display_data"
    },
    {
     "data": {
      "text/html": [
       "<pre style=\"white-space:pre;overflow-x:auto;line-height:normal;font-family:Menlo,'DejaVu Sans Mono',consolas,'Courier New',monospace\"><span style=\"color: #000080; text-decoration-color: #000080\"></span></pre>\n"
      ],
      "text/plain": []
     },
     "metadata": {},
     "output_type": "display_data"
    },
    {
     "data": {
      "text/html": [
       "<pre style=\"white-space:pre;overflow-x:auto;line-height:normal;font-family:Menlo,'DejaVu Sans Mono',consolas,'Courier New',monospace\"><span style=\"color: #000080; text-decoration-color: #000080\">epoch:63, train_loss: 1.7939552068710327, train_accuracy: 34.56999063491821, test_loss: 1.7825109958648682, test_accuracy: 35.934104919433594\n",
       "</span></pre>\n"
      ],
      "text/plain": [
       "\u001b[34mepoch:63, train_loss: 1.7939552068710327, train_accuracy: 34.56999063491821, test_loss: 1.7825109958648682, test_accuracy: 35.934104919433594\n",
       "\u001b[0m"
      ]
     },
     "metadata": {},
     "output_type": "display_data"
    },
    {
     "data": {
      "text/html": [
       "<pre style=\"white-space:pre;overflow-x:auto;line-height:normal;font-family:Menlo,'DejaVu Sans Mono',consolas,'Courier New',monospace\"><span style=\"color: #800000; text-decoration-color: #800000\">\n",
       "</span></pre>\n"
      ],
      "text/plain": [
       "\u001b[31m\n",
       "\u001b[0m"
      ]
     },
     "metadata": {},
     "output_type": "display_data"
    },
    {
     "data": {
      "text/html": [
       "<pre style=\"white-space:pre;overflow-x:auto;line-height:normal;font-family:Menlo,'DejaVu Sans Mono',consolas,'Courier New',monospace\"><span style=\"color: #000080; text-decoration-color: #000080\"></span></pre>\n"
      ],
      "text/plain": []
     },
     "metadata": {},
     "output_type": "display_data"
    },
    {
     "data": {
      "text/html": [
       "<pre style=\"white-space:pre;overflow-x:auto;line-height:normal;font-family:Menlo,'DejaVu Sans Mono',consolas,'Courier New',monospace\"><span style=\"color: #000080; text-decoration-color: #000080\">epoch:64, train_loss: 1.7939976453781128, train_accuracy: 34.57899987697601, test_loss: 1.7826752662658691, test_accuracy: 35.934104919433594\n",
       "</span></pre>\n"
      ],
      "text/plain": [
       "\u001b[34mepoch:64, train_loss: 1.7939976453781128, train_accuracy: 34.57899987697601, test_loss: 1.7826752662658691, test_accuracy: 35.934104919433594\n",
       "\u001b[0m"
      ]
     },
     "metadata": {},
     "output_type": "display_data"
    },
    {
     "data": {
      "text/html": [
       "<pre style=\"white-space:pre;overflow-x:auto;line-height:normal;font-family:Menlo,'DejaVu Sans Mono',consolas,'Courier New',monospace\"><span style=\"color: #800000; text-decoration-color: #800000\">\u001b[1A 64%|██████▍   | 64/100 [07:03&lt;03:51,  6.44s/it]\n",
       "</span></pre>\n"
      ],
      "text/plain": [
       "\u001b[31m\u001b[1A 64%|██████▍   | 64/100 [07:03<03:51,  6.44s/it]\n",
       "\u001b[0m"
      ]
     },
     "metadata": {},
     "output_type": "display_data"
    },
    {
     "data": {
      "text/html": [
       "<pre style=\"white-space:pre;overflow-x:auto;line-height:normal;font-family:Menlo,'DejaVu Sans Mono',consolas,'Courier New',monospace\"><span style=\"color: #000080; text-decoration-color: #000080\"></span></pre>\n"
      ],
      "text/plain": []
     },
     "metadata": {},
     "output_type": "display_data"
    },
    {
     "data": {
      "text/html": [
       "<pre style=\"white-space:pre;overflow-x:auto;line-height:normal;font-family:Menlo,'DejaVu Sans Mono',consolas,'Courier New',monospace\"><span style=\"color: #000080; text-decoration-color: #000080\">epoch:65, train_loss: 1.7940919399261475, train_accuracy: 34.55163240432739, test_loss: 1.7823048830032349, test_accuracy: 35.934104919433594\n",
       "</span></pre>\n"
      ],
      "text/plain": [
       "\u001b[34mepoch:65, train_loss: 1.7940919399261475, train_accuracy: 34.55163240432739, test_loss: 1.7823048830032349, test_accuracy: 35.934104919433594\n",
       "\u001b[0m"
      ]
     },
     "metadata": {},
     "output_type": "display_data"
    },
    {
     "data": {
      "text/html": [
       "<pre style=\"white-space:pre;overflow-x:auto;line-height:normal;font-family:Menlo,'DejaVu Sans Mono',consolas,'Courier New',monospace\"><span style=\"color: #800000; text-decoration-color: #800000\">\u001b[1A 65%|██████▌   | 65/100 [07:09&lt;03:40,  6.31s/it]\n",
       "</span></pre>\n"
      ],
      "text/plain": [
       "\u001b[31m\u001b[1A 65%|██████▌   | 65/100 [07:09<03:40,  6.31s/it]\n",
       "\u001b[0m"
      ]
     },
     "metadata": {},
     "output_type": "display_data"
    },
    {
     "data": {
      "text/html": [
       "<pre style=\"white-space:pre;overflow-x:auto;line-height:normal;font-family:Menlo,'DejaVu Sans Mono',consolas,'Courier New',monospace\"><span style=\"color: #000080; text-decoration-color: #000080\">epoch:66, train_loss: 1.7942912578582764, train_accuracy: 34.551459550857544, test_loss: 1.7825233936309814, test_accuracy: 35.934104919433594\n",
       "</span></pre>\n"
      ],
      "text/plain": [
       "\u001b[34mepoch:66, train_loss: 1.7942912578582764, train_accuracy: 34.551459550857544, test_loss: 1.7825233936309814, test_accuracy: 35.934104919433594\n",
       "\u001b[0m"
      ]
     },
     "metadata": {},
     "output_type": "display_data"
    },
    {
     "data": {
      "text/html": [
       "<pre style=\"white-space:pre;overflow-x:auto;line-height:normal;font-family:Menlo,'DejaVu Sans Mono',consolas,'Courier New',monospace\"><span style=\"color: #800000; text-decoration-color: #800000\">\u001b[1A 66%|██████▌   | 66/100 [07:15&lt;03:32,  6.25s/it]\n",
       "</span></pre>\n"
      ],
      "text/plain": [
       "\u001b[31m\u001b[1A 66%|██████▌   | 66/100 [07:15<03:32,  6.25s/it]\n",
       "\u001b[0m"
      ]
     },
     "metadata": {},
     "output_type": "display_data"
    },
    {
     "data": {
      "text/html": [
       "<pre style=\"white-space:pre;overflow-x:auto;line-height:normal;font-family:Menlo,'DejaVu Sans Mono',consolas,'Courier New',monospace\"><span style=\"color: #000080; text-decoration-color: #000080\">epoch:67, train_loss: 1.7943401336669922, train_accuracy: 34.56906974315643, test_loss: 1.7818132638931274, test_accuracy: 35.934104919433594\n",
       "</span></pre>\n"
      ],
      "text/plain": [
       "\u001b[34mepoch:67, train_loss: 1.7943401336669922, train_accuracy: 34.56906974315643, test_loss: 1.7818132638931274, test_accuracy: 35.934104919433594\n",
       "\u001b[0m"
      ]
     },
     "metadata": {},
     "output_type": "display_data"
    },
    {
     "data": {
      "text/html": [
       "<pre style=\"white-space:pre;overflow-x:auto;line-height:normal;font-family:Menlo,'DejaVu Sans Mono',consolas,'Courier New',monospace\"><span style=\"color: #800000; text-decoration-color: #800000\">\u001b[1A 67%|██████▋   | 67/100 [07:21&lt;03:25,  6.24s/it]\n",
       "</span></pre>\n"
      ],
      "text/plain": [
       "\u001b[31m\u001b[1A 67%|██████▋   | 67/100 [07:21<03:25,  6.24s/it]\n",
       "\u001b[0m"
      ]
     },
     "metadata": {},
     "output_type": "display_data"
    },
    {
     "data": {
      "text/html": [
       "<pre style=\"white-space:pre;overflow-x:auto;line-height:normal;font-family:Menlo,'DejaVu Sans Mono',consolas,'Courier New',monospace\"><span style=\"color: #000080; text-decoration-color: #000080\">epoch:68, train_loss: 1.793967604637146, train_accuracy: 34.57058668136597, test_loss: 1.7868025302886963, test_accuracy: 35.934104919433594\n",
       "</span></pre>\n"
      ],
      "text/plain": [
       "\u001b[34mepoch:68, train_loss: 1.793967604637146, train_accuracy: 34.57058668136597, test_loss: 1.7868025302886963, test_accuracy: 35.934104919433594\n",
       "\u001b[0m"
      ]
     },
     "metadata": {},
     "output_type": "display_data"
    },
    {
     "data": {
      "text/html": [
       "<pre style=\"white-space:pre;overflow-x:auto;line-height:normal;font-family:Menlo,'DejaVu Sans Mono',consolas,'Courier New',monospace\"><span style=\"color: #800000; text-decoration-color: #800000\">\u001b[1A 68%|██████▊   | 68/100 [07:28&lt;03:23,  6.36s/it]\n",
       "</span></pre>\n"
      ],
      "text/plain": [
       "\u001b[31m\u001b[1A 68%|██████▊   | 68/100 [07:28<03:23,  6.36s/it]\n",
       "\u001b[0m"
      ]
     },
     "metadata": {},
     "output_type": "display_data"
    },
    {
     "data": {
      "text/html": [
       "<pre style=\"white-space:pre;overflow-x:auto;line-height:normal;font-family:Menlo,'DejaVu Sans Mono',consolas,'Courier New',monospace\"><span style=\"color: #000080; text-decoration-color: #000080\"></span></pre>\n"
      ],
      "text/plain": []
     },
     "metadata": {},
     "output_type": "display_data"
    },
    {
     "data": {
      "text/html": [
       "<pre style=\"white-space:pre;overflow-x:auto;line-height:normal;font-family:Menlo,'DejaVu Sans Mono',consolas,'Courier New',monospace\"><span style=\"color: #000080; text-decoration-color: #000080\">epoch:69, train_loss: 1.7937291860580444, train_accuracy: 34.56767201423645, test_loss: 1.782410979270935, test_accuracy: 35.934104919433594\n",
       "</span></pre>\n"
      ],
      "text/plain": [
       "\u001b[34mepoch:69, train_loss: 1.7937291860580444, train_accuracy: 34.56767201423645, test_loss: 1.782410979270935, test_accuracy: 35.934104919433594\n",
       "\u001b[0m"
      ]
     },
     "metadata": {},
     "output_type": "display_data"
    },
    {
     "data": {
      "text/html": [
       "<pre style=\"white-space:pre;overflow-x:auto;line-height:normal;font-family:Menlo,'DejaVu Sans Mono',consolas,'Courier New',monospace\"><span style=\"color: #000080; text-decoration-color: #000080\"></span></pre>\n"
      ],
      "text/plain": []
     },
     "metadata": {},
     "output_type": "display_data"
    },
    {
     "data": {
      "text/html": [
       "<pre style=\"white-space:pre;overflow-x:auto;line-height:normal;font-family:Menlo,'DejaVu Sans Mono',consolas,'Courier New',monospace\"><span style=\"color: #000080; text-decoration-color: #000080\">epoch:70, train_loss: 1.793945074081421, train_accuracy: 34.55323874950409, test_loss: 1.782751441001892, test_accuracy: 35.934104919433594\n",
       "</span></pre>\n"
      ],
      "text/plain": [
       "\u001b[34mepoch:70, train_loss: 1.793945074081421, train_accuracy: 34.55323874950409, test_loss: 1.782751441001892, test_accuracy: 35.934104919433594\n",
       "\u001b[0m"
      ]
     },
     "metadata": {},
     "output_type": "display_data"
    },
    {
     "data": {
      "text/html": [
       "<pre style=\"white-space:pre;overflow-x:auto;line-height:normal;font-family:Menlo,'DejaVu Sans Mono',consolas,'Courier New',monospace\"><span style=\"color: #800000; text-decoration-color: #800000\">\u001b[1A 70%|███████   | 70/100 [07:40&lt;03:07,  6.25s/it]\n",
       "</span></pre>\n"
      ],
      "text/plain": [
       "\u001b[31m\u001b[1A 70%|███████   | 70/100 [07:40<03:07,  6.25s/it]\n",
       "\u001b[0m"
      ]
     },
     "metadata": {},
     "output_type": "display_data"
    },
    {
     "data": {
      "text/html": [
       "<pre style=\"white-space:pre;overflow-x:auto;line-height:normal;font-family:Menlo,'DejaVu Sans Mono',consolas,'Courier New',monospace\"><span style=\"color: #000080; text-decoration-color: #000080\"></span></pre>\n"
      ],
      "text/plain": []
     },
     "metadata": {},
     "output_type": "display_data"
    },
    {
     "data": {
      "text/html": [
       "<pre style=\"white-space:pre;overflow-x:auto;line-height:normal;font-family:Menlo,'DejaVu Sans Mono',consolas,'Courier New',monospace\"><span style=\"color: #000080; text-decoration-color: #000080\">epoch:71, train_loss: 1.7936748266220093, train_accuracy: 34.58811640739441, test_loss: 1.7826319932937622, test_accuracy: 35.934104919433594\n",
       "</span></pre>\n"
      ],
      "text/plain": [
       "\u001b[34mepoch:71, train_loss: 1.7936748266220093, train_accuracy: 34.58811640739441, test_loss: 1.7826319932937622, test_accuracy: 35.934104919433594\n",
       "\u001b[0m"
      ]
     },
     "metadata": {},
     "output_type": "display_data"
    },
    {
     "data": {
      "text/html": [
       "<pre style=\"white-space:pre;overflow-x:auto;line-height:normal;font-family:Menlo,'DejaVu Sans Mono',consolas,'Courier New',monospace\"><span style=\"color: #800000; text-decoration-color: #800000\">\u001b[1A 71%|███████   | 71/100 [07:46&lt;03:01,  6.27s/it]\n",
       "</span></pre>\n"
      ],
      "text/plain": [
       "\u001b[31m\u001b[1A 71%|███████   | 71/100 [07:46<03:01,  6.27s/it]\n",
       "\u001b[0m"
      ]
     },
     "metadata": {},
     "output_type": "display_data"
    },
    {
     "data": {
      "text/html": [
       "<pre style=\"white-space:pre;overflow-x:auto;line-height:normal;font-family:Menlo,'DejaVu Sans Mono',consolas,'Courier New',monospace\"><span style=\"color: #800000; text-decoration-color: #800000\">\u001b[1A 72%|███████▏  | 72/100 [07:52&lt;02:54,  6.23s/it]</span></pre>\n"
      ],
      "text/plain": [
       "\u001b[31m\u001b[1A 72%|███████▏  | 72/100 [07:52<02:54,  6.23s/it]\u001b[0m"
      ]
     },
     "metadata": {},
     "output_type": "display_data"
    },
    {
     "data": {
      "text/html": [
       "<pre style=\"white-space:pre;overflow-x:auto;line-height:normal;font-family:Menlo,'DejaVu Sans Mono',consolas,'Courier New',monospace\"><span style=\"color: #000080; text-decoration-color: #000080\">epoch:72, train_loss: 1.7941440343856812, train_accuracy: 34.56555902957916, test_loss: 1.7821143865585327, test_accuracy: 35.934104919433594\n",
       "</span></pre>\n"
      ],
      "text/plain": [
       "\u001b[34mepoch:72, train_loss: 1.7941440343856812, train_accuracy: 34.56555902957916, test_loss: 1.7821143865585327, test_accuracy: 35.934104919433594\n",
       "\u001b[0m"
      ]
     },
     "metadata": {},
     "output_type": "display_data"
    },
    {
     "data": {
      "text/html": [
       "<pre style=\"white-space:pre;overflow-x:auto;line-height:normal;font-family:Menlo,'DejaVu Sans Mono',consolas,'Courier New',monospace\"><span style=\"color: #800000; text-decoration-color: #800000\">\n",
       "</span></pre>\n"
      ],
      "text/plain": [
       "\u001b[31m\n",
       "\u001b[0m"
      ]
     },
     "metadata": {},
     "output_type": "display_data"
    },
    {
     "data": {
      "text/html": [
       "<pre style=\"white-space:pre;overflow-x:auto;line-height:normal;font-family:Menlo,'DejaVu Sans Mono',consolas,'Courier New',monospace\"><span style=\"color: #000080; text-decoration-color: #000080\">epoch:73, train_loss: 1.794097900390625, train_accuracy: 34.56049561500549, test_loss: 1.7823512554168701, test_accuracy: 35.934104919433594\n",
       "</span></pre>\n"
      ],
      "text/plain": [
       "\u001b[34mepoch:73, train_loss: 1.794097900390625, train_accuracy: 34.56049561500549, test_loss: 1.7823512554168701, test_accuracy: 35.934104919433594\n",
       "\u001b[0m"
      ]
     },
     "metadata": {},
     "output_type": "display_data"
    },
    {
     "data": {
      "text/html": [
       "<pre style=\"white-space:pre;overflow-x:auto;line-height:normal;font-family:Menlo,'DejaVu Sans Mono',consolas,'Courier New',monospace\"><span style=\"color: #800000; text-decoration-color: #800000\">\u001b[1A 73%|███████▎  | 73/100 [07:58&lt;02:46,  6.16s/it]\n",
       "</span></pre>\n"
      ],
      "text/plain": [
       "\u001b[31m\u001b[1A 73%|███████▎  | 73/100 [07:58<02:46,  6.16s/it]\n",
       "\u001b[0m"
      ]
     },
     "metadata": {},
     "output_type": "display_data"
    },
    {
     "data": {
      "text/html": [
       "<pre style=\"white-space:pre;overflow-x:auto;line-height:normal;font-family:Menlo,'DejaVu Sans Mono',consolas,'Courier New',monospace\"><span style=\"color: #000080; text-decoration-color: #000080\"></span></pre>\n"
      ],
      "text/plain": []
     },
     "metadata": {},
     "output_type": "display_data"
    },
    {
     "data": {
      "text/html": [
       "<pre style=\"white-space:pre;overflow-x:auto;line-height:normal;font-family:Menlo,'DejaVu Sans Mono',consolas,'Courier New',monospace\"><span style=\"color: #000080; text-decoration-color: #000080\">epoch:74, train_loss: 1.793869972229004, train_accuracy: 34.57287549972534, test_loss: 1.7835556268692017, test_accuracy: 35.934104919433594\n",
       "</span></pre>\n"
      ],
      "text/plain": [
       "\u001b[34mepoch:74, train_loss: 1.793869972229004, train_accuracy: 34.57287549972534, test_loss: 1.7835556268692017, test_accuracy: 35.934104919433594\n",
       "\u001b[0m"
      ]
     },
     "metadata": {},
     "output_type": "display_data"
    },
    {
     "data": {
      "text/html": [
       "<pre style=\"white-space:pre;overflow-x:auto;line-height:normal;font-family:Menlo,'DejaVu Sans Mono',consolas,'Courier New',monospace\"><span style=\"color: #800000; text-decoration-color: #800000\">\u001b[1A 74%|███████▍  | 74/100 [08:05&lt;02:41,  6.22s/it]\n",
       "</span></pre>\n"
      ],
      "text/plain": [
       "\u001b[31m\u001b[1A 74%|███████▍  | 74/100 [08:05<02:41,  6.22s/it]\n",
       "\u001b[0m"
      ]
     },
     "metadata": {},
     "output_type": "display_data"
    },
    {
     "data": {
      "text/html": [
       "<pre style=\"white-space:pre;overflow-x:auto;line-height:normal;font-family:Menlo,'DejaVu Sans Mono',consolas,'Courier New',monospace\"><span style=\"color: #000080; text-decoration-color: #000080\"></span></pre>\n"
      ],
      "text/plain": []
     },
     "metadata": {},
     "output_type": "display_data"
    },
    {
     "data": {
      "text/html": [
       "<pre style=\"white-space:pre;overflow-x:auto;line-height:normal;font-family:Menlo,'DejaVu Sans Mono',consolas,'Courier New',monospace\"><span style=\"color: #000080; text-decoration-color: #000080\">epoch:75, train_loss: 1.7937920093536377, train_accuracy: 34.57372486591339, test_loss: 1.7825793027877808, test_accuracy: 35.934104919433594\n",
       "</span></pre>\n"
      ],
      "text/plain": [
       "\u001b[34mepoch:75, train_loss: 1.7937920093536377, train_accuracy: 34.57372486591339, test_loss: 1.7825793027877808, test_accuracy: 35.934104919433594\n",
       "\u001b[0m"
      ]
     },
     "metadata": {},
     "output_type": "display_data"
    },
    {
     "data": {
      "text/html": [
       "<pre style=\"white-space:pre;overflow-x:auto;line-height:normal;font-family:Menlo,'DejaVu Sans Mono',consolas,'Courier New',monospace\"><span style=\"color: #800000; text-decoration-color: #800000\">\u001b[1A 75%|███████▌  | 75/100 [08:11&lt;02:35,  6.24s/it]\n",
       "</span></pre>\n"
      ],
      "text/plain": [
       "\u001b[31m\u001b[1A 75%|███████▌  | 75/100 [08:11<02:35,  6.24s/it]\n",
       "\u001b[0m"
      ]
     },
     "metadata": {},
     "output_type": "display_data"
    },
    {
     "data": {
      "text/html": [
       "<pre style=\"white-space:pre;overflow-x:auto;line-height:normal;font-family:Menlo,'DejaVu Sans Mono',consolas,'Courier New',monospace\"><span style=\"color: #000080; text-decoration-color: #000080\"></span></pre>\n"
      ],
      "text/plain": []
     },
     "metadata": {},
     "output_type": "display_data"
    },
    {
     "data": {
      "text/html": [
       "<pre style=\"white-space:pre;overflow-x:auto;line-height:normal;font-family:Menlo,'DejaVu Sans Mono',consolas,'Courier New',monospace\"><span style=\"color: #000080; text-decoration-color: #000080\">epoch:76, train_loss: 1.7941064834594727, train_accuracy: 34.56104099750519, test_loss: 1.7821558713912964, test_accuracy: 35.934104919433594\n",
       "</span></pre>\n"
      ],
      "text/plain": [
       "\u001b[34mepoch:76, train_loss: 1.7941064834594727, train_accuracy: 34.56104099750519, test_loss: 1.7821558713912964, test_accuracy: 35.934104919433594\n",
       "\u001b[0m"
      ]
     },
     "metadata": {},
     "output_type": "display_data"
    },
    {
     "data": {
      "text/html": [
       "<pre style=\"white-space:pre;overflow-x:auto;line-height:normal;font-family:Menlo,'DejaVu Sans Mono',consolas,'Courier New',monospace\"><span style=\"color: #800000; text-decoration-color: #800000\">\u001b[1A 76%|███████▌  | 76/100 [08:17&lt;02:30,  6.27s/it]\n",
       "</span></pre>\n"
      ],
      "text/plain": [
       "\u001b[31m\u001b[1A 76%|███████▌  | 76/100 [08:17<02:30,  6.27s/it]\n",
       "\u001b[0m"
      ]
     },
     "metadata": {},
     "output_type": "display_data"
    },
    {
     "data": {
      "text/html": [
       "<pre style=\"white-space:pre;overflow-x:auto;line-height:normal;font-family:Menlo,'DejaVu Sans Mono',consolas,'Courier New',monospace\"><span style=\"color: #000080; text-decoration-color: #000080\"></span></pre>\n"
      ],
      "text/plain": []
     },
     "metadata": {},
     "output_type": "display_data"
    },
    {
     "data": {
      "text/html": [
       "<pre style=\"white-space:pre;overflow-x:auto;line-height:normal;font-family:Menlo,'DejaVu Sans Mono',consolas,'Courier New',monospace\"><span style=\"color: #000080; text-decoration-color: #000080\">epoch:77, train_loss: 1.7938165664672852, train_accuracy: 34.56115424633026, test_loss: 1.7817970514297485, test_accuracy: 35.934104919433594\n",
       "</span></pre>\n"
      ],
      "text/plain": [
       "\u001b[34mepoch:77, train_loss: 1.7938165664672852, train_accuracy: 34.56115424633026, test_loss: 1.7817970514297485, test_accuracy: 35.934104919433594\n",
       "\u001b[0m"
      ]
     },
     "metadata": {},
     "output_type": "display_data"
    },
    {
     "data": {
      "text/html": [
       "<pre style=\"white-space:pre;overflow-x:auto;line-height:normal;font-family:Menlo,'DejaVu Sans Mono',consolas,'Courier New',monospace\"><span style=\"color: #800000; text-decoration-color: #800000\">\u001b[1A 77%|███████▋  | 77/100 [08:24&lt;02:23,  6.25s/it]\n",
       "</span></pre>\n"
      ],
      "text/plain": [
       "\u001b[31m\u001b[1A 77%|███████▋  | 77/100 [08:24<02:23,  6.25s/it]\n",
       "\u001b[0m"
      ]
     },
     "metadata": {},
     "output_type": "display_data"
    },
    {
     "data": {
      "text/html": [
       "<pre style=\"white-space:pre;overflow-x:auto;line-height:normal;font-family:Menlo,'DejaVu Sans Mono',consolas,'Courier New',monospace\"><span style=\"color: #000080; text-decoration-color: #000080\">epoch:78, train_loss: 1.7939419746398926, train_accuracy: 34.575024247169495, test_loss: 1.7819393873214722, test_accuracy: 35.934104919433594\n",
       "</span></pre>\n"
      ],
      "text/plain": [
       "\u001b[34mepoch:78, train_loss: 1.7939419746398926, train_accuracy: 34.575024247169495, test_loss: 1.7819393873214722, test_accuracy: 35.934104919433594\n",
       "\u001b[0m"
      ]
     },
     "metadata": {},
     "output_type": "display_data"
    },
    {
     "data": {
      "text/html": [
       "<pre style=\"white-space:pre;overflow-x:auto;line-height:normal;font-family:Menlo,'DejaVu Sans Mono',consolas,'Courier New',monospace\"><span style=\"color: #800000; text-decoration-color: #800000\">\u001b[1A 78%|███████▊  | 78/100 [08:30&lt;02:17,  6.27s/it]\n",
       "</span></pre>\n"
      ],
      "text/plain": [
       "\u001b[31m\u001b[1A 78%|███████▊  | 78/100 [08:30<02:17,  6.27s/it]\n",
       "\u001b[0m"
      ]
     },
     "metadata": {},
     "output_type": "display_data"
    },
    {
     "data": {
      "text/html": [
       "<pre style=\"white-space:pre;overflow-x:auto;line-height:normal;font-family:Menlo,'DejaVu Sans Mono',consolas,'Courier New',monospace\"><span style=\"color: #000080; text-decoration-color: #000080\"></span></pre>\n"
      ],
      "text/plain": []
     },
     "metadata": {},
     "output_type": "display_data"
    },
    {
     "data": {
      "text/html": [
       "<pre style=\"white-space:pre;overflow-x:auto;line-height:normal;font-family:Menlo,'DejaVu Sans Mono',consolas,'Courier New',monospace\"><span style=\"color: #000080; text-decoration-color: #000080\">epoch:79, train_loss: 1.7937511205673218, train_accuracy: 34.56271290779114, test_loss: 1.7825725078582764, test_accuracy: 35.934104919433594\n",
       "</span></pre>\n"
      ],
      "text/plain": [
       "\u001b[34mepoch:79, train_loss: 1.7937511205673218, train_accuracy: 34.56271290779114, test_loss: 1.7825725078582764, test_accuracy: 35.934104919433594\n",
       "\u001b[0m"
      ]
     },
     "metadata": {},
     "output_type": "display_data"
    },
    {
     "data": {
      "text/html": [
       "<pre style=\"white-space:pre;overflow-x:auto;line-height:normal;font-family:Menlo,'DejaVu Sans Mono',consolas,'Courier New',monospace\"><span style=\"color: #800000; text-decoration-color: #800000\">\u001b[1A 79%|███████▉  | 79/100 [08:36&lt;02:10,  6.22s/it]\n",
       "</span></pre>\n"
      ],
      "text/plain": [
       "\u001b[31m\u001b[1A 79%|███████▉  | 79/100 [08:36<02:10,  6.22s/it]\n",
       "\u001b[0m"
      ]
     },
     "metadata": {},
     "output_type": "display_data"
    },
    {
     "data": {
      "text/html": [
       "<pre style=\"white-space:pre;overflow-x:auto;line-height:normal;font-family:Menlo,'DejaVu Sans Mono',consolas,'Courier New',monospace\"><span style=\"color: #000080; text-decoration-color: #000080\">epoch:80, train_loss: 1.7937194108963013, train_accuracy: 34.56796109676361, test_loss: 1.7822951078414917, test_accuracy: 35.934104919433594\n",
       "</span></pre>\n"
      ],
      "text/plain": [
       "\u001b[34mepoch:80, train_loss: 1.7937194108963013, train_accuracy: 34.56796109676361, test_loss: 1.7822951078414917, test_accuracy: 35.934104919433594\n",
       "\u001b[0m"
      ]
     },
     "metadata": {},
     "output_type": "display_data"
    },
    {
     "data": {
      "text/html": [
       "<pre style=\"white-space:pre;overflow-x:auto;line-height:normal;font-family:Menlo,'DejaVu Sans Mono',consolas,'Courier New',monospace\"><span style=\"color: #800000; text-decoration-color: #800000\">\u001b[1A 80%|████████  | 80/100 [08:42&lt;02:04,  6.22s/it]\n",
       "</span></pre>\n"
      ],
      "text/plain": [
       "\u001b[31m\u001b[1A 80%|████████  | 80/100 [08:42<02:04,  6.22s/it]\n",
       "\u001b[0m"
      ]
     },
     "metadata": {},
     "output_type": "display_data"
    },
    {
     "data": {
      "text/html": [
       "<pre style=\"white-space:pre;overflow-x:auto;line-height:normal;font-family:Menlo,'DejaVu Sans Mono',consolas,'Courier New',monospace\"><span style=\"color: #800000; text-decoration-color: #800000\">\u001b[1A 81%|████████  | 81/100 [08:48&lt;01:57,  6.19s/it]</span></pre>\n"
      ],
      "text/plain": [
       "\u001b[31m\u001b[1A 81%|████████  | 81/100 [08:48<01:57,  6.19s/it]\u001b[0m"
      ]
     },
     "metadata": {},
     "output_type": "display_data"
    },
    {
     "data": {
      "text/html": [
       "<pre style=\"white-space:pre;overflow-x:auto;line-height:normal;font-family:Menlo,'DejaVu Sans Mono',consolas,'Courier New',monospace\"><span style=\"color: #000080; text-decoration-color: #000080\"></span></pre>\n"
      ],
      "text/plain": []
     },
     "metadata": {},
     "output_type": "display_data"
    },
    {
     "data": {
      "text/html": [
       "<pre style=\"white-space:pre;overflow-x:auto;line-height:normal;font-family:Menlo,'DejaVu Sans Mono',consolas,'Courier New',monospace\"><span style=\"color: #000080; text-decoration-color: #000080\">epoch:81, train_loss: 1.7934033870697021, train_accuracy: 34.581515192985535, test_loss: 1.7819877862930298, test_accuracy: 35.934104919433594\n",
       "</span></pre>\n"
      ],
      "text/plain": [
       "\u001b[34mepoch:81, train_loss: 1.7934033870697021, train_accuracy: 34.581515192985535, test_loss: 1.7819877862930298, test_accuracy: 35.934104919433594\n",
       "\u001b[0m"
      ]
     },
     "metadata": {},
     "output_type": "display_data"
    },
    {
     "data": {
      "text/html": [
       "<pre style=\"white-space:pre;overflow-x:auto;line-height:normal;font-family:Menlo,'DejaVu Sans Mono',consolas,'Courier New',monospace\"><span style=\"color: #800000; text-decoration-color: #800000\">\n",
       "</span></pre>\n"
      ],
      "text/plain": [
       "\u001b[31m\n",
       "\u001b[0m"
      ]
     },
     "metadata": {},
     "output_type": "display_data"
    },
    {
     "data": {
      "text/html": [
       "<pre style=\"white-space:pre;overflow-x:auto;line-height:normal;font-family:Menlo,'DejaVu Sans Mono',consolas,'Courier New',monospace\"><span style=\"color: #000080; text-decoration-color: #000080\"></span></pre>\n"
      ],
      "text/plain": []
     },
     "metadata": {},
     "output_type": "display_data"
    },
    {
     "data": {
      "text/html": [
       "<pre style=\"white-space:pre;overflow-x:auto;line-height:normal;font-family:Menlo,'DejaVu Sans Mono',consolas,'Courier New',monospace\"><span style=\"color: #000080; text-decoration-color: #000080\">epoch:82, train_loss: 1.793656826019287, train_accuracy: 34.58466827869415, test_loss: 1.782165765762329, test_accuracy: 35.934104919433594\n",
       "</span></pre>\n"
      ],
      "text/plain": [
       "\u001b[34mepoch:82, train_loss: 1.793656826019287, train_accuracy: 34.58466827869415, test_loss: 1.782165765762329, test_accuracy: 35.934104919433594\n",
       "\u001b[0m"
      ]
     },
     "metadata": {},
     "output_type": "display_data"
    },
    {
     "data": {
      "text/html": [
       "<pre style=\"white-space:pre;overflow-x:auto;line-height:normal;font-family:Menlo,'DejaVu Sans Mono',consolas,'Courier New',monospace\"><span style=\"color: #800000; text-decoration-color: #800000\">\u001b[1A 82%|████████▏ | 82/100 [08:55&lt;01:51,  6.20s/it]\n",
       "</span></pre>\n"
      ],
      "text/plain": [
       "\u001b[31m\u001b[1A 82%|████████▏ | 82/100 [08:55<01:51,  6.20s/it]\n",
       "\u001b[0m"
      ]
     },
     "metadata": {},
     "output_type": "display_data"
    },
    {
     "data": {
      "text/html": [
       "<pre style=\"white-space:pre;overflow-x:auto;line-height:normal;font-family:Menlo,'DejaVu Sans Mono',consolas,'Courier New',monospace\"><span style=\"color: #000080; text-decoration-color: #000080\"></span></pre>\n"
      ],
      "text/plain": []
     },
     "metadata": {},
     "output_type": "display_data"
    },
    {
     "data": {
      "text/html": [
       "<pre style=\"white-space:pre;overflow-x:auto;line-height:normal;font-family:Menlo,'DejaVu Sans Mono',consolas,'Courier New',monospace\"><span style=\"color: #000080; text-decoration-color: #000080\">epoch:83, train_loss: 1.7940173149108887, train_accuracy: 34.56337749958038, test_loss: 1.782602071762085, test_accuracy: 35.934104919433594\n",
       "</span></pre>\n"
      ],
      "text/plain": [
       "\u001b[34mepoch:83, train_loss: 1.7940173149108887, train_accuracy: 34.56337749958038, test_loss: 1.782602071762085, test_accuracy: 35.934104919433594\n",
       "\u001b[0m"
      ]
     },
     "metadata": {},
     "output_type": "display_data"
    },
    {
     "data": {
      "text/html": [
       "<pre style=\"white-space:pre;overflow-x:auto;line-height:normal;font-family:Menlo,'DejaVu Sans Mono',consolas,'Courier New',monospace\"><span style=\"color: #800000; text-decoration-color: #800000\">\u001b[1A 83%|████████▎ | 83/100 [09:01&lt;01:45,  6.23s/it]\n",
       "</span></pre>\n"
      ],
      "text/plain": [
       "\u001b[31m\u001b[1A 83%|████████▎ | 83/100 [09:01<01:45,  6.23s/it]\n",
       "\u001b[0m"
      ]
     },
     "metadata": {},
     "output_type": "display_data"
    },
    {
     "data": {
      "text/html": [
       "<pre style=\"white-space:pre;overflow-x:auto;line-height:normal;font-family:Menlo,'DejaVu Sans Mono',consolas,'Courier New',monospace\"><span style=\"color: #000080; text-decoration-color: #000080\"></span></pre>\n"
      ],
      "text/plain": []
     },
     "metadata": {},
     "output_type": "display_data"
    },
    {
     "data": {
      "text/html": [
       "<pre style=\"white-space:pre;overflow-x:auto;line-height:normal;font-family:Menlo,'DejaVu Sans Mono',consolas,'Courier New',monospace\"><span style=\"color: #000080; text-decoration-color: #000080\">epoch:84, train_loss: 1.794210433959961, train_accuracy: 34.55473482608795, test_loss: 1.7823021411895752, test_accuracy: 35.934104919433594\n",
       "</span></pre>\n"
      ],
      "text/plain": [
       "\u001b[34mepoch:84, train_loss: 1.794210433959961, train_accuracy: 34.55473482608795, test_loss: 1.7823021411895752, test_accuracy: 35.934104919433594\n",
       "\u001b[0m"
      ]
     },
     "metadata": {},
     "output_type": "display_data"
    },
    {
     "data": {
      "text/html": [
       "<pre style=\"white-space:pre;overflow-x:auto;line-height:normal;font-family:Menlo,'DejaVu Sans Mono',consolas,'Courier New',monospace\"><span style=\"color: #800000; text-decoration-color: #800000\">\u001b[1A 84%|████████▍ | 84/100 [09:07&lt;01:39,  6.23s/it]\n",
       "</span></pre>\n"
      ],
      "text/plain": [
       "\u001b[31m\u001b[1A 84%|████████▍ | 84/100 [09:07<01:39,  6.23s/it]\n",
       "\u001b[0m"
      ]
     },
     "metadata": {},
     "output_type": "display_data"
    },
    {
     "data": {
      "text/html": [
       "<pre style=\"white-space:pre;overflow-x:auto;line-height:normal;font-family:Menlo,'DejaVu Sans Mono',consolas,'Courier New',monospace\"><span style=\"color: #000080; text-decoration-color: #000080\"></span></pre>\n"
      ],
      "text/plain": []
     },
     "metadata": {},
     "output_type": "display_data"
    },
    {
     "data": {
      "text/html": [
       "<pre style=\"white-space:pre;overflow-x:auto;line-height:normal;font-family:Menlo,'DejaVu Sans Mono',consolas,'Courier New',monospace\"><span style=\"color: #000080; text-decoration-color: #000080\">epoch:85, train_loss: 1.793603777885437, train_accuracy: 34.57886874675751, test_loss: 1.7831462621688843, test_accuracy: 35.934104919433594\n",
       "</span></pre>\n"
      ],
      "text/plain": [
       "\u001b[34mepoch:85, train_loss: 1.793603777885437, train_accuracy: 34.57886874675751, test_loss: 1.7831462621688843, test_accuracy: 35.934104919433594\n",
       "\u001b[0m"
      ]
     },
     "metadata": {},
     "output_type": "display_data"
    },
    {
     "data": {
      "text/html": [
       "<pre style=\"white-space:pre;overflow-x:auto;line-height:normal;font-family:Menlo,'DejaVu Sans Mono',consolas,'Courier New',monospace\"><span style=\"color: #800000; text-decoration-color: #800000\">\u001b[1A 85%|████████▌ | 85/100 [09:14&lt;01:33,  6.26s/it]\n",
       "</span></pre>\n"
      ],
      "text/plain": [
       "\u001b[31m\u001b[1A 85%|████████▌ | 85/100 [09:14<01:33,  6.26s/it]\n",
       "\u001b[0m"
      ]
     },
     "metadata": {},
     "output_type": "display_data"
    },
    {
     "data": {
      "text/html": [
       "<pre style=\"white-space:pre;overflow-x:auto;line-height:normal;font-family:Menlo,'DejaVu Sans Mono',consolas,'Courier New',monospace\"><span style=\"color: #000080; text-decoration-color: #000080\">epoch:86, train_loss: 1.7941503524780273, train_accuracy: 34.56262648105621, test_loss: 1.7844585180282593, test_accuracy: 35.934104919433594\n",
       "</span></pre>\n"
      ],
      "text/plain": [
       "\u001b[34mepoch:86, train_loss: 1.7941503524780273, train_accuracy: 34.56262648105621, test_loss: 1.7844585180282593, test_accuracy: 35.934104919433594\n",
       "\u001b[0m"
      ]
     },
     "metadata": {},
     "output_type": "display_data"
    },
    {
     "data": {
      "text/html": [
       "<pre style=\"white-space:pre;overflow-x:auto;line-height:normal;font-family:Menlo,'DejaVu Sans Mono',consolas,'Courier New',monospace\"><span style=\"color: #800000; text-decoration-color: #800000\">\u001b[1A 86%|████████▌ | 86/100 [09:20&lt;01:27,  6.25s/it]\n",
       "</span></pre>\n"
      ],
      "text/plain": [
       "\u001b[31m\u001b[1A 86%|████████▌ | 86/100 [09:20<01:27,  6.25s/it]\n",
       "\u001b[0m"
      ]
     },
     "metadata": {},
     "output_type": "display_data"
    },
    {
     "data": {
      "text/html": [
       "<pre style=\"white-space:pre;overflow-x:auto;line-height:normal;font-family:Menlo,'DejaVu Sans Mono',consolas,'Courier New',monospace\"><span style=\"color: #000080; text-decoration-color: #000080\"></span></pre>\n"
      ],
      "text/plain": []
     },
     "metadata": {},
     "output_type": "display_data"
    },
    {
     "data": {
      "text/html": [
       "<pre style=\"white-space:pre;overflow-x:auto;line-height:normal;font-family:Menlo,'DejaVu Sans Mono',consolas,'Courier New',monospace\"><span style=\"color: #000080; text-decoration-color: #000080\">epoch:87, train_loss: 1.793908715248108, train_accuracy: 34.557151794433594, test_loss: 1.7826465368270874, test_accuracy: 35.934104919433594\n",
       "</span></pre>\n"
      ],
      "text/plain": [
       "\u001b[34mepoch:87, train_loss: 1.793908715248108, train_accuracy: 34.557151794433594, test_loss: 1.7826465368270874, test_accuracy: 35.934104919433594\n",
       "\u001b[0m"
      ]
     },
     "metadata": {},
     "output_type": "display_data"
    },
    {
     "data": {
      "text/html": [
       "<pre style=\"white-space:pre;overflow-x:auto;line-height:normal;font-family:Menlo,'DejaVu Sans Mono',consolas,'Courier New',monospace\"><span style=\"color: #800000; text-decoration-color: #800000\">\u001b[1A 87%|████████▋ | 87/100 [09:26&lt;01:21,  6.27s/it]\n",
       "</span></pre>\n"
      ],
      "text/plain": [
       "\u001b[31m\u001b[1A 87%|████████▋ | 87/100 [09:26<01:21,  6.27s/it]\n",
       "\u001b[0m"
      ]
     },
     "metadata": {},
     "output_type": "display_data"
    },
    {
     "data": {
      "text/html": [
       "<pre style=\"white-space:pre;overflow-x:auto;line-height:normal;font-family:Menlo,'DejaVu Sans Mono',consolas,'Courier New',monospace\"><span style=\"color: #000080; text-decoration-color: #000080\"></span></pre>\n"
      ],
      "text/plain": []
     },
     "metadata": {},
     "output_type": "display_data"
    },
    {
     "data": {
      "text/html": [
       "<pre style=\"white-space:pre;overflow-x:auto;line-height:normal;font-family:Menlo,'DejaVu Sans Mono',consolas,'Courier New',monospace\"><span style=\"color: #000080; text-decoration-color: #000080\">epoch:88, train_loss: 1.7939037084579468, train_accuracy: 34.55283045768738, test_loss: 1.7824900150299072, test_accuracy: 35.934104919433594\n",
       "</span></pre>\n"
      ],
      "text/plain": [
       "\u001b[34mepoch:88, train_loss: 1.7939037084579468, train_accuracy: 34.55283045768738, test_loss: 1.7824900150299072, test_accuracy: 35.934104919433594\n",
       "\u001b[0m"
      ]
     },
     "metadata": {},
     "output_type": "display_data"
    },
    {
     "data": {
      "text/html": [
       "<pre style=\"white-space:pre;overflow-x:auto;line-height:normal;font-family:Menlo,'DejaVu Sans Mono',consolas,'Courier New',monospace\"><span style=\"color: #800000; text-decoration-color: #800000\">\u001b[1A 88%|████████▊ | 88/100 [09:32&lt;01:15,  6.29s/it]\n",
       "</span></pre>\n"
      ],
      "text/plain": [
       "\u001b[31m\u001b[1A 88%|████████▊ | 88/100 [09:32<01:15,  6.29s/it]\n",
       "\u001b[0m"
      ]
     },
     "metadata": {},
     "output_type": "display_data"
    },
    {
     "data": {
      "text/html": [
       "<pre style=\"white-space:pre;overflow-x:auto;line-height:normal;font-family:Menlo,'DejaVu Sans Mono',consolas,'Courier New',monospace\"><span style=\"color: #000080; text-decoration-color: #000080\"></span></pre>\n"
      ],
      "text/plain": []
     },
     "metadata": {},
     "output_type": "display_data"
    },
    {
     "data": {
      "text/html": [
       "<pre style=\"white-space:pre;overflow-x:auto;line-height:normal;font-family:Menlo,'DejaVu Sans Mono',consolas,'Courier New',monospace\"><span style=\"color: #000080; text-decoration-color: #000080\">epoch:89, train_loss: 1.7941086292266846, train_accuracy: 34.550973773002625, test_loss: 1.782470464706421, test_accuracy: 35.934104919433594\n",
       "</span></pre>\n"
      ],
      "text/plain": [
       "\u001b[34mepoch:89, train_loss: 1.7941086292266846, train_accuracy: 34.550973773002625, test_loss: 1.782470464706421, test_accuracy: 35.934104919433594\n",
       "\u001b[0m"
      ]
     },
     "metadata": {},
     "output_type": "display_data"
    },
    {
     "data": {
      "text/html": [
       "<pre style=\"white-space:pre;overflow-x:auto;line-height:normal;font-family:Menlo,'DejaVu Sans Mono',consolas,'Courier New',monospace\"><span style=\"color: #800000; text-decoration-color: #800000\">\u001b[1A 89%|████████▉ | 89/100 [09:39&lt;01:08,  6.27s/it]\n",
       "</span></pre>\n"
      ],
      "text/plain": [
       "\u001b[31m\u001b[1A 89%|████████▉ | 89/100 [09:39<01:08,  6.27s/it]\n",
       "\u001b[0m"
      ]
     },
     "metadata": {},
     "output_type": "display_data"
    },
    {
     "data": {
      "text/html": [
       "<pre style=\"white-space:pre;overflow-x:auto;line-height:normal;font-family:Menlo,'DejaVu Sans Mono',consolas,'Courier New',monospace\"><span style=\"color: #800000; text-decoration-color: #800000\">\u001b[1A 90%|█████████ | 90/100 [09:45&lt;01:02,  6.28s/it]</span></pre>\n"
      ],
      "text/plain": [
       "\u001b[31m\u001b[1A 90%|█████████ | 90/100 [09:45<01:02,  6.28s/it]\u001b[0m"
      ]
     },
     "metadata": {},
     "output_type": "display_data"
    },
    {
     "data": {
      "text/html": [
       "<pre style=\"white-space:pre;overflow-x:auto;line-height:normal;font-family:Menlo,'DejaVu Sans Mono',consolas,'Courier New',monospace\"><span style=\"color: #000080; text-decoration-color: #000080\"></span></pre>\n"
      ],
      "text/plain": []
     },
     "metadata": {},
     "output_type": "display_data"
    },
    {
     "data": {
      "text/html": [
       "<pre style=\"white-space:pre;overflow-x:auto;line-height:normal;font-family:Menlo,'DejaVu Sans Mono',consolas,'Courier New',monospace\"><span style=\"color: #000080; text-decoration-color: #000080\">epoch:90, train_loss: 1.7938522100448608, train_accuracy: 34.56503450870514, test_loss: 1.7821836471557617, test_accuracy: 35.934104919433594\n",
       "</span></pre>\n"
      ],
      "text/plain": [
       "\u001b[34mepoch:90, train_loss: 1.7938522100448608, train_accuracy: 34.56503450870514, test_loss: 1.7821836471557617, test_accuracy: 35.934104919433594\n",
       "\u001b[0m"
      ]
     },
     "metadata": {},
     "output_type": "display_data"
    },
    {
     "data": {
      "text/html": [
       "<pre style=\"white-space:pre;overflow-x:auto;line-height:normal;font-family:Menlo,'DejaVu Sans Mono',consolas,'Courier New',monospace\"><span style=\"color: #800000; text-decoration-color: #800000\">\n",
       "</span></pre>\n"
      ],
      "text/plain": [
       "\u001b[31m\n",
       "\u001b[0m"
      ]
     },
     "metadata": {},
     "output_type": "display_data"
    },
    {
     "data": {
      "text/html": [
       "<pre style=\"white-space:pre;overflow-x:auto;line-height:normal;font-family:Menlo,'DejaVu Sans Mono',consolas,'Courier New',monospace\"><span style=\"color: #000080; text-decoration-color: #000080\">epoch:91, train_loss: 1.793630599975586, train_accuracy: 34.5687210559845, test_loss: 1.7824976444244385, test_accuracy: 35.934104919433594\n",
       "</span></pre>\n"
      ],
      "text/plain": [
       "\u001b[34mepoch:91, train_loss: 1.793630599975586, train_accuracy: 34.5687210559845, test_loss: 1.7824976444244385, test_accuracy: 35.934104919433594\n",
       "\u001b[0m"
      ]
     },
     "metadata": {},
     "output_type": "display_data"
    },
    {
     "data": {
      "text/html": [
       "<pre style=\"white-space:pre;overflow-x:auto;line-height:normal;font-family:Menlo,'DejaVu Sans Mono',consolas,'Courier New',monospace\"><span style=\"color: #800000; text-decoration-color: #800000\">\u001b[1A 91%|█████████ | 91/100 [09:51&lt;00:56,  6.29s/it]\n",
       "</span></pre>\n"
      ],
      "text/plain": [
       "\u001b[31m\u001b[1A 91%|█████████ | 91/100 [09:51<00:56,  6.29s/it]\n",
       "\u001b[0m"
      ]
     },
     "metadata": {},
     "output_type": "display_data"
    },
    {
     "data": {
      "text/html": [
       "<pre style=\"white-space:pre;overflow-x:auto;line-height:normal;font-family:Menlo,'DejaVu Sans Mono',consolas,'Courier New',monospace\"><span style=\"color: #000080; text-decoration-color: #000080\"></span></pre>\n"
      ],
      "text/plain": []
     },
     "metadata": {},
     "output_type": "display_data"
    },
    {
     "data": {
      "text/html": [
       "<pre style=\"white-space:pre;overflow-x:auto;line-height:normal;font-family:Menlo,'DejaVu Sans Mono',consolas,'Courier New',monospace\"><span style=\"color: #000080; text-decoration-color: #000080\">epoch:92, train_loss: 1.7935941219329834, train_accuracy: 34.582751989364624, test_loss: 1.7833662033081055, test_accuracy: 35.934104919433594\n",
       "</span></pre>\n"
      ],
      "text/plain": [
       "\u001b[34mepoch:92, train_loss: 1.7935941219329834, train_accuracy: 34.582751989364624, test_loss: 1.7833662033081055, test_accuracy: 35.934104919433594\n",
       "\u001b[0m"
      ]
     },
     "metadata": {},
     "output_type": "display_data"
    },
    {
     "data": {
      "text/html": [
       "<pre style=\"white-space:pre;overflow-x:auto;line-height:normal;font-family:Menlo,'DejaVu Sans Mono',consolas,'Courier New',monospace\"><span style=\"color: #800000; text-decoration-color: #800000\">\u001b[1A 92%|█████████▏| 92/100 [09:58&lt;00:50,  6.31s/it]\n",
       "</span></pre>\n"
      ],
      "text/plain": [
       "\u001b[31m\u001b[1A 92%|█████████▏| 92/100 [09:58<00:50,  6.31s/it]\n",
       "\u001b[0m"
      ]
     },
     "metadata": {},
     "output_type": "display_data"
    },
    {
     "data": {
      "text/html": [
       "<pre style=\"white-space:pre;overflow-x:auto;line-height:normal;font-family:Menlo,'DejaVu Sans Mono',consolas,'Courier New',monospace\"><span style=\"color: #000080; text-decoration-color: #000080\"></span></pre>\n"
      ],
      "text/plain": []
     },
     "metadata": {},
     "output_type": "display_data"
    },
    {
     "data": {
      "text/html": [
       "<pre style=\"white-space:pre;overflow-x:auto;line-height:normal;font-family:Menlo,'DejaVu Sans Mono',consolas,'Courier New',monospace\"><span style=\"color: #000080; text-decoration-color: #000080\">epoch:93, train_loss: 1.7936429977416992, train_accuracy: 34.57263708114624, test_loss: 1.7821335792541504, test_accuracy: 35.934104919433594\n",
       "</span></pre>\n"
      ],
      "text/plain": [
       "\u001b[34mepoch:93, train_loss: 1.7936429977416992, train_accuracy: 34.57263708114624, test_loss: 1.7821335792541504, test_accuracy: 35.934104919433594\n",
       "\u001b[0m"
      ]
     },
     "metadata": {},
     "output_type": "display_data"
    },
    {
     "data": {
      "text/html": [
       "<pre style=\"white-space:pre;overflow-x:auto;line-height:normal;font-family:Menlo,'DejaVu Sans Mono',consolas,'Courier New',monospace\"><span style=\"color: #800000; text-decoration-color: #800000\">\u001b[1A 93%|█████████▎| 93/100 [10:05&lt;00:46,  6.62s/it]\n",
       "</span></pre>\n"
      ],
      "text/plain": [
       "\u001b[31m\u001b[1A 93%|█████████▎| 93/100 [10:05<00:46,  6.62s/it]\n",
       "\u001b[0m"
      ]
     },
     "metadata": {},
     "output_type": "display_data"
    },
    {
     "data": {
      "text/html": [
       "<pre style=\"white-space:pre;overflow-x:auto;line-height:normal;font-family:Menlo,'DejaVu Sans Mono',consolas,'Courier New',monospace\"><span style=\"color: #000080; text-decoration-color: #000080\"></span></pre>\n"
      ],
      "text/plain": []
     },
     "metadata": {},
     "output_type": "display_data"
    },
    {
     "data": {
      "text/html": [
       "<pre style=\"white-space:pre;overflow-x:auto;line-height:normal;font-family:Menlo,'DejaVu Sans Mono',consolas,'Courier New',monospace\"><span style=\"color: #000080; text-decoration-color: #000080\">epoch:94, train_loss: 1.7936375141143799, train_accuracy: 34.574976563453674, test_loss: 1.7822939157485962, test_accuracy: 35.934104919433594\n",
       "</span></pre>\n"
      ],
      "text/plain": [
       "\u001b[34mepoch:94, train_loss: 1.7936375141143799, train_accuracy: 34.574976563453674, test_loss: 1.7822939157485962, test_accuracy: 35.934104919433594\n",
       "\u001b[0m"
      ]
     },
     "metadata": {},
     "output_type": "display_data"
    },
    {
     "data": {
      "text/html": [
       "<pre style=\"white-space:pre;overflow-x:auto;line-height:normal;font-family:Menlo,'DejaVu Sans Mono',consolas,'Courier New',monospace\"><span style=\"color: #800000; text-decoration-color: #800000\">\u001b[1A 94%|█████████▍| 94/100 [10:11&lt;00:38,  6.47s/it]\n",
       "</span></pre>\n"
      ],
      "text/plain": [
       "\u001b[31m\u001b[1A 94%|█████████▍| 94/100 [10:11<00:38,  6.47s/it]\n",
       "\u001b[0m"
      ]
     },
     "metadata": {},
     "output_type": "display_data"
    },
    {
     "data": {
      "text/html": [
       "<pre style=\"white-space:pre;overflow-x:auto;line-height:normal;font-family:Menlo,'DejaVu Sans Mono',consolas,'Courier New',monospace\"><span style=\"color: #000080; text-decoration-color: #000080\">epoch:95, train_loss: 1.793765664100647, train_accuracy: 34.564417600631714, test_loss: 1.7825089693069458, test_accuracy: 35.934104919433594\n",
       "</span></pre>\n"
      ],
      "text/plain": [
       "\u001b[34mepoch:95, train_loss: 1.793765664100647, train_accuracy: 34.564417600631714, test_loss: 1.7825089693069458, test_accuracy: 35.934104919433594\n",
       "\u001b[0m"
      ]
     },
     "metadata": {},
     "output_type": "display_data"
    },
    {
     "data": {
      "text/html": [
       "<pre style=\"white-space:pre;overflow-x:auto;line-height:normal;font-family:Menlo,'DejaVu Sans Mono',consolas,'Courier New',monospace\"><span style=\"color: #800000; text-decoration-color: #800000\">\u001b[1A 95%|█████████▌| 95/100 [10:17&lt;00:31,  6.39s/it]\n",
       "</span></pre>\n"
      ],
      "text/plain": [
       "\u001b[31m\u001b[1A 95%|█████████▌| 95/100 [10:17<00:31,  6.39s/it]\n",
       "\u001b[0m"
      ]
     },
     "metadata": {},
     "output_type": "display_data"
    },
    {
     "data": {
      "text/html": [
       "<pre style=\"white-space:pre;overflow-x:auto;line-height:normal;font-family:Menlo,'DejaVu Sans Mono',consolas,'Courier New',monospace\"><span style=\"color: #000080; text-decoration-color: #000080\"></span></pre>\n"
      ],
      "text/plain": []
     },
     "metadata": {},
     "output_type": "display_data"
    },
    {
     "data": {
      "text/html": [
       "<pre style=\"white-space:pre;overflow-x:auto;line-height:normal;font-family:Menlo,'DejaVu Sans Mono',consolas,'Courier New',monospace\"><span style=\"color: #000080; text-decoration-color: #000080\">epoch:96, train_loss: 1.7937467098236084, train_accuracy: 34.56110060214996, test_loss: 1.7826979160308838, test_accuracy: 35.934104919433594\n",
       "</span></pre>\n"
      ],
      "text/plain": [
       "\u001b[34mepoch:96, train_loss: 1.7937467098236084, train_accuracy: 34.56110060214996, test_loss: 1.7826979160308838, test_accuracy: 35.934104919433594\n",
       "\u001b[0m"
      ]
     },
     "metadata": {},
     "output_type": "display_data"
    },
    {
     "data": {
      "text/html": [
       "<pre style=\"white-space:pre;overflow-x:auto;line-height:normal;font-family:Menlo,'DejaVu Sans Mono',consolas,'Courier New',monospace\"><span style=\"color: #800000; text-decoration-color: #800000\">\u001b[1A 96%|█████████▌| 96/100 [10:24&lt;00:25,  6.37s/it]\n",
       "</span></pre>\n"
      ],
      "text/plain": [
       "\u001b[31m\u001b[1A 96%|█████████▌| 96/100 [10:24<00:25,  6.37s/it]\n",
       "\u001b[0m"
      ]
     },
     "metadata": {},
     "output_type": "display_data"
    },
    {
     "data": {
      "text/html": [
       "<pre style=\"white-space:pre;overflow-x:auto;line-height:normal;font-family:Menlo,'DejaVu Sans Mono',consolas,'Courier New',monospace\"><span style=\"color: #000080; text-decoration-color: #000080\"></span></pre>\n"
      ],
      "text/plain": []
     },
     "metadata": {},
     "output_type": "display_data"
    },
    {
     "data": {
      "text/html": [
       "<pre style=\"white-space:pre;overflow-x:auto;line-height:normal;font-family:Menlo,'DejaVu Sans Mono',consolas,'Courier New',monospace\"><span style=\"color: #000080; text-decoration-color: #000080\">epoch:97, train_loss: 1.7933927774429321, train_accuracy: 34.58693325519562, test_loss: 1.7828898429870605, test_accuracy: 35.934104919433594\n",
       "</span></pre>\n"
      ],
      "text/plain": [
       "\u001b[34mepoch:97, train_loss: 1.7933927774429321, train_accuracy: 34.58693325519562, test_loss: 1.7828898429870605, test_accuracy: 35.934104919433594\n",
       "\u001b[0m"
      ]
     },
     "metadata": {},
     "output_type": "display_data"
    },
    {
     "data": {
      "text/html": [
       "<pre style=\"white-space:pre;overflow-x:auto;line-height:normal;font-family:Menlo,'DejaVu Sans Mono',consolas,'Courier New',monospace\"><span style=\"color: #800000; text-decoration-color: #800000\">\u001b[1A 97%|█████████▋| 97/100 [10:30&lt;00:19,  6.35s/it]\n",
       "</span></pre>\n"
      ],
      "text/plain": [
       "\u001b[31m\u001b[1A 97%|█████████▋| 97/100 [10:30<00:19,  6.35s/it]\n",
       "\u001b[0m"
      ]
     },
     "metadata": {},
     "output_type": "display_data"
    },
    {
     "data": {
      "text/html": [
       "<pre style=\"white-space:pre;overflow-x:auto;line-height:normal;font-family:Menlo,'DejaVu Sans Mono',consolas,'Courier New',monospace\"><span style=\"color: #800000; text-decoration-color: #800000\">\u001b[1A 98%|█████████▊| 98/100 [10:36&lt;00:12,  6.34s/it]</span></pre>\n"
      ],
      "text/plain": [
       "\u001b[31m\u001b[1A 98%|█████████▊| 98/100 [10:36<00:12,  6.34s/it]\u001b[0m"
      ]
     },
     "metadata": {},
     "output_type": "display_data"
    },
    {
     "data": {
      "text/html": [
       "<pre style=\"white-space:pre;overflow-x:auto;line-height:normal;font-family:Menlo,'DejaVu Sans Mono',consolas,'Courier New',monospace\"><span style=\"color: #000080; text-decoration-color: #000080\"></span></pre>\n"
      ],
      "text/plain": []
     },
     "metadata": {},
     "output_type": "display_data"
    },
    {
     "data": {
      "text/html": [
       "<pre style=\"white-space:pre;overflow-x:auto;line-height:normal;font-family:Menlo,'DejaVu Sans Mono',consolas,'Courier New',monospace\"><span style=\"color: #000080; text-decoration-color: #000080\">epoch:98, train_loss: 1.7937859296798706, train_accuracy: 34.557780623435974, test_loss: 1.7833155393600464, test_accuracy: 35.934104919433594\n",
       "</span></pre>\n"
      ],
      "text/plain": [
       "\u001b[34mepoch:98, train_loss: 1.7937859296798706, train_accuracy: 34.557780623435974, test_loss: 1.7833155393600464, test_accuracy: 35.934104919433594\n",
       "\u001b[0m"
      ]
     },
     "metadata": {},
     "output_type": "display_data"
    },
    {
     "data": {
      "text/html": [
       "<pre style=\"white-space:pre;overflow-x:auto;line-height:normal;font-family:Menlo,'DejaVu Sans Mono',consolas,'Courier New',monospace\"><span style=\"color: #800000; text-decoration-color: #800000\">\n",
       "</span></pre>\n"
      ],
      "text/plain": [
       "\u001b[31m\n",
       "\u001b[0m"
      ]
     },
     "metadata": {},
     "output_type": "display_data"
    },
    {
     "data": {
      "text/html": [
       "<pre style=\"white-space:pre;overflow-x:auto;line-height:normal;font-family:Menlo,'DejaVu Sans Mono',consolas,'Courier New',monospace\"><span style=\"color: #000080; text-decoration-color: #000080\">epoch:99, train_loss: 1.793678641319275, train_accuracy: 34.5720648765564, test_loss: 1.7842543125152588, test_accuracy: 35.934104919433594\n",
       "</span></pre>\n"
      ],
      "text/plain": [
       "\u001b[34mepoch:99, train_loss: 1.793678641319275, train_accuracy: 34.5720648765564, test_loss: 1.7842543125152588, test_accuracy: 35.934104919433594\n",
       "\u001b[0m"
      ]
     },
     "metadata": {},
     "output_type": "display_data"
    },
    {
     "data": {
      "text/html": [
       "<pre style=\"white-space:pre;overflow-x:auto;line-height:normal;font-family:Menlo,'DejaVu Sans Mono',consolas,'Courier New',monospace\"><span style=\"color: #800000; text-decoration-color: #800000\">\u001b[1A 99%|█████████▉| 99/100 [10:42&lt;00:06,  6.31s/it]\n",
       "</span></pre>\n"
      ],
      "text/plain": [
       "\u001b[31m\u001b[1A 99%|█████████▉| 99/100 [10:42<00:06,  6.31s/it]\n",
       "\u001b[0m"
      ]
     },
     "metadata": {},
     "output_type": "display_data"
    },
    {
     "data": {
      "text/html": [
       "<pre style=\"white-space:pre;overflow-x:auto;line-height:normal;font-family:Menlo,'DejaVu Sans Mono',consolas,'Courier New',monospace\"><span style=\"color: #800000; text-decoration-color: #800000\">\u001b[1A100%|██████████| 100/100 [10:49&lt;00:00,  6.25s/it]\n",
       "</span></pre>\n"
      ],
      "text/plain": [
       "\u001b[31m\u001b[1A100%|██████████| 100/100 [10:49<00:00,  6.25s/it]\n",
       "\u001b[0m"
      ]
     },
     "metadata": {},
     "output_type": "display_data"
    },
    {
     "data": {
      "text/html": [
       "<pre style=\"white-space:pre;overflow-x:auto;line-height:normal;font-family:Menlo,'DejaVu Sans Mono',consolas,'Courier New',monospace\"><span style=\"color: #800000; text-decoration-color: #800000\">\u001b[1A100%|██████████| 100/100 [10:49&lt;00:00,  6.49s/it]\n",
       "</span></pre>\n"
      ],
      "text/plain": [
       "\u001b[31m\u001b[1A100%|██████████| 100/100 [10:49<00:00,  6.49s/it]\n",
       "\u001b[0m"
      ]
     },
     "metadata": {},
     "output_type": "display_data"
    },
    {
     "data": {
      "text/html": [
       "<pre style=\"white-space:pre;overflow-x:auto;line-height:normal;font-family:Menlo,'DejaVu Sans Mono',consolas,'Courier New',monospace\"></pre>\n"
      ],
      "text/plain": []
     },
     "metadata": {},
     "output_type": "display_data"
    },
    {
     "data": {
      "text/html": [
       "<pre style=\"white-space:pre;overflow-x:auto;line-height:normal;font-family:Menlo,'DejaVu Sans Mono',consolas,'Courier New',monospace\"><span style=\"color: #800000; text-decoration-color: #800000\">Timed out waiting for logs. </span><span style=\"color: #b2b2b2; text-decoration-color: #b2b2b2\">View logs at </span><span style=\"color: #b2b2b2; text-decoration-color: #b2b2b2; text-decoration: underline\">https://modal.com/logs/ap-iIDv1ylrykhzBrdjuU7bnC</span><span style=\"color: #b2b2b2; text-decoration-color: #b2b2b2\"> for remaining output.</span>\n",
       "</pre>\n"
      ],
      "text/plain": [
       "\u001b[31mTimed out waiting for logs. \u001b[0m\u001b[38;5;249mView logs at \u001b[0m\u001b[4;38;5;249mhttps://modal.com/logs/ap-iIDv1ylrykhzBrdjuU7bnC\u001b[0m\u001b[38;5;249m for remaining output.\u001b[0m\n"
      ]
     },
     "metadata": {},
     "output_type": "display_data"
    },
    {
     "data": {
      "text/html": [
       "<pre style=\"white-space:pre;overflow-x:auto;line-height:normal;font-family:Menlo,'DejaVu Sans Mono',consolas,'Courier New',monospace\"><span style=\"color: #008000; text-decoration-color: #008000\">✓</span> App completed. <span style=\"color: #b2b2b2; text-decoration-color: #b2b2b2\">View run at </span><span style=\"color: #b2b2b2; text-decoration-color: #b2b2b2; text-decoration: underline\">https://modal.com/rohitp934/apps/ap-iIDv1ylrykhzBrdjuU7bnC</span>\n",
       "</pre>\n"
      ],
      "text/plain": [
       "\u001b[32m✓\u001b[0m App completed. \u001b[38;5;249mView run at \u001b[0m\u001b[4;38;5;249mhttps://modal.com/rohitp934/apps/ap-iIDv1ylrykhzBrdjuU7bnC\u001b[0m\n"
      ]
     },
     "metadata": {},
     "output_type": "display_data"
    }
   ],
   "source": [
    "with app.run(detach=True):\n",
    "    train_and_evaluate.remote(\n",
    "        config, \"/vol/data/\", \"/vol/flax/logs\", \"/vol/flax/checkpoints\"\n",
    "    )"
   ]
  },
  {
   "cell_type": "code",
   "execution_count": null,
   "metadata": {},
   "outputs": [],
   "source": []
  }
 ],
 "metadata": {
  "kernelspec": {
   "display_name": "bigdata.venv",
   "language": "python",
   "name": "python3"
  },
  "language_info": {
   "codemirror_mode": {
    "name": "ipython",
    "version": 3
   },
   "file_extension": ".py",
   "mimetype": "text/x-python",
   "name": "python",
   "nbconvert_exporter": "python",
   "pygments_lexer": "ipython3",
   "version": "3.11.7"
  }
 },
 "nbformat": 4,
 "nbformat_minor": 2
}
