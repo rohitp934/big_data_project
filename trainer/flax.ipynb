{
 "cells": [
  {
   "cell_type": "code",
   "execution_count": 376,
   "metadata": {},
   "outputs": [],
   "source": [
    "import os\n",
    "from glob import glob\n",
    "from typing import Tuple, Literal, Union\n",
    "\n",
    "import flax.linen as nn\n",
    "import jax\n",
    "import jax.numpy as jnp\n",
    "import ml_collections\n",
    "import numpy as np\n",
    "import optax\n",
    "import orbax.checkpoint as ocp\n",
    "import tensorflow as tf\n",
    "from flax.metrics import tensorboard\n",
    "# from flax.core import FrozenDict\n",
    "from flax.training import orbax_utils, train_state\n",
    "from modal import App, Image, Volume, gpu\n",
    "from scipy.ndimage import gaussian_filter\n",
    "from tqdm import tqdm"
   ]
  },
  {
   "cell_type": "code",
   "execution_count": 377,
   "metadata": {},
   "outputs": [],
   "source": [
    "# Config\n",
    "NUM_CLASSES = 9\n",
    "NUM_INPUTS = 3\n",
    "KERNEL_SIZE = 5\n",
    "\n",
    "tf.config.experimental.set_visible_devices([], \"GPU\")\n",
    "\n",
    "app = App(\"flax-climate-forecast\")\n",
    "volume = Volume.from_name(\"bigdata\")\n",
    "img = Image.debian_slim().pip_install(\n",
    "    \"flax\",\n",
    "    \"numpy\",\n",
    "    \"tensorflow[and-cuda]\",\n",
    "    \"tensorboard\",\n",
    "    \"tqdm\",\n",
    "    \"ml-collections\",\n",
    "    \"tensorrt\",\n",
    ")\n",
    "\n",
    "img = img.run_commands(\n",
    "    [\n",
    "        \"pip install -U 'jax[cuda12_pip]' -f 'https://storage.googleapis.com/jax-releases/jax_cuda_releases.html'\",\n",
    "        \"python -m site\",\n",
    "        \"pip list | grep nvidia\",\n",
    "        \"export PATH=/usr/local/cuda-12/bin:$PATH\",\n",
    "        \"export LD_LIBRARY_PATH=/usr/local/cuda-12/lib64:/usr/local/lib/python3.11/site-packages/tensorrt_libs/:$LD_LIBRARY_PATH:\"\n",
    "    ]\n",
    ")"
   ]
  },
  {
   "cell_type": "code",
   "execution_count": 378,
   "metadata": {},
   "outputs": [],
   "source": [
    "def read_example(serialized: bytes) -> Tuple[jax.Array, jax.Array]:\n",
    "    \"\"\"Parses and reads a training example from bytes.\n",
    "\n",
    "    Args:\n",
    "        serialized: Serialized example bytes.\n",
    "\n",
    "    Returns: An (inputs, labels) pair of arrays.\n",
    "    \"\"\"\n",
    "    npz = np.load(serialized)\n",
    "    inputs = npz[\"inputs\"]\n",
    "    labels_landcover = npz[\"labels_landcover\"]\n",
    "    labels_lst = npz[\"labels_lst\"]\n",
    "\n",
    "    return (inputs, labels_landcover, labels_lst)"
   ]
  },
  {
   "cell_type": "code",
   "execution_count": 379,
   "metadata": {},
   "outputs": [],
   "source": [
    "def interpolate_invalid_output_temperatures(temperatures, valid_range=(200, 330)):\n",
    "    \"\"\"Interpolate temperatures outside the valid range using Gaussian filtering.\"\"\"\n",
    "    invalid_mask = (temperatures < valid_range[0]) | (temperatures > valid_range[1])\n",
    "    temperatures_filtered = gaussian_filter(temperatures, sigma=1)\n",
    "    temperatures[invalid_mask] = temperatures_filtered[invalid_mask]\n",
    "    return temperatures"
   ]
  },
  {
   "cell_type": "code",
   "execution_count": 380,
   "metadata": {},
   "outputs": [],
   "source": [
    "def interpolate_invalid_temperatures(data, valid_range=(200, 330), band_index=2):\n",
    "    \"\"\"Interpolate temperatures outside the valid range using Gaussian filtering.\"\"\"\n",
    "    errs = 0\n",
    "    for i in range(data.shape[0]):\n",
    "        invalid_mask = (data[i, :, :, band_index] < valid_range[0]) | (data[i, :, :, band_index] > valid_range[1])\n",
    "        if np.any(invalid_mask):  # Only apply filtering if there are any invalid values\n",
    "            errs += 1\n",
    "            valid_temperatures = gaussian_filter(data[i, :, :, band_index], sigma=1)\n",
    "            interpolated_values = np.where(invalid_mask, valid_temperatures, data[i, :, :, band_index])\n",
    "            data[i, :, :, band_index] = np.clip(interpolated_values, valid_range[0], valid_range[1])\n",
    "    return data"
   ]
  },
  {
   "cell_type": "code",
   "execution_count": 381,
   "metadata": {},
   "outputs": [],
   "source": [
    "def read_dataset(\n",
    "    data_path: str, train_test_ratio: float\n",
    ") -> Tuple[Tuple[jax.Array, jax.Array], Tuple[jax.Array, jax.Array]]:\n",
    "    files = glob(os.path.join(data_path, \"*.npz\"))\n",
    "    # files = files[:2]\n",
    "    # Load data from npz files\n",
    "    inputs_list = []\n",
    "    lc_label_list = []\n",
    "    lst_label_list = []\n",
    "    for file in files:\n",
    "        with open(file, \"rb\") as f:\n",
    "            inputs, labels_landcover, labels_lst = read_example(f)\n",
    "            inputs = interpolate_invalid_temperatures(inputs)\n",
    "            labels_lst = interpolate_invalid_temperatures(labels_lst, band_index=0)\n",
    "            inputs_list.append(inputs)\n",
    "            lc_label_list.append(labels_landcover)\n",
    "            lst_label_list.append(labels_lst)\n",
    "\n",
    "    # Concatenate data\n",
    "    inputs = np.concatenate(inputs_list, axis=0)\n",
    "    labels_landcover = np.concatenate(lc_label_list, axis=0)\n",
    "    labels_lst = np.concatenate(lst_label_list, axis=0)\n",
    "    print(\n",
    "        f\"Inputs: {inputs.shape}, Labels Landcover: {labels_landcover.shape}, Labels LST: {labels_lst.shape}\"\n",
    "    )\n",
    "\n",
    "    train_size = int(inputs.shape[0] * train_test_ratio)\n",
    "    train_inputs, test_inputs = inputs[:train_size], inputs[train_size:]\n",
    "    train_labels_landcover, test_labels_landcover = (\n",
    "        labels_landcover[:train_size],\n",
    "        labels_landcover[train_size:],\n",
    "    )\n",
    "    train_labels_lst, test_labels_lst = labels_lst[:train_size], labels_lst[train_size:]\n",
    "\n",
    "    print(\n",
    "        f\"Training data: {train_inputs.shape}, Landcover: {train_labels_landcover.shape}, LST: {train_labels_lst.shape}\"\n",
    "    )\n",
    "    print(\n",
    "        f\"Testing data: {test_inputs.shape}, Landcover: {test_labels_landcover.shape}, LST: {test_labels_lst.shape}\"\n",
    "    )\n",
    "\n",
    "    return (train_inputs, train_labels_landcover, train_labels_lst), (\n",
    "        test_inputs,\n",
    "        test_labels_landcover,\n",
    "        test_labels_lst,\n",
    "    )"
   ]
  },
  {
   "cell_type": "code",
   "execution_count": 382,
   "metadata": {},
   "outputs": [],
   "source": [
    "# x, y = read_dataset(\"../data/v2/climate_change/\", 0.9)"
   ]
  },
  {
   "cell_type": "code",
   "execution_count": 383,
   "metadata": {},
   "outputs": [],
   "source": [
    "# Define the Fully Convolutional Network.\n",
    "class CNN_LandCover(nn.Module):\n",
    "    @nn.compact\n",
    "    def __call__(self, x):\n",
    "        x = nn.Conv(features=32, kernel_size=(KERNEL_SIZE, KERNEL_SIZE))(x)\n",
    "        x = nn.relu(x)\n",
    "        x = nn.ConvTranspose(features=16, kernel_size=(KERNEL_SIZE, KERNEL_SIZE))(x)\n",
    "        x = nn.relu(x)\n",
    "        x = nn.Dense(features=NUM_CLASSES)(x)\n",
    "\n",
    "        return x"
   ]
  },
  {
   "cell_type": "code",
   "execution_count": 384,
   "metadata": {},
   "outputs": [],
   "source": [
    "class CNN_LST(nn.Module):\n",
    "    @nn.compact\n",
    "    def __call__(self, x):\n",
    "        x = nn.Conv(features=64, kernel_size=(KERNEL_SIZE, KERNEL_SIZE))(x)\n",
    "        x = nn.relu(x)\n",
    "        x = nn.ConvTranspose(features=128, kernel_size=(KERNEL_SIZE, KERNEL_SIZE))(x)\n",
    "        x = nn.relu(x)\n",
    "        x = nn.Dense(features=1)(x)\n",
    "        x = nn.relu(x)  # No negative temperatures (since it is in Kelvin)\n",
    "\n",
    "        return x"
   ]
  },
  {
   "cell_type": "code",
   "execution_count": 385,
   "metadata": {},
   "outputs": [],
   "source": [
    "@jax.jit\n",
    "def apply_lc(state, images, lc):\n",
    "    \"\"\"Computes gradients, loss and accuracy for a single batch.\"\"\"\n",
    "    print(f\"images shape: {images.shape}, lc shape: {lc.shape}\")\n",
    "    one_hot = jax.nn.one_hot(lc[:,:,:,-1], NUM_CLASSES)\n",
    "    def loss_fn(params):\n",
    "        logits = state.apply_fn({\"params\": params}, images)\n",
    "        loss = optax.losses.softmax_cross_entropy(\n",
    "            logits=logits, labels=one_hot\n",
    "        ).mean()  # Softmax Cross Entropy for Classification\n",
    "        return loss, logits\n",
    "\n",
    "    grad_fn = jax.value_and_grad(loss_fn, has_aux=True)\n",
    "    (loss, logits), grads = grad_fn(state.params)\n",
    "    accuracy_c = jnp.mean(jnp.argmax(logits, -1) == jnp.argmax(one_hot, -1))\n",
    "\n",
    "    return grads, loss, accuracy_c"
   ]
  },
  {
   "cell_type": "code",
   "execution_count": 386,
   "metadata": {},
   "outputs": [],
   "source": [
    "@jax.jit\n",
    "def apply_lst(state, images, lst):\n",
    "    \"\"\"Computes gradients, loss and accuracy for a single batch.\"\"\"\n",
    "\n",
    "    def loss_fn(params):\n",
    "        logits = state.apply_fn({\"params\": params}, images)\n",
    "        loss = optax.losses.squared_error(\n",
    "            predictions=logits, targets=lst\n",
    "        ).mean()  # MSE for Regression\n",
    "        return loss\n",
    "\n",
    "    grad_fn = jax.value_and_grad(loss_fn, has_aux=False)\n",
    "    loss, grads = grad_fn(state.params)\n",
    "    return grads, loss, None"
   ]
  },
  {
   "cell_type": "code",
   "execution_count": 387,
   "metadata": {},
   "outputs": [],
   "source": [
    "@jax.jit\n",
    "def update_model(state, grads):\n",
    "    return state.apply_gradients(grads=grads)"
   ]
  },
  {
   "cell_type": "code",
   "execution_count": 388,
   "metadata": {},
   "outputs": [],
   "source": [
    "def train_epoch(state, train_ds, batch_size, rng, label: Literal[\"lc\", \"lst\"]):\n",
    "    \"\"\"Train for a single epoch.\"\"\"\n",
    "    train_ds_size = len(train_ds[0])\n",
    "    steps_per_epoch = train_ds_size // batch_size\n",
    "\n",
    "    perms = jax.random.permutation(rng, len(train_ds[0]))\n",
    "    perms = perms[: steps_per_epoch * batch_size]  # skip incomplete batch\n",
    "    perms = perms.reshape((steps_per_epoch, batch_size))\n",
    "\n",
    "    epoch_loss = []\n",
    "    epoch_accuracy = []\n",
    "\n",
    "    for perm in perms:\n",
    "        batch_images = jnp.array(train_ds[0][perm, ...], dtype=jnp.float32)\n",
    "        batch_images = jax.nn.standardize(batch_images)\n",
    "\n",
    "        if label == \"lc\":\n",
    "            batch_labels = jnp.array(train_ds[1][perm, ...], dtype=jnp.uint8)\n",
    "            # print(f\"Batch images shape: {batch_images.shape}, Batch labels shape: {batch_labels.shape}\")\n",
    "            grads, loss, acc = apply_lc(state, batch_images, batch_labels)\n",
    "        else:\n",
    "            batch_labels = jnp.array(train_ds[2][perm, ...], dtype=jnp.float32)\n",
    "            grads, loss, acc = apply_lst(state, batch_images, batch_labels)\n",
    "        state = update_model(state, grads)\n",
    "        epoch_loss.append(loss)\n",
    "        if label == \"lc\":\n",
    "            epoch_accuracy.append(acc)\n",
    "    train_loss = np.mean(epoch_loss)\n",
    "    train_accuracy = None\n",
    "    if label == \"lc\":\n",
    "        train_accuracy = np.mean(epoch_accuracy)\n",
    "    return state, train_loss, train_accuracy"
   ]
  },
  {
   "cell_type": "code",
   "execution_count": 389,
   "metadata": {},
   "outputs": [],
   "source": [
    "def create_train_state(rng, config, label: Literal[\"lc\", \"lst\"]):\n",
    "    \"\"\"Creates initial `TrainState`.\"\"\"\n",
    "    if label == \"lc\":\n",
    "        model = CNN_LandCover()\n",
    "    elif label == \"lst\":\n",
    "        model = CNN_LST()\n",
    "    else:\n",
    "        raise ValueError(f\"Unknown label: {label}\")\n",
    "    params = model.init(rng, jnp.ones([1, 128, 128, NUM_INPUTS]))[\"params\"]\n",
    "    tx = optax.adam(config.learning_rate)\n",
    "    return train_state.TrainState.create(apply_fn=model.apply, params=params, tx=tx)\n",
    "\n",
    "\n",
    "@app.function(\n",
    "    image=img,\n",
    "    timeout=60 * 60 * 24,\n",
    "    volumes={\"/vol\": volume},\n",
    "    gpu=gpu.A100(count=1),\n",
    "    _allow_background_volume_commits=True,\n",
    ")\n",
    "def train_and_evaluate(\n",
    "    config: ml_collections.ConfigDict,\n",
    "    data_dir: str,\n",
    "    work_dir: str,\n",
    "    ckpt_dir: str,\n",
    "    label: Literal[\"lc\", \"lst\"],\n",
    ") -> train_state.TrainState:\n",
    "    \"\"\"Execute model training and evaluation loop.\n",
    "\n",
    "    Args:\n",
    "      config: Hyperparameter configuration for training and evaluation.\n",
    "      work_dir: Directory where the tensorboard summaries are written to.\n",
    "\n",
    "    Returns:\n",
    "      The train state (which includes the `.params`).\n",
    "    \"\"\"\n",
    "    import os\n",
    "    import shutil\n",
    "\n",
    "    os.makedirs(work_dir, exist_ok=True)\n",
    "    os.makedirs(data_dir, exist_ok=True)\n",
    "\n",
    "    shutil.rmtree(ckpt_dir, ignore_errors=True)\n",
    "\n",
    "    ckpt_options = ocp.CheckpointManagerOptions(\n",
    "        max_to_keep=3,\n",
    "    )\n",
    "    ckpt_manager = ocp.CheckpointManager(\n",
    "        ocp.test_utils.erase_and_create_empty(ckpt_dir),\n",
    "        options=ckpt_options,\n",
    "    )\n",
    "\n",
    "    print(f\"JAX process: {jax.process_index()} / {jax.process_count()}\")\n",
    "    print(f\"JAX local devices: {jax.local_devices()}\")\n",
    "    train_ds, test_ds = read_dataset(data_dir, config.train_test_split)\n",
    "    rng = jax.random.key(0)\n",
    "\n",
    "    summary_writer = tensorboard.SummaryWriter(work_dir)\n",
    "    summary_writer.hparams(dict(config))\n",
    "\n",
    "    rng, init_rng = jax.random.split(rng)\n",
    "    state = create_train_state(init_rng, config, label)\n",
    "\n",
    "    test_images = jnp.array(test_ds[0], dtype=jnp.float32)\n",
    "    test_images = jax.nn.standardize(test_images)\n",
    "\n",
    "    if label == \"lc\":\n",
    "        test_labels = jnp.array(test_ds[1], dtype=jnp.uint8)\n",
    "    elif label == \"lst\":\n",
    "        test_labels = jnp.array(test_ds[2], dtype=jnp.float32)\n",
    "    else:\n",
    "        raise ValueError(f\"Unknown label: {label}\")\n",
    "\n",
    "    for epoch in tqdm(range(config.num_epochs)):\n",
    "        rng, input_rng = jax.random.split(rng)\n",
    "        state, train_loss, train_accuracy = train_epoch(\n",
    "            state, train_ds, config.batch_size, input_rng, label\n",
    "        )\n",
    "\n",
    "        if label == \"lc\":\n",
    "            _, test_loss, test_accuracy = apply_lc(state, test_images, test_labels)\n",
    "        elif label == \"lst\":\n",
    "            _, test_loss, test_accuracy = apply_lst(state, test_images, test_labels)\n",
    "        else:\n",
    "            raise ValueError(f\"Unknown label: {label}\")\n",
    "\n",
    "        print(f\"epoch:{epoch}, train_loss: {train_loss}, test_loss: {test_loss}\")\n",
    "        if label == \"lc\":\n",
    "            print(\n",
    "                f\"epoch:{epoch}, train_accuracy: {train_accuracy * 100}, test_accuracy: {test_accuracy * 100}\"\n",
    "            )\n",
    "            summary_writer.scalar(\"train_accuracy\", train_accuracy, epoch)\n",
    "            summary_writer.scalar(\"test_accuracy\", test_accuracy, epoch)\n",
    "\n",
    "        summary_writer.scalar(\"train_loss\", train_loss, epoch)\n",
    "        summary_writer.scalar(\"test_loss\", test_loss, epoch)\n",
    "\n",
    "        ckpt = {\"model\": state}\n",
    "        ckpt_manager.save(epoch, args=ocp.args.StandardSave(ckpt))\n",
    "        ckpt_manager.wait_until_finished()\n",
    "\n",
    "    summary_writer.flush()\n",
    "    volume.commit()\n",
    "    return state"
   ]
  },
  {
   "cell_type": "code",
   "execution_count": 390,
   "metadata": {},
   "outputs": [],
   "source": [
    "config = ml_collections.ConfigDict()\n",
    "\n",
    "config.learning_rate = 0.0002\n",
    "config.batch_size = 32\n",
    "config.num_epochs = 100\n",
    "config.train_test_split = 0.9"
   ]
  },
  {
   "cell_type": "code",
   "execution_count": 391,
   "metadata": {},
   "outputs": [],
   "source": [
    "# train_and_evaluate(config=config, data_dir=\"../inference/climate_change\", work_dir=\"../inference/logs\", ckpt_dir=\"../inference/ckpt\", label=\"lc\")"
   ]
  },
  {
   "cell_type": "code",
   "execution_count": 392,
   "metadata": {},
   "outputs": [],
   "source": [
    "# ckpt_dir = os.path.abspath(\"../models/flax/lc\")\n",
    "# state = train_and_evaluate(\n",
    "#     config, \"../data/v2/climate_change\", \"../models/flax/logs\", ckpt_dir, \"lst\"\n",
    "# )"
   ]
  },
  {
   "cell_type": "code",
   "execution_count": 393,
   "metadata": {},
   "outputs": [
    {
     "data": {
      "application/vnd.jupyter.widget-view+json": {
       "model_id": "7c4a31aa1e2b4d0896e029497073b4ea",
       "version_major": 2,
       "version_minor": 0
      },
      "text/plain": [
       "Output()"
      ]
     },
     "metadata": {},
     "output_type": "display_data"
    },
    {
     "data": {
      "text/html": [
       "<pre style=\"white-space:pre;overflow-x:auto;line-height:normal;font-family:Menlo,'DejaVu Sans Mono',consolas,'Courier New',monospace\"><span style=\"color: #008000; text-decoration-color: #008000\">✓</span> Initialized. <span style=\"color: #b2b2b2; text-decoration-color: #b2b2b2\">View run at </span><span style=\"color: #b2b2b2; text-decoration-color: #b2b2b2; text-decoration: underline\">https://modal.com/aakashshankar/apps/ap-tiYNIumG4OH88pdkSLOXcD</span>\n",
       "</pre>\n"
      ],
      "text/plain": [
       "\u001b[32m✓\u001b[0m Initialized. \u001b[38;5;249mView run at \u001b[0m\u001b[4;38;5;249mhttps://modal.com/aakashshankar/apps/ap-tiYNIumG4OH88pdkSLOXcD\u001b[0m\n"
      ]
     },
     "metadata": {},
     "output_type": "display_data"
    },
    {
     "data": {
      "text/html": [
       "<pre style=\"white-space:pre;overflow-x:auto;line-height:normal;font-family:Menlo,'DejaVu Sans Mono',consolas,'Courier New',monospace\"></pre>\n"
      ],
      "text/plain": []
     },
     "metadata": {},
     "output_type": "display_data"
    },
    {
     "data": {
      "application/vnd.jupyter.widget-view+json": {
       "model_id": "9875dfb9388b467b8cc014064403f2ee",
       "version_major": 2,
       "version_minor": 0
      },
      "text/plain": [
       "Output()"
      ]
     },
     "metadata": {},
     "output_type": "display_data"
    },
    {
     "data": {
      "text/html": [
       "<pre style=\"white-space:pre;overflow-x:auto;line-height:normal;font-family:Menlo,'DejaVu Sans Mono',consolas,'Courier New',monospace\"></pre>\n"
      ],
      "text/plain": []
     },
     "metadata": {},
     "output_type": "display_data"
    },
    {
     "data": {
      "text/html": [
       "<pre style=\"white-space:pre;overflow-x:auto;line-height:normal;font-family:Menlo,'DejaVu Sans Mono',consolas,'Courier New',monospace\"><span style=\"color: #008000; text-decoration-color: #008000\">✓</span> Created objects.\n",
       "<span style=\"color: #808080; text-decoration-color: #808080\">└── </span>🔨 Created train_and_evaluate.\n",
       "</pre>\n"
      ],
      "text/plain": [
       "\u001b[32m✓\u001b[0m Created objects.\n",
       "\u001b[38;5;244m└── \u001b[0m🔨 Created train_and_evaluate.\n"
      ]
     },
     "metadata": {},
     "output_type": "display_data"
    },
    {
     "data": {
      "application/vnd.jupyter.widget-view+json": {
       "model_id": "4f2f52ba53804dde8bef2b924a1a0bc5",
       "version_major": 2,
       "version_minor": 0
      },
      "text/plain": [
       "Output()"
      ]
     },
     "metadata": {},
     "output_type": "display_data"
    },
    {
     "data": {
      "text/html": [
       "<pre style=\"white-space:pre;overflow-x:auto;line-height:normal;font-family:Menlo,'DejaVu Sans Mono',consolas,'Courier New',monospace\"><span style=\"color: #800000; text-decoration-color: #800000\">WARNING:absl:Type handler registry overriding type \"&lt;class 'float'&gt;\" collision on scalar\n",
       "</span></pre>\n"
      ],
      "text/plain": [
       "\u001b[31mWARNING:absl:Type handler registry overriding type \"<class 'float'>\" collision on scalar\n",
       "\u001b[0m"
      ]
     },
     "metadata": {},
     "output_type": "display_data"
    },
    {
     "data": {
      "text/html": [
       "<pre style=\"white-space:pre;overflow-x:auto;line-height:normal;font-family:Menlo,'DejaVu Sans Mono',consolas,'Courier New',monospace\"><span style=\"color: #800000; text-decoration-color: #800000\">WARNING:absl:Type handler registry overriding type \"&lt;class 'bytes'&gt;\" collision on scalar\n",
       "</span></pre>\n"
      ],
      "text/plain": [
       "\u001b[31mWARNING:absl:Type handler registry overriding type \"<class 'bytes'>\" collision on scalar\n",
       "\u001b[0m"
      ]
     },
     "metadata": {},
     "output_type": "display_data"
    },
    {
     "data": {
      "text/html": [
       "<pre style=\"white-space:pre;overflow-x:auto;line-height:normal;font-family:Menlo,'DejaVu Sans Mono',consolas,'Courier New',monospace\"><span style=\"color: #800000; text-decoration-color: #800000\">WARNING:absl:Type handler registry overriding type \"&lt;class 'numpy.number'&gt;\" collision on scalar\n",
       "</span></pre>\n"
      ],
      "text/plain": [
       "\u001b[31mWARNING:absl:Type handler registry overriding type \"<class 'numpy.number'>\" collision on scalar\n",
       "\u001b[0m"
      ]
     },
     "metadata": {},
     "output_type": "display_data"
    },
    {
     "data": {
      "text/html": [
       "<pre style=\"white-space:pre;overflow-x:auto;line-height:normal;font-family:Menlo,'DejaVu Sans Mono',consolas,'Courier New',monospace\"><span style=\"color: #800000; text-decoration-color: #800000\">2024-05-07 19:39:35.765965: W tensorflow/compiler/tf2tensorrt/utils/py_utils.cc:38] TF-TRT Warning: Could not find TensorRT\n",
       "</span></pre>\n"
      ],
      "text/plain": [
       "\u001b[31m2024-05-07 19:39:35.765965: W tensorflow/compiler/tf2tensorrt/utils/py_utils.cc:38] TF-TRT Warning: Could not find TensorRT\n",
       "\u001b[0m"
      ]
     },
     "metadata": {},
     "output_type": "display_data"
    },
    {
     "data": {
      "text/html": [
       "<pre style=\"white-space:pre;overflow-x:auto;line-height:normal;font-family:Menlo,'DejaVu Sans Mono',consolas,'Courier New',monospace\"><span style=\"color: #800000; text-decoration-color: #800000\">2024-05-07 19:39:41.457919: W external/xla/xla/service/gpu/nvptx_compiler.cc:718] The NVIDIA driver's CUDA version is 12.2 which is older than the ptxas CUDA version (12.3.107). Because the driver is older than the ptxas version, XLA is disabling parallel compilation, which may slow down compilation. You should update your NVIDIA driver or use the NVIDIA-provided CUDA forward compatibility packages.\n",
       "</span></pre>\n"
      ],
      "text/plain": [
       "\u001b[31m2024-05-07 19:39:41.457919: W external/xla/xla/service/gpu/nvptx_compiler.cc:718] The NVIDIA driver's CUDA version is 12.2 which is older than the ptxas CUDA version (12.3.107). Because the driver is older than the ptxas version, XLA is disabling parallel compilation, which may slow down compilation. You should update your NVIDIA driver or use the NVIDIA-provided CUDA forward compatibility packages.\n",
       "\u001b[0m"
      ]
     },
     "metadata": {},
     "output_type": "display_data"
    },
    {
     "data": {
      "text/html": [
       "<pre style=\"white-space:pre;overflow-x:auto;line-height:normal;font-family:Menlo,'DejaVu Sans Mono',consolas,'Courier New',monospace\"><span style=\"color: #000080; text-decoration-color: #000080\"></span></pre>\n"
      ],
      "text/plain": []
     },
     "metadata": {},
     "output_type": "display_data"
    },
    {
     "data": {
      "text/html": [
       "<pre style=\"white-space:pre;overflow-x:auto;line-height:normal;font-family:Menlo,'DejaVu Sans Mono',consolas,'Courier New',monospace\"><span style=\"color: #000080; text-decoration-color: #000080\">JAX process: 0 / 1\n",
       "JAX local devices: [cuda(id=0)]\n",
       "</span></pre>\n"
      ],
      "text/plain": [
       "\u001b[34mJAX process: 0 / 1\n",
       "JAX local devices: [cuda(id=0)]\n",
       "\u001b[0m"
      ]
     },
     "metadata": {},
     "output_type": "display_data"
    },
    {
     "data": {
      "text/html": [
       "<pre style=\"white-space:pre;overflow-x:auto;line-height:normal;font-family:Menlo,'DejaVu Sans Mono',consolas,'Courier New',monospace\"><span style=\"color: #000080; text-decoration-color: #000080\"></span></pre>\n"
      ],
      "text/plain": []
     },
     "metadata": {},
     "output_type": "display_data"
    },
    {
     "data": {
      "text/html": [
       "<pre style=\"white-space:pre;overflow-x:auto;line-height:normal;font-family:Menlo,'DejaVu Sans Mono',consolas,'Courier New',monospace\"><span style=\"color: #000080; text-decoration-color: #000080\">Inputs: (18136, 128, 128, 3), Labels Landcover: (18136, 128, 128, 1), Labels LST: (18136, 128, 128, 1)\n",
       "</span></pre>\n"
      ],
      "text/plain": [
       "\u001b[34mInputs: (18136, 128, 128, 3), Labels Landcover: (18136, 128, 128, 1), Labels LST: (18136, 128, 128, 1)\n",
       "\u001b[0m"
      ]
     },
     "metadata": {},
     "output_type": "display_data"
    },
    {
     "data": {
      "text/html": [
       "<pre style=\"white-space:pre;overflow-x:auto;line-height:normal;font-family:Menlo,'DejaVu Sans Mono',consolas,'Courier New',monospace\"><span style=\"color: #000080; text-decoration-color: #000080\">Training data: (16322, 128, 128, 3), Landcover: (16322, 128, 128, 1), LST: (16322, 128, 128, 1)\n",
       "</span></pre>\n"
      ],
      "text/plain": [
       "\u001b[34mTraining data: (16322, 128, 128, 3), Landcover: (16322, 128, 128, 1), LST: (16322, 128, 128, 1)\n",
       "\u001b[0m"
      ]
     },
     "metadata": {},
     "output_type": "display_data"
    },
    {
     "data": {
      "text/html": [
       "<pre style=\"white-space:pre;overflow-x:auto;line-height:normal;font-family:Menlo,'DejaVu Sans Mono',consolas,'Courier New',monospace\"><span style=\"color: #000080; text-decoration-color: #000080\">Testing data: (1814, 128, 128, 3), Landcover: (1814, 128, 128, 1), LST: (1814, 128, 128, 1)\n",
       "</span></pre>\n"
      ],
      "text/plain": [
       "\u001b[34mTesting data: (1814, 128, 128, 3), Landcover: (1814, 128, 128, 1), LST: (1814, 128, 128, 1)\n",
       "\u001b[0m"
      ]
     },
     "metadata": {},
     "output_type": "display_data"
    },
    {
     "data": {
      "text/html": [
       "<pre style=\"white-space:pre;overflow-x:auto;line-height:normal;font-family:Menlo,'DejaVu Sans Mono',consolas,'Courier New',monospace\"><span style=\"color: #800000; text-decoration-color: #800000\">\n",
       "</span></pre>\n"
      ],
      "text/plain": [
       "\u001b[31m\n",
       "\u001b[0m"
      ]
     },
     "metadata": {},
     "output_type": "display_data"
    },
    {
     "data": {
      "text/html": [
       "<pre style=\"white-space:pre;overflow-x:auto;line-height:normal;font-family:Menlo,'DejaVu Sans Mono',consolas,'Courier New',monospace\"><span style=\"color: #000080; text-decoration-color: #000080\"></span></pre>\n"
      ],
      "text/plain": []
     },
     "metadata": {},
     "output_type": "display_data"
    },
    {
     "data": {
      "text/html": [
       "<pre style=\"white-space:pre;overflow-x:auto;line-height:normal;font-family:Menlo,'DejaVu Sans Mono',consolas,'Courier New',monospace\"><span style=\"color: #000080; text-decoration-color: #000080\">images shape: (32, 128, 128, 3), lc shape: (32, 128, 128, 1)\n",
       "</span></pre>\n"
      ],
      "text/plain": [
       "\u001b[34mimages shape: (32, 128, 128, 3), lc shape: (32, 128, 128, 1)\n",
       "\u001b[0m"
      ]
     },
     "metadata": {},
     "output_type": "display_data"
    },
    {
     "data": {
      "text/html": [
       "<pre style=\"white-space:pre;overflow-x:auto;line-height:normal;font-family:Menlo,'DejaVu Sans Mono',consolas,'Courier New',monospace\"><span style=\"color: #000080; text-decoration-color: #000080\"></span></pre>\n"
      ],
      "text/plain": []
     },
     "metadata": {},
     "output_type": "display_data"
    },
    {
     "data": {
      "text/html": [
       "<pre style=\"white-space:pre;overflow-x:auto;line-height:normal;font-family:Menlo,'DejaVu Sans Mono',consolas,'Courier New',monospace\"><span style=\"color: #000080; text-decoration-color: #000080\">images shape: (1814, 128, 128, 3), lc shape: (1814, 128, 128, 1)\n",
       "</span></pre>\n"
      ],
      "text/plain": [
       "\u001b[34mimages shape: (1814, 128, 128, 3), lc shape: (1814, 128, 128, 1)\n",
       "\u001b[0m"
      ]
     },
     "metadata": {},
     "output_type": "display_data"
    },
    {
     "data": {
      "text/html": [
       "<pre style=\"white-space:pre;overflow-x:auto;line-height:normal;font-family:Menlo,'DejaVu Sans Mono',consolas,'Courier New',monospace\"><span style=\"color: #800000; text-decoration-color: #800000\">\u001b[1A  0%|          | 0/100 [00:00&lt;?, ?it/s]2024-05-07 19:41:40.073053: E external/xla/xla/service/slow_operation_alarm.cc:65] Trying algorithm eng0{} for conv (f32[1814,16,128,128]{3,2,1,0}, u8[0]{0}) custom-call(f32[1814,32,128,128]{3,2,1,0}, f32[16,32,5,5]{3,2,1,0}, f32[16]{0}), window={size=5x5 pad=2_2x2_2}, dim_labels=bf01_oi01-&gt;bf01, custom_call_target=\"__cudnn$convBiasActivationForward\", backend_config={\"operation_queue_id\":\"0\",\"wait_on_operation_queues\":[],\"cudnn_conv_backend_config\":{\"conv_result_scale\":1,\"activation_mode\":\"kNone\",\"side_input_scale\":0,\"leakyrelu_alpha\":0},\"force_earliest_schedule\":false} is taking a while...\n",
       "</span></pre>\n"
      ],
      "text/plain": [
       "\u001b[31m\u001b[1A  0%|          | 0/100 [00:00<?, ?it/s]2024-05-07 19:41:40.073053: E external/xla/xla/service/slow_operation_alarm.cc:65] Trying algorithm eng0{} for conv (f32[1814,16,128,128]{3,2,1,0}, u8[0]{0}) custom-call(f32[1814,32,128,128]{3,2,1,0}, f32[16,32,5,5]{3,2,1,0}, f32[16]{0}), window={size=5x5 pad=2_2x2_2}, dim_labels=bf01_oi01->bf01, custom_call_target=\"__cudnn$convBiasActivationForward\", backend_config={\"operation_queue_id\":\"0\",\"wait_on_operation_queues\":[],\"cudnn_conv_backend_config\":{\"conv_result_scale\":1,\"activation_mode\":\"kNone\",\"side_input_scale\":0,\"leakyrelu_alpha\":0},\"force_earliest_schedule\":false} is taking a while...\n",
       "\u001b[0m"
      ]
     },
     "metadata": {},
     "output_type": "display_data"
    },
    {
     "data": {
      "text/html": [
       "<pre style=\"white-space:pre;overflow-x:auto;line-height:normal;font-family:Menlo,'DejaVu Sans Mono',consolas,'Courier New',monospace\"><span style=\"color: #800000; text-decoration-color: #800000\">2024-05-07 19:41:40.194261: E external/xla/xla/service/slow_operation_alarm.cc:133] The operation took 1.121584994s\n",
       "Trying algorithm eng0{} for conv (f32[1814,16,128,128]{3,2,1,0}, u8[0]{0}) custom-call(f32[1814,32,128,128]{3,2,1,0}, f32[16,32,5,5]{3,2,1,0}, f32[16]{0}), window={size=5x5 pad=2_2x2_2}, dim_labels=bf01_oi01-&gt;bf01, custom_call_target=\"__cudnn$convBiasActivationForward\", backend_config={\"operation_queue_id\":\"0\",\"wait_on_operation_queues\":[],\"cudnn_conv_backend_config\":{\"conv_result_scale\":1,\"activation_mode\":\"kNone\",\"side_input_scale\":0,\"leakyrelu_alpha\":0},\"force_earliest_schedule\":false} is taking a while...\n",
       "</span></pre>\n"
      ],
      "text/plain": [
       "\u001b[31m2024-05-07 19:41:40.194261: E external/xla/xla/service/slow_operation_alarm.cc:133] The operation took 1.121584994s\n",
       "Trying algorithm eng0{} for conv (f32[1814,16,128,128]{3,2,1,0}, u8[0]{0}) custom-call(f32[1814,32,128,128]{3,2,1,0}, f32[16,32,5,5]{3,2,1,0}, f32[16]{0}), window={size=5x5 pad=2_2x2_2}, dim_labels=bf01_oi01->bf01, custom_call_target=\"__cudnn$convBiasActivationForward\", backend_config={\"operation_queue_id\":\"0\",\"wait_on_operation_queues\":[],\"cudnn_conv_backend_config\":{\"conv_result_scale\":1,\"activation_mode\":\"kNone\",\"side_input_scale\":0,\"leakyrelu_alpha\":0},\"force_earliest_schedule\":false} is taking a while...\n",
       "\u001b[0m"
      ]
     },
     "metadata": {},
     "output_type": "display_data"
    },
    {
     "data": {
      "text/html": [
       "<pre style=\"white-space:pre;overflow-x:auto;line-height:normal;font-family:Menlo,'DejaVu Sans Mono',consolas,'Courier New',monospace\"><span style=\"color: #800000; text-decoration-color: #800000\">2024-05-07 19:41:48.288064: E external/xla/xla/service/slow_operation_alarm.cc:65] Trying algorithm eng20{k2=3,k3=0} for conv (f32[16,32,5,5]{3,2,1,0}, u8[0]{0}) custom-call(f32[1814,32,128,128]{3,2,1,0}, f32[1814,16,128,128]{3,2,1,0}), window={size=5x5 pad=2_2x2_2}, dim_labels=bf01_oi01-&gt;bf01, custom_call_target=\"__cudnn$convBackwardFilter\", backend_config={\"operation_queue_id\":\"0\",\"wait_on_operation_queues\":[],\"cudnn_conv_backend_config\":{\"conv_result_scale\":1,\"activation_mode\":\"kNone\",\"side_input_scale\":0,\"leakyrelu_alpha\":0},\"force_earliest_schedule\":false} is taking a while...\n",
       "</span></pre>\n"
      ],
      "text/plain": [
       "\u001b[31m2024-05-07 19:41:48.288064: E external/xla/xla/service/slow_operation_alarm.cc:65] Trying algorithm eng20{k2=3,k3=0} for conv (f32[16,32,5,5]{3,2,1,0}, u8[0]{0}) custom-call(f32[1814,32,128,128]{3,2,1,0}, f32[1814,16,128,128]{3,2,1,0}), window={size=5x5 pad=2_2x2_2}, dim_labels=bf01_oi01->bf01, custom_call_target=\"__cudnn$convBackwardFilter\", backend_config={\"operation_queue_id\":\"0\",\"wait_on_operation_queues\":[],\"cudnn_conv_backend_config\":{\"conv_result_scale\":1,\"activation_mode\":\"kNone\",\"side_input_scale\":0,\"leakyrelu_alpha\":0},\"force_earliest_schedule\":false} is taking a while...\n",
       "\u001b[0m"
      ]
     },
     "metadata": {},
     "output_type": "display_data"
    },
    {
     "data": {
      "text/html": [
       "<pre style=\"white-space:pre;overflow-x:auto;line-height:normal;font-family:Menlo,'DejaVu Sans Mono',consolas,'Courier New',monospace\"><span style=\"color: #800000; text-decoration-color: #800000\">2024-05-07 19:41:48.451075: E external/xla/xla/service/slow_operation_alarm.cc:133] The operation took 1.163485185s\n",
       "Trying algorithm eng20{k2=3,k3=0} for conv (f32[16,32,5,5]{3,2,1,0}, u8[0]{0}) custom-call(f32[1814,32,128,128]{3,2,1,0}, f32[1814,16,128,128]{3,2,1,0}), window={size=5x5 pad=2_2x2_2}, dim_labels=bf01_oi01-&gt;bf01, custom_call_target=\"__cudnn$convBackwardFilter\", backend_config={\"operation_queue_id\":\"0\",\"wait_on_operation_queues\":[],\"cudnn_conv_backend_config\":{\"conv_result_scale\":1,\"activation_mode\":\"kNone\",\"side_input_scale\":0,\"leakyrelu_alpha\":0},\"force_earliest_schedule\":false} is taking a while...\n",
       "</span></pre>\n"
      ],
      "text/plain": [
       "\u001b[31m2024-05-07 19:41:48.451075: E external/xla/xla/service/slow_operation_alarm.cc:133] The operation took 1.163485185s\n",
       "Trying algorithm eng20{k2=3,k3=0} for conv (f32[16,32,5,5]{3,2,1,0}, u8[0]{0}) custom-call(f32[1814,32,128,128]{3,2,1,0}, f32[1814,16,128,128]{3,2,1,0}), window={size=5x5 pad=2_2x2_2}, dim_labels=bf01_oi01->bf01, custom_call_target=\"__cudnn$convBackwardFilter\", backend_config={\"operation_queue_id\":\"0\",\"wait_on_operation_queues\":[],\"cudnn_conv_backend_config\":{\"conv_result_scale\":1,\"activation_mode\":\"kNone\",\"side_input_scale\":0,\"leakyrelu_alpha\":0},\"force_earliest_schedule\":false} is taking a while...\n",
       "\u001b[0m"
      ]
     },
     "metadata": {},
     "output_type": "display_data"
    },
    {
     "data": {
      "text/html": [
       "<pre style=\"white-space:pre;overflow-x:auto;line-height:normal;font-family:Menlo,'DejaVu Sans Mono',consolas,'Courier New',monospace\"><span style=\"color: #800000; text-decoration-color: #800000\">2024-05-07 19:41:49.451906: E external/xla/xla/service/slow_operation_alarm.cc:65] Trying algorithm eng20{k2=4,k3=0} for conv (f32[16,32,5,5]{3,2,1,0}, u8[0]{0}) custom-call(f32[1814,32,128,128]{3,2,1,0}, f32[1814,16,128,128]{3,2,1,0}), window={size=5x5 pad=2_2x2_2}, dim_labels=bf01_oi01-&gt;bf01, custom_call_target=\"__cudnn$convBackwardFilter\", backend_config={\"operation_queue_id\":\"0\",\"wait_on_operation_queues\":[],\"cudnn_conv_backend_config\":{\"conv_result_scale\":1,\"activation_mode\":\"kNone\",\"side_input_scale\":0,\"leakyrelu_alpha\":0},\"force_earliest_schedule\":false} is taking a while...\n",
       "</span></pre>\n"
      ],
      "text/plain": [
       "\u001b[31m2024-05-07 19:41:49.451906: E external/xla/xla/service/slow_operation_alarm.cc:65] Trying algorithm eng20{k2=4,k3=0} for conv (f32[16,32,5,5]{3,2,1,0}, u8[0]{0}) custom-call(f32[1814,32,128,128]{3,2,1,0}, f32[1814,16,128,128]{3,2,1,0}), window={size=5x5 pad=2_2x2_2}, dim_labels=bf01_oi01->bf01, custom_call_target=\"__cudnn$convBackwardFilter\", backend_config={\"operation_queue_id\":\"0\",\"wait_on_operation_queues\":[],\"cudnn_conv_backend_config\":{\"conv_result_scale\":1,\"activation_mode\":\"kNone\",\"side_input_scale\":0,\"leakyrelu_alpha\":0},\"force_earliest_schedule\":false} is taking a while...\n",
       "\u001b[0m"
      ]
     },
     "metadata": {},
     "output_type": "display_data"
    },
    {
     "data": {
      "text/html": [
       "<pre style=\"white-space:pre;overflow-x:auto;line-height:normal;font-family:Menlo,'DejaVu Sans Mono',consolas,'Courier New',monospace\"><span style=\"color: #800000; text-decoration-color: #800000\">2024-05-07 19:41:49.615249: E external/xla/xla/service/slow_operation_alarm.cc:133] The operation took 1.163501162s\n",
       "Trying algorithm eng20{k2=4,k3=0} for conv (f32[16,32,5,5]{3,2,1,0}, u8[0]{0}) custom-call(f32[1814,32,128,128]{3,2,1,0}, f32[1814,16,128,128]{3,2,1,0}), window={size=5x5 pad=2_2x2_2}, dim_labels=bf01_oi01-&gt;bf01, custom_call_target=\"__cudnn$convBackwardFilter\", backend_config={\"operation_queue_id\":\"0\",\"wait_on_operation_queues\":[],\"cudnn_conv_backend_config\":{\"conv_result_scale\":1,\"activation_mode\":\"kNone\",\"side_input_scale\":0,\"leakyrelu_alpha\":0},\"force_earliest_schedule\":false} is taking a while...\n",
       "</span></pre>\n"
      ],
      "text/plain": [
       "\u001b[31m2024-05-07 19:41:49.615249: E external/xla/xla/service/slow_operation_alarm.cc:133] The operation took 1.163501162s\n",
       "Trying algorithm eng20{k2=4,k3=0} for conv (f32[16,32,5,5]{3,2,1,0}, u8[0]{0}) custom-call(f32[1814,32,128,128]{3,2,1,0}, f32[1814,16,128,128]{3,2,1,0}), window={size=5x5 pad=2_2x2_2}, dim_labels=bf01_oi01->bf01, custom_call_target=\"__cudnn$convBackwardFilter\", backend_config={\"operation_queue_id\":\"0\",\"wait_on_operation_queues\":[],\"cudnn_conv_backend_config\":{\"conv_result_scale\":1,\"activation_mode\":\"kNone\",\"side_input_scale\":0,\"leakyrelu_alpha\":0},\"force_earliest_schedule\":false} is taking a while...\n",
       "\u001b[0m"
      ]
     },
     "metadata": {},
     "output_type": "display_data"
    },
    {
     "data": {
      "text/html": [
       "<pre style=\"white-space:pre;overflow-x:auto;line-height:normal;font-family:Menlo,'DejaVu Sans Mono',consolas,'Courier New',monospace\"><span style=\"color: #800000; text-decoration-color: #800000\">2024-05-07 19:41:50.616960: E external/xla/xla/service/slow_operation_alarm.cc:65] Trying algorithm eng20{k2=0,k3=0} for conv (f32[16,32,5,5]{3,2,1,0}, u8[0]{0}) custom-call(f32[1814,32,128,128]{3,2,1,0}, f32[1814,16,128,128]{3,2,1,0}), window={size=5x5 pad=2_2x2_2}, dim_labels=bf01_oi01-&gt;bf01, custom_call_target=\"__cudnn$convBackwardFilter\", backend_config={\"operation_queue_id\":\"0\",\"wait_on_operation_queues\":[],\"cudnn_conv_backend_config\":{\"conv_result_scale\":1,\"activation_mode\":\"kNone\",\"side_input_scale\":0,\"leakyrelu_alpha\":0},\"force_earliest_schedule\":false} is taking a while...\n",
       "</span></pre>\n"
      ],
      "text/plain": [
       "\u001b[31m2024-05-07 19:41:50.616960: E external/xla/xla/service/slow_operation_alarm.cc:65] Trying algorithm eng20{k2=0,k3=0} for conv (f32[16,32,5,5]{3,2,1,0}, u8[0]{0}) custom-call(f32[1814,32,128,128]{3,2,1,0}, f32[1814,16,128,128]{3,2,1,0}), window={size=5x5 pad=2_2x2_2}, dim_labels=bf01_oi01->bf01, custom_call_target=\"__cudnn$convBackwardFilter\", backend_config={\"operation_queue_id\":\"0\",\"wait_on_operation_queues\":[],\"cudnn_conv_backend_config\":{\"conv_result_scale\":1,\"activation_mode\":\"kNone\",\"side_input_scale\":0,\"leakyrelu_alpha\":0},\"force_earliest_schedule\":false} is taking a while...\n",
       "\u001b[0m"
      ]
     },
     "metadata": {},
     "output_type": "display_data"
    },
    {
     "data": {
      "text/html": [
       "<pre style=\"white-space:pre;overflow-x:auto;line-height:normal;font-family:Menlo,'DejaVu Sans Mono',consolas,'Courier New',monospace\"><span style=\"color: #800000; text-decoration-color: #800000\">2024-05-07 19:41:50.779442: E external/xla/xla/service/slow_operation_alarm.cc:133] The operation took 1.163525449s\n",
       "Trying algorithm eng20{k2=0,k3=0} for conv (f32[16,32,5,5]{3,2,1,0}, u8[0]{0}) custom-call(f32[1814,32,128,128]{3,2,1,0}, f32[1814,16,128,128]{3,2,1,0}), window={size=5x5 pad=2_2x2_2}, dim_labels=bf01_oi01-&gt;bf01, custom_call_target=\"__cudnn$convBackwardFilter\", backend_config={\"operation_queue_id\":\"0\",\"wait_on_operation_queues\":[],\"cudnn_conv_backend_config\":{\"conv_result_scale\":1,\"activation_mode\":\"kNone\",\"side_input_scale\":0,\"leakyrelu_alpha\":0},\"force_earliest_schedule\":false} is taking a while...\n",
       "</span></pre>\n"
      ],
      "text/plain": [
       "\u001b[31m2024-05-07 19:41:50.779442: E external/xla/xla/service/slow_operation_alarm.cc:133] The operation took 1.163525449s\n",
       "Trying algorithm eng20{k2=0,k3=0} for conv (f32[16,32,5,5]{3,2,1,0}, u8[0]{0}) custom-call(f32[1814,32,128,128]{3,2,1,0}, f32[1814,16,128,128]{3,2,1,0}), window={size=5x5 pad=2_2x2_2}, dim_labels=bf01_oi01->bf01, custom_call_target=\"__cudnn$convBackwardFilter\", backend_config={\"operation_queue_id\":\"0\",\"wait_on_operation_queues\":[],\"cudnn_conv_backend_config\":{\"conv_result_scale\":1,\"activation_mode\":\"kNone\",\"side_input_scale\":0,\"leakyrelu_alpha\":0},\"force_earliest_schedule\":false} is taking a while...\n",
       "\u001b[0m"
      ]
     },
     "metadata": {},
     "output_type": "display_data"
    },
    {
     "data": {
      "text/html": [
       "<pre style=\"white-space:pre;overflow-x:auto;line-height:normal;font-family:Menlo,'DejaVu Sans Mono',consolas,'Courier New',monospace\"><span style=\"color: #800000; text-decoration-color: #800000\">2024-05-07 19:41:51.780091: E external/xla/xla/service/slow_operation_alarm.cc:65] Trying algorithm eng20{k2=5,k3=0} for conv (f32[16,32,5,5]{3,2,1,0}, u8[0]{0}) custom-call(f32[1814,32,128,128]{3,2,1,0}, f32[1814,16,128,128]{3,2,1,0}), window={size=5x5 pad=2_2x2_2}, dim_labels=bf01_oi01-&gt;bf01, custom_call_target=\"__cudnn$convBackwardFilter\", backend_config={\"operation_queue_id\":\"0\",\"wait_on_operation_queues\":[],\"cudnn_conv_backend_config\":{\"conv_result_scale\":1,\"activation_mode\":\"kNone\",\"side_input_scale\":0,\"leakyrelu_alpha\":0},\"force_earliest_schedule\":false} is taking a while...\n",
       "</span></pre>\n"
      ],
      "text/plain": [
       "\u001b[31m2024-05-07 19:41:51.780091: E external/xla/xla/service/slow_operation_alarm.cc:65] Trying algorithm eng20{k2=5,k3=0} for conv (f32[16,32,5,5]{3,2,1,0}, u8[0]{0}) custom-call(f32[1814,32,128,128]{3,2,1,0}, f32[1814,16,128,128]{3,2,1,0}), window={size=5x5 pad=2_2x2_2}, dim_labels=bf01_oi01->bf01, custom_call_target=\"__cudnn$convBackwardFilter\", backend_config={\"operation_queue_id\":\"0\",\"wait_on_operation_queues\":[],\"cudnn_conv_backend_config\":{\"conv_result_scale\":1,\"activation_mode\":\"kNone\",\"side_input_scale\":0,\"leakyrelu_alpha\":0},\"force_earliest_schedule\":false} is taking a while...\n",
       "\u001b[0m"
      ]
     },
     "metadata": {},
     "output_type": "display_data"
    },
    {
     "data": {
      "text/html": [
       "<pre style=\"white-space:pre;overflow-x:auto;line-height:normal;font-family:Menlo,'DejaVu Sans Mono',consolas,'Courier New',monospace\"><span style=\"color: #800000; text-decoration-color: #800000\">2024-05-07 19:41:51.943427: E external/xla/xla/service/slow_operation_alarm.cc:133] The operation took 1.163455323s\n",
       "Trying algorithm eng20{k2=5,k3=0} for conv (f32[16,32,5,5]{3,2,1,0}, u8[0]{0}) custom-call(f32[1814,32,128,128]{3,2,1,0}, f32[1814,16,128,128]{3,2,1,0}), window={size=5x5 pad=2_2x2_2}, dim_labels=bf01_oi01-&gt;bf01, custom_call_target=\"__cudnn$convBackwardFilter\", backend_config={\"operation_queue_id\":\"0\",\"wait_on_operation_queues\":[],\"cudnn_conv_backend_config\":{\"conv_result_scale\":1,\"activation_mode\":\"kNone\",\"side_input_scale\":0,\"leakyrelu_alpha\":0},\"force_earliest_schedule\":false} is taking a while...\n",
       "</span></pre>\n"
      ],
      "text/plain": [
       "\u001b[31m2024-05-07 19:41:51.943427: E external/xla/xla/service/slow_operation_alarm.cc:133] The operation took 1.163455323s\n",
       "Trying algorithm eng20{k2=5,k3=0} for conv (f32[16,32,5,5]{3,2,1,0}, u8[0]{0}) custom-call(f32[1814,32,128,128]{3,2,1,0}, f32[1814,16,128,128]{3,2,1,0}), window={size=5x5 pad=2_2x2_2}, dim_labels=bf01_oi01->bf01, custom_call_target=\"__cudnn$convBackwardFilter\", backend_config={\"operation_queue_id\":\"0\",\"wait_on_operation_queues\":[],\"cudnn_conv_backend_config\":{\"conv_result_scale\":1,\"activation_mode\":\"kNone\",\"side_input_scale\":0,\"leakyrelu_alpha\":0},\"force_earliest_schedule\":false} is taking a while...\n",
       "\u001b[0m"
      ]
     },
     "metadata": {},
     "output_type": "display_data"
    },
    {
     "data": {
      "text/html": [
       "<pre style=\"white-space:pre;overflow-x:auto;line-height:normal;font-family:Menlo,'DejaVu Sans Mono',consolas,'Courier New',monospace\"><span style=\"color: #800000; text-decoration-color: #800000\">2024-05-07 19:41:52.944648: E external/xla/xla/service/slow_operation_alarm.cc:65] Trying algorithm eng0{} for conv (f32[16,32,5,5]{3,2,1,0}, u8[0]{0}) custom-call(f32[1814,32,128,128]{3,2,1,0}, f32[1814,16,128,128]{3,2,1,0}), window={size=5x5 pad=2_2x2_2}, dim_labels=bf01_oi01-&gt;bf01, custom_call_target=\"__cudnn$convBackwardFilter\", backend_config={\"operation_queue_id\":\"0\",\"wait_on_operation_queues\":[],\"cudnn_conv_backend_config\":{\"conv_result_scale\":1,\"activation_mode\":\"kNone\",\"side_input_scale\":0,\"leakyrelu_alpha\":0},\"force_earliest_schedule\":false} is taking a while...\n",
       "</span></pre>\n"
      ],
      "text/plain": [
       "\u001b[31m2024-05-07 19:41:52.944648: E external/xla/xla/service/slow_operation_alarm.cc:65] Trying algorithm eng0{} for conv (f32[16,32,5,5]{3,2,1,0}, u8[0]{0}) custom-call(f32[1814,32,128,128]{3,2,1,0}, f32[1814,16,128,128]{3,2,1,0}), window={size=5x5 pad=2_2x2_2}, dim_labels=bf01_oi01->bf01, custom_call_target=\"__cudnn$convBackwardFilter\", backend_config={\"operation_queue_id\":\"0\",\"wait_on_operation_queues\":[],\"cudnn_conv_backend_config\":{\"conv_result_scale\":1,\"activation_mode\":\"kNone\",\"side_input_scale\":0,\"leakyrelu_alpha\":0},\"force_earliest_schedule\":false} is taking a while...\n",
       "\u001b[0m"
      ]
     },
     "metadata": {},
     "output_type": "display_data"
    },
    {
     "data": {
      "text/html": [
       "<pre style=\"white-space:pre;overflow-x:auto;line-height:normal;font-family:Menlo,'DejaVu Sans Mono',consolas,'Courier New',monospace\"><span style=\"color: #800000; text-decoration-color: #800000\">2024-05-07 19:41:54.925593: E external/xla/xla/service/slow_operation_alarm.cc:133] The operation took 2.981638124s\n",
       "Trying algorithm eng0{} for conv (f32[16,32,5,5]{3,2,1,0}, u8[0]{0}) custom-call(f32[1814,32,128,128]{3,2,1,0}, f32[1814,16,128,128]{3,2,1,0}), window={size=5x5 pad=2_2x2_2}, dim_labels=bf01_oi01-&gt;bf01, custom_call_target=\"__cudnn$convBackwardFilter\", backend_config={\"operation_queue_id\":\"0\",\"wait_on_operation_queues\":[],\"cudnn_conv_backend_config\":{\"conv_result_scale\":1,\"activation_mode\":\"kNone\",\"side_input_scale\":0,\"leakyrelu_alpha\":0},\"force_earliest_schedule\":false} is taking a while...\n",
       "</span></pre>\n"
      ],
      "text/plain": [
       "\u001b[31m2024-05-07 19:41:54.925593: E external/xla/xla/service/slow_operation_alarm.cc:133] The operation took 2.981638124s\n",
       "Trying algorithm eng0{} for conv (f32[16,32,5,5]{3,2,1,0}, u8[0]{0}) custom-call(f32[1814,32,128,128]{3,2,1,0}, f32[1814,16,128,128]{3,2,1,0}), window={size=5x5 pad=2_2x2_2}, dim_labels=bf01_oi01->bf01, custom_call_target=\"__cudnn$convBackwardFilter\", backend_config={\"operation_queue_id\":\"0\",\"wait_on_operation_queues\":[],\"cudnn_conv_backend_config\":{\"conv_result_scale\":1,\"activation_mode\":\"kNone\",\"side_input_scale\":0,\"leakyrelu_alpha\":0},\"force_earliest_schedule\":false} is taking a while...\n",
       "\u001b[0m"
      ]
     },
     "metadata": {},
     "output_type": "display_data"
    },
    {
     "data": {
      "text/html": [
       "<pre style=\"white-space:pre;overflow-x:auto;line-height:normal;font-family:Menlo,'DejaVu Sans Mono',consolas,'Courier New',monospace\"><span style=\"color: #800000; text-decoration-color: #800000\">2024-05-07 19:41:54.926198: W external/tsl/tsl/framework/bfc_allocator.cc:291] Allocator (GPU_0_bfc) ran out of memory trying to allocate 44.63GiB with freed_by_count=0. The caller indicates that this is not a failure, but this may mean that there could be performance gains if more memory were available.\n",
       "</span></pre>\n"
      ],
      "text/plain": [
       "\u001b[31m2024-05-07 19:41:54.926198: W external/tsl/tsl/framework/bfc_allocator.cc:291] Allocator (GPU_0_bfc) ran out of memory trying to allocate 44.63GiB with freed_by_count=0. The caller indicates that this is not a failure, but this may mean that there could be performance gains if more memory were available.\n",
       "\u001b[0m"
      ]
     },
     "metadata": {},
     "output_type": "display_data"
    },
    {
     "data": {
      "text/html": [
       "<pre style=\"white-space:pre;overflow-x:auto;line-height:normal;font-family:Menlo,'DejaVu Sans Mono',consolas,'Courier New',monospace\"><span style=\"color: #800000; text-decoration-color: #800000\">2024-05-07 19:41:57.815162: E external/xla/xla/service/gpu/buffer_comparator.cc:151] Difference at 0: 7.21136e+06, expected 5.13845e+06\n",
       "</span></pre>\n"
      ],
      "text/plain": [
       "\u001b[31m2024-05-07 19:41:57.815162: E external/xla/xla/service/gpu/buffer_comparator.cc:151] Difference at 0: 7.21136e+06, expected 5.13845e+06\n",
       "\u001b[0m"
      ]
     },
     "metadata": {},
     "output_type": "display_data"
    },
    {
     "data": {
      "text/html": [
       "<pre style=\"white-space:pre;overflow-x:auto;line-height:normal;font-family:Menlo,'DejaVu Sans Mono',consolas,'Courier New',monospace\"><span style=\"color: #800000; text-decoration-color: #800000\">2024-05-07 19:41:57.815722: E external/xla/xla/service/gpu/buffer_comparator.cc:151] Difference at 1: 7.26743e+06, expected 5.16823e+06\n",
       "</span></pre>\n"
      ],
      "text/plain": [
       "\u001b[31m2024-05-07 19:41:57.815722: E external/xla/xla/service/gpu/buffer_comparator.cc:151] Difference at 1: 7.26743e+06, expected 5.16823e+06\n",
       "\u001b[0m"
      ]
     },
     "metadata": {},
     "output_type": "display_data"
    },
    {
     "data": {
      "text/html": [
       "<pre style=\"white-space:pre;overflow-x:auto;line-height:normal;font-family:Menlo,'DejaVu Sans Mono',consolas,'Courier New',monospace\"><span style=\"color: #800000; text-decoration-color: #800000\">2024-05-07 19:41:57.816169: E external/xla/xla/service/gpu/buffer_comparator.cc:151] Difference at 2: 7.32426e+06, expected 5.19831e+06\n",
       "</span></pre>\n"
      ],
      "text/plain": [
       "\u001b[31m2024-05-07 19:41:57.816169: E external/xla/xla/service/gpu/buffer_comparator.cc:151] Difference at 2: 7.32426e+06, expected 5.19831e+06\n",
       "\u001b[0m"
      ]
     },
     "metadata": {},
     "output_type": "display_data"
    },
    {
     "data": {
      "text/html": [
       "<pre style=\"white-space:pre;overflow-x:auto;line-height:normal;font-family:Menlo,'DejaVu Sans Mono',consolas,'Courier New',monospace\"><span style=\"color: #800000; text-decoration-color: #800000\">2024-05-07 19:41:57.816398: E external/xla/xla/service/gpu/buffer_comparator.cc:151] Difference at 3: 7.26841e+06, expected 5.16822e+06\n",
       "</span></pre>\n"
      ],
      "text/plain": [
       "\u001b[31m2024-05-07 19:41:57.816398: E external/xla/xla/service/gpu/buffer_comparator.cc:151] Difference at 3: 7.26841e+06, expected 5.16822e+06\n",
       "\u001b[0m"
      ]
     },
     "metadata": {},
     "output_type": "display_data"
    },
    {
     "data": {
      "text/html": [
       "<pre style=\"white-space:pre;overflow-x:auto;line-height:normal;font-family:Menlo,'DejaVu Sans Mono',consolas,'Courier New',monospace\"><span style=\"color: #800000; text-decoration-color: #800000\">2024-05-07 19:41:57.816648: E external/xla/xla/service/gpu/buffer_comparator.cc:151] Difference at 4: 7.21237e+06, expected 5.14043e+06\n",
       "</span></pre>\n"
      ],
      "text/plain": [
       "\u001b[31m2024-05-07 19:41:57.816648: E external/xla/xla/service/gpu/buffer_comparator.cc:151] Difference at 4: 7.21237e+06, expected 5.14043e+06\n",
       "\u001b[0m"
      ]
     },
     "metadata": {},
     "output_type": "display_data"
    },
    {
     "data": {
      "text/html": [
       "<pre style=\"white-space:pre;overflow-x:auto;line-height:normal;font-family:Menlo,'DejaVu Sans Mono',consolas,'Courier New',monospace\"><span style=\"color: #800000; text-decoration-color: #800000\">2024-05-07 19:41:57.816904: E external/xla/xla/service/gpu/buffer_comparator.cc:151] Difference at 5: 7.26736e+06, expected 5.16556e+06\n",
       "</span></pre>\n"
      ],
      "text/plain": [
       "\u001b[31m2024-05-07 19:41:57.816904: E external/xla/xla/service/gpu/buffer_comparator.cc:151] Difference at 5: 7.26736e+06, expected 5.16556e+06\n",
       "\u001b[0m"
      ]
     },
     "metadata": {},
     "output_type": "display_data"
    },
    {
     "data": {
      "text/html": [
       "<pre style=\"white-space:pre;overflow-x:auto;line-height:normal;font-family:Menlo,'DejaVu Sans Mono',consolas,'Courier New',monospace\"><span style=\"color: #800000; text-decoration-color: #800000\">2024-05-07 19:41:57.817154: E external/xla/xla/service/gpu/buffer_comparator.cc:151] Difference at 6: 7.3244e+06, expected 5.19573e+06\n",
       "</span></pre>\n"
      ],
      "text/plain": [
       "\u001b[31m2024-05-07 19:41:57.817154: E external/xla/xla/service/gpu/buffer_comparator.cc:151] Difference at 6: 7.3244e+06, expected 5.19573e+06\n",
       "\u001b[0m"
      ]
     },
     "metadata": {},
     "output_type": "display_data"
    },
    {
     "data": {
      "text/html": [
       "<pre style=\"white-space:pre;overflow-x:auto;line-height:normal;font-family:Menlo,'DejaVu Sans Mono',consolas,'Courier New',monospace\"><span style=\"color: #800000; text-decoration-color: #800000\">2024-05-07 19:41:57.817376: E external/xla/xla/service/gpu/buffer_comparator.cc:151] Difference at 7: 7.38235e+06, expected 5.22669e+06\n",
       "</span></pre>\n"
      ],
      "text/plain": [
       "\u001b[31m2024-05-07 19:41:57.817376: E external/xla/xla/service/gpu/buffer_comparator.cc:151] Difference at 7: 7.38235e+06, expected 5.22669e+06\n",
       "\u001b[0m"
      ]
     },
     "metadata": {},
     "output_type": "display_data"
    },
    {
     "data": {
      "text/html": [
       "<pre style=\"white-space:pre;overflow-x:auto;line-height:normal;font-family:Menlo,'DejaVu Sans Mono',consolas,'Courier New',monospace\"><span style=\"color: #800000; text-decoration-color: #800000\">2024-05-07 19:41:57.817595: E external/xla/xla/service/gpu/buffer_comparator.cc:151] Difference at 8: 7.32491e+06, expected 5.19605e+06\n",
       "</span></pre>\n"
      ],
      "text/plain": [
       "\u001b[31m2024-05-07 19:41:57.817595: E external/xla/xla/service/gpu/buffer_comparator.cc:151] Difference at 8: 7.32491e+06, expected 5.19605e+06\n",
       "\u001b[0m"
      ]
     },
     "metadata": {},
     "output_type": "display_data"
    },
    {
     "data": {
      "text/html": [
       "<pre style=\"white-space:pre;overflow-x:auto;line-height:normal;font-family:Menlo,'DejaVu Sans Mono',consolas,'Courier New',monospace\"><span style=\"color: #800000; text-decoration-color: #800000\">2024-05-07 19:41:57.817821: E external/xla/xla/service/gpu/buffer_comparator.cc:151] Difference at 9: 7.26794e+06, expected 5.16671e+06\n",
       "</span></pre>\n"
      ],
      "text/plain": [
       "\u001b[31m2024-05-07 19:41:57.817821: E external/xla/xla/service/gpu/buffer_comparator.cc:151] Difference at 9: 7.26794e+06, expected 5.16671e+06\n",
       "\u001b[0m"
      ]
     },
     "metadata": {},
     "output_type": "display_data"
    },
    {
     "data": {
      "text/html": [
       "<pre style=\"white-space:pre;overflow-x:auto;line-height:normal;font-family:Menlo,'DejaVu Sans Mono',consolas,'Courier New',monospace\"><span style=\"color: #800000; text-decoration-color: #800000\">2024-05-07 19:41:57.818046: E external/xla/xla/service/gpu/conv_algorithm_picker.cc:747] Results mismatch between different convolution algorithms. This is likely a bug/unexpected loss of precision in cudnn.\n",
       "(f32[16,32,5,5]{3,2,1,0}, u8[0]{0}) custom-call(f32[1814,32,128,128]{3,2,1,0}, f32[1814,16,128,128]{3,2,1,0}), window={size=5x5 pad=2_2x2_2}, dim_labels=bf01_oi01-&gt;bf01, custom_call_target=\"__cudnn$convBackwardFilter\", backend_config={\"operation_queue_id\":\"0\",\"wait_on_operation_queues\":[],\"cudnn_conv_backend_config\":{\"conv_result_scale\":1,\"activation_mode\":\"kNone\",\"side_input_scale\":0,\"leakyrelu_alpha\":0},\"force_earliest_schedule\":false} for eng50{k0=54,k2=9,k5=2,k14=3} vs eng23{k2=8,k13=1,k14=4,k18=1,k23=0}\n",
       "</span></pre>\n"
      ],
      "text/plain": [
       "\u001b[31m2024-05-07 19:41:57.818046: E external/xla/xla/service/gpu/conv_algorithm_picker.cc:747] Results mismatch between different convolution algorithms. This is likely a bug/unexpected loss of precision in cudnn.\n",
       "(f32[16,32,5,5]{3,2,1,0}, u8[0]{0}) custom-call(f32[1814,32,128,128]{3,2,1,0}, f32[1814,16,128,128]{3,2,1,0}), window={size=5x5 pad=2_2x2_2}, dim_labels=bf01_oi01->bf01, custom_call_target=\"__cudnn$convBackwardFilter\", backend_config={\"operation_queue_id\":\"0\",\"wait_on_operation_queues\":[],\"cudnn_conv_backend_config\":{\"conv_result_scale\":1,\"activation_mode\":\"kNone\",\"side_input_scale\":0,\"leakyrelu_alpha\":0},\"force_earliest_schedule\":false} for eng50{k0=54,k2=9,k5=2,k14=3} vs eng23{k2=8,k13=1,k14=4,k18=1,k23=0}\n",
       "\u001b[0m"
      ]
     },
     "metadata": {},
     "output_type": "display_data"
    },
    {
     "data": {
      "text/html": [
       "<pre style=\"white-space:pre;overflow-x:auto;line-height:normal;font-family:Menlo,'DejaVu Sans Mono',consolas,'Courier New',monospace\"><span style=\"color: #800000; text-decoration-color: #800000\">2024-05-07 19:41:57.818260: E external/xla/xla/service/gpu/conv_algorithm_picker.cc:307] Device: NVIDIA A100-SXM4-40GB\n",
       "</span></pre>\n"
      ],
      "text/plain": [
       "\u001b[31m2024-05-07 19:41:57.818260: E external/xla/xla/service/gpu/conv_algorithm_picker.cc:307] Device: NVIDIA A100-SXM4-40GB\n",
       "\u001b[0m"
      ]
     },
     "metadata": {},
     "output_type": "display_data"
    },
    {
     "data": {
      "text/html": [
       "<pre style=\"white-space:pre;overflow-x:auto;line-height:normal;font-family:Menlo,'DejaVu Sans Mono',consolas,'Courier New',monospace\"><span style=\"color: #800000; text-decoration-color: #800000\">2024-05-07 19:41:57.818466: E external/xla/xla/service/gpu/conv_algorithm_picker.cc:308] Platform: Compute Capability 8.0\n",
       "</span></pre>\n"
      ],
      "text/plain": [
       "\u001b[31m2024-05-07 19:41:57.818466: E external/xla/xla/service/gpu/conv_algorithm_picker.cc:308] Platform: Compute Capability 8.0\n",
       "\u001b[0m"
      ]
     },
     "metadata": {},
     "output_type": "display_data"
    },
    {
     "data": {
      "text/html": [
       "<pre style=\"white-space:pre;overflow-x:auto;line-height:normal;font-family:Menlo,'DejaVu Sans Mono',consolas,'Courier New',monospace\"><span style=\"color: #800000; text-decoration-color: #800000\">2024-05-07 19:41:57.818709: E external/xla/xla/service/gpu/conv_algorithm_picker.cc:309] Driver: 12020 (535.129.3)\n",
       "</span></pre>\n"
      ],
      "text/plain": [
       "\u001b[31m2024-05-07 19:41:57.818709: E external/xla/xla/service/gpu/conv_algorithm_picker.cc:309] Driver: 12020 (535.129.3)\n",
       "\u001b[0m"
      ]
     },
     "metadata": {},
     "output_type": "display_data"
    },
    {
     "data": {
      "text/html": [
       "<pre style=\"white-space:pre;overflow-x:auto;line-height:normal;font-family:Menlo,'DejaVu Sans Mono',consolas,'Courier New',monospace\"><span style=\"color: #800000; text-decoration-color: #800000\">2024-05-07 19:41:57.818924: E external/xla/xla/service/gpu/conv_algorithm_picker.cc:310] Runtime: &lt;undefined&gt;\n",
       "</span></pre>\n"
      ],
      "text/plain": [
       "\u001b[31m2024-05-07 19:41:57.818924: E external/xla/xla/service/gpu/conv_algorithm_picker.cc:310] Runtime: <undefined>\n",
       "\u001b[0m"
      ]
     },
     "metadata": {},
     "output_type": "display_data"
    },
    {
     "data": {
      "text/html": [
       "<pre style=\"white-space:pre;overflow-x:auto;line-height:normal;font-family:Menlo,'DejaVu Sans Mono',consolas,'Courier New',monospace\"><span style=\"color: #800000; text-decoration-color: #800000\">2024-05-07 19:41:57.819121: E external/xla/xla/service/gpu/conv_algorithm_picker.cc:317] cudnn version: 8.9.7\n",
       "</span></pre>\n"
      ],
      "text/plain": [
       "\u001b[31m2024-05-07 19:41:57.819121: E external/xla/xla/service/gpu/conv_algorithm_picker.cc:317] cudnn version: 8.9.7\n",
       "\u001b[0m"
      ]
     },
     "metadata": {},
     "output_type": "display_data"
    },
    {
     "data": {
      "text/html": [
       "<pre style=\"white-space:pre;overflow-x:auto;line-height:normal;font-family:Menlo,'DejaVu Sans Mono',consolas,'Courier New',monospace\"><span style=\"color: #800000; text-decoration-color: #800000\">2024-05-07 19:41:58.819826: E external/xla/xla/service/slow_operation_alarm.cc:65] Trying algorithm eng23{k2=5,k13=1,k14=3,k18=1,k23=0} for conv (f32[16,32,5,5]{3,2,1,0}, u8[0]{0}) custom-call(f32[1814,32,128,128]{3,2,1,0}, f32[1814,16,128,128]{3,2,1,0}), window={size=5x5 pad=2_2x2_2}, dim_labels=bf01_oi01-&gt;bf01, custom_call_target=\"__cudnn$convBackwardFilter\", backend_config={\"operation_queue_id\":\"0\",\"wait_on_operation_queues\":[],\"cudnn_conv_backend_config\":{\"conv_result_scale\":1,\"activation_mode\":\"kNone\",\"side_input_scale\":0,\"leakyrelu_alpha\":0},\"force_earliest_schedule\":false} is taking a while...\n",
       "</span></pre>\n"
      ],
      "text/plain": [
       "\u001b[31m2024-05-07 19:41:58.819826: E external/xla/xla/service/slow_operation_alarm.cc:65] Trying algorithm eng23{k2=5,k13=1,k14=3,k18=1,k23=0} for conv (f32[16,32,5,5]{3,2,1,0}, u8[0]{0}) custom-call(f32[1814,32,128,128]{3,2,1,0}, f32[1814,16,128,128]{3,2,1,0}), window={size=5x5 pad=2_2x2_2}, dim_labels=bf01_oi01->bf01, custom_call_target=\"__cudnn$convBackwardFilter\", backend_config={\"operation_queue_id\":\"0\",\"wait_on_operation_queues\":[],\"cudnn_conv_backend_config\":{\"conv_result_scale\":1,\"activation_mode\":\"kNone\",\"side_input_scale\":0,\"leakyrelu_alpha\":0},\"force_earliest_schedule\":false} is taking a while...\n",
       "\u001b[0m"
      ]
     },
     "metadata": {},
     "output_type": "display_data"
    },
    {
     "data": {
      "text/html": [
       "<pre style=\"white-space:pre;overflow-x:auto;line-height:normal;font-family:Menlo,'DejaVu Sans Mono',consolas,'Courier New',monospace\"><span style=\"color: #800000; text-decoration-color: #800000\">2024-05-07 19:41:59.197250: E external/xla/xla/service/gpu/buffer_comparator.cc:151] Difference at 0: 7.21136e+06, expected 5.13845e+06\n",
       "</span></pre>\n"
      ],
      "text/plain": [
       "\u001b[31m2024-05-07 19:41:59.197250: E external/xla/xla/service/gpu/buffer_comparator.cc:151] Difference at 0: 7.21136e+06, expected 5.13845e+06\n",
       "\u001b[0m"
      ]
     },
     "metadata": {},
     "output_type": "display_data"
    },
    {
     "data": {
      "text/html": [
       "<pre style=\"white-space:pre;overflow-x:auto;line-height:normal;font-family:Menlo,'DejaVu Sans Mono',consolas,'Courier New',monospace\"><span style=\"color: #800000; text-decoration-color: #800000\">2024-05-07 19:41:59.197846: E external/xla/xla/service/gpu/buffer_comparator.cc:151] Difference at 1: 7.26743e+06, expected 5.16823e+06\n",
       "</span></pre>\n"
      ],
      "text/plain": [
       "\u001b[31m2024-05-07 19:41:59.197846: E external/xla/xla/service/gpu/buffer_comparator.cc:151] Difference at 1: 7.26743e+06, expected 5.16823e+06\n",
       "\u001b[0m"
      ]
     },
     "metadata": {},
     "output_type": "display_data"
    },
    {
     "data": {
      "text/html": [
       "<pre style=\"white-space:pre;overflow-x:auto;line-height:normal;font-family:Menlo,'DejaVu Sans Mono',consolas,'Courier New',monospace\"><span style=\"color: #800000; text-decoration-color: #800000\">2024-05-07 19:41:59.198220: E external/xla/xla/service/gpu/buffer_comparator.cc:151] Difference at 2: 7.32426e+06, expected 5.19831e+06\n",
       "</span></pre>\n"
      ],
      "text/plain": [
       "\u001b[31m2024-05-07 19:41:59.198220: E external/xla/xla/service/gpu/buffer_comparator.cc:151] Difference at 2: 7.32426e+06, expected 5.19831e+06\n",
       "\u001b[0m"
      ]
     },
     "metadata": {},
     "output_type": "display_data"
    },
    {
     "data": {
      "text/html": [
       "<pre style=\"white-space:pre;overflow-x:auto;line-height:normal;font-family:Menlo,'DejaVu Sans Mono',consolas,'Courier New',monospace\"><span style=\"color: #800000; text-decoration-color: #800000\">2024-05-07 19:41:59.198454: E external/xla/xla/service/gpu/buffer_comparator.cc:151] Difference at 3: 7.26841e+06, expected 5.16822e+06\n",
       "</span></pre>\n"
      ],
      "text/plain": [
       "\u001b[31m2024-05-07 19:41:59.198454: E external/xla/xla/service/gpu/buffer_comparator.cc:151] Difference at 3: 7.26841e+06, expected 5.16822e+06\n",
       "\u001b[0m"
      ]
     },
     "metadata": {},
     "output_type": "display_data"
    },
    {
     "data": {
      "text/html": [
       "<pre style=\"white-space:pre;overflow-x:auto;line-height:normal;font-family:Menlo,'DejaVu Sans Mono',consolas,'Courier New',monospace\"><span style=\"color: #800000; text-decoration-color: #800000\">2024-05-07 19:41:59.198659: E external/xla/xla/service/gpu/buffer_comparator.cc:151] Difference at 4: 7.21237e+06, expected 5.14043e+06\n",
       "</span></pre>\n"
      ],
      "text/plain": [
       "\u001b[31m2024-05-07 19:41:59.198659: E external/xla/xla/service/gpu/buffer_comparator.cc:151] Difference at 4: 7.21237e+06, expected 5.14043e+06\n",
       "\u001b[0m"
      ]
     },
     "metadata": {},
     "output_type": "display_data"
    },
    {
     "data": {
      "text/html": [
       "<pre style=\"white-space:pre;overflow-x:auto;line-height:normal;font-family:Menlo,'DejaVu Sans Mono',consolas,'Courier New',monospace\"><span style=\"color: #800000; text-decoration-color: #800000\">2024-05-07 19:41:59.198886: E external/xla/xla/service/gpu/buffer_comparator.cc:151] Difference at 5: 7.26736e+06, expected 5.16556e+06\n",
       "</span></pre>\n"
      ],
      "text/plain": [
       "\u001b[31m2024-05-07 19:41:59.198886: E external/xla/xla/service/gpu/buffer_comparator.cc:151] Difference at 5: 7.26736e+06, expected 5.16556e+06\n",
       "\u001b[0m"
      ]
     },
     "metadata": {},
     "output_type": "display_data"
    },
    {
     "data": {
      "text/html": [
       "<pre style=\"white-space:pre;overflow-x:auto;line-height:normal;font-family:Menlo,'DejaVu Sans Mono',consolas,'Courier New',monospace\"><span style=\"color: #800000; text-decoration-color: #800000\">2024-05-07 19:41:59.199054: E external/xla/xla/service/gpu/buffer_comparator.cc:151] Difference at 6: 7.3244e+06, expected 5.19573e+06\n",
       "</span></pre>\n"
      ],
      "text/plain": [
       "\u001b[31m2024-05-07 19:41:59.199054: E external/xla/xla/service/gpu/buffer_comparator.cc:151] Difference at 6: 7.3244e+06, expected 5.19573e+06\n",
       "\u001b[0m"
      ]
     },
     "metadata": {},
     "output_type": "display_data"
    },
    {
     "data": {
      "text/html": [
       "<pre style=\"white-space:pre;overflow-x:auto;line-height:normal;font-family:Menlo,'DejaVu Sans Mono',consolas,'Courier New',monospace\"><span style=\"color: #800000; text-decoration-color: #800000\">2024-05-07 19:41:59.199229: E external/xla/xla/service/gpu/buffer_comparator.cc:151] Difference at 7: 7.38235e+06, expected 5.22669e+06\n",
       "</span></pre>\n"
      ],
      "text/plain": [
       "\u001b[31m2024-05-07 19:41:59.199229: E external/xla/xla/service/gpu/buffer_comparator.cc:151] Difference at 7: 7.38235e+06, expected 5.22669e+06\n",
       "\u001b[0m"
      ]
     },
     "metadata": {},
     "output_type": "display_data"
    },
    {
     "data": {
      "text/html": [
       "<pre style=\"white-space:pre;overflow-x:auto;line-height:normal;font-family:Menlo,'DejaVu Sans Mono',consolas,'Courier New',monospace\"><span style=\"color: #800000; text-decoration-color: #800000\">2024-05-07 19:41:59.199400: E external/xla/xla/service/gpu/buffer_comparator.cc:151] Difference at 8: 7.32491e+06, expected 5.19605e+06\n",
       "</span></pre>\n"
      ],
      "text/plain": [
       "\u001b[31m2024-05-07 19:41:59.199400: E external/xla/xla/service/gpu/buffer_comparator.cc:151] Difference at 8: 7.32491e+06, expected 5.19605e+06\n",
       "\u001b[0m"
      ]
     },
     "metadata": {},
     "output_type": "display_data"
    },
    {
     "data": {
      "text/html": [
       "<pre style=\"white-space:pre;overflow-x:auto;line-height:normal;font-family:Menlo,'DejaVu Sans Mono',consolas,'Courier New',monospace\"><span style=\"color: #800000; text-decoration-color: #800000\">2024-05-07 19:41:59.199581: E external/xla/xla/service/gpu/buffer_comparator.cc:151] Difference at 9: 7.26794e+06, expected 5.16671e+06\n",
       "</span></pre>\n"
      ],
      "text/plain": [
       "\u001b[31m2024-05-07 19:41:59.199581: E external/xla/xla/service/gpu/buffer_comparator.cc:151] Difference at 9: 7.26794e+06, expected 5.16671e+06\n",
       "\u001b[0m"
      ]
     },
     "metadata": {},
     "output_type": "display_data"
    },
    {
     "data": {
      "text/html": [
       "<pre style=\"white-space:pre;overflow-x:auto;line-height:normal;font-family:Menlo,'DejaVu Sans Mono',consolas,'Courier New',monospace\"><span style=\"color: #800000; text-decoration-color: #800000\">2024-05-07 19:41:59.199756: E external/xla/xla/service/gpu/conv_algorithm_picker.cc:747] Results mismatch between different convolution algorithms. This is likely a bug/unexpected loss of precision in cudnn.\n",
       "(f32[16,32,5,5]{3,2,1,0}, u8[0]{0}) custom-call(f32[1814,32,128,128]{3,2,1,0}, f32[1814,16,128,128]{3,2,1,0}), window={size=5x5 pad=2_2x2_2}, dim_labels=bf01_oi01-&gt;bf01, custom_call_target=\"__cudnn$convBackwardFilter\", backend_config={\"operation_queue_id\":\"0\",\"wait_on_operation_queues\":[],\"cudnn_conv_backend_config\":{\"conv_result_scale\":1,\"activation_mode\":\"kNone\",\"side_input_scale\":0,\"leakyrelu_alpha\":0},\"force_earliest_schedule\":false} for eng50{k0=54,k2=9,k5=2,k14=3} vs eng23{k2=5,k13=1,k14=3,k18=1,k23=0}\n",
       "</span></pre>\n"
      ],
      "text/plain": [
       "\u001b[31m2024-05-07 19:41:59.199756: E external/xla/xla/service/gpu/conv_algorithm_picker.cc:747] Results mismatch between different convolution algorithms. This is likely a bug/unexpected loss of precision in cudnn.\n",
       "(f32[16,32,5,5]{3,2,1,0}, u8[0]{0}) custom-call(f32[1814,32,128,128]{3,2,1,0}, f32[1814,16,128,128]{3,2,1,0}), window={size=5x5 pad=2_2x2_2}, dim_labels=bf01_oi01->bf01, custom_call_target=\"__cudnn$convBackwardFilter\", backend_config={\"operation_queue_id\":\"0\",\"wait_on_operation_queues\":[],\"cudnn_conv_backend_config\":{\"conv_result_scale\":1,\"activation_mode\":\"kNone\",\"side_input_scale\":0,\"leakyrelu_alpha\":0},\"force_earliest_schedule\":false} for eng50{k0=54,k2=9,k5=2,k14=3} vs eng23{k2=5,k13=1,k14=3,k18=1,k23=0}\n",
       "\u001b[0m"
      ]
     },
     "metadata": {},
     "output_type": "display_data"
    },
    {
     "data": {
      "text/html": [
       "<pre style=\"white-space:pre;overflow-x:auto;line-height:normal;font-family:Menlo,'DejaVu Sans Mono',consolas,'Courier New',monospace\"><span style=\"color: #800000; text-decoration-color: #800000\">2024-05-07 19:41:59.199939: E external/xla/xla/service/gpu/conv_algorithm_picker.cc:307] Device: NVIDIA A100-SXM4-40GB\n",
       "</span></pre>\n"
      ],
      "text/plain": [
       "\u001b[31m2024-05-07 19:41:59.199939: E external/xla/xla/service/gpu/conv_algorithm_picker.cc:307] Device: NVIDIA A100-SXM4-40GB\n",
       "\u001b[0m"
      ]
     },
     "metadata": {},
     "output_type": "display_data"
    },
    {
     "data": {
      "text/html": [
       "<pre style=\"white-space:pre;overflow-x:auto;line-height:normal;font-family:Menlo,'DejaVu Sans Mono',consolas,'Courier New',monospace\"><span style=\"color: #800000; text-decoration-color: #800000\">2024-05-07 19:41:59.200136: E external/xla/xla/service/gpu/conv_algorithm_picker.cc:308] Platform: Compute Capability 8.0\n",
       "</span></pre>\n"
      ],
      "text/plain": [
       "\u001b[31m2024-05-07 19:41:59.200136: E external/xla/xla/service/gpu/conv_algorithm_picker.cc:308] Platform: Compute Capability 8.0\n",
       "\u001b[0m"
      ]
     },
     "metadata": {},
     "output_type": "display_data"
    },
    {
     "data": {
      "text/html": [
       "<pre style=\"white-space:pre;overflow-x:auto;line-height:normal;font-family:Menlo,'DejaVu Sans Mono',consolas,'Courier New',monospace\"><span style=\"color: #800000; text-decoration-color: #800000\">2024-05-07 19:41:59.200305: E external/xla/xla/service/gpu/conv_algorithm_picker.cc:309] Driver: 12020 (535.129.3)\n",
       "</span></pre>\n"
      ],
      "text/plain": [
       "\u001b[31m2024-05-07 19:41:59.200305: E external/xla/xla/service/gpu/conv_algorithm_picker.cc:309] Driver: 12020 (535.129.3)\n",
       "\u001b[0m"
      ]
     },
     "metadata": {},
     "output_type": "display_data"
    },
    {
     "data": {
      "text/html": [
       "<pre style=\"white-space:pre;overflow-x:auto;line-height:normal;font-family:Menlo,'DejaVu Sans Mono',consolas,'Courier New',monospace\"><span style=\"color: #800000; text-decoration-color: #800000\">2024-05-07 19:41:59.200483: E external/xla/xla/service/gpu/conv_algorithm_picker.cc:310] Runtime: &lt;undefined&gt;\n",
       "</span></pre>\n"
      ],
      "text/plain": [
       "\u001b[31m2024-05-07 19:41:59.200483: E external/xla/xla/service/gpu/conv_algorithm_picker.cc:310] Runtime: <undefined>\n",
       "\u001b[0m"
      ]
     },
     "metadata": {},
     "output_type": "display_data"
    },
    {
     "data": {
      "text/html": [
       "<pre style=\"white-space:pre;overflow-x:auto;line-height:normal;font-family:Menlo,'DejaVu Sans Mono',consolas,'Courier New',monospace\"><span style=\"color: #800000; text-decoration-color: #800000\">2024-05-07 19:41:59.200651: E external/xla/xla/service/gpu/conv_algorithm_picker.cc:317] cudnn version: 8.9.7\n",
       "</span></pre>\n"
      ],
      "text/plain": [
       "\u001b[31m2024-05-07 19:41:59.200651: E external/xla/xla/service/gpu/conv_algorithm_picker.cc:317] cudnn version: 8.9.7\n",
       "\u001b[0m"
      ]
     },
     "metadata": {},
     "output_type": "display_data"
    },
    {
     "data": {
      "text/html": [
       "<pre style=\"white-space:pre;overflow-x:auto;line-height:normal;font-family:Menlo,'DejaVu Sans Mono',consolas,'Courier New',monospace\"><span style=\"color: #800000; text-decoration-color: #800000\">2024-05-07 19:41:59.200851: E external/xla/xla/service/slow_operation_alarm.cc:133] The operation took 1.381460901s\n",
       "Trying algorithm eng23{k2=5,k13=1,k14=3,k18=1,k23=0} for conv (f32[16,32,5,5]{3,2,1,0}, u8[0]{0}) custom-call(f32[1814,32,128,128]{3,2,1,0}, f32[1814,16,128,128]{3,2,1,0}), window={size=5x5 pad=2_2x2_2}, dim_labels=bf01_oi01-&gt;bf01, custom_call_target=\"__cudnn$convBackwardFilter\", backend_config={\"operation_queue_id\":\"0\",\"wait_on_operation_queues\":[],\"cudnn_conv_backend_config\":{\"conv_result_scale\":1,\"activation_mode\":\"kNone\",\"side_input_scale\":0,\"leakyrelu_alpha\":0},\"force_earliest_schedule\":false} is taking a while...\n",
       "</span></pre>\n"
      ],
      "text/plain": [
       "\u001b[31m2024-05-07 19:41:59.200851: E external/xla/xla/service/slow_operation_alarm.cc:133] The operation took 1.381460901s\n",
       "Trying algorithm eng23{k2=5,k13=1,k14=3,k18=1,k23=0} for conv (f32[16,32,5,5]{3,2,1,0}, u8[0]{0}) custom-call(f32[1814,32,128,128]{3,2,1,0}, f32[1814,16,128,128]{3,2,1,0}), window={size=5x5 pad=2_2x2_2}, dim_labels=bf01_oi01->bf01, custom_call_target=\"__cudnn$convBackwardFilter\", backend_config={\"operation_queue_id\":\"0\",\"wait_on_operation_queues\":[],\"cudnn_conv_backend_config\":{\"conv_result_scale\":1,\"activation_mode\":\"kNone\",\"side_input_scale\":0,\"leakyrelu_alpha\":0},\"force_earliest_schedule\":false} is taking a while...\n",
       "\u001b[0m"
      ]
     },
     "metadata": {},
     "output_type": "display_data"
    },
    {
     "data": {
      "text/html": [
       "<pre style=\"white-space:pre;overflow-x:auto;line-height:normal;font-family:Menlo,'DejaVu Sans Mono',consolas,'Courier New',monospace\"><span style=\"color: #800000; text-decoration-color: #800000\">2024-05-07 19:42:02.154642: W external/tsl/tsl/framework/bfc_allocator.cc:291] Allocator (GPU_0_bfc) ran out of memory trying to allocate 19.50GiB with freed_by_count=0. The caller indicates that this is not a failure, but this may mean that there could be performance gains if more memory were available.\n",
       "</span></pre>\n"
      ],
      "text/plain": [
       "\u001b[31m2024-05-07 19:42:02.154642: W external/tsl/tsl/framework/bfc_allocator.cc:291] Allocator (GPU_0_bfc) ran out of memory trying to allocate 19.50GiB with freed_by_count=0. The caller indicates that this is not a failure, but this may mean that there could be performance gains if more memory were available.\n",
       "\u001b[0m"
      ]
     },
     "metadata": {},
     "output_type": "display_data"
    },
    {
     "data": {
      "text/html": [
       "<pre style=\"white-space:pre;overflow-x:auto;line-height:normal;font-family:Menlo,'DejaVu Sans Mono',consolas,'Courier New',monospace\"><span style=\"color: #800000; text-decoration-color: #800000\">2024-05-07 19:42:02.155197: W external/tsl/tsl/framework/bfc_allocator.cc:291] Allocator (GPU_0_bfc) ran out of memory trying to allocate 33.68GiB with freed_by_count=0. The caller indicates that this is not a failure, but this may mean that there could be performance gains if more memory were available.\n",
       "</span></pre>\n"
      ],
      "text/plain": [
       "\u001b[31m2024-05-07 19:42:02.155197: W external/tsl/tsl/framework/bfc_allocator.cc:291] Allocator (GPU_0_bfc) ran out of memory trying to allocate 33.68GiB with freed_by_count=0. The caller indicates that this is not a failure, but this may mean that there could be performance gains if more memory were available.\n",
       "\u001b[0m"
      ]
     },
     "metadata": {},
     "output_type": "display_data"
    },
    {
     "data": {
      "text/html": [
       "<pre style=\"white-space:pre;overflow-x:auto;line-height:normal;font-family:Menlo,'DejaVu Sans Mono',consolas,'Courier New',monospace\"><span style=\"color: #800000; text-decoration-color: #800000\">2024-05-07 19:42:03.156772: E external/xla/xla/service/slow_operation_alarm.cc:65] Trying algorithm eng2{k2=0,k3=0} for conv (f32[1814,32,128,128]{3,2,1,0}, u8[0]{0}) custom-call(f32[1814,16,128,128]{3,2,1,0}, f32[16,32,5,5]{3,2,1,0}), window={size=5x5 pad=2_2x2_2}, dim_labels=bf01_oi01-&gt;bf01, custom_call_target=\"__cudnn$convBackwardInput\", backend_config={\"operation_queue_id\":\"0\",\"wait_on_operation_queues\":[],\"cudnn_conv_backend_config\":{\"conv_result_scale\":1,\"activation_mode\":\"kNone\",\"side_input_scale\":0,\"leakyrelu_alpha\":0},\"force_earliest_schedule\":false} is taking a while...\n",
       "</span></pre>\n"
      ],
      "text/plain": [
       "\u001b[31m2024-05-07 19:42:03.156772: E external/xla/xla/service/slow_operation_alarm.cc:65] Trying algorithm eng2{k2=0,k3=0} for conv (f32[1814,32,128,128]{3,2,1,0}, u8[0]{0}) custom-call(f32[1814,16,128,128]{3,2,1,0}, f32[16,32,5,5]{3,2,1,0}), window={size=5x5 pad=2_2x2_2}, dim_labels=bf01_oi01->bf01, custom_call_target=\"__cudnn$convBackwardInput\", backend_config={\"operation_queue_id\":\"0\",\"wait_on_operation_queues\":[],\"cudnn_conv_backend_config\":{\"conv_result_scale\":1,\"activation_mode\":\"kNone\",\"side_input_scale\":0,\"leakyrelu_alpha\":0},\"force_earliest_schedule\":false} is taking a while...\n",
       "\u001b[0m"
      ]
     },
     "metadata": {},
     "output_type": "display_data"
    },
    {
     "data": {
      "text/html": [
       "<pre style=\"white-space:pre;overflow-x:auto;line-height:normal;font-family:Menlo,'DejaVu Sans Mono',consolas,'Courier New',monospace\"><span style=\"color: #800000; text-decoration-color: #800000\">2024-05-07 19:42:03.602535: E external/xla/xla/service/slow_operation_alarm.cc:133] The operation took 1.446890945s\n",
       "Trying algorithm eng2{k2=0,k3=0} for conv (f32[1814,32,128,128]{3,2,1,0}, u8[0]{0}) custom-call(f32[1814,16,128,128]{3,2,1,0}, f32[16,32,5,5]{3,2,1,0}), window={size=5x5 pad=2_2x2_2}, dim_labels=bf01_oi01-&gt;bf01, custom_call_target=\"__cudnn$convBackwardInput\", backend_config={\"operation_queue_id\":\"0\",\"wait_on_operation_queues\":[],\"cudnn_conv_backend_config\":{\"conv_result_scale\":1,\"activation_mode\":\"kNone\",\"side_input_scale\":0,\"leakyrelu_alpha\":0},\"force_earliest_schedule\":false} is taking a while...\n",
       "</span></pre>\n"
      ],
      "text/plain": [
       "\u001b[31m2024-05-07 19:42:03.602535: E external/xla/xla/service/slow_operation_alarm.cc:133] The operation took 1.446890945s\n",
       "Trying algorithm eng2{k2=0,k3=0} for conv (f32[1814,32,128,128]{3,2,1,0}, u8[0]{0}) custom-call(f32[1814,16,128,128]{3,2,1,0}, f32[16,32,5,5]{3,2,1,0}), window={size=5x5 pad=2_2x2_2}, dim_labels=bf01_oi01->bf01, custom_call_target=\"__cudnn$convBackwardInput\", backend_config={\"operation_queue_id\":\"0\",\"wait_on_operation_queues\":[],\"cudnn_conv_backend_config\":{\"conv_result_scale\":1,\"activation_mode\":\"kNone\",\"side_input_scale\":0,\"leakyrelu_alpha\":0},\"force_earliest_schedule\":false} is taking a while...\n",
       "\u001b[0m"
      ]
     },
     "metadata": {},
     "output_type": "display_data"
    },
    {
     "data": {
      "text/html": [
       "<pre style=\"white-space:pre;overflow-x:auto;line-height:normal;font-family:Menlo,'DejaVu Sans Mono',consolas,'Courier New',monospace\"><span style=\"color: #800000; text-decoration-color: #800000\">2024-05-07 19:42:06.355091: E external/xla/xla/service/slow_operation_alarm.cc:65] Trying algorithm eng0{} for conv (f32[1814,32,128,128]{3,2,1,0}, u8[0]{0}) custom-call(f32[1814,16,128,128]{3,2,1,0}, f32[16,32,5,5]{3,2,1,0}), window={size=5x5 pad=2_2x2_2}, dim_labels=bf01_oi01-&gt;bf01, custom_call_target=\"__cudnn$convBackwardInput\", backend_config={\"operation_queue_id\":\"0\",\"wait_on_operation_queues\":[],\"cudnn_conv_backend_config\":{\"conv_result_scale\":1,\"activation_mode\":\"kNone\",\"side_input_scale\":0,\"leakyrelu_alpha\":0},\"force_earliest_schedule\":false} is taking a while...\n",
       "</span></pre>\n"
      ],
      "text/plain": [
       "\u001b[31m2024-05-07 19:42:06.355091: E external/xla/xla/service/slow_operation_alarm.cc:65] Trying algorithm eng0{} for conv (f32[1814,32,128,128]{3,2,1,0}, u8[0]{0}) custom-call(f32[1814,16,128,128]{3,2,1,0}, f32[16,32,5,5]{3,2,1,0}), window={size=5x5 pad=2_2x2_2}, dim_labels=bf01_oi01->bf01, custom_call_target=\"__cudnn$convBackwardInput\", backend_config={\"operation_queue_id\":\"0\",\"wait_on_operation_queues\":[],\"cudnn_conv_backend_config\":{\"conv_result_scale\":1,\"activation_mode\":\"kNone\",\"side_input_scale\":0,\"leakyrelu_alpha\":0},\"force_earliest_schedule\":false} is taking a while...\n",
       "\u001b[0m"
      ]
     },
     "metadata": {},
     "output_type": "display_data"
    },
    {
     "data": {
      "text/html": [
       "<pre style=\"white-space:pre;overflow-x:auto;line-height:normal;font-family:Menlo,'DejaVu Sans Mono',consolas,'Courier New',monospace\"><span style=\"color: #800000; text-decoration-color: #800000\">2024-05-07 19:42:07.343082: E external/xla/xla/service/slow_operation_alarm.cc:133] The operation took 1.988525956s\n",
       "Trying algorithm eng0{} for conv (f32[1814,32,128,128]{3,2,1,0}, u8[0]{0}) custom-call(f32[1814,16,128,128]{3,2,1,0}, f32[16,32,5,5]{3,2,1,0}), window={size=5x5 pad=2_2x2_2}, dim_labels=bf01_oi01-&gt;bf01, custom_call_target=\"__cudnn$convBackwardInput\", backend_config={\"operation_queue_id\":\"0\",\"wait_on_operation_queues\":[],\"cudnn_conv_backend_config\":{\"conv_result_scale\":1,\"activation_mode\":\"kNone\",\"side_input_scale\":0,\"leakyrelu_alpha\":0},\"force_earliest_schedule\":false} is taking a while...\n",
       "</span></pre>\n"
      ],
      "text/plain": [
       "\u001b[31m2024-05-07 19:42:07.343082: E external/xla/xla/service/slow_operation_alarm.cc:133] The operation took 1.988525956s\n",
       "Trying algorithm eng0{} for conv (f32[1814,32,128,128]{3,2,1,0}, u8[0]{0}) custom-call(f32[1814,16,128,128]{3,2,1,0}, f32[16,32,5,5]{3,2,1,0}), window={size=5x5 pad=2_2x2_2}, dim_labels=bf01_oi01->bf01, custom_call_target=\"__cudnn$convBackwardInput\", backend_config={\"operation_queue_id\":\"0\",\"wait_on_operation_queues\":[],\"cudnn_conv_backend_config\":{\"conv_result_scale\":1,\"activation_mode\":\"kNone\",\"side_input_scale\":0,\"leakyrelu_alpha\":0},\"force_earliest_schedule\":false} is taking a while...\n",
       "\u001b[0m"
      ]
     },
     "metadata": {},
     "output_type": "display_data"
    },
    {
     "data": {
      "text/html": [
       "<pre style=\"white-space:pre;overflow-x:auto;line-height:normal;font-family:Menlo,'DejaVu Sans Mono',consolas,'Courier New',monospace\"><span style=\"color: #800000; text-decoration-color: #800000\">2024-05-07 19:42:10.973751: E external/xla/xla/service/slow_operation_alarm.cc:65] Trying algorithm eng2{k2=1,k3=0} for conv (f32[1814,32,128,128]{3,2,1,0}, u8[0]{0}) custom-call(f32[1814,16,128,128]{3,2,1,0}, f32[16,32,5,5]{3,2,1,0}), window={size=5x5 pad=2_2x2_2}, dim_labels=bf01_oi01-&gt;bf01, custom_call_target=\"__cudnn$convBackwardInput\", backend_config={\"operation_queue_id\":\"0\",\"wait_on_operation_queues\":[],\"cudnn_conv_backend_config\":{\"conv_result_scale\":1,\"activation_mode\":\"kNone\",\"side_input_scale\":0,\"leakyrelu_alpha\":0},\"force_earliest_schedule\":false} is taking a while...\n",
       "</span></pre>\n"
      ],
      "text/plain": [
       "\u001b[31m2024-05-07 19:42:10.973751: E external/xla/xla/service/slow_operation_alarm.cc:65] Trying algorithm eng2{k2=1,k3=0} for conv (f32[1814,32,128,128]{3,2,1,0}, u8[0]{0}) custom-call(f32[1814,16,128,128]{3,2,1,0}, f32[16,32,5,5]{3,2,1,0}), window={size=5x5 pad=2_2x2_2}, dim_labels=bf01_oi01->bf01, custom_call_target=\"__cudnn$convBackwardInput\", backend_config={\"operation_queue_id\":\"0\",\"wait_on_operation_queues\":[],\"cudnn_conv_backend_config\":{\"conv_result_scale\":1,\"activation_mode\":\"kNone\",\"side_input_scale\":0,\"leakyrelu_alpha\":0},\"force_earliest_schedule\":false} is taking a while...\n",
       "\u001b[0m"
      ]
     },
     "metadata": {},
     "output_type": "display_data"
    },
    {
     "data": {
      "text/html": [
       "<pre style=\"white-space:pre;overflow-x:auto;line-height:normal;font-family:Menlo,'DejaVu Sans Mono',consolas,'Courier New',monospace\"><span style=\"color: #800000; text-decoration-color: #800000\">2024-05-07 19:42:11.374164: E external/xla/xla/service/slow_operation_alarm.cc:133] The operation took 1.401550228s\n",
       "Trying algorithm eng2{k2=1,k3=0} for conv (f32[1814,32,128,128]{3,2,1,0}, u8[0]{0}) custom-call(f32[1814,16,128,128]{3,2,1,0}, f32[16,32,5,5]{3,2,1,0}), window={size=5x5 pad=2_2x2_2}, dim_labels=bf01_oi01-&gt;bf01, custom_call_target=\"__cudnn$convBackwardInput\", backend_config={\"operation_queue_id\":\"0\",\"wait_on_operation_queues\":[],\"cudnn_conv_backend_config\":{\"conv_result_scale\":1,\"activation_mode\":\"kNone\",\"side_input_scale\":0,\"leakyrelu_alpha\":0},\"force_earliest_schedule\":false} is taking a while...\n",
       "</span></pre>\n"
      ],
      "text/plain": [
       "\u001b[31m2024-05-07 19:42:11.374164: E external/xla/xla/service/slow_operation_alarm.cc:133] The operation took 1.401550228s\n",
       "Trying algorithm eng2{k2=1,k3=0} for conv (f32[1814,32,128,128]{3,2,1,0}, u8[0]{0}) custom-call(f32[1814,16,128,128]{3,2,1,0}, f32[16,32,5,5]{3,2,1,0}), window={size=5x5 pad=2_2x2_2}, dim_labels=bf01_oi01->bf01, custom_call_target=\"__cudnn$convBackwardInput\", backend_config={\"operation_queue_id\":\"0\",\"wait_on_operation_queues\":[],\"cudnn_conv_backend_config\":{\"conv_result_scale\":1,\"activation_mode\":\"kNone\",\"side_input_scale\":0,\"leakyrelu_alpha\":0},\"force_earliest_schedule\":false} is taking a while...\n",
       "\u001b[0m"
      ]
     },
     "metadata": {},
     "output_type": "display_data"
    },
    {
     "data": {
      "text/html": [
       "<pre style=\"white-space:pre;overflow-x:auto;line-height:normal;font-family:Menlo,'DejaVu Sans Mono',consolas,'Courier New',monospace\"><span style=\"color: #800000; text-decoration-color: #800000\">2024-05-07 19:42:15.680244: W external/tsl/tsl/framework/bfc_allocator.cc:291] Allocator (GPU_0_bfc) ran out of memory trying to allocate 34.80GiB with freed_by_count=0. The caller indicates that this is not a failure, but this may mean that there could be performance gains if more memory were available.\n",
       "</span></pre>\n"
      ],
      "text/plain": [
       "\u001b[31m2024-05-07 19:42:15.680244: W external/tsl/tsl/framework/bfc_allocator.cc:291] Allocator (GPU_0_bfc) ran out of memory trying to allocate 34.80GiB with freed_by_count=0. The caller indicates that this is not a failure, but this may mean that there could be performance gains if more memory were available.\n",
       "\u001b[0m"
      ]
     },
     "metadata": {},
     "output_type": "display_data"
    },
    {
     "data": {
      "text/html": [
       "<pre style=\"white-space:pre;overflow-x:auto;line-height:normal;font-family:Menlo,'DejaVu Sans Mono',consolas,'Courier New',monospace\"><span style=\"color: #000080; text-decoration-color: #000080\"></span></pre>\n"
      ],
      "text/plain": []
     },
     "metadata": {},
     "output_type": "display_data"
    },
    {
     "data": {
      "text/html": [
       "<pre style=\"white-space:pre;overflow-x:auto;line-height:normal;font-family:Menlo,'DejaVu Sans Mono',consolas,'Courier New',monospace\"><span style=\"color: #000080; text-decoration-color: #000080\">epoch:0, train_loss: 1.5025955438613892, test_loss: 1.39943265914917\n",
       "</span></pre>\n"
      ],
      "text/plain": [
       "\u001b[34mepoch:0, train_loss: 1.5025955438613892, test_loss: 1.39943265914917\n",
       "\u001b[0m"
      ]
     },
     "metadata": {},
     "output_type": "display_data"
    },
    {
     "data": {
      "text/html": [
       "<pre style=\"white-space:pre;overflow-x:auto;line-height:normal;font-family:Menlo,'DejaVu Sans Mono',consolas,'Courier New',monospace\"><span style=\"color: #000080; text-decoration-color: #000080\"></span></pre>\n"
      ],
      "text/plain": []
     },
     "metadata": {},
     "output_type": "display_data"
    },
    {
     "data": {
      "text/html": [
       "<pre style=\"white-space:pre;overflow-x:auto;line-height:normal;font-family:Menlo,'DejaVu Sans Mono',consolas,'Courier New',monospace\"><span style=\"color: #000080; text-decoration-color: #000080\">epoch:0, train_accuracy: 49.46815073490143, test_accuracy: 50.24197006225586\n",
       "</span></pre>\n"
      ],
      "text/plain": [
       "\u001b[34mepoch:0, train_accuracy: 49.46815073490143, test_accuracy: 50.24197006225586\n",
       "\u001b[0m"
      ]
     },
     "metadata": {},
     "output_type": "display_data"
    },
    {
     "data": {
      "text/html": [
       "<pre style=\"white-space:pre;overflow-x:auto;line-height:normal;font-family:Menlo,'DejaVu Sans Mono',consolas,'Courier New',monospace\"><span style=\"color: #800000; text-decoration-color: #800000\">WARNING:absl:SaveArgs.aggregate is deprecated, please use custom TypeHandler (https://orbax.readthedocs.io/en/latest/custom_handlers.html#typehandler) or contact Orbax team to migrate before May 1st, 2024. If your Pytree has empty ([], {}, None) values then use PyTreeCheckpointHandler(..., write_tree_metadata=True, ...) or use StandardCheckpointHandler to avoid TypeHandler Registry error. Please note that PyTreeCheckpointHandler.write_tree_metadata default value is already set to True.\n",
       "</span></pre>\n"
      ],
      "text/plain": [
       "\u001b[31mWARNING:absl:SaveArgs.aggregate is deprecated, please use custom TypeHandler (https://orbax.readthedocs.io/en/latest/custom_handlers.html#typehandler) or contact Orbax team to migrate before May 1st, 2024. If your Pytree has empty ([], {}, None) values then use PyTreeCheckpointHandler(..., write_tree_metadata=True, ...) or use StandardCheckpointHandler to avoid TypeHandler Registry error. Please note that PyTreeCheckpointHandler.write_tree_metadata default value is already set to True.\n",
       "\u001b[0m"
      ]
     },
     "metadata": {},
     "output_type": "display_data"
    },
    {
     "data": {
      "text/html": [
       "<pre style=\"white-space:pre;overflow-x:auto;line-height:normal;font-family:Menlo,'DejaVu Sans Mono',consolas,'Courier New',monospace\"><span style=\"color: #800000; text-decoration-color: #800000\">\n",
       "</span></pre>\n"
      ],
      "text/plain": [
       "\u001b[31m\n",
       "\u001b[0m"
      ]
     },
     "metadata": {},
     "output_type": "display_data"
    },
    {
     "data": {
      "text/html": [
       "<pre style=\"white-space:pre;overflow-x:auto;line-height:normal;font-family:Menlo,'DejaVu Sans Mono',consolas,'Courier New',monospace\"><span style=\"color: #000080; text-decoration-color: #000080\"></span></pre>\n"
      ],
      "text/plain": []
     },
     "metadata": {},
     "output_type": "display_data"
    },
    {
     "data": {
      "text/html": [
       "<pre style=\"white-space:pre;overflow-x:auto;line-height:normal;font-family:Menlo,'DejaVu Sans Mono',consolas,'Courier New',monospace\"><span style=\"color: #000080; text-decoration-color: #000080\">epoch:1, train_loss: 1.36208975315094, test_loss: 1.3539674282073975\n",
       "</span></pre>\n"
      ],
      "text/plain": [
       "\u001b[34mepoch:1, train_loss: 1.36208975315094, test_loss: 1.3539674282073975\n",
       "\u001b[0m"
      ]
     },
     "metadata": {},
     "output_type": "display_data"
    },
    {
     "data": {
      "text/html": [
       "<pre style=\"white-space:pre;overflow-x:auto;line-height:normal;font-family:Menlo,'DejaVu Sans Mono',consolas,'Courier New',monospace\"><span style=\"color: #000080; text-decoration-color: #000080\">epoch:1, train_accuracy: 53.30604910850525, test_accuracy: 53.0257568359375\n",
       "</span></pre>\n"
      ],
      "text/plain": [
       "\u001b[34mepoch:1, train_accuracy: 53.30604910850525, test_accuracy: 53.0257568359375\n",
       "\u001b[0m"
      ]
     },
     "metadata": {},
     "output_type": "display_data"
    },
    {
     "data": {
      "text/html": [
       "<pre style=\"white-space:pre;overflow-x:auto;line-height:normal;font-family:Menlo,'DejaVu Sans Mono',consolas,'Courier New',monospace\"><span style=\"color: #800000; text-decoration-color: #800000\">\u001b[1A  1%|          | 1/100 [00:58&lt;1:35:58, 58.17s/it]\n",
       "</span></pre>\n"
      ],
      "text/plain": [
       "\u001b[31m\u001b[1A  1%|          | 1/100 [00:58<1:35:58, 58.17s/it]\n",
       "\u001b[0m"
      ]
     },
     "metadata": {},
     "output_type": "display_data"
    },
    {
     "data": {
      "text/html": [
       "<pre style=\"white-space:pre;overflow-x:auto;line-height:normal;font-family:Menlo,'DejaVu Sans Mono',consolas,'Courier New',monospace\"><span style=\"color: #000080; text-decoration-color: #000080\"></span></pre>\n"
      ],
      "text/plain": []
     },
     "metadata": {},
     "output_type": "display_data"
    },
    {
     "data": {
      "text/html": [
       "<pre style=\"white-space:pre;overflow-x:auto;line-height:normal;font-family:Menlo,'DejaVu Sans Mono',consolas,'Courier New',monospace\"><span style=\"color: #000080; text-decoration-color: #000080\">epoch:2, train_loss: 1.3303393125534058, test_loss: 1.3405888080596924\n",
       "</span></pre>\n"
      ],
      "text/plain": [
       "\u001b[34mepoch:2, train_loss: 1.3303393125534058, test_loss: 1.3405888080596924\n",
       "\u001b[0m"
      ]
     },
     "metadata": {},
     "output_type": "display_data"
    },
    {
     "data": {
      "text/html": [
       "<pre style=\"white-space:pre;overflow-x:auto;line-height:normal;font-family:Menlo,'DejaVu Sans Mono',consolas,'Courier New',monospace\"><span style=\"color: #000080; text-decoration-color: #000080\"></span></pre>\n"
      ],
      "text/plain": []
     },
     "metadata": {},
     "output_type": "display_data"
    },
    {
     "data": {
      "text/html": [
       "<pre style=\"white-space:pre;overflow-x:auto;line-height:normal;font-family:Menlo,'DejaVu Sans Mono',consolas,'Courier New',monospace\"><span style=\"color: #000080; text-decoration-color: #000080\">epoch:2, train_accuracy: 55.17578721046448, test_accuracy: 53.895389556884766\n",
       "</span></pre>\n"
      ],
      "text/plain": [
       "\u001b[34mepoch:2, train_accuracy: 55.17578721046448, test_accuracy: 53.895389556884766\n",
       "\u001b[0m"
      ]
     },
     "metadata": {},
     "output_type": "display_data"
    },
    {
     "data": {
      "text/html": [
       "<pre style=\"white-space:pre;overflow-x:auto;line-height:normal;font-family:Menlo,'DejaVu Sans Mono',consolas,'Courier New',monospace\"><span style=\"color: #800000; text-decoration-color: #800000\">\u001b[1A  2%|▏         | 2/100 [01:02&lt;43:14, 26.48s/it]  \n",
       "</span></pre>\n"
      ],
      "text/plain": [
       "\u001b[31m\u001b[1A  2%|▏         | 2/100 [01:02<43:14, 26.48s/it]  \n",
       "\u001b[0m"
      ]
     },
     "metadata": {},
     "output_type": "display_data"
    },
    {
     "data": {
      "text/html": [
       "<pre style=\"white-space:pre;overflow-x:auto;line-height:normal;font-family:Menlo,'DejaVu Sans Mono',consolas,'Courier New',monospace\"><span style=\"color: #000080; text-decoration-color: #000080\"></span></pre>\n"
      ],
      "text/plain": []
     },
     "metadata": {},
     "output_type": "display_data"
    },
    {
     "data": {
      "text/html": [
       "<pre style=\"white-space:pre;overflow-x:auto;line-height:normal;font-family:Menlo,'DejaVu Sans Mono',consolas,'Courier New',monospace\"><span style=\"color: #000080; text-decoration-color: #000080\">epoch:3, train_loss: 1.3180121183395386, test_loss: 1.3204140663146973\n",
       "</span></pre>\n"
      ],
      "text/plain": [
       "\u001b[34mepoch:3, train_loss: 1.3180121183395386, test_loss: 1.3204140663146973\n",
       "\u001b[0m"
      ]
     },
     "metadata": {},
     "output_type": "display_data"
    },
    {
     "data": {
      "text/html": [
       "<pre style=\"white-space:pre;overflow-x:auto;line-height:normal;font-family:Menlo,'DejaVu Sans Mono',consolas,'Courier New',monospace\"><span style=\"color: #000080; text-decoration-color: #000080\">epoch:3, train_accuracy: 55.61994910240173, test_accuracy: 54.63369369506836\n",
       "</span></pre>\n"
      ],
      "text/plain": [
       "\u001b[34mepoch:3, train_accuracy: 55.61994910240173, test_accuracy: 54.63369369506836\n",
       "\u001b[0m"
      ]
     },
     "metadata": {},
     "output_type": "display_data"
    },
    {
     "data": {
      "text/html": [
       "<pre style=\"white-space:pre;overflow-x:auto;line-height:normal;font-family:Menlo,'DejaVu Sans Mono',consolas,'Courier New',monospace\"><span style=\"color: #800000; text-decoration-color: #800000\">\u001b[1A  3%|▎         | 3/100 [01:06&lt;26:08, 16.17s/it]\n",
       "</span></pre>\n"
      ],
      "text/plain": [
       "\u001b[31m\u001b[1A  3%|▎         | 3/100 [01:06<26:08, 16.17s/it]\n",
       "\u001b[0m"
      ]
     },
     "metadata": {},
     "output_type": "display_data"
    },
    {
     "data": {
      "text/html": [
       "<pre style=\"white-space:pre;overflow-x:auto;line-height:normal;font-family:Menlo,'DejaVu Sans Mono',consolas,'Courier New',monospace\"><span style=\"color: #000080; text-decoration-color: #000080\"></span></pre>\n"
      ],
      "text/plain": []
     },
     "metadata": {},
     "output_type": "display_data"
    },
    {
     "data": {
      "text/html": [
       "<pre style=\"white-space:pre;overflow-x:auto;line-height:normal;font-family:Menlo,'DejaVu Sans Mono',consolas,'Courier New',monospace\"><span style=\"color: #000080; text-decoration-color: #000080\">epoch:4, train_loss: 1.3109009265899658, test_loss: 1.3197001218795776\n",
       "</span></pre>\n"
      ],
      "text/plain": [
       "\u001b[34mepoch:4, train_loss: 1.3109009265899658, test_loss: 1.3197001218795776\n",
       "\u001b[0m"
      ]
     },
     "metadata": {},
     "output_type": "display_data"
    },
    {
     "data": {
      "text/html": [
       "<pre style=\"white-space:pre;overflow-x:auto;line-height:normal;font-family:Menlo,'DejaVu Sans Mono',consolas,'Courier New',monospace\"><span style=\"color: #000080; text-decoration-color: #000080\"></span></pre>\n"
      ],
      "text/plain": []
     },
     "metadata": {},
     "output_type": "display_data"
    },
    {
     "data": {
      "text/html": [
       "<pre style=\"white-space:pre;overflow-x:auto;line-height:normal;font-family:Menlo,'DejaVu Sans Mono',consolas,'Courier New',monospace\"><span style=\"color: #000080; text-decoration-color: #000080\">epoch:4, train_accuracy: 55.79555034637451, test_accuracy: 54.57411575317383\n",
       "</span></pre>\n"
      ],
      "text/plain": [
       "\u001b[34mepoch:4, train_accuracy: 55.79555034637451, test_accuracy: 54.57411575317383\n",
       "\u001b[0m"
      ]
     },
     "metadata": {},
     "output_type": "display_data"
    },
    {
     "data": {
      "text/html": [
       "<pre style=\"white-space:pre;overflow-x:auto;line-height:normal;font-family:Menlo,'DejaVu Sans Mono',consolas,'Courier New',monospace\"><span style=\"color: #800000; text-decoration-color: #800000\">\u001b[1A  4%|▍         | 4/100 [01:10&lt;18:04, 11.30s/it]\n",
       "</span></pre>\n"
      ],
      "text/plain": [
       "\u001b[31m\u001b[1A  4%|▍         | 4/100 [01:10<18:04, 11.30s/it]\n",
       "\u001b[0m"
      ]
     },
     "metadata": {},
     "output_type": "display_data"
    },
    {
     "data": {
      "text/html": [
       "<pre style=\"white-space:pre;overflow-x:auto;line-height:normal;font-family:Menlo,'DejaVu Sans Mono',consolas,'Courier New',monospace\"><span style=\"color: #000080; text-decoration-color: #000080\">epoch:5, train_loss: 1.3066926002502441, test_loss: 1.311241626739502\n",
       "</span></pre>\n"
      ],
      "text/plain": [
       "\u001b[34mepoch:5, train_loss: 1.3066926002502441, test_loss: 1.311241626739502\n",
       "\u001b[0m"
      ]
     },
     "metadata": {},
     "output_type": "display_data"
    },
    {
     "data": {
      "text/html": [
       "<pre style=\"white-space:pre;overflow-x:auto;line-height:normal;font-family:Menlo,'DejaVu Sans Mono',consolas,'Courier New',monospace\"><span style=\"color: #000080; text-decoration-color: #000080\"></span></pre>\n"
      ],
      "text/plain": []
     },
     "metadata": {},
     "output_type": "display_data"
    },
    {
     "data": {
      "text/html": [
       "<pre style=\"white-space:pre;overflow-x:auto;line-height:normal;font-family:Menlo,'DejaVu Sans Mono',consolas,'Courier New',monospace\"><span style=\"color: #000080; text-decoration-color: #000080\">epoch:5, train_accuracy: 55.921584367752075, test_accuracy: 54.85474395751953\n",
       "</span></pre>\n"
      ],
      "text/plain": [
       "\u001b[34mepoch:5, train_accuracy: 55.921584367752075, test_accuracy: 54.85474395751953\n",
       "\u001b[0m"
      ]
     },
     "metadata": {},
     "output_type": "display_data"
    },
    {
     "data": {
      "text/html": [
       "<pre style=\"white-space:pre;overflow-x:auto;line-height:normal;font-family:Menlo,'DejaVu Sans Mono',consolas,'Courier New',monospace\"><span style=\"color: #800000; text-decoration-color: #800000\">\u001b[1A  5%|▌         | 5/100 [01:14&lt;13:37,  8.61s/it]\n",
       "</span></pre>\n"
      ],
      "text/plain": [
       "\u001b[31m\u001b[1A  5%|▌         | 5/100 [01:14<13:37,  8.61s/it]\n",
       "\u001b[0m"
      ]
     },
     "metadata": {},
     "output_type": "display_data"
    },
    {
     "data": {
      "text/html": [
       "<pre style=\"white-space:pre;overflow-x:auto;line-height:normal;font-family:Menlo,'DejaVu Sans Mono',consolas,'Courier New',monospace\"><span style=\"color: #000080; text-decoration-color: #000080\"></span></pre>\n"
      ],
      "text/plain": []
     },
     "metadata": {},
     "output_type": "display_data"
    },
    {
     "data": {
      "text/html": [
       "<pre style=\"white-space:pre;overflow-x:auto;line-height:normal;font-family:Menlo,'DejaVu Sans Mono',consolas,'Courier New',monospace\"><span style=\"color: #000080; text-decoration-color: #000080\">epoch:6, train_loss: 1.3032039403915405, test_loss: 1.3104602098464966\n",
       "</span></pre>\n"
      ],
      "text/plain": [
       "\u001b[34mepoch:6, train_loss: 1.3032039403915405, test_loss: 1.3104602098464966\n",
       "\u001b[0m"
      ]
     },
     "metadata": {},
     "output_type": "display_data"
    },
    {
     "data": {
      "text/html": [
       "<pre style=\"white-space:pre;overflow-x:auto;line-height:normal;font-family:Menlo,'DejaVu Sans Mono',consolas,'Courier New',monospace\"><span style=\"color: #000080; text-decoration-color: #000080\"></span></pre>\n"
      ],
      "text/plain": []
     },
     "metadata": {},
     "output_type": "display_data"
    },
    {
     "data": {
      "text/html": [
       "<pre style=\"white-space:pre;overflow-x:auto;line-height:normal;font-family:Menlo,'DejaVu Sans Mono',consolas,'Courier New',monospace\"><span style=\"color: #000080; text-decoration-color: #000080\">epoch:6, train_accuracy: 56.03863596916199, test_accuracy: 54.92399978637695\n",
       "</span></pre>\n"
      ],
      "text/plain": [
       "\u001b[34mepoch:6, train_accuracy: 56.03863596916199, test_accuracy: 54.92399978637695\n",
       "\u001b[0m"
      ]
     },
     "metadata": {},
     "output_type": "display_data"
    },
    {
     "data": {
      "text/html": [
       "<pre style=\"white-space:pre;overflow-x:auto;line-height:normal;font-family:Menlo,'DejaVu Sans Mono',consolas,'Courier New',monospace\"><span style=\"color: #800000; text-decoration-color: #800000\">\u001b[1A  6%|▌         | 6/100 [01:18&lt;11:12,  7.15s/it]\n",
       "</span></pre>\n"
      ],
      "text/plain": [
       "\u001b[31m\u001b[1A  6%|▌         | 6/100 [01:18<11:12,  7.15s/it]\n",
       "\u001b[0m"
      ]
     },
     "metadata": {},
     "output_type": "display_data"
    },
    {
     "data": {
      "text/html": [
       "<pre style=\"white-space:pre;overflow-x:auto;line-height:normal;font-family:Menlo,'DejaVu Sans Mono',consolas,'Courier New',monospace\"><span style=\"color: #000080; text-decoration-color: #000080\"></span></pre>\n"
      ],
      "text/plain": []
     },
     "metadata": {},
     "output_type": "display_data"
    },
    {
     "data": {
      "text/html": [
       "<pre style=\"white-space:pre;overflow-x:auto;line-height:normal;font-family:Menlo,'DejaVu Sans Mono',consolas,'Courier New',monospace\"><span style=\"color: #000080; text-decoration-color: #000080\">epoch:7, train_loss: 1.3006943464279175, test_loss: 1.3062843084335327\n",
       "</span></pre>\n"
      ],
      "text/plain": [
       "\u001b[34mepoch:7, train_loss: 1.3006943464279175, test_loss: 1.3062843084335327\n",
       "\u001b[0m"
      ]
     },
     "metadata": {},
     "output_type": "display_data"
    },
    {
     "data": {
      "text/html": [
       "<pre style=\"white-space:pre;overflow-x:auto;line-height:normal;font-family:Menlo,'DejaVu Sans Mono',consolas,'Courier New',monospace\"><span style=\"color: #000080; text-decoration-color: #000080\"></span></pre>\n"
      ],
      "text/plain": []
     },
     "metadata": {},
     "output_type": "display_data"
    },
    {
     "data": {
      "text/html": [
       "<pre style=\"white-space:pre;overflow-x:auto;line-height:normal;font-family:Menlo,'DejaVu Sans Mono',consolas,'Courier New',monospace\"><span style=\"color: #000080; text-decoration-color: #000080\">epoch:7, train_accuracy: 56.14234805107117, test_accuracy: 54.98373031616211\n",
       "</span></pre>\n"
      ],
      "text/plain": [
       "\u001b[34mepoch:7, train_accuracy: 56.14234805107117, test_accuracy: 54.98373031616211\n",
       "\u001b[0m"
      ]
     },
     "metadata": {},
     "output_type": "display_data"
    },
    {
     "data": {
      "text/html": [
       "<pre style=\"white-space:pre;overflow-x:auto;line-height:normal;font-family:Menlo,'DejaVu Sans Mono',consolas,'Courier New',monospace\"><span style=\"color: #800000; text-decoration-color: #800000\">\u001b[1A  7%|▋         | 7/100 [01:22&lt;09:21,  6.03s/it]\n",
       "</span></pre>\n"
      ],
      "text/plain": [
       "\u001b[31m\u001b[1A  7%|▋         | 7/100 [01:22<09:21,  6.03s/it]\n",
       "\u001b[0m"
      ]
     },
     "metadata": {},
     "output_type": "display_data"
    },
    {
     "data": {
      "text/html": [
       "<pre style=\"white-space:pre;overflow-x:auto;line-height:normal;font-family:Menlo,'DejaVu Sans Mono',consolas,'Courier New',monospace\"><span style=\"color: #000080; text-decoration-color: #000080\"></span></pre>\n"
      ],
      "text/plain": []
     },
     "metadata": {},
     "output_type": "display_data"
    },
    {
     "data": {
      "text/html": [
       "<pre style=\"white-space:pre;overflow-x:auto;line-height:normal;font-family:Menlo,'DejaVu Sans Mono',consolas,'Courier New',monospace\"><span style=\"color: #000080; text-decoration-color: #000080\">epoch:8, train_loss: 1.298398494720459, test_loss: 1.3038735389709473\n",
       "</span></pre>\n"
      ],
      "text/plain": [
       "\u001b[34mepoch:8, train_loss: 1.298398494720459, test_loss: 1.3038735389709473\n",
       "\u001b[0m"
      ]
     },
     "metadata": {},
     "output_type": "display_data"
    },
    {
     "data": {
      "text/html": [
       "<pre style=\"white-space:pre;overflow-x:auto;line-height:normal;font-family:Menlo,'DejaVu Sans Mono',consolas,'Courier New',monospace\"><span style=\"color: #000080; text-decoration-color: #000080\"></span></pre>\n"
      ],
      "text/plain": []
     },
     "metadata": {},
     "output_type": "display_data"
    },
    {
     "data": {
      "text/html": [
       "<pre style=\"white-space:pre;overflow-x:auto;line-height:normal;font-family:Menlo,'DejaVu Sans Mono',consolas,'Courier New',monospace\"><span style=\"color: #000080; text-decoration-color: #000080\">epoch:8, train_accuracy: 56.21524453163147, test_accuracy: 55.17512130737305\n",
       "</span></pre>\n"
      ],
      "text/plain": [
       "\u001b[34mepoch:8, train_accuracy: 56.21524453163147, test_accuracy: 55.17512130737305\n",
       "\u001b[0m"
      ]
     },
     "metadata": {},
     "output_type": "display_data"
    },
    {
     "data": {
      "text/html": [
       "<pre style=\"white-space:pre;overflow-x:auto;line-height:normal;font-family:Menlo,'DejaVu Sans Mono',consolas,'Courier New',monospace\"><span style=\"color: #800000; text-decoration-color: #800000\">\u001b[1A  8%|▊         | 8/100 [01:25&lt;08:10,  5.33s/it]\n",
       "</span></pre>\n"
      ],
      "text/plain": [
       "\u001b[31m\u001b[1A  8%|▊         | 8/100 [01:25<08:10,  5.33s/it]\n",
       "\u001b[0m"
      ]
     },
     "metadata": {},
     "output_type": "display_data"
    },
    {
     "data": {
      "text/html": [
       "<pre style=\"white-space:pre;overflow-x:auto;line-height:normal;font-family:Menlo,'DejaVu Sans Mono',consolas,'Courier New',monospace\"><span style=\"color: #000080; text-decoration-color: #000080\"></span></pre>\n"
      ],
      "text/plain": []
     },
     "metadata": {},
     "output_type": "display_data"
    },
    {
     "data": {
      "text/html": [
       "<pre style=\"white-space:pre;overflow-x:auto;line-height:normal;font-family:Menlo,'DejaVu Sans Mono',consolas,'Courier New',monospace\"><span style=\"color: #000080; text-decoration-color: #000080\">epoch:9, train_loss: 1.2970726490020752, test_loss: 1.304466724395752\n",
       "</span></pre>\n"
      ],
      "text/plain": [
       "\u001b[34mepoch:9, train_loss: 1.2970726490020752, test_loss: 1.304466724395752\n",
       "\u001b[0m"
      ]
     },
     "metadata": {},
     "output_type": "display_data"
    },
    {
     "data": {
      "text/html": [
       "<pre style=\"white-space:pre;overflow-x:auto;line-height:normal;font-family:Menlo,'DejaVu Sans Mono',consolas,'Courier New',monospace\"><span style=\"color: #000080; text-decoration-color: #000080\"></span></pre>\n"
      ],
      "text/plain": []
     },
     "metadata": {},
     "output_type": "display_data"
    },
    {
     "data": {
      "text/html": [
       "<pre style=\"white-space:pre;overflow-x:auto;line-height:normal;font-family:Menlo,'DejaVu Sans Mono',consolas,'Courier New',monospace\"><span style=\"color: #000080; text-decoration-color: #000080\">epoch:9, train_accuracy: 56.292128562927246, test_accuracy: 55.132503509521484\n",
       "</span></pre>\n"
      ],
      "text/plain": [
       "\u001b[34mepoch:9, train_accuracy: 56.292128562927246, test_accuracy: 55.132503509521484\n",
       "\u001b[0m"
      ]
     },
     "metadata": {},
     "output_type": "display_data"
    },
    {
     "data": {
      "text/html": [
       "<pre style=\"white-space:pre;overflow-x:auto;line-height:normal;font-family:Menlo,'DejaVu Sans Mono',consolas,'Courier New',monospace\"><span style=\"color: #800000; text-decoration-color: #800000\">\u001b[1A  9%|▉         | 9/100 [01:30&lt;07:42,  5.08s/it]\n",
       "</span></pre>\n"
      ],
      "text/plain": [
       "\u001b[31m\u001b[1A  9%|▉         | 9/100 [01:30<07:42,  5.08s/it]\n",
       "\u001b[0m"
      ]
     },
     "metadata": {},
     "output_type": "display_data"
    },
    {
     "data": {
      "text/html": [
       "<pre style=\"white-space:pre;overflow-x:auto;line-height:normal;font-family:Menlo,'DejaVu Sans Mono',consolas,'Courier New',monospace\"><span style=\"color: #000080; text-decoration-color: #000080\"></span></pre>\n"
      ],
      "text/plain": []
     },
     "metadata": {},
     "output_type": "display_data"
    },
    {
     "data": {
      "text/html": [
       "<pre style=\"white-space:pre;overflow-x:auto;line-height:normal;font-family:Menlo,'DejaVu Sans Mono',consolas,'Courier New',monospace\"><span style=\"color: #000080; text-decoration-color: #000080\">epoch:10, train_loss: 1.295780897140503, test_loss: 1.302053451538086\n",
       "</span></pre>\n"
      ],
      "text/plain": [
       "\u001b[34mepoch:10, train_loss: 1.295780897140503, test_loss: 1.302053451538086\n",
       "\u001b[0m"
      ]
     },
     "metadata": {},
     "output_type": "display_data"
    },
    {
     "data": {
      "text/html": [
       "<pre style=\"white-space:pre;overflow-x:auto;line-height:normal;font-family:Menlo,'DejaVu Sans Mono',consolas,'Courier New',monospace\"><span style=\"color: #000080; text-decoration-color: #000080\">epoch:10, train_accuracy: 56.32182955741882, test_accuracy: 55.22758483886719\n",
       "</span></pre>\n"
      ],
      "text/plain": [
       "\u001b[34mepoch:10, train_accuracy: 56.32182955741882, test_accuracy: 55.22758483886719\n",
       "\u001b[0m"
      ]
     },
     "metadata": {},
     "output_type": "display_data"
    },
    {
     "data": {
      "text/html": [
       "<pre style=\"white-space:pre;overflow-x:auto;line-height:normal;font-family:Menlo,'DejaVu Sans Mono',consolas,'Courier New',monospace\"><span style=\"color: #800000; text-decoration-color: #800000\">\u001b[1A 10%|█         | 10/100 [01:34&lt;07:08,  4.77s/it]\n",
       "</span></pre>\n"
      ],
      "text/plain": [
       "\u001b[31m\u001b[1A 10%|█         | 10/100 [01:34<07:08,  4.77s/it]\n",
       "\u001b[0m"
      ]
     },
     "metadata": {},
     "output_type": "display_data"
    },
    {
     "data": {
      "text/html": [
       "<pre style=\"white-space:pre;overflow-x:auto;line-height:normal;font-family:Menlo,'DejaVu Sans Mono',consolas,'Courier New',monospace\"><span style=\"color: #800000; text-decoration-color: #800000\">\u001b[1A 11%|█         | 11/100 [01:39&lt;07:08,  4.82s/it]</span></pre>\n"
      ],
      "text/plain": [
       "\u001b[31m\u001b[1A 11%|█         | 11/100 [01:39<07:08,  4.82s/it]\u001b[0m"
      ]
     },
     "metadata": {},
     "output_type": "display_data"
    },
    {
     "data": {
      "text/html": [
       "<pre style=\"white-space:pre;overflow-x:auto;line-height:normal;font-family:Menlo,'DejaVu Sans Mono',consolas,'Courier New',monospace\"><span style=\"color: #000080; text-decoration-color: #000080\"></span></pre>\n"
      ],
      "text/plain": []
     },
     "metadata": {},
     "output_type": "display_data"
    },
    {
     "data": {
      "text/html": [
       "<pre style=\"white-space:pre;overflow-x:auto;line-height:normal;font-family:Menlo,'DejaVu Sans Mono',consolas,'Courier New',monospace\"><span style=\"color: #000080; text-decoration-color: #000080\">epoch:11, train_loss: 1.2940374612808228, test_loss: 1.3006504774093628\n",
       "</span></pre>\n"
      ],
      "text/plain": [
       "\u001b[34mepoch:11, train_loss: 1.2940374612808228, test_loss: 1.3006504774093628\n",
       "\u001b[0m"
      ]
     },
     "metadata": {},
     "output_type": "display_data"
    },
    {
     "data": {
      "text/html": [
       "<pre style=\"white-space:pre;overflow-x:auto;line-height:normal;font-family:Menlo,'DejaVu Sans Mono',consolas,'Courier New',monospace\"><span style=\"color: #000080; text-decoration-color: #000080\"></span></pre>\n"
      ],
      "text/plain": []
     },
     "metadata": {},
     "output_type": "display_data"
    },
    {
     "data": {
      "text/html": [
       "<pre style=\"white-space:pre;overflow-x:auto;line-height:normal;font-family:Menlo,'DejaVu Sans Mono',consolas,'Courier New',monospace\"><span style=\"color: #000080; text-decoration-color: #000080\">epoch:11, train_accuracy: 56.39726519584656, test_accuracy: 55.2095947265625\n",
       "</span></pre>\n"
      ],
      "text/plain": [
       "\u001b[34mepoch:11, train_accuracy: 56.39726519584656, test_accuracy: 55.2095947265625\n",
       "\u001b[0m"
      ]
     },
     "metadata": {},
     "output_type": "display_data"
    },
    {
     "data": {
      "text/html": [
       "<pre style=\"white-space:pre;overflow-x:auto;line-height:normal;font-family:Menlo,'DejaVu Sans Mono',consolas,'Courier New',monospace\"><span style=\"color: #800000; text-decoration-color: #800000\">\n",
       "</span></pre>\n"
      ],
      "text/plain": [
       "\u001b[31m\n",
       "\u001b[0m"
      ]
     },
     "metadata": {},
     "output_type": "display_data"
    },
    {
     "data": {
      "text/html": [
       "<pre style=\"white-space:pre;overflow-x:auto;line-height:normal;font-family:Menlo,'DejaVu Sans Mono',consolas,'Courier New',monospace\"><span style=\"color: #000080; text-decoration-color: #000080\">epoch:12, train_loss: 1.2913819551467896, test_loss: 1.303069829940796\n",
       "</span></pre>\n"
      ],
      "text/plain": [
       "\u001b[34mepoch:12, train_loss: 1.2913819551467896, test_loss: 1.303069829940796\n",
       "\u001b[0m"
      ]
     },
     "metadata": {},
     "output_type": "display_data"
    },
    {
     "data": {
      "text/html": [
       "<pre style=\"white-space:pre;overflow-x:auto;line-height:normal;font-family:Menlo,'DejaVu Sans Mono',consolas,'Courier New',monospace\"><span style=\"color: #000080; text-decoration-color: #000080\"></span></pre>\n"
      ],
      "text/plain": []
     },
     "metadata": {},
     "output_type": "display_data"
    },
    {
     "data": {
      "text/html": [
       "<pre style=\"white-space:pre;overflow-x:auto;line-height:normal;font-family:Menlo,'DejaVu Sans Mono',consolas,'Courier New',monospace\"><span style=\"color: #000080; text-decoration-color: #000080\">epoch:12, train_accuracy: 56.4464807510376, test_accuracy: 55.271881103515625\n",
       "</span></pre>\n"
      ],
      "text/plain": [
       "\u001b[34mepoch:12, train_accuracy: 56.4464807510376, test_accuracy: 55.271881103515625\n",
       "\u001b[0m"
      ]
     },
     "metadata": {},
     "output_type": "display_data"
    },
    {
     "data": {
      "text/html": [
       "<pre style=\"white-space:pre;overflow-x:auto;line-height:normal;font-family:Menlo,'DejaVu Sans Mono',consolas,'Courier New',monospace\"><span style=\"color: #800000; text-decoration-color: #800000\">\u001b[1A 12%|█▏        | 12/100 [01:43&lt;06:53,  4.70s/it]\n",
       "</span></pre>\n"
      ],
      "text/plain": [
       "\u001b[31m\u001b[1A 12%|█▏        | 12/100 [01:43<06:53,  4.70s/it]\n",
       "\u001b[0m"
      ]
     },
     "metadata": {},
     "output_type": "display_data"
    },
    {
     "data": {
      "text/html": [
       "<pre style=\"white-space:pre;overflow-x:auto;line-height:normal;font-family:Menlo,'DejaVu Sans Mono',consolas,'Courier New',monospace\"><span style=\"color: #000080; text-decoration-color: #000080\"></span></pre>\n"
      ],
      "text/plain": []
     },
     "metadata": {},
     "output_type": "display_data"
    },
    {
     "data": {
      "text/html": [
       "<pre style=\"white-space:pre;overflow-x:auto;line-height:normal;font-family:Menlo,'DejaVu Sans Mono',consolas,'Courier New',monospace\"><span style=\"color: #000080; text-decoration-color: #000080\">epoch:13, train_loss: 1.2894227504730225, test_loss: 1.2958403825759888\n",
       "</span></pre>\n"
      ],
      "text/plain": [
       "\u001b[34mepoch:13, train_loss: 1.2894227504730225, test_loss: 1.2958403825759888\n",
       "\u001b[0m"
      ]
     },
     "metadata": {},
     "output_type": "display_data"
    },
    {
     "data": {
      "text/html": [
       "<pre style=\"white-space:pre;overflow-x:auto;line-height:normal;font-family:Menlo,'DejaVu Sans Mono',consolas,'Courier New',monospace\"><span style=\"color: #000080; text-decoration-color: #000080\"></span></pre>\n"
      ],
      "text/plain": []
     },
     "metadata": {},
     "output_type": "display_data"
    },
    {
     "data": {
      "text/html": [
       "<pre style=\"white-space:pre;overflow-x:auto;line-height:normal;font-family:Menlo,'DejaVu Sans Mono',consolas,'Courier New',monospace\"><span style=\"color: #000080; text-decoration-color: #000080\">epoch:13, train_accuracy: 56.480592489242554, test_accuracy: 55.44477844238281\n",
       "</span></pre>\n"
      ],
      "text/plain": [
       "\u001b[34mepoch:13, train_accuracy: 56.480592489242554, test_accuracy: 55.44477844238281\n",
       "\u001b[0m"
      ]
     },
     "metadata": {},
     "output_type": "display_data"
    },
    {
     "data": {
      "text/html": [
       "<pre style=\"white-space:pre;overflow-x:auto;line-height:normal;font-family:Menlo,'DejaVu Sans Mono',consolas,'Courier New',monospace\"><span style=\"color: #800000; text-decoration-color: #800000\">\u001b[1A 13%|█▎        | 13/100 [01:48&lt;06:34,  4.53s/it]\n",
       "</span></pre>\n"
      ],
      "text/plain": [
       "\u001b[31m\u001b[1A 13%|█▎        | 13/100 [01:48<06:34,  4.53s/it]\n",
       "\u001b[0m"
      ]
     },
     "metadata": {},
     "output_type": "display_data"
    },
    {
     "data": {
      "text/html": [
       "<pre style=\"white-space:pre;overflow-x:auto;line-height:normal;font-family:Menlo,'DejaVu Sans Mono',consolas,'Courier New',monospace\"><span style=\"color: #000080; text-decoration-color: #000080\">epoch:14, train_loss: 1.2882648706436157, test_loss: 1.2921168804168701\n",
       "</span></pre>\n"
      ],
      "text/plain": [
       "\u001b[34mepoch:14, train_loss: 1.2882648706436157, test_loss: 1.2921168804168701\n",
       "\u001b[0m"
      ]
     },
     "metadata": {},
     "output_type": "display_data"
    },
    {
     "data": {
      "text/html": [
       "<pre style=\"white-space:pre;overflow-x:auto;line-height:normal;font-family:Menlo,'DejaVu Sans Mono',consolas,'Courier New',monospace\"><span style=\"color: #000080; text-decoration-color: #000080\"></span></pre>\n"
      ],
      "text/plain": []
     },
     "metadata": {},
     "output_type": "display_data"
    },
    {
     "data": {
      "text/html": [
       "<pre style=\"white-space:pre;overflow-x:auto;line-height:normal;font-family:Menlo,'DejaVu Sans Mono',consolas,'Courier New',monospace\"><span style=\"color: #000080; text-decoration-color: #000080\">epoch:14, train_accuracy: 56.52875304222107, test_accuracy: 55.348758697509766\n",
       "</span></pre>\n"
      ],
      "text/plain": [
       "\u001b[34mepoch:14, train_accuracy: 56.52875304222107, test_accuracy: 55.348758697509766\n",
       "\u001b[0m"
      ]
     },
     "metadata": {},
     "output_type": "display_data"
    },
    {
     "data": {
      "text/html": [
       "<pre style=\"white-space:pre;overflow-x:auto;line-height:normal;font-family:Menlo,'DejaVu Sans Mono',consolas,'Courier New',monospace\"><span style=\"color: #800000; text-decoration-color: #800000\">\u001b[1A 14%|█▍        | 14/100 [01:51&lt;06:13,  4.35s/it]\n",
       "</span></pre>\n"
      ],
      "text/plain": [
       "\u001b[31m\u001b[1A 14%|█▍        | 14/100 [01:51<06:13,  4.35s/it]\n",
       "\u001b[0m"
      ]
     },
     "metadata": {},
     "output_type": "display_data"
    },
    {
     "data": {
      "text/html": [
       "<pre style=\"white-space:pre;overflow-x:auto;line-height:normal;font-family:Menlo,'DejaVu Sans Mono',consolas,'Courier New',monospace\"><span style=\"color: #000080; text-decoration-color: #000080\">epoch:15, train_loss: 1.2874003648757935, test_loss: 1.2939585447311401\n",
       "</span></pre>\n"
      ],
      "text/plain": [
       "\u001b[34mepoch:15, train_loss: 1.2874003648757935, test_loss: 1.2939585447311401\n",
       "\u001b[0m"
      ]
     },
     "metadata": {},
     "output_type": "display_data"
    },
    {
     "data": {
      "text/html": [
       "<pre style=\"white-space:pre;overflow-x:auto;line-height:normal;font-family:Menlo,'DejaVu Sans Mono',consolas,'Courier New',monospace\"><span style=\"color: #000080; text-decoration-color: #000080\"></span></pre>\n"
      ],
      "text/plain": []
     },
     "metadata": {},
     "output_type": "display_data"
    },
    {
     "data": {
      "text/html": [
       "<pre style=\"white-space:pre;overflow-x:auto;line-height:normal;font-family:Menlo,'DejaVu Sans Mono',consolas,'Courier New',monospace\"><span style=\"color: #000080; text-decoration-color: #000080\">epoch:15, train_accuracy: 56.56328201293945, test_accuracy: 55.39687728881836\n",
       "</span></pre>\n"
      ],
      "text/plain": [
       "\u001b[34mepoch:15, train_accuracy: 56.56328201293945, test_accuracy: 55.39687728881836\n",
       "\u001b[0m"
      ]
     },
     "metadata": {},
     "output_type": "display_data"
    },
    {
     "data": {
      "text/html": [
       "<pre style=\"white-space:pre;overflow-x:auto;line-height:normal;font-family:Menlo,'DejaVu Sans Mono',consolas,'Courier New',monospace\"><span style=\"color: #800000; text-decoration-color: #800000\">\u001b[1A 15%|█▌        | 15/100 [01:55&lt;06:01,  4.25s/it]\n",
       "</span></pre>\n"
      ],
      "text/plain": [
       "\u001b[31m\u001b[1A 15%|█▌        | 15/100 [01:55<06:01,  4.25s/it]\n",
       "\u001b[0m"
      ]
     },
     "metadata": {},
     "output_type": "display_data"
    },
    {
     "data": {
      "text/html": [
       "<pre style=\"white-space:pre;overflow-x:auto;line-height:normal;font-family:Menlo,'DejaVu Sans Mono',consolas,'Courier New',monospace\"><span style=\"color: #000080; text-decoration-color: #000080\"></span></pre>\n"
      ],
      "text/plain": []
     },
     "metadata": {},
     "output_type": "display_data"
    },
    {
     "data": {
      "text/html": [
       "<pre style=\"white-space:pre;overflow-x:auto;line-height:normal;font-family:Menlo,'DejaVu Sans Mono',consolas,'Courier New',monospace\"><span style=\"color: #000080; text-decoration-color: #000080\">epoch:16, train_loss: 1.2860101461410522, test_loss: 1.2913719415664673\n",
       "</span></pre>\n"
      ],
      "text/plain": [
       "\u001b[34mepoch:16, train_loss: 1.2860101461410522, test_loss: 1.2913719415664673\n",
       "\u001b[0m"
      ]
     },
     "metadata": {},
     "output_type": "display_data"
    },
    {
     "data": {
      "text/html": [
       "<pre style=\"white-space:pre;overflow-x:auto;line-height:normal;font-family:Menlo,'DejaVu Sans Mono',consolas,'Courier New',monospace\"><span style=\"color: #000080; text-decoration-color: #000080\"></span></pre>\n"
      ],
      "text/plain": []
     },
     "metadata": {},
     "output_type": "display_data"
    },
    {
     "data": {
      "text/html": [
       "<pre style=\"white-space:pre;overflow-x:auto;line-height:normal;font-family:Menlo,'DejaVu Sans Mono',consolas,'Courier New',monospace\"><span style=\"color: #000080; text-decoration-color: #000080\">epoch:16, train_accuracy: 56.59456253051758, test_accuracy: 55.455543518066406\n",
       "</span></pre>\n"
      ],
      "text/plain": [
       "\u001b[34mepoch:16, train_accuracy: 56.59456253051758, test_accuracy: 55.455543518066406\n",
       "\u001b[0m"
      ]
     },
     "metadata": {},
     "output_type": "display_data"
    },
    {
     "data": {
      "text/html": [
       "<pre style=\"white-space:pre;overflow-x:auto;line-height:normal;font-family:Menlo,'DejaVu Sans Mono',consolas,'Courier New',monospace\"><span style=\"color: #800000; text-decoration-color: #800000\">\u001b[1A 16%|█▌        | 16/100 [01:59&lt;05:48,  4.15s/it]\n",
       "</span></pre>\n"
      ],
      "text/plain": [
       "\u001b[31m\u001b[1A 16%|█▌        | 16/100 [01:59<05:48,  4.15s/it]\n",
       "\u001b[0m"
      ]
     },
     "metadata": {},
     "output_type": "display_data"
    },
    {
     "data": {
      "text/html": [
       "<pre style=\"white-space:pre;overflow-x:auto;line-height:normal;font-family:Menlo,'DejaVu Sans Mono',consolas,'Courier New',monospace\"><span style=\"color: #000080; text-decoration-color: #000080\"></span></pre>\n"
      ],
      "text/plain": []
     },
     "metadata": {},
     "output_type": "display_data"
    },
    {
     "data": {
      "text/html": [
       "<pre style=\"white-space:pre;overflow-x:auto;line-height:normal;font-family:Menlo,'DejaVu Sans Mono',consolas,'Courier New',monospace\"><span style=\"color: #000080; text-decoration-color: #000080\">epoch:17, train_loss: 1.284866452217102, test_loss: 1.2941793203353882\n",
       "</span></pre>\n"
      ],
      "text/plain": [
       "\u001b[34mepoch:17, train_loss: 1.284866452217102, test_loss: 1.2941793203353882\n",
       "\u001b[0m"
      ]
     },
     "metadata": {},
     "output_type": "display_data"
    },
    {
     "data": {
      "text/html": [
       "<pre style=\"white-space:pre;overflow-x:auto;line-height:normal;font-family:Menlo,'DejaVu Sans Mono',consolas,'Courier New',monospace\"><span style=\"color: #000080; text-decoration-color: #000080\">epoch:17, train_accuracy: 56.62416219711304, test_accuracy: 55.426639556884766\n",
       "</span></pre>\n"
      ],
      "text/plain": [
       "\u001b[34mepoch:17, train_accuracy: 56.62416219711304, test_accuracy: 55.426639556884766\n",
       "\u001b[0m"
      ]
     },
     "metadata": {},
     "output_type": "display_data"
    },
    {
     "data": {
      "text/html": [
       "<pre style=\"white-space:pre;overflow-x:auto;line-height:normal;font-family:Menlo,'DejaVu Sans Mono',consolas,'Courier New',monospace\"><span style=\"color: #800000; text-decoration-color: #800000\">\u001b[1A 17%|█▋        | 17/100 [02:04&lt;05:46,  4.18s/it]\n",
       "</span></pre>\n"
      ],
      "text/plain": [
       "\u001b[31m\u001b[1A 17%|█▋        | 17/100 [02:04<05:46,  4.18s/it]\n",
       "\u001b[0m"
      ]
     },
     "metadata": {},
     "output_type": "display_data"
    },
    {
     "data": {
      "text/html": [
       "<pre style=\"white-space:pre;overflow-x:auto;line-height:normal;font-family:Menlo,'DejaVu Sans Mono',consolas,'Courier New',monospace\"><span style=\"color: #000080; text-decoration-color: #000080\"></span></pre>\n"
      ],
      "text/plain": []
     },
     "metadata": {},
     "output_type": "display_data"
    },
    {
     "data": {
      "text/html": [
       "<pre style=\"white-space:pre;overflow-x:auto;line-height:normal;font-family:Menlo,'DejaVu Sans Mono',consolas,'Courier New',monospace\"><span style=\"color: #000080; text-decoration-color: #000080\">epoch:18, train_loss: 1.2842870950698853, test_loss: 1.2957262992858887\n",
       "</span></pre>\n"
      ],
      "text/plain": [
       "\u001b[34mepoch:18, train_loss: 1.2842870950698853, test_loss: 1.2957262992858887\n",
       "\u001b[0m"
      ]
     },
     "metadata": {},
     "output_type": "display_data"
    },
    {
     "data": {
      "text/html": [
       "<pre style=\"white-space:pre;overflow-x:auto;line-height:normal;font-family:Menlo,'DejaVu Sans Mono',consolas,'Courier New',monospace\"><span style=\"color: #000080; text-decoration-color: #000080\">epoch:18, train_accuracy: 56.63114786148071, test_accuracy: 55.48789978027344\n",
       "</span></pre>\n"
      ],
      "text/plain": [
       "\u001b[34mepoch:18, train_accuracy: 56.63114786148071, test_accuracy: 55.48789978027344\n",
       "\u001b[0m"
      ]
     },
     "metadata": {},
     "output_type": "display_data"
    },
    {
     "data": {
      "text/html": [
       "<pre style=\"white-space:pre;overflow-x:auto;line-height:normal;font-family:Menlo,'DejaVu Sans Mono',consolas,'Courier New',monospace\"><span style=\"color: #800000; text-decoration-color: #800000\">\u001b[1A 18%|█▊        | 18/100 [02:08&lt;05:44,  4.21s/it]\n",
       "</span></pre>\n"
      ],
      "text/plain": [
       "\u001b[31m\u001b[1A 18%|█▊        | 18/100 [02:08<05:44,  4.21s/it]\n",
       "\u001b[0m"
      ]
     },
     "metadata": {},
     "output_type": "display_data"
    },
    {
     "data": {
      "text/html": [
       "<pre style=\"white-space:pre;overflow-x:auto;line-height:normal;font-family:Menlo,'DejaVu Sans Mono',consolas,'Courier New',monospace\"><span style=\"color: #000080; text-decoration-color: #000080\"></span></pre>\n"
      ],
      "text/plain": []
     },
     "metadata": {},
     "output_type": "display_data"
    },
    {
     "data": {
      "text/html": [
       "<pre style=\"white-space:pre;overflow-x:auto;line-height:normal;font-family:Menlo,'DejaVu Sans Mono',consolas,'Courier New',monospace\"><span style=\"color: #000080; text-decoration-color: #000080\">epoch:19, train_loss: 1.2833467721939087, test_loss: 1.291701078414917\n",
       "</span></pre>\n"
      ],
      "text/plain": [
       "\u001b[34mepoch:19, train_loss: 1.2833467721939087, test_loss: 1.291701078414917\n",
       "\u001b[0m"
      ]
     },
     "metadata": {},
     "output_type": "display_data"
    },
    {
     "data": {
      "text/html": [
       "<pre style=\"white-space:pre;overflow-x:auto;line-height:normal;font-family:Menlo,'DejaVu Sans Mono',consolas,'Courier New',monospace\"><span style=\"color: #000080; text-decoration-color: #000080\"></span></pre>\n"
      ],
      "text/plain": []
     },
     "metadata": {},
     "output_type": "display_data"
    },
    {
     "data": {
      "text/html": [
       "<pre style=\"white-space:pre;overflow-x:auto;line-height:normal;font-family:Menlo,'DejaVu Sans Mono',consolas,'Courier New',monospace\"><span style=\"color: #000080; text-decoration-color: #000080\">epoch:19, train_accuracy: 56.656867265701294, test_accuracy: 55.35541915893555\n",
       "</span></pre>\n"
      ],
      "text/plain": [
       "\u001b[34mepoch:19, train_accuracy: 56.656867265701294, test_accuracy: 55.35541915893555\n",
       "\u001b[0m"
      ]
     },
     "metadata": {},
     "output_type": "display_data"
    },
    {
     "data": {
      "text/html": [
       "<pre style=\"white-space:pre;overflow-x:auto;line-height:normal;font-family:Menlo,'DejaVu Sans Mono',consolas,'Courier New',monospace\"><span style=\"color: #800000; text-decoration-color: #800000\">\u001b[1A 19%|█▉        | 19/100 [02:13&lt;05:51,  4.34s/it]\n",
       "</span></pre>\n"
      ],
      "text/plain": [
       "\u001b[31m\u001b[1A 19%|█▉        | 19/100 [02:13<05:51,  4.34s/it]\n",
       "\u001b[0m"
      ]
     },
     "metadata": {},
     "output_type": "display_data"
    },
    {
     "data": {
      "text/html": [
       "<pre style=\"white-space:pre;overflow-x:auto;line-height:normal;font-family:Menlo,'DejaVu Sans Mono',consolas,'Courier New',monospace\"><span style=\"color: #000080; text-decoration-color: #000080\"></span></pre>\n"
      ],
      "text/plain": []
     },
     "metadata": {},
     "output_type": "display_data"
    },
    {
     "data": {
      "text/html": [
       "<pre style=\"white-space:pre;overflow-x:auto;line-height:normal;font-family:Menlo,'DejaVu Sans Mono',consolas,'Courier New',monospace\"><span style=\"color: #000080; text-decoration-color: #000080\">epoch:20, train_loss: 1.2810286283493042, test_loss: 1.287273645401001\n",
       "</span></pre>\n"
      ],
      "text/plain": [
       "\u001b[34mepoch:20, train_loss: 1.2810286283493042, test_loss: 1.287273645401001\n",
       "\u001b[0m"
      ]
     },
     "metadata": {},
     "output_type": "display_data"
    },
    {
     "data": {
      "text/html": [
       "<pre style=\"white-space:pre;overflow-x:auto;line-height:normal;font-family:Menlo,'DejaVu Sans Mono',consolas,'Courier New',monospace\"><span style=\"color: #000080; text-decoration-color: #000080\"></span></pre>\n"
      ],
      "text/plain": []
     },
     "metadata": {},
     "output_type": "display_data"
    },
    {
     "data": {
      "text/html": [
       "<pre style=\"white-space:pre;overflow-x:auto;line-height:normal;font-family:Menlo,'DejaVu Sans Mono',consolas,'Courier New',monospace\"><span style=\"color: #000080; text-decoration-color: #000080\">epoch:20, train_accuracy: 56.71185851097107, test_accuracy: 55.584251403808594\n",
       "</span></pre>\n"
      ],
      "text/plain": [
       "\u001b[34mepoch:20, train_accuracy: 56.71185851097107, test_accuracy: 55.584251403808594\n",
       "\u001b[0m"
      ]
     },
     "metadata": {},
     "output_type": "display_data"
    },
    {
     "data": {
      "text/html": [
       "<pre style=\"white-space:pre;overflow-x:auto;line-height:normal;font-family:Menlo,'DejaVu Sans Mono',consolas,'Courier New',monospace\"><span style=\"color: #800000; text-decoration-color: #800000\">\u001b[1A 20%|██        | 20/100 [02:17&lt;05:43,  4.29s/it]\n",
       "</span></pre>\n"
      ],
      "text/plain": [
       "\u001b[31m\u001b[1A 20%|██        | 20/100 [02:17<05:43,  4.29s/it]\n",
       "\u001b[0m"
      ]
     },
     "metadata": {},
     "output_type": "display_data"
    },
    {
     "data": {
      "text/html": [
       "<pre style=\"white-space:pre;overflow-x:auto;line-height:normal;font-family:Menlo,'DejaVu Sans Mono',consolas,'Courier New',monospace\"><span style=\"color: #000080; text-decoration-color: #000080\"></span></pre>\n"
      ],
      "text/plain": []
     },
     "metadata": {},
     "output_type": "display_data"
    },
    {
     "data": {
      "text/html": [
       "<pre style=\"white-space:pre;overflow-x:auto;line-height:normal;font-family:Menlo,'DejaVu Sans Mono',consolas,'Courier New',monospace\"><span style=\"color: #000080; text-decoration-color: #000080\">epoch:21, train_loss: 1.2805285453796387, test_loss: 1.2926912307739258\n",
       "</span></pre>\n"
      ],
      "text/plain": [
       "\u001b[34mepoch:21, train_loss: 1.2805285453796387, test_loss: 1.2926912307739258\n",
       "\u001b[0m"
      ]
     },
     "metadata": {},
     "output_type": "display_data"
    },
    {
     "data": {
      "text/html": [
       "<pre style=\"white-space:pre;overflow-x:auto;line-height:normal;font-family:Menlo,'DejaVu Sans Mono',consolas,'Courier New',monospace\"><span style=\"color: #000080; text-decoration-color: #000080\"></span></pre>\n"
      ],
      "text/plain": []
     },
     "metadata": {},
     "output_type": "display_data"
    },
    {
     "data": {
      "text/html": [
       "<pre style=\"white-space:pre;overflow-x:auto;line-height:normal;font-family:Menlo,'DejaVu Sans Mono',consolas,'Courier New',monospace\"><span style=\"color: #000080; text-decoration-color: #000080\">epoch:21, train_accuracy: 56.726694107055664, test_accuracy: 55.57258224487305\n",
       "</span></pre>\n"
      ],
      "text/plain": [
       "\u001b[34mepoch:21, train_accuracy: 56.726694107055664, test_accuracy: 55.57258224487305\n",
       "\u001b[0m"
      ]
     },
     "metadata": {},
     "output_type": "display_data"
    },
    {
     "data": {
      "text/html": [
       "<pre style=\"white-space:pre;overflow-x:auto;line-height:normal;font-family:Menlo,'DejaVu Sans Mono',consolas,'Courier New',monospace\"><span style=\"color: #800000; text-decoration-color: #800000\">\u001b[1A 21%|██        | 21/100 [02:22&lt;05:58,  4.54s/it]\n",
       "</span></pre>\n"
      ],
      "text/plain": [
       "\u001b[31m\u001b[1A 21%|██        | 21/100 [02:22<05:58,  4.54s/it]\n",
       "\u001b[0m"
      ]
     },
     "metadata": {},
     "output_type": "display_data"
    },
    {
     "data": {
      "text/html": [
       "<pre style=\"white-space:pre;overflow-x:auto;line-height:normal;font-family:Menlo,'DejaVu Sans Mono',consolas,'Courier New',monospace\"><span style=\"color: #000080; text-decoration-color: #000080\"></span></pre>\n"
      ],
      "text/plain": []
     },
     "metadata": {},
     "output_type": "display_data"
    },
    {
     "data": {
      "text/html": [
       "<pre style=\"white-space:pre;overflow-x:auto;line-height:normal;font-family:Menlo,'DejaVu Sans Mono',consolas,'Courier New',monospace\"><span style=\"color: #000080; text-decoration-color: #000080\">epoch:22, train_loss: 1.2805099487304688, test_loss: 1.288696050643921\n",
       "</span></pre>\n"
      ],
      "text/plain": [
       "\u001b[34mepoch:22, train_loss: 1.2805099487304688, test_loss: 1.288696050643921\n",
       "\u001b[0m"
      ]
     },
     "metadata": {},
     "output_type": "display_data"
    },
    {
     "data": {
      "text/html": [
       "<pre style=\"white-space:pre;overflow-x:auto;line-height:normal;font-family:Menlo,'DejaVu Sans Mono',consolas,'Courier New',monospace\"><span style=\"color: #000080; text-decoration-color: #000080\">epoch:22, train_accuracy: 56.72937035560608, test_accuracy: 55.529476165771484\n",
       "</span></pre>\n"
      ],
      "text/plain": [
       "\u001b[34mepoch:22, train_accuracy: 56.72937035560608, test_accuracy: 55.529476165771484\n",
       "\u001b[0m"
      ]
     },
     "metadata": {},
     "output_type": "display_data"
    },
    {
     "data": {
      "text/html": [
       "<pre style=\"white-space:pre;overflow-x:auto;line-height:normal;font-family:Menlo,'DejaVu Sans Mono',consolas,'Courier New',monospace\"><span style=\"color: #800000; text-decoration-color: #800000\">\u001b[1A 22%|██▏       | 22/100 [02:26&lt;05:55,  4.55s/it]\n",
       "</span></pre>\n"
      ],
      "text/plain": [
       "\u001b[31m\u001b[1A 22%|██▏       | 22/100 [02:26<05:55,  4.55s/it]\n",
       "\u001b[0m"
      ]
     },
     "metadata": {},
     "output_type": "display_data"
    },
    {
     "data": {
      "text/html": [
       "<pre style=\"white-space:pre;overflow-x:auto;line-height:normal;font-family:Menlo,'DejaVu Sans Mono',consolas,'Courier New',monospace\"><span style=\"color: #800000; text-decoration-color: #800000\">\u001b[1A 23%|██▎       | 23/100 [02:31&lt;05:52,  4.58s/it]</span></pre>\n"
      ],
      "text/plain": [
       "\u001b[31m\u001b[1A 23%|██▎       | 23/100 [02:31<05:52,  4.58s/it]\u001b[0m"
      ]
     },
     "metadata": {},
     "output_type": "display_data"
    },
    {
     "data": {
      "text/html": [
       "<pre style=\"white-space:pre;overflow-x:auto;line-height:normal;font-family:Menlo,'DejaVu Sans Mono',consolas,'Courier New',monospace\"><span style=\"color: #000080; text-decoration-color: #000080\"></span></pre>\n"
      ],
      "text/plain": []
     },
     "metadata": {},
     "output_type": "display_data"
    },
    {
     "data": {
      "text/html": [
       "<pre style=\"white-space:pre;overflow-x:auto;line-height:normal;font-family:Menlo,'DejaVu Sans Mono',consolas,'Courier New',monospace\"><span style=\"color: #000080; text-decoration-color: #000080\">epoch:23, train_loss: 1.2800626754760742, test_loss: 1.2856438159942627\n",
       "</span></pre>\n"
      ],
      "text/plain": [
       "\u001b[34mepoch:23, train_loss: 1.2800626754760742, test_loss: 1.2856438159942627\n",
       "\u001b[0m"
      ]
     },
     "metadata": {},
     "output_type": "display_data"
    },
    {
     "data": {
      "text/html": [
       "<pre style=\"white-space:pre;overflow-x:auto;line-height:normal;font-family:Menlo,'DejaVu Sans Mono',consolas,'Courier New',monospace\"><span style=\"color: #000080; text-decoration-color: #000080\"></span></pre>\n"
      ],
      "text/plain": []
     },
     "metadata": {},
     "output_type": "display_data"
    },
    {
     "data": {
      "text/html": [
       "<pre style=\"white-space:pre;overflow-x:auto;line-height:normal;font-family:Menlo,'DejaVu Sans Mono',consolas,'Courier New',monospace\"><span style=\"color: #000080; text-decoration-color: #000080\">epoch:23, train_accuracy: 56.735897064208984, test_accuracy: 55.58601760864258\n",
       "</span></pre>\n"
      ],
      "text/plain": [
       "\u001b[34mepoch:23, train_accuracy: 56.735897064208984, test_accuracy: 55.58601760864258\n",
       "\u001b[0m"
      ]
     },
     "metadata": {},
     "output_type": "display_data"
    },
    {
     "data": {
      "text/html": [
       "<pre style=\"white-space:pre;overflow-x:auto;line-height:normal;font-family:Menlo,'DejaVu Sans Mono',consolas,'Courier New',monospace\"><span style=\"color: #800000; text-decoration-color: #800000\">\n",
       "</span></pre>\n"
      ],
      "text/plain": [
       "\u001b[31m\n",
       "\u001b[0m"
      ]
     },
     "metadata": {},
     "output_type": "display_data"
    },
    {
     "data": {
      "text/html": [
       "<pre style=\"white-space:pre;overflow-x:auto;line-height:normal;font-family:Menlo,'DejaVu Sans Mono',consolas,'Courier New',monospace\"><span style=\"color: #000080; text-decoration-color: #000080\">epoch:24, train_loss: 1.278102993965149, test_loss: 1.290987491607666\n",
       "</span></pre>\n"
      ],
      "text/plain": [
       "\u001b[34mepoch:24, train_loss: 1.278102993965149, test_loss: 1.290987491607666\n",
       "\u001b[0m"
      ]
     },
     "metadata": {},
     "output_type": "display_data"
    },
    {
     "data": {
      "text/html": [
       "<pre style=\"white-space:pre;overflow-x:auto;line-height:normal;font-family:Menlo,'DejaVu Sans Mono',consolas,'Courier New',monospace\"><span style=\"color: #000080; text-decoration-color: #000080\"></span></pre>\n"
      ],
      "text/plain": []
     },
     "metadata": {},
     "output_type": "display_data"
    },
    {
     "data": {
      "text/html": [
       "<pre style=\"white-space:pre;overflow-x:auto;line-height:normal;font-family:Menlo,'DejaVu Sans Mono',consolas,'Courier New',monospace\"><span style=\"color: #000080; text-decoration-color: #000080\">epoch:24, train_accuracy: 56.78428411483765, test_accuracy: 55.720130920410156\n",
       "</span></pre>\n"
      ],
      "text/plain": [
       "\u001b[34mepoch:24, train_accuracy: 56.78428411483765, test_accuracy: 55.720130920410156\n",
       "\u001b[0m"
      ]
     },
     "metadata": {},
     "output_type": "display_data"
    },
    {
     "data": {
      "text/html": [
       "<pre style=\"white-space:pre;overflow-x:auto;line-height:normal;font-family:Menlo,'DejaVu Sans Mono',consolas,'Courier New',monospace\"><span style=\"color: #800000; text-decoration-color: #800000\">\u001b[1A 24%|██▍       | 24/100 [02:35&lt;05:42,  4.50s/it]\n",
       "</span></pre>\n"
      ],
      "text/plain": [
       "\u001b[31m\u001b[1A 24%|██▍       | 24/100 [02:35<05:42,  4.50s/it]\n",
       "\u001b[0m"
      ]
     },
     "metadata": {},
     "output_type": "display_data"
    },
    {
     "data": {
      "text/html": [
       "<pre style=\"white-space:pre;overflow-x:auto;line-height:normal;font-family:Menlo,'DejaVu Sans Mono',consolas,'Courier New',monospace\"><span style=\"color: #000080; text-decoration-color: #000080\"></span></pre>\n"
      ],
      "text/plain": []
     },
     "metadata": {},
     "output_type": "display_data"
    },
    {
     "data": {
      "text/html": [
       "<pre style=\"white-space:pre;overflow-x:auto;line-height:normal;font-family:Menlo,'DejaVu Sans Mono',consolas,'Courier New',monospace\"><span style=\"color: #000080; text-decoration-color: #000080\">epoch:25, train_loss: 1.27705979347229, test_loss: 1.2833584547042847\n",
       "</span></pre>\n"
      ],
      "text/plain": [
       "\u001b[34mepoch:25, train_loss: 1.27705979347229, test_loss: 1.2833584547042847\n",
       "\u001b[0m"
      ]
     },
     "metadata": {},
     "output_type": "display_data"
    },
    {
     "data": {
      "text/html": [
       "<pre style=\"white-space:pre;overflow-x:auto;line-height:normal;font-family:Menlo,'DejaVu Sans Mono',consolas,'Courier New',monospace\"><span style=\"color: #000080; text-decoration-color: #000080\">epoch:25, train_accuracy: 56.83302879333496, test_accuracy: 55.681610107421875\n",
       "</span></pre>\n"
      ],
      "text/plain": [
       "\u001b[34mepoch:25, train_accuracy: 56.83302879333496, test_accuracy: 55.681610107421875\n",
       "\u001b[0m"
      ]
     },
     "metadata": {},
     "output_type": "display_data"
    },
    {
     "data": {
      "text/html": [
       "<pre style=\"white-space:pre;overflow-x:auto;line-height:normal;font-family:Menlo,'DejaVu Sans Mono',consolas,'Courier New',monospace\"><span style=\"color: #800000; text-decoration-color: #800000\">\u001b[1A 25%|██▌       | 25/100 [02:40&lt;05:34,  4.46s/it]\n",
       "</span></pre>\n"
      ],
      "text/plain": [
       "\u001b[31m\u001b[1A 25%|██▌       | 25/100 [02:40<05:34,  4.46s/it]\n",
       "\u001b[0m"
      ]
     },
     "metadata": {},
     "output_type": "display_data"
    },
    {
     "data": {
      "text/html": [
       "<pre style=\"white-space:pre;overflow-x:auto;line-height:normal;font-family:Menlo,'DejaVu Sans Mono',consolas,'Courier New',monospace\"><span style=\"color: #000080; text-decoration-color: #000080\"></span></pre>\n"
      ],
      "text/plain": []
     },
     "metadata": {},
     "output_type": "display_data"
    },
    {
     "data": {
      "text/html": [
       "<pre style=\"white-space:pre;overflow-x:auto;line-height:normal;font-family:Menlo,'DejaVu Sans Mono',consolas,'Courier New',monospace\"><span style=\"color: #000080; text-decoration-color: #000080\">epoch:26, train_loss: 1.2771044969558716, test_loss: 1.2807025909423828\n",
       "</span></pre>\n"
      ],
      "text/plain": [
       "\u001b[34mepoch:26, train_loss: 1.2771044969558716, test_loss: 1.2807025909423828\n",
       "\u001b[0m"
      ]
     },
     "metadata": {},
     "output_type": "display_data"
    },
    {
     "data": {
      "text/html": [
       "<pre style=\"white-space:pre;overflow-x:auto;line-height:normal;font-family:Menlo,'DejaVu Sans Mono',consolas,'Courier New',monospace\"><span style=\"color: #000080; text-decoration-color: #000080\"></span></pre>\n"
      ],
      "text/plain": []
     },
     "metadata": {},
     "output_type": "display_data"
    },
    {
     "data": {
      "text/html": [
       "<pre style=\"white-space:pre;overflow-x:auto;line-height:normal;font-family:Menlo,'DejaVu Sans Mono',consolas,'Courier New',monospace\"><span style=\"color: #000080; text-decoration-color: #000080\">epoch:26, train_accuracy: 56.81809186935425, test_accuracy: 55.72066879272461\n",
       "</span></pre>\n"
      ],
      "text/plain": [
       "\u001b[34mepoch:26, train_accuracy: 56.81809186935425, test_accuracy: 55.72066879272461\n",
       "\u001b[0m"
      ]
     },
     "metadata": {},
     "output_type": "display_data"
    },
    {
     "data": {
      "text/html": [
       "<pre style=\"white-space:pre;overflow-x:auto;line-height:normal;font-family:Menlo,'DejaVu Sans Mono',consolas,'Courier New',monospace\"><span style=\"color: #800000; text-decoration-color: #800000\">\u001b[1A 26%|██▌       | 26/100 [02:44&lt;05:24,  4.39s/it]\n",
       "</span></pre>\n"
      ],
      "text/plain": [
       "\u001b[31m\u001b[1A 26%|██▌       | 26/100 [02:44<05:24,  4.39s/it]\n",
       "\u001b[0m"
      ]
     },
     "metadata": {},
     "output_type": "display_data"
    },
    {
     "data": {
      "text/html": [
       "<pre style=\"white-space:pre;overflow-x:auto;line-height:normal;font-family:Menlo,'DejaVu Sans Mono',consolas,'Courier New',monospace\"><span style=\"color: #000080; text-decoration-color: #000080\"></span></pre>\n"
      ],
      "text/plain": []
     },
     "metadata": {},
     "output_type": "display_data"
    },
    {
     "data": {
      "text/html": [
       "<pre style=\"white-space:pre;overflow-x:auto;line-height:normal;font-family:Menlo,'DejaVu Sans Mono',consolas,'Courier New',monospace\"><span style=\"color: #000080; text-decoration-color: #000080\">epoch:27, train_loss: 1.275630235671997, test_loss: 1.2831650972366333\n",
       "</span></pre>\n"
      ],
      "text/plain": [
       "\u001b[34mepoch:27, train_loss: 1.275630235671997, test_loss: 1.2831650972366333\n",
       "\u001b[0m"
      ]
     },
     "metadata": {},
     "output_type": "display_data"
    },
    {
     "data": {
      "text/html": [
       "<pre style=\"white-space:pre;overflow-x:auto;line-height:normal;font-family:Menlo,'DejaVu Sans Mono',consolas,'Courier New',monospace\"><span style=\"color: #000080; text-decoration-color: #000080\"></span></pre>\n"
      ],
      "text/plain": []
     },
     "metadata": {},
     "output_type": "display_data"
    },
    {
     "data": {
      "text/html": [
       "<pre style=\"white-space:pre;overflow-x:auto;line-height:normal;font-family:Menlo,'DejaVu Sans Mono',consolas,'Courier New',monospace\"><span style=\"color: #000080; text-decoration-color: #000080\">epoch:27, train_accuracy: 56.84819221496582, test_accuracy: 55.69273376464844\n",
       "</span></pre>\n"
      ],
      "text/plain": [
       "\u001b[34mepoch:27, train_accuracy: 56.84819221496582, test_accuracy: 55.69273376464844\n",
       "\u001b[0m"
      ]
     },
     "metadata": {},
     "output_type": "display_data"
    },
    {
     "data": {
      "text/html": [
       "<pre style=\"white-space:pre;overflow-x:auto;line-height:normal;font-family:Menlo,'DejaVu Sans Mono',consolas,'Courier New',monospace\"><span style=\"color: #800000; text-decoration-color: #800000\">\u001b[1A 27%|██▋       | 27/100 [02:48&lt;05:19,  4.38s/it]\n",
       "</span></pre>\n"
      ],
      "text/plain": [
       "\u001b[31m\u001b[1A 27%|██▋       | 27/100 [02:48<05:19,  4.38s/it]\n",
       "\u001b[0m"
      ]
     },
     "metadata": {},
     "output_type": "display_data"
    },
    {
     "data": {
      "text/html": [
       "<pre style=\"white-space:pre;overflow-x:auto;line-height:normal;font-family:Menlo,'DejaVu Sans Mono',consolas,'Courier New',monospace\"><span style=\"color: #000080; text-decoration-color: #000080\"></span></pre>\n"
      ],
      "text/plain": []
     },
     "metadata": {},
     "output_type": "display_data"
    },
    {
     "data": {
      "text/html": [
       "<pre style=\"white-space:pre;overflow-x:auto;line-height:normal;font-family:Menlo,'DejaVu Sans Mono',consolas,'Courier New',monospace\"><span style=\"color: #000080; text-decoration-color: #000080\">epoch:28, train_loss: 1.276026964187622, test_loss: 1.2811758518218994\n",
       "</span></pre>\n"
      ],
      "text/plain": [
       "\u001b[34mepoch:28, train_loss: 1.276026964187622, test_loss: 1.2811758518218994\n",
       "\u001b[0m"
      ]
     },
     "metadata": {},
     "output_type": "display_data"
    },
    {
     "data": {
      "text/html": [
       "<pre style=\"white-space:pre;overflow-x:auto;line-height:normal;font-family:Menlo,'DejaVu Sans Mono',consolas,'Courier New',monospace\"><span style=\"color: #000080; text-decoration-color: #000080\"></span></pre>\n"
      ],
      "text/plain": []
     },
     "metadata": {},
     "output_type": "display_data"
    },
    {
     "data": {
      "text/html": [
       "<pre style=\"white-space:pre;overflow-x:auto;line-height:normal;font-family:Menlo,'DejaVu Sans Mono',consolas,'Courier New',monospace\"><span style=\"color: #000080; text-decoration-color: #000080\">epoch:28, train_accuracy: 56.848061084747314, test_accuracy: 55.54351043701172\n",
       "</span></pre>\n"
      ],
      "text/plain": [
       "\u001b[34mepoch:28, train_accuracy: 56.848061084747314, test_accuracy: 55.54351043701172\n",
       "\u001b[0m"
      ]
     },
     "metadata": {},
     "output_type": "display_data"
    },
    {
     "data": {
      "text/html": [
       "<pre style=\"white-space:pre;overflow-x:auto;line-height:normal;font-family:Menlo,'DejaVu Sans Mono',consolas,'Courier New',monospace\"><span style=\"color: #800000; text-decoration-color: #800000\">\u001b[1A 28%|██▊       | 28/100 [02:53&lt;05:11,  4.33s/it]\n",
       "</span></pre>\n"
      ],
      "text/plain": [
       "\u001b[31m\u001b[1A 28%|██▊       | 28/100 [02:53<05:11,  4.33s/it]\n",
       "\u001b[0m"
      ]
     },
     "metadata": {},
     "output_type": "display_data"
    },
    {
     "data": {
      "text/html": [
       "<pre style=\"white-space:pre;overflow-x:auto;line-height:normal;font-family:Menlo,'DejaVu Sans Mono',consolas,'Courier New',monospace\"><span style=\"color: #000080; text-decoration-color: #000080\"></span></pre>\n"
      ],
      "text/plain": []
     },
     "metadata": {},
     "output_type": "display_data"
    },
    {
     "data": {
      "text/html": [
       "<pre style=\"white-space:pre;overflow-x:auto;line-height:normal;font-family:Menlo,'DejaVu Sans Mono',consolas,'Courier New',monospace\"><span style=\"color: #000080; text-decoration-color: #000080\">epoch:29, train_loss: 1.2751163244247437, test_loss: 1.2822781801223755\n",
       "</span></pre>\n"
      ],
      "text/plain": [
       "\u001b[34mepoch:29, train_loss: 1.2751163244247437, test_loss: 1.2822781801223755\n",
       "\u001b[0m"
      ]
     },
     "metadata": {},
     "output_type": "display_data"
    },
    {
     "data": {
      "text/html": [
       "<pre style=\"white-space:pre;overflow-x:auto;line-height:normal;font-family:Menlo,'DejaVu Sans Mono',consolas,'Courier New',monospace\"><span style=\"color: #000080; text-decoration-color: #000080\"></span></pre>\n"
      ],
      "text/plain": []
     },
     "metadata": {},
     "output_type": "display_data"
    },
    {
     "data": {
      "text/html": [
       "<pre style=\"white-space:pre;overflow-x:auto;line-height:normal;font-family:Menlo,'DejaVu Sans Mono',consolas,'Courier New',monospace\"><span style=\"color: #000080; text-decoration-color: #000080\">epoch:29, train_accuracy: 56.86867833137512, test_accuracy: 55.69148254394531\n",
       "</span></pre>\n"
      ],
      "text/plain": [
       "\u001b[34mepoch:29, train_accuracy: 56.86867833137512, test_accuracy: 55.69148254394531\n",
       "\u001b[0m"
      ]
     },
     "metadata": {},
     "output_type": "display_data"
    },
    {
     "data": {
      "text/html": [
       "<pre style=\"white-space:pre;overflow-x:auto;line-height:normal;font-family:Menlo,'DejaVu Sans Mono',consolas,'Courier New',monospace\"><span style=\"color: #800000; text-decoration-color: #800000\">\u001b[1A 29%|██▉       | 29/100 [02:57&lt;05:01,  4.24s/it]\n",
       "</span></pre>\n"
      ],
      "text/plain": [
       "\u001b[31m\u001b[1A 29%|██▉       | 29/100 [02:57<05:01,  4.24s/it]\n",
       "\u001b[0m"
      ]
     },
     "metadata": {},
     "output_type": "display_data"
    },
    {
     "data": {
      "text/html": [
       "<pre style=\"white-space:pre;overflow-x:auto;line-height:normal;font-family:Menlo,'DejaVu Sans Mono',consolas,'Courier New',monospace\"><span style=\"color: #000080; text-decoration-color: #000080\"></span></pre>\n"
      ],
      "text/plain": []
     },
     "metadata": {},
     "output_type": "display_data"
    },
    {
     "data": {
      "text/html": [
       "<pre style=\"white-space:pre;overflow-x:auto;line-height:normal;font-family:Menlo,'DejaVu Sans Mono',consolas,'Courier New',monospace\"><span style=\"color: #000080; text-decoration-color: #000080\">epoch:30, train_loss: 1.2738984823226929, test_loss: 1.27914559841156\n",
       "</span></pre>\n"
      ],
      "text/plain": [
       "\u001b[34mepoch:30, train_loss: 1.2738984823226929, test_loss: 1.27914559841156\n",
       "\u001b[0m"
      ]
     },
     "metadata": {},
     "output_type": "display_data"
    },
    {
     "data": {
      "text/html": [
       "<pre style=\"white-space:pre;overflow-x:auto;line-height:normal;font-family:Menlo,'DejaVu Sans Mono',consolas,'Courier New',monospace\"><span style=\"color: #000080; text-decoration-color: #000080\"></span></pre>\n"
      ],
      "text/plain": []
     },
     "metadata": {},
     "output_type": "display_data"
    },
    {
     "data": {
      "text/html": [
       "<pre style=\"white-space:pre;overflow-x:auto;line-height:normal;font-family:Menlo,'DejaVu Sans Mono',consolas,'Courier New',monospace\"><span style=\"color: #000080; text-decoration-color: #000080\">epoch:30, train_accuracy: 56.90094232559204, test_accuracy: 55.880210876464844\n",
       "</span></pre>\n"
      ],
      "text/plain": [
       "\u001b[34mepoch:30, train_accuracy: 56.90094232559204, test_accuracy: 55.880210876464844\n",
       "\u001b[0m"
      ]
     },
     "metadata": {},
     "output_type": "display_data"
    },
    {
     "data": {
      "text/html": [
       "<pre style=\"white-space:pre;overflow-x:auto;line-height:normal;font-family:Menlo,'DejaVu Sans Mono',consolas,'Courier New',monospace\"><span style=\"color: #800000; text-decoration-color: #800000\">\u001b[1A 30%|███       | 30/100 [03:01&lt;04:58,  4.27s/it]\n",
       "</span></pre>\n"
      ],
      "text/plain": [
       "\u001b[31m\u001b[1A 30%|███       | 30/100 [03:01<04:58,  4.27s/it]\n",
       "\u001b[0m"
      ]
     },
     "metadata": {},
     "output_type": "display_data"
    },
    {
     "data": {
      "text/html": [
       "<pre style=\"white-space:pre;overflow-x:auto;line-height:normal;font-family:Menlo,'DejaVu Sans Mono',consolas,'Courier New',monospace\"><span style=\"color: #000080; text-decoration-color: #000080\"></span></pre>\n"
      ],
      "text/plain": []
     },
     "metadata": {},
     "output_type": "display_data"
    },
    {
     "data": {
      "text/html": [
       "<pre style=\"white-space:pre;overflow-x:auto;line-height:normal;font-family:Menlo,'DejaVu Sans Mono',consolas,'Courier New',monospace\"><span style=\"color: #000080; text-decoration-color: #000080\">epoch:31, train_loss: 1.2741678953170776, test_loss: 1.2817059755325317\n",
       "</span></pre>\n"
      ],
      "text/plain": [
       "\u001b[34mepoch:31, train_loss: 1.2741678953170776, test_loss: 1.2817059755325317\n",
       "\u001b[0m"
      ]
     },
     "metadata": {},
     "output_type": "display_data"
    },
    {
     "data": {
      "text/html": [
       "<pre style=\"white-space:pre;overflow-x:auto;line-height:normal;font-family:Menlo,'DejaVu Sans Mono',consolas,'Courier New',monospace\"><span style=\"color: #000080; text-decoration-color: #000080\">epoch:31, train_accuracy: 56.925374269485474, test_accuracy: 55.699623107910156\n",
       "</span></pre>\n"
      ],
      "text/plain": [
       "\u001b[34mepoch:31, train_accuracy: 56.925374269485474, test_accuracy: 55.699623107910156\n",
       "\u001b[0m"
      ]
     },
     "metadata": {},
     "output_type": "display_data"
    },
    {
     "data": {
      "text/html": [
       "<pre style=\"white-space:pre;overflow-x:auto;line-height:normal;font-family:Menlo,'DejaVu Sans Mono',consolas,'Courier New',monospace\"><span style=\"color: #800000; text-decoration-color: #800000\">\u001b[1A 31%|███       | 31/100 [03:05&lt;04:53,  4.25s/it]\n",
       "</span></pre>\n"
      ],
      "text/plain": [
       "\u001b[31m\u001b[1A 31%|███       | 31/100 [03:05<04:53,  4.25s/it]\n",
       "\u001b[0m"
      ]
     },
     "metadata": {},
     "output_type": "display_data"
    },
    {
     "data": {
      "text/html": [
       "<pre style=\"white-space:pre;overflow-x:auto;line-height:normal;font-family:Menlo,'DejaVu Sans Mono',consolas,'Courier New',monospace\"><span style=\"color: #000080; text-decoration-color: #000080\"></span></pre>\n"
      ],
      "text/plain": []
     },
     "metadata": {},
     "output_type": "display_data"
    },
    {
     "data": {
      "text/html": [
       "<pre style=\"white-space:pre;overflow-x:auto;line-height:normal;font-family:Menlo,'DejaVu Sans Mono',consolas,'Courier New',monospace\"><span style=\"color: #000080; text-decoration-color: #000080\">epoch:32, train_loss: 1.2733376026153564, test_loss: 1.285524606704712\n",
       "</span></pre>\n"
      ],
      "text/plain": [
       "\u001b[34mepoch:32, train_loss: 1.2733376026153564, test_loss: 1.285524606704712\n",
       "\u001b[0m"
      ]
     },
     "metadata": {},
     "output_type": "display_data"
    },
    {
     "data": {
      "text/html": [
       "<pre style=\"white-space:pre;overflow-x:auto;line-height:normal;font-family:Menlo,'DejaVu Sans Mono',consolas,'Courier New',monospace\"><span style=\"color: #000080; text-decoration-color: #000080\"></span></pre>\n"
      ],
      "text/plain": []
     },
     "metadata": {},
     "output_type": "display_data"
    },
    {
     "data": {
      "text/html": [
       "<pre style=\"white-space:pre;overflow-x:auto;line-height:normal;font-family:Menlo,'DejaVu Sans Mono',consolas,'Courier New',monospace\"><span style=\"color: #000080; text-decoration-color: #000080\">epoch:32, train_accuracy: 56.918805837631226, test_accuracy: 55.61050796508789\n",
       "</span></pre>\n"
      ],
      "text/plain": [
       "\u001b[34mepoch:32, train_accuracy: 56.918805837631226, test_accuracy: 55.61050796508789\n",
       "\u001b[0m"
      ]
     },
     "metadata": {},
     "output_type": "display_data"
    },
    {
     "data": {
      "text/html": [
       "<pre style=\"white-space:pre;overflow-x:auto;line-height:normal;font-family:Menlo,'DejaVu Sans Mono',consolas,'Courier New',monospace\"><span style=\"color: #800000; text-decoration-color: #800000\">\u001b[1A 32%|███▏      | 32/100 [03:09&lt;04:43,  4.17s/it]\n",
       "</span></pre>\n"
      ],
      "text/plain": [
       "\u001b[31m\u001b[1A 32%|███▏      | 32/100 [03:09<04:43,  4.17s/it]\n",
       "\u001b[0m"
      ]
     },
     "metadata": {},
     "output_type": "display_data"
    },
    {
     "data": {
      "text/html": [
       "<pre style=\"white-space:pre;overflow-x:auto;line-height:normal;font-family:Menlo,'DejaVu Sans Mono',consolas,'Courier New',monospace\"><span style=\"color: #000080; text-decoration-color: #000080\">epoch:33, train_loss: 1.2727196216583252, test_loss: 1.2788164615631104\n",
       "</span></pre>\n"
      ],
      "text/plain": [
       "\u001b[34mepoch:33, train_loss: 1.2727196216583252, test_loss: 1.2788164615631104\n",
       "\u001b[0m"
      ]
     },
     "metadata": {},
     "output_type": "display_data"
    },
    {
     "data": {
      "text/html": [
       "<pre style=\"white-space:pre;overflow-x:auto;line-height:normal;font-family:Menlo,'DejaVu Sans Mono',consolas,'Courier New',monospace\"><span style=\"color: #000080; text-decoration-color: #000080\"></span></pre>\n"
      ],
      "text/plain": []
     },
     "metadata": {},
     "output_type": "display_data"
    },
    {
     "data": {
      "text/html": [
       "<pre style=\"white-space:pre;overflow-x:auto;line-height:normal;font-family:Menlo,'DejaVu Sans Mono',consolas,'Courier New',monospace\"><span style=\"color: #000080; text-decoration-color: #000080\">epoch:33, train_accuracy: 56.917595863342285, test_accuracy: 55.76762390136719\n",
       "</span></pre>\n"
      ],
      "text/plain": [
       "\u001b[34mepoch:33, train_accuracy: 56.917595863342285, test_accuracy: 55.76762390136719\n",
       "\u001b[0m"
      ]
     },
     "metadata": {},
     "output_type": "display_data"
    },
    {
     "data": {
      "text/html": [
       "<pre style=\"white-space:pre;overflow-x:auto;line-height:normal;font-family:Menlo,'DejaVu Sans Mono',consolas,'Courier New',monospace\"><span style=\"color: #800000; text-decoration-color: #800000\">\u001b[1A 33%|███▎      | 33/100 [03:13&lt;04:34,  4.10s/it]\n",
       "</span></pre>\n"
      ],
      "text/plain": [
       "\u001b[31m\u001b[1A 33%|███▎      | 33/100 [03:13<04:34,  4.10s/it]\n",
       "\u001b[0m"
      ]
     },
     "metadata": {},
     "output_type": "display_data"
    },
    {
     "data": {
      "text/html": [
       "<pre style=\"white-space:pre;overflow-x:auto;line-height:normal;font-family:Menlo,'DejaVu Sans Mono',consolas,'Courier New',monospace\"><span style=\"color: #000080; text-decoration-color: #000080\"></span></pre>\n"
      ],
      "text/plain": []
     },
     "metadata": {},
     "output_type": "display_data"
    },
    {
     "data": {
      "text/html": [
       "<pre style=\"white-space:pre;overflow-x:auto;line-height:normal;font-family:Menlo,'DejaVu Sans Mono',consolas,'Courier New',monospace\"><span style=\"color: #000080; text-decoration-color: #000080\">epoch:34, train_loss: 1.2720496654510498, test_loss: 1.283661961555481\n",
       "</span></pre>\n"
      ],
      "text/plain": [
       "\u001b[34mepoch:34, train_loss: 1.2720496654510498, test_loss: 1.283661961555481\n",
       "\u001b[0m"
      ]
     },
     "metadata": {},
     "output_type": "display_data"
    },
    {
     "data": {
      "text/html": [
       "<pre style=\"white-space:pre;overflow-x:auto;line-height:normal;font-family:Menlo,'DejaVu Sans Mono',consolas,'Courier New',monospace\"><span style=\"color: #000080; text-decoration-color: #000080\"></span></pre>\n"
      ],
      "text/plain": []
     },
     "metadata": {},
     "output_type": "display_data"
    },
    {
     "data": {
      "text/html": [
       "<pre style=\"white-space:pre;overflow-x:auto;line-height:normal;font-family:Menlo,'DejaVu Sans Mono',consolas,'Courier New',monospace\"><span style=\"color: #000080; text-decoration-color: #000080\">epoch:34, train_accuracy: 56.95365071296692, test_accuracy: 55.78133010864258\n",
       "</span></pre>\n"
      ],
      "text/plain": [
       "\u001b[34mepoch:34, train_accuracy: 56.95365071296692, test_accuracy: 55.78133010864258\n",
       "\u001b[0m"
      ]
     },
     "metadata": {},
     "output_type": "display_data"
    },
    {
     "data": {
      "text/html": [
       "<pre style=\"white-space:pre;overflow-x:auto;line-height:normal;font-family:Menlo,'DejaVu Sans Mono',consolas,'Courier New',monospace\"><span style=\"color: #800000; text-decoration-color: #800000\">\u001b[1A 34%|███▍      | 34/100 [03:17&lt;04:26,  4.04s/it]\n",
       "</span></pre>\n"
      ],
      "text/plain": [
       "\u001b[31m\u001b[1A 34%|███▍      | 34/100 [03:17<04:26,  4.04s/it]\n",
       "\u001b[0m"
      ]
     },
     "metadata": {},
     "output_type": "display_data"
    },
    {
     "data": {
      "text/html": [
       "<pre style=\"white-space:pre;overflow-x:auto;line-height:normal;font-family:Menlo,'DejaVu Sans Mono',consolas,'Courier New',monospace\"><span style=\"color: #000080; text-decoration-color: #000080\"></span></pre>\n"
      ],
      "text/plain": []
     },
     "metadata": {},
     "output_type": "display_data"
    },
    {
     "data": {
      "text/html": [
       "<pre style=\"white-space:pre;overflow-x:auto;line-height:normal;font-family:Menlo,'DejaVu Sans Mono',consolas,'Courier New',monospace\"><span style=\"color: #000080; text-decoration-color: #000080\">epoch:35, train_loss: 1.2721365690231323, test_loss: 1.2794722318649292\n",
       "</span></pre>\n"
      ],
      "text/plain": [
       "\u001b[34mepoch:35, train_loss: 1.2721365690231323, test_loss: 1.2794722318649292\n",
       "\u001b[0m"
      ]
     },
     "metadata": {},
     "output_type": "display_data"
    },
    {
     "data": {
      "text/html": [
       "<pre style=\"white-space:pre;overflow-x:auto;line-height:normal;font-family:Menlo,'DejaVu Sans Mono',consolas,'Courier New',monospace\"><span style=\"color: #000080; text-decoration-color: #000080\"></span></pre>\n"
      ],
      "text/plain": []
     },
     "metadata": {},
     "output_type": "display_data"
    },
    {
     "data": {
      "text/html": [
       "<pre style=\"white-space:pre;overflow-x:auto;line-height:normal;font-family:Menlo,'DejaVu Sans Mono',consolas,'Courier New',monospace\"><span style=\"color: #000080; text-decoration-color: #000080\">epoch:35, train_accuracy: 56.98505640029907, test_accuracy: 55.89102554321289\n",
       "</span></pre>\n"
      ],
      "text/plain": [
       "\u001b[34mepoch:35, train_accuracy: 56.98505640029907, test_accuracy: 55.89102554321289\n",
       "\u001b[0m"
      ]
     },
     "metadata": {},
     "output_type": "display_data"
    },
    {
     "data": {
      "text/html": [
       "<pre style=\"white-space:pre;overflow-x:auto;line-height:normal;font-family:Menlo,'DejaVu Sans Mono',consolas,'Courier New',monospace\"><span style=\"color: #800000; text-decoration-color: #800000\">\u001b[1A 35%|███▌      | 35/100 [03:21&lt;04:18,  3.98s/it]\n",
       "</span></pre>\n"
      ],
      "text/plain": [
       "\u001b[31m\u001b[1A 35%|███▌      | 35/100 [03:21<04:18,  3.98s/it]\n",
       "\u001b[0m"
      ]
     },
     "metadata": {},
     "output_type": "display_data"
    },
    {
     "data": {
      "text/html": [
       "<pre style=\"white-space:pre;overflow-x:auto;line-height:normal;font-family:Menlo,'DejaVu Sans Mono',consolas,'Courier New',monospace\"><span style=\"color: #000080; text-decoration-color: #000080\"></span></pre>\n"
      ],
      "text/plain": []
     },
     "metadata": {},
     "output_type": "display_data"
    },
    {
     "data": {
      "text/html": [
       "<pre style=\"white-space:pre;overflow-x:auto;line-height:normal;font-family:Menlo,'DejaVu Sans Mono',consolas,'Courier New',monospace\"><span style=\"color: #000080; text-decoration-color: #000080\">epoch:36, train_loss: 1.2704007625579834, test_loss: 1.2793446779251099\n",
       "</span></pre>\n"
      ],
      "text/plain": [
       "\u001b[34mepoch:36, train_loss: 1.2704007625579834, test_loss: 1.2793446779251099\n",
       "\u001b[0m"
      ]
     },
     "metadata": {},
     "output_type": "display_data"
    },
    {
     "data": {
      "text/html": [
       "<pre style=\"white-space:pre;overflow-x:auto;line-height:normal;font-family:Menlo,'DejaVu Sans Mono',consolas,'Courier New',monospace\"><span style=\"color: #000080; text-decoration-color: #000080\"></span></pre>\n"
      ],
      "text/plain": []
     },
     "metadata": {},
     "output_type": "display_data"
    },
    {
     "data": {
      "text/html": [
       "<pre style=\"white-space:pre;overflow-x:auto;line-height:normal;font-family:Menlo,'DejaVu Sans Mono',consolas,'Courier New',monospace\"><span style=\"color: #000080; text-decoration-color: #000080\">epoch:36, train_accuracy: 56.98519945144653, test_accuracy: 55.874961853027344\n",
       "</span></pre>\n"
      ],
      "text/plain": [
       "\u001b[34mepoch:36, train_accuracy: 56.98519945144653, test_accuracy: 55.874961853027344\n",
       "\u001b[0m"
      ]
     },
     "metadata": {},
     "output_type": "display_data"
    },
    {
     "data": {
      "text/html": [
       "<pre style=\"white-space:pre;overflow-x:auto;line-height:normal;font-family:Menlo,'DejaVu Sans Mono',consolas,'Courier New',monospace\"><span style=\"color: #800000; text-decoration-color: #800000\">\u001b[1A 36%|███▌      | 36/100 [03:25&lt;04:11,  3.94s/it]\n",
       "</span></pre>\n"
      ],
      "text/plain": [
       "\u001b[31m\u001b[1A 36%|███▌      | 36/100 [03:25<04:11,  3.94s/it]\n",
       "\u001b[0m"
      ]
     },
     "metadata": {},
     "output_type": "display_data"
    },
    {
     "data": {
      "text/html": [
       "<pre style=\"white-space:pre;overflow-x:auto;line-height:normal;font-family:Menlo,'DejaVu Sans Mono',consolas,'Courier New',monospace\"><span style=\"color: #800000; text-decoration-color: #800000\">\u001b[1A 37%|███▋      | 37/100 [03:28&lt;04:05,  3.90s/it]</span></pre>\n"
      ],
      "text/plain": [
       "\u001b[31m\u001b[1A 37%|███▋      | 37/100 [03:28<04:05,  3.90s/it]\u001b[0m"
      ]
     },
     "metadata": {},
     "output_type": "display_data"
    },
    {
     "data": {
      "text/html": [
       "<pre style=\"white-space:pre;overflow-x:auto;line-height:normal;font-family:Menlo,'DejaVu Sans Mono',consolas,'Courier New',monospace\"><span style=\"color: #000080; text-decoration-color: #000080\">epoch:37, train_loss: 1.2706063985824585, test_loss: 1.2759017944335938\n",
       "</span></pre>\n"
      ],
      "text/plain": [
       "\u001b[34mepoch:37, train_loss: 1.2706063985824585, test_loss: 1.2759017944335938\n",
       "\u001b[0m"
      ]
     },
     "metadata": {},
     "output_type": "display_data"
    },
    {
     "data": {
      "text/html": [
       "<pre style=\"white-space:pre;overflow-x:auto;line-height:normal;font-family:Menlo,'DejaVu Sans Mono',consolas,'Courier New',monospace\"><span style=\"color: #000080; text-decoration-color: #000080\"></span></pre>\n"
      ],
      "text/plain": []
     },
     "metadata": {},
     "output_type": "display_data"
    },
    {
     "data": {
      "text/html": [
       "<pre style=\"white-space:pre;overflow-x:auto;line-height:normal;font-family:Menlo,'DejaVu Sans Mono',consolas,'Courier New',monospace\"><span style=\"color: #000080; text-decoration-color: #000080\">epoch:37, train_accuracy: 56.976670026779175, test_accuracy: 55.949180603027344\n",
       "</span></pre>\n"
      ],
      "text/plain": [
       "\u001b[34mepoch:37, train_accuracy: 56.976670026779175, test_accuracy: 55.949180603027344\n",
       "\u001b[0m"
      ]
     },
     "metadata": {},
     "output_type": "display_data"
    },
    {
     "data": {
      "text/html": [
       "<pre style=\"white-space:pre;overflow-x:auto;line-height:normal;font-family:Menlo,'DejaVu Sans Mono',consolas,'Courier New',monospace\"><span style=\"color: #800000; text-decoration-color: #800000\">\n",
       "</span></pre>\n"
      ],
      "text/plain": [
       "\u001b[31m\n",
       "\u001b[0m"
      ]
     },
     "metadata": {},
     "output_type": "display_data"
    },
    {
     "data": {
      "text/html": [
       "<pre style=\"white-space:pre;overflow-x:auto;line-height:normal;font-family:Menlo,'DejaVu Sans Mono',consolas,'Courier New',monospace\"><span style=\"color: #000080; text-decoration-color: #000080\"></span></pre>\n"
      ],
      "text/plain": []
     },
     "metadata": {},
     "output_type": "display_data"
    },
    {
     "data": {
      "text/html": [
       "<pre style=\"white-space:pre;overflow-x:auto;line-height:normal;font-family:Menlo,'DejaVu Sans Mono',consolas,'Courier New',monospace\"><span style=\"color: #000080; text-decoration-color: #000080\">epoch:38, train_loss: 1.269081711769104, test_loss: 1.2771461009979248\n",
       "</span></pre>\n"
      ],
      "text/plain": [
       "\u001b[34mepoch:38, train_loss: 1.269081711769104, test_loss: 1.2771461009979248\n",
       "\u001b[0m"
      ]
     },
     "metadata": {},
     "output_type": "display_data"
    },
    {
     "data": {
      "text/html": [
       "<pre style=\"white-space:pre;overflow-x:auto;line-height:normal;font-family:Menlo,'DejaVu Sans Mono',consolas,'Courier New',monospace\"><span style=\"color: #000080; text-decoration-color: #000080\">epoch:38, train_accuracy: 57.03779458999634, test_accuracy: 55.78015899658203\n",
       "</span></pre>\n"
      ],
      "text/plain": [
       "\u001b[34mepoch:38, train_accuracy: 57.03779458999634, test_accuracy: 55.78015899658203\n",
       "\u001b[0m"
      ]
     },
     "metadata": {},
     "output_type": "display_data"
    },
    {
     "data": {
      "text/html": [
       "<pre style=\"white-space:pre;overflow-x:auto;line-height:normal;font-family:Menlo,'DejaVu Sans Mono',consolas,'Courier New',monospace\"><span style=\"color: #800000; text-decoration-color: #800000\">\u001b[1A 38%|███▊      | 38/100 [03:32&lt;04:02,  3.91s/it]\n",
       "</span></pre>\n"
      ],
      "text/plain": [
       "\u001b[31m\u001b[1A 38%|███▊      | 38/100 [03:32<04:02,  3.91s/it]\n",
       "\u001b[0m"
      ]
     },
     "metadata": {},
     "output_type": "display_data"
    },
    {
     "data": {
      "text/html": [
       "<pre style=\"white-space:pre;overflow-x:auto;line-height:normal;font-family:Menlo,'DejaVu Sans Mono',consolas,'Courier New',monospace\"><span style=\"color: #000080; text-decoration-color: #000080\"></span></pre>\n"
      ],
      "text/plain": []
     },
     "metadata": {},
     "output_type": "display_data"
    },
    {
     "data": {
      "text/html": [
       "<pre style=\"white-space:pre;overflow-x:auto;line-height:normal;font-family:Menlo,'DejaVu Sans Mono',consolas,'Courier New',monospace\"><span style=\"color: #000080; text-decoration-color: #000080\">epoch:39, train_loss: 1.269827127456665, test_loss: 1.2763053178787231\n",
       "</span></pre>\n"
      ],
      "text/plain": [
       "\u001b[34mepoch:39, train_loss: 1.269827127456665, test_loss: 1.2763053178787231\n",
       "\u001b[0m"
      ]
     },
     "metadata": {},
     "output_type": "display_data"
    },
    {
     "data": {
      "text/html": [
       "<pre style=\"white-space:pre;overflow-x:auto;line-height:normal;font-family:Menlo,'DejaVu Sans Mono',consolas,'Courier New',monospace\"><span style=\"color: #000080; text-decoration-color: #000080\"></span></pre>\n"
      ],
      "text/plain": []
     },
     "metadata": {},
     "output_type": "display_data"
    },
    {
     "data": {
      "text/html": [
       "<pre style=\"white-space:pre;overflow-x:auto;line-height:normal;font-family:Menlo,'DejaVu Sans Mono',consolas,'Courier New',monospace\"><span style=\"color: #000080; text-decoration-color: #000080\">epoch:39, train_accuracy: 57.02093243598938, test_accuracy: 55.8828239440918\n",
       "</span></pre>\n"
      ],
      "text/plain": [
       "\u001b[34mepoch:39, train_accuracy: 57.02093243598938, test_accuracy: 55.8828239440918\n",
       "\u001b[0m"
      ]
     },
     "metadata": {},
     "output_type": "display_data"
    },
    {
     "data": {
      "text/html": [
       "<pre style=\"white-space:pre;overflow-x:auto;line-height:normal;font-family:Menlo,'DejaVu Sans Mono',consolas,'Courier New',monospace\"><span style=\"color: #800000; text-decoration-color: #800000\">\u001b[1A 39%|███▉      | 39/100 [03:36&lt;03:54,  3.85s/it]\n",
       "</span></pre>\n"
      ],
      "text/plain": [
       "\u001b[31m\u001b[1A 39%|███▉      | 39/100 [03:36<03:54,  3.85s/it]\n",
       "\u001b[0m"
      ]
     },
     "metadata": {},
     "output_type": "display_data"
    },
    {
     "data": {
      "text/html": [
       "<pre style=\"white-space:pre;overflow-x:auto;line-height:normal;font-family:Menlo,'DejaVu Sans Mono',consolas,'Courier New',monospace\"><span style=\"color: #000080; text-decoration-color: #000080\"></span></pre>\n"
      ],
      "text/plain": []
     },
     "metadata": {},
     "output_type": "display_data"
    },
    {
     "data": {
      "text/html": [
       "<pre style=\"white-space:pre;overflow-x:auto;line-height:normal;font-family:Menlo,'DejaVu Sans Mono',consolas,'Courier New',monospace\"><span style=\"color: #000080; text-decoration-color: #000080\">epoch:40, train_loss: 1.2684637308120728, test_loss: 1.274785041809082\n",
       "</span></pre>\n"
      ],
      "text/plain": [
       "\u001b[34mepoch:40, train_loss: 1.2684637308120728, test_loss: 1.274785041809082\n",
       "\u001b[0m"
      ]
     },
     "metadata": {},
     "output_type": "display_data"
    },
    {
     "data": {
      "text/html": [
       "<pre style=\"white-space:pre;overflow-x:auto;line-height:normal;font-family:Menlo,'DejaVu Sans Mono',consolas,'Courier New',monospace\"><span style=\"color: #000080; text-decoration-color: #000080\"></span></pre>\n"
      ],
      "text/plain": []
     },
     "metadata": {},
     "output_type": "display_data"
    },
    {
     "data": {
      "text/html": [
       "<pre style=\"white-space:pre;overflow-x:auto;line-height:normal;font-family:Menlo,'DejaVu Sans Mono',consolas,'Courier New',monospace\"><span style=\"color: #000080; text-decoration-color: #000080\">epoch:40, train_accuracy: 57.042086124420166, test_accuracy: 56.00503158569336\n",
       "</span></pre>\n"
      ],
      "text/plain": [
       "\u001b[34mepoch:40, train_accuracy: 57.042086124420166, test_accuracy: 56.00503158569336\n",
       "\u001b[0m"
      ]
     },
     "metadata": {},
     "output_type": "display_data"
    },
    {
     "data": {
      "text/html": [
       "<pre style=\"white-space:pre;overflow-x:auto;line-height:normal;font-family:Menlo,'DejaVu Sans Mono',consolas,'Courier New',monospace\"><span style=\"color: #800000; text-decoration-color: #800000\">\u001b[1A 40%|████      | 40/100 [03:40&lt;03:54,  3.90s/it]\n",
       "</span></pre>\n"
      ],
      "text/plain": [
       "\u001b[31m\u001b[1A 40%|████      | 40/100 [03:40<03:54,  3.90s/it]\n",
       "\u001b[0m"
      ]
     },
     "metadata": {},
     "output_type": "display_data"
    },
    {
     "data": {
      "text/html": [
       "<pre style=\"white-space:pre;overflow-x:auto;line-height:normal;font-family:Menlo,'DejaVu Sans Mono',consolas,'Courier New',monospace\"><span style=\"color: #000080; text-decoration-color: #000080\"></span></pre>\n"
      ],
      "text/plain": []
     },
     "metadata": {},
     "output_type": "display_data"
    },
    {
     "data": {
      "text/html": [
       "<pre style=\"white-space:pre;overflow-x:auto;line-height:normal;font-family:Menlo,'DejaVu Sans Mono',consolas,'Courier New',monospace\"><span style=\"color: #000080; text-decoration-color: #000080\">epoch:41, train_loss: 1.267702579498291, test_loss: 1.2741039991378784\n",
       "</span></pre>\n"
      ],
      "text/plain": [
       "\u001b[34mepoch:41, train_loss: 1.267702579498291, test_loss: 1.2741039991378784\n",
       "\u001b[0m"
      ]
     },
     "metadata": {},
     "output_type": "display_data"
    },
    {
     "data": {
      "text/html": [
       "<pre style=\"white-space:pre;overflow-x:auto;line-height:normal;font-family:Menlo,'DejaVu Sans Mono',consolas,'Courier New',monospace\"><span style=\"color: #000080; text-decoration-color: #000080\"></span></pre>\n"
      ],
      "text/plain": []
     },
     "metadata": {},
     "output_type": "display_data"
    },
    {
     "data": {
      "text/html": [
       "<pre style=\"white-space:pre;overflow-x:auto;line-height:normal;font-family:Menlo,'DejaVu Sans Mono',consolas,'Courier New',monospace\"><span style=\"color: #000080; text-decoration-color: #000080\">epoch:41, train_accuracy: 57.08227753639221, test_accuracy: 55.94657516479492\n",
       "</span></pre>\n"
      ],
      "text/plain": [
       "\u001b[34mepoch:41, train_accuracy: 57.08227753639221, test_accuracy: 55.94657516479492\n",
       "\u001b[0m"
      ]
     },
     "metadata": {},
     "output_type": "display_data"
    },
    {
     "data": {
      "text/html": [
       "<pre style=\"white-space:pre;overflow-x:auto;line-height:normal;font-family:Menlo,'DejaVu Sans Mono',consolas,'Courier New',monospace\"><span style=\"color: #800000; text-decoration-color: #800000\">\u001b[1A 41%|████      | 41/100 [03:44&lt;03:47,  3.85s/it]\n",
       "</span></pre>\n"
      ],
      "text/plain": [
       "\u001b[31m\u001b[1A 41%|████      | 41/100 [03:44<03:47,  3.85s/it]\n",
       "\u001b[0m"
      ]
     },
     "metadata": {},
     "output_type": "display_data"
    },
    {
     "data": {
      "text/html": [
       "<pre style=\"white-space:pre;overflow-x:auto;line-height:normal;font-family:Menlo,'DejaVu Sans Mono',consolas,'Courier New',monospace\"><span style=\"color: #000080; text-decoration-color: #000080\"></span></pre>\n"
      ],
      "text/plain": []
     },
     "metadata": {},
     "output_type": "display_data"
    },
    {
     "data": {
      "text/html": [
       "<pre style=\"white-space:pre;overflow-x:auto;line-height:normal;font-family:Menlo,'DejaVu Sans Mono',consolas,'Courier New',monospace\"><span style=\"color: #000080; text-decoration-color: #000080\">epoch:42, train_loss: 1.268131971359253, test_loss: 1.2744596004486084\n",
       "</span></pre>\n"
      ],
      "text/plain": [
       "\u001b[34mepoch:42, train_loss: 1.268131971359253, test_loss: 1.2744596004486084\n",
       "\u001b[0m"
      ]
     },
     "metadata": {},
     "output_type": "display_data"
    },
    {
     "data": {
      "text/html": [
       "<pre style=\"white-space:pre;overflow-x:auto;line-height:normal;font-family:Menlo,'DejaVu Sans Mono',consolas,'Courier New',monospace\"><span style=\"color: #000080; text-decoration-color: #000080\"></span></pre>\n"
      ],
      "text/plain": []
     },
     "metadata": {},
     "output_type": "display_data"
    },
    {
     "data": {
      "text/html": [
       "<pre style=\"white-space:pre;overflow-x:auto;line-height:normal;font-family:Menlo,'DejaVu Sans Mono',consolas,'Courier New',monospace\"><span style=\"color: #000080; text-decoration-color: #000080\">epoch:42, train_accuracy: 57.06768035888672, test_accuracy: 56.02589416503906\n",
       "</span></pre>\n"
      ],
      "text/plain": [
       "\u001b[34mepoch:42, train_accuracy: 57.06768035888672, test_accuracy: 56.02589416503906\n",
       "\u001b[0m"
      ]
     },
     "metadata": {},
     "output_type": "display_data"
    },
    {
     "data": {
      "text/html": [
       "<pre style=\"white-space:pre;overflow-x:auto;line-height:normal;font-family:Menlo,'DejaVu Sans Mono',consolas,'Courier New',monospace\"><span style=\"color: #800000; text-decoration-color: #800000\">\u001b[1A 42%|████▏     | 42/100 [03:48&lt;03:42,  3.84s/it]\n",
       "</span></pre>\n"
      ],
      "text/plain": [
       "\u001b[31m\u001b[1A 42%|████▏     | 42/100 [03:48<03:42,  3.84s/it]\n",
       "\u001b[0m"
      ]
     },
     "metadata": {},
     "output_type": "display_data"
    },
    {
     "data": {
      "text/html": [
       "<pre style=\"white-space:pre;overflow-x:auto;line-height:normal;font-family:Menlo,'DejaVu Sans Mono',consolas,'Courier New',monospace\"><span style=\"color: #000080; text-decoration-color: #000080\"></span></pre>\n"
      ],
      "text/plain": []
     },
     "metadata": {},
     "output_type": "display_data"
    },
    {
     "data": {
      "text/html": [
       "<pre style=\"white-space:pre;overflow-x:auto;line-height:normal;font-family:Menlo,'DejaVu Sans Mono',consolas,'Courier New',monospace\"><span style=\"color: #000080; text-decoration-color: #000080\">epoch:43, train_loss: 1.26804780960083, test_loss: 1.274087905883789\n",
       "</span></pre>\n"
      ],
      "text/plain": [
       "\u001b[34mepoch:43, train_loss: 1.26804780960083, test_loss: 1.274087905883789\n",
       "\u001b[0m"
      ]
     },
     "metadata": {},
     "output_type": "display_data"
    },
    {
     "data": {
      "text/html": [
       "<pre style=\"white-space:pre;overflow-x:auto;line-height:normal;font-family:Menlo,'DejaVu Sans Mono',consolas,'Courier New',monospace\"><span style=\"color: #000080; text-decoration-color: #000080\"></span></pre>\n"
      ],
      "text/plain": []
     },
     "metadata": {},
     "output_type": "display_data"
    },
    {
     "data": {
      "text/html": [
       "<pre style=\"white-space:pre;overflow-x:auto;line-height:normal;font-family:Menlo,'DejaVu Sans Mono',consolas,'Courier New',monospace\"><span style=\"color: #000080; text-decoration-color: #000080\">epoch:43, train_accuracy: 57.08910822868347, test_accuracy: 55.84160614013672\n",
       "</span></pre>\n"
      ],
      "text/plain": [
       "\u001b[34mepoch:43, train_accuracy: 57.08910822868347, test_accuracy: 55.84160614013672\n",
       "\u001b[0m"
      ]
     },
     "metadata": {},
     "output_type": "display_data"
    },
    {
     "data": {
      "text/html": [
       "<pre style=\"white-space:pre;overflow-x:auto;line-height:normal;font-family:Menlo,'DejaVu Sans Mono',consolas,'Courier New',monospace\"><span style=\"color: #800000; text-decoration-color: #800000\">\u001b[1A 43%|████▎     | 43/100 [03:52&lt;03:40,  3.86s/it]\n",
       "</span></pre>\n"
      ],
      "text/plain": [
       "\u001b[31m\u001b[1A 43%|████▎     | 43/100 [03:52<03:40,  3.86s/it]\n",
       "\u001b[0m"
      ]
     },
     "metadata": {},
     "output_type": "display_data"
    },
    {
     "data": {
      "text/html": [
       "<pre style=\"white-space:pre;overflow-x:auto;line-height:normal;font-family:Menlo,'DejaVu Sans Mono',consolas,'Courier New',monospace\"><span style=\"color: #000080; text-decoration-color: #000080\">epoch:44, train_loss: 1.2668224573135376, test_loss: 1.2744144201278687\n",
       "</span></pre>\n"
      ],
      "text/plain": [
       "\u001b[34mepoch:44, train_loss: 1.2668224573135376, test_loss: 1.2744144201278687\n",
       "\u001b[0m"
      ]
     },
     "metadata": {},
     "output_type": "display_data"
    },
    {
     "data": {
      "text/html": [
       "<pre style=\"white-space:pre;overflow-x:auto;line-height:normal;font-family:Menlo,'DejaVu Sans Mono',consolas,'Courier New',monospace\"><span style=\"color: #000080; text-decoration-color: #000080\"></span></pre>\n"
      ],
      "text/plain": []
     },
     "metadata": {},
     "output_type": "display_data"
    },
    {
     "data": {
      "text/html": [
       "<pre style=\"white-space:pre;overflow-x:auto;line-height:normal;font-family:Menlo,'DejaVu Sans Mono',consolas,'Courier New',monospace\"><span style=\"color: #000080; text-decoration-color: #000080\">epoch:44, train_accuracy: 57.085585594177246, test_accuracy: 55.81562423706055\n",
       "</span></pre>\n"
      ],
      "text/plain": [
       "\u001b[34mepoch:44, train_accuracy: 57.085585594177246, test_accuracy: 55.81562423706055\n",
       "\u001b[0m"
      ]
     },
     "metadata": {},
     "output_type": "display_data"
    },
    {
     "data": {
      "text/html": [
       "<pre style=\"white-space:pre;overflow-x:auto;line-height:normal;font-family:Menlo,'DejaVu Sans Mono',consolas,'Courier New',monospace\"><span style=\"color: #800000; text-decoration-color: #800000\">\u001b[1A 44%|████▍     | 44/100 [03:55&lt;03:35,  3.85s/it]\n",
       "</span></pre>\n"
      ],
      "text/plain": [
       "\u001b[31m\u001b[1A 44%|████▍     | 44/100 [03:55<03:35,  3.85s/it]\n",
       "\u001b[0m"
      ]
     },
     "metadata": {},
     "output_type": "display_data"
    },
    {
     "data": {
      "text/html": [
       "<pre style=\"white-space:pre;overflow-x:auto;line-height:normal;font-family:Menlo,'DejaVu Sans Mono',consolas,'Courier New',monospace\"><span style=\"color: #000080; text-decoration-color: #000080\">epoch:45, train_loss: 1.2670618295669556, test_loss: 1.274579644203186\n",
       "</span></pre>\n"
      ],
      "text/plain": [
       "\u001b[34mepoch:45, train_loss: 1.2670618295669556, test_loss: 1.274579644203186\n",
       "\u001b[0m"
      ]
     },
     "metadata": {},
     "output_type": "display_data"
    },
    {
     "data": {
      "text/html": [
       "<pre style=\"white-space:pre;overflow-x:auto;line-height:normal;font-family:Menlo,'DejaVu Sans Mono',consolas,'Courier New',monospace\"><span style=\"color: #000080; text-decoration-color: #000080\"></span></pre>\n"
      ],
      "text/plain": []
     },
     "metadata": {},
     "output_type": "display_data"
    },
    {
     "data": {
      "text/html": [
       "<pre style=\"white-space:pre;overflow-x:auto;line-height:normal;font-family:Menlo,'DejaVu Sans Mono',consolas,'Courier New',monospace\"><span style=\"color: #000080; text-decoration-color: #000080\">epoch:45, train_accuracy: 57.088398933410645, test_accuracy: 55.8848876953125\n",
       "</span></pre>\n"
      ],
      "text/plain": [
       "\u001b[34mepoch:45, train_accuracy: 57.088398933410645, test_accuracy: 55.8848876953125\n",
       "\u001b[0m"
      ]
     },
     "metadata": {},
     "output_type": "display_data"
    },
    {
     "data": {
      "text/html": [
       "<pre style=\"white-space:pre;overflow-x:auto;line-height:normal;font-family:Menlo,'DejaVu Sans Mono',consolas,'Courier New',monospace\"><span style=\"color: #800000; text-decoration-color: #800000\">\u001b[1A 45%|████▌     | 45/100 [03:59&lt;03:28,  3.78s/it]\n",
       "</span></pre>\n"
      ],
      "text/plain": [
       "\u001b[31m\u001b[1A 45%|████▌     | 45/100 [03:59<03:28,  3.78s/it]\n",
       "\u001b[0m"
      ]
     },
     "metadata": {},
     "output_type": "display_data"
    },
    {
     "data": {
      "text/html": [
       "<pre style=\"white-space:pre;overflow-x:auto;line-height:normal;font-family:Menlo,'DejaVu Sans Mono',consolas,'Courier New',monospace\"><span style=\"color: #000080; text-decoration-color: #000080\"></span></pre>\n"
      ],
      "text/plain": []
     },
     "metadata": {},
     "output_type": "display_data"
    },
    {
     "data": {
      "text/html": [
       "<pre style=\"white-space:pre;overflow-x:auto;line-height:normal;font-family:Menlo,'DejaVu Sans Mono',consolas,'Courier New',monospace\"><span style=\"color: #000080; text-decoration-color: #000080\">epoch:46, train_loss: 1.266359806060791, test_loss: 1.2713595628738403\n",
       "</span></pre>\n"
      ],
      "text/plain": [
       "\u001b[34mepoch:46, train_loss: 1.266359806060791, test_loss: 1.2713595628738403\n",
       "\u001b[0m"
      ]
     },
     "metadata": {},
     "output_type": "display_data"
    },
    {
     "data": {
      "text/html": [
       "<pre style=\"white-space:pre;overflow-x:auto;line-height:normal;font-family:Menlo,'DejaVu Sans Mono',consolas,'Courier New',monospace\"><span style=\"color: #000080; text-decoration-color: #000080\"></span></pre>\n"
      ],
      "text/plain": []
     },
     "metadata": {},
     "output_type": "display_data"
    },
    {
     "data": {
      "text/html": [
       "<pre style=\"white-space:pre;overflow-x:auto;line-height:normal;font-family:Menlo,'DejaVu Sans Mono',consolas,'Courier New',monospace\"><span style=\"color: #000080; text-decoration-color: #000080\">epoch:46, train_accuracy: 57.1336567401886, test_accuracy: 56.02104187011719\n",
       "</span></pre>\n"
      ],
      "text/plain": [
       "\u001b[34mepoch:46, train_accuracy: 57.1336567401886, test_accuracy: 56.02104187011719\n",
       "\u001b[0m"
      ]
     },
     "metadata": {},
     "output_type": "display_data"
    },
    {
     "data": {
      "text/html": [
       "<pre style=\"white-space:pre;overflow-x:auto;line-height:normal;font-family:Menlo,'DejaVu Sans Mono',consolas,'Courier New',monospace\"><span style=\"color: #800000; text-decoration-color: #800000\">\u001b[1A 46%|████▌     | 46/100 [04:03&lt;03:23,  3.76s/it]\n",
       "</span></pre>\n"
      ],
      "text/plain": [
       "\u001b[31m\u001b[1A 46%|████▌     | 46/100 [04:03<03:23,  3.76s/it]\n",
       "\u001b[0m"
      ]
     },
     "metadata": {},
     "output_type": "display_data"
    },
    {
     "data": {
      "text/html": [
       "<pre style=\"white-space:pre;overflow-x:auto;line-height:normal;font-family:Menlo,'DejaVu Sans Mono',consolas,'Courier New',monospace\"><span style=\"color: #000080; text-decoration-color: #000080\"></span></pre>\n"
      ],
      "text/plain": []
     },
     "metadata": {},
     "output_type": "display_data"
    },
    {
     "data": {
      "text/html": [
       "<pre style=\"white-space:pre;overflow-x:auto;line-height:normal;font-family:Menlo,'DejaVu Sans Mono',consolas,'Courier New',monospace\"><span style=\"color: #000080; text-decoration-color: #000080\">epoch:47, train_loss: 1.2664650678634644, test_loss: 1.2709840536117554\n",
       "</span></pre>\n"
      ],
      "text/plain": [
       "\u001b[34mepoch:47, train_loss: 1.2664650678634644, test_loss: 1.2709840536117554\n",
       "\u001b[0m"
      ]
     },
     "metadata": {},
     "output_type": "display_data"
    },
    {
     "data": {
      "text/html": [
       "<pre style=\"white-space:pre;overflow-x:auto;line-height:normal;font-family:Menlo,'DejaVu Sans Mono',consolas,'Courier New',monospace\"><span style=\"color: #000080; text-decoration-color: #000080\"></span></pre>\n"
      ],
      "text/plain": []
     },
     "metadata": {},
     "output_type": "display_data"
    },
    {
     "data": {
      "text/html": [
       "<pre style=\"white-space:pre;overflow-x:auto;line-height:normal;font-family:Menlo,'DejaVu Sans Mono',consolas,'Courier New',monospace\"><span style=\"color: #000080; text-decoration-color: #000080\">epoch:47, train_accuracy: 57.13869333267212, test_accuracy: 56.031982421875\n",
       "</span></pre>\n"
      ],
      "text/plain": [
       "\u001b[34mepoch:47, train_accuracy: 57.13869333267212, test_accuracy: 56.031982421875\n",
       "\u001b[0m"
      ]
     },
     "metadata": {},
     "output_type": "display_data"
    },
    {
     "data": {
      "text/html": [
       "<pre style=\"white-space:pre;overflow-x:auto;line-height:normal;font-family:Menlo,'DejaVu Sans Mono',consolas,'Courier New',monospace\"><span style=\"color: #800000; text-decoration-color: #800000\">\u001b[1A 47%|████▋     | 47/100 [04:07&lt;03:20,  3.78s/it]\n",
       "</span></pre>\n"
      ],
      "text/plain": [
       "\u001b[31m\u001b[1A 47%|████▋     | 47/100 [04:07<03:20,  3.78s/it]\n",
       "\u001b[0m"
      ]
     },
     "metadata": {},
     "output_type": "display_data"
    },
    {
     "data": {
      "text/html": [
       "<pre style=\"white-space:pre;overflow-x:auto;line-height:normal;font-family:Menlo,'DejaVu Sans Mono',consolas,'Courier New',monospace\"><span style=\"color: #000080; text-decoration-color: #000080\"></span></pre>\n"
      ],
      "text/plain": []
     },
     "metadata": {},
     "output_type": "display_data"
    },
    {
     "data": {
      "text/html": [
       "<pre style=\"white-space:pre;overflow-x:auto;line-height:normal;font-family:Menlo,'DejaVu Sans Mono',consolas,'Courier New',monospace\"><span style=\"color: #000080; text-decoration-color: #000080\">epoch:48, train_loss: 1.2653748989105225, test_loss: 1.2746078968048096\n",
       "</span></pre>\n"
      ],
      "text/plain": [
       "\u001b[34mepoch:48, train_loss: 1.2653748989105225, test_loss: 1.2746078968048096\n",
       "\u001b[0m"
      ]
     },
     "metadata": {},
     "output_type": "display_data"
    },
    {
     "data": {
      "text/html": [
       "<pre style=\"white-space:pre;overflow-x:auto;line-height:normal;font-family:Menlo,'DejaVu Sans Mono',consolas,'Courier New',monospace\"><span style=\"color: #000080; text-decoration-color: #000080\"></span></pre>\n"
      ],
      "text/plain": []
     },
     "metadata": {},
     "output_type": "display_data"
    },
    {
     "data": {
      "text/html": [
       "<pre style=\"white-space:pre;overflow-x:auto;line-height:normal;font-family:Menlo,'DejaVu Sans Mono',consolas,'Courier New',monospace\"><span style=\"color: #000080; text-decoration-color: #000080\">epoch:48, train_accuracy: 57.13697671890259, test_accuracy: 56.011817932128906\n",
       "</span></pre>\n"
      ],
      "text/plain": [
       "\u001b[34mepoch:48, train_accuracy: 57.13697671890259, test_accuracy: 56.011817932128906\n",
       "\u001b[0m"
      ]
     },
     "metadata": {},
     "output_type": "display_data"
    },
    {
     "data": {
      "text/html": [
       "<pre style=\"white-space:pre;overflow-x:auto;line-height:normal;font-family:Menlo,'DejaVu Sans Mono',consolas,'Courier New',monospace\"><span style=\"color: #800000; text-decoration-color: #800000\">\u001b[1A 48%|████▊     | 48/100 [04:11&lt;03:18,  3.83s/it]\n",
       "</span></pre>\n"
      ],
      "text/plain": [
       "\u001b[31m\u001b[1A 48%|████▊     | 48/100 [04:11<03:18,  3.83s/it]\n",
       "\u001b[0m"
      ]
     },
     "metadata": {},
     "output_type": "display_data"
    },
    {
     "data": {
      "text/html": [
       "<pre style=\"white-space:pre;overflow-x:auto;line-height:normal;font-family:Menlo,'DejaVu Sans Mono',consolas,'Courier New',monospace\"><span style=\"color: #000080; text-decoration-color: #000080\"></span></pre>\n"
      ],
      "text/plain": []
     },
     "metadata": {},
     "output_type": "display_data"
    },
    {
     "data": {
      "text/html": [
       "<pre style=\"white-space:pre;overflow-x:auto;line-height:normal;font-family:Menlo,'DejaVu Sans Mono',consolas,'Courier New',monospace\"><span style=\"color: #000080; text-decoration-color: #000080\">epoch:49, train_loss: 1.264924168586731, test_loss: 1.2777384519577026\n",
       "</span></pre>\n"
      ],
      "text/plain": [
       "\u001b[34mepoch:49, train_loss: 1.264924168586731, test_loss: 1.2777384519577026\n",
       "\u001b[0m"
      ]
     },
     "metadata": {},
     "output_type": "display_data"
    },
    {
     "data": {
      "text/html": [
       "<pre style=\"white-space:pre;overflow-x:auto;line-height:normal;font-family:Menlo,'DejaVu Sans Mono',consolas,'Courier New',monospace\"><span style=\"color: #000080; text-decoration-color: #000080\"></span></pre>\n"
      ],
      "text/plain": []
     },
     "metadata": {},
     "output_type": "display_data"
    },
    {
     "data": {
      "text/html": [
       "<pre style=\"white-space:pre;overflow-x:auto;line-height:normal;font-family:Menlo,'DejaVu Sans Mono',consolas,'Courier New',monospace\"><span style=\"color: #000080; text-decoration-color: #000080\">epoch:49, train_accuracy: 57.17184543609619, test_accuracy: 56.14462661743164\n",
       "</span></pre>\n"
      ],
      "text/plain": [
       "\u001b[34mepoch:49, train_accuracy: 57.17184543609619, test_accuracy: 56.14462661743164\n",
       "\u001b[0m"
      ]
     },
     "metadata": {},
     "output_type": "display_data"
    },
    {
     "data": {
      "text/html": [
       "<pre style=\"white-space:pre;overflow-x:auto;line-height:normal;font-family:Menlo,'DejaVu Sans Mono',consolas,'Courier New',monospace\"><span style=\"color: #800000; text-decoration-color: #800000\">\u001b[1A 49%|████▉     | 49/100 [04:15&lt;03:18,  3.88s/it]\n",
       "</span></pre>\n"
      ],
      "text/plain": [
       "\u001b[31m\u001b[1A 49%|████▉     | 49/100 [04:15<03:18,  3.88s/it]\n",
       "\u001b[0m"
      ]
     },
     "metadata": {},
     "output_type": "display_data"
    },
    {
     "data": {
      "text/html": [
       "<pre style=\"white-space:pre;overflow-x:auto;line-height:normal;font-family:Menlo,'DejaVu Sans Mono',consolas,'Courier New',monospace\"><span style=\"color: #000080; text-decoration-color: #000080\">epoch:50, train_loss: 1.2649203538894653, test_loss: 1.2772774696350098\n",
       "</span></pre>\n"
      ],
      "text/plain": [
       "\u001b[34mepoch:50, train_loss: 1.2649203538894653, test_loss: 1.2772774696350098\n",
       "\u001b[0m"
      ]
     },
     "metadata": {},
     "output_type": "display_data"
    },
    {
     "data": {
      "text/html": [
       "<pre style=\"white-space:pre;overflow-x:auto;line-height:normal;font-family:Menlo,'DejaVu Sans Mono',consolas,'Courier New',monospace\"><span style=\"color: #000080; text-decoration-color: #000080\">epoch:50, train_accuracy: 57.18938708305359, test_accuracy: 55.84507751464844\n",
       "</span></pre>\n"
      ],
      "text/plain": [
       "\u001b[34mepoch:50, train_accuracy: 57.18938708305359, test_accuracy: 55.84507751464844\n",
       "\u001b[0m"
      ]
     },
     "metadata": {},
     "output_type": "display_data"
    },
    {
     "data": {
      "text/html": [
       "<pre style=\"white-space:pre;overflow-x:auto;line-height:normal;font-family:Menlo,'DejaVu Sans Mono',consolas,'Courier New',monospace\"><span style=\"color: #800000; text-decoration-color: #800000\">\u001b[1A 50%|█████     | 50/100 [04:18&lt;03:13,  3.86s/it]\n",
       "</span></pre>\n"
      ],
      "text/plain": [
       "\u001b[31m\u001b[1A 50%|█████     | 50/100 [04:18<03:13,  3.86s/it]\n",
       "\u001b[0m"
      ]
     },
     "metadata": {},
     "output_type": "display_data"
    },
    {
     "data": {
      "text/html": [
       "<pre style=\"white-space:pre;overflow-x:auto;line-height:normal;font-family:Menlo,'DejaVu Sans Mono',consolas,'Courier New',monospace\"><span style=\"color: #800000; text-decoration-color: #800000\">\u001b[1A 51%|█████     | 51/100 [04:22&lt;03:04,  3.77s/it]</span></pre>\n"
      ],
      "text/plain": [
       "\u001b[31m\u001b[1A 51%|█████     | 51/100 [04:22<03:04,  3.77s/it]\u001b[0m"
      ]
     },
     "metadata": {},
     "output_type": "display_data"
    },
    {
     "data": {
      "text/html": [
       "<pre style=\"white-space:pre;overflow-x:auto;line-height:normal;font-family:Menlo,'DejaVu Sans Mono',consolas,'Courier New',monospace\"><span style=\"color: #000080; text-decoration-color: #000080\"></span></pre>\n"
      ],
      "text/plain": []
     },
     "metadata": {},
     "output_type": "display_data"
    },
    {
     "data": {
      "text/html": [
       "<pre style=\"white-space:pre;overflow-x:auto;line-height:normal;font-family:Menlo,'DejaVu Sans Mono',consolas,'Courier New',monospace\"><span style=\"color: #000080; text-decoration-color: #000080\">epoch:51, train_loss: 1.2653889656066895, test_loss: 1.2765001058578491\n",
       "</span></pre>\n"
      ],
      "text/plain": [
       "\u001b[34mepoch:51, train_loss: 1.2653889656066895, test_loss: 1.2765001058578491\n",
       "\u001b[0m"
      ]
     },
     "metadata": {},
     "output_type": "display_data"
    },
    {
     "data": {
      "text/html": [
       "<pre style=\"white-space:pre;overflow-x:auto;line-height:normal;font-family:Menlo,'DejaVu Sans Mono',consolas,'Courier New',monospace\"><span style=\"color: #000080; text-decoration-color: #000080\">epoch:51, train_accuracy: 57.177555561065674, test_accuracy: 55.98775100708008\n",
       "</span></pre>\n"
      ],
      "text/plain": [
       "\u001b[34mepoch:51, train_accuracy: 57.177555561065674, test_accuracy: 55.98775100708008\n",
       "\u001b[0m"
      ]
     },
     "metadata": {},
     "output_type": "display_data"
    },
    {
     "data": {
      "text/html": [
       "<pre style=\"white-space:pre;overflow-x:auto;line-height:normal;font-family:Menlo,'DejaVu Sans Mono',consolas,'Courier New',monospace\"><span style=\"color: #800000; text-decoration-color: #800000\">\n",
       "</span></pre>\n"
      ],
      "text/plain": [
       "\u001b[31m\n",
       "\u001b[0m"
      ]
     },
     "metadata": {},
     "output_type": "display_data"
    },
    {
     "data": {
      "text/html": [
       "<pre style=\"white-space:pre;overflow-x:auto;line-height:normal;font-family:Menlo,'DejaVu Sans Mono',consolas,'Courier New',monospace\"><span style=\"color: #000080; text-decoration-color: #000080\"></span></pre>\n"
      ],
      "text/plain": []
     },
     "metadata": {},
     "output_type": "display_data"
    },
    {
     "data": {
      "text/html": [
       "<pre style=\"white-space:pre;overflow-x:auto;line-height:normal;font-family:Menlo,'DejaVu Sans Mono',consolas,'Courier New',monospace\"><span style=\"color: #000080; text-decoration-color: #000080\">epoch:52, train_loss: 1.2643829584121704, test_loss: 1.2709425687789917\n",
       "</span></pre>\n"
      ],
      "text/plain": [
       "\u001b[34mepoch:52, train_loss: 1.2643829584121704, test_loss: 1.2709425687789917\n",
       "\u001b[0m"
      ]
     },
     "metadata": {},
     "output_type": "display_data"
    },
    {
     "data": {
      "text/html": [
       "<pre style=\"white-space:pre;overflow-x:auto;line-height:normal;font-family:Menlo,'DejaVu Sans Mono',consolas,'Courier New',monospace\"><span style=\"color: #000080; text-decoration-color: #000080\"></span></pre>\n"
      ],
      "text/plain": []
     },
     "metadata": {},
     "output_type": "display_data"
    },
    {
     "data": {
      "text/html": [
       "<pre style=\"white-space:pre;overflow-x:auto;line-height:normal;font-family:Menlo,'DejaVu Sans Mono',consolas,'Courier New',monospace\"><span style=\"color: #000080; text-decoration-color: #000080\">epoch:52, train_accuracy: 57.19907879829407, test_accuracy: 56.16055679321289\n",
       "</span></pre>\n"
      ],
      "text/plain": [
       "\u001b[34mepoch:52, train_accuracy: 57.19907879829407, test_accuracy: 56.16055679321289\n",
       "\u001b[0m"
      ]
     },
     "metadata": {},
     "output_type": "display_data"
    },
    {
     "data": {
      "text/html": [
       "<pre style=\"white-space:pre;overflow-x:auto;line-height:normal;font-family:Menlo,'DejaVu Sans Mono',consolas,'Courier New',monospace\"><span style=\"color: #800000; text-decoration-color: #800000\">\u001b[1A 52%|█████▏    | 52/100 [04:26&lt;03:00,  3.75s/it]\n",
       "</span></pre>\n"
      ],
      "text/plain": [
       "\u001b[31m\u001b[1A 52%|█████▏    | 52/100 [04:26<03:00,  3.75s/it]\n",
       "\u001b[0m"
      ]
     },
     "metadata": {},
     "output_type": "display_data"
    },
    {
     "data": {
      "text/html": [
       "<pre style=\"white-space:pre;overflow-x:auto;line-height:normal;font-family:Menlo,'DejaVu Sans Mono',consolas,'Courier New',monospace\"><span style=\"color: #000080; text-decoration-color: #000080\"></span></pre>\n"
      ],
      "text/plain": []
     },
     "metadata": {},
     "output_type": "display_data"
    },
    {
     "data": {
      "text/html": [
       "<pre style=\"white-space:pre;overflow-x:auto;line-height:normal;font-family:Menlo,'DejaVu Sans Mono',consolas,'Courier New',monospace\"><span style=\"color: #000080; text-decoration-color: #000080\">epoch:53, train_loss: 1.2633239030838013, test_loss: 1.2737669944763184\n",
       "</span></pre>\n"
      ],
      "text/plain": [
       "\u001b[34mepoch:53, train_loss: 1.2633239030838013, test_loss: 1.2737669944763184\n",
       "\u001b[0m"
      ]
     },
     "metadata": {},
     "output_type": "display_data"
    },
    {
     "data": {
      "text/html": [
       "<pre style=\"white-space:pre;overflow-x:auto;line-height:normal;font-family:Menlo,'DejaVu Sans Mono',consolas,'Courier New',monospace\"><span style=\"color: #000080; text-decoration-color: #000080\"></span></pre>\n"
      ],
      "text/plain": []
     },
     "metadata": {},
     "output_type": "display_data"
    },
    {
     "data": {
      "text/html": [
       "<pre style=\"white-space:pre;overflow-x:auto;line-height:normal;font-family:Menlo,'DejaVu Sans Mono',consolas,'Courier New',monospace\"><span style=\"color: #000080; text-decoration-color: #000080\">epoch:53, train_accuracy: 57.21670985221863, test_accuracy: 56.033451080322266\n",
       "</span></pre>\n"
      ],
      "text/plain": [
       "\u001b[34mepoch:53, train_accuracy: 57.21670985221863, test_accuracy: 56.033451080322266\n",
       "\u001b[0m"
      ]
     },
     "metadata": {},
     "output_type": "display_data"
    },
    {
     "data": {
      "text/html": [
       "<pre style=\"white-space:pre;overflow-x:auto;line-height:normal;font-family:Menlo,'DejaVu Sans Mono',consolas,'Courier New',monospace\"><span style=\"color: #800000; text-decoration-color: #800000\">\u001b[1A 53%|█████▎    | 53/100 [04:29&lt;02:54,  3.71s/it]\n",
       "</span></pre>\n"
      ],
      "text/plain": [
       "\u001b[31m\u001b[1A 53%|█████▎    | 53/100 [04:29<02:54,  3.71s/it]\n",
       "\u001b[0m"
      ]
     },
     "metadata": {},
     "output_type": "display_data"
    },
    {
     "data": {
      "text/html": [
       "<pre style=\"white-space:pre;overflow-x:auto;line-height:normal;font-family:Menlo,'DejaVu Sans Mono',consolas,'Courier New',monospace\"><span style=\"color: #000080; text-decoration-color: #000080\"></span></pre>\n"
      ],
      "text/plain": []
     },
     "metadata": {},
     "output_type": "display_data"
    },
    {
     "data": {
      "text/html": [
       "<pre style=\"white-space:pre;overflow-x:auto;line-height:normal;font-family:Menlo,'DejaVu Sans Mono',consolas,'Courier New',monospace\"><span style=\"color: #000080; text-decoration-color: #000080\">epoch:54, train_loss: 1.2633098363876343, test_loss: 1.2731196880340576\n",
       "</span></pre>\n"
      ],
      "text/plain": [
       "\u001b[34mepoch:54, train_loss: 1.2633098363876343, test_loss: 1.2731196880340576\n",
       "\u001b[0m"
      ]
     },
     "metadata": {},
     "output_type": "display_data"
    },
    {
     "data": {
      "text/html": [
       "<pre style=\"white-space:pre;overflow-x:auto;line-height:normal;font-family:Menlo,'DejaVu Sans Mono',consolas,'Courier New',monospace\"><span style=\"color: #000080; text-decoration-color: #000080\"></span></pre>\n"
      ],
      "text/plain": []
     },
     "metadata": {},
     "output_type": "display_data"
    },
    {
     "data": {
      "text/html": [
       "<pre style=\"white-space:pre;overflow-x:auto;line-height:normal;font-family:Menlo,'DejaVu Sans Mono',consolas,'Courier New',monospace\"><span style=\"color: #000080; text-decoration-color: #000080\">epoch:54, train_accuracy: 57.23500847816467, test_accuracy: 55.99541473388672\n",
       "</span></pre>\n"
      ],
      "text/plain": [
       "\u001b[34mepoch:54, train_accuracy: 57.23500847816467, test_accuracy: 55.99541473388672\n",
       "\u001b[0m"
      ]
     },
     "metadata": {},
     "output_type": "display_data"
    },
    {
     "data": {
      "text/html": [
       "<pre style=\"white-space:pre;overflow-x:auto;line-height:normal;font-family:Menlo,'DejaVu Sans Mono',consolas,'Courier New',monospace\"><span style=\"color: #800000; text-decoration-color: #800000\">\u001b[1A 54%|█████▍    | 54/100 [04:33&lt;02:49,  3.69s/it]\n",
       "</span></pre>\n"
      ],
      "text/plain": [
       "\u001b[31m\u001b[1A 54%|█████▍    | 54/100 [04:33<02:49,  3.69s/it]\n",
       "\u001b[0m"
      ]
     },
     "metadata": {},
     "output_type": "display_data"
    },
    {
     "data": {
      "text/html": [
       "<pre style=\"white-space:pre;overflow-x:auto;line-height:normal;font-family:Menlo,'DejaVu Sans Mono',consolas,'Courier New',monospace\"><span style=\"color: #000080; text-decoration-color: #000080\"></span></pre>\n"
      ],
      "text/plain": []
     },
     "metadata": {},
     "output_type": "display_data"
    },
    {
     "data": {
      "text/html": [
       "<pre style=\"white-space:pre;overflow-x:auto;line-height:normal;font-family:Menlo,'DejaVu Sans Mono',consolas,'Courier New',monospace\"><span style=\"color: #000080; text-decoration-color: #000080\">epoch:55, train_loss: 1.2631759643554688, test_loss: 1.2707446813583374\n",
       "</span></pre>\n"
      ],
      "text/plain": [
       "\u001b[34mepoch:55, train_loss: 1.2631759643554688, test_loss: 1.2707446813583374\n",
       "\u001b[0m"
      ]
     },
     "metadata": {},
     "output_type": "display_data"
    },
    {
     "data": {
      "text/html": [
       "<pre style=\"white-space:pre;overflow-x:auto;line-height:normal;font-family:Menlo,'DejaVu Sans Mono',consolas,'Courier New',monospace\"><span style=\"color: #000080; text-decoration-color: #000080\"></span></pre>\n"
      ],
      "text/plain": []
     },
     "metadata": {},
     "output_type": "display_data"
    },
    {
     "data": {
      "text/html": [
       "<pre style=\"white-space:pre;overflow-x:auto;line-height:normal;font-family:Menlo,'DejaVu Sans Mono',consolas,'Courier New',monospace\"><span style=\"color: #000080; text-decoration-color: #000080\">epoch:55, train_accuracy: 57.229453325271606, test_accuracy: 56.052494049072266\n",
       "</span></pre>\n"
      ],
      "text/plain": [
       "\u001b[34mepoch:55, train_accuracy: 57.229453325271606, test_accuracy: 56.052494049072266\n",
       "\u001b[0m"
      ]
     },
     "metadata": {},
     "output_type": "display_data"
    },
    {
     "data": {
      "text/html": [
       "<pre style=\"white-space:pre;overflow-x:auto;line-height:normal;font-family:Menlo,'DejaVu Sans Mono',consolas,'Courier New',monospace\"><span style=\"color: #800000; text-decoration-color: #800000\">\u001b[1A 55%|█████▌    | 55/100 [04:37&lt;02:49,  3.76s/it]\n",
       "</span></pre>\n"
      ],
      "text/plain": [
       "\u001b[31m\u001b[1A 55%|█████▌    | 55/100 [04:37<02:49,  3.76s/it]\n",
       "\u001b[0m"
      ]
     },
     "metadata": {},
     "output_type": "display_data"
    },
    {
     "data": {
      "text/html": [
       "<pre style=\"white-space:pre;overflow-x:auto;line-height:normal;font-family:Menlo,'DejaVu Sans Mono',consolas,'Courier New',monospace\"><span style=\"color: #000080; text-decoration-color: #000080\"></span></pre>\n"
      ],
      "text/plain": []
     },
     "metadata": {},
     "output_type": "display_data"
    },
    {
     "data": {
      "text/html": [
       "<pre style=\"white-space:pre;overflow-x:auto;line-height:normal;font-family:Menlo,'DejaVu Sans Mono',consolas,'Courier New',monospace\"><span style=\"color: #000080; text-decoration-color: #000080\">epoch:56, train_loss: 1.2628952264785767, test_loss: 1.2750695943832397\n",
       "</span></pre>\n"
      ],
      "text/plain": [
       "\u001b[34mepoch:56, train_loss: 1.2628952264785767, test_loss: 1.2750695943832397\n",
       "\u001b[0m"
      ]
     },
     "metadata": {},
     "output_type": "display_data"
    },
    {
     "data": {
      "text/html": [
       "<pre style=\"white-space:pre;overflow-x:auto;line-height:normal;font-family:Menlo,'DejaVu Sans Mono',consolas,'Courier New',monospace\"><span style=\"color: #000080; text-decoration-color: #000080\"></span></pre>\n"
      ],
      "text/plain": []
     },
     "metadata": {},
     "output_type": "display_data"
    },
    {
     "data": {
      "text/html": [
       "<pre style=\"white-space:pre;overflow-x:auto;line-height:normal;font-family:Menlo,'DejaVu Sans Mono',consolas,'Courier New',monospace\"><span style=\"color: #000080; text-decoration-color: #000080\">epoch:56, train_accuracy: 57.241690158843994, test_accuracy: 56.1976432800293\n",
       "</span></pre>\n"
      ],
      "text/plain": [
       "\u001b[34mepoch:56, train_accuracy: 57.241690158843994, test_accuracy: 56.1976432800293\n",
       "\u001b[0m"
      ]
     },
     "metadata": {},
     "output_type": "display_data"
    },
    {
     "data": {
      "text/html": [
       "<pre style=\"white-space:pre;overflow-x:auto;line-height:normal;font-family:Menlo,'DejaVu Sans Mono',consolas,'Courier New',monospace\"><span style=\"color: #800000; text-decoration-color: #800000\">\u001b[1A 56%|█████▌    | 56/100 [04:40&lt;02:43,  3.71s/it]\n",
       "</span></pre>\n"
      ],
      "text/plain": [
       "\u001b[31m\u001b[1A 56%|█████▌    | 56/100 [04:40<02:43,  3.71s/it]\n",
       "\u001b[0m"
      ]
     },
     "metadata": {},
     "output_type": "display_data"
    },
    {
     "data": {
      "text/html": [
       "<pre style=\"white-space:pre;overflow-x:auto;line-height:normal;font-family:Menlo,'DejaVu Sans Mono',consolas,'Courier New',monospace\"><span style=\"color: #000080; text-decoration-color: #000080\"></span></pre>\n"
      ],
      "text/plain": []
     },
     "metadata": {},
     "output_type": "display_data"
    },
    {
     "data": {
      "text/html": [
       "<pre style=\"white-space:pre;overflow-x:auto;line-height:normal;font-family:Menlo,'DejaVu Sans Mono',consolas,'Courier New',monospace\"><span style=\"color: #000080; text-decoration-color: #000080\">epoch:57, train_loss: 1.263713002204895, test_loss: 1.270241618156433\n",
       "</span></pre>\n"
      ],
      "text/plain": [
       "\u001b[34mepoch:57, train_loss: 1.263713002204895, test_loss: 1.270241618156433\n",
       "\u001b[0m"
      ]
     },
     "metadata": {},
     "output_type": "display_data"
    },
    {
     "data": {
      "text/html": [
       "<pre style=\"white-space:pre;overflow-x:auto;line-height:normal;font-family:Menlo,'DejaVu Sans Mono',consolas,'Courier New',monospace\"><span style=\"color: #000080; text-decoration-color: #000080\"></span></pre>\n"
      ],
      "text/plain": []
     },
     "metadata": {},
     "output_type": "display_data"
    },
    {
     "data": {
      "text/html": [
       "<pre style=\"white-space:pre;overflow-x:auto;line-height:normal;font-family:Menlo,'DejaVu Sans Mono',consolas,'Courier New',monospace\"><span style=\"color: #000080; text-decoration-color: #000080\">epoch:57, train_accuracy: 57.21549391746521, test_accuracy: 56.11814880371094\n",
       "</span></pre>\n"
      ],
      "text/plain": [
       "\u001b[34mepoch:57, train_accuracy: 57.21549391746521, test_accuracy: 56.11814880371094\n",
       "\u001b[0m"
      ]
     },
     "metadata": {},
     "output_type": "display_data"
    },
    {
     "data": {
      "text/html": [
       "<pre style=\"white-space:pre;overflow-x:auto;line-height:normal;font-family:Menlo,'DejaVu Sans Mono',consolas,'Courier New',monospace\"><span style=\"color: #800000; text-decoration-color: #800000\">\u001b[1A 57%|█████▋    | 57/100 [04:44&lt;02:38,  3.69s/it]\n",
       "</span></pre>\n"
      ],
      "text/plain": [
       "\u001b[31m\u001b[1A 57%|█████▋    | 57/100 [04:44<02:38,  3.69s/it]\n",
       "\u001b[0m"
      ]
     },
     "metadata": {},
     "output_type": "display_data"
    },
    {
     "data": {
      "text/html": [
       "<pre style=\"white-space:pre;overflow-x:auto;line-height:normal;font-family:Menlo,'DejaVu Sans Mono',consolas,'Courier New',monospace\"><span style=\"color: #000080; text-decoration-color: #000080\"></span></pre>\n"
      ],
      "text/plain": []
     },
     "metadata": {},
     "output_type": "display_data"
    },
    {
     "data": {
      "text/html": [
       "<pre style=\"white-space:pre;overflow-x:auto;line-height:normal;font-family:Menlo,'DejaVu Sans Mono',consolas,'Courier New',monospace\"><span style=\"color: #000080; text-decoration-color: #000080\">epoch:58, train_loss: 1.2632547616958618, test_loss: 1.2739695310592651\n",
       "</span></pre>\n"
      ],
      "text/plain": [
       "\u001b[34mepoch:58, train_loss: 1.2632547616958618, test_loss: 1.2739695310592651\n",
       "\u001b[0m"
      ]
     },
     "metadata": {},
     "output_type": "display_data"
    },
    {
     "data": {
      "text/html": [
       "<pre style=\"white-space:pre;overflow-x:auto;line-height:normal;font-family:Menlo,'DejaVu Sans Mono',consolas,'Courier New',monospace\"><span style=\"color: #000080; text-decoration-color: #000080\"></span></pre>\n"
      ],
      "text/plain": []
     },
     "metadata": {},
     "output_type": "display_data"
    },
    {
     "data": {
      "text/html": [
       "<pre style=\"white-space:pre;overflow-x:auto;line-height:normal;font-family:Menlo,'DejaVu Sans Mono',consolas,'Courier New',monospace\"><span style=\"color: #000080; text-decoration-color: #000080\">epoch:58, train_accuracy: 57.239603996276855, test_accuracy: 55.98173904418945\n",
       "</span></pre>\n"
      ],
      "text/plain": [
       "\u001b[34mepoch:58, train_accuracy: 57.239603996276855, test_accuracy: 55.98173904418945\n",
       "\u001b[0m"
      ]
     },
     "metadata": {},
     "output_type": "display_data"
    },
    {
     "data": {
      "text/html": [
       "<pre style=\"white-space:pre;overflow-x:auto;line-height:normal;font-family:Menlo,'DejaVu Sans Mono',consolas,'Courier New',monospace\"><span style=\"color: #800000; text-decoration-color: #800000\">\u001b[1A 58%|█████▊    | 58/100 [04:48&lt;02:35,  3.70s/it]\n",
       "</span></pre>\n"
      ],
      "text/plain": [
       "\u001b[31m\u001b[1A 58%|█████▊    | 58/100 [04:48<02:35,  3.70s/it]\n",
       "\u001b[0m"
      ]
     },
     "metadata": {},
     "output_type": "display_data"
    },
    {
     "data": {
      "text/html": [
       "<pre style=\"white-space:pre;overflow-x:auto;line-height:normal;font-family:Menlo,'DejaVu Sans Mono',consolas,'Courier New',monospace\"><span style=\"color: #000080; text-decoration-color: #000080\"></span></pre>\n"
      ],
      "text/plain": []
     },
     "metadata": {},
     "output_type": "display_data"
    },
    {
     "data": {
      "text/html": [
       "<pre style=\"white-space:pre;overflow-x:auto;line-height:normal;font-family:Menlo,'DejaVu Sans Mono',consolas,'Courier New',monospace\"><span style=\"color: #000080; text-decoration-color: #000080\">epoch:59, train_loss: 1.2630308866500854, test_loss: 1.2741671800613403\n",
       "</span></pre>\n"
      ],
      "text/plain": [
       "\u001b[34mepoch:59, train_loss: 1.2630308866500854, test_loss: 1.2741671800613403\n",
       "\u001b[0m"
      ]
     },
     "metadata": {},
     "output_type": "display_data"
    },
    {
     "data": {
      "text/html": [
       "<pre style=\"white-space:pre;overflow-x:auto;line-height:normal;font-family:Menlo,'DejaVu Sans Mono',consolas,'Courier New',monospace\"><span style=\"color: #000080; text-decoration-color: #000080\"></span></pre>\n"
      ],
      "text/plain": []
     },
     "metadata": {},
     "output_type": "display_data"
    },
    {
     "data": {
      "text/html": [
       "<pre style=\"white-space:pre;overflow-x:auto;line-height:normal;font-family:Menlo,'DejaVu Sans Mono',consolas,'Courier New',monospace\"><span style=\"color: #000080; text-decoration-color: #000080\">epoch:59, train_accuracy: 57.2398841381073, test_accuracy: 55.98751449584961\n",
       "</span></pre>\n"
      ],
      "text/plain": [
       "\u001b[34mepoch:59, train_accuracy: 57.2398841381073, test_accuracy: 55.98751449584961\n",
       "\u001b[0m"
      ]
     },
     "metadata": {},
     "output_type": "display_data"
    },
    {
     "data": {
      "text/html": [
       "<pre style=\"white-space:pre;overflow-x:auto;line-height:normal;font-family:Menlo,'DejaVu Sans Mono',consolas,'Courier New',monospace\"><span style=\"color: #800000; text-decoration-color: #800000\">\u001b[1A 59%|█████▉    | 59/100 [04:52&lt;02:33,  3.73s/it]\n",
       "</span></pre>\n"
      ],
      "text/plain": [
       "\u001b[31m\u001b[1A 59%|█████▉    | 59/100 [04:52<02:33,  3.73s/it]\n",
       "\u001b[0m"
      ]
     },
     "metadata": {},
     "output_type": "display_data"
    },
    {
     "data": {
      "text/html": [
       "<pre style=\"white-space:pre;overflow-x:auto;line-height:normal;font-family:Menlo,'DejaVu Sans Mono',consolas,'Courier New',monospace\"><span style=\"color: #000080; text-decoration-color: #000080\"></span></pre>\n"
      ],
      "text/plain": []
     },
     "metadata": {},
     "output_type": "display_data"
    },
    {
     "data": {
      "text/html": [
       "<pre style=\"white-space:pre;overflow-x:auto;line-height:normal;font-family:Menlo,'DejaVu Sans Mono',consolas,'Courier New',monospace\"><span style=\"color: #000080; text-decoration-color: #000080\">epoch:60, train_loss: 1.2625021934509277, test_loss: 1.26720130443573\n",
       "</span></pre>\n"
      ],
      "text/plain": [
       "\u001b[34mepoch:60, train_loss: 1.2625021934509277, test_loss: 1.26720130443573\n",
       "\u001b[0m"
      ]
     },
     "metadata": {},
     "output_type": "display_data"
    },
    {
     "data": {
      "text/html": [
       "<pre style=\"white-space:pre;overflow-x:auto;line-height:normal;font-family:Menlo,'DejaVu Sans Mono',consolas,'Courier New',monospace\"><span style=\"color: #000080; text-decoration-color: #000080\"></span></pre>\n"
      ],
      "text/plain": []
     },
     "metadata": {},
     "output_type": "display_data"
    },
    {
     "data": {
      "text/html": [
       "<pre style=\"white-space:pre;overflow-x:auto;line-height:normal;font-family:Menlo,'DejaVu Sans Mono',consolas,'Courier New',monospace\"><span style=\"color: #000080; text-decoration-color: #000080\">epoch:60, train_accuracy: 57.27416276931763, test_accuracy: 56.22050094604492\n",
       "</span></pre>\n"
      ],
      "text/plain": [
       "\u001b[34mepoch:60, train_accuracy: 57.27416276931763, test_accuracy: 56.22050094604492\n",
       "\u001b[0m"
      ]
     },
     "metadata": {},
     "output_type": "display_data"
    },
    {
     "data": {
      "text/html": [
       "<pre style=\"white-space:pre;overflow-x:auto;line-height:normal;font-family:Menlo,'DejaVu Sans Mono',consolas,'Courier New',monospace\"><span style=\"color: #800000; text-decoration-color: #800000\">\u001b[1A 60%|██████    | 60/100 [04:55&lt;02:31,  3.79s/it]\n",
       "</span></pre>\n"
      ],
      "text/plain": [
       "\u001b[31m\u001b[1A 60%|██████    | 60/100 [04:55<02:31,  3.79s/it]\n",
       "\u001b[0m"
      ]
     },
     "metadata": {},
     "output_type": "display_data"
    },
    {
     "data": {
      "text/html": [
       "<pre style=\"white-space:pre;overflow-x:auto;line-height:normal;font-family:Menlo,'DejaVu Sans Mono',consolas,'Courier New',monospace\"><span style=\"color: #000080; text-decoration-color: #000080\"></span></pre>\n"
      ],
      "text/plain": []
     },
     "metadata": {},
     "output_type": "display_data"
    },
    {
     "data": {
      "text/html": [
       "<pre style=\"white-space:pre;overflow-x:auto;line-height:normal;font-family:Menlo,'DejaVu Sans Mono',consolas,'Courier New',monospace\"><span style=\"color: #000080; text-decoration-color: #000080\">epoch:61, train_loss: 1.2612003087997437, test_loss: 1.2672349214553833\n",
       "</span></pre>\n"
      ],
      "text/plain": [
       "\u001b[34mepoch:61, train_loss: 1.2612003087997437, test_loss: 1.2672349214553833\n",
       "\u001b[0m"
      ]
     },
     "metadata": {},
     "output_type": "display_data"
    },
    {
     "data": {
      "text/html": [
       "<pre style=\"white-space:pre;overflow-x:auto;line-height:normal;font-family:Menlo,'DejaVu Sans Mono',consolas,'Courier New',monospace\"><span style=\"color: #000080; text-decoration-color: #000080\"></span></pre>\n"
      ],
      "text/plain": []
     },
     "metadata": {},
     "output_type": "display_data"
    },
    {
     "data": {
      "text/html": [
       "<pre style=\"white-space:pre;overflow-x:auto;line-height:normal;font-family:Menlo,'DejaVu Sans Mono',consolas,'Courier New',monospace\"><span style=\"color: #000080; text-decoration-color: #000080\">epoch:61, train_accuracy: 57.29814171791077, test_accuracy: 56.21043395996094\n",
       "</span></pre>\n"
      ],
      "text/plain": [
       "\u001b[34mepoch:61, train_accuracy: 57.29814171791077, test_accuracy: 56.21043395996094\n",
       "\u001b[0m"
      ]
     },
     "metadata": {},
     "output_type": "display_data"
    },
    {
     "data": {
      "text/html": [
       "<pre style=\"white-space:pre;overflow-x:auto;line-height:normal;font-family:Menlo,'DejaVu Sans Mono',consolas,'Courier New',monospace\"><span style=\"color: #800000; text-decoration-color: #800000\">\u001b[1A 61%|██████    | 61/100 [05:00&lt;02:30,  3.87s/it]\n",
       "</span></pre>\n"
      ],
      "text/plain": [
       "\u001b[31m\u001b[1A 61%|██████    | 61/100 [05:00<02:30,  3.87s/it]\n",
       "\u001b[0m"
      ]
     },
     "metadata": {},
     "output_type": "display_data"
    },
    {
     "data": {
      "text/html": [
       "<pre style=\"white-space:pre;overflow-x:auto;line-height:normal;font-family:Menlo,'DejaVu Sans Mono',consolas,'Courier New',monospace\"><span style=\"color: #000080; text-decoration-color: #000080\"></span></pre>\n"
      ],
      "text/plain": []
     },
     "metadata": {},
     "output_type": "display_data"
    },
    {
     "data": {
      "text/html": [
       "<pre style=\"white-space:pre;overflow-x:auto;line-height:normal;font-family:Menlo,'DejaVu Sans Mono',consolas,'Courier New',monospace\"><span style=\"color: #000080; text-decoration-color: #000080\">epoch:62, train_loss: 1.2613885402679443, test_loss: 1.2712584733963013\n",
       "</span></pre>\n"
      ],
      "text/plain": [
       "\u001b[34mepoch:62, train_loss: 1.2613885402679443, test_loss: 1.2712584733963013\n",
       "\u001b[0m"
      ]
     },
     "metadata": {},
     "output_type": "display_data"
    },
    {
     "data": {
      "text/html": [
       "<pre style=\"white-space:pre;overflow-x:auto;line-height:normal;font-family:Menlo,'DejaVu Sans Mono',consolas,'Courier New',monospace\"><span style=\"color: #000080; text-decoration-color: #000080\"></span></pre>\n"
      ],
      "text/plain": []
     },
     "metadata": {},
     "output_type": "display_data"
    },
    {
     "data": {
      "text/html": [
       "<pre style=\"white-space:pre;overflow-x:auto;line-height:normal;font-family:Menlo,'DejaVu Sans Mono',consolas,'Courier New',monospace\"><span style=\"color: #000080; text-decoration-color: #000080\">epoch:62, train_accuracy: 57.30261206626892, test_accuracy: 56.08879470825195\n",
       "</span></pre>\n"
      ],
      "text/plain": [
       "\u001b[34mepoch:62, train_accuracy: 57.30261206626892, test_accuracy: 56.08879470825195\n",
       "\u001b[0m"
      ]
     },
     "metadata": {},
     "output_type": "display_data"
    },
    {
     "data": {
      "text/html": [
       "<pre style=\"white-space:pre;overflow-x:auto;line-height:normal;font-family:Menlo,'DejaVu Sans Mono',consolas,'Courier New',monospace\"><span style=\"color: #800000; text-decoration-color: #800000\">\u001b[1A 62%|██████▏   | 62/100 [05:04&lt;02:29,  3.94s/it]\n",
       "</span></pre>\n"
      ],
      "text/plain": [
       "\u001b[31m\u001b[1A 62%|██████▏   | 62/100 [05:04<02:29,  3.94s/it]\n",
       "\u001b[0m"
      ]
     },
     "metadata": {},
     "output_type": "display_data"
    },
    {
     "data": {
      "text/html": [
       "<pre style=\"white-space:pre;overflow-x:auto;line-height:normal;font-family:Menlo,'DejaVu Sans Mono',consolas,'Courier New',monospace\"><span style=\"color: #000080; text-decoration-color: #000080\"></span></pre>\n"
      ],
      "text/plain": []
     },
     "metadata": {},
     "output_type": "display_data"
    },
    {
     "data": {
      "text/html": [
       "<pre style=\"white-space:pre;overflow-x:auto;line-height:normal;font-family:Menlo,'DejaVu Sans Mono',consolas,'Courier New',monospace\"><span style=\"color: #000080; text-decoration-color: #000080\">epoch:63, train_loss: 1.2619094848632812, test_loss: 1.2668629884719849\n",
       "</span></pre>\n"
      ],
      "text/plain": [
       "\u001b[34mepoch:63, train_loss: 1.2619094848632812, test_loss: 1.2668629884719849\n",
       "\u001b[0m"
      ]
     },
     "metadata": {},
     "output_type": "display_data"
    },
    {
     "data": {
      "text/html": [
       "<pre style=\"white-space:pre;overflow-x:auto;line-height:normal;font-family:Menlo,'DejaVu Sans Mono',consolas,'Courier New',monospace\"><span style=\"color: #000080; text-decoration-color: #000080\"></span></pre>\n"
      ],
      "text/plain": []
     },
     "metadata": {},
     "output_type": "display_data"
    },
    {
     "data": {
      "text/html": [
       "<pre style=\"white-space:pre;overflow-x:auto;line-height:normal;font-family:Menlo,'DejaVu Sans Mono',consolas,'Courier New',monospace\"><span style=\"color: #000080; text-decoration-color: #000080\">epoch:63, train_accuracy: 57.28644132614136, test_accuracy: 56.150089263916016\n",
       "</span></pre>\n"
      ],
      "text/plain": [
       "\u001b[34mepoch:63, train_accuracy: 57.28644132614136, test_accuracy: 56.150089263916016\n",
       "\u001b[0m"
      ]
     },
     "metadata": {},
     "output_type": "display_data"
    },
    {
     "data": {
      "text/html": [
       "<pre style=\"white-space:pre;overflow-x:auto;line-height:normal;font-family:Menlo,'DejaVu Sans Mono',consolas,'Courier New',monospace\"><span style=\"color: #800000; text-decoration-color: #800000\">\u001b[1A 63%|██████▎   | 63/100 [05:08&lt;02:30,  4.07s/it]\n",
       "</span></pre>\n"
      ],
      "text/plain": [
       "\u001b[31m\u001b[1A 63%|██████▎   | 63/100 [05:08<02:30,  4.07s/it]\n",
       "\u001b[0m"
      ]
     },
     "metadata": {},
     "output_type": "display_data"
    },
    {
     "data": {
      "text/html": [
       "<pre style=\"white-space:pre;overflow-x:auto;line-height:normal;font-family:Menlo,'DejaVu Sans Mono',consolas,'Courier New',monospace\"><span style=\"color: #000080; text-decoration-color: #000080\"></span></pre>\n"
      ],
      "text/plain": []
     },
     "metadata": {},
     "output_type": "display_data"
    },
    {
     "data": {
      "text/html": [
       "<pre style=\"white-space:pre;overflow-x:auto;line-height:normal;font-family:Menlo,'DejaVu Sans Mono',consolas,'Courier New',monospace\"><span style=\"color: #000080; text-decoration-color: #000080\">epoch:64, train_loss: 1.2624257802963257, test_loss: 1.277134656906128\n",
       "</span></pre>\n"
      ],
      "text/plain": [
       "\u001b[34mepoch:64, train_loss: 1.2624257802963257, test_loss: 1.277134656906128\n",
       "\u001b[0m"
      ]
     },
     "metadata": {},
     "output_type": "display_data"
    },
    {
     "data": {
      "text/html": [
       "<pre style=\"white-space:pre;overflow-x:auto;line-height:normal;font-family:Menlo,'DejaVu Sans Mono',consolas,'Courier New',monospace\"><span style=\"color: #000080; text-decoration-color: #000080\"></span></pre>\n"
      ],
      "text/plain": []
     },
     "metadata": {},
     "output_type": "display_data"
    },
    {
     "data": {
      "text/html": [
       "<pre style=\"white-space:pre;overflow-x:auto;line-height:normal;font-family:Menlo,'DejaVu Sans Mono',consolas,'Courier New',monospace\"><span style=\"color: #000080; text-decoration-color: #000080\">epoch:64, train_accuracy: 57.28440284729004, test_accuracy: 56.12270736694336\n",
       "</span></pre>\n"
      ],
      "text/plain": [
       "\u001b[34mepoch:64, train_accuracy: 57.28440284729004, test_accuracy: 56.12270736694336\n",
       "\u001b[0m"
      ]
     },
     "metadata": {},
     "output_type": "display_data"
    },
    {
     "data": {
      "text/html": [
       "<pre style=\"white-space:pre;overflow-x:auto;line-height:normal;font-family:Menlo,'DejaVu Sans Mono',consolas,'Courier New',monospace\"><span style=\"color: #800000; text-decoration-color: #800000\">\u001b[1A 64%|██████▍   | 64/100 [05:12&lt;02:24,  4.02s/it]\n",
       "</span></pre>\n"
      ],
      "text/plain": [
       "\u001b[31m\u001b[1A 64%|██████▍   | 64/100 [05:12<02:24,  4.02s/it]\n",
       "\u001b[0m"
      ]
     },
     "metadata": {},
     "output_type": "display_data"
    },
    {
     "data": {
      "text/html": [
       "<pre style=\"white-space:pre;overflow-x:auto;line-height:normal;font-family:Menlo,'DejaVu Sans Mono',consolas,'Courier New',monospace\"><span style=\"color: #000080; text-decoration-color: #000080\"></span></pre>\n"
      ],
      "text/plain": []
     },
     "metadata": {},
     "output_type": "display_data"
    },
    {
     "data": {
      "text/html": [
       "<pre style=\"white-space:pre;overflow-x:auto;line-height:normal;font-family:Menlo,'DejaVu Sans Mono',consolas,'Courier New',monospace\"><span style=\"color: #000080; text-decoration-color: #000080\">epoch:65, train_loss: 1.2617255449295044, test_loss: 1.265972375869751\n",
       "</span></pre>\n"
      ],
      "text/plain": [
       "\u001b[34mepoch:65, train_loss: 1.2617255449295044, test_loss: 1.265972375869751\n",
       "\u001b[0m"
      ]
     },
     "metadata": {},
     "output_type": "display_data"
    },
    {
     "data": {
      "text/html": [
       "<pre style=\"white-space:pre;overflow-x:auto;line-height:normal;font-family:Menlo,'DejaVu Sans Mono',consolas,'Courier New',monospace\"><span style=\"color: #000080; text-decoration-color: #000080\"></span></pre>\n"
      ],
      "text/plain": []
     },
     "metadata": {},
     "output_type": "display_data"
    },
    {
     "data": {
      "text/html": [
       "<pre style=\"white-space:pre;overflow-x:auto;line-height:normal;font-family:Menlo,'DejaVu Sans Mono',consolas,'Courier New',monospace\"><span style=\"color: #000080; text-decoration-color: #000080\">epoch:65, train_accuracy: 57.277148962020874, test_accuracy: 56.199371337890625\n",
       "</span></pre>\n"
      ],
      "text/plain": [
       "\u001b[34mepoch:65, train_accuracy: 57.277148962020874, test_accuracy: 56.199371337890625\n",
       "\u001b[0m"
      ]
     },
     "metadata": {},
     "output_type": "display_data"
    },
    {
     "data": {
      "text/html": [
       "<pre style=\"white-space:pre;overflow-x:auto;line-height:normal;font-family:Menlo,'DejaVu Sans Mono',consolas,'Courier New',monospace\"><span style=\"color: #800000; text-decoration-color: #800000\">\u001b[1A 65%|██████▌   | 65/100 [05:16&lt;02:18,  3.96s/it]\n",
       "</span></pre>\n"
      ],
      "text/plain": [
       "\u001b[31m\u001b[1A 65%|██████▌   | 65/100 [05:16<02:18,  3.96s/it]\n",
       "\u001b[0m"
      ]
     },
     "metadata": {},
     "output_type": "display_data"
    },
    {
     "data": {
      "text/html": [
       "<pre style=\"white-space:pre;overflow-x:auto;line-height:normal;font-family:Menlo,'DejaVu Sans Mono',consolas,'Courier New',monospace\"><span style=\"color: #800000; text-decoration-color: #800000\">\u001b[1A 66%|██████▌   | 66/100 [05:20&lt;02:15,  3.98s/it]</span></pre>\n"
      ],
      "text/plain": [
       "\u001b[31m\u001b[1A 66%|██████▌   | 66/100 [05:20<02:15,  3.98s/it]\u001b[0m"
      ]
     },
     "metadata": {},
     "output_type": "display_data"
    },
    {
     "data": {
      "text/html": [
       "<pre style=\"white-space:pre;overflow-x:auto;line-height:normal;font-family:Menlo,'DejaVu Sans Mono',consolas,'Courier New',monospace\"><span style=\"color: #000080; text-decoration-color: #000080\"></span></pre>\n"
      ],
      "text/plain": []
     },
     "metadata": {},
     "output_type": "display_data"
    },
    {
     "data": {
      "text/html": [
       "<pre style=\"white-space:pre;overflow-x:auto;line-height:normal;font-family:Menlo,'DejaVu Sans Mono',consolas,'Courier New',monospace\"><span style=\"color: #000080; text-decoration-color: #000080\">epoch:66, train_loss: 1.2606571912765503, test_loss: 1.266481876373291\n",
       "</span></pre>\n"
      ],
      "text/plain": [
       "\u001b[34mepoch:66, train_loss: 1.2606571912765503, test_loss: 1.266481876373291\n",
       "\u001b[0m"
      ]
     },
     "metadata": {},
     "output_type": "display_data"
    },
    {
     "data": {
      "text/html": [
       "<pre style=\"white-space:pre;overflow-x:auto;line-height:normal;font-family:Menlo,'DejaVu Sans Mono',consolas,'Courier New',monospace\"><span style=\"color: #000080; text-decoration-color: #000080\">epoch:66, train_accuracy: 57.30985999107361, test_accuracy: 56.186073303222656\n",
       "</span></pre>\n"
      ],
      "text/plain": [
       "\u001b[34mepoch:66, train_accuracy: 57.30985999107361, test_accuracy: 56.186073303222656\n",
       "\u001b[0m"
      ]
     },
     "metadata": {},
     "output_type": "display_data"
    },
    {
     "data": {
      "text/html": [
       "<pre style=\"white-space:pre;overflow-x:auto;line-height:normal;font-family:Menlo,'DejaVu Sans Mono',consolas,'Courier New',monospace\"><span style=\"color: #800000; text-decoration-color: #800000\">\n",
       "</span></pre>\n"
      ],
      "text/plain": [
       "\u001b[31m\n",
       "\u001b[0m"
      ]
     },
     "metadata": {},
     "output_type": "display_data"
    },
    {
     "data": {
      "text/html": [
       "<pre style=\"white-space:pre;overflow-x:auto;line-height:normal;font-family:Menlo,'DejaVu Sans Mono',consolas,'Courier New',monospace\"><span style=\"color: #000080; text-decoration-color: #000080\"></span></pre>\n"
      ],
      "text/plain": []
     },
     "metadata": {},
     "output_type": "display_data"
    },
    {
     "data": {
      "text/html": [
       "<pre style=\"white-space:pre;overflow-x:auto;line-height:normal;font-family:Menlo,'DejaVu Sans Mono',consolas,'Courier New',monospace\"><span style=\"color: #000080; text-decoration-color: #000080\">epoch:67, train_loss: 1.2608718872070312, test_loss: 1.2809431552886963\n",
       "</span></pre>\n"
      ],
      "text/plain": [
       "\u001b[34mepoch:67, train_loss: 1.2608718872070312, test_loss: 1.2809431552886963\n",
       "\u001b[0m"
      ]
     },
     "metadata": {},
     "output_type": "display_data"
    },
    {
     "data": {
      "text/html": [
       "<pre style=\"white-space:pre;overflow-x:auto;line-height:normal;font-family:Menlo,'DejaVu Sans Mono',consolas,'Courier New',monospace\"><span style=\"color: #000080; text-decoration-color: #000080\">epoch:67, train_accuracy: 57.31608271598816, test_accuracy: 55.782230377197266\n",
       "</span></pre>\n"
      ],
      "text/plain": [
       "\u001b[34mepoch:67, train_accuracy: 57.31608271598816, test_accuracy: 55.782230377197266\n",
       "\u001b[0m"
      ]
     },
     "metadata": {},
     "output_type": "display_data"
    },
    {
     "data": {
      "text/html": [
       "<pre style=\"white-space:pre;overflow-x:auto;line-height:normal;font-family:Menlo,'DejaVu Sans Mono',consolas,'Courier New',monospace\"><span style=\"color: #800000; text-decoration-color: #800000\">\u001b[1A 67%|██████▋   | 67/100 [05:24&lt;02:11,  3.97s/it]\n",
       "</span></pre>\n"
      ],
      "text/plain": [
       "\u001b[31m\u001b[1A 67%|██████▋   | 67/100 [05:24<02:11,  3.97s/it]\n",
       "\u001b[0m"
      ]
     },
     "metadata": {},
     "output_type": "display_data"
    },
    {
     "data": {
      "text/html": [
       "<pre style=\"white-space:pre;overflow-x:auto;line-height:normal;font-family:Menlo,'DejaVu Sans Mono',consolas,'Courier New',monospace\"><span style=\"color: #000080; text-decoration-color: #000080\"></span></pre>\n"
      ],
      "text/plain": []
     },
     "metadata": {},
     "output_type": "display_data"
    },
    {
     "data": {
      "text/html": [
       "<pre style=\"white-space:pre;overflow-x:auto;line-height:normal;font-family:Menlo,'DejaVu Sans Mono',consolas,'Courier New',monospace\"><span style=\"color: #000080; text-decoration-color: #000080\">epoch:68, train_loss: 1.2609760761260986, test_loss: 1.265148639678955\n",
       "</span></pre>\n"
      ],
      "text/plain": [
       "\u001b[34mepoch:68, train_loss: 1.2609760761260986, test_loss: 1.265148639678955\n",
       "\u001b[0m"
      ]
     },
     "metadata": {},
     "output_type": "display_data"
    },
    {
     "data": {
      "text/html": [
       "<pre style=\"white-space:pre;overflow-x:auto;line-height:normal;font-family:Menlo,'DejaVu Sans Mono',consolas,'Courier New',monospace\"><span style=\"color: #000080; text-decoration-color: #000080\"></span></pre>\n"
      ],
      "text/plain": []
     },
     "metadata": {},
     "output_type": "display_data"
    },
    {
     "data": {
      "text/html": [
       "<pre style=\"white-space:pre;overflow-x:auto;line-height:normal;font-family:Menlo,'DejaVu Sans Mono',consolas,'Courier New',monospace\"><span style=\"color: #000080; text-decoration-color: #000080\">epoch:68, train_accuracy: 57.32749700546265, test_accuracy: 56.216400146484375\n",
       "</span></pre>\n"
      ],
      "text/plain": [
       "\u001b[34mepoch:68, train_accuracy: 57.32749700546265, test_accuracy: 56.216400146484375\n",
       "\u001b[0m"
      ]
     },
     "metadata": {},
     "output_type": "display_data"
    },
    {
     "data": {
      "text/html": [
       "<pre style=\"white-space:pre;overflow-x:auto;line-height:normal;font-family:Menlo,'DejaVu Sans Mono',consolas,'Courier New',monospace\"><span style=\"color: #800000; text-decoration-color: #800000\">\u001b[1A 68%|██████▊   | 68/100 [05:28&lt;02:07,  3.99s/it]\n",
       "</span></pre>\n"
      ],
      "text/plain": [
       "\u001b[31m\u001b[1A 68%|██████▊   | 68/100 [05:28<02:07,  3.99s/it]\n",
       "\u001b[0m"
      ]
     },
     "metadata": {},
     "output_type": "display_data"
    },
    {
     "data": {
      "text/html": [
       "<pre style=\"white-space:pre;overflow-x:auto;line-height:normal;font-family:Menlo,'DejaVu Sans Mono',consolas,'Courier New',monospace\"><span style=\"color: #000080; text-decoration-color: #000080\"></span></pre>\n"
      ],
      "text/plain": []
     },
     "metadata": {},
     "output_type": "display_data"
    },
    {
     "data": {
      "text/html": [
       "<pre style=\"white-space:pre;overflow-x:auto;line-height:normal;font-family:Menlo,'DejaVu Sans Mono',consolas,'Courier New',monospace\"><span style=\"color: #000080; text-decoration-color: #000080\">epoch:69, train_loss: 1.2605944871902466, test_loss: 1.265662431716919\n",
       "</span></pre>\n"
      ],
      "text/plain": [
       "\u001b[34mepoch:69, train_loss: 1.2605944871902466, test_loss: 1.265662431716919\n",
       "\u001b[0m"
      ]
     },
     "metadata": {},
     "output_type": "display_data"
    },
    {
     "data": {
      "text/html": [
       "<pre style=\"white-space:pre;overflow-x:auto;line-height:normal;font-family:Menlo,'DejaVu Sans Mono',consolas,'Courier New',monospace\"><span style=\"color: #000080; text-decoration-color: #000080\"></span></pre>\n"
      ],
      "text/plain": []
     },
     "metadata": {},
     "output_type": "display_data"
    },
    {
     "data": {
      "text/html": [
       "<pre style=\"white-space:pre;overflow-x:auto;line-height:normal;font-family:Menlo,'DejaVu Sans Mono',consolas,'Courier New',monospace\"><span style=\"color: #000080; text-decoration-color: #000080\">epoch:69, train_accuracy: 57.35665559768677, test_accuracy: 56.19661331176758\n",
       "</span></pre>\n"
      ],
      "text/plain": [
       "\u001b[34mepoch:69, train_accuracy: 57.35665559768677, test_accuracy: 56.19661331176758\n",
       "\u001b[0m"
      ]
     },
     "metadata": {},
     "output_type": "display_data"
    },
    {
     "data": {
      "text/html": [
       "<pre style=\"white-space:pre;overflow-x:auto;line-height:normal;font-family:Menlo,'DejaVu Sans Mono',consolas,'Courier New',monospace\"><span style=\"color: #800000; text-decoration-color: #800000\">\u001b[1A 69%|██████▉   | 69/100 [05:32&lt;02:03,  3.98s/it]\n",
       "</span></pre>\n"
      ],
      "text/plain": [
       "\u001b[31m\u001b[1A 69%|██████▉   | 69/100 [05:32<02:03,  3.98s/it]\n",
       "\u001b[0m"
      ]
     },
     "metadata": {},
     "output_type": "display_data"
    },
    {
     "data": {
      "text/html": [
       "<pre style=\"white-space:pre;overflow-x:auto;line-height:normal;font-family:Menlo,'DejaVu Sans Mono',consolas,'Courier New',monospace\"><span style=\"color: #000080; text-decoration-color: #000080\"></span></pre>\n"
      ],
      "text/plain": []
     },
     "metadata": {},
     "output_type": "display_data"
    },
    {
     "data": {
      "text/html": [
       "<pre style=\"white-space:pre;overflow-x:auto;line-height:normal;font-family:Menlo,'DejaVu Sans Mono',consolas,'Courier New',monospace\"><span style=\"color: #000080; text-decoration-color: #000080\">epoch:70, train_loss: 1.26025390625, test_loss: 1.2679131031036377\n",
       "</span></pre>\n"
      ],
      "text/plain": [
       "\u001b[34mepoch:70, train_loss: 1.26025390625, test_loss: 1.2679131031036377\n",
       "\u001b[0m"
      ]
     },
     "metadata": {},
     "output_type": "display_data"
    },
    {
     "data": {
      "text/html": [
       "<pre style=\"white-space:pre;overflow-x:auto;line-height:normal;font-family:Menlo,'DejaVu Sans Mono',consolas,'Courier New',monospace\"><span style=\"color: #000080; text-decoration-color: #000080\"></span></pre>\n"
      ],
      "text/plain": []
     },
     "metadata": {},
     "output_type": "display_data"
    },
    {
     "data": {
      "text/html": [
       "<pre style=\"white-space:pre;overflow-x:auto;line-height:normal;font-family:Menlo,'DejaVu Sans Mono',consolas,'Courier New',monospace\"><span style=\"color: #000080; text-decoration-color: #000080\">epoch:70, train_accuracy: 57.34069347381592, test_accuracy: 56.15206527709961\n",
       "</span></pre>\n"
      ],
      "text/plain": [
       "\u001b[34mepoch:70, train_accuracy: 57.34069347381592, test_accuracy: 56.15206527709961\n",
       "\u001b[0m"
      ]
     },
     "metadata": {},
     "output_type": "display_data"
    },
    {
     "data": {
      "text/html": [
       "<pre style=\"white-space:pre;overflow-x:auto;line-height:normal;font-family:Menlo,'DejaVu Sans Mono',consolas,'Courier New',monospace\"><span style=\"color: #800000; text-decoration-color: #800000\">\u001b[1A 70%|███████   | 70/100 [05:36&lt;01:59,  4.00s/it]\n",
       "</span></pre>\n"
      ],
      "text/plain": [
       "\u001b[31m\u001b[1A 70%|███████   | 70/100 [05:36<01:59,  4.00s/it]\n",
       "\u001b[0m"
      ]
     },
     "metadata": {},
     "output_type": "display_data"
    },
    {
     "data": {
      "text/html": [
       "<pre style=\"white-space:pre;overflow-x:auto;line-height:normal;font-family:Menlo,'DejaVu Sans Mono',consolas,'Courier New',monospace\"><span style=\"color: #000080; text-decoration-color: #000080\"></span></pre>\n"
      ],
      "text/plain": []
     },
     "metadata": {},
     "output_type": "display_data"
    },
    {
     "data": {
      "text/html": [
       "<pre style=\"white-space:pre;overflow-x:auto;line-height:normal;font-family:Menlo,'DejaVu Sans Mono',consolas,'Courier New',monospace\"><span style=\"color: #000080; text-decoration-color: #000080\">epoch:71, train_loss: 1.2600911855697632, test_loss: 1.2673907279968262\n",
       "</span></pre>\n"
      ],
      "text/plain": [
       "\u001b[34mepoch:71, train_loss: 1.2600911855697632, test_loss: 1.2673907279968262\n",
       "\u001b[0m"
      ]
     },
     "metadata": {},
     "output_type": "display_data"
    },
    {
     "data": {
      "text/html": [
       "<pre style=\"white-space:pre;overflow-x:auto;line-height:normal;font-family:Menlo,'DejaVu Sans Mono',consolas,'Courier New',monospace\"><span style=\"color: #000080; text-decoration-color: #000080\"></span></pre>\n"
      ],
      "text/plain": []
     },
     "metadata": {},
     "output_type": "display_data"
    },
    {
     "data": {
      "text/html": [
       "<pre style=\"white-space:pre;overflow-x:auto;line-height:normal;font-family:Menlo,'DejaVu Sans Mono',consolas,'Courier New',monospace\"><span style=\"color: #000080; text-decoration-color: #000080\">epoch:71, train_accuracy: 57.34397768974304, test_accuracy: 56.232486724853516\n",
       "</span></pre>\n"
      ],
      "text/plain": [
       "\u001b[34mepoch:71, train_accuracy: 57.34397768974304, test_accuracy: 56.232486724853516\n",
       "\u001b[0m"
      ]
     },
     "metadata": {},
     "output_type": "display_data"
    },
    {
     "data": {
      "text/html": [
       "<pre style=\"white-space:pre;overflow-x:auto;line-height:normal;font-family:Menlo,'DejaVu Sans Mono',consolas,'Courier New',monospace\"><span style=\"color: #800000; text-decoration-color: #800000\">\u001b[1A 71%|███████   | 71/100 [05:40&lt;01:57,  4.04s/it]\n",
       "</span></pre>\n"
      ],
      "text/plain": [
       "\u001b[31m\u001b[1A 71%|███████   | 71/100 [05:40<01:57,  4.04s/it]\n",
       "\u001b[0m"
      ]
     },
     "metadata": {},
     "output_type": "display_data"
    },
    {
     "data": {
      "text/html": [
       "<pre style=\"white-space:pre;overflow-x:auto;line-height:normal;font-family:Menlo,'DejaVu Sans Mono',consolas,'Courier New',monospace\"><span style=\"color: #000080; text-decoration-color: #000080\"></span></pre>\n"
      ],
      "text/plain": []
     },
     "metadata": {},
     "output_type": "display_data"
    },
    {
     "data": {
      "text/html": [
       "<pre style=\"white-space:pre;overflow-x:auto;line-height:normal;font-family:Menlo,'DejaVu Sans Mono',consolas,'Courier New',monospace\"><span style=\"color: #000080; text-decoration-color: #000080\">epoch:72, train_loss: 1.2597057819366455, test_loss: 1.2716106176376343\n",
       "</span></pre>\n"
      ],
      "text/plain": [
       "\u001b[34mepoch:72, train_loss: 1.2597057819366455, test_loss: 1.2716106176376343\n",
       "\u001b[0m"
      ]
     },
     "metadata": {},
     "output_type": "display_data"
    },
    {
     "data": {
      "text/html": [
       "<pre style=\"white-space:pre;overflow-x:auto;line-height:normal;font-family:Menlo,'DejaVu Sans Mono',consolas,'Courier New',monospace\"><span style=\"color: #000080; text-decoration-color: #000080\">epoch:72, train_accuracy: 57.34761357307434, test_accuracy: 56.12644958496094\n",
       "</span></pre>\n"
      ],
      "text/plain": [
       "\u001b[34mepoch:72, train_accuracy: 57.34761357307434, test_accuracy: 56.12644958496094\n",
       "\u001b[0m"
      ]
     },
     "metadata": {},
     "output_type": "display_data"
    },
    {
     "data": {
      "text/html": [
       "<pre style=\"white-space:pre;overflow-x:auto;line-height:normal;font-family:Menlo,'DejaVu Sans Mono',consolas,'Courier New',monospace\"><span style=\"color: #800000; text-decoration-color: #800000\">\u001b[1A 72%|███████▏  | 72/100 [05:44&lt;01:51,  3.97s/it]\n",
       "</span></pre>\n"
      ],
      "text/plain": [
       "\u001b[31m\u001b[1A 72%|███████▏  | 72/100 [05:44<01:51,  3.97s/it]\n",
       "\u001b[0m"
      ]
     },
     "metadata": {},
     "output_type": "display_data"
    },
    {
     "data": {
      "text/html": [
       "<pre style=\"white-space:pre;overflow-x:auto;line-height:normal;font-family:Menlo,'DejaVu Sans Mono',consolas,'Courier New',monospace\"><span style=\"color: #000080; text-decoration-color: #000080\"></span></pre>\n"
      ],
      "text/plain": []
     },
     "metadata": {},
     "output_type": "display_data"
    },
    {
     "data": {
      "text/html": [
       "<pre style=\"white-space:pre;overflow-x:auto;line-height:normal;font-family:Menlo,'DejaVu Sans Mono',consolas,'Courier New',monospace\"><span style=\"color: #000080; text-decoration-color: #000080\">epoch:73, train_loss: 1.2591068744659424, test_loss: 1.2683436870574951\n",
       "</span></pre>\n"
      ],
      "text/plain": [
       "\u001b[34mepoch:73, train_loss: 1.2591068744659424, test_loss: 1.2683436870574951\n",
       "\u001b[0m"
      ]
     },
     "metadata": {},
     "output_type": "display_data"
    },
    {
     "data": {
      "text/html": [
       "<pre style=\"white-space:pre;overflow-x:auto;line-height:normal;font-family:Menlo,'DejaVu Sans Mono',consolas,'Courier New',monospace\"><span style=\"color: #000080; text-decoration-color: #000080\">epoch:73, train_accuracy: 57.36114978790283, test_accuracy: 56.126014709472656\n",
       "</span></pre>\n"
      ],
      "text/plain": [
       "\u001b[34mepoch:73, train_accuracy: 57.36114978790283, test_accuracy: 56.126014709472656\n",
       "\u001b[0m"
      ]
     },
     "metadata": {},
     "output_type": "display_data"
    },
    {
     "data": {
      "text/html": [
       "<pre style=\"white-space:pre;overflow-x:auto;line-height:normal;font-family:Menlo,'DejaVu Sans Mono',consolas,'Courier New',monospace\"><span style=\"color: #800000; text-decoration-color: #800000\">\u001b[1A 73%|███████▎  | 73/100 [05:48&lt;01:47,  3.99s/it]\n",
       "</span></pre>\n"
      ],
      "text/plain": [
       "\u001b[31m\u001b[1A 73%|███████▎  | 73/100 [05:48<01:47,  3.99s/it]\n",
       "\u001b[0m"
      ]
     },
     "metadata": {},
     "output_type": "display_data"
    },
    {
     "data": {
      "text/html": [
       "<pre style=\"white-space:pre;overflow-x:auto;line-height:normal;font-family:Menlo,'DejaVu Sans Mono',consolas,'Courier New',monospace\"><span style=\"color: #000080; text-decoration-color: #000080\"></span></pre>\n"
      ],
      "text/plain": []
     },
     "metadata": {},
     "output_type": "display_data"
    },
    {
     "data": {
      "text/html": [
       "<pre style=\"white-space:pre;overflow-x:auto;line-height:normal;font-family:Menlo,'DejaVu Sans Mono',consolas,'Courier New',monospace\"><span style=\"color: #000080; text-decoration-color: #000080\">epoch:74, train_loss: 1.2595990896224976, test_loss: 1.2683719396591187\n",
       "</span></pre>\n"
      ],
      "text/plain": [
       "\u001b[34mepoch:74, train_loss: 1.2595990896224976, test_loss: 1.2683719396591187\n",
       "\u001b[0m"
      ]
     },
     "metadata": {},
     "output_type": "display_data"
    },
    {
     "data": {
      "text/html": [
       "<pre style=\"white-space:pre;overflow-x:auto;line-height:normal;font-family:Menlo,'DejaVu Sans Mono',consolas,'Courier New',monospace\"><span style=\"color: #000080; text-decoration-color: #000080\"></span></pre>\n"
      ],
      "text/plain": []
     },
     "metadata": {},
     "output_type": "display_data"
    },
    {
     "data": {
      "text/html": [
       "<pre style=\"white-space:pre;overflow-x:auto;line-height:normal;font-family:Menlo,'DejaVu Sans Mono',consolas,'Courier New',monospace\"><span style=\"color: #000080; text-decoration-color: #000080\">epoch:74, train_accuracy: 57.34373331069946, test_accuracy: 56.065006256103516\n",
       "</span></pre>\n"
      ],
      "text/plain": [
       "\u001b[34mepoch:74, train_accuracy: 57.34373331069946, test_accuracy: 56.065006256103516\n",
       "\u001b[0m"
      ]
     },
     "metadata": {},
     "output_type": "display_data"
    },
    {
     "data": {
      "text/html": [
       "<pre style=\"white-space:pre;overflow-x:auto;line-height:normal;font-family:Menlo,'DejaVu Sans Mono',consolas,'Courier New',monospace\"><span style=\"color: #800000; text-decoration-color: #800000\">\u001b[1A 74%|███████▍  | 74/100 [05:53&lt;01:53,  4.38s/it]\n",
       "</span></pre>\n"
      ],
      "text/plain": [
       "\u001b[31m\u001b[1A 74%|███████▍  | 74/100 [05:53<01:53,  4.38s/it]\n",
       "\u001b[0m"
      ]
     },
     "metadata": {},
     "output_type": "display_data"
    },
    {
     "data": {
      "text/html": [
       "<pre style=\"white-space:pre;overflow-x:auto;line-height:normal;font-family:Menlo,'DejaVu Sans Mono',consolas,'Courier New',monospace\"><span style=\"color: #000080; text-decoration-color: #000080\"></span></pre>\n"
      ],
      "text/plain": []
     },
     "metadata": {},
     "output_type": "display_data"
    },
    {
     "data": {
      "text/html": [
       "<pre style=\"white-space:pre;overflow-x:auto;line-height:normal;font-family:Menlo,'DejaVu Sans Mono',consolas,'Courier New',monospace\"><span style=\"color: #000080; text-decoration-color: #000080\">epoch:75, train_loss: 1.2590864896774292, test_loss: 1.2692041397094727\n",
       "</span></pre>\n"
      ],
      "text/plain": [
       "\u001b[34mepoch:75, train_loss: 1.2590864896774292, test_loss: 1.2692041397094727\n",
       "\u001b[0m"
      ]
     },
     "metadata": {},
     "output_type": "display_data"
    },
    {
     "data": {
      "text/html": [
       "<pre style=\"white-space:pre;overflow-x:auto;line-height:normal;font-family:Menlo,'DejaVu Sans Mono',consolas,'Courier New',monospace\"><span style=\"color: #000080; text-decoration-color: #000080\">epoch:75, train_accuracy: 57.39135146141052, test_accuracy: 56.19683074951172\n",
       "</span></pre>\n"
      ],
      "text/plain": [
       "\u001b[34mepoch:75, train_accuracy: 57.39135146141052, test_accuracy: 56.19683074951172\n",
       "\u001b[0m"
      ]
     },
     "metadata": {},
     "output_type": "display_data"
    },
    {
     "data": {
      "text/html": [
       "<pre style=\"white-space:pre;overflow-x:auto;line-height:normal;font-family:Menlo,'DejaVu Sans Mono',consolas,'Courier New',monospace\"><span style=\"color: #800000; text-decoration-color: #800000\">\u001b[1A 75%|███████▌  | 75/100 [05:57&lt;01:46,  4.28s/it]\n",
       "</span></pre>\n"
      ],
      "text/plain": [
       "\u001b[31m\u001b[1A 75%|███████▌  | 75/100 [05:57<01:46,  4.28s/it]\n",
       "\u001b[0m"
      ]
     },
     "metadata": {},
     "output_type": "display_data"
    },
    {
     "data": {
      "text/html": [
       "<pre style=\"white-space:pre;overflow-x:auto;line-height:normal;font-family:Menlo,'DejaVu Sans Mono',consolas,'Courier New',monospace\"><span style=\"color: #000080; text-decoration-color: #000080\">epoch:76, train_loss: 1.259002923965454, test_loss: 1.266392707824707\n",
       "</span></pre>\n"
      ],
      "text/plain": [
       "\u001b[34mepoch:76, train_loss: 1.259002923965454, test_loss: 1.266392707824707\n",
       "\u001b[0m"
      ]
     },
     "metadata": {},
     "output_type": "display_data"
    },
    {
     "data": {
      "text/html": [
       "<pre style=\"white-space:pre;overflow-x:auto;line-height:normal;font-family:Menlo,'DejaVu Sans Mono',consolas,'Courier New',monospace\"><span style=\"color: #000080; text-decoration-color: #000080\"></span></pre>\n"
      ],
      "text/plain": []
     },
     "metadata": {},
     "output_type": "display_data"
    },
    {
     "data": {
      "text/html": [
       "<pre style=\"white-space:pre;overflow-x:auto;line-height:normal;font-family:Menlo,'DejaVu Sans Mono',consolas,'Courier New',monospace\"><span style=\"color: #000080; text-decoration-color: #000080\">epoch:76, train_accuracy: 57.387661933898926, test_accuracy: 56.126739501953125\n",
       "</span></pre>\n"
      ],
      "text/plain": [
       "\u001b[34mepoch:76, train_accuracy: 57.387661933898926, test_accuracy: 56.126739501953125\n",
       "\u001b[0m"
      ]
     },
     "metadata": {},
     "output_type": "display_data"
    },
    {
     "data": {
      "text/html": [
       "<pre style=\"white-space:pre;overflow-x:auto;line-height:normal;font-family:Menlo,'DejaVu Sans Mono',consolas,'Courier New',monospace\"><span style=\"color: #800000; text-decoration-color: #800000\">\u001b[1A 76%|███████▌  | 76/100 [06:01&lt;01:42,  4.26s/it]\n",
       "</span></pre>\n"
      ],
      "text/plain": [
       "\u001b[31m\u001b[1A 76%|███████▌  | 76/100 [06:01<01:42,  4.26s/it]\n",
       "\u001b[0m"
      ]
     },
     "metadata": {},
     "output_type": "display_data"
    },
    {
     "data": {
      "text/html": [
       "<pre style=\"white-space:pre;overflow-x:auto;line-height:normal;font-family:Menlo,'DejaVu Sans Mono',consolas,'Courier New',monospace\"><span style=\"color: #000080; text-decoration-color: #000080\"></span></pre>\n"
      ],
      "text/plain": []
     },
     "metadata": {},
     "output_type": "display_data"
    },
    {
     "data": {
      "text/html": [
       "<pre style=\"white-space:pre;overflow-x:auto;line-height:normal;font-family:Menlo,'DejaVu Sans Mono',consolas,'Courier New',monospace\"><span style=\"color: #000080; text-decoration-color: #000080\">epoch:77, train_loss: 1.2595030069351196, test_loss: 1.2654272317886353\n",
       "</span></pre>\n"
      ],
      "text/plain": [
       "\u001b[34mepoch:77, train_loss: 1.2595030069351196, test_loss: 1.2654272317886353\n",
       "\u001b[0m"
      ]
     },
     "metadata": {},
     "output_type": "display_data"
    },
    {
     "data": {
      "text/html": [
       "<pre style=\"white-space:pre;overflow-x:auto;line-height:normal;font-family:Menlo,'DejaVu Sans Mono',consolas,'Courier New',monospace\"><span style=\"color: #000080; text-decoration-color: #000080\"></span></pre>\n"
      ],
      "text/plain": []
     },
     "metadata": {},
     "output_type": "display_data"
    },
    {
     "data": {
      "text/html": [
       "<pre style=\"white-space:pre;overflow-x:auto;line-height:normal;font-family:Menlo,'DejaVu Sans Mono',consolas,'Courier New',monospace\"><span style=\"color: #000080; text-decoration-color: #000080\">epoch:77, train_accuracy: 57.372474670410156, test_accuracy: 56.24365997314453\n",
       "</span></pre>\n"
      ],
      "text/plain": [
       "\u001b[34mepoch:77, train_accuracy: 57.372474670410156, test_accuracy: 56.24365997314453\n",
       "\u001b[0m"
      ]
     },
     "metadata": {},
     "output_type": "display_data"
    },
    {
     "data": {
      "text/html": [
       "<pre style=\"white-space:pre;overflow-x:auto;line-height:normal;font-family:Menlo,'DejaVu Sans Mono',consolas,'Courier New',monospace\"><span style=\"color: #800000; text-decoration-color: #800000\">\u001b[1A 77%|███████▋  | 77/100 [06:05&lt;01:37,  4.22s/it]\n",
       "</span></pre>\n"
      ],
      "text/plain": [
       "\u001b[31m\u001b[1A 77%|███████▋  | 77/100 [06:05<01:37,  4.22s/it]\n",
       "\u001b[0m"
      ]
     },
     "metadata": {},
     "output_type": "display_data"
    },
    {
     "data": {
      "text/html": [
       "<pre style=\"white-space:pre;overflow-x:auto;line-height:normal;font-family:Menlo,'DejaVu Sans Mono',consolas,'Courier New',monospace\"><span style=\"color: #000080; text-decoration-color: #000080\"></span></pre>\n"
      ],
      "text/plain": []
     },
     "metadata": {},
     "output_type": "display_data"
    },
    {
     "data": {
      "text/html": [
       "<pre style=\"white-space:pre;overflow-x:auto;line-height:normal;font-family:Menlo,'DejaVu Sans Mono',consolas,'Courier New',monospace\"><span style=\"color: #000080; text-decoration-color: #000080\">epoch:78, train_loss: 1.2586482763290405, test_loss: 1.266352891921997\n",
       "</span></pre>\n"
      ],
      "text/plain": [
       "\u001b[34mepoch:78, train_loss: 1.2586482763290405, test_loss: 1.266352891921997\n",
       "\u001b[0m"
      ]
     },
     "metadata": {},
     "output_type": "display_data"
    },
    {
     "data": {
      "text/html": [
       "<pre style=\"white-space:pre;overflow-x:auto;line-height:normal;font-family:Menlo,'DejaVu Sans Mono',consolas,'Courier New',monospace\"><span style=\"color: #000080; text-decoration-color: #000080\">epoch:78, train_accuracy: 57.38881230354309, test_accuracy: 56.276832580566406\n",
       "</span></pre>\n"
      ],
      "text/plain": [
       "\u001b[34mepoch:78, train_accuracy: 57.38881230354309, test_accuracy: 56.276832580566406\n",
       "\u001b[0m"
      ]
     },
     "metadata": {},
     "output_type": "display_data"
    },
    {
     "data": {
      "text/html": [
       "<pre style=\"white-space:pre;overflow-x:auto;line-height:normal;font-family:Menlo,'DejaVu Sans Mono',consolas,'Courier New',monospace\"><span style=\"color: #800000; text-decoration-color: #800000\">\u001b[1A 78%|███████▊  | 78/100 [06:09&lt;01:30,  4.13s/it]\n",
       "</span></pre>\n"
      ],
      "text/plain": [
       "\u001b[31m\u001b[1A 78%|███████▊  | 78/100 [06:09<01:30,  4.13s/it]\n",
       "\u001b[0m"
      ]
     },
     "metadata": {},
     "output_type": "display_data"
    },
    {
     "data": {
      "text/html": [
       "<pre style=\"white-space:pre;overflow-x:auto;line-height:normal;font-family:Menlo,'DejaVu Sans Mono',consolas,'Courier New',monospace\"><span style=\"color: #800000; text-decoration-color: #800000\">\u001b[1A 79%|███████▉  | 79/100 [06:13&lt;01:26,  4.10s/it]</span></pre>\n"
      ],
      "text/plain": [
       "\u001b[31m\u001b[1A 79%|███████▉  | 79/100 [06:13<01:26,  4.10s/it]\u001b[0m"
      ]
     },
     "metadata": {},
     "output_type": "display_data"
    },
    {
     "data": {
      "text/html": [
       "<pre style=\"white-space:pre;overflow-x:auto;line-height:normal;font-family:Menlo,'DejaVu Sans Mono',consolas,'Courier New',monospace\"><span style=\"color: #000080; text-decoration-color: #000080\"></span></pre>\n"
      ],
      "text/plain": []
     },
     "metadata": {},
     "output_type": "display_data"
    },
    {
     "data": {
      "text/html": [
       "<pre style=\"white-space:pre;overflow-x:auto;line-height:normal;font-family:Menlo,'DejaVu Sans Mono',consolas,'Courier New',monospace\"><span style=\"color: #000080; text-decoration-color: #000080\">epoch:79, train_loss: 1.2594738006591797, test_loss: 1.2685540914535522\n",
       "</span></pre>\n"
      ],
      "text/plain": [
       "\u001b[34mepoch:79, train_loss: 1.2594738006591797, test_loss: 1.2685540914535522\n",
       "\u001b[0m"
      ]
     },
     "metadata": {},
     "output_type": "display_data"
    },
    {
     "data": {
      "text/html": [
       "<pre style=\"white-space:pre;overflow-x:auto;line-height:normal;font-family:Menlo,'DejaVu Sans Mono',consolas,'Courier New',monospace\"><span style=\"color: #000080; text-decoration-color: #000080\"></span></pre>\n"
      ],
      "text/plain": []
     },
     "metadata": {},
     "output_type": "display_data"
    },
    {
     "data": {
      "text/html": [
       "<pre style=\"white-space:pre;overflow-x:auto;line-height:normal;font-family:Menlo,'DejaVu Sans Mono',consolas,'Courier New',monospace\"><span style=\"color: #000080; text-decoration-color: #000080\">epoch:79, train_accuracy: 57.37024545669556, test_accuracy: 56.259952545166016\n",
       "</span></pre>\n"
      ],
      "text/plain": [
       "\u001b[34mepoch:79, train_accuracy: 57.37024545669556, test_accuracy: 56.259952545166016\n",
       "\u001b[0m"
      ]
     },
     "metadata": {},
     "output_type": "display_data"
    },
    {
     "data": {
      "text/html": [
       "<pre style=\"white-space:pre;overflow-x:auto;line-height:normal;font-family:Menlo,'DejaVu Sans Mono',consolas,'Courier New',monospace\"><span style=\"color: #800000; text-decoration-color: #800000\">\n",
       "</span></pre>\n"
      ],
      "text/plain": [
       "\u001b[31m\n",
       "\u001b[0m"
      ]
     },
     "metadata": {},
     "output_type": "display_data"
    },
    {
     "data": {
      "text/html": [
       "<pre style=\"white-space:pre;overflow-x:auto;line-height:normal;font-family:Menlo,'DejaVu Sans Mono',consolas,'Courier New',monospace\"><span style=\"color: #000080; text-decoration-color: #000080\"></span></pre>\n"
      ],
      "text/plain": []
     },
     "metadata": {},
     "output_type": "display_data"
    },
    {
     "data": {
      "text/html": [
       "<pre style=\"white-space:pre;overflow-x:auto;line-height:normal;font-family:Menlo,'DejaVu Sans Mono',consolas,'Courier New',monospace\"><span style=\"color: #000080; text-decoration-color: #000080\">epoch:80, train_loss: 1.258762240409851, test_loss: 1.2685420513153076\n",
       "</span></pre>\n"
      ],
      "text/plain": [
       "\u001b[34mepoch:80, train_loss: 1.258762240409851, test_loss: 1.2685420513153076\n",
       "\u001b[0m"
      ]
     },
     "metadata": {},
     "output_type": "display_data"
    },
    {
     "data": {
      "text/html": [
       "<pre style=\"white-space:pre;overflow-x:auto;line-height:normal;font-family:Menlo,'DejaVu Sans Mono',consolas,'Courier New',monospace\"><span style=\"color: #000080; text-decoration-color: #000080\"></span></pre>\n"
      ],
      "text/plain": []
     },
     "metadata": {},
     "output_type": "display_data"
    },
    {
     "data": {
      "text/html": [
       "<pre style=\"white-space:pre;overflow-x:auto;line-height:normal;font-family:Menlo,'DejaVu Sans Mono',consolas,'Courier New',monospace\"><span style=\"color: #000080; text-decoration-color: #000080\">epoch:80, train_accuracy: 57.396888732910156, test_accuracy: 56.18899917602539\n",
       "</span></pre>\n"
      ],
      "text/plain": [
       "\u001b[34mepoch:80, train_accuracy: 57.396888732910156, test_accuracy: 56.18899917602539\n",
       "\u001b[0m"
      ]
     },
     "metadata": {},
     "output_type": "display_data"
    },
    {
     "data": {
      "text/html": [
       "<pre style=\"white-space:pre;overflow-x:auto;line-height:normal;font-family:Menlo,'DejaVu Sans Mono',consolas,'Courier New',monospace\"><span style=\"color: #800000; text-decoration-color: #800000\">\u001b[1A 80%|████████  | 80/100 [06:17&lt;01:21,  4.08s/it]\n",
       "</span></pre>\n"
      ],
      "text/plain": [
       "\u001b[31m\u001b[1A 80%|████████  | 80/100 [06:17<01:21,  4.08s/it]\n",
       "\u001b[0m"
      ]
     },
     "metadata": {},
     "output_type": "display_data"
    },
    {
     "data": {
      "text/html": [
       "<pre style=\"white-space:pre;overflow-x:auto;line-height:normal;font-family:Menlo,'DejaVu Sans Mono',consolas,'Courier New',monospace\"><span style=\"color: #000080; text-decoration-color: #000080\"></span></pre>\n"
      ],
      "text/plain": []
     },
     "metadata": {},
     "output_type": "display_data"
    },
    {
     "data": {
      "text/html": [
       "<pre style=\"white-space:pre;overflow-x:auto;line-height:normal;font-family:Menlo,'DejaVu Sans Mono',consolas,'Courier New',monospace\"><span style=\"color: #000080; text-decoration-color: #000080\">epoch:81, train_loss: 1.2576303482055664, test_loss: 1.2655854225158691\n",
       "</span></pre>\n"
      ],
      "text/plain": [
       "\u001b[34mepoch:81, train_loss: 1.2576303482055664, test_loss: 1.2655854225158691\n",
       "\u001b[0m"
      ]
     },
     "metadata": {},
     "output_type": "display_data"
    },
    {
     "data": {
      "text/html": [
       "<pre style=\"white-space:pre;overflow-x:auto;line-height:normal;font-family:Menlo,'DejaVu Sans Mono',consolas,'Courier New',monospace\"><span style=\"color: #000080; text-decoration-color: #000080\"></span></pre>\n"
      ],
      "text/plain": []
     },
     "metadata": {},
     "output_type": "display_data"
    },
    {
     "data": {
      "text/html": [
       "<pre style=\"white-space:pre;overflow-x:auto;line-height:normal;font-family:Menlo,'DejaVu Sans Mono',consolas,'Courier New',monospace\"><span style=\"color: #000080; text-decoration-color: #000080\">epoch:81, train_accuracy: 57.41843581199646, test_accuracy: 56.30331802368164\n",
       "</span></pre>\n"
      ],
      "text/plain": [
       "\u001b[34mepoch:81, train_accuracy: 57.41843581199646, test_accuracy: 56.30331802368164\n",
       "\u001b[0m"
      ]
     },
     "metadata": {},
     "output_type": "display_data"
    },
    {
     "data": {
      "text/html": [
       "<pre style=\"white-space:pre;overflow-x:auto;line-height:normal;font-family:Menlo,'DejaVu Sans Mono',consolas,'Courier New',monospace\"><span style=\"color: #800000; text-decoration-color: #800000\">\u001b[1A 81%|████████  | 81/100 [06:21&lt;01:16,  4.03s/it]\n",
       "</span></pre>\n"
      ],
      "text/plain": [
       "\u001b[31m\u001b[1A 81%|████████  | 81/100 [06:21<01:16,  4.03s/it]\n",
       "\u001b[0m"
      ]
     },
     "metadata": {},
     "output_type": "display_data"
    },
    {
     "data": {
      "text/html": [
       "<pre style=\"white-space:pre;overflow-x:auto;line-height:normal;font-family:Menlo,'DejaVu Sans Mono',consolas,'Courier New',monospace\"><span style=\"color: #000080; text-decoration-color: #000080\"></span></pre>\n"
      ],
      "text/plain": []
     },
     "metadata": {},
     "output_type": "display_data"
    },
    {
     "data": {
      "text/html": [
       "<pre style=\"white-space:pre;overflow-x:auto;line-height:normal;font-family:Menlo,'DejaVu Sans Mono',consolas,'Courier New',monospace\"><span style=\"color: #000080; text-decoration-color: #000080\">epoch:82, train_loss: 1.2582566738128662, test_loss: 1.2706754207611084\n",
       "</span></pre>\n"
      ],
      "text/plain": [
       "\u001b[34mepoch:82, train_loss: 1.2582566738128662, test_loss: 1.2706754207611084\n",
       "\u001b[0m"
      ]
     },
     "metadata": {},
     "output_type": "display_data"
    },
    {
     "data": {
      "text/html": [
       "<pre style=\"white-space:pre;overflow-x:auto;line-height:normal;font-family:Menlo,'DejaVu Sans Mono',consolas,'Courier New',monospace\"><span style=\"color: #000080; text-decoration-color: #000080\"></span></pre>\n"
      ],
      "text/plain": []
     },
     "metadata": {},
     "output_type": "display_data"
    },
    {
     "data": {
      "text/html": [
       "<pre style=\"white-space:pre;overflow-x:auto;line-height:normal;font-family:Menlo,'DejaVu Sans Mono',consolas,'Courier New',monospace\"><span style=\"color: #000080; text-decoration-color: #000080\">epoch:82, train_accuracy: 57.415539026260376, test_accuracy: 56.109764099121094\n",
       "</span></pre>\n"
      ],
      "text/plain": [
       "\u001b[34mepoch:82, train_accuracy: 57.415539026260376, test_accuracy: 56.109764099121094\n",
       "\u001b[0m"
      ]
     },
     "metadata": {},
     "output_type": "display_data"
    },
    {
     "data": {
      "text/html": [
       "<pre style=\"white-space:pre;overflow-x:auto;line-height:normal;font-family:Menlo,'DejaVu Sans Mono',consolas,'Courier New',monospace\"><span style=\"color: #800000; text-decoration-color: #800000\">\u001b[1A 82%|████████▏ | 82/100 [06:25&lt;01:12,  4.04s/it]\n",
       "</span></pre>\n"
      ],
      "text/plain": [
       "\u001b[31m\u001b[1A 82%|████████▏ | 82/100 [06:25<01:12,  4.04s/it]\n",
       "\u001b[0m"
      ]
     },
     "metadata": {},
     "output_type": "display_data"
    },
    {
     "data": {
      "text/html": [
       "<pre style=\"white-space:pre;overflow-x:auto;line-height:normal;font-family:Menlo,'DejaVu Sans Mono',consolas,'Courier New',monospace\"><span style=\"color: #000080; text-decoration-color: #000080\"></span></pre>\n"
      ],
      "text/plain": []
     },
     "metadata": {},
     "output_type": "display_data"
    },
    {
     "data": {
      "text/html": [
       "<pre style=\"white-space:pre;overflow-x:auto;line-height:normal;font-family:Menlo,'DejaVu Sans Mono',consolas,'Courier New',monospace\"><span style=\"color: #000080; text-decoration-color: #000080\">epoch:83, train_loss: 1.258937954902649, test_loss: 1.2676142454147339\n",
       "</span></pre>\n"
      ],
      "text/plain": [
       "\u001b[34mepoch:83, train_loss: 1.258937954902649, test_loss: 1.2676142454147339\n",
       "\u001b[0m"
      ]
     },
     "metadata": {},
     "output_type": "display_data"
    },
    {
     "data": {
      "text/html": [
       "<pre style=\"white-space:pre;overflow-x:auto;line-height:normal;font-family:Menlo,'DejaVu Sans Mono',consolas,'Courier New',monospace\"><span style=\"color: #000080; text-decoration-color: #000080\"></span></pre>\n"
      ],
      "text/plain": []
     },
     "metadata": {},
     "output_type": "display_data"
    },
    {
     "data": {
      "text/html": [
       "<pre style=\"white-space:pre;overflow-x:auto;line-height:normal;font-family:Menlo,'DejaVu Sans Mono',consolas,'Courier New',monospace\"><span style=\"color: #000080; text-decoration-color: #000080\">epoch:83, train_accuracy: 57.379502058029175, test_accuracy: 56.08111572265625\n",
       "</span></pre>\n"
      ],
      "text/plain": [
       "\u001b[34mepoch:83, train_accuracy: 57.379502058029175, test_accuracy: 56.08111572265625\n",
       "\u001b[0m"
      ]
     },
     "metadata": {},
     "output_type": "display_data"
    },
    {
     "data": {
      "text/html": [
       "<pre style=\"white-space:pre;overflow-x:auto;line-height:normal;font-family:Menlo,'DejaVu Sans Mono',consolas,'Courier New',monospace\"><span style=\"color: #000080; text-decoration-color: #000080\"></span></pre>\n"
      ],
      "text/plain": []
     },
     "metadata": {},
     "output_type": "display_data"
    },
    {
     "data": {
      "text/html": [
       "<pre style=\"white-space:pre;overflow-x:auto;line-height:normal;font-family:Menlo,'DejaVu Sans Mono',consolas,'Courier New',monospace\"><span style=\"color: #000080; text-decoration-color: #000080\">epoch:84, train_loss: 1.2569645643234253, test_loss: 1.2659906148910522\n",
       "</span></pre>\n"
      ],
      "text/plain": [
       "\u001b[34mepoch:84, train_loss: 1.2569645643234253, test_loss: 1.2659906148910522\n",
       "\u001b[0m"
      ]
     },
     "metadata": {},
     "output_type": "display_data"
    },
    {
     "data": {
      "text/html": [
       "<pre style=\"white-space:pre;overflow-x:auto;line-height:normal;font-family:Menlo,'DejaVu Sans Mono',consolas,'Courier New',monospace\"><span style=\"color: #000080; text-decoration-color: #000080\">epoch:84, train_accuracy: 57.43139982223511, test_accuracy: 56.35478591918945\n",
       "</span></pre>\n"
      ],
      "text/plain": [
       "\u001b[34mepoch:84, train_accuracy: 57.43139982223511, test_accuracy: 56.35478591918945\n",
       "\u001b[0m"
      ]
     },
     "metadata": {},
     "output_type": "display_data"
    },
    {
     "data": {
      "text/html": [
       "<pre style=\"white-space:pre;overflow-x:auto;line-height:normal;font-family:Menlo,'DejaVu Sans Mono',consolas,'Courier New',monospace\"><span style=\"color: #800000; text-decoration-color: #800000\">\u001b[1A 84%|████████▍ | 84/100 [06:33&lt;01:02,  3.90s/it]\n",
       "</span></pre>\n"
      ],
      "text/plain": [
       "\u001b[31m\u001b[1A 84%|████████▍ | 84/100 [06:33<01:02,  3.90s/it]\n",
       "\u001b[0m"
      ]
     },
     "metadata": {},
     "output_type": "display_data"
    },
    {
     "data": {
      "text/html": [
       "<pre style=\"white-space:pre;overflow-x:auto;line-height:normal;font-family:Menlo,'DejaVu Sans Mono',consolas,'Courier New',monospace\"><span style=\"color: #000080; text-decoration-color: #000080\"></span></pre>\n"
      ],
      "text/plain": []
     },
     "metadata": {},
     "output_type": "display_data"
    },
    {
     "data": {
      "text/html": [
       "<pre style=\"white-space:pre;overflow-x:auto;line-height:normal;font-family:Menlo,'DejaVu Sans Mono',consolas,'Courier New',monospace\"><span style=\"color: #000080; text-decoration-color: #000080\">epoch:85, train_loss: 1.2572269439697266, test_loss: 1.268337368965149\n",
       "</span></pre>\n"
      ],
      "text/plain": [
       "\u001b[34mepoch:85, train_loss: 1.2572269439697266, test_loss: 1.268337368965149\n",
       "\u001b[0m"
      ]
     },
     "metadata": {},
     "output_type": "display_data"
    },
    {
     "data": {
      "text/html": [
       "<pre style=\"white-space:pre;overflow-x:auto;line-height:normal;font-family:Menlo,'DejaVu Sans Mono',consolas,'Courier New',monospace\"><span style=\"color: #000080; text-decoration-color: #000080\"></span></pre>\n"
      ],
      "text/plain": []
     },
     "metadata": {},
     "output_type": "display_data"
    },
    {
     "data": {
      "text/html": [
       "<pre style=\"white-space:pre;overflow-x:auto;line-height:normal;font-family:Menlo,'DejaVu Sans Mono',consolas,'Courier New',monospace\"><span style=\"color: #000080; text-decoration-color: #000080\">epoch:85, train_accuracy: 57.42156505584717, test_accuracy: 56.192344665527344\n",
       "</span></pre>\n"
      ],
      "text/plain": [
       "\u001b[34mepoch:85, train_accuracy: 57.42156505584717, test_accuracy: 56.192344665527344\n",
       "\u001b[0m"
      ]
     },
     "metadata": {},
     "output_type": "display_data"
    },
    {
     "data": {
      "text/html": [
       "<pre style=\"white-space:pre;overflow-x:auto;line-height:normal;font-family:Menlo,'DejaVu Sans Mono',consolas,'Courier New',monospace\"><span style=\"color: #800000; text-decoration-color: #800000\">\u001b[1A 85%|████████▌ | 85/100 [06:37&lt;00:57,  3.85s/it]\n",
       "</span></pre>\n"
      ],
      "text/plain": [
       "\u001b[31m\u001b[1A 85%|████████▌ | 85/100 [06:37<00:57,  3.85s/it]\n",
       "\u001b[0m"
      ]
     },
     "metadata": {},
     "output_type": "display_data"
    },
    {
     "data": {
      "text/html": [
       "<pre style=\"white-space:pre;overflow-x:auto;line-height:normal;font-family:Menlo,'DejaVu Sans Mono',consolas,'Courier New',monospace\"><span style=\"color: #000080; text-decoration-color: #000080\"></span></pre>\n"
      ],
      "text/plain": []
     },
     "metadata": {},
     "output_type": "display_data"
    },
    {
     "data": {
      "text/html": [
       "<pre style=\"white-space:pre;overflow-x:auto;line-height:normal;font-family:Menlo,'DejaVu Sans Mono',consolas,'Courier New',monospace\"><span style=\"color: #000080; text-decoration-color: #000080\">epoch:86, train_loss: 1.2575111389160156, test_loss: 1.2647825479507446\n",
       "</span></pre>\n"
      ],
      "text/plain": [
       "\u001b[34mepoch:86, train_loss: 1.2575111389160156, test_loss: 1.2647825479507446\n",
       "\u001b[0m"
      ]
     },
     "metadata": {},
     "output_type": "display_data"
    },
    {
     "data": {
      "text/html": [
       "<pre style=\"white-space:pre;overflow-x:auto;line-height:normal;font-family:Menlo,'DejaVu Sans Mono',consolas,'Courier New',monospace\"><span style=\"color: #000080; text-decoration-color: #000080\">epoch:86, train_accuracy: 57.435113191604614, test_accuracy: 56.28290939331055\n",
       "</span></pre>\n"
      ],
      "text/plain": [
       "\u001b[34mepoch:86, train_accuracy: 57.435113191604614, test_accuracy: 56.28290939331055\n",
       "\u001b[0m"
      ]
     },
     "metadata": {},
     "output_type": "display_data"
    },
    {
     "data": {
      "text/html": [
       "<pre style=\"white-space:pre;overflow-x:auto;line-height:normal;font-family:Menlo,'DejaVu Sans Mono',consolas,'Courier New',monospace\"><span style=\"color: #800000; text-decoration-color: #800000\">\u001b[1A 86%|████████▌ | 86/100 [06:41&lt;00:54,  3.87s/it]\n",
       "</span></pre>\n"
      ],
      "text/plain": [
       "\u001b[31m\u001b[1A 86%|████████▌ | 86/100 [06:41<00:54,  3.87s/it]\n",
       "\u001b[0m"
      ]
     },
     "metadata": {},
     "output_type": "display_data"
    },
    {
     "data": {
      "text/html": [
       "<pre style=\"white-space:pre;overflow-x:auto;line-height:normal;font-family:Menlo,'DejaVu Sans Mono',consolas,'Courier New',monospace\"><span style=\"color: #000080; text-decoration-color: #000080\"></span></pre>\n"
      ],
      "text/plain": []
     },
     "metadata": {},
     "output_type": "display_data"
    },
    {
     "data": {
      "text/html": [
       "<pre style=\"white-space:pre;overflow-x:auto;line-height:normal;font-family:Menlo,'DejaVu Sans Mono',consolas,'Courier New',monospace\"><span style=\"color: #000080; text-decoration-color: #000080\">epoch:87, train_loss: 1.2573813199996948, test_loss: 1.2677983045578003\n",
       "</span></pre>\n"
      ],
      "text/plain": [
       "\u001b[34mepoch:87, train_loss: 1.2573813199996948, test_loss: 1.2677983045578003\n",
       "\u001b[0m"
      ]
     },
     "metadata": {},
     "output_type": "display_data"
    },
    {
     "data": {
      "text/html": [
       "<pre style=\"white-space:pre;overflow-x:auto;line-height:normal;font-family:Menlo,'DejaVu Sans Mono',consolas,'Courier New',monospace\"><span style=\"color: #000080; text-decoration-color: #000080\"></span></pre>\n"
      ],
      "text/plain": []
     },
     "metadata": {},
     "output_type": "display_data"
    },
    {
     "data": {
      "text/html": [
       "<pre style=\"white-space:pre;overflow-x:auto;line-height:normal;font-family:Menlo,'DejaVu Sans Mono',consolas,'Courier New',monospace\"><span style=\"color: #000080; text-decoration-color: #000080\">epoch:87, train_accuracy: 57.42543935775757, test_accuracy: 56.24217987060547\n",
       "</span></pre>\n"
      ],
      "text/plain": [
       "\u001b[34mepoch:87, train_accuracy: 57.42543935775757, test_accuracy: 56.24217987060547\n",
       "\u001b[0m"
      ]
     },
     "metadata": {},
     "output_type": "display_data"
    },
    {
     "data": {
      "text/html": [
       "<pre style=\"white-space:pre;overflow-x:auto;line-height:normal;font-family:Menlo,'DejaVu Sans Mono',consolas,'Courier New',monospace\"><span style=\"color: #800000; text-decoration-color: #800000\">\u001b[1A 87%|████████▋ | 87/100 [06:44&lt;00:50,  3.88s/it]\n",
       "</span></pre>\n"
      ],
      "text/plain": [
       "\u001b[31m\u001b[1A 87%|████████▋ | 87/100 [06:44<00:50,  3.88s/it]\n",
       "\u001b[0m"
      ]
     },
     "metadata": {},
     "output_type": "display_data"
    },
    {
     "data": {
      "text/html": [
       "<pre style=\"white-space:pre;overflow-x:auto;line-height:normal;font-family:Menlo,'DejaVu Sans Mono',consolas,'Courier New',monospace\"><span style=\"color: #000080; text-decoration-color: #000080\"></span></pre>\n"
      ],
      "text/plain": []
     },
     "metadata": {},
     "output_type": "display_data"
    },
    {
     "data": {
      "text/html": [
       "<pre style=\"white-space:pre;overflow-x:auto;line-height:normal;font-family:Menlo,'DejaVu Sans Mono',consolas,'Courier New',monospace\"><span style=\"color: #000080; text-decoration-color: #000080\">epoch:88, train_loss: 1.2575774192810059, test_loss: 1.264451265335083\n",
       "</span></pre>\n"
      ],
      "text/plain": [
       "\u001b[34mepoch:88, train_loss: 1.2575774192810059, test_loss: 1.264451265335083\n",
       "\u001b[0m"
      ]
     },
     "metadata": {},
     "output_type": "display_data"
    },
    {
     "data": {
      "text/html": [
       "<pre style=\"white-space:pre;overflow-x:auto;line-height:normal;font-family:Menlo,'DejaVu Sans Mono',consolas,'Courier New',monospace\"><span style=\"color: #000080; text-decoration-color: #000080\"></span></pre>\n"
      ],
      "text/plain": []
     },
     "metadata": {},
     "output_type": "display_data"
    },
    {
     "data": {
      "text/html": [
       "<pre style=\"white-space:pre;overflow-x:auto;line-height:normal;font-family:Menlo,'DejaVu Sans Mono',consolas,'Courier New',monospace\"><span style=\"color: #000080; text-decoration-color: #000080\">epoch:88, train_accuracy: 57.42692947387695, test_accuracy: 56.33551025390625\n",
       "</span></pre>\n"
      ],
      "text/plain": [
       "\u001b[34mepoch:88, train_accuracy: 57.42692947387695, test_accuracy: 56.33551025390625\n",
       "\u001b[0m"
      ]
     },
     "metadata": {},
     "output_type": "display_data"
    },
    {
     "data": {
      "text/html": [
       "<pre style=\"white-space:pre;overflow-x:auto;line-height:normal;font-family:Menlo,'DejaVu Sans Mono',consolas,'Courier New',monospace\"><span style=\"color: #800000; text-decoration-color: #800000\">\u001b[1A 88%|████████▊ | 88/100 [06:48&lt;00:46,  3.89s/it]\n",
       "</span></pre>\n"
      ],
      "text/plain": [
       "\u001b[31m\u001b[1A 88%|████████▊ | 88/100 [06:48<00:46,  3.89s/it]\n",
       "\u001b[0m"
      ]
     },
     "metadata": {},
     "output_type": "display_data"
    },
    {
     "data": {
      "text/html": [
       "<pre style=\"white-space:pre;overflow-x:auto;line-height:normal;font-family:Menlo,'DejaVu Sans Mono',consolas,'Courier New',monospace\"><span style=\"color: #000080; text-decoration-color: #000080\"></span></pre>\n"
      ],
      "text/plain": []
     },
     "metadata": {},
     "output_type": "display_data"
    },
    {
     "data": {
      "text/html": [
       "<pre style=\"white-space:pre;overflow-x:auto;line-height:normal;font-family:Menlo,'DejaVu Sans Mono',consolas,'Courier New',monospace\"><span style=\"color: #000080; text-decoration-color: #000080\">epoch:89, train_loss: 1.2576665878295898, test_loss: 1.2605721950531006\n",
       "</span></pre>\n"
      ],
      "text/plain": [
       "\u001b[34mepoch:89, train_loss: 1.2576665878295898, test_loss: 1.2605721950531006\n",
       "\u001b[0m"
      ]
     },
     "metadata": {},
     "output_type": "display_data"
    },
    {
     "data": {
      "text/html": [
       "<pre style=\"white-space:pre;overflow-x:auto;line-height:normal;font-family:Menlo,'DejaVu Sans Mono',consolas,'Courier New',monospace\"><span style=\"color: #000080; text-decoration-color: #000080\"></span></pre>\n"
      ],
      "text/plain": []
     },
     "metadata": {},
     "output_type": "display_data"
    },
    {
     "data": {
      "text/html": [
       "<pre style=\"white-space:pre;overflow-x:auto;line-height:normal;font-family:Menlo,'DejaVu Sans Mono',consolas,'Courier New',monospace\"><span style=\"color: #000080; text-decoration-color: #000080\">epoch:89, train_accuracy: 57.41646885871887, test_accuracy: 56.37053298950195\n",
       "</span></pre>\n"
      ],
      "text/plain": [
       "\u001b[34mepoch:89, train_accuracy: 57.41646885871887, test_accuracy: 56.37053298950195\n",
       "\u001b[0m"
      ]
     },
     "metadata": {},
     "output_type": "display_data"
    },
    {
     "data": {
      "text/html": [
       "<pre style=\"white-space:pre;overflow-x:auto;line-height:normal;font-family:Menlo,'DejaVu Sans Mono',consolas,'Courier New',monospace\"><span style=\"color: #800000; text-decoration-color: #800000\">\u001b[1A 89%|████████▉ | 89/100 [06:52&lt;00:43,  3.96s/it]\n",
       "</span></pre>\n"
      ],
      "text/plain": [
       "\u001b[31m\u001b[1A 89%|████████▉ | 89/100 [06:52<00:43,  3.96s/it]\n",
       "\u001b[0m"
      ]
     },
     "metadata": {},
     "output_type": "display_data"
    },
    {
     "data": {
      "text/html": [
       "<pre style=\"white-space:pre;overflow-x:auto;line-height:normal;font-family:Menlo,'DejaVu Sans Mono',consolas,'Courier New',monospace\"><span style=\"color: #000080; text-decoration-color: #000080\">epoch:90, train_loss: 1.2564563751220703, test_loss: 1.2620302438735962\n",
       "</span></pre>\n"
      ],
      "text/plain": [
       "\u001b[34mepoch:90, train_loss: 1.2564563751220703, test_loss: 1.2620302438735962\n",
       "\u001b[0m"
      ]
     },
     "metadata": {},
     "output_type": "display_data"
    },
    {
     "data": {
      "text/html": [
       "<pre style=\"white-space:pre;overflow-x:auto;line-height:normal;font-family:Menlo,'DejaVu Sans Mono',consolas,'Courier New',monospace\"><span style=\"color: #000080; text-decoration-color: #000080\"></span></pre>\n"
      ],
      "text/plain": []
     },
     "metadata": {},
     "output_type": "display_data"
    },
    {
     "data": {
      "text/html": [
       "<pre style=\"white-space:pre;overflow-x:auto;line-height:normal;font-family:Menlo,'DejaVu Sans Mono',consolas,'Courier New',monospace\"><span style=\"color: #000080; text-decoration-color: #000080\">epoch:90, train_accuracy: 57.46307969093323, test_accuracy: 56.47544860839844\n",
       "</span></pre>\n"
      ],
      "text/plain": [
       "\u001b[34mepoch:90, train_accuracy: 57.46307969093323, test_accuracy: 56.47544860839844\n",
       "\u001b[0m"
      ]
     },
     "metadata": {},
     "output_type": "display_data"
    },
    {
     "data": {
      "text/html": [
       "<pre style=\"white-space:pre;overflow-x:auto;line-height:normal;font-family:Menlo,'DejaVu Sans Mono',consolas,'Courier New',monospace\"><span style=\"color: #800000; text-decoration-color: #800000\">\u001b[1A 90%|█████████ | 90/100 [06:56&lt;00:39,  3.92s/it]\n",
       "</span></pre>\n"
      ],
      "text/plain": [
       "\u001b[31m\u001b[1A 90%|█████████ | 90/100 [06:56<00:39,  3.92s/it]\n",
       "\u001b[0m"
      ]
     },
     "metadata": {},
     "output_type": "display_data"
    },
    {
     "data": {
      "text/html": [
       "<pre style=\"white-space:pre;overflow-x:auto;line-height:normal;font-family:Menlo,'DejaVu Sans Mono',consolas,'Courier New',monospace\"><span style=\"color: #000080; text-decoration-color: #000080\"></span></pre>\n"
      ],
      "text/plain": []
     },
     "metadata": {},
     "output_type": "display_data"
    },
    {
     "data": {
      "text/html": [
       "<pre style=\"white-space:pre;overflow-x:auto;line-height:normal;font-family:Menlo,'DejaVu Sans Mono',consolas,'Courier New',monospace\"><span style=\"color: #000080; text-decoration-color: #000080\">epoch:91, train_loss: 1.2558616399765015, test_loss: 1.265267014503479\n",
       "</span></pre>\n"
      ],
      "text/plain": [
       "\u001b[34mepoch:91, train_loss: 1.2558616399765015, test_loss: 1.265267014503479\n",
       "\u001b[0m"
      ]
     },
     "metadata": {},
     "output_type": "display_data"
    },
    {
     "data": {
      "text/html": [
       "<pre style=\"white-space:pre;overflow-x:auto;line-height:normal;font-family:Menlo,'DejaVu Sans Mono',consolas,'Courier New',monospace\"><span style=\"color: #000080; text-decoration-color: #000080\"></span></pre>\n"
      ],
      "text/plain": []
     },
     "metadata": {},
     "output_type": "display_data"
    },
    {
     "data": {
      "text/html": [
       "<pre style=\"white-space:pre;overflow-x:auto;line-height:normal;font-family:Menlo,'DejaVu Sans Mono',consolas,'Courier New',monospace\"><span style=\"color: #000080; text-decoration-color: #000080\">epoch:91, train_accuracy: 57.45982527732849, test_accuracy: 56.340171813964844\n",
       "</span></pre>\n"
      ],
      "text/plain": [
       "\u001b[34mepoch:91, train_accuracy: 57.45982527732849, test_accuracy: 56.340171813964844\n",
       "\u001b[0m"
      ]
     },
     "metadata": {},
     "output_type": "display_data"
    },
    {
     "data": {
      "text/html": [
       "<pre style=\"white-space:pre;overflow-x:auto;line-height:normal;font-family:Menlo,'DejaVu Sans Mono',consolas,'Courier New',monospace\"><span style=\"color: #800000; text-decoration-color: #800000\">\u001b[1A 91%|█████████ | 91/100 [07:00&lt;00:35,  3.93s/it]\n",
       "</span></pre>\n"
      ],
      "text/plain": [
       "\u001b[31m\u001b[1A 91%|█████████ | 91/100 [07:00<00:35,  3.93s/it]\n",
       "\u001b[0m"
      ]
     },
     "metadata": {},
     "output_type": "display_data"
    },
    {
     "data": {
      "text/html": [
       "<pre style=\"white-space:pre;overflow-x:auto;line-height:normal;font-family:Menlo,'DejaVu Sans Mono',consolas,'Courier New',monospace\"><span style=\"color: #000080; text-decoration-color: #000080\">epoch:92, train_loss: 1.2568739652633667, test_loss: 1.2618321180343628\n",
       "</span></pre>\n"
      ],
      "text/plain": [
       "\u001b[34mepoch:92, train_loss: 1.2568739652633667, test_loss: 1.2618321180343628\n",
       "\u001b[0m"
      ]
     },
     "metadata": {},
     "output_type": "display_data"
    },
    {
     "data": {
      "text/html": [
       "<pre style=\"white-space:pre;overflow-x:auto;line-height:normal;font-family:Menlo,'DejaVu Sans Mono',consolas,'Courier New',monospace\"><span style=\"color: #000080; text-decoration-color: #000080\">epoch:92, train_accuracy: 57.46482610702515, test_accuracy: 56.387454986572266\n",
       "</span></pre>\n"
      ],
      "text/plain": [
       "\u001b[34mepoch:92, train_accuracy: 57.46482610702515, test_accuracy: 56.387454986572266\n",
       "\u001b[0m"
      ]
     },
     "metadata": {},
     "output_type": "display_data"
    },
    {
     "data": {
      "text/html": [
       "<pre style=\"white-space:pre;overflow-x:auto;line-height:normal;font-family:Menlo,'DejaVu Sans Mono',consolas,'Courier New',monospace\"><span style=\"color: #800000; text-decoration-color: #800000\">\u001b[1A 92%|█████████▏| 92/100 [07:04&lt;00:31,  3.92s/it]\n",
       "</span></pre>\n"
      ],
      "text/plain": [
       "\u001b[31m\u001b[1A 92%|█████████▏| 92/100 [07:04<00:31,  3.92s/it]\n",
       "\u001b[0m"
      ]
     },
     "metadata": {},
     "output_type": "display_data"
    },
    {
     "data": {
      "text/html": [
       "<pre style=\"white-space:pre;overflow-x:auto;line-height:normal;font-family:Menlo,'DejaVu Sans Mono',consolas,'Courier New',monospace\"><span style=\"color: #800000; text-decoration-color: #800000\">\u001b[1A 93%|█████████▎| 93/100 [07:08&lt;00:27,  3.93s/it]</span></pre>\n"
      ],
      "text/plain": [
       "\u001b[31m\u001b[1A 93%|█████████▎| 93/100 [07:08<00:27,  3.93s/it]\u001b[0m"
      ]
     },
     "metadata": {},
     "output_type": "display_data"
    },
    {
     "data": {
      "text/html": [
       "<pre style=\"white-space:pre;overflow-x:auto;line-height:normal;font-family:Menlo,'DejaVu Sans Mono',consolas,'Courier New',monospace\"><span style=\"color: #000080; text-decoration-color: #000080\"></span></pre>\n"
      ],
      "text/plain": []
     },
     "metadata": {},
     "output_type": "display_data"
    },
    {
     "data": {
      "text/html": [
       "<pre style=\"white-space:pre;overflow-x:auto;line-height:normal;font-family:Menlo,'DejaVu Sans Mono',consolas,'Courier New',monospace\"><span style=\"color: #000080; text-decoration-color: #000080\">epoch:93, train_loss: 1.2562018632888794, test_loss: 1.2637040615081787\n",
       "</span></pre>\n"
      ],
      "text/plain": [
       "\u001b[34mepoch:93, train_loss: 1.2562018632888794, test_loss: 1.2637040615081787\n",
       "\u001b[0m"
      ]
     },
     "metadata": {},
     "output_type": "display_data"
    },
    {
     "data": {
      "text/html": [
       "<pre style=\"white-space:pre;overflow-x:auto;line-height:normal;font-family:Menlo,'DejaVu Sans Mono',consolas,'Courier New',monospace\"><span style=\"color: #000080; text-decoration-color: #000080\"></span></pre>\n"
      ],
      "text/plain": []
     },
     "metadata": {},
     "output_type": "display_data"
    },
    {
     "data": {
      "text/html": [
       "<pre style=\"white-space:pre;overflow-x:auto;line-height:normal;font-family:Menlo,'DejaVu Sans Mono',consolas,'Courier New',monospace\"><span style=\"color: #000080; text-decoration-color: #000080\">epoch:93, train_accuracy: 57.45652914047241, test_accuracy: 56.209285736083984\n",
       "</span></pre>\n"
      ],
      "text/plain": [
       "\u001b[34mepoch:93, train_accuracy: 57.45652914047241, test_accuracy: 56.209285736083984\n",
       "\u001b[0m"
      ]
     },
     "metadata": {},
     "output_type": "display_data"
    },
    {
     "data": {
      "text/html": [
       "<pre style=\"white-space:pre;overflow-x:auto;line-height:normal;font-family:Menlo,'DejaVu Sans Mono',consolas,'Courier New',monospace\"><span style=\"color: #800000; text-decoration-color: #800000\">\n",
       "</span></pre>\n"
      ],
      "text/plain": [
       "\u001b[31m\n",
       "\u001b[0m"
      ]
     },
     "metadata": {},
     "output_type": "display_data"
    },
    {
     "data": {
      "text/html": [
       "<pre style=\"white-space:pre;overflow-x:auto;line-height:normal;font-family:Menlo,'DejaVu Sans Mono',consolas,'Courier New',monospace\"><span style=\"color: #000080; text-decoration-color: #000080\"></span></pre>\n"
      ],
      "text/plain": []
     },
     "metadata": {},
     "output_type": "display_data"
    },
    {
     "data": {
      "text/html": [
       "<pre style=\"white-space:pre;overflow-x:auto;line-height:normal;font-family:Menlo,'DejaVu Sans Mono',consolas,'Courier New',monospace\"><span style=\"color: #000080; text-decoration-color: #000080\">epoch:94, train_loss: 1.2560216188430786, test_loss: 1.268298625946045\n",
       "</span></pre>\n"
      ],
      "text/plain": [
       "\u001b[34mepoch:94, train_loss: 1.2560216188430786, test_loss: 1.268298625946045\n",
       "\u001b[0m"
      ]
     },
     "metadata": {},
     "output_type": "display_data"
    },
    {
     "data": {
      "text/html": [
       "<pre style=\"white-space:pre;overflow-x:auto;line-height:normal;font-family:Menlo,'DejaVu Sans Mono',consolas,'Courier New',monospace\"><span style=\"color: #000080; text-decoration-color: #000080\"></span></pre>\n"
      ],
      "text/plain": []
     },
     "metadata": {},
     "output_type": "display_data"
    },
    {
     "data": {
      "text/html": [
       "<pre style=\"white-space:pre;overflow-x:auto;line-height:normal;font-family:Menlo,'DejaVu Sans Mono',consolas,'Courier New',monospace\"><span style=\"color: #000080; text-decoration-color: #000080\">epoch:94, train_accuracy: 57.47414827346802, test_accuracy: 56.09392547607422\n",
       "</span></pre>\n"
      ],
      "text/plain": [
       "\u001b[34mepoch:94, train_accuracy: 57.47414827346802, test_accuracy: 56.09392547607422\n",
       "\u001b[0m"
      ]
     },
     "metadata": {},
     "output_type": "display_data"
    },
    {
     "data": {
      "text/html": [
       "<pre style=\"white-space:pre;overflow-x:auto;line-height:normal;font-family:Menlo,'DejaVu Sans Mono',consolas,'Courier New',monospace\"><span style=\"color: #800000; text-decoration-color: #800000\">\u001b[1A 94%|█████████▍| 94/100 [07:12&lt;00:23,  3.90s/it]\n",
       "</span></pre>\n"
      ],
      "text/plain": [
       "\u001b[31m\u001b[1A 94%|█████████▍| 94/100 [07:12<00:23,  3.90s/it]\n",
       "\u001b[0m"
      ]
     },
     "metadata": {},
     "output_type": "display_data"
    },
    {
     "data": {
      "text/html": [
       "<pre style=\"white-space:pre;overflow-x:auto;line-height:normal;font-family:Menlo,'DejaVu Sans Mono',consolas,'Courier New',monospace\"><span style=\"color: #000080; text-decoration-color: #000080\"></span></pre>\n"
      ],
      "text/plain": []
     },
     "metadata": {},
     "output_type": "display_data"
    },
    {
     "data": {
      "text/html": [
       "<pre style=\"white-space:pre;overflow-x:auto;line-height:normal;font-family:Menlo,'DejaVu Sans Mono',consolas,'Courier New',monospace\"><span style=\"color: #000080; text-decoration-color: #000080\">epoch:95, train_loss: 1.2566139698028564, test_loss: 1.2621285915374756\n",
       "</span></pre>\n"
      ],
      "text/plain": [
       "\u001b[34mepoch:95, train_loss: 1.2566139698028564, test_loss: 1.2621285915374756\n",
       "\u001b[0m"
      ]
     },
     "metadata": {},
     "output_type": "display_data"
    },
    {
     "data": {
      "text/html": [
       "<pre style=\"white-space:pre;overflow-x:auto;line-height:normal;font-family:Menlo,'DejaVu Sans Mono',consolas,'Courier New',monospace\"><span style=\"color: #000080; text-decoration-color: #000080\"></span></pre>\n"
      ],
      "text/plain": []
     },
     "metadata": {},
     "output_type": "display_data"
    },
    {
     "data": {
      "text/html": [
       "<pre style=\"white-space:pre;overflow-x:auto;line-height:normal;font-family:Menlo,'DejaVu Sans Mono',consolas,'Courier New',monospace\"><span style=\"color: #000080; text-decoration-color: #000080\">epoch:95, train_accuracy: 57.45002627372742, test_accuracy: 56.33856201171875\n",
       "</span></pre>\n"
      ],
      "text/plain": [
       "\u001b[34mepoch:95, train_accuracy: 57.45002627372742, test_accuracy: 56.33856201171875\n",
       "\u001b[0m"
      ]
     },
     "metadata": {},
     "output_type": "display_data"
    },
    {
     "data": {
      "text/html": [
       "<pre style=\"white-space:pre;overflow-x:auto;line-height:normal;font-family:Menlo,'DejaVu Sans Mono',consolas,'Courier New',monospace\"><span style=\"color: #800000; text-decoration-color: #800000\">\u001b[1A 95%|█████████▌| 95/100 [07:16&lt;00:19,  3.90s/it]\n",
       "</span></pre>\n"
      ],
      "text/plain": [
       "\u001b[31m\u001b[1A 95%|█████████▌| 95/100 [07:16<00:19,  3.90s/it]\n",
       "\u001b[0m"
      ]
     },
     "metadata": {},
     "output_type": "display_data"
    },
    {
     "data": {
      "text/html": [
       "<pre style=\"white-space:pre;overflow-x:auto;line-height:normal;font-family:Menlo,'DejaVu Sans Mono',consolas,'Courier New',monospace\"><span style=\"color: #000080; text-decoration-color: #000080\">epoch:96, train_loss: 1.256271243095398, test_loss: 1.2662739753723145\n",
       "</span></pre>\n"
      ],
      "text/plain": [
       "\u001b[34mepoch:96, train_loss: 1.256271243095398, test_loss: 1.2662739753723145\n",
       "\u001b[0m"
      ]
     },
     "metadata": {},
     "output_type": "display_data"
    },
    {
     "data": {
      "text/html": [
       "<pre style=\"white-space:pre;overflow-x:auto;line-height:normal;font-family:Menlo,'DejaVu Sans Mono',consolas,'Courier New',monospace\"><span style=\"color: #000080; text-decoration-color: #000080\">epoch:96, train_accuracy: 57.46120810508728, test_accuracy: 56.180572509765625\n",
       "</span></pre>\n"
      ],
      "text/plain": [
       "\u001b[34mepoch:96, train_accuracy: 57.46120810508728, test_accuracy: 56.180572509765625\n",
       "\u001b[0m"
      ]
     },
     "metadata": {},
     "output_type": "display_data"
    },
    {
     "data": {
      "text/html": [
       "<pre style=\"white-space:pre;overflow-x:auto;line-height:normal;font-family:Menlo,'DejaVu Sans Mono',consolas,'Courier New',monospace\"><span style=\"color: #800000; text-decoration-color: #800000\">\u001b[1A 96%|█████████▌| 96/100 [07:20&lt;00:15,  3.92s/it]\n",
       "</span></pre>\n"
      ],
      "text/plain": [
       "\u001b[31m\u001b[1A 96%|█████████▌| 96/100 [07:20<00:15,  3.92s/it]\n",
       "\u001b[0m"
      ]
     },
     "metadata": {},
     "output_type": "display_data"
    },
    {
     "data": {
      "text/html": [
       "<pre style=\"white-space:pre;overflow-x:auto;line-height:normal;font-family:Menlo,'DejaVu Sans Mono',consolas,'Courier New',monospace\"><span style=\"color: #000080; text-decoration-color: #000080\"></span></pre>\n"
      ],
      "text/plain": []
     },
     "metadata": {},
     "output_type": "display_data"
    },
    {
     "data": {
      "text/html": [
       "<pre style=\"white-space:pre;overflow-x:auto;line-height:normal;font-family:Menlo,'DejaVu Sans Mono',consolas,'Courier New',monospace\"><span style=\"color: #000080; text-decoration-color: #000080\">epoch:97, train_loss: 1.2554198503494263, test_loss: 1.2679651975631714\n",
       "</span></pre>\n"
      ],
      "text/plain": [
       "\u001b[34mepoch:97, train_loss: 1.2554198503494263, test_loss: 1.2679651975631714\n",
       "\u001b[0m"
      ]
     },
     "metadata": {},
     "output_type": "display_data"
    },
    {
     "data": {
      "text/html": [
       "<pre style=\"white-space:pre;overflow-x:auto;line-height:normal;font-family:Menlo,'DejaVu Sans Mono',consolas,'Courier New',monospace\"><span style=\"color: #000080; text-decoration-color: #000080\"></span></pre>\n"
      ],
      "text/plain": []
     },
     "metadata": {},
     "output_type": "display_data"
    },
    {
     "data": {
      "text/html": [
       "<pre style=\"white-space:pre;overflow-x:auto;line-height:normal;font-family:Menlo,'DejaVu Sans Mono',consolas,'Courier New',monospace\"><span style=\"color: #000080; text-decoration-color: #000080\">epoch:97, train_accuracy: 57.49041438102722, test_accuracy: 56.226165771484375\n",
       "</span></pre>\n"
      ],
      "text/plain": [
       "\u001b[34mepoch:97, train_accuracy: 57.49041438102722, test_accuracy: 56.226165771484375\n",
       "\u001b[0m"
      ]
     },
     "metadata": {},
     "output_type": "display_data"
    },
    {
     "data": {
      "text/html": [
       "<pre style=\"white-space:pre;overflow-x:auto;line-height:normal;font-family:Menlo,'DejaVu Sans Mono',consolas,'Courier New',monospace\"><span style=\"color: #800000; text-decoration-color: #800000\">\u001b[1A 97%|█████████▋| 97/100 [07:24&lt;00:11,  3.89s/it]\n",
       "</span></pre>\n"
      ],
      "text/plain": [
       "\u001b[31m\u001b[1A 97%|█████████▋| 97/100 [07:24<00:11,  3.89s/it]\n",
       "\u001b[0m"
      ]
     },
     "metadata": {},
     "output_type": "display_data"
    },
    {
     "data": {
      "text/html": [
       "<pre style=\"white-space:pre;overflow-x:auto;line-height:normal;font-family:Menlo,'DejaVu Sans Mono',consolas,'Courier New',monospace\"><span style=\"color: #000080; text-decoration-color: #000080\"></span></pre>\n"
      ],
      "text/plain": []
     },
     "metadata": {},
     "output_type": "display_data"
    },
    {
     "data": {
      "text/html": [
       "<pre style=\"white-space:pre;overflow-x:auto;line-height:normal;font-family:Menlo,'DejaVu Sans Mono',consolas,'Courier New',monospace\"><span style=\"color: #000080; text-decoration-color: #000080\">epoch:98, train_loss: 1.2548609972000122, test_loss: 1.2627207040786743\n",
       "</span></pre>\n"
      ],
      "text/plain": [
       "\u001b[34mepoch:98, train_loss: 1.2548609972000122, test_loss: 1.2627207040786743\n",
       "\u001b[0m"
      ]
     },
     "metadata": {},
     "output_type": "display_data"
    },
    {
     "data": {
      "text/html": [
       "<pre style=\"white-space:pre;overflow-x:auto;line-height:normal;font-family:Menlo,'DejaVu Sans Mono',consolas,'Courier New',monospace\"><span style=\"color: #000080; text-decoration-color: #000080\">epoch:98, train_accuracy: 57.50420689582825, test_accuracy: 56.311119079589844\n",
       "</span></pre>\n"
      ],
      "text/plain": [
       "\u001b[34mepoch:98, train_accuracy: 57.50420689582825, test_accuracy: 56.311119079589844\n",
       "\u001b[0m"
      ]
     },
     "metadata": {},
     "output_type": "display_data"
    },
    {
     "data": {
      "text/html": [
       "<pre style=\"white-space:pre;overflow-x:auto;line-height:normal;font-family:Menlo,'DejaVu Sans Mono',consolas,'Courier New',monospace\"><span style=\"color: #800000; text-decoration-color: #800000\">\u001b[1A 98%|█████████▊| 98/100 [07:28&lt;00:07,  3.89s/it]\n",
       "</span></pre>\n"
      ],
      "text/plain": [
       "\u001b[31m\u001b[1A 98%|█████████▊| 98/100 [07:28<00:07,  3.89s/it]\n",
       "\u001b[0m"
      ]
     },
     "metadata": {},
     "output_type": "display_data"
    },
    {
     "data": {
      "text/html": [
       "<pre style=\"white-space:pre;overflow-x:auto;line-height:normal;font-family:Menlo,'DejaVu Sans Mono',consolas,'Courier New',monospace\"><span style=\"color: #000080; text-decoration-color: #000080\"></span></pre>\n"
      ],
      "text/plain": []
     },
     "metadata": {},
     "output_type": "display_data"
    },
    {
     "data": {
      "text/html": [
       "<pre style=\"white-space:pre;overflow-x:auto;line-height:normal;font-family:Menlo,'DejaVu Sans Mono',consolas,'Courier New',monospace\"><span style=\"color: #000080; text-decoration-color: #000080\">epoch:99, train_loss: 1.2551602125167847, test_loss: 1.2587522268295288\n",
       "</span></pre>\n"
      ],
      "text/plain": [
       "\u001b[34mepoch:99, train_loss: 1.2551602125167847, test_loss: 1.2587522268295288\n",
       "\u001b[0m"
      ]
     },
     "metadata": {},
     "output_type": "display_data"
    },
    {
     "data": {
      "text/html": [
       "<pre style=\"white-space:pre;overflow-x:auto;line-height:normal;font-family:Menlo,'DejaVu Sans Mono',consolas,'Courier New',monospace\"><span style=\"color: #000080; text-decoration-color: #000080\"></span></pre>\n"
      ],
      "text/plain": []
     },
     "metadata": {},
     "output_type": "display_data"
    },
    {
     "data": {
      "text/html": [
       "<pre style=\"white-space:pre;overflow-x:auto;line-height:normal;font-family:Menlo,'DejaVu Sans Mono',consolas,'Courier New',monospace\"><span style=\"color: #000080; text-decoration-color: #000080\">epoch:99, train_accuracy: 57.49585032463074, test_accuracy: 56.46355056762695\n",
       "</span></pre>\n"
      ],
      "text/plain": [
       "\u001b[34mepoch:99, train_accuracy: 57.49585032463074, test_accuracy: 56.46355056762695\n",
       "\u001b[0m"
      ]
     },
     "metadata": {},
     "output_type": "display_data"
    },
    {
     "data": {
      "text/html": [
       "<pre style=\"white-space:pre;overflow-x:auto;line-height:normal;font-family:Menlo,'DejaVu Sans Mono',consolas,'Courier New',monospace\"><span style=\"color: #800000; text-decoration-color: #800000\">\u001b[1A 99%|█████████▉| 99/100 [07:31&lt;00:03,  3.87s/it]\n",
       "</span></pre>\n"
      ],
      "text/plain": [
       "\u001b[31m\u001b[1A 99%|█████████▉| 99/100 [07:31<00:03,  3.87s/it]\n",
       "\u001b[0m"
      ]
     },
     "metadata": {},
     "output_type": "display_data"
    },
    {
     "data": {
      "text/html": [
       "<pre style=\"white-space:pre;overflow-x:auto;line-height:normal;font-family:Menlo,'DejaVu Sans Mono',consolas,'Courier New',monospace\"><span style=\"color: #800000; text-decoration-color: #800000\">\u001b[1A100%|██████████| 100/100 [07:36&lt;00:00,  4.01s/it]100%|██████████| 100/100 [07:36&lt;00:00,  4.56s/it]\n",
       "</span></pre>\n"
      ],
      "text/plain": [
       "\u001b[31m\u001b[1A100%|██████████| 100/100 [07:36<00:00,  4.01s/it]100%|██████████| 100/100 [07:36<00:00,  4.56s/it]\n",
       "\u001b[0m"
      ]
     },
     "metadata": {},
     "output_type": "display_data"
    },
    {
     "data": {
      "text/html": [
       "<pre style=\"white-space:pre;overflow-x:auto;line-height:normal;font-family:Menlo,'DejaVu Sans Mono',consolas,'Courier New',monospace\"></pre>\n"
      ],
      "text/plain": []
     },
     "metadata": {},
     "output_type": "display_data"
    },
    {
     "data": {
      "text/html": [
       "<pre style=\"white-space:pre;overflow-x:auto;line-height:normal;font-family:Menlo,'DejaVu Sans Mono',consolas,'Courier New',monospace\"><span style=\"color: #800000; text-decoration-color: #800000\">[MainThread] 2024-05-07T19:48:58+0000 Detected 3 background thread(s) [asyncio_0, asyncio_1, asyncio_2] still running after container exit. This will prevent runner shutdown for up to 30 seconds.\n",
       "</span></pre>\n"
      ],
      "text/plain": [
       "\u001b[31m[MainThread] 2024-05-07T19:48:58+0000 Detected 3 background thread(s) [asyncio_0, asyncio_1, asyncio_2] still running after container exit. This will prevent runner shutdown for up to 30 seconds.\n",
       "\u001b[0m"
      ]
     },
     "metadata": {},
     "output_type": "display_data"
    },
    {
     "data": {
      "text/html": [
       "<pre style=\"white-space:pre;overflow-x:auto;line-height:normal;font-family:Menlo,'DejaVu Sans Mono',consolas,'Courier New',monospace\"><span style=\"color: #800000; text-decoration-color: #800000\">WARNING:modal-client:Detected 3 background thread(s) [asyncio_0, asyncio_1, asyncio_2] still running after container exit. This will prevent runner shutdown for up to 30 seconds.\n",
       "</span></pre>\n"
      ],
      "text/plain": [
       "\u001b[31mWARNING:modal-client:Detected 3 background thread(s) [asyncio_0, asyncio_1, asyncio_2] still running after container exit. This will prevent runner shutdown for up to 30 seconds.\n",
       "\u001b[0m"
      ]
     },
     "metadata": {},
     "output_type": "display_data"
    },
    {
     "data": {
      "text/html": [
       "<pre style=\"white-space:pre;overflow-x:auto;line-height:normal;font-family:Menlo,'DejaVu Sans Mono',consolas,'Courier New',monospace\"><span style=\"color: #808000; text-decoration-color: #808000\">Runner terminated.\n",
       "</span></pre>\n"
      ],
      "text/plain": [
       "\u001b[33mRunner terminated.\n",
       "\u001b[0m"
      ]
     },
     "metadata": {},
     "output_type": "display_data"
    },
    {
     "data": {
      "text/html": [
       "<pre style=\"white-space:pre;overflow-x:auto;line-height:normal;font-family:Menlo,'DejaVu Sans Mono',consolas,'Courier New',monospace\"><span style=\"color: #008000; text-decoration-color: #008000\">✓</span> App completed. <span style=\"color: #b2b2b2; text-decoration-color: #b2b2b2\">View run at </span><span style=\"color: #b2b2b2; text-decoration-color: #b2b2b2; text-decoration: underline\">https://modal.com/aakashshankar/apps/ap-tiYNIumG4OH88pdkSLOXcD</span>\n",
       "</pre>\n"
      ],
      "text/plain": [
       "\u001b[32m✓\u001b[0m App completed. \u001b[38;5;249mView run at \u001b[0m\u001b[4;38;5;249mhttps://modal.com/aakashshankar/apps/ap-tiYNIumG4OH88pdkSLOXcD\u001b[0m\n"
      ]
     },
     "metadata": {},
     "output_type": "display_data"
    }
   ],
   "source": [
    "with app.run(detach=True):\n",
    "    train_and_evaluate.remote(\n",
    "        config,\n",
    "        \"/vol/new/\",\n",
    "        \"/vol/flax/lc2/logs\",\n",
    "        \"/vol/flax/lc2/checkpoints\",\n",
    "        \"lc\",\n",
    "    )"
   ]
  },
  {
   "cell_type": "code",
   "execution_count": 394,
   "metadata": {},
   "outputs": [],
   "source": [
    "# rng = jax.random.key(0)\n",
    "# rng, init_rng = jax.random.split(rng)\n",
    "# state = create_train_state(init_rng, config, \"lc\")\n",
    "# pytree = {\"model\": state}\n",
    "# ckpt_dir = os.path.abspath(\"../inference/latest/flax/lc/checkpoints/\")\n",
    "# ckpt_options = ocp.CheckpointManagerOptions(\n",
    "#     max_to_keep=3,\n",
    "# )\n",
    "# ckpt_manager = ocp.CheckpointManager(\n",
    "#     ckpt_dir,\n",
    "#     options=ckpt_options,\n",
    "# )\n",
    "# model = ckpt_manager.restore(99, args=ocp.args.StandardRestore(pytree))\n",
    "# model"
   ]
  },
  {
   "cell_type": "code",
   "execution_count": null,
   "metadata": {},
   "outputs": [],
   "source": []
  }
 ],
 "metadata": {
  "kernelspec": {
   "display_name": "bigdata.venv",
   "language": "python",
   "name": "python3"
  },
  "language_info": {
   "codemirror_mode": {
    "name": "ipython",
    "version": 3
   },
   "file_extension": ".py",
   "mimetype": "text/x-python",
   "name": "python",
   "nbconvert_exporter": "python",
   "pygments_lexer": "ipython3",
   "version": "3.11.5"
  }
 },
 "nbformat": 4,
 "nbformat_minor": 2
}
