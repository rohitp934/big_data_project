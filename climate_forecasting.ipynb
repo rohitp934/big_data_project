{
 "cells": [
  {
   "cell_type": "code",
   "execution_count": 1,
   "metadata": {},
   "outputs": [
    {
     "name": "stdout",
     "output_type": "stream",
     "text": [
      "\u001b[2mAudited \u001b[1m155 packages\u001b[0m in 81ms\u001b[0m\n"
     ]
    }
   ],
   "source": [
    "!uv pip install -r requirements.txt"
   ]
  },
  {
   "cell_type": "markdown",
   "metadata": {},
   "source": [
    "### --- Import Libraries ---\n"
   ]
  },
  {
   "cell_type": "code",
   "execution_count": 2,
   "metadata": {},
   "outputs": [],
   "source": [
    "import io\n",
    "from datetime import datetime, timedelta\n",
    "\n",
    "import ee\n",
    "from google.api_core import exceptions, retry\n",
    "\n",
    "import numpy as np\n",
    "from numpy.lib.recfunctions import structured_to_unstructured\n",
    "import requests\n",
    "from typing import List, Tuple"
   ]
  },
  {
   "cell_type": "markdown",
   "metadata": {},
   "source": [
    "### --- Constants and Earth Engine Initialization ---\n"
   ]
  },
  {
   "cell_type": "code",
   "execution_count": 3,
   "metadata": {},
   "outputs": [],
   "source": [
    "SCALE = 5000  # meters per pixel\n",
    "WORLD_SCALE = 10_000\n",
    "LAND_COVER_DATASET = \"GOOGLE/DYNAMICWORLD/V1\"  # Dynamic World Land Cover dataset\n",
    "LAND_COVER_BAND = \"Map\"  # Land cover classification band\n",
    "WORLD_POLYGONS = [\n",
    "    # Americas\n",
    "    [(-33.0, -7.0), (-55.0, 53.0), (-166.0, 65.0), (-68.0, -56.0)],\n",
    "    # Africa, Asia, Europe\n",
    "    [\n",
    "        (74.0, 71.0),\n",
    "        (166.0, 55.0),\n",
    "        (115.0, -11.0),\n",
    "        (74.0, -4.0),\n",
    "        (20.0, -38.0),\n",
    "        (-29.0, 25.0),\n",
    "    ],\n",
    "    # Australia\n",
    "    [(170.0, -47.0), (179.0, -37.0), (167.0, -12.0), (128.0, 17.0), (106.0, -29.0)],\n",
    "]\n",
    "POLYGON = [(-140.0, 60.0), (-140.0, -60.0), (-10.0, -60.0), (-10.0, 60.0)]"
   ]
  },
  {
   "cell_type": "markdown",
   "metadata": {},
   "source": [
    "### --- Earth Engine Initialization ---\n"
   ]
  },
  {
   "cell_type": "code",
   "execution_count": 4,
   "metadata": {},
   "outputs": [],
   "source": [
    "project = \"ee-rohitp934\"\n",
    "# Use cli to authenticate\n",
    "# !earthengine authenticate\n",
    "\n",
    "# Or use the following code to authenticate\n",
    "def initialize_ee():\n",
    "  ee.Authenticate()\n",
    "  ee.Initialize(project=project, opt_url=\"https://earthengine-highvolume.googleapis.com\")"
   ]
  },
  {
   "cell_type": "code",
   "execution_count": 5,
   "metadata": {},
   "outputs": [],
   "source": [
    "initialize_ee()"
   ]
  },
  {
   "cell_type": "markdown",
   "metadata": {},
   "source": [
    "### --- Data Retreival Functions ---\n"
   ]
  },
  {
   "cell_type": "code",
   "execution_count": 6,
   "metadata": {},
   "outputs": [],
   "source": [
    "def get_modis_ndvi(date: datetime) -> ee.Image:\n",
    "    \"\"\"Gets MODIS NDVI data for a given date.\"\"\"\n",
    "    start_date = ee.Date(date)\n",
    "    end_date = ee.Date(date).advance(1, 'month')\n",
    "    return (\n",
    "        ee.ImageCollection(\"MODIS/061/MOD13Q1\")\n",
    "        .filterDate(start_date, end_date)\n",
    "        .select(\"NDVI\")\n",
    "        .first()\n",
    "    )"
   ]
  },
  {
   "cell_type": "code",
   "execution_count": 7,
   "metadata": {},
   "outputs": [],
   "source": [
    "def get_landsat_image(date: datetime) -> ee.Image:\n",
    "    \"\"\"Gets a Landsat 8 image for the selected date.\"\"\"\n",
    "    start_date = ee.Date(date)\n",
    "    end_date = ee.Date(date).advance(6, 'month')\n",
    "    return (\n",
    "        ee.ImageCollection(\"LANDSAT/LC08/C02/T1_L2\")\n",
    "        .filterDate(start_date, end_date)\n",
    "        .mosaic()\n",
    "    )"
   ]
  },
  {
   "cell_type": "code",
   "execution_count": 8,
   "metadata": {},
   "outputs": [],
   "source": [
    "def get_landsat_ndvi(image: ee.Image) -> ee.Image:\n",
    "    \"\"\"Calculates NDVI from a Landsat 8 image.\"\"\"\n",
    "    return image.normalizedDifference([\"SR_B5\", \"SR_B4\"]).rename(\"NDVI\")"
   ]
  },
  {
   "cell_type": "code",
   "execution_count": 9,
   "metadata": {},
   "outputs": [],
   "source": [
    "def get_landsat_lst(image: ee.Image) -> ee.Image:\n",
    "    \"\"\"\n",
    "    Calculates Land Surface Temperature from a Landsat 8 image.\n",
    "    This function is based on the formula in the following page https://developers.google.com/earth-engine/datasets/catalog/LANDSAT_LC08_C02_T1_L2\n",
    "    \"\"\"\n",
    "    return image.select(\"ST_B10\").multiply(0.00341802).add(149.0).rename(\"LST\")"
   ]
  },
  {
   "cell_type": "code",
   "execution_count": 10,
   "metadata": {},
   "outputs": [],
   "source": [
    "def get_land_cover(date: datetime, advance: int = 6) -> ee.Image:\n",
    "    \"\"\"Gets a Land Cover image for the given date.\"\"\"\n",
    "    start_date = ee.Date(date)\n",
    "    end_date = ee.Date(date).advance(advance, 'month')\n",
    "    return (\n",
    "        ee.ImageCollection(LAND_COVER_DATASET)\n",
    "        .filterDate(start_date, end_date)\n",
    "        .select(\"label\")\n",
    "        .mosaic()\n",
    "        .unmask(0)  # fill missing values with 0 (water)\n",
    "        .byte()\n",
    "    )"
   ]
  },
  {
   "cell_type": "markdown",
   "metadata": {},
   "source": [
    "### --- Input and Label Image Composition ---\n"
   ]
  },
  {
   "cell_type": "code",
   "execution_count": 11,
   "metadata": {},
   "outputs": [],
   "source": [
    "def get_inputs_image(date: datetime) -> ee.Image:\n",
    "    \"\"\"Gets an Earth Engine image with all the inputs for the model.\"\"\"\n",
    "    # Get MODIS NDVI\n",
    "    modis_ndvi = get_modis_ndvi(date)\n",
    "\n",
    "    # Get Landsat data\n",
    "    landsat_image = get_landsat_image(date)\n",
    "    landsat_ndvi = get_landsat_ndvi(landsat_image)\n",
    "    landsat_lst = get_landsat_lst(landsat_image)\n",
    "\n",
    "    combined_ndvi = ee.Image.cat([landsat_ndvi, modis_ndvi])\n",
    "\n",
    "    # Combine all input data\n",
    "    return ee.Image([combined_ndvi, landsat_lst])"
   ]
  },
  {
   "cell_type": "code",
   "execution_count": 12,
   "metadata": {},
   "outputs": [],
   "source": [
    "def get_labels_image(year: int) -> ee.Image:\n",
    "    \"\"\"Gets a Land Cover image for the selected year and preprocesses it.\"\"\"\n",
    "    land_cover = get_land_cover(year)\n",
    "    # Add preprocessing steps if needed (e.g., remapping land cover classes)\n",
    "    return land_cover"
   ]
  },
  {
   "cell_type": "markdown",
   "metadata": {},
   "source": [
    "### --- Get input and labels for a given latitude and longitude ---\n"
   ]
  },
  {
   "cell_type": "code",
   "execution_count": 13,
   "metadata": {},
   "outputs": [],
   "source": [
    "@retry.Retry(deadline=10 * 60)  # seconds\n",
    "def get_patch(\n",
    "    image: ee.Image, lonlat: Tuple[float, float], patch_size: int, scale: int\n",
    ") -> np.ndarray:\n",
    "    \"\"\"Fetches a patch of pixels from Earth Engine.\"\"\"\n",
    "    point = ee.Geometry.Point(lonlat)\n",
    "    url = image.getDownloadURL(\n",
    "        {\n",
    "            \"region\": point.buffer(scale * patch_size / 2, 1).bounds(1),\n",
    "            \"dimensions\": [patch_size, patch_size],\n",
    "            # \"scale\": SCALE,\n",
    "            \"format\": \"NPY\",\n",
    "        }\n",
    "    )\n",
    "\n",
    "    # Retry on \"Too Many Requests\" errors\n",
    "    response = requests.get(url)\n",
    "    if response.status_code == 429:\n",
    "        raise exceptions.TooManyRequests(response.text)\n",
    "\n",
    "    # Raise other exceptions\n",
    "    response.raise_for_status()\n",
    "    return np.load(io.BytesIO(response.content), allow_pickle=True)"
   ]
  },
  {
   "cell_type": "code",
   "execution_count": 14,
   "metadata": {},
   "outputs": [],
   "source": [
    "def get_inputs_patch(\n",
    "    date: datetime, lonlat: Tuple[float, float], patch_size: int\n",
    ") -> np.ndarray:\n",
    "    \"\"\"Gets the inputs patch of pixels for the given point and date.\"\"\"\n",
    "    image = get_inputs_image(date)\n",
    "    patch = get_patch(image, lonlat, patch_size, SCALE)\n",
    "    return structured_to_unstructured(patch)\n",
    "\n",
    "\n",
    "def get_labels_patch(\n",
    "    date: datetime, lonlat: Tuple[float, float], patch_size: int\n",
    ") -> np.ndarray:\n",
    "    \"\"\"Gets the labels patch of pixels for the given point and year.\"\"\"\n",
    "    image = get_labels_image(date)\n",
    "    patch = get_patch(image, lonlat, patch_size, SCALE)\n",
    "    return structured_to_unstructured(patch)"
   ]
  },
  {
   "cell_type": "markdown",
   "metadata": {},
   "source": [
    "## Creating the dataset\n"
   ]
  },
  {
   "cell_type": "markdown",
   "metadata": {},
   "source": [
    "### --- Imports ---\n"
   ]
  },
  {
   "cell_type": "code",
   "execution_count": 15,
   "metadata": {},
   "outputs": [],
   "source": [
    "import logging\n",
    "import random\n",
    "from datetime import datetime\n",
    "\n",
    "import numpy as np\n",
    "import os\n",
    "import uuid\n",
    "from typing import Tuple, List"
   ]
  },
  {
   "cell_type": "markdown",
   "metadata": {},
   "source": [
    "### --- Configs ---\n"
   ]
  },
  {
   "cell_type": "code",
   "execution_count": 16,
   "metadata": {},
   "outputs": [],
   "source": [
    "NUM_SAMPLES = 250\n",
    "PARTITION_SIZE = 4\n",
    "NUM_SAMPLES_PER_PARTITION = NUM_SAMPLES // PARTITION_SIZE\n",
    "PATCH_SIZE = 128\n",
    "START_DATE = \"2015-01-01\"\n",
    "END_DATE = \"2021-01-01\"\n",
    "start_date = datetime.strptime(START_DATE, \"%Y-%m-%d\")\n",
    "end_date = datetime.strptime(END_DATE, \"%Y-%m-%d\")\n",
    "\n",
    "years = range(start_date.year, end_date.year + 1)\n",
    "dates = [datetime(year, 1, 1) for year in years]"
   ]
  },
  {
   "cell_type": "markdown",
   "metadata": {},
   "source": [
    "### --- Sample Points ---\n"
   ]
  },
  {
   "cell_type": "code",
   "execution_count": 17,
   "metadata": {},
   "outputs": [],
   "source": [
    "def random_date(start: datetime, end: datetime):\n",
    "    \"\"\"Generate a random datetime between `start` and `end`\"\"\"\n",
    "    return start + timedelta(\n",
    "        # Get a random amount of seconds between `start` and `end`\n",
    "        seconds=random.randint(0, int((end - start).total_seconds())),\n",
    "    )"
   ]
  },
  {
   "cell_type": "code",
   "execution_count": 18,
   "metadata": {},
   "outputs": [],
   "source": [
    "def sample_points(seed: int) -> List[Tuple[datetime, Tuple[float, float]]]:\n",
    "    global numFailures, numSuccesses, dates\n",
    "    \"\"\"Samples points within the defined polygon for the given year.\"\"\"\n",
    "    initialize_ee()\n",
    "    updated_dates: List[datetime] = [d + timedelta(days=(30 * seed)) for d in dates]\n",
    "    results = []\n",
    "    for date in updated_dates:\n",
    "        tries = 2\n",
    "        advance = 6\n",
    "        while tries > 0:\n",
    "            try:\n",
    "                land_cover = get_land_cover(date, advance)\n",
    "                # snapshot_date = land_cover.date().format().getInfo()\n",
    "                # snapshot_date = datetime.strptime(snapshot_date, \"%Y-%m-%dT%H:%M:%S\")\n",
    "                points = land_cover.stratifiedSample(\n",
    "                    numPoints=NUM_SAMPLES_PER_PARTITION,\n",
    "                    region=ee.Geometry.MultiPolygon(WORLD_POLYGONS),\n",
    "                    scale=WORLD_SCALE,\n",
    "                    geometries=True,\n",
    "                    seed=seed,\n",
    "                    classBand=\"label\",\n",
    "                    tileScale=4,\n",
    "                )\n",
    "                if int(points.size().getInfo()) > 0:\n",
    "                    features = points.getInfo()[\"features\"]\n",
    "                    for feature in features:\n",
    "                        results.append((date, feature[\"geometry\"][\"coordinates\"]))\n",
    "                    break\n",
    "                tries -= 1\n",
    "            except Exception as e:\n",
    "                tries -= 1\n",
    "                advance = 3\n",
    "                print(f\"Error occurred for {date}: {e} ... Retrying {tries} times\")\n",
    "\n",
    "    return results"
   ]
  },
  {
   "cell_type": "markdown",
   "metadata": {},
   "source": [
    "### --- Prepare Training Data ---\n"
   ]
  },
  {
   "cell_type": "code",
   "execution_count": 19,
   "metadata": {},
   "outputs": [],
   "source": [
    "def get_training_example(\n",
    "    date: datetime, point: Tuple[float, float]\n",
    ") -> Tuple[np.ndarray, np.ndarray]:\n",
    "    \"\"\"Gets an (inputs, labels) training example for land cover change prediction.\"\"\"\n",
    "    # dask.distributed.print(f\"Getting inputs for {date} at {point}\")\n",
    "    inputs = get_inputs_patch(date, point, PATCH_SIZE)\n",
    "    # Get land cover for the next day\n",
    "    # dask.distributed.print(f\"Getting labels for {date} at {point}\")\n",
    "    labels = get_labels_patch(date + timedelta(days=1), point, PATCH_SIZE)\n",
    "    return (inputs, labels)"
   ]
  },
  {
   "cell_type": "code",
   "execution_count": 20,
   "metadata": {},
   "outputs": [],
   "source": [
    "def try_get_example(\n",
    "    sample_point: Tuple[datetime, Tuple[float, float]],\n",
    ") -> Tuple[np.ndarray, np.ndarray]:\n",
    "    \"\"\"Wrapper to handle errors during training data generation.\"\"\"\n",
    "    ee.Initialize(project=project)\n",
    "    date, point = sample_point\n",
    "    try:\n",
    "        return get_training_example(date, point)\n",
    "    except Exception as e:\n",
    "        print(f\"Error occurred: {e}\")"
   ]
  },
  {
   "cell_type": "markdown",
   "metadata": {},
   "source": [
    "# --- Dask Workflow for Dataset Creation ---"
   ]
  },
  {
   "cell_type": "code",
   "execution_count": 21,
   "metadata": {},
   "outputs": [],
   "source": [
    "def write_npz(data: List[Tuple[np.ndarray, np.ndarray]], data_path: str) -> str:\n",
    "    \"\"\"Writes an (inputs, labels) set of data into a compressed NumPy file.\n",
    "\n",
    "    Args:\n",
    "        batch: Batch of (inputs, labels) pairs of NumPy arrays.\n",
    "        data_path: Directory path to save files to.\n",
    "\n",
    "    Returns: The filename of the data file.\n",
    "    \"\"\"\n",
    "    initialize_ee()\n",
    "    filename = os.path.join(data_path, f\"{uuid.uuid4()}.npz\")\n",
    "    with open(filename, \"xb\") as f:\n",
    "        inputs = [x for (x, _) in data]\n",
    "        labels = [y for (_, y) in data]\n",
    "        np.savez_compressed(f, inputs=inputs, labels=labels)\n",
    "    logging.info(filename)\n",
    "    return filename"
   ]
  },
  {
   "cell_type": "code",
   "execution_count": 22,
   "metadata": {},
   "outputs": [
    {
     "name": "stdout",
     "output_type": "stream",
     "text": [
      "[datetime.datetime(2015, 1, 1, 0, 0), datetime.datetime(2016, 1, 1, 0, 0), datetime.datetime(2017, 1, 1, 0, 0), datetime.datetime(2018, 1, 1, 0, 0), datetime.datetime(2019, 1, 1, 0, 0), datetime.datetime(2021, 1, 1, 0, 0)]\n"
     ]
    }
   ],
   "source": [
    "start_date = datetime.strptime(START_DATE, \"%Y-%m-%d\")\n",
    "end_date = datetime.strptime(END_DATE, \"%Y-%m-%d\")\n",
    "\n",
    "years = range(start_date.year, end_date.year + 1)\n",
    "dates = [datetime(year, 1, 1) for year in years if year != 2020]\n",
    "\n",
    "# random_dates = [random_date(start_date, end_date) for _ in range(samples)]\n",
    "\n",
    "# dates = \n",
    "print(dates)"
   ]
  },
  {
   "cell_type": "code",
   "execution_count": 23,
   "metadata": {},
   "outputs": [],
   "source": [
    "points = None"
   ]
  },
  {
   "cell_type": "markdown",
   "metadata": {},
   "source": [
    "### --- Perform Dataset Creation ---"
   ]
  },
  {
   "cell_type": "code",
   "execution_count": 25,
   "metadata": {},
   "outputs": [
    {
     "name": "stderr",
     "output_type": "stream",
     "text": [
      "WARNING:googleapiclient.http:Sleeping 1.55 seconds before retry 1 of 5 for request: POST https://earthengine-highvolume.googleapis.com/v1/projects/ee-rohitp934/value:compute?prettyPrint=false&alt=json, after 502\n"
     ]
    },
    {
     "name": "stdout",
     "output_type": "stream",
     "text": [
      "Error occurred for 2018-03-02 00:00:00: User memory limit exceeded. ... Retrying 1 times\n",
      "Error occurred for 2018-01-31 00:00:00: User memory limit exceeded. ... Retrying 1 times\n",
      "Error occurred for 2018-04-01 00:00:00: User memory limit exceeded. ... Retrying 1 times\n",
      "Error occurred for 2019-04-01 00:00:00: User memory limit exceeded. ... Retrying 1 times\n",
      "Error occurred for 2019-01-01 00:00:00: User memory limit exceeded. ... Retrying 1 times\n",
      "Error occurred for 2019-03-02 00:00:00: User memory limit exceeded. ... Retrying 1 times\n",
      "Error occurred for 2020-03-31 00:00:00: User memory limit exceeded. ... Retrying 1 times\n",
      "Error occurred for 2020-01-01 00:00:00: User memory limit exceeded. ... Retrying 1 times\n",
      "Error occurred for 2021-01-01 00:00:00: User memory limit exceeded. ... Retrying 1 times\n"
     ]
    },
    {
     "name": "stderr",
     "output_type": "stream",
     "text": [
      "WARNING:googleapiclient.http:Sleeping 0.03 seconds before retry 1 of 5 for request: POST https://earthengine-highvolume.googleapis.com/v1/projects/ee-rohitp934/value:compute?prettyPrint=false&alt=json, after 503\n",
      "WARNING:googleapiclient.http:Sleeping 0.91 seconds before retry 1 of 5 for request: POST https://earthengine-highvolume.googleapis.com/v1/projects/ee-rohitp934/value:compute?prettyPrint=false&alt=json, after 503\n"
     ]
    },
    {
     "name": "stdout",
     "output_type": "stream",
     "text": [
      "Error occurred for 2021-04-01 00:00:00: User memory limit exceeded. ... Retrying 1 times\n",
      "Error occurred for 2021-03-02 00:00:00: User memory limit exceeded. ... Retrying 1 times\n"
     ]
    },
    {
     "name": "stderr",
     "output_type": "stream",
     "text": [
      "WARNING:googleapiclient.http:Sleeping 0.08 seconds before retry 1 of 5 for request: POST https://earthengine-highvolume.googleapis.com/v1/projects/ee-rohitp934/thumbnails?fields=name&alt=json, after 502\n",
      "WARNING:googleapiclient.http:Sleeping 0.45 seconds before retry 1 of 5 for request: POST https://earthengine-highvolume.googleapis.com/v1/projects/ee-rohitp934/thumbnails?fields=name&alt=json, after 502\n",
      "WARNING:googleapiclient.http:Sleeping 0.58 seconds before retry 1 of 5 for request: POST https://earthengine-highvolume.googleapis.com/v1/projects/ee-rohitp934/thumbnails?fields=name&alt=json, after 502\n",
      "WARNING:googleapiclient.http:Sleeping 1.89 seconds before retry 1 of 5 for request: POST https://earthengine-highvolume.googleapis.com/v1/projects/ee-rohitp934/thumbnails?fields=name&alt=json, after 502\n",
      "WARNING:googleapiclient.http:Sleeping 0.77 seconds before retry 1 of 5 for request: POST https://earthengine-highvolume.googleapis.com/v1/projects/ee-rohitp934/thumbnails?fields=name&alt=json, after 502\n",
      "WARNING:googleapiclient.http:Sleeping 0.10 seconds before retry 1 of 5 for request: POST https://earthengine-highvolume.googleapis.com/v1/projects/ee-rohitp934/thumbnails?fields=name&alt=json, after 502\n",
      "WARNING:googleapiclient.http:Sleeping 0.93 seconds before retry 1 of 5 for request: POST https://earthengine-highvolume.googleapis.com/v1/projects/ee-rohitp934/thumbnails?fields=name&alt=json, after 502\n",
      "WARNING:googleapiclient.http:Sleeping 0.23 seconds before retry 1 of 5 for request: POST https://earthengine-highvolume.googleapis.com/v1/projects/ee-rohitp934/thumbnails?fields=name&alt=json, after 502\n",
      "WARNING:googleapiclient.http:Sleeping 0.88 seconds before retry 1 of 5 for request: POST https://earthengine-highvolume.googleapis.com/v1/projects/ee-rohitp934/thumbnails?fields=name&alt=json, after 502\n",
      "WARNING:googleapiclient.http:Sleeping 0.78 seconds before retry 1 of 5 for request: POST https://earthengine-highvolume.googleapis.com/v1/projects/ee-rohitp934/thumbnails?fields=name&alt=json, after 502\n",
      "WARNING:googleapiclient.http:Sleeping 0.43 seconds before retry 1 of 5 for request: POST https://earthengine-highvolume.googleapis.com/v1/projects/ee-rohitp934/thumbnails?fields=name&alt=json, after 502\n",
      "WARNING:googleapiclient.http:Sleeping 1.58 seconds before retry 1 of 5 for request: POST https://earthengine-highvolume.googleapis.com/v1/projects/ee-rohitp934/thumbnails?fields=name&alt=json, after 502\n",
      "WARNING:googleapiclient.http:Sleeping 0.28 seconds before retry 1 of 5 for request: POST https://earthengine-highvolume.googleapis.com/v1/projects/ee-rohitp934/thumbnails?fields=name&alt=json, after 502\n",
      "WARNING:googleapiclient.http:Sleeping 1.92 seconds before retry 1 of 5 for request: POST https://earthengine-highvolume.googleapis.com/v1/projects/ee-rohitp934/thumbnails?fields=name&alt=json, after 502\n",
      "WARNING:googleapiclient.http:Sleeping 1.02 seconds before retry 1 of 5 for request: POST https://earthengine-highvolume.googleapis.com/v1/projects/ee-rohitp934/thumbnails?fields=name&alt=json, after 502\n",
      "WARNING:googleapiclient.http:Sleeping 0.11 seconds before retry 1 of 5 for request: POST https://earthengine-highvolume.googleapis.com/v1/projects/ee-rohitp934/thumbnails?fields=name&alt=json, after 502\n",
      "WARNING:googleapiclient.http:Sleeping 0.38 seconds before retry 1 of 5 for request: POST https://earthengine-highvolume.googleapis.com/v1/projects/ee-rohitp934/thumbnails?fields=name&alt=json, after 502\n",
      "WARNING:googleapiclient.http:Sleeping 0.63 seconds before retry 1 of 5 for request: POST https://earthengine-highvolume.googleapis.com/v1/projects/ee-rohitp934/thumbnails?fields=name&alt=json, after 502\n",
      "WARNING:googleapiclient.http:Sleeping 0.22 seconds before retry 1 of 5 for request: POST https://earthengine-highvolume.googleapis.com/v1/projects/ee-rohitp934/thumbnails?fields=name&alt=json, after 502\n",
      "WARNING:googleapiclient.http:Sleeping 0.27 seconds before retry 1 of 5 for request: POST https://earthengine-highvolume.googleapis.com/v1/projects/ee-rohitp934/thumbnails?fields=name&alt=json, after 502\n",
      "WARNING:googleapiclient.http:Sleeping 1.78 seconds before retry 1 of 5 for request: POST https://earthengine-highvolume.googleapis.com/v1/projects/ee-rohitp934/thumbnails?fields=name&alt=json, after 502\n",
      "WARNING:googleapiclient.http:Sleeping 1.29 seconds before retry 1 of 5 for request: POST https://earthengine-highvolume.googleapis.com/v1/projects/ee-rohitp934/thumbnails?fields=name&alt=json, after 502\n",
      "WARNING:googleapiclient.http:Sleeping 0.59 seconds before retry 1 of 5 for request: POST https://earthengine-highvolume.googleapis.com/v1/projects/ee-rohitp934/thumbnails?fields=name&alt=json, after 502\n",
      "WARNING:googleapiclient.http:Sleeping 0.38 seconds before retry 1 of 5 for request: POST https://earthengine-highvolume.googleapis.com/v1/projects/ee-rohitp934/thumbnails?fields=name&alt=json, after 502\n",
      "WARNING:googleapiclient.http:Sleeping 1.21 seconds before retry 1 of 5 for request: POST https://earthengine-highvolume.googleapis.com/v1/projects/ee-rohitp934/thumbnails?fields=name&alt=json, after 502\n",
      "WARNING:googleapiclient.http:Sleeping 1.05 seconds before retry 1 of 5 for request: POST https://earthengine-highvolume.googleapis.com/v1/projects/ee-rohitp934/thumbnails?fields=name&alt=json, after 502\n",
      "WARNING:googleapiclient.http:Sleeping 1.16 seconds before retry 1 of 5 for request: POST https://earthengine-highvolume.googleapis.com/v1/projects/ee-rohitp934/thumbnails?fields=name&alt=json, after 502\n",
      "WARNING:googleapiclient.http:Sleeping 1.52 seconds before retry 1 of 5 for request: POST https://earthengine-highvolume.googleapis.com/v1/projects/ee-rohitp934/thumbnails?fields=name&alt=json, after 502\n",
      "WARNING:googleapiclient.http:Sleeping 0.44 seconds before retry 1 of 5 for request: POST https://earthengine-highvolume.googleapis.com/v1/projects/ee-rohitp934/thumbnails?fields=name&alt=json, after 502\n",
      "WARNING:googleapiclient.http:Sleeping 0.03 seconds before retry 1 of 5 for request: POST https://earthengine-highvolume.googleapis.com/v1/projects/ee-rohitp934/thumbnails?fields=name&alt=json, after 502\n",
      "WARNING:googleapiclient.http:Sleeping 0.17 seconds before retry 1 of 5 for request: POST https://earthengine-highvolume.googleapis.com/v1/projects/ee-rohitp934/thumbnails?fields=name&alt=json, after 502\n",
      "WARNING:googleapiclient.http:Sleeping 0.87 seconds before retry 1 of 5 for request: POST https://earthengine-highvolume.googleapis.com/v1/projects/ee-rohitp934/thumbnails?fields=name&alt=json, after 502\n",
      "WARNING:googleapiclient.http:Sleeping 0.72 seconds before retry 1 of 5 for request: POST https://earthengine-highvolume.googleapis.com/v1/projects/ee-rohitp934/thumbnails?fields=name&alt=json, after 502\n",
      "WARNING:googleapiclient.http:Sleeping 0.62 seconds before retry 1 of 5 for request: POST https://earthengine-highvolume.googleapis.com/v1/projects/ee-rohitp934/thumbnails?fields=name&alt=json, after 502\n",
      "WARNING:googleapiclient.http:Sleeping 1.59 seconds before retry 1 of 5 for request: POST https://earthengine-highvolume.googleapis.com/v1/projects/ee-rohitp934/thumbnails?fields=name&alt=json, after 502\n",
      "WARNING:googleapiclient.http:Sleeping 1.42 seconds before retry 1 of 5 for request: POST https://earthengine-highvolume.googleapis.com/v1/projects/ee-rohitp934/thumbnails?fields=name&alt=json, after 502\n",
      "WARNING:googleapiclient.http:Sleeping 0.98 seconds before retry 1 of 5 for request: POST https://earthengine-highvolume.googleapis.com/v1/projects/ee-rohitp934/thumbnails?fields=name&alt=json, after 502\n",
      "WARNING:googleapiclient.http:Sleeping 0.29 seconds before retry 1 of 5 for request: POST https://earthengine-highvolume.googleapis.com/v1/projects/ee-rohitp934/thumbnails?fields=name&alt=json, after 502\n",
      "WARNING:googleapiclient.http:Sleeping 0.33 seconds before retry 1 of 5 for request: POST https://earthengine-highvolume.googleapis.com/v1/projects/ee-rohitp934/thumbnails?fields=name&alt=json, after 502\n",
      "WARNING:googleapiclient.http:Sleeping 1.20 seconds before retry 1 of 5 for request: POST https://earthengine-highvolume.googleapis.com/v1/projects/ee-rohitp934/thumbnails?fields=name&alt=json, after 502\n",
      "WARNING:googleapiclient.http:Sleeping 0.83 seconds before retry 1 of 5 for request: POST https://earthengine-highvolume.googleapis.com/v1/projects/ee-rohitp934/thumbnails?fields=name&alt=json, after 502\n",
      "WARNING:googleapiclient.http:Sleeping 1.21 seconds before retry 1 of 5 for request: POST https://earthengine-highvolume.googleapis.com/v1/projects/ee-rohitp934/thumbnails?fields=name&alt=json, after 502\n",
      "WARNING:googleapiclient.http:Sleeping 0.76 seconds before retry 1 of 5 for request: POST https://earthengine-highvolume.googleapis.com/v1/projects/ee-rohitp934/thumbnails?fields=name&alt=json, after 502\n",
      "WARNING:googleapiclient.http:Sleeping 0.37 seconds before retry 1 of 5 for request: POST https://earthengine-highvolume.googleapis.com/v1/projects/ee-rohitp934/thumbnails?fields=name&alt=json, after 502\n",
      "WARNING:googleapiclient.http:Sleeping 0.50 seconds before retry 1 of 5 for request: POST https://earthengine-highvolume.googleapis.com/v1/projects/ee-rohitp934/thumbnails?fields=name&alt=json, after 502\n",
      "WARNING:googleapiclient.http:Sleeping 1.55 seconds before retry 1 of 5 for request: POST https://earthengine-highvolume.googleapis.com/v1/projects/ee-rohitp934/thumbnails?fields=name&alt=json, after 502\n",
      "WARNING:googleapiclient.http:Sleeping 0.56 seconds before retry 1 of 5 for request: POST https://earthengine-highvolume.googleapis.com/v1/projects/ee-rohitp934/thumbnails?fields=name&alt=json, after 502\n",
      "WARNING:googleapiclient.http:Sleeping 1.79 seconds before retry 1 of 5 for request: POST https://earthengine-highvolume.googleapis.com/v1/projects/ee-rohitp934/thumbnails?fields=name&alt=json, after 502\n",
      "WARNING:googleapiclient.http:Sleeping 1.01 seconds before retry 1 of 5 for request: POST https://earthengine-highvolume.googleapis.com/v1/projects/ee-rohitp934/thumbnails?fields=name&alt=json, after 502\n",
      "WARNING:googleapiclient.http:Sleeping 0.62 seconds before retry 1 of 5 for request: POST https://earthengine-highvolume.googleapis.com/v1/projects/ee-rohitp934/thumbnails?fields=name&alt=json, after 502\n",
      "WARNING:googleapiclient.http:Sleeping 0.59 seconds before retry 1 of 5 for request: POST https://earthengine-highvolume.googleapis.com/v1/projects/ee-rohitp934/thumbnails?fields=name&alt=json, after 502\n",
      "WARNING:googleapiclient.http:Sleeping 0.41 seconds before retry 1 of 5 for request: POST https://earthengine-highvolume.googleapis.com/v1/projects/ee-rohitp934/thumbnails?fields=name&alt=json, after 502\n",
      "WARNING:googleapiclient.http:Sleeping 0.98 seconds before retry 1 of 5 for request: POST https://earthengine-highvolume.googleapis.com/v1/projects/ee-rohitp934/thumbnails?fields=name&alt=json, after 502\n",
      "WARNING:googleapiclient.http:Sleeping 1.96 seconds before retry 1 of 5 for request: POST https://earthengine-highvolume.googleapis.com/v1/projects/ee-rohitp934/thumbnails?fields=name&alt=json, after 502\n",
      "WARNING:googleapiclient.http:Sleeping 1.32 seconds before retry 1 of 5 for request: POST https://earthengine-highvolume.googleapis.com/v1/projects/ee-rohitp934/thumbnails?fields=name&alt=json, after 502\n",
      "WARNING:googleapiclient.http:Sleeping 1.51 seconds before retry 1 of 5 for request: POST https://earthengine-highvolume.googleapis.com/v1/projects/ee-rohitp934/thumbnails?fields=name&alt=json, after 502\n",
      "WARNING:googleapiclient.http:Sleeping 1.20 seconds before retry 1 of 5 for request: POST https://earthengine-highvolume.googleapis.com/v1/projects/ee-rohitp934/thumbnails?fields=name&alt=json, after 502\n",
      "WARNING:googleapiclient.http:Sleeping 0.60 seconds before retry 1 of 5 for request: POST https://earthengine-highvolume.googleapis.com/v1/projects/ee-rohitp934/thumbnails?fields=name&alt=json, after 502\n",
      "WARNING:googleapiclient.http:Sleeping 1.61 seconds before retry 1 of 5 for request: POST https://earthengine-highvolume.googleapis.com/v1/projects/ee-rohitp934/thumbnails?fields=name&alt=json, after 502\n",
      "WARNING:googleapiclient.http:Sleeping 1.11 seconds before retry 1 of 5 for request: POST https://earthengine-highvolume.googleapis.com/v1/projects/ee-rohitp934/thumbnails?fields=name&alt=json, after 502\n",
      "WARNING:googleapiclient.http:Sleeping 1.33 seconds before retry 1 of 5 for request: POST https://earthengine-highvolume.googleapis.com/v1/projects/ee-rohitp934/thumbnails?fields=name&alt=json, after 502\n",
      "WARNING:googleapiclient.http:Sleeping 1.24 seconds before retry 1 of 5 for request: POST https://earthengine-highvolume.googleapis.com/v1/projects/ee-rohitp934/thumbnails?fields=name&alt=json, after 502\n",
      "WARNING:googleapiclient.http:Sleeping 0.57 seconds before retry 1 of 5 for request: POST https://earthengine-highvolume.googleapis.com/v1/projects/ee-rohitp934/thumbnails?fields=name&alt=json, after 502\n",
      "WARNING:googleapiclient.http:Sleeping 1.51 seconds before retry 1 of 5 for request: POST https://earthengine-highvolume.googleapis.com/v1/projects/ee-rohitp934/thumbnails?fields=name&alt=json, after 502\n",
      "WARNING:googleapiclient.http:Sleeping 1.89 seconds before retry 1 of 5 for request: POST https://earthengine-highvolume.googleapis.com/v1/projects/ee-rohitp934/thumbnails?fields=name&alt=json, after 502\n",
      "WARNING:googleapiclient.http:Sleeping 1.89 seconds before retry 1 of 5 for request: POST https://earthengine-highvolume.googleapis.com/v1/projects/ee-rohitp934/thumbnails?fields=name&alt=json, after 502\n",
      "WARNING:googleapiclient.http:Sleeping 0.80 seconds before retry 1 of 5 for request: POST https://earthengine-highvolume.googleapis.com/v1/projects/ee-rohitp934/thumbnails?fields=name&alt=json, after 502\n",
      "WARNING:googleapiclient.http:Sleeping 1.15 seconds before retry 1 of 5 for request: POST https://earthengine-highvolume.googleapis.com/v1/projects/ee-rohitp934/thumbnails?fields=name&alt=json, after 502\n",
      "WARNING:googleapiclient.http:Sleeping 1.72 seconds before retry 1 of 5 for request: POST https://earthengine-highvolume.googleapis.com/v1/projects/ee-rohitp934/thumbnails?fields=name&alt=json, after 502\n",
      "WARNING:googleapiclient.http:Sleeping 1.46 seconds before retry 1 of 5 for request: POST https://earthengine-highvolume.googleapis.com/v1/projects/ee-rohitp934/thumbnails?fields=name&alt=json, after 502\n",
      "WARNING:googleapiclient.http:Sleeping 0.14 seconds before retry 1 of 5 for request: POST https://earthengine-highvolume.googleapis.com/v1/projects/ee-rohitp934/thumbnails?fields=name&alt=json, after 502\n",
      "WARNING:googleapiclient.http:Sleeping 1.91 seconds before retry 1 of 5 for request: POST https://earthengine-highvolume.googleapis.com/v1/projects/ee-rohitp934/thumbnails?fields=name&alt=json, after 502\n",
      "WARNING:googleapiclient.http:Sleeping 1.01 seconds before retry 1 of 5 for request: POST https://earthengine-highvolume.googleapis.com/v1/projects/ee-rohitp934/thumbnails?fields=name&alt=json, after 502\n",
      "WARNING:googleapiclient.http:Sleeping 1.72 seconds before retry 1 of 5 for request: POST https://earthengine-highvolume.googleapis.com/v1/projects/ee-rohitp934/thumbnails?fields=name&alt=json, after 502\n",
      "WARNING:googleapiclient.http:Sleeping 1.92 seconds before retry 1 of 5 for request: POST https://earthengine-highvolume.googleapis.com/v1/projects/ee-rohitp934/thumbnails?fields=name&alt=json, after 502\n",
      "WARNING:googleapiclient.http:Sleeping 0.33 seconds before retry 1 of 5 for request: POST https://earthengine-highvolume.googleapis.com/v1/projects/ee-rohitp934/thumbnails?fields=name&alt=json, after 502\n",
      "WARNING:googleapiclient.http:Sleeping 0.01 seconds before retry 1 of 5 for request: POST https://earthengine-highvolume.googleapis.com/v1/projects/ee-rohitp934/thumbnails?fields=name&alt=json, after 502\n",
      "WARNING:googleapiclient.http:Sleeping 0.93 seconds before retry 1 of 5 for request: POST https://earthengine-highvolume.googleapis.com/v1/projects/ee-rohitp934/thumbnails?fields=name&alt=json, after 502\n",
      "WARNING:googleapiclient.http:Sleeping 1.26 seconds before retry 1 of 5 for request: POST https://earthengine-highvolume.googleapis.com/v1/projects/ee-rohitp934/thumbnails?fields=name&alt=json, after 502\n",
      "WARNING:googleapiclient.http:Sleeping 1.53 seconds before retry 1 of 5 for request: POST https://earthengine-highvolume.googleapis.com/v1/projects/ee-rohitp934/thumbnails?fields=name&alt=json, after 502\n",
      "WARNING:googleapiclient.http:Sleeping 1.59 seconds before retry 1 of 5 for request: POST https://earthengine-highvolume.googleapis.com/v1/projects/ee-rohitp934/thumbnails?fields=name&alt=json, after 502\n",
      "WARNING:googleapiclient.http:Sleeping 0.04 seconds before retry 1 of 5 for request: POST https://earthengine-highvolume.googleapis.com/v1/projects/ee-rohitp934/thumbnails?fields=name&alt=json, after 502\n",
      "WARNING:googleapiclient.http:Sleeping 0.26 seconds before retry 1 of 5 for request: POST https://earthengine-highvolume.googleapis.com/v1/projects/ee-rohitp934/thumbnails?fields=name&alt=json, after 502\n",
      "WARNING:googleapiclient.http:Sleeping 0.93 seconds before retry 1 of 5 for request: POST https://earthengine-highvolume.googleapis.com/v1/projects/ee-rohitp934/thumbnails?fields=name&alt=json, after 502\n",
      "WARNING:googleapiclient.http:Sleeping 0.21 seconds before retry 1 of 5 for request: POST https://earthengine-highvolume.googleapis.com/v1/projects/ee-rohitp934/thumbnails?fields=name&alt=json, after 502\n",
      "WARNING:googleapiclient.http:Sleeping 1.81 seconds before retry 1 of 5 for request: POST https://earthengine-highvolume.googleapis.com/v1/projects/ee-rohitp934/thumbnails?fields=name&alt=json, after 502\n",
      "WARNING:googleapiclient.http:Sleeping 1.83 seconds before retry 1 of 5 for request: POST https://earthengine-highvolume.googleapis.com/v1/projects/ee-rohitp934/thumbnails?fields=name&alt=json, after 502\n",
      "WARNING:googleapiclient.http:Sleeping 1.82 seconds before retry 1 of 5 for request: POST https://earthengine-highvolume.googleapis.com/v1/projects/ee-rohitp934/thumbnails?fields=name&alt=json, after 502\n",
      "WARNING:googleapiclient.http:Sleeping 0.68 seconds before retry 1 of 5 for request: POST https://earthengine-highvolume.googleapis.com/v1/projects/ee-rohitp934/thumbnails?fields=name&alt=json, after 502\n",
      "WARNING:googleapiclient.http:Sleeping 1.37 seconds before retry 1 of 5 for request: POST https://earthengine-highvolume.googleapis.com/v1/projects/ee-rohitp934/thumbnails?fields=name&alt=json, after 502\n",
      "WARNING:googleapiclient.http:Sleeping 0.38 seconds before retry 1 of 5 for request: POST https://earthengine-highvolume.googleapis.com/v1/projects/ee-rohitp934/thumbnails?fields=name&alt=json, after 502\n",
      "WARNING:googleapiclient.http:Sleeping 1.26 seconds before retry 1 of 5 for request: POST https://earthengine-highvolume.googleapis.com/v1/projects/ee-rohitp934/thumbnails?fields=name&alt=json, after 502\n",
      "WARNING:googleapiclient.http:Sleeping 1.79 seconds before retry 1 of 5 for request: POST https://earthengine-highvolume.googleapis.com/v1/projects/ee-rohitp934/thumbnails?fields=name&alt=json, after 502\n",
      "WARNING:googleapiclient.http:Sleeping 0.84 seconds before retry 1 of 5 for request: POST https://earthengine-highvolume.googleapis.com/v1/projects/ee-rohitp934/thumbnails?fields=name&alt=json, after 502\n",
      "WARNING:googleapiclient.http:Sleeping 0.38 seconds before retry 1 of 5 for request: POST https://earthengine-highvolume.googleapis.com/v1/projects/ee-rohitp934/thumbnails?fields=name&alt=json, after 502\n",
      "WARNING:googleapiclient.http:Sleeping 1.24 seconds before retry 1 of 5 for request: POST https://earthengine-highvolume.googleapis.com/v1/projects/ee-rohitp934/thumbnails?fields=name&alt=json, after 502\n",
      "WARNING:googleapiclient.http:Sleeping 1.70 seconds before retry 1 of 5 for request: POST https://earthengine-highvolume.googleapis.com/v1/projects/ee-rohitp934/thumbnails?fields=name&alt=json, after 502\n",
      "WARNING:googleapiclient.http:Sleeping 0.45 seconds before retry 1 of 5 for request: POST https://earthengine-highvolume.googleapis.com/v1/projects/ee-rohitp934/thumbnails?fields=name&alt=json, after 502\n",
      "WARNING:googleapiclient.http:Sleeping 1.14 seconds before retry 1 of 5 for request: POST https://earthengine-highvolume.googleapis.com/v1/projects/ee-rohitp934/thumbnails?fields=name&alt=json, after 502\n",
      "WARNING:googleapiclient.http:Sleeping 1.07 seconds before retry 1 of 5 for request: POST https://earthengine-highvolume.googleapis.com/v1/projects/ee-rohitp934/thumbnails?fields=name&alt=json, after 502\n",
      "WARNING:googleapiclient.http:Sleeping 0.81 seconds before retry 1 of 5 for request: POST https://earthengine-highvolume.googleapis.com/v1/projects/ee-rohitp934/thumbnails?fields=name&alt=json, after 502\n",
      "WARNING:googleapiclient.http:Sleeping 0.52 seconds before retry 1 of 5 for request: POST https://earthengine-highvolume.googleapis.com/v1/projects/ee-rohitp934/thumbnails?fields=name&alt=json, after 502\n",
      "WARNING:googleapiclient.http:Sleeping 0.40 seconds before retry 1 of 5 for request: POST https://earthengine-highvolume.googleapis.com/v1/projects/ee-rohitp934/thumbnails?fields=name&alt=json, after 502\n",
      "WARNING:googleapiclient.http:Sleeping 0.82 seconds before retry 1 of 5 for request: POST https://earthengine-highvolume.googleapis.com/v1/projects/ee-rohitp934/thumbnails?fields=name&alt=json, after 502\n",
      "WARNING:googleapiclient.http:Sleeping 1.70 seconds before retry 1 of 5 for request: POST https://earthengine-highvolume.googleapis.com/v1/projects/ee-rohitp934/thumbnails?fields=name&alt=json, after 502\n",
      "WARNING:googleapiclient.http:Sleeping 1.16 seconds before retry 1 of 5 for request: POST https://earthengine-highvolume.googleapis.com/v1/projects/ee-rohitp934/thumbnails?fields=name&alt=json, after 502\n",
      "WARNING:googleapiclient.http:Sleeping 1.85 seconds before retry 1 of 5 for request: POST https://earthengine-highvolume.googleapis.com/v1/projects/ee-rohitp934/thumbnails?fields=name&alt=json, after 502\n",
      "WARNING:googleapiclient.http:Sleeping 0.88 seconds before retry 1 of 5 for request: POST https://earthengine-highvolume.googleapis.com/v1/projects/ee-rohitp934/thumbnails?fields=name&alt=json, after 502\n",
      "WARNING:googleapiclient.http:Sleeping 1.16 seconds before retry 1 of 5 for request: POST https://earthengine-highvolume.googleapis.com/v1/projects/ee-rohitp934/thumbnails?fields=name&alt=json, after 502\n",
      "WARNING:googleapiclient.http:Sleeping 0.62 seconds before retry 1 of 5 for request: POST https://earthengine-highvolume.googleapis.com/v1/projects/ee-rohitp934/thumbnails?fields=name&alt=json, after 502\n",
      "WARNING:googleapiclient.http:Sleeping 1.96 seconds before retry 1 of 5 for request: POST https://earthengine-highvolume.googleapis.com/v1/projects/ee-rohitp934/thumbnails?fields=name&alt=json, after 502\n",
      "WARNING:googleapiclient.http:Sleeping 1.54 seconds before retry 1 of 5 for request: POST https://earthengine-highvolume.googleapis.com/v1/projects/ee-rohitp934/thumbnails?fields=name&alt=json, after 502\n",
      "WARNING:googleapiclient.http:Sleeping 1.79 seconds before retry 1 of 5 for request: POST https://earthengine-highvolume.googleapis.com/v1/projects/ee-rohitp934/thumbnails?fields=name&alt=json, after 502\n",
      "WARNING:googleapiclient.http:Sleeping 1.88 seconds before retry 1 of 5 for request: POST https://earthengine-highvolume.googleapis.com/v1/projects/ee-rohitp934/thumbnails?fields=name&alt=json, after 502\n",
      "WARNING:googleapiclient.http:Sleeping 0.71 seconds before retry 1 of 5 for request: POST https://earthengine-highvolume.googleapis.com/v1/projects/ee-rohitp934/thumbnails?fields=name&alt=json, after 502\n",
      "WARNING:googleapiclient.http:Sleeping 0.67 seconds before retry 1 of 5 for request: POST https://earthengine-highvolume.googleapis.com/v1/projects/ee-rohitp934/thumbnails?fields=name&alt=json, after 502\n",
      "WARNING:googleapiclient.http:Sleeping 0.30 seconds before retry 1 of 5 for request: POST https://earthengine-highvolume.googleapis.com/v1/projects/ee-rohitp934/thumbnails?fields=name&alt=json, after 502\n",
      "WARNING:googleapiclient.http:Sleeping 0.10 seconds before retry 1 of 5 for request: POST https://earthengine-highvolume.googleapis.com/v1/projects/ee-rohitp934/thumbnails?fields=name&alt=json, after 502\n",
      "WARNING:googleapiclient.http:Sleeping 0.81 seconds before retry 1 of 5 for request: POST https://earthengine-highvolume.googleapis.com/v1/projects/ee-rohitp934/thumbnails?fields=name&alt=json, after 502\n",
      "WARNING:googleapiclient.http:Sleeping 1.88 seconds before retry 1 of 5 for request: POST https://earthengine-highvolume.googleapis.com/v1/projects/ee-rohitp934/thumbnails?fields=name&alt=json, after 502\n",
      "WARNING:googleapiclient.http:Sleeping 1.85 seconds before retry 1 of 5 for request: POST https://earthengine-highvolume.googleapis.com/v1/projects/ee-rohitp934/thumbnails?fields=name&alt=json, after 502\n",
      "WARNING:googleapiclient.http:Sleeping 0.76 seconds before retry 1 of 5 for request: POST https://earthengine-highvolume.googleapis.com/v1/projects/ee-rohitp934/thumbnails?fields=name&alt=json, after 502\n",
      "WARNING:googleapiclient.http:Sleeping 1.81 seconds before retry 1 of 5 for request: POST https://earthengine-highvolume.googleapis.com/v1/projects/ee-rohitp934/thumbnails?fields=name&alt=json, after 502\n",
      "WARNING:googleapiclient.http:Sleeping 1.27 seconds before retry 1 of 5 for request: POST https://earthengine-highvolume.googleapis.com/v1/projects/ee-rohitp934/thumbnails?fields=name&alt=json, after 502\n",
      "WARNING:googleapiclient.http:Sleeping 1.99 seconds before retry 1 of 5 for request: POST https://earthengine-highvolume.googleapis.com/v1/projects/ee-rohitp934/thumbnails?fields=name&alt=json, after 502\n",
      "WARNING:googleapiclient.http:Sleeping 1.16 seconds before retry 1 of 5 for request: POST https://earthengine-highvolume.googleapis.com/v1/projects/ee-rohitp934/thumbnails?fields=name&alt=json, after 502\n",
      "WARNING:googleapiclient.http:Sleeping 0.71 seconds before retry 1 of 5 for request: POST https://earthengine-highvolume.googleapis.com/v1/projects/ee-rohitp934/thumbnails?fields=name&alt=json, after 502\n",
      "WARNING:googleapiclient.http:Sleeping 1.76 seconds before retry 1 of 5 for request: POST https://earthengine-highvolume.googleapis.com/v1/projects/ee-rohitp934/thumbnails?fields=name&alt=json, after 502\n",
      "WARNING:googleapiclient.http:Sleeping 1.94 seconds before retry 1 of 5 for request: POST https://earthengine-highvolume.googleapis.com/v1/projects/ee-rohitp934/thumbnails?fields=name&alt=json, after 502\n",
      "WARNING:googleapiclient.http:Sleeping 1.06 seconds before retry 1 of 5 for request: POST https://earthengine-highvolume.googleapis.com/v1/projects/ee-rohitp934/thumbnails?fields=name&alt=json, after 502\n",
      "WARNING:googleapiclient.http:Sleeping 0.62 seconds before retry 1 of 5 for request: POST https://earthengine-highvolume.googleapis.com/v1/projects/ee-rohitp934/thumbnails?fields=name&alt=json, after 502\n",
      "WARNING:googleapiclient.http:Sleeping 0.41 seconds before retry 1 of 5 for request: POST https://earthengine-highvolume.googleapis.com/v1/projects/ee-rohitp934/thumbnails?fields=name&alt=json, after 502\n",
      "WARNING:googleapiclient.http:Sleeping 0.92 seconds before retry 1 of 5 for request: POST https://earthengine-highvolume.googleapis.com/v1/projects/ee-rohitp934/thumbnails?fields=name&alt=json, after 502\n",
      "WARNING:googleapiclient.http:Sleeping 0.15 seconds before retry 1 of 5 for request: POST https://earthengine-highvolume.googleapis.com/v1/projects/ee-rohitp934/thumbnails?fields=name&alt=json, after 502\n",
      "WARNING:googleapiclient.http:Sleeping 1.74 seconds before retry 1 of 5 for request: POST https://earthengine-highvolume.googleapis.com/v1/projects/ee-rohitp934/thumbnails?fields=name&alt=json, after 502\n",
      "WARNING:googleapiclient.http:Sleeping 1.65 seconds before retry 1 of 5 for request: POST https://earthengine-highvolume.googleapis.com/v1/projects/ee-rohitp934/thumbnails?fields=name&alt=json, after 502\n",
      "WARNING:googleapiclient.http:Sleeping 1.67 seconds before retry 1 of 5 for request: POST https://earthengine-highvolume.googleapis.com/v1/projects/ee-rohitp934/thumbnails?fields=name&alt=json, after 502\n",
      "WARNING:googleapiclient.http:Sleeping 0.85 seconds before retry 1 of 5 for request: POST https://earthengine-highvolume.googleapis.com/v1/projects/ee-rohitp934/thumbnails?fields=name&alt=json, after 502\n",
      "WARNING:googleapiclient.http:Sleeping 0.93 seconds before retry 2 of 5 for request: POST https://earthengine-highvolume.googleapis.com/v1/projects/ee-rohitp934/thumbnails?fields=name&alt=json, after 502\n",
      "WARNING:googleapiclient.http:Sleeping 1.49 seconds before retry 1 of 5 for request: POST https://earthengine-highvolume.googleapis.com/v1/projects/ee-rohitp934/thumbnails?fields=name&alt=json, after 502\n",
      "WARNING:googleapiclient.http:Sleeping 0.18 seconds before retry 1 of 5 for request: POST https://earthengine-highvolume.googleapis.com/v1/projects/ee-rohitp934/thumbnails?fields=name&alt=json, after 502\n",
      "WARNING:googleapiclient.http:Sleeping 0.31 seconds before retry 1 of 5 for request: POST https://earthengine-highvolume.googleapis.com/v1/projects/ee-rohitp934/thumbnails?fields=name&alt=json, after 502\n",
      "WARNING:googleapiclient.http:Sleeping 1.45 seconds before retry 1 of 5 for request: POST https://earthengine-highvolume.googleapis.com/v1/projects/ee-rohitp934/thumbnails?fields=name&alt=json, after 502\n",
      "WARNING:googleapiclient.http:Sleeping 0.79 seconds before retry 1 of 5 for request: POST https://earthengine-highvolume.googleapis.com/v1/projects/ee-rohitp934/thumbnails?fields=name&alt=json, after 502\n",
      "WARNING:googleapiclient.http:Sleeping 1.51 seconds before retry 1 of 5 for request: POST https://earthengine-highvolume.googleapis.com/v1/projects/ee-rohitp934/thumbnails?fields=name&alt=json, after 502\n",
      "WARNING:googleapiclient.http:Sleeping 1.01 seconds before retry 1 of 5 for request: POST https://earthengine-highvolume.googleapis.com/v1/projects/ee-rohitp934/thumbnails?fields=name&alt=json, after 502\n",
      "WARNING:googleapiclient.http:Sleeping 0.06 seconds before retry 1 of 5 for request: POST https://earthengine-highvolume.googleapis.com/v1/projects/ee-rohitp934/thumbnails?fields=name&alt=json, after 502\n",
      "WARNING:googleapiclient.http:Sleeping 0.93 seconds before retry 1 of 5 for request: POST https://earthengine-highvolume.googleapis.com/v1/projects/ee-rohitp934/thumbnails?fields=name&alt=json, after 502\n",
      "WARNING:googleapiclient.http:Sleeping 0.38 seconds before retry 1 of 5 for request: POST https://earthengine-highvolume.googleapis.com/v1/projects/ee-rohitp934/thumbnails?fields=name&alt=json, after 502\n",
      "WARNING:googleapiclient.http:Sleeping 0.67 seconds before retry 1 of 5 for request: POST https://earthengine-highvolume.googleapis.com/v1/projects/ee-rohitp934/thumbnails?fields=name&alt=json, after 502\n",
      "WARNING:googleapiclient.http:Sleeping 1.49 seconds before retry 1 of 5 for request: POST https://earthengine-highvolume.googleapis.com/v1/projects/ee-rohitp934/thumbnails?fields=name&alt=json, after 502\n",
      "WARNING:googleapiclient.http:Sleeping 1.24 seconds before retry 1 of 5 for request: POST https://earthengine-highvolume.googleapis.com/v1/projects/ee-rohitp934/thumbnails?fields=name&alt=json, after 502\n",
      "WARNING:googleapiclient.http:Sleeping 0.54 seconds before retry 1 of 5 for request: POST https://earthengine-highvolume.googleapis.com/v1/projects/ee-rohitp934/thumbnails?fields=name&alt=json, after 502\n",
      "WARNING:googleapiclient.http:Sleeping 1.81 seconds before retry 1 of 5 for request: POST https://earthengine-highvolume.googleapis.com/v1/projects/ee-rohitp934/thumbnails?fields=name&alt=json, after 502\n",
      "WARNING:googleapiclient.http:Sleeping 1.36 seconds before retry 1 of 5 for request: POST https://earthengine-highvolume.googleapis.com/v1/projects/ee-rohitp934/thumbnails?fields=name&alt=json, after 502\n",
      "WARNING:googleapiclient.http:Sleeping 1.25 seconds before retry 1 of 5 for request: POST https://earthengine-highvolume.googleapis.com/v1/projects/ee-rohitp934/thumbnails?fields=name&alt=json, after 502\n",
      "WARNING:googleapiclient.http:Sleeping 0.80 seconds before retry 1 of 5 for request: POST https://earthengine-highvolume.googleapis.com/v1/projects/ee-rohitp934/thumbnails?fields=name&alt=json, after 502\n",
      "WARNING:googleapiclient.http:Sleeping 1.11 seconds before retry 1 of 5 for request: POST https://earthengine-highvolume.googleapis.com/v1/projects/ee-rohitp934/thumbnails?fields=name&alt=json, after 502\n",
      "WARNING:googleapiclient.http:Sleeping 0.81 seconds before retry 1 of 5 for request: POST https://earthengine-highvolume.googleapis.com/v1/projects/ee-rohitp934/thumbnails?fields=name&alt=json, after 502\n",
      "WARNING:googleapiclient.http:Sleeping 0.88 seconds before retry 1 of 5 for request: POST https://earthengine-highvolume.googleapis.com/v1/projects/ee-rohitp934/thumbnails?fields=name&alt=json, after 502\n",
      "WARNING:googleapiclient.http:Sleeping 0.16 seconds before retry 1 of 5 for request: POST https://earthengine-highvolume.googleapis.com/v1/projects/ee-rohitp934/thumbnails?fields=name&alt=json, after 502\n",
      "WARNING:googleapiclient.http:Sleeping 0.53 seconds before retry 1 of 5 for request: POST https://earthengine-highvolume.googleapis.com/v1/projects/ee-rohitp934/thumbnails?fields=name&alt=json, after 502\n",
      "WARNING:googleapiclient.http:Sleeping 0.25 seconds before retry 1 of 5 for request: POST https://earthengine-highvolume.googleapis.com/v1/projects/ee-rohitp934/thumbnails?fields=name&alt=json, after 502\n",
      "WARNING:googleapiclient.http:Sleeping 0.76 seconds before retry 1 of 5 for request: POST https://earthengine-highvolume.googleapis.com/v1/projects/ee-rohitp934/thumbnails?fields=name&alt=json, after 502\n",
      "WARNING:googleapiclient.http:Sleeping 0.69 seconds before retry 1 of 1 for request: GET https://earthengine-highvolume.googleapis.com/$discovery/rest?version=v1&prettyPrint=false, after ('Connection aborted.', RemoteDisconnected('Remote end closed connection without response'))\n",
      "WARNING:googleapiclient.http:Sleeping 0.41 seconds before retry 1 of 5 for request: POST https://earthengine-highvolume.googleapis.com/v1/projects/ee-rohitp934/thumbnails?fields=name&alt=json, after 502\n",
      "WARNING:googleapiclient.http:Sleeping 1.25 seconds before retry 1 of 5 for request: POST https://earthengine-highvolume.googleapis.com/v1/projects/ee-rohitp934/thumbnails?fields=name&alt=json, after 502\n",
      "WARNING:googleapiclient.http:Sleeping 0.30 seconds before retry 1 of 1 for request: GET https://earthengine-highvolume.googleapis.com/$discovery/rest?version=v1&prettyPrint=false, after ('Connection aborted.', RemoteDisconnected('Remote end closed connection without response'))\n",
      "WARNING:googleapiclient.http:Sleeping 0.02 seconds before retry 1 of 5 for request: POST https://earthengine-highvolume.googleapis.com/v1/projects/ee-rohitp934/thumbnails?fields=name&alt=json, after 502\n",
      "WARNING:googleapiclient.http:Sleeping 0.34 seconds before retry 1 of 5 for request: POST https://earthengine-highvolume.googleapis.com/v1/projects/ee-rohitp934/thumbnails?fields=name&alt=json, after 502\n",
      "WARNING:googleapiclient.http:Sleeping 0.35 seconds before retry 1 of 5 for request: POST https://earthengine-highvolume.googleapis.com/v1/projects/ee-rohitp934/thumbnails?fields=name&alt=json, after 502\n",
      "WARNING:googleapiclient.http:Sleeping 1.57 seconds before retry 1 of 5 for request: POST https://earthengine-highvolume.googleapis.com/v1/projects/ee-rohitp934/thumbnails?fields=name&alt=json, after 502\n",
      "WARNING:googleapiclient.http:Sleeping 1.81 seconds before retry 1 of 5 for request: POST https://earthengine-highvolume.googleapis.com/v1/projects/ee-rohitp934/thumbnails?fields=name&alt=json, after 502\n"
     ]
    }
   ],
   "source": [
    "import apache_beam as beam\n",
    "from apache_beam.options.pipeline_options import PipelineOptions\n",
    "\n",
    "start_date = datetime.strptime(START_DATE, \"%Y-%m-%d\")\n",
    "end_date = datetime.strptime(END_DATE, \"%Y-%m-%d\")\n",
    "\n",
    "years = range(start_date.year, end_date.year + 1)\n",
    "dates = [datetime(year, 1, 1) for year in years]\n",
    "beam_options = PipelineOptions(\n",
    "    [],\n",
    "    save_main_session=True,\n",
    "    # setup_file=\"./setup.py\",\n",
    "    # max_num_workers=max_requests,\n",
    "    direct_running_mode=\"multi_threading\",  # distributed runners\n",
    "    direct_num_workers=0,  # direct runner\n",
    "    # disk_size_gb=50,\n",
    ")\n",
    "with beam.Pipeline(options=beam_options) as pipeline:\n",
    "    # if not points:\n",
    "    points = (\n",
    "        pipeline\n",
    "        | \"🌱 Make seeds\" >> beam.Create(range(4))\n",
    "        | \"📌 Sample points\" >> beam.FlatMap(sample_points)\n",
    "        \n",
    "    )\n",
    "\n",
    "    (\n",
    "        points\n",
    "        | \"🃏 Reshuffle\" >> beam.Reshuffle()\n",
    "        | \"📑 Get examples\" >> beam.Map(try_get_example)\n",
    "        | \"🗂️ Batch examples\" >> beam.BatchElements(10)\n",
    "        | \"📝 Write NPZ Files\" >> beam.Map(write_npz, data_path=\"data/climate_change\")\n",
    "        # | \"Print\" >> beam.Map(print)\n",
    "    )"
   ]
  },
  {
   "cell_type": "code",
   "execution_count": null,
   "metadata": {},
   "outputs": [],
   "source": []
  }
 ],
 "metadata": {
  "kernelspec": {
   "display_name": "bigdata.venv",
   "language": "python",
   "name": "python3"
  },
  "language_info": {
   "codemirror_mode": {
    "name": "ipython",
    "version": 3
   },
   "file_extension": ".py",
   "mimetype": "text/x-python",
   "name": "python",
   "nbconvert_exporter": "python",
   "pygments_lexer": "ipython3",
   "version": "3.11.7"
  }
 },
 "nbformat": 4,
 "nbformat_minor": 2
}
