{
 "cells": [
  {
   "cell_type": "code",
   "execution_count": null,
   "metadata": {},
   "outputs": [],
   "source": [
    "!uv pip install -r requirements.txt"
   ]
  },
  {
   "cell_type": "markdown",
   "metadata": {},
   "source": [
    "### --- Import Libraries ---\n"
   ]
  },
  {
   "cell_type": "code",
   "execution_count": 1,
   "metadata": {},
   "outputs": [
    {
     "name": "stderr",
     "output_type": "stream",
     "text": [
      "/Users/ani/Desktop/Anirudh/Big Data/big_data_project/big-data/lib/python3.9/site-packages/urllib3/__init__.py:35: NotOpenSSLWarning: urllib3 v2 only supports OpenSSL 1.1.1+, currently the 'ssl' module is compiled with 'LibreSSL 2.8.3'. See: https://github.com/urllib3/urllib3/issues/3020\n",
      "  warnings.warn(\n"
     ]
    }
   ],
   "source": [
    "import io\n",
    "from datetime import datetime, timedelta\n",
    "\n",
    "import ee\n",
    "from google.api_core import exceptions, retry\n",
    "import google.auth\n",
    "import numpy as np\n",
    "from numpy.lib.recfunctions import structured_to_unstructured\n",
    "import requests"
   ]
  },
  {
   "cell_type": "markdown",
   "metadata": {},
   "source": [
    "### --- Constants and Earth Engine Initialization ---\n"
   ]
  },
  {
   "cell_type": "code",
   "execution_count": 2,
   "metadata": {},
   "outputs": [],
   "source": [
    "SCALE = 5000  # meters per pixel\n",
    "WORLD_SCALE = 10_000\n",
    "LAND_COVER_DATASET = \"GOOGLE/DYNAMICWORLD/V1\"  # Dynamic World Land Cover dataset\n",
    "LAND_COVER_BAND = \"Map\"  # Land cover classification band\n",
    "WORLD_POLYGONS = [\n",
    "    # Americas\n",
    "    [(-33.0, -7.0), (-55.0, 53.0), (-166.0, 65.0), (-68.0, -56.0)],\n",
    "    # Africa, Asia, Europe\n",
    "    [\n",
    "        (74.0, 71.0),\n",
    "        (166.0, 55.0),\n",
    "        (115.0, -11.0),\n",
    "        (74.0, -4.0),\n",
    "        (20.0, -38.0),\n",
    "        (-29.0, 25.0),\n",
    "    ],\n",
    "    # Australia\n",
    "    [(170.0, -47.0), (179.0, -37.0), (167.0, -12.0), (128.0, 17.0), (106.0, -29.0)],\n",
    "]\n",
    "POLYGON = [(-140.0, 60.0), (-140.0, -60.0), (-10.0, -60.0), (-10.0, 60.0)]"
   ]
  },
  {
   "cell_type": "markdown",
   "metadata": {},
   "source": [
    "### --- Earth Engine Initialization ---\n"
   ]
  },
  {
   "cell_type": "code",
   "execution_count": 3,
   "metadata": {},
   "outputs": [],
   "source": [
    "project = \"ee-anirudhananth\"\n",
    "# Use cli to authenticate\n",
    "# !earthengine authenticate\n",
    "\n",
    "# Or use the following code to authenticate\n",
    "def initialize_ee():\n",
    "  ee.Authenticate()\n",
    "  ee.Initialize(project=project, opt_url=\"https://earthengine-highvolume.googleapis.com\")"
   ]
  },
  {
   "cell_type": "code",
   "execution_count": 4,
   "metadata": {},
   "outputs": [],
   "source": [
    "initialize_ee()"
   ]
  },
  {
   "cell_type": "markdown",
   "metadata": {},
   "source": [
    "### --- Data Retreival Functions ---\n"
   ]
  },
  {
   "cell_type": "code",
   "execution_count": 5,
   "metadata": {},
   "outputs": [],
   "source": [
    "def get_modis_ndvi(date: datetime) -> ee.Image:\n",
    "    \"\"\"Gets MODIS NDVI data for a given date.\"\"\"\n",
    "    return (\n",
    "        ee.ImageCollection(\"MODIS/006/MOD13A2\")\n",
    "        .filterDate(date, date + timedelta(days=1))\n",
    "        .select(\"NDVI\")\n",
    "        .first()\n",
    "    )"
   ]
  },
  {
   "cell_type": "code",
   "execution_count": 6,
   "metadata": {},
   "outputs": [],
   "source": [
    "def get_landsat_image(date: datetime) -> ee.Image:\n",
    "    \"\"\"Gets a Landsat 8 image for the selected date.\"\"\"\n",
    "    return (\n",
    "        ee.ImageCollection(\"LANDSAT/8/C01/T1_SR\")\n",
    "        .filterDate(date, date  + timedelta(days=1))\n",
    "        .mosaic()\n",
    "    )"
   ]
  },
  {
   "cell_type": "code",
   "execution_count": 7,
   "metadata": {},
   "outputs": [],
   "source": [
    "def get_landsat_ndvi(image: ee.Image) -> ee.Image:\n",
    "    \"\"\"Calculates NDVI from a Landsat 8 image.\"\"\"\n",
    "    return image.normalizedDifference([\"B5\", \"B4\"]).rename(\"NDVI\")"
   ]
  },
  {
   "cell_type": "code",
   "execution_count": 8,
   "metadata": {},
   "outputs": [],
   "source": [
    "def get_landsat_lst(image: ee.Image) -> ee.Image:\n",
    "    \"\"\"\n",
    "    Calculates Land Surface Temperature from a Landsat 8 image.\n",
    "    This function is based on the formula in the following page https://developers.google.com/earth-engine/datasets/catalog/LANDSAT_LC08_C02_T1_L2\n",
    "    \"\"\"\n",
    "    return image.select(\"ST_B10\").multiply(0.00341802).add(149.0).rename(\"LST\")"
   ]
  },
  {
   "cell_type": "code",
   "execution_count": 9,
   "metadata": {},
   "outputs": [],
   "source": [
    "def get_land_cover(date: datetime) -> ee.Image:\n",
    "    \"\"\"Gets a Land Cover image for the given date.\"\"\"\n",
    "    return (\n",
    "        ee.ImageCollection(LAND_COVER_DATASET)\n",
    "        .filterDate(date, date + timedelta(days=30))\n",
    "        .select(\"label\")\n",
    "        .first()\n",
    "        # .rename(\"landcover\")\n",
    "        .unmask(0)  # fill missing values with 0 (water)\n",
    "        .byte()\n",
    "    )"
   ]
  },
  {
   "cell_type": "markdown",
   "metadata": {},
   "source": [
    "### --- Input and Label Image Composition ---\n"
   ]
  },
  {
   "cell_type": "code",
   "execution_count": 10,
   "metadata": {},
   "outputs": [],
   "source": [
    "def get_inputs_image(date: datetime) -> ee.Image:\n",
    "    \"\"\"Gets an Earth Engine image with all the inputs for the model.\"\"\"\n",
    "    # Get MODIS NDVI\n",
    "    modis_ndvi = get_modis_ndvi(date)\n",
    "\n",
    "    # Get Landsat data\n",
    "    landsat_image = get_landsat_image(date)\n",
    "    landsat_ndvi = get_landsat_ndvi(landsat_image)\n",
    "    landsat_lst = get_landsat_lst(landsat_image)\n",
    "\n",
    "    # Combine all input data\n",
    "    return ee.Image([modis_ndvi, landsat_ndvi, landsat_lst])"
   ]
  },
  {
   "cell_type": "code",
   "execution_count": 11,
   "metadata": {},
   "outputs": [],
   "source": [
    "def get_labels_image(year: int) -> ee.Image:\n",
    "    \"\"\"Gets a Land Cover image for the selected year and preprocesses it.\"\"\"\n",
    "    land_cover = get_land_cover(year)\n",
    "    # Add preprocessing steps if needed (e.g., remapping land cover classes)\n",
    "    return land_cover"
   ]
  },
  {
   "cell_type": "markdown",
   "metadata": {},
   "source": [
    "### --- Get input and labels for a given latitude and longitude ---\n"
   ]
  },
  {
   "cell_type": "code",
   "execution_count": 12,
   "metadata": {},
   "outputs": [],
   "source": [
    "@retry.Retry(deadline=10 * 60)  # seconds\n",
    "def get_patch(\n",
    "    image: ee.Image, lonlat: tuple[float, float], patch_size: int, scale: int\n",
    ") -> np.ndarray:\n",
    "    \"\"\"Fetches a patch of pixels from Earth Engine.\"\"\"\n",
    "    point = ee.Geometry.Point(lonlat)\n",
    "    url = image.getDownloadURL(\n",
    "        {\n",
    "            \"region\": point.buffer(scale * patch_size / 2, 1).bounds(1),\n",
    "            \"dimensions\": [patch_size, patch_size],\n",
    "            \"scale\": SCALE,\n",
    "            \"format\": \"NPY\",\n",
    "        }\n",
    "    )\n",
    "\n",
    "    # Retry on \"Too Many Requests\" errors\n",
    "    response = requests.get(url)\n",
    "    if response.status_code == 429:\n",
    "        raise exceptions.TooManyRequests(response.text)\n",
    "\n",
    "    # Raise other exceptions\n",
    "    response.raise_for_status()\n",
    "    return np.load(io.BytesIO(response.content), allow_pickle=True)"
   ]
  },
  {
   "cell_type": "code",
   "execution_count": 13,
   "metadata": {},
   "outputs": [],
   "source": [
    "def get_inputs_patch(\n",
    "    date: datetime, lonlat: tuple[float, float], patch_size: int\n",
    ") -> np.ndarray:\n",
    "    \"\"\"Gets the inputs patch of pixels for the given point and date.\"\"\"\n",
    "    image = get_inputs_image(date)\n",
    "    patch = get_patch(image, lonlat, patch_size, SCALE)\n",
    "    return structured_to_unstructured(patch)\n",
    "\n",
    "\n",
    "def get_labels_patch(\n",
    "    date: datetime, lonlat: tuple[float, float], patch_size: int\n",
    ") -> np.ndarray:\n",
    "    \"\"\"Gets the labels patch of pixels for the given point and year.\"\"\"\n",
    "    image = get_labels_image(date)\n",
    "    patch = get_patch(image, lonlat, patch_size, SCALE)\n",
    "    return structured_to_unstructured(patch)"
   ]
  },
  {
   "cell_type": "markdown",
   "metadata": {},
   "source": [
    "## Creating the dataset\n"
   ]
  },
  {
   "cell_type": "markdown",
   "metadata": {},
   "source": [
    "### --- Imports ---\n"
   ]
  },
  {
   "cell_type": "code",
   "execution_count": 14,
   "metadata": {},
   "outputs": [],
   "source": [
    "import logging\n",
    "import random\n",
    "from datetime import datetime, timedelta\n",
    "\n",
    "import dask.bag as db\n",
    "import dask\n",
    "from dask.bag.core import Bag\n",
    "from dask.distributed import Client\n",
    "import numpy as np\n",
    "import os\n",
    "import pandas as pd\n",
    "import uuid"
   ]
  },
  {
   "cell_type": "markdown",
   "metadata": {},
   "source": [
    "### --- Configs ---\n"
   ]
  },
  {
   "cell_type": "code",
   "execution_count": 15,
   "metadata": {},
   "outputs": [],
   "source": [
    "NUM_SAMPLES = 1000\n",
    "PATCH_SIZE = 128\n",
    "PARTITION_SIZE = 10\n",
    "START_DATE = \"2015-07-01\"\n",
    "END_DATE = \"2021-12-01\""
   ]
  },
  {
   "cell_type": "markdown",
   "metadata": {},
   "source": [
    "### --- Sample Points ---\n"
   ]
  },
  {
   "cell_type": "code",
   "execution_count": 64,
   "metadata": {},
   "outputs": [
    {
     "name": "stdout",
     "output_type": "stream",
     "text": [
      "Getting land cover for 2019-09-04 02:53:34\n",
      "Land cover snapshot date: 2019-09-04 02:56:00\n",
      "Getting land cover for 2016-05-26 11:28:45\n",
      "Land cover snapshot date: 2016-05-26 11:36:51\n"
     ]
    }
   ],
   "source": [
    "def random_date(start: datetime, end: datetime):\n",
    "    \"\"\"Generate a random datetime between `start` and `end`\"\"\"\n",
    "    return start + timedelta(\n",
    "        # Get a random amount of seconds between `start` and `end`\n",
    "        seconds=random.randint(0, int((end - start).total_seconds())),\n",
    "    )"
   ]
  },
  {
   "cell_type": "code",
   "execution_count": 71,
   "metadata": {},
   "outputs": [
    {
     "name": "stdout",
     "output_type": "stream",
     "text": [
      "Getting land cover for 2021-05-07 18:44:44\n",
      "Land cover snapshot date: 2021-05-07 19:06:52\n"
     ]
    }
   ],
   "source": [
    "def sample_points(date: datetime) -> tuple:\n",
    "    \"\"\"Samples points within the defined polygon for the given year.\"\"\"\n",
    "    while True:\n",
    "        initialize_ee()\n",
    "        dask.distributed.print(f\"Getting land cover for {date}\")\n",
    "        land_cover = get_land_cover(date)\n",
    "        snapshot_date = land_cover.date().format().getInfo()\n",
    "        snapshot_date = datetime.strptime(snapshot_date, \"%Y-%m-%dT%H:%M:%S\")\n",
    "        dask.distributed.print(f\"Land cover snapshot date: {snapshot_date}\")\n",
    "        points = land_cover.stratifiedSample(\n",
    "            numPoints=1,\n",
    "            region=ee.Geometry.MultiPolygon(WORLD_POLYGONS),\n",
    "            scale=WORLD_SCALE,\n",
    "            geometries=True,\n",
    "        )\n",
    "        dask.distributed.print(f\"Found for date {date} {points.size().getInfo()} points\")\n",
    "        if int(points.size().getInfo()) > 0:\n",
    "            point = points.toList(points.size()).getInfo()[0]\n",
    "            break\n",
    "        start_date = datetime.strptime(START_DATE, \"%Y-%m-%d\")\n",
    "        end_date = datetime.strptime(END_DATE, \"%Y-%m-%d\")\n",
    "        date = random_date(start_date, end_date)\n",
    "    return (snapshot_date, point[\"geometry\"][\"coordinates\"])"
   ]
  },
  {
   "cell_type": "markdown",
   "metadata": {},
   "source": [
    "### --- Prepare Training Data ---\n"
   ]
  },
  {
   "cell_type": "code",
   "execution_count": 17,
   "metadata": {},
   "outputs": [],
   "source": [
    "def get_training_example(date: datetime, point: tuple) -> tuple:\n",
    "    \"\"\"Gets an (inputs, labels) training example for land cover change prediction.\"\"\"\n",
    "    inputs = get_inputs_patch(date, point, PATCH_SIZE)\n",
    "    # Get land cover for the next day\n",
    "    labels = get_labels_patch(date + timedelta(days=1), point, PATCH_SIZE)\n",
    "    return (inputs, labels)"
   ]
  },
  {
   "cell_type": "code",
   "execution_count": 24,
   "metadata": {},
   "outputs": [
    {
     "name": "stdout",
     "output_type": "stream",
     "text": [
      "Found for date 2019-09-15 22:53:55 1 points\n",
      "Getting land cover for 2020-01-10 23:05:55\n",
      "Land cover snapshot date: 2020-01-10 23:11:54\n",
      "Found for date 2020-01-10 23:05:55 2 points\n",
      "Getting land cover for 2020-02-09 10:58:46\n",
      "Land cover snapshot date: 2020-02-09 11:01:30\n",
      "Found for date 2020-02-09 10:58:46 2 points\n",
      "Getting land cover for 2015-07-12 18:50:28\n",
      "Land cover snapshot date: 2015-07-15 09:43:08\n",
      "Found for date 2015-07-12 18:50:28 2 points\n",
      "Getting land cover for 2020-01-24 12:19:31\n",
      "Land cover snapshot date: 2020-01-24 12:34:56\n",
      "Found for date 2020-01-24 12:19:31 2 points\n"
     ]
    }
   ],
   "source": [
    "import dask.distributed\n",
    "\n",
    "\n",
    "def try_get_example(date: datetime, point: tuple) -> \"tuple | None\":\n",
    "    \"\"\"Wrapper to handle errors during training data generation.\"\"\"\n",
    "    ee.Initialize(project=project)\n",
    "    dask.distributed.print(f\"Generating training data for {date} at {point}\")\n",
    "    try:\n",
    "        return get_training_example(date, point)\n",
    "    except Exception as e:\n",
    "        dask.distributed.print(f\"Error occurred: {e}\")"
   ]
  },
  {
   "cell_type": "markdown",
   "metadata": {},
   "source": [
    "# --- Dask Workflow for Dataset Creation ---"
   ]
  },
  {
   "cell_type": "code",
   "execution_count": 20,
   "metadata": {},
   "outputs": [],
   "source": [
    "def write_npz(data: Bag, data_path: str) -> str:\n",
    "    \"\"\"Writes an (inputs, labels) set of data into a compressed NumPy file.\n",
    "\n",
    "    Args:\n",
    "        batch: Batch of (inputs, labels) pairs of NumPy arrays.\n",
    "        data_path: Directory path to save files to.\n",
    "\n",
    "    Returns: The filename of the data file.\n",
    "    \"\"\"\n",
    "    initialize_ee()\n",
    "    data.compute()\n",
    "    dask.distributed.print(f\"Writing {len(data)} data points to {data_path}\")\n",
    "    filename = os.path.join(data_path, f\"{uuid.uuid4()}.npz\")\n",
    "    with open(filename, \"xb\") as f:\n",
    "        inputs = [x for (x, _) in data]\n",
    "        labels = [y for (_, y) in data]\n",
    "        np.savez_compressed(f, inputs=inputs, labels=labels)\n",
    "    logging.info(filename)\n",
    "    return filename"
   ]
  },
  {
   "cell_type": "code",
   "execution_count": 21,
   "metadata": {},
   "outputs": [
    {
     "name": "stderr",
     "output_type": "stream",
     "text": [
      "/Users/ani/Desktop/Anirudh/Big Data/big_data_project/big-data/lib/python3.9/site-packages/distributed/node.py:182: UserWarning: Port 8787 is already in use.\n",
      "Perhaps you already have a cluster running?\n",
      "Hosting the HTTP server on port 52792 instead\n",
      "  warnings.warn(\n"
     ]
    },
    {
     "data": {
      "text/html": [
       "<div>\n",
       "    <div style=\"width: 24px; height: 24px; background-color: #e1e1e1; border: 3px solid #9D9D9D; border-radius: 5px; position: absolute;\"> </div>\n",
       "    <div style=\"margin-left: 48px;\">\n",
       "        <h3 style=\"margin-bottom: 0px;\">Client</h3>\n",
       "        <p style=\"color: #9D9D9D; margin-bottom: 0px;\">Client-ebeae6e0-01d8-11ef-863a-a6fc99635dbc</p>\n",
       "        <table style=\"width: 100%; text-align: left;\">\n",
       "\n",
       "        <tr>\n",
       "        \n",
       "            <td style=\"text-align: left;\"><strong>Connection method:</strong> Cluster object</td>\n",
       "            <td style=\"text-align: left;\"><strong>Cluster type:</strong> distributed.LocalCluster</td>\n",
       "        \n",
       "        </tr>\n",
       "\n",
       "        \n",
       "            <tr>\n",
       "                <td style=\"text-align: left;\">\n",
       "                    <strong>Dashboard: </strong> <a href=\"http://127.0.0.1:52792/status\" target=\"_blank\">http://127.0.0.1:52792/status</a>\n",
       "                </td>\n",
       "                <td style=\"text-align: left;\"></td>\n",
       "            </tr>\n",
       "        \n",
       "\n",
       "        </table>\n",
       "\n",
       "        \n",
       "\n",
       "        \n",
       "            <details>\n",
       "            <summary style=\"margin-bottom: 20px;\"><h3 style=\"display: inline;\">Cluster Info</h3></summary>\n",
       "            <div class=\"jp-RenderedHTMLCommon jp-RenderedHTML jp-mod-trusted jp-OutputArea-output\">\n",
       "    <div style=\"width: 24px; height: 24px; background-color: #e1e1e1; border: 3px solid #9D9D9D; border-radius: 5px; position: absolute;\">\n",
       "    </div>\n",
       "    <div style=\"margin-left: 48px;\">\n",
       "        <h3 style=\"margin-bottom: 0px; margin-top: 0px;\">LocalCluster</h3>\n",
       "        <p style=\"color: #9D9D9D; margin-bottom: 0px;\">1f53dcf4</p>\n",
       "        <table style=\"width: 100%; text-align: left;\">\n",
       "            <tr>\n",
       "                <td style=\"text-align: left;\">\n",
       "                    <strong>Dashboard:</strong> <a href=\"http://127.0.0.1:52792/status\" target=\"_blank\">http://127.0.0.1:52792/status</a>\n",
       "                </td>\n",
       "                <td style=\"text-align: left;\">\n",
       "                    <strong>Workers:</strong> 4\n",
       "                </td>\n",
       "            </tr>\n",
       "            <tr>\n",
       "                <td style=\"text-align: left;\">\n",
       "                    <strong>Total threads:</strong> 8\n",
       "                </td>\n",
       "                <td style=\"text-align: left;\">\n",
       "                    <strong>Total memory:</strong> 16.00 GiB\n",
       "                </td>\n",
       "            </tr>\n",
       "            \n",
       "            <tr>\n",
       "    <td style=\"text-align: left;\"><strong>Status:</strong> running</td>\n",
       "    <td style=\"text-align: left;\"><strong>Using processes:</strong> True</td>\n",
       "</tr>\n",
       "\n",
       "            \n",
       "        </table>\n",
       "\n",
       "        <details>\n",
       "            <summary style=\"margin-bottom: 20px;\">\n",
       "                <h3 style=\"display: inline;\">Scheduler Info</h3>\n",
       "            </summary>\n",
       "\n",
       "            <div style=\"\">\n",
       "    <div>\n",
       "        <div style=\"width: 24px; height: 24px; background-color: #FFF7E5; border: 3px solid #FF6132; border-radius: 5px; position: absolute;\"> </div>\n",
       "        <div style=\"margin-left: 48px;\">\n",
       "            <h3 style=\"margin-bottom: 0px;\">Scheduler</h3>\n",
       "            <p style=\"color: #9D9D9D; margin-bottom: 0px;\">Scheduler-f5556bf4-2b48-42a7-9e28-03e0d82e084d</p>\n",
       "            <table style=\"width: 100%; text-align: left;\">\n",
       "                <tr>\n",
       "                    <td style=\"text-align: left;\">\n",
       "                        <strong>Comm:</strong> tcp://127.0.0.1:52793\n",
       "                    </td>\n",
       "                    <td style=\"text-align: left;\">\n",
       "                        <strong>Workers:</strong> 4\n",
       "                    </td>\n",
       "                </tr>\n",
       "                <tr>\n",
       "                    <td style=\"text-align: left;\">\n",
       "                        <strong>Dashboard:</strong> <a href=\"http://127.0.0.1:52792/status\" target=\"_blank\">http://127.0.0.1:52792/status</a>\n",
       "                    </td>\n",
       "                    <td style=\"text-align: left;\">\n",
       "                        <strong>Total threads:</strong> 8\n",
       "                    </td>\n",
       "                </tr>\n",
       "                <tr>\n",
       "                    <td style=\"text-align: left;\">\n",
       "                        <strong>Started:</strong> Just now\n",
       "                    </td>\n",
       "                    <td style=\"text-align: left;\">\n",
       "                        <strong>Total memory:</strong> 16.00 GiB\n",
       "                    </td>\n",
       "                </tr>\n",
       "            </table>\n",
       "        </div>\n",
       "    </div>\n",
       "\n",
       "    <details style=\"margin-left: 48px;\">\n",
       "        <summary style=\"margin-bottom: 20px;\">\n",
       "            <h3 style=\"display: inline;\">Workers</h3>\n",
       "        </summary>\n",
       "\n",
       "        \n",
       "        <div style=\"margin-bottom: 20px;\">\n",
       "            <div style=\"width: 24px; height: 24px; background-color: #DBF5FF; border: 3px solid #4CC9FF; border-radius: 5px; position: absolute;\"> </div>\n",
       "            <div style=\"margin-left: 48px;\">\n",
       "            <details>\n",
       "                <summary>\n",
       "                    <h4 style=\"margin-bottom: 0px; display: inline;\">Worker: 0</h4>\n",
       "                </summary>\n",
       "                <table style=\"width: 100%; text-align: left;\">\n",
       "                    <tr>\n",
       "                        <td style=\"text-align: left;\">\n",
       "                            <strong>Comm: </strong> tcp://127.0.0.1:52806\n",
       "                        </td>\n",
       "                        <td style=\"text-align: left;\">\n",
       "                            <strong>Total threads: </strong> 2\n",
       "                        </td>\n",
       "                    </tr>\n",
       "                    <tr>\n",
       "                        <td style=\"text-align: left;\">\n",
       "                            <strong>Dashboard: </strong> <a href=\"http://127.0.0.1:52811/status\" target=\"_blank\">http://127.0.0.1:52811/status</a>\n",
       "                        </td>\n",
       "                        <td style=\"text-align: left;\">\n",
       "                            <strong>Memory: </strong> 4.00 GiB\n",
       "                        </td>\n",
       "                    </tr>\n",
       "                    <tr>\n",
       "                        <td style=\"text-align: left;\">\n",
       "                            <strong>Nanny: </strong> tcp://127.0.0.1:52796\n",
       "                        </td>\n",
       "                        <td style=\"text-align: left;\"></td>\n",
       "                    </tr>\n",
       "                    <tr>\n",
       "                        <td colspan=\"2\" style=\"text-align: left;\">\n",
       "                            <strong>Local directory: </strong> /var/folders/cx/87dk66wd4x75lqp06c180d5m0000gn/T/dask-scratch-space/worker-mgphyn9j\n",
       "                        </td>\n",
       "                    </tr>\n",
       "\n",
       "                    \n",
       "\n",
       "                    \n",
       "\n",
       "                </table>\n",
       "            </details>\n",
       "            </div>\n",
       "        </div>\n",
       "        \n",
       "        <div style=\"margin-bottom: 20px;\">\n",
       "            <div style=\"width: 24px; height: 24px; background-color: #DBF5FF; border: 3px solid #4CC9FF; border-radius: 5px; position: absolute;\"> </div>\n",
       "            <div style=\"margin-left: 48px;\">\n",
       "            <details>\n",
       "                <summary>\n",
       "                    <h4 style=\"margin-bottom: 0px; display: inline;\">Worker: 1</h4>\n",
       "                </summary>\n",
       "                <table style=\"width: 100%; text-align: left;\">\n",
       "                    <tr>\n",
       "                        <td style=\"text-align: left;\">\n",
       "                            <strong>Comm: </strong> tcp://127.0.0.1:52804\n",
       "                        </td>\n",
       "                        <td style=\"text-align: left;\">\n",
       "                            <strong>Total threads: </strong> 2\n",
       "                        </td>\n",
       "                    </tr>\n",
       "                    <tr>\n",
       "                        <td style=\"text-align: left;\">\n",
       "                            <strong>Dashboard: </strong> <a href=\"http://127.0.0.1:52808/status\" target=\"_blank\">http://127.0.0.1:52808/status</a>\n",
       "                        </td>\n",
       "                        <td style=\"text-align: left;\">\n",
       "                            <strong>Memory: </strong> 4.00 GiB\n",
       "                        </td>\n",
       "                    </tr>\n",
       "                    <tr>\n",
       "                        <td style=\"text-align: left;\">\n",
       "                            <strong>Nanny: </strong> tcp://127.0.0.1:52797\n",
       "                        </td>\n",
       "                        <td style=\"text-align: left;\"></td>\n",
       "                    </tr>\n",
       "                    <tr>\n",
       "                        <td colspan=\"2\" style=\"text-align: left;\">\n",
       "                            <strong>Local directory: </strong> /var/folders/cx/87dk66wd4x75lqp06c180d5m0000gn/T/dask-scratch-space/worker-ky8u2kz5\n",
       "                        </td>\n",
       "                    </tr>\n",
       "\n",
       "                    \n",
       "\n",
       "                    \n",
       "\n",
       "                </table>\n",
       "            </details>\n",
       "            </div>\n",
       "        </div>\n",
       "        \n",
       "        <div style=\"margin-bottom: 20px;\">\n",
       "            <div style=\"width: 24px; height: 24px; background-color: #DBF5FF; border: 3px solid #4CC9FF; border-radius: 5px; position: absolute;\"> </div>\n",
       "            <div style=\"margin-left: 48px;\">\n",
       "            <details>\n",
       "                <summary>\n",
       "                    <h4 style=\"margin-bottom: 0px; display: inline;\">Worker: 2</h4>\n",
       "                </summary>\n",
       "                <table style=\"width: 100%; text-align: left;\">\n",
       "                    <tr>\n",
       "                        <td style=\"text-align: left;\">\n",
       "                            <strong>Comm: </strong> tcp://127.0.0.1:52805\n",
       "                        </td>\n",
       "                        <td style=\"text-align: left;\">\n",
       "                            <strong>Total threads: </strong> 2\n",
       "                        </td>\n",
       "                    </tr>\n",
       "                    <tr>\n",
       "                        <td style=\"text-align: left;\">\n",
       "                            <strong>Dashboard: </strong> <a href=\"http://127.0.0.1:52810/status\" target=\"_blank\">http://127.0.0.1:52810/status</a>\n",
       "                        </td>\n",
       "                        <td style=\"text-align: left;\">\n",
       "                            <strong>Memory: </strong> 4.00 GiB\n",
       "                        </td>\n",
       "                    </tr>\n",
       "                    <tr>\n",
       "                        <td style=\"text-align: left;\">\n",
       "                            <strong>Nanny: </strong> tcp://127.0.0.1:52798\n",
       "                        </td>\n",
       "                        <td style=\"text-align: left;\"></td>\n",
       "                    </tr>\n",
       "                    <tr>\n",
       "                        <td colspan=\"2\" style=\"text-align: left;\">\n",
       "                            <strong>Local directory: </strong> /var/folders/cx/87dk66wd4x75lqp06c180d5m0000gn/T/dask-scratch-space/worker-8_b7wtyt\n",
       "                        </td>\n",
       "                    </tr>\n",
       "\n",
       "                    \n",
       "\n",
       "                    \n",
       "\n",
       "                </table>\n",
       "            </details>\n",
       "            </div>\n",
       "        </div>\n",
       "        \n",
       "        <div style=\"margin-bottom: 20px;\">\n",
       "            <div style=\"width: 24px; height: 24px; background-color: #DBF5FF; border: 3px solid #4CC9FF; border-radius: 5px; position: absolute;\"> </div>\n",
       "            <div style=\"margin-left: 48px;\">\n",
       "            <details>\n",
       "                <summary>\n",
       "                    <h4 style=\"margin-bottom: 0px; display: inline;\">Worker: 3</h4>\n",
       "                </summary>\n",
       "                <table style=\"width: 100%; text-align: left;\">\n",
       "                    <tr>\n",
       "                        <td style=\"text-align: left;\">\n",
       "                            <strong>Comm: </strong> tcp://127.0.0.1:52807\n",
       "                        </td>\n",
       "                        <td style=\"text-align: left;\">\n",
       "                            <strong>Total threads: </strong> 2\n",
       "                        </td>\n",
       "                    </tr>\n",
       "                    <tr>\n",
       "                        <td style=\"text-align: left;\">\n",
       "                            <strong>Dashboard: </strong> <a href=\"http://127.0.0.1:52809/status\" target=\"_blank\">http://127.0.0.1:52809/status</a>\n",
       "                        </td>\n",
       "                        <td style=\"text-align: left;\">\n",
       "                            <strong>Memory: </strong> 4.00 GiB\n",
       "                        </td>\n",
       "                    </tr>\n",
       "                    <tr>\n",
       "                        <td style=\"text-align: left;\">\n",
       "                            <strong>Nanny: </strong> tcp://127.0.0.1:52799\n",
       "                        </td>\n",
       "                        <td style=\"text-align: left;\"></td>\n",
       "                    </tr>\n",
       "                    <tr>\n",
       "                        <td colspan=\"2\" style=\"text-align: left;\">\n",
       "                            <strong>Local directory: </strong> /var/folders/cx/87dk66wd4x75lqp06c180d5m0000gn/T/dask-scratch-space/worker-qgzb708d\n",
       "                        </td>\n",
       "                    </tr>\n",
       "\n",
       "                    \n",
       "\n",
       "                    \n",
       "\n",
       "                </table>\n",
       "            </details>\n",
       "            </div>\n",
       "        </div>\n",
       "        \n",
       "\n",
       "    </details>\n",
       "</div>\n",
       "\n",
       "        </details>\n",
       "    </div>\n",
       "</div>\n",
       "            </details>\n",
       "        \n",
       "\n",
       "    </div>\n",
       "</div>"
      ],
      "text/plain": [
       "<Client: 'tcp://127.0.0.1:52793' processes=4 threads=8, memory=16.00 GiB>"
      ]
     },
     "execution_count": 21,
     "metadata": {},
     "output_type": "execute_result"
    }
   ],
   "source": [
    "client = Client()\n",
    "client"
   ]
  },
  {
   "cell_type": "code",
   "execution_count": 65,
   "metadata": {},
   "outputs": [],
   "source": [
    "def run(data_path: str, samples: int = NUM_SAMPLES) -> None:\n",
    "    \"\"\"Runs the Dask workflow to generate the dataset.\"\"\"\n",
    "\n",
    "    # Generate dates from the start date to the end date\n",
    "    start_date = datetime.strptime(START_DATE, \"%Y-%m-%d\")\n",
    "    end_date = datetime.strptime(END_DATE, \"%Y-%m-%d\")\n",
    "\n",
    "    random_dates = [random_date(start_date, end_date) for _ in range(samples)]\n",
    "\n",
    "    # Authenticate and initialize Earth Engine.\n",
    "    initialize_ee()\n",
    "    print(client)\n",
    "\n",
    "    def wrapper(data, data_path):\n",
    "        return write_npz(data, data_path)\n",
    "\n",
    "    points = (\n",
    "        db.from_sequence(random_dates, npartitions=PARTITION_SIZE)\n",
    "        .map(sample_points)\n",
    "        .compute()\n",
    "    )\n",
    "    dask.distributed.print(points.count)\n",
    "    training_data = list(\n",
    "        db.from_sequence(points, npartitions=PARTITION_SIZE)\n",
    "        .map(try_get_example)\n",
    "        .filter(lambda x: x is not None)\n",
    "    )\n",
    "    # training_data = list(bag.map(try_get_example).filter(lambda x: x is not None))\n",
    "\n",
    "    db.from_sequence(training_data, npartitions=PARTITION_SIZE).map_partitions(\n",
    "        wrapper, data_path=data_path\n",
    "    ).compute()\n",
    "    training_data.map_partitions(wrapper, data_path=data_path).compute()"
   ]
  },
  {
   "cell_type": "markdown",
   "metadata": {},
   "source": [
    "### --- Perform Dataset Creation ---"
   ]
  },
  {
   "cell_type": "code",
   "execution_count": 72,
   "metadata": {},
   "outputs": [
    {
     "name": "stdout",
     "output_type": "stream",
     "text": [
      "<Client: 'tcp://127.0.0.1:52793' processes=4 threads=8, memory=16.00 GiB>\n",
      "Found for date 2016-08-16 19:57:10 2 points\n",
      "Getting land cover for 2016-08-11 01:16:50\n",
      "Land cover snapshot date: 2016-08-11 01:26:58\n",
      "Getting land cover for 2021-04-10 12:21:28\n",
      "Land cover snapshot date: 2021-04-10 12:31:54\n",
      "Getting land cover for 2020-08-30 19:05:38\n",
      "Land cover snapshot date: 2020-08-30 19:14:16\n"
     ]
    },
    {
     "name": "stderr",
     "output_type": "stream",
     "text": [
      "2024-04-24 00:44:15,441 - distributed.worker - WARNING - Compute Failed\n",
      "Key:       ('sample_points-749fed88dfe4ed3d89f6e74302a7e814', 3)\n",
      "Function:  execute_task\n",
      "args:      ((<function reify at 0x114da1820>, (<function map_chunk at 0x114da1c10>, <function sample_points at 0x1255bc820>, [[datetime.datetime(2016, 12, 8, 19, 21, 19), datetime.datetime(2018, 7, 30, 20, 48, 2), datetime.datetime(2020, 11, 5, 21, 43, 54), datetime.datetime(2017, 12, 13, 5, 51, 42), datetime.datetime(2020, 11, 2, 17, 23, 27), datetime.datetime(2018, 6, 16, 22, 10, 11), datetime.datetime(2019, 12, 20, 2, 21, 36), datetime.datetime(2016, 9, 6, 23, 48, 46), datetime.datetime(2020, 8, 24, 15, 9, 57), datetime.datetime(2019, 11, 24, 10, 0, 43), datetime.datetime(2021, 1, 29, 13, 17, 56), datetime.datetime(2017, 8, 16, 7, 16, 13), datetime.datetime(2017, 9, 27, 9, 41, 28), datetime.datetime(2020, 2, 24, 12, 36, 32), datetime.datetime(2017, 7, 3, 19, 32, 48), datetime.datetime(2018, 4, 24, 21, 14, 10), datetime.datetime(2020, 6, 11, 17, 38, 52), datetime.datetime(2018, 12, 26, 5, 13, 3), datetime.datetime(2021, 7, 28, 14, 40, 23), datetime.datetime(2020, 1, 19, 18, 33, 53), datetime.da\n",
      "kwargs:    {}\n",
      "Exception: 'TypeError(\"unsupported operand type(s) for -: \\'str\\' and \\'str\\'\")'\n",
      "\n"
     ]
    },
    {
     "name": "stdout",
     "output_type": "stream",
     "text": [
      "Getting land cover for 2017-12-07 11:19:10\n",
      "Found for date 2020-08-30 19:05:38 2 points\n",
      "Land cover snapshot date: 2017-12-07 11:44:48\n",
      "Getting land cover for 2018-05-29 10:18:58\n",
      "Land cover snapshot date: 2018-05-29 10:42:17\n",
      "Getting land cover for 2017-11-16 19:46:40\n",
      "Land cover snapshot date: 2017-11-16 19:46:54\n",
      "Found for date 2017-04-03 01:58:36 2 points\n",
      "Getting land cover for 2019-02-20 09:54:42\n",
      "Land cover snapshot date: 2019-02-20 10:13:00\n",
      "Getting land cover for 2020-02-21 20:25:14\n",
      "Land cover snapshot date: 2020-02-21 20:29:23\n",
      "Getting land cover for 2018-09-13 13:46:50\n",
      "Land cover snapshot date: 2018-09-13 13:52:20\n",
      "Found for date 2016-08-11 01:16:50 4 points\n",
      "Getting land cover for 2020-09-15 16:12:48\n",
      "Land cover snapshot date: 2020-09-15 16:20:53\n",
      "Found for date 2018-05-29 10:18:58 1 points\n",
      "Getting land cover for 2018-02-05 11:39:46\n",
      "Land cover snapshot date: 2018-02-05 11:43:45\n",
      "Getting land cover for 2018-04-28 05:49:34\n",
      "Land cover snapshot date: 2018-04-28 06:04:35\n",
      "Found for date 2019-04-05 12:44:06 2 points\n",
      "Getting land cover for 2020-01-17 08:08:32\n",
      "Land cover snapshot date: 2020-01-17 08:12:43\n",
      "Found for date 2017-12-07 11:19:10 3 points\n",
      "Getting land cover for 2016-01-02 12:53:50\n",
      "Land cover snapshot date: 2016-01-02 12:58:11\n",
      "Getting land cover for 2018-10-16 15:08:24\n",
      "Land cover snapshot date: 2018-10-16 15:12:12\n",
      "Getting land cover for 2019-12-21 03:12:27\n",
      "Land cover snapshot date: 2019-12-21 03:20:08\n",
      "Getting land cover for 2015-12-08 22:59:38\n",
      "Land cover snapshot date: 2015-12-08 23:48:12\n",
      "Found for date 2016-01-02 12:53:50 3 points\n",
      "Found for date 2019-12-21 03:12:27 1 points\n",
      "Getting land cover for 2020-09-01 02:29:20\n",
      "Land cover snapshot date: 2020-09-01 02:31:47\n",
      "Getting land cover for 2021-05-20 13:09:36\n",
      "Land cover snapshot date: 2021-05-20 13:18:28\n"
     ]
    },
    {
     "ename": "KeyboardInterrupt",
     "evalue": "",
     "output_type": "error",
     "traceback": [
      "\u001b[0;31m---------------------------------------------------------------------------\u001b[0m",
      "\u001b[0;31mKeyboardInterrupt\u001b[0m                         Traceback (most recent call last)",
      "Cell \u001b[0;32mIn[72], line 2\u001b[0m\n\u001b[1;32m      1\u001b[0m logging\u001b[38;5;241m.\u001b[39mgetLogger()\u001b[38;5;241m.\u001b[39msetLevel(logging\u001b[38;5;241m.\u001b[39mINFO)\n\u001b[0;32m----> 2\u001b[0m \u001b[43mrun\u001b[49m\u001b[43m(\u001b[49m\u001b[38;5;124;43m\"\u001b[39;49m\u001b[38;5;124;43mdata/climate_change/\u001b[39;49m\u001b[38;5;124;43m\"\u001b[39;49m\u001b[43m)\u001b[49m\n",
      "Cell \u001b[0;32mIn[65], line 18\u001b[0m, in \u001b[0;36mrun\u001b[0;34m(data_path, samples)\u001b[0m\n\u001b[1;32m     14\u001b[0m \u001b[38;5;28;01mdef\u001b[39;00m \u001b[38;5;21mwrapper\u001b[39m(data, data_path):\n\u001b[1;32m     15\u001b[0m     \u001b[38;5;28;01mreturn\u001b[39;00m write_npz(data, data_path)\n\u001b[1;32m     17\u001b[0m points \u001b[38;5;241m=\u001b[39m (\n\u001b[0;32m---> 18\u001b[0m     \u001b[43mdb\u001b[49m\u001b[38;5;241;43m.\u001b[39;49m\u001b[43mfrom_sequence\u001b[49m\u001b[43m(\u001b[49m\u001b[43mrandom_dates\u001b[49m\u001b[43m,\u001b[49m\u001b[43m \u001b[49m\u001b[43mnpartitions\u001b[49m\u001b[38;5;241;43m=\u001b[39;49m\u001b[43mPARTITION_SIZE\u001b[49m\u001b[43m)\u001b[49m\n\u001b[1;32m     19\u001b[0m \u001b[43m    \u001b[49m\u001b[38;5;241;43m.\u001b[39;49m\u001b[43mmap\u001b[49m\u001b[43m(\u001b[49m\u001b[43msample_points\u001b[49m\u001b[43m)\u001b[49m\n\u001b[1;32m     20\u001b[0m \u001b[43m    \u001b[49m\u001b[38;5;241;43m.\u001b[39;49m\u001b[43mcompute\u001b[49m\u001b[43m(\u001b[49m\u001b[43m)\u001b[49m\n\u001b[1;32m     21\u001b[0m )\n\u001b[1;32m     22\u001b[0m dask\u001b[38;5;241m.\u001b[39mdistributed\u001b[38;5;241m.\u001b[39mprint(points\u001b[38;5;241m.\u001b[39mcount)\n\u001b[1;32m     23\u001b[0m training_data \u001b[38;5;241m=\u001b[39m \u001b[38;5;28mlist\u001b[39m(\n\u001b[1;32m     24\u001b[0m     db\u001b[38;5;241m.\u001b[39mfrom_sequence(points, npartitions\u001b[38;5;241m=\u001b[39mPARTITION_SIZE)\n\u001b[1;32m     25\u001b[0m     \u001b[38;5;241m.\u001b[39mmap(try_get_example)\n\u001b[1;32m     26\u001b[0m     \u001b[38;5;241m.\u001b[39mfilter(\u001b[38;5;28;01mlambda\u001b[39;00m x: x \u001b[38;5;129;01mis\u001b[39;00m \u001b[38;5;129;01mnot\u001b[39;00m \u001b[38;5;28;01mNone\u001b[39;00m)\n\u001b[1;32m     27\u001b[0m )\n",
      "File \u001b[0;32m~/Desktop/Anirudh/Big Data/big_data_project/big-data/lib/python3.9/site-packages/dask/base.py:375\u001b[0m, in \u001b[0;36mDaskMethodsMixin.compute\u001b[0;34m(self, **kwargs)\u001b[0m\n\u001b[1;32m    351\u001b[0m \u001b[38;5;28;01mdef\u001b[39;00m \u001b[38;5;21mcompute\u001b[39m(\u001b[38;5;28mself\u001b[39m, \u001b[38;5;241m*\u001b[39m\u001b[38;5;241m*\u001b[39mkwargs):\n\u001b[1;32m    352\u001b[0m \u001b[38;5;250m    \u001b[39m\u001b[38;5;124;03m\"\"\"Compute this dask collection\u001b[39;00m\n\u001b[1;32m    353\u001b[0m \n\u001b[1;32m    354\u001b[0m \u001b[38;5;124;03m    This turns a lazy Dask collection into its in-memory equivalent.\u001b[39;00m\n\u001b[0;32m   (...)\u001b[0m\n\u001b[1;32m    373\u001b[0m \u001b[38;5;124;03m    dask.compute\u001b[39;00m\n\u001b[1;32m    374\u001b[0m \u001b[38;5;124;03m    \"\"\"\u001b[39;00m\n\u001b[0;32m--> 375\u001b[0m     (result,) \u001b[38;5;241m=\u001b[39m \u001b[43mcompute\u001b[49m\u001b[43m(\u001b[49m\u001b[38;5;28;43mself\u001b[39;49m\u001b[43m,\u001b[49m\u001b[43m \u001b[49m\u001b[43mtraverse\u001b[49m\u001b[38;5;241;43m=\u001b[39;49m\u001b[38;5;28;43;01mFalse\u001b[39;49;00m\u001b[43m,\u001b[49m\u001b[43m \u001b[49m\u001b[38;5;241;43m*\u001b[39;49m\u001b[38;5;241;43m*\u001b[39;49m\u001b[43mkwargs\u001b[49m\u001b[43m)\u001b[49m\n\u001b[1;32m    376\u001b[0m     \u001b[38;5;28;01mreturn\u001b[39;00m result\n",
      "File \u001b[0;32m~/Desktop/Anirudh/Big Data/big_data_project/big-data/lib/python3.9/site-packages/dask/base.py:661\u001b[0m, in \u001b[0;36mcompute\u001b[0;34m(traverse, optimize_graph, scheduler, get, *args, **kwargs)\u001b[0m\n\u001b[1;32m    658\u001b[0m     postcomputes\u001b[38;5;241m.\u001b[39mappend(x\u001b[38;5;241m.\u001b[39m__dask_postcompute__())\n\u001b[1;32m    660\u001b[0m \u001b[38;5;28;01mwith\u001b[39;00m shorten_traceback():\n\u001b[0;32m--> 661\u001b[0m     results \u001b[38;5;241m=\u001b[39m \u001b[43mschedule\u001b[49m\u001b[43m(\u001b[49m\u001b[43mdsk\u001b[49m\u001b[43m,\u001b[49m\u001b[43m \u001b[49m\u001b[43mkeys\u001b[49m\u001b[43m,\u001b[49m\u001b[43m \u001b[49m\u001b[38;5;241;43m*\u001b[39;49m\u001b[38;5;241;43m*\u001b[39;49m\u001b[43mkwargs\u001b[49m\u001b[43m)\u001b[49m\n\u001b[1;32m    663\u001b[0m \u001b[38;5;28;01mreturn\u001b[39;00m repack([f(r, \u001b[38;5;241m*\u001b[39ma) \u001b[38;5;28;01mfor\u001b[39;00m r, (f, a) \u001b[38;5;129;01min\u001b[39;00m \u001b[38;5;28mzip\u001b[39m(results, postcomputes)])\n",
      "File \u001b[0;32m/Applications/Xcode.app/Contents/Developer/Library/Frameworks/Python3.framework/Versions/3.9/lib/python3.9/threading.py:574\u001b[0m, in \u001b[0;36mEvent.wait\u001b[0;34m(self, timeout)\u001b[0m\n\u001b[1;32m    572\u001b[0m signaled \u001b[38;5;241m=\u001b[39m \u001b[38;5;28mself\u001b[39m\u001b[38;5;241m.\u001b[39m_flag\n\u001b[1;32m    573\u001b[0m \u001b[38;5;28;01mif\u001b[39;00m \u001b[38;5;129;01mnot\u001b[39;00m signaled:\n\u001b[0;32m--> 574\u001b[0m     signaled \u001b[38;5;241m=\u001b[39m \u001b[38;5;28;43mself\u001b[39;49m\u001b[38;5;241;43m.\u001b[39;49m\u001b[43m_cond\u001b[49m\u001b[38;5;241;43m.\u001b[39;49m\u001b[43mwait\u001b[49m\u001b[43m(\u001b[49m\u001b[43mtimeout\u001b[49m\u001b[43m)\u001b[49m\n\u001b[1;32m    575\u001b[0m \u001b[38;5;28;01mreturn\u001b[39;00m signaled\n",
      "File \u001b[0;32m/Applications/Xcode.app/Contents/Developer/Library/Frameworks/Python3.framework/Versions/3.9/lib/python3.9/threading.py:316\u001b[0m, in \u001b[0;36mCondition.wait\u001b[0;34m(self, timeout)\u001b[0m\n\u001b[1;32m    314\u001b[0m \u001b[38;5;28;01melse\u001b[39;00m:\n\u001b[1;32m    315\u001b[0m     \u001b[38;5;28;01mif\u001b[39;00m timeout \u001b[38;5;241m>\u001b[39m \u001b[38;5;241m0\u001b[39m:\n\u001b[0;32m--> 316\u001b[0m         gotit \u001b[38;5;241m=\u001b[39m \u001b[43mwaiter\u001b[49m\u001b[38;5;241;43m.\u001b[39;49m\u001b[43macquire\u001b[49m\u001b[43m(\u001b[49m\u001b[38;5;28;43;01mTrue\u001b[39;49;00m\u001b[43m,\u001b[49m\u001b[43m \u001b[49m\u001b[43mtimeout\u001b[49m\u001b[43m)\u001b[49m\n\u001b[1;32m    317\u001b[0m     \u001b[38;5;28;01melse\u001b[39;00m:\n\u001b[1;32m    318\u001b[0m         gotit \u001b[38;5;241m=\u001b[39m waiter\u001b[38;5;241m.\u001b[39macquire(\u001b[38;5;28;01mFalse\u001b[39;00m)\n",
      "\u001b[0;31mKeyboardInterrupt\u001b[0m: "
     ]
    },
    {
     "name": "stdout",
     "output_type": "stream",
     "text": [
      "Found for date 2018-02-05 11:39:46 1 points\n",
      "Getting land cover for 2018-06-07 15:51:18\n",
      "Land cover snapshot date: 2018-06-07 15:55:25\n",
      "Getting land cover for 2018-02-03 06:01:32\n",
      "Land cover snapshot date: 2018-02-03 06:06:32\n",
      "Found for date 2015-12-08 22:59:38 2 points\n",
      "Getting land cover for 2021-11-21 23:49:33\n",
      "Land cover snapshot date: 2021-11-21 23:49:48\n",
      "Found for date 2018-10-16 15:08:24 1 points\n",
      "Getting land cover for 2017-12-11 12:57:19\n",
      "Land cover snapshot date: 2017-12-11 13:10:22\n",
      "Found for date 2020-09-01 02:29:20 0 points\n",
      "Getting land cover for 2020-10-01 20:13:59\n",
      "Land cover snapshot date: 2020-10-01 20:34:57\n",
      "Getting land cover for 2017-05-05 12:38:50\n",
      "Land cover snapshot date: 2017-05-05 12:57:07\n",
      "Getting land cover for 2021-08-23 13:33:21\n",
      "Land cover snapshot date: 2021-08-23 13:50:15\n",
      "Getting land cover for 2018-04-08 13:39:16\n",
      "Land cover snapshot date: 2018-04-08 13:46:36\n",
      "Getting land cover for 2018-03-06 05:03:17\n",
      "Land cover snapshot date: 2018-03-06 05:12:26\n"
     ]
    }
   ],
   "source": [
    "logging.getLogger().setLevel(logging.INFO)\n",
    "run(\"data/climate_change/\")"
   ]
  },
  {
   "cell_type": "code",
   "execution_count": null,
   "metadata": {},
   "outputs": [],
   "source": []
  }
 ],
 "metadata": {
  "kernelspec": {
   "display_name": "bigdata.venv",
   "language": "python",
   "name": "python3"
  },
  "language_info": {
   "codemirror_mode": {
    "name": "ipython",
    "version": 3
   },
   "file_extension": ".py",
   "mimetype": "text/x-python",
   "name": "python",
   "nbconvert_exporter": "python",
   "pygments_lexer": "ipython3",
   "version": "3.9.6"
  }
 },
 "nbformat": 4,
 "nbformat_minor": 2
}
